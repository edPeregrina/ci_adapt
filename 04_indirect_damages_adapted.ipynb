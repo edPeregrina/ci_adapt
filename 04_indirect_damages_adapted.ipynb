{
 "cells": [
  {
   "cell_type": "markdown",
   "metadata": {},
   "source": [
    "This notebook calculates the change in indirect damage for specified hazard maps"
   ]
  },
  {
   "cell_type": "code",
   "execution_count": 1,
   "metadata": {},
   "outputs": [],
   "source": [
    "# Imports\n",
    "import configparser\n",
    "from pathlib import Path\n",
    "import pathlib\n",
    "from direct_damages import damagescanner_rail_track as ds\n",
    "import pandas as pd\n",
    "import geopandas as gpd\n",
    "# import datetime\n",
    "from ci_adapt_utilities import *\n",
    "import pickle\n",
    "import networkx as nx"
   ]
  },
  {
   "cell_type": "code",
   "execution_count": 2,
   "metadata": {},
   "outputs": [],
   "source": [
    "# Load configuration with ini file (created running config.py)\n",
    "config_file=r'C:\\repos\\ci_adapt\\config_ci_adapt.ini'\n",
    "config = configparser.ConfigParser()\n",
    "config.read(config_file)\n",
    "\n",
    "p = Path('..')\n",
    "hazard_type = config.get('DEFAULT', 'hazard_type')\n",
    "infra_type = config.get('DEFAULT', 'infra_type')\n",
    "country_code = config.get('DEFAULT', 'country_code')\n",
    "country_name = config.get('DEFAULT', 'country_name')\n",
    "hazard_data_subfolders = config.get('DEFAULT', 'hazard_data_subfolders')\n",
    "asset_data = config.get('DEFAULT', 'asset_data')\n",
    "vulnerability_data = config.get('DEFAULT', 'vulnerability_data')\n",
    "data_path = Path(pathlib.Path.home().parts[0]) / 'Data'\n",
    "interim_data_path = data_path / 'interim' / 'collected_flood_runs'"
   ]
  },
  {
   "cell_type": "code",
   "execution_count": 3,
   "metadata": {},
   "outputs": [],
   "source": [
    "# Define costs for different transport modes\n",
    "average_train_load_tons = (896+1344+2160+1344+896+896+1344+1512+896+390)/10 # in Tons per train. Source: Kennisinstituut voor Mobiliteitsbeleid. 2023. Cost Figures for Freight Transport – final report\n",
    "average_train_cost_per_ton_km = (0.014+0.018+0.047+0.045)/4 # in Euros per ton per km. Source: Kennisinstituut voor Mobiliteitsbeleid. 2023. Cost Figures for Freight Transport – final report\n",
    "average_road_cost_per_ton_km = (0.395+0.375+0.246+0.203+0.138+0.153+0.125+0.103+0.122+0.099)/10 # in Euros per ton per km. Source: Kennisinstituut voor Mobiliteitsbeleid. 2023. Cost Figures for Freight Transport – final report"
   ]
  },
  {
   "cell_type": "code",
   "execution_count": 4,
   "metadata": {},
   "outputs": [],
   "source": [
    "def calculate_new_paths(graph0, shortest_paths, disrupted_edges):\n",
    "    graph=graph0.copy()\n",
    "    for u,v in set(disrupted_edges):\n",
    "        graph.remove_edge(u,v,0)\n",
    "        \n",
    "    disrupted_shortest_paths={}\n",
    "    for (origin,destination), (nodes_in_spath,demand) in shortest_paths.items():\n",
    "        edges_in_spath=[(nodes_in_spath[i],nodes_in_spath[i+1]) for i in range(len(nodes_in_spath)-1)]\n",
    "        if set(disrupted_edges).isdisjoint(edges_in_spath):\n",
    "            continue\n",
    "        else:\n",
    "            try:\n",
    "                disrupted_shortest_paths[(origin,destination)] = (nx.shortest_path(graph, origin, destination, weight='weight'), demand)\n",
    "            except nx.NetworkXNoPath:\n",
    "                print(f'No path between {origin} and {destination}. Cannot ship by train.')\n",
    "                disrupted_shortest_paths[(origin,destination)] = (None, demand)\n",
    "                continue\n",
    "    \n",
    "    return disrupted_shortest_paths\n",
    "\n",
    "def calculate_economic_impact_shortest_paths(graph, shortest_paths, disrupted_shortest_paths, average_train_load_tons, average_train_cost_per_ton_km, average_road_cost_per_ton_km):\n",
    "    # Initialize the economic impact variable\n",
    "    economic_impact = 0\n",
    "    # Loop through the edges where there is a change in flow\n",
    "    for (origin, destination), (nodes_in_path, demand) in disrupted_shortest_paths.items():\n",
    "        length_old_path=0\n",
    "        for i in range(len(shortest_paths[(origin, destination)][0])-1):\n",
    "            length_old_path += graph.edges[shortest_paths[(origin, destination)][0][i], shortest_paths[(origin, destination)][0][i+1], 0]['length']/1000\n",
    "                     \n",
    "        if (nodes_in_path is None) or ('_d' in str(nodes_in_path)):\n",
    "            economic_impact += demand*average_train_load_tons*(average_road_cost_per_ton_km-average_train_cost_per_ton_km)*length_old_path\n",
    "            continue\n",
    "\n",
    "\n",
    "        else:\n",
    "            length_new_path=0\n",
    "            for i in range(len(nodes_in_path)-1):\n",
    "                length_new_path += graph.edges[nodes_in_path[i], nodes_in_path[i+1], 0]['length']/1000\n",
    "            economic_impact += demand*average_train_load_tons*average_train_cost_per_ton_km*(length_new_path-length_old_path)\n",
    "        \n",
    "\n",
    "    return economic_impact\n",
    "\n",
    "\n",
    "def _inspect_graph(graph):\n",
    "    edge_capacities_types = []\n",
    "    edge_weights_types = []\n",
    "    node_demands_types = []\n",
    "\n",
    "    for _, _, attr in graph.edges(data=True):\n",
    "        if 'capacity' in attr:\n",
    "            edge_capacities_types.append(type(attr['capacity']))\n",
    "        if 'weight' in attr:\n",
    "            edge_weights_types.append(type(attr['weight']))\n",
    "\n",
    "    for _, attr in graph.nodes(data=True):\n",
    "        if 'demand' in attr:\n",
    "            node_demands_types.append(type(attr['demand']))\n",
    "\n",
    "    return edge_capacities_types, edge_weights_types, node_demands_types\n",
    "    \n",
    "def create_virtual_graph(graph):\n",
    "    max_weight_graph = max(attr['weight'] for _, _, attr in G.edges(data=True))\n",
    "    print('Max weight: '+str(max_weight_graph))\n",
    "    max_capacity_graph = max(attr['capacity'] for _, _, attr in G.edges(data=True))\n",
    "    print('Max capacity: '+str(max_capacity_graph))\n",
    "\n",
    "    # create a virtual node with dummy nodes\n",
    "    graph_v=graph.copy()\n",
    "    # convert to int\n",
    "    for u, v, key, attr in G.edges(keys=True, data=True):\n",
    "        graph_v.add_edge((str(u) + '_d'), (str(v) + '_d'), **attr)\n",
    "\n",
    "    for u in G.nodes:\n",
    "        graph_v.add_edge(u,(str(u) + '_d'),capacity=max_capacity_graph*100,weight=int(round(1e10,0)))\n",
    "        graph_v.add_edge((str(u) + '_d'),u,capacity=max_capacity_graph*100,weight=0)\n",
    "\n",
    "    # verify capacities, weights and demands are integers\n",
    "    edge_capacities_types, edge_weights_types, node_demands_types = _inspect_graph(graph_v)\n",
    "\n",
    "    if {type(int())} == set(list(edge_capacities_types) + list(edge_weights_types) + list(node_demands_types)):\n",
    "        print('Success: only int type values')\n",
    "    else: \n",
    "        print('Warning! Not all values are integers')\n",
    "\n",
    "    return graph_v\n",
    "\n",
    "def recalculate_disrupted_edges(G, assets, disrupted_edges, fully_protected_assets, unexposed_osm_ids):\n",
    "    # list of osm_ids of adapted assets\n",
    "    adapted_osm_ids=assets.loc[assets.index.isin(fully_protected_assets)]['osm_id'].values\n",
    "    available_osm_ids = np.unique(np.concatenate((unexposed_osm_ids, adapted_osm_ids)))\n",
    "    available_edges=[]\n",
    "    for (u,v) in disrupted_edges:\n",
    "        # get the attributes of the edge\n",
    "        osm_ids_edge = G.edges[(u,v,0)]['osm_id'].split(';')\n",
    "        osm_ids_edge = [ids.strip() for ids in osm_ids_edge]\n",
    "\n",
    "        # check if all the osm_ids of the edge are in the list of adapted assets\n",
    "        if set(osm_ids_edge).issubset(available_osm_ids):\n",
    "            available_edges.append((u,v))\n",
    "        \n",
    "    adapted_disrupted_edges = [edge for edge in disrupted_edges if edge not in available_edges]\n",
    "\n",
    "    return adapted_disrupted_edges"
   ]
  },
  {
   "cell_type": "code",
   "execution_count": 5,
   "metadata": {},
   "outputs": [],
   "source": [
    "def preprocess_assets(assets_path):\n",
    "    assets = gpd.read_file(assets_path)\n",
    "    assets = gpd.GeoDataFrame(assets).set_crs(4326).to_crs(3857)\n",
    "    assets = assets.loc[assets.geometry.geom_type == 'LineString']\n",
    "    assets = assets.rename(columns={'railway' : 'asset'})\n",
    "    assets = assets[assets['railway:traffic_mode']!='\"passenger\"']\n",
    "    assets = assets[assets['asset']=='rail']\n",
    "    assets = assets.reset_index(drop=True)\n",
    "    \n",
    "    return assets\n",
    "\n",
    "def filter_adapted_assets(assets, adaptation_area):\n",
    "    filtered_assets = gpd.overlay(assets, adaptation_area, how='intersection')\n",
    "    adapted_assets = assets.loc[(assets['osm_id'].isin(filtered_assets['osm_id']))]\n",
    "\n",
    "    return adapted_assets\n"
   ]
  },
  {
   "cell_type": "code",
   "execution_count": 6,
   "metadata": {},
   "outputs": [
    {
     "name": "stdout",
     "output_type": "stream",
     "text": [
      "2822 assets loaded.\n",
      "Found matching infrastructure curves for: rail\n"
     ]
    }
   ],
   "source": [
    "# Read exposure data (OSM, OpenStreetMap contributors (2024) / osm-flex)\n",
    "assets_path = data_path / asset_data\n",
    "assets=preprocess_assets(assets_path)\n",
    "\n",
    "# Add buffer to assets to do area intersect and create dictionaries for quicker lookup\n",
    "buffered_assets = ds.buffer_assets(assets)\n",
    "geom_dict = assets['geometry'].to_dict()\n",
    "type_dict = assets['asset'].to_dict()\n",
    "\n",
    "print(f\"{len(assets)} assets loaded.\")\n",
    "\n",
    "# Read vulnerability and maximum damage data from Nirandjan, S., et al. (2024)\n",
    "curve_types = {'rail': ['F8.1']}\n",
    "infra_curves, maxdams = ds.read_vul_maxdam(data_path, hazard_type, infra_type)\n",
    "max_damage_tables = pd.read_excel(data_path / vulnerability_data / 'Table_D3_Costs_V1.0.0.xlsx',sheet_name='Cost_Database',index_col=[0])\n",
    "print(f'Found matching infrastructure curves for: {infra_type}')"
   ]
  },
  {
   "cell_type": "code",
   "execution_count": 7,
   "metadata": {},
   "outputs": [
    {
     "name": "stdout",
     "output_type": "stream",
     "text": [
      "Loaded data from baseline impact assessment\n"
     ]
    }
   ],
   "source": [
    "#load pickled shortest paths, disrupted edges, shortest paths, graph\n",
    "shortest_paths = pickle.load(open(data_path / 'interim' / 'indirect_damages' / 'shortest_paths.pkl', 'rb'))\n",
    "disrupted_edges_by_basin = pickle.load(open(data_path / 'interim' / 'indirect_damages' / 'disrupted_edges_by_basin.pkl', 'rb'))\n",
    "G = pickle.load(open(data_path / 'interim' / 'indirect_damages' / 'G.pkl', 'rb'))\n",
    "disrupted_shortest_paths = pickle.load(open(data_path / 'interim' / 'indirect_damages' / 'disrupted_shortest_paths.pkl', 'rb'))\n",
    "event_impacts = pickle.load(open(data_path / 'interim' / 'indirect_damages' / 'event_impacts.pkl', 'rb'))\n",
    "print('Loaded data from baseline impact assessment')"
   ]
  },
  {
   "cell_type": "code",
   "execution_count": 8,
   "metadata": {},
   "outputs": [
    {
     "name": "stdout",
     "output_type": "stream",
     "text": [
      "Max weight: 30076136\n",
      "Max capacity: 1\n",
      "Success: only int type values\n"
     ]
    }
   ],
   "source": [
    "G_v0=create_virtual_graph(G)\n",
    "G_v=G_v0.copy()"
   ]
  },
  {
   "cell_type": "code",
   "execution_count": 9,
   "metadata": {},
   "outputs": [],
   "source": [
    "#Define an area to adapt\n",
    "#adapt_path = Path(r'C:\\Data\\Floods\\basins\\hybas_eu_2080411370.shp')\n",
    "adapt_path=Path(r'C:\\Data\\interim\\adaptations\\test_haz_level_adapt.geojson')\n",
    "\n",
    "# Load the polygon of the protected area\n",
    "protected_area = gpd.read_file(adapt_path).to_crs(3857)\n",
    "\n",
    "# Filter assets that are within the protected area\n",
    "adapted_assets=filter_adapted_assets(assets, protected_area)\n"
   ]
  },
  {
   "cell_type": "code",
   "execution_count": 10,
   "metadata": {},
   "outputs": [],
   "source": [
    "# Define hazard-asset overlays to calculate adaptation for:\n",
    "return_periods=['H','M','L']\n",
    "basin_list=[2080418880, 2080416210, 2080416200, 2080411370]"
   ]
  },
  {
   "cell_type": "code",
   "execution_count": 11,
   "metadata": {},
   "outputs": [],
   "source": [
    "rp=return_periods[1]\n",
    "bas=basin_list[-1]"
   ]
  },
  {
   "cell_type": "code",
   "execution_count": 12,
   "metadata": {},
   "outputs": [],
   "source": [
    "# open pickled hazard-asset overlay and hazard intensity data\n",
    "with open(interim_data_path / f'overlay_assets_flood_DERP_RW_{rp}_4326_{bas}.pkl', 'rb') as f:\n",
    "    overlay_assets = pickle.load(f)\n",
    "with open(interim_data_path / f'hazard_numpified_flood_DERP_RW_{rp}_4326_{bas}.pkl', 'rb') as f:\n",
    "    hazard_numpified_list = pickle.load(f)\n",
    "\n",
    "# optionally to calculate the maximum intensity for each hazard point, this can be used, else a float can be used\n",
    "max_intensity = []\n",
    "for asset_id in adapted_assets.index:\n",
    "    max_intensity.append(retrieve_max_intensity_by_asset(asset_id, overlay_assets, hazard_numpified_list))\n"
   ]
  },
  {
   "cell_type": "code",
   "execution_count": 19,
   "metadata": {},
   "outputs": [
    {
     "name": "stderr",
     "output_type": "stream",
     "text": [
      "c:\\Users\\peregrin\\AppData\\Local\\anaconda3\\envs\\ci_adapt_env\\Lib\\site-packages\\geopandas\\geodataframe.py:1543: SettingWithCopyWarning: \n",
      "A value is trying to be set on a copy of a slice from a DataFrame.\n",
      "Try using .loc[row_indexer,col_indexer] = value instead\n",
      "\n",
      "See the caveats in the documentation: https://pandas.pydata.org/pandas-docs/stable/user_guide/indexing.html#returning-a-view-versus-a-copy\n",
      "  super().__setitem__(key, value)\n"
     ]
    },
    {
     "name": "stdout",
     "output_type": "stream",
     "text": [
      "2024-07-30 17:10:15 - Calculating adapted damages for assets...\n"
     ]
    },
    {
     "name": "stderr",
     "output_type": "stream",
     "text": [
      "100%|██████████| 43/43 [00:46<00:00,  1.08s/it]"
     ]
    },
    {
     "name": "stdout",
     "output_type": "stream",
     "text": [
      "11 assets with no change.\n"
     ]
    },
    {
     "name": "stderr",
     "output_type": "stream",
     "text": [
      "\n"
     ]
    }
   ],
   "source": [
    "# add new columns fragility_mod and haz_mod\n",
    "adapted_assets['fragility_mod'] = 1 #[0.3, 0.5, 0.8] #fraction [example considering no reduction] (1 = no reduction, 0 = invulnerable asset) DUMMY DATA FOR TESTING\n",
    "# adapted_assets['haz_mod'] = [np.max(x) for x in max_intensity] #meters [example adding wall of maximum flooding depth + 1 meter] (0 = no reduction in hazard intensity, 0.5 = 0.5 meter reduction in hazard intensity) DUMMY DATA FOR TESTING consider raising railway 0.5 meters\n",
    "adapted_assets['haz_mod'] = [np.max(x) if len(x) > 0 else 0 for x in max_intensity]\n",
    "\n",
    "# TODO: automate infrastructure curve deduction from dictionary keys, now running with curve F8.1\n",
    "hazard_intensity = infra_curves['F8.1'].index.values\n",
    "fragility_values = (np.nan_to_num(infra_curves['F8.1'].values,nan=(np.nanmax(infra_curves['F8.1'].values)))).flatten()\n",
    "maxdams_filt=max_damage_tables[max_damage_tables['ID number']=='F8.1']['Amount']\n",
    "\n",
    "adaptation_run = run_damage_reduction_by_asset(geom_dict, overlay_assets, hazard_numpified_list, adapted_assets, hazard_intensity, fragility_values, maxdams_filt, reporting=False)\n",
    "\n",
    "#TODO Check with economist: ammortization of adaptation cost over years of adaptation scenario\n",
    "    #NEXT: adaptation_run returns (collect_inb_bl, collect_inb_adapt, adaptation_cost). These can be used to calculate the EAD for the adapted scenario (and damage reduction), and compare with the adaptation cost, which must be ammortized over the years of the adaptation scenario.\n"
   ]
  },
  {
   "cell_type": "code",
   "execution_count": 14,
   "metadata": {},
   "outputs": [
    {
     "name": "stdout",
     "output_type": "stream",
     "text": [
      "\n",
      "-- CALCULATIONS FOR flood_DERP_RW_H_4326_2080411370 --\n",
      "disrupted_edges baseline:  [(397, 405), (398, 2349), (405, 397), (460, 2452), (461, 463), (463, 461), (1437, 2650), (1445, 1449), (1449, 1445), (1454, 2452), (1457, 1468), (1466, 1468), (1468, 1457), (1468, 1466), (1479, 1480), (1480, 1479), (2349, 398), (2452, 460), (2452, 1454), (2650, 1437)]\n",
      "disrupted_edges_adapted:  []\n",
      "No shortest paths disrupted for flood_DERP_RW_H_4326_2080411370. No economic impact.\n",
      "\n",
      "-- CALCULATIONS FOR flood_DERP_RW_H_4326_2080416210 --\n",
      "disrupted_edges baseline:  [(166, 2916), (203, 1668), (461, 463), (462, 532), (463, 461), (532, 462), (598, 2727), (717, 1737), (1392, 1940), (1394, 2728), (1398, 1937), (1433, 1438), (1437, 2650), (1438, 1433), (1654, 1669), (1668, 203), (1669, 1654), (1733, 1738), (1734, 1736), (1735, 1738), (1736, 1734), (1736, 1737), (1737, 1736), (1737, 717), (1738, 1735), (1738, 1733), (1937, 1398), (1940, 1392), (2650, 1437), (2727, 598), (2728, 1394), (2871, 2913), (2913, 2916), (2913, 2871), (2916, 166), (2916, 2913)]\n",
      "disrupted_edges_adapted:  []\n",
      "No shortest paths disrupted for flood_DERP_RW_H_4326_2080416210. No economic impact.\n",
      "\n",
      "-- CALCULATIONS FOR flood_DERP_RW_H_4326_2080418880 --\n",
      "disrupted_edges baseline:  [(203, 1668), (1654, 1669), (1668, 203), (1669, 1654)]\n",
      "disrupted_edges_adapted:  []\n",
      "No shortest paths disrupted for flood_DERP_RW_H_4326_2080418880. No economic impact.\n",
      "\n",
      "-- CALCULATIONS FOR flood_DERP_RW_L_4326_2080411370 --\n",
      "disrupted_edges baseline:  [(391, 394), (392, 402), (394, 391), (395, 1490), (397, 405), (398, 2349), (400, 401), (401, 400), (402, 392), (403, 404), (404, 403), (405, 397), (406, 407), (407, 2453), (407, 1454), (407, 406), (449, 1495), (449, 690), (449, 694), (460, 2452), (461, 463), (463, 461), (675, 677), (677, 675), (690, 449), (691, 692), (692, 691), (692, 693), (692, 2007), (693, 692), (694, 449), (1181, 2453), (1437, 2650), (1441, 1443), (1441, 2452), (1441, 1444), (1442, 1443), (1442, 2450), (1442, 1444), (1443, 1441), (1443, 1442), (1443, 2450), (1444, 1441), (1444, 1442), (1444, 1453), (1445, 1449), (1449, 2453), (1449, 1445), (1449, 1450), (1450, 1449), (1451, 1470), (1452, 1470), (1452, 1464), (1452, 2451), (1453, 1444), (1453, 1454), (1453, 1456), (1454, 407), (1454, 1453), (1454, 2452), (1455, 1456), (1456, 1453), (1456, 2711), (1456, 1455), (1457, 1468), (1458, 1489), (1459, 1489), (1462, 1464), (1464, 1452), (1464, 1462), (1464, 1465), (1465, 1464), (1465, 2451), (1465, 2711), (1466, 1468), (1467, 1468), (1468, 1457), (1468, 1467), (1468, 1466), (1469, 1470), (1470, 1451), (1470, 1452), (1470, 1469), (1471, 2350), (1472, 1473), (1473, 1472), (1474, 1478), (1475, 1476), (1476, 1475), (1478, 1474), (1479, 1480), (1480, 1479), (1481, 1482), (1482, 1481), (1482, 2450), (1482, 2451), (1485, 1495), (1488, 1495), (1488, 2004), (1488, 2360), (1489, 1490), (1489, 1458), (1489, 1459), (1490, 1489), (1490, 395), (1490, 2006), (1491, 2004), (1492, 2003), (1495, 449), (1495, 1488), (1495, 1485), (1778, 1784), (1784, 1778), (2001, 2004), (2002, 2003), (2003, 2005), (2003, 1492), (2003, 2002), (2004, 1488), (2004, 1491), (2004, 2001), (2005, 2003), (2006, 1490), (2007, 692), (2349, 398), (2350, 1471), (2360, 1488), (2450, 1442), (2450, 1443), (2450, 1482), (2451, 1452), (2451, 1482), (2451, 1465), (2452, 1441), (2452, 460), (2452, 1454), (2453, 407), (2453, 1449), (2453, 1181), (2454, 2455), (2454, 2457), (2454, 2709), (2455, 2454), (2457, 2454), (2650, 1437), (2709, 2710), (2709, 2713), (2709, 2454), (2710, 2709), (2711, 1456), (2711, 2713), (2711, 1465), (2712, 2713), (2713, 2709), (2713, 2711), (2713, 2712), (2825, 2826), (2826, 2825)]\n",
      "disrupted_edges_adapted:  [(395, 1490), (675, 677), (677, 675), (691, 692), (692, 691), (1458, 1489), (1459, 1489), (1489, 1458), (1489, 1459), (1490, 395), (1490, 2006), (2006, 1490)]\n",
      "flood_DERP_RW_L_4326_2080411370 29480151.254022427\n",
      "\n",
      "-- CALCULATIONS FOR flood_DERP_RW_L_4326_2080416210 --\n",
      "disrupted_edges baseline:  [(166, 2278), (166, 2916), (166, 2911), (186, 1734), (203, 1668), (451, 536), (458, 531), (461, 463), (462, 532), (463, 461), (531, 458), (532, 462), (534, 535), (535, 534), (536, 451), (588, 594), (589, 2727), (592, 2730), (593, 2730), (594, 588), (596, 1392), (597, 1401), (598, 2727), (704, 705), (705, 704), (716, 1731), (717, 1737), (728, 1960), (729, 1731), (1392, 1399), (1392, 1940), (1392, 596), (1393, 1399), (1394, 2728), (1395, 2737), (1396, 1398), (1398, 1399), (1398, 1937), (1398, 1396), (1399, 1392), (1399, 1398), (1399, 1393), (1400, 1401), (1400, 2737), (1400, 2736), (1401, 1400), (1401, 597), (1401, 2734), (1402, 1403), (1403, 1402), (1406, 1407), (1407, 1406), (1409, 2729), (1410, 2732), (1411, 1412), (1412, 1411), (1413, 2690), (1419, 1434), (1433, 1438), (1434, 1419), (1437, 2650), (1438, 1433), (1654, 1669), (1658, 1668), (1668, 1669), (1668, 203), (1668, 1658), (1669, 1668), (1669, 1654), (1684, 1685), (1685, 1684), (1685, 1695), (1685, 1696), (1695, 1685), (1696, 1685), (1718, 1723), (1719, 1728), (1720, 1721), (1721, 1720), (1722, 1732), (1723, 1738), (1723, 1733), (1723, 1718), (1725, 1732), (1727, 1737), (1727, 2154), (1727, 1736), (1728, 1719), (1730, 1739), (1731, 1732), (1731, 729), (1731, 716), (1732, 1731), (1732, 1722), (1732, 1725), (1733, 1723), (1733, 1734), (1733, 1738), (1734, 1733), (1734, 1736), (1734, 186), (1735, 1738), (1736, 1734), (1736, 1737), (1736, 1727), (1737, 1727), (1737, 1736), (1737, 717), (1738, 1723), (1738, 1735), (1738, 1733), (1739, 1730), (1937, 1398), (1940, 1392), (1959, 1961), (1960, 728), (1961, 1959), (1988, 1992), (1989, 1992), (1989, 1991), (1989, 2881), (1990, 1995), (1991, 1989), (1991, 1995), (1991, 2890), (1992, 1988), (1992, 1989), (1992, 1993), (1993, 1992), (1995, 1990), (1995, 1991), (1995, 2878), (1996, 2880), (1997, 1998), (1998, 1997), (1998, 2880), (1998, 1999), (1999, 2872), (1999, 2874), (1999, 1998), (2000, 2872), (2154, 1727), (2278, 166), (2278, 2874), (2278, 2915), (2650, 1437), (2689, 2865), (2690, 2728), (2690, 2692), (2690, 1413), (2691, 2694), (2692, 2690), (2692, 2865), (2692, 2694), (2693, 2867), (2694, 2691), (2694, 2692), (2694, 2867), (2727, 2728), (2727, 589), (2727, 598), (2728, 2690), (2728, 2727), (2728, 1394), (2729, 2732), (2729, 2730), (2729, 1409), (2730, 2729), (2730, 592), (2730, 593), (2731, 2732), (2732, 2729), (2732, 1410), (2732, 2731), (2734, 1401), (2736, 1400), (2737, 1400), (2737, 1395), (2737, 2738), (2738, 2737), (2865, 2692), (2865, 2866), (2865, 2689), (2866, 2865), (2867, 2693), (2867, 2694), (2867, 2868), (2868, 2867), (2871, 2913), (2872, 1999), (2872, 2000), (2872, 2873), (2873, 2872), (2874, 1999), (2874, 2278), (2874, 2879), (2876, 2878), (2876, 2882), (2876, 2879), (2878, 1995), (2878, 2876), (2878, 2879), (2879, 2876), (2879, 2878), (2879, 2874), (2880, 1996), (2880, 1998), (2880, 2882), (2881, 1989), (2882, 2876), (2882, 2880), (2882, 2883), (2883, 2882), (2886, 2890), (2886, 2887), (2886, 2889), (2887, 2886), (2887, 2893), (2887, 2888), (2888, 2889), (2888, 2915), (2888, 2887), (2889, 2888), (2889, 2915), (2889, 2886), (2890, 1991), (2890, 2886), (2890, 2893), (2892, 2893), (2893, 2887), (2893, 2890), (2893, 2892), (2911, 166), (2913, 2916), (2913, 2914), (2913, 2871), (2914, 2913), (2915, 2888), (2915, 2889), (2915, 2278), (2916, 166), (2916, 2913), (2916, 2917), (2917, 2916), (3113, 3114), (3114, 3113)]\n",
      "disrupted_edges_adapted:  []\n",
      "No shortest paths disrupted for flood_DERP_RW_L_4326_2080416210. No economic impact.\n",
      "\n",
      "-- CALCULATIONS FOR flood_DERP_RW_L_4326_2080418880 --\n",
      "disrupted_edges baseline:  [(203, 1668), (1654, 1669), (1668, 203), (1669, 1654)]\n",
      "disrupted_edges_adapted:  []\n",
      "No shortest paths disrupted for flood_DERP_RW_L_4326_2080418880. No economic impact.\n",
      "\n",
      "-- CALCULATIONS FOR flood_DERP_RW_M_4326_2080411370 --\n",
      "disrupted_edges baseline:  [(395, 1490), (397, 405), (398, 2349), (405, 397), (460, 2452), (461, 463), (463, 461), (675, 677), (677, 675), (691, 692), (692, 691), (1181, 2453), (1437, 2650), (1441, 1443), (1441, 2452), (1441, 1444), (1442, 1443), (1442, 2450), (1442, 1444), (1443, 1441), (1443, 1442), (1443, 2450), (1444, 1441), (1444, 1442), (1444, 1453), (1445, 1449), (1449, 2453), (1449, 1445), (1451, 1470), (1452, 1470), (1452, 1464), (1452, 2451), (1453, 1444), (1454, 2452), (1457, 1468), (1458, 1489), (1459, 1489), (1462, 1464), (1464, 1452), (1464, 1462), (1465, 2451), (1466, 1468), (1467, 1468), (1468, 1457), (1468, 1467), (1468, 1466), (1469, 1470), (1470, 1451), (1470, 1452), (1470, 1469), (1479, 1480), (1480, 1479), (1481, 1482), (1482, 1481), (1482, 2450), (1482, 2451), (1489, 1458), (1489, 1459), (1490, 395), (1490, 2006), (2006, 1490), (2349, 398), (2450, 1442), (2450, 1443), (2450, 1482), (2451, 1452), (2451, 1482), (2451, 1465), (2452, 1441), (2452, 460), (2452, 1454), (2453, 1449), (2453, 1181), (2650, 1437), (2712, 2713), (2713, 2712)]\n",
      "disrupted_edges_adapted:  [(395, 1490), (675, 677), (677, 675), (691, 692), (692, 691), (1458, 1489), (1459, 1489), (1489, 1458), (1489, 1459), (1490, 395), (1490, 2006), (2006, 1490)]\n",
      "flood_DERP_RW_M_4326_2080411370 29480151.254022427\n",
      "\n",
      "-- CALCULATIONS FOR flood_DERP_RW_M_4326_2080416210 --\n",
      "disrupted_edges baseline:  [(166, 2278), (166, 2916), (186, 1734), (203, 1668), (458, 531), (461, 463), (462, 532), (463, 461), (531, 458), (532, 462), (596, 1392), (597, 1401), (598, 2727), (717, 1737), (729, 1731), (1392, 1399), (1392, 1940), (1392, 596), (1393, 1399), (1394, 2728), (1395, 2737), (1396, 1398), (1398, 1399), (1398, 1937), (1398, 1396), (1399, 1392), (1399, 1398), (1399, 1393), (1401, 597), (1401, 2734), (1402, 1403), (1403, 1402), (1433, 1438), (1437, 2650), (1438, 1433), (1654, 1669), (1668, 203), (1669, 1654), (1718, 1723), (1719, 1728), (1722, 1732), (1723, 1738), (1723, 1718), (1725, 1732), (1727, 1737), (1727, 2154), (1727, 1736), (1728, 1719), (1731, 729), (1732, 1722), (1732, 1725), (1733, 1738), (1734, 1736), (1734, 186), (1735, 1738), (1736, 1734), (1736, 1737), (1736, 1727), (1737, 1727), (1737, 1736), (1737, 717), (1738, 1723), (1738, 1735), (1738, 1733), (1937, 1398), (1940, 1392), (1959, 1961), (1961, 1959), (1989, 1991), (1989, 2881), (1991, 1989), (1991, 2890), (1998, 1999), (1999, 2872), (1999, 2874), (1999, 1998), (2000, 2872), (2154, 1727), (2278, 166), (2278, 2874), (2278, 2915), (2650, 1437), (2689, 2865), (2690, 2692), (2691, 2694), (2692, 2690), (2692, 2865), (2692, 2694), (2694, 2691), (2694, 2692), (2727, 598), (2728, 1394), (2734, 1401), (2737, 1395), (2737, 2738), (2738, 2737), (2865, 2692), (2865, 2689), (2867, 2868), (2868, 2867), (2871, 2913), (2872, 1999), (2872, 2000), (2874, 1999), (2874, 2278), (2874, 2879), (2878, 2879), (2879, 2878), (2879, 2874), (2881, 1989), (2886, 2890), (2886, 2887), (2886, 2889), (2887, 2886), (2887, 2893), (2887, 2888), (2888, 2889), (2888, 2915), (2888, 2887), (2889, 2888), (2889, 2915), (2889, 2886), (2890, 1991), (2890, 2886), (2890, 2893), (2892, 2893), (2893, 2887), (2893, 2890), (2893, 2892), (2913, 2916), (2913, 2914), (2913, 2871), (2914, 2913), (2915, 2888), (2915, 2889), (2915, 2278), (2916, 166), (2916, 2913), (2916, 2917), (2917, 2916), (3113, 3114), (3114, 3113)]\n",
      "disrupted_edges_adapted:  []\n",
      "No shortest paths disrupted for flood_DERP_RW_M_4326_2080416210. No economic impact.\n",
      "\n",
      "-- CALCULATIONS FOR flood_DERP_RW_M_4326_2080418880 --\n",
      "disrupted_edges baseline:  [(203, 1668), (1654, 1669), (1668, 203), (1669, 1654)]\n",
      "disrupted_edges_adapted:  []\n",
      "No shortest paths disrupted for flood_DERP_RW_M_4326_2080418880. No economic impact.\n"
     ]
    }
   ],
   "source": [
    "# For a given hazard map overlay, find all the assets that are fully protected\n",
    "fully_protected_assets=[asset_id for asset_id, damages in adaptation_run[1].items() if damages[0]==0 and damages[1]==0]\n",
    "\n",
    "# For a given hazard map overlay, find all assets that are not exposed to flooding\n",
    "unexposed_assets=[asset_id for asset_id in assets.index if asset_id not in overlay_assets.asset.values]\n",
    "unexposed_osm_ids=assets.loc[assets.index.isin(unexposed_assets)]['osm_id'].values\n",
    "\n",
    "# find the disrupted edges and paths under adapted conditions\n",
    "disrupted_edges_by_basin_adapted = {}\n",
    "disrupted_shortest_paths_adapted = {}\n",
    "event_impacts_adapted = {}\n",
    "\n",
    "for hazard_map in disrupted_edges_by_basin.keys():\n",
    "    print(f'\\n-- CALCULATIONS FOR {hazard_map} --')\n",
    "    # find edges that will no longer be disrupted\n",
    "    disrupted_edges = disrupted_edges_by_basin[hazard_map]\n",
    "    print('disrupted_edges baseline: ', disrupted_edges)\n",
    "    disrupted_edges_by_basin_adapted[hazard_map] = recalculate_disrupted_edges(G, assets, disrupted_edges, fully_protected_assets, unexposed_osm_ids)\n",
    "    print('disrupted_edges_adapted: ', disrupted_edges_by_basin_adapted[hazard_map])\n",
    "\n",
    "    disrupted_shortest_paths_adapted[hazard_map]=calculate_new_paths(G_v0, shortest_paths, disrupted_edges_by_basin_adapted[hazard_map])\n",
    "\n",
    "    if disrupted_shortest_paths_adapted[hazard_map] == {}: # No disrupted paths, no economic impact\n",
    "        print(f'No shortest paths disrupted for {hazard_map}. No economic impact.')\n",
    "        event_impacts_adapted[hazard_map]=0\n",
    "        continue\n",
    "\n",
    "    impact=calculate_economic_impact_shortest_paths(G_v, shortest_paths, disrupted_shortest_paths_adapted[hazard_map], average_train_load_tons, average_train_cost_per_ton_km, average_road_cost_per_ton_km)\n",
    "    event_impacts_adapted[hazard_map]=impact\n",
    "    print(hazard_map, impact)\n",
    "    \n",
    "\n"
   ]
  },
  {
   "cell_type": "code",
   "execution_count": 15,
   "metadata": {},
   "outputs": [
    {
     "name": "stdout",
     "output_type": "stream",
     "text": [
      "\n",
      "-- CALCULATIONS FOR flood_DERP_RW_H_4326_2080411370 --\n",
      "disrupted_edges baseline:  [(397, 405), (398, 2349), (405, 397), (460, 2452), (461, 463), (463, 461), (1437, 2650), (1445, 1449), (1449, 1445), (1454, 2452), (1457, 1468), (1466, 1468), (1468, 1457), (1468, 1466), (1479, 1480), (1480, 1479), (2349, 398), (2452, 460), (2452, 1454), (2650, 1437)]\n",
      "disrupted_edges_adapted:  []\n",
      "No shortest paths disrupted for flood_DERP_RW_H_4326_2080411370. No economic impact.\n",
      "\n",
      "-- CALCULATIONS FOR flood_DERP_RW_H_4326_2080416210 --\n",
      "disrupted_edges baseline:  [(166, 2916), (203, 1668), (461, 463), (462, 532), (463, 461), (532, 462), (598, 2727), (717, 1737), (1392, 1940), (1394, 2728), (1398, 1937), (1433, 1438), (1437, 2650), (1438, 1433), (1654, 1669), (1668, 203), (1669, 1654), (1733, 1738), (1734, 1736), (1735, 1738), (1736, 1734), (1736, 1737), (1737, 1736), (1737, 717), (1738, 1735), (1738, 1733), (1937, 1398), (1940, 1392), (2650, 1437), (2727, 598), (2728, 1394), (2871, 2913), (2913, 2916), (2913, 2871), (2916, 166), (2916, 2913)]\n",
      "disrupted_edges_adapted:  []\n",
      "No shortest paths disrupted for flood_DERP_RW_H_4326_2080416210. No economic impact.\n",
      "\n",
      "-- CALCULATIONS FOR flood_DERP_RW_H_4326_2080418880 --\n",
      "disrupted_edges baseline:  [(203, 1668), (1654, 1669), (1668, 203), (1669, 1654)]\n",
      "disrupted_edges_adapted:  []\n",
      "No shortest paths disrupted for flood_DERP_RW_H_4326_2080418880. No economic impact.\n",
      "\n",
      "-- CALCULATIONS FOR flood_DERP_RW_L_4326_2080411370 --\n",
      "disrupted_edges baseline:  [(391, 394), (392, 402), (394, 391), (395, 1490), (397, 405), (398, 2349), (400, 401), (401, 400), (402, 392), (403, 404), (404, 403), (405, 397), (406, 407), (407, 2453), (407, 1454), (407, 406), (449, 1495), (449, 690), (449, 694), (460, 2452), (461, 463), (463, 461), (675, 677), (677, 675), (690, 449), (691, 692), (692, 691), (692, 693), (692, 2007), (693, 692), (694, 449), (1181, 2453), (1437, 2650), (1441, 1443), (1441, 2452), (1441, 1444), (1442, 1443), (1442, 2450), (1442, 1444), (1443, 1441), (1443, 1442), (1443, 2450), (1444, 1441), (1444, 1442), (1444, 1453), (1445, 1449), (1449, 2453), (1449, 1445), (1449, 1450), (1450, 1449), (1451, 1470), (1452, 1470), (1452, 1464), (1452, 2451), (1453, 1444), (1453, 1454), (1453, 1456), (1454, 407), (1454, 1453), (1454, 2452), (1455, 1456), (1456, 1453), (1456, 2711), (1456, 1455), (1457, 1468), (1458, 1489), (1459, 1489), (1462, 1464), (1464, 1452), (1464, 1462), (1464, 1465), (1465, 1464), (1465, 2451), (1465, 2711), (1466, 1468), (1467, 1468), (1468, 1457), (1468, 1467), (1468, 1466), (1469, 1470), (1470, 1451), (1470, 1452), (1470, 1469), (1471, 2350), (1472, 1473), (1473, 1472), (1474, 1478), (1475, 1476), (1476, 1475), (1478, 1474), (1479, 1480), (1480, 1479), (1481, 1482), (1482, 1481), (1482, 2450), (1482, 2451), (1485, 1495), (1488, 1495), (1488, 2004), (1488, 2360), (1489, 1490), (1489, 1458), (1489, 1459), (1490, 1489), (1490, 395), (1490, 2006), (1491, 2004), (1492, 2003), (1495, 449), (1495, 1488), (1495, 1485), (1778, 1784), (1784, 1778), (2001, 2004), (2002, 2003), (2003, 2005), (2003, 1492), (2003, 2002), (2004, 1488), (2004, 1491), (2004, 2001), (2005, 2003), (2006, 1490), (2007, 692), (2349, 398), (2350, 1471), (2360, 1488), (2450, 1442), (2450, 1443), (2450, 1482), (2451, 1452), (2451, 1482), (2451, 1465), (2452, 1441), (2452, 460), (2452, 1454), (2453, 407), (2453, 1449), (2453, 1181), (2454, 2455), (2454, 2457), (2454, 2709), (2455, 2454), (2457, 2454), (2650, 1437), (2709, 2710), (2709, 2713), (2709, 2454), (2710, 2709), (2711, 1456), (2711, 2713), (2711, 1465), (2712, 2713), (2713, 2709), (2713, 2711), (2713, 2712), (2825, 2826), (2826, 2825)]\n",
      "disrupted_edges_adapted:  [(395, 1490), (675, 677), (677, 675), (691, 692), (692, 691), (1458, 1489), (1459, 1489), (1489, 1458), (1489, 1459), (1490, 395), (1490, 2006), (2006, 1490)]\n",
      "flood_DERP_RW_L_4326_2080411370 29480151.254022427\n",
      "\n",
      "-- CALCULATIONS FOR flood_DERP_RW_L_4326_2080416210 --\n",
      "disrupted_edges baseline:  [(166, 2278), (166, 2916), (166, 2911), (186, 1734), (203, 1668), (451, 536), (458, 531), (461, 463), (462, 532), (463, 461), (531, 458), (532, 462), (534, 535), (535, 534), (536, 451), (588, 594), (589, 2727), (592, 2730), (593, 2730), (594, 588), (596, 1392), (597, 1401), (598, 2727), (704, 705), (705, 704), (716, 1731), (717, 1737), (728, 1960), (729, 1731), (1392, 1399), (1392, 1940), (1392, 596), (1393, 1399), (1394, 2728), (1395, 2737), (1396, 1398), (1398, 1399), (1398, 1937), (1398, 1396), (1399, 1392), (1399, 1398), (1399, 1393), (1400, 1401), (1400, 2737), (1400, 2736), (1401, 1400), (1401, 597), (1401, 2734), (1402, 1403), (1403, 1402), (1406, 1407), (1407, 1406), (1409, 2729), (1410, 2732), (1411, 1412), (1412, 1411), (1413, 2690), (1419, 1434), (1433, 1438), (1434, 1419), (1437, 2650), (1438, 1433), (1654, 1669), (1658, 1668), (1668, 1669), (1668, 203), (1668, 1658), (1669, 1668), (1669, 1654), (1684, 1685), (1685, 1684), (1685, 1695), (1685, 1696), (1695, 1685), (1696, 1685), (1718, 1723), (1719, 1728), (1720, 1721), (1721, 1720), (1722, 1732), (1723, 1738), (1723, 1733), (1723, 1718), (1725, 1732), (1727, 1737), (1727, 2154), (1727, 1736), (1728, 1719), (1730, 1739), (1731, 1732), (1731, 729), (1731, 716), (1732, 1731), (1732, 1722), (1732, 1725), (1733, 1723), (1733, 1734), (1733, 1738), (1734, 1733), (1734, 1736), (1734, 186), (1735, 1738), (1736, 1734), (1736, 1737), (1736, 1727), (1737, 1727), (1737, 1736), (1737, 717), (1738, 1723), (1738, 1735), (1738, 1733), (1739, 1730), (1937, 1398), (1940, 1392), (1959, 1961), (1960, 728), (1961, 1959), (1988, 1992), (1989, 1992), (1989, 1991), (1989, 2881), (1990, 1995), (1991, 1989), (1991, 1995), (1991, 2890), (1992, 1988), (1992, 1989), (1992, 1993), (1993, 1992), (1995, 1990), (1995, 1991), (1995, 2878), (1996, 2880), (1997, 1998), (1998, 1997), (1998, 2880), (1998, 1999), (1999, 2872), (1999, 2874), (1999, 1998), (2000, 2872), (2154, 1727), (2278, 166), (2278, 2874), (2278, 2915), (2650, 1437), (2689, 2865), (2690, 2728), (2690, 2692), (2690, 1413), (2691, 2694), (2692, 2690), (2692, 2865), (2692, 2694), (2693, 2867), (2694, 2691), (2694, 2692), (2694, 2867), (2727, 2728), (2727, 589), (2727, 598), (2728, 2690), (2728, 2727), (2728, 1394), (2729, 2732), (2729, 2730), (2729, 1409), (2730, 2729), (2730, 592), (2730, 593), (2731, 2732), (2732, 2729), (2732, 1410), (2732, 2731), (2734, 1401), (2736, 1400), (2737, 1400), (2737, 1395), (2737, 2738), (2738, 2737), (2865, 2692), (2865, 2866), (2865, 2689), (2866, 2865), (2867, 2693), (2867, 2694), (2867, 2868), (2868, 2867), (2871, 2913), (2872, 1999), (2872, 2000), (2872, 2873), (2873, 2872), (2874, 1999), (2874, 2278), (2874, 2879), (2876, 2878), (2876, 2882), (2876, 2879), (2878, 1995), (2878, 2876), (2878, 2879), (2879, 2876), (2879, 2878), (2879, 2874), (2880, 1996), (2880, 1998), (2880, 2882), (2881, 1989), (2882, 2876), (2882, 2880), (2882, 2883), (2883, 2882), (2886, 2890), (2886, 2887), (2886, 2889), (2887, 2886), (2887, 2893), (2887, 2888), (2888, 2889), (2888, 2915), (2888, 2887), (2889, 2888), (2889, 2915), (2889, 2886), (2890, 1991), (2890, 2886), (2890, 2893), (2892, 2893), (2893, 2887), (2893, 2890), (2893, 2892), (2911, 166), (2913, 2916), (2913, 2914), (2913, 2871), (2914, 2913), (2915, 2888), (2915, 2889), (2915, 2278), (2916, 166), (2916, 2913), (2916, 2917), (2917, 2916), (3113, 3114), (3114, 3113)]\n",
      "disrupted_edges_adapted:  []\n",
      "No shortest paths disrupted for flood_DERP_RW_L_4326_2080416210. No economic impact.\n",
      "\n",
      "-- CALCULATIONS FOR flood_DERP_RW_L_4326_2080418880 --\n",
      "disrupted_edges baseline:  [(203, 1668), (1654, 1669), (1668, 203), (1669, 1654)]\n",
      "disrupted_edges_adapted:  []\n",
      "No shortest paths disrupted for flood_DERP_RW_L_4326_2080418880. No economic impact.\n",
      "\n",
      "-- CALCULATIONS FOR flood_DERP_RW_M_4326_2080411370 --\n",
      "disrupted_edges baseline:  [(395, 1490), (397, 405), (398, 2349), (405, 397), (460, 2452), (461, 463), (463, 461), (675, 677), (677, 675), (691, 692), (692, 691), (1181, 2453), (1437, 2650), (1441, 1443), (1441, 2452), (1441, 1444), (1442, 1443), (1442, 2450), (1442, 1444), (1443, 1441), (1443, 1442), (1443, 2450), (1444, 1441), (1444, 1442), (1444, 1453), (1445, 1449), (1449, 2453), (1449, 1445), (1451, 1470), (1452, 1470), (1452, 1464), (1452, 2451), (1453, 1444), (1454, 2452), (1457, 1468), (1458, 1489), (1459, 1489), (1462, 1464), (1464, 1452), (1464, 1462), (1465, 2451), (1466, 1468), (1467, 1468), (1468, 1457), (1468, 1467), (1468, 1466), (1469, 1470), (1470, 1451), (1470, 1452), (1470, 1469), (1479, 1480), (1480, 1479), (1481, 1482), (1482, 1481), (1482, 2450), (1482, 2451), (1489, 1458), (1489, 1459), (1490, 395), (1490, 2006), (2006, 1490), (2349, 398), (2450, 1442), (2450, 1443), (2450, 1482), (2451, 1452), (2451, 1482), (2451, 1465), (2452, 1441), (2452, 460), (2452, 1454), (2453, 1449), (2453, 1181), (2650, 1437), (2712, 2713), (2713, 2712)]\n",
      "disrupted_edges_adapted:  [(395, 1490), (675, 677), (677, 675), (691, 692), (692, 691), (1458, 1489), (1459, 1489), (1489, 1458), (1489, 1459), (1490, 395), (1490, 2006), (2006, 1490)]\n",
      "flood_DERP_RW_M_4326_2080411370 29480151.254022427\n",
      "\n",
      "-- CALCULATIONS FOR flood_DERP_RW_M_4326_2080416210 --\n",
      "disrupted_edges baseline:  [(166, 2278), (166, 2916), (186, 1734), (203, 1668), (458, 531), (461, 463), (462, 532), (463, 461), (531, 458), (532, 462), (596, 1392), (597, 1401), (598, 2727), (717, 1737), (729, 1731), (1392, 1399), (1392, 1940), (1392, 596), (1393, 1399), (1394, 2728), (1395, 2737), (1396, 1398), (1398, 1399), (1398, 1937), (1398, 1396), (1399, 1392), (1399, 1398), (1399, 1393), (1401, 597), (1401, 2734), (1402, 1403), (1403, 1402), (1433, 1438), (1437, 2650), (1438, 1433), (1654, 1669), (1668, 203), (1669, 1654), (1718, 1723), (1719, 1728), (1722, 1732), (1723, 1738), (1723, 1718), (1725, 1732), (1727, 1737), (1727, 2154), (1727, 1736), (1728, 1719), (1731, 729), (1732, 1722), (1732, 1725), (1733, 1738), (1734, 1736), (1734, 186), (1735, 1738), (1736, 1734), (1736, 1737), (1736, 1727), (1737, 1727), (1737, 1736), (1737, 717), (1738, 1723), (1738, 1735), (1738, 1733), (1937, 1398), (1940, 1392), (1959, 1961), (1961, 1959), (1989, 1991), (1989, 2881), (1991, 1989), (1991, 2890), (1998, 1999), (1999, 2872), (1999, 2874), (1999, 1998), (2000, 2872), (2154, 1727), (2278, 166), (2278, 2874), (2278, 2915), (2650, 1437), (2689, 2865), (2690, 2692), (2691, 2694), (2692, 2690), (2692, 2865), (2692, 2694), (2694, 2691), (2694, 2692), (2727, 598), (2728, 1394), (2734, 1401), (2737, 1395), (2737, 2738), (2738, 2737), (2865, 2692), (2865, 2689), (2867, 2868), (2868, 2867), (2871, 2913), (2872, 1999), (2872, 2000), (2874, 1999), (2874, 2278), (2874, 2879), (2878, 2879), (2879, 2878), (2879, 2874), (2881, 1989), (2886, 2890), (2886, 2887), (2886, 2889), (2887, 2886), (2887, 2893), (2887, 2888), (2888, 2889), (2888, 2915), (2888, 2887), (2889, 2888), (2889, 2915), (2889, 2886), (2890, 1991), (2890, 2886), (2890, 2893), (2892, 2893), (2893, 2887), (2893, 2890), (2893, 2892), (2913, 2916), (2913, 2914), (2913, 2871), (2914, 2913), (2915, 2888), (2915, 2889), (2915, 2278), (2916, 166), (2916, 2913), (2916, 2917), (2917, 2916), (3113, 3114), (3114, 3113)]\n",
      "disrupted_edges_adapted:  []\n",
      "No shortest paths disrupted for flood_DERP_RW_M_4326_2080416210. No economic impact.\n",
      "\n",
      "-- CALCULATIONS FOR flood_DERP_RW_M_4326_2080418880 --\n",
      "disrupted_edges baseline:  [(203, 1668), (1654, 1669), (1668, 203), (1669, 1654)]\n",
      "disrupted_edges_adapted:  []\n",
      "No shortest paths disrupted for flood_DERP_RW_M_4326_2080418880. No economic impact.\n"
     ]
    }
   ],
   "source": [
    "\n",
    "for hazard_map in disrupted_edges_by_basin.keys():\n",
    "    print(f'\\n-- CALCULATIONS FOR {hazard_map} --')\n",
    "    # find edges that will no longer be disrupted\n",
    "    disrupted_edges = disrupted_edges_by_basin[hazard_map]\n",
    "    print('disrupted_edges baseline: ', disrupted_edges)\n",
    "    disrupted_edges_by_basin_adapted[hazard_map] = recalculate_disrupted_edges(G, assets, disrupted_edges, fully_protected_assets, unexposed_osm_ids)\n",
    "    print('disrupted_edges_adapted: ', disrupted_edges_by_basin_adapted[hazard_map])\n",
    "\n",
    "    disrupted_shortest_paths_adapted[hazard_map]=calculate_new_paths(G_v0, shortest_paths, disrupted_edges_by_basin_adapted[hazard_map])\n",
    "\n",
    "    if disrupted_shortest_paths_adapted[hazard_map] == {}: # No disrupted paths, no economic impact\n",
    "        print(f'No shortest paths disrupted for {hazard_map}. No economic impact.')\n",
    "        event_impacts_adapted[hazard_map]=0\n",
    "        continue\n",
    "\n",
    "    impact=calculate_economic_impact_shortest_paths(G_v, shortest_paths, disrupted_shortest_paths_adapted[hazard_map], average_train_load_tons, average_train_cost_per_ton_km, average_road_cost_per_ton_km)\n",
    "    event_impacts_adapted[hazard_map]=impact\n",
    "    print(hazard_map, impact)\n",
    "    \n",
    "\n"
   ]
  },
  {
   "cell_type": "code",
   "execution_count": 16,
   "metadata": {},
   "outputs": [
    {
     "name": "stdout",
     "output_type": "stream",
     "text": [
      "\n",
      "Economic impact (adapted) for flood_DERP_RW_H_4326_2080411370: 0.00 EUR\n",
      "Economic impact (baseline) for flood_DERP_RW_H_4326_2080411370: 29480151.25 EUR\n",
      "Reduction:  100.0 %\n",
      "\n",
      "Economic impact (adapted) for flood_DERP_RW_H_4326_2080416210: 0.00 EUR\n",
      "Economic impact (baseline) for flood_DERP_RW_H_4326_2080416210: 37615464.08 EUR\n",
      "Reduction:  100.0 %\n",
      "\n",
      "Economic impact (adapted) for flood_DERP_RW_H_4326_2080418880: 0.00 EUR\n",
      "Economic impact (baseline) for flood_DERP_RW_H_4326_2080418880: 29453063.97 EUR\n",
      "Reduction:  100.0 %\n",
      "\n",
      "Economic impact (adapted) for flood_DERP_RW_L_4326_2080411370: 29480151.25 EUR\n",
      "Economic impact (baseline) for flood_DERP_RW_L_4326_2080411370: 29480151.25 EUR\n",
      "Reduction:  0.0 %\n",
      "\n",
      "Economic impact (adapted) for flood_DERP_RW_L_4326_2080416210: 0.00 EUR\n",
      "Economic impact (baseline) for flood_DERP_RW_L_4326_2080416210: 37615464.08 EUR\n",
      "Reduction:  100.0 %\n",
      "\n",
      "Economic impact (adapted) for flood_DERP_RW_L_4326_2080418880: 0.00 EUR\n",
      "Economic impact (baseline) for flood_DERP_RW_L_4326_2080418880: 29453063.97 EUR\n",
      "Reduction:  100.0 %\n",
      "\n",
      "Economic impact (adapted) for flood_DERP_RW_M_4326_2080411370: 29480151.25 EUR\n",
      "Economic impact (baseline) for flood_DERP_RW_M_4326_2080411370: 29480151.25 EUR\n",
      "Reduction:  0.0 %\n",
      "\n",
      "Economic impact (adapted) for flood_DERP_RW_M_4326_2080416210: 0.00 EUR\n",
      "Economic impact (baseline) for flood_DERP_RW_M_4326_2080416210: 37615464.08 EUR\n",
      "Reduction:  100.0 %\n",
      "\n",
      "Economic impact (adapted) for flood_DERP_RW_M_4326_2080418880: 0.00 EUR\n",
      "Economic impact (baseline) for flood_DERP_RW_M_4326_2080418880: 29453063.97 EUR\n",
      "Reduction:  100.0 %\n"
     ]
    }
   ],
   "source": [
    "for hazard_map, impact in event_impacts.items():\n",
    "    if hazard_map in event_impacts_adapted.keys():\n",
    "        print(f'\\nEconomic impact (adapted) for {hazard_map}: {event_impacts_adapted[hazard_map]:.2f} EUR')\n",
    "        print(f'Economic impact (baseline) for {hazard_map}: {impact:.2f} EUR')\n",
    "        change=(1-(event_impacts_adapted[hazard_map]/impact))*100\n",
    "        print(f'Reduction: ', change, '%')"
   ]
  },
  {
   "cell_type": "code",
   "execution_count": 17,
   "metadata": {},
   "outputs": [
    {
     "name": "stderr",
     "output_type": "stream",
     "text": [
      "c:\\Users\\peregrin\\AppData\\Local\\anaconda3\\envs\\ci_adapt_env\\Lib\\site-packages\\lonboard\\_geoarrow\\ops\\reproject.py:97: UserWarning: Input being reprojected to EPSG:4326 CRS\n",
      "  warnings.warn(\"Input being reprojected to EPSG:4326 CRS\")\n",
      "c:\\Users\\peregrin\\AppData\\Local\\anaconda3\\envs\\ci_adapt_env\\Lib\\site-packages\\lonboard\\_geoarrow\\ops\\reproject.py:97: UserWarning: Input being reprojected to EPSG:4326 CRS\n",
      "  warnings.warn(\"Input being reprojected to EPSG:4326 CRS\")\n",
      "c:\\Users\\peregrin\\AppData\\Local\\anaconda3\\envs\\ci_adapt_env\\Lib\\site-packages\\lonboard\\_geoarrow\\ops\\reproject.py:97: UserWarning: Input being reprojected to EPSG:4326 CRS\n",
      "  warnings.warn(\"Input being reprojected to EPSG:4326 CRS\")\n"
     ]
    }
   ],
   "source": [
    "# EXPAND FOR VISUALISATION SCRIPT\n",
    "# Create visualisation for the basin and the discharge points\n",
    "from lonboard import Map, PolygonLayer, PathLayer, BaseLayer\n",
    "import ast\n",
    "# MIRACA color scheme\n",
    "color_string = config.get('DEFAULT', 'miraca_colors')\n",
    "miraca_colors = ast.literal_eval(color_string)\n",
    "\n",
    "basin_id = 2080411370\n",
    "\n",
    "    \n",
    "# Set path for basin to add to visualization\n",
    "basin_path = rf'C:\\Data\\Floods\\basins\\hybas_eu_{int(basin_id)}.shp'\n",
    "\n",
    "# Generate the basin layer\n",
    "basin = gpd.read_file(basin_path)\n",
    "layer_basin = PolygonLayer.from_geopandas(basin,\n",
    "    get_fill_color=miraca_colors['grey_200'],\n",
    "    get_line_color=miraca_colors['primary blue'], get_line_width=70,\n",
    "    auto_highlight=False,\n",
    "    filled=True, opacity=0.2)\n",
    "\n",
    "# Set path for the protected area to add to visualization\n",
    "# adapt_path = rf'C:\\Data\\interim\\adaptations\\test_haz_level_adapt.geojson'\n",
    "adapt_area = gpd.read_file(adapt_path)\n",
    "layer_protected_area = PolygonLayer.from_geopandas(adapt_area,\n",
    "    get_fill_color=miraca_colors['green_success'],\n",
    "    get_line_color=miraca_colors['green_400'], get_line_width=30,\n",
    "    auto_highlight=False,\n",
    "    filled=True, \n",
    "    opacity=0.2)\n",
    "\n",
    "# Create layer for assets for visualization\n",
    "layer_assets = PathLayer.from_geopandas(assets.drop(columns=['buffered']), get_width=2, get_color=miraca_colors['black'], auto_highlight=True, )\n",
    "affected_assets = [asset_id for asset_id in list(set(overlay_assets.asset.values))]\n",
    "layer_affected_assets = PathLayer.from_geopandas(assets.iloc[affected_assets].drop(columns=['buffered']), get_width=3, get_color=miraca_colors['red_danger'], auto_highlight=True)\n",
    "layer_protected_assets = PathLayer.from_geopandas(adapted_assets.drop(columns=['buffered']), get_width=4, get_color=miraca_colors['green_success'], auto_highlight=True)\n",
    "layers_assets = [layer_assets, layer_affected_assets, layer_protected_assets]\n",
    "# Flood return period: H for frequent(RP10-20), M for 100 year return period (RP100) and L for extreme (RP2000)\n",
    "return_period_str='M'\n",
    "# Generate flood layers and protection layers for visualization\n",
    "flood_plot_path=rf'Floods\\Germany\\basin_intersections\\DERP_RW_{return_period_str}_4326_hybas_intersections\\flood_DERP_RW_{return_period_str}_4326_{basin_id}.geojson'\n",
    "flood_m = data_path / flood_plot_path\n",
    "flood_gdf=gpd.read_file(flood_m)\n",
    "layers_flood=[]\n",
    "f_area_colors = {1:'blue', 3:'green'}\n",
    "for f_area in flood_gdf.flood_area.unique():\n",
    "    for f_depth in flood_gdf.depth_class.unique():\n",
    "        subset_gdf = flood_gdf[(flood_gdf.depth_class==f_depth) & (flood_gdf.flood_area==f_area)]\n",
    "        if not subset_gdf.empty:\n",
    "            color_key=f'{f_area_colors[f_area]}_{f_depth}00'\n",
    "            layers_flood.append(PolygonLayer.from_geopandas(subset_gdf, \n",
    "                                                            get_fill_color=miraca_colors[color_key], \n",
    "                                                            opacity=0.5, \n",
    "                                                            stroked=False))\n",
    "\n",
    "\n",
    "layers=[]\n",
    "if layer_basin is not None:\n",
    "    layers.append(layer_basin)\n",
    "else:\n",
    "    print('No basin layer')\n",
    "\n",
    "if layer_protected_area is not None:\n",
    "    layers.append(layer_protected_area)\n",
    "else:\n",
    "    print('No protected area layer')\n",
    "\n",
    "if layers_flood is not None:\n",
    "    layers.extend(layers_flood)\n",
    "else:\n",
    "    print('No flood layers')\n",
    "\n",
    "if layers_assets is not None:\n",
    "    layers.extend(layers_assets)\n",
    "else:\n",
    "    print('No asset layer')\n",
    "Voyager = 'https://basemaps.cartocdn.com/gl/voyager-gl-style/style.json'\n",
    "\n",
    "\n",
    "# m=Map(layer_affected_assets, show_tooltip=True, basemap_style=Voyager)\n",
    "m = Map(layers, show_tooltip=True, basemap_style=Voyager)\n",
    "\n"
   ]
  },
  {
   "cell_type": "code",
   "execution_count": 18,
   "metadata": {},
   "outputs": [
    {
     "data": {
      "application/vnd.jupyter.widget-view+json": {
       "model_id": "12b98c67b73e4ba0969090077721547c",
       "version_major": 2,
       "version_minor": 0
      },
      "text/plain": [
       "Map(basemap_style='https://basemaps.cartocdn.com/gl/voyager-gl-style/style.json', layers=[PolygonLayer(filled=…"
      ]
     },
     "execution_count": 18,
     "metadata": {},
     "output_type": "execute_result"
    }
   ],
   "source": [
    "\n",
    "m\n",
    "\n"
   ]
  },
  {
   "cell_type": "markdown",
   "metadata": {},
   "source": []
  }
 ],
 "metadata": {
  "kernelspec": {
   "display_name": "ci_adapt_env",
   "language": "python",
   "name": "python3"
  },
  "language_info": {
   "codemirror_mode": {
    "name": "ipython",
    "version": 3
   },
   "file_extension": ".py",
   "mimetype": "text/x-python",
   "name": "python",
   "nbconvert_exporter": "python",
   "pygments_lexer": "ipython3",
   "version": "3.12.2"
  }
 },
 "nbformat": 4,
 "nbformat_minor": 2
}
