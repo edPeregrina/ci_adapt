{
 "cells": [
  {
   "cell_type": "code",
   "execution_count": 1,
   "metadata": {},
   "outputs": [],
   "source": [
    "# Imports\n",
    "import configparser\n",
    "from pathlib import Path\n",
    "import pathlib\n",
    "from direct_damages import damagescanner_rail_track as ds\n",
    "import pandas as pd\n",
    "import geopandas as gpd\n",
    "# import datetime\n",
    "from ci_adapt_utilities import *\n",
    "import pickle\n",
    "# import networkx as nx\n",
    "import shapely"
   ]
  },
  {
   "cell_type": "code",
   "execution_count": 2,
   "metadata": {},
   "outputs": [],
   "source": [
    "# Load configuration with ini file (created running config.py)\n",
    "config_file=r'C:\\repos\\ci_adapt\\config_ci_adapt.ini'\n",
    "config = configparser.ConfigParser()\n",
    "config.read(config_file)\n",
    "\n",
    "p = Path('..')\n",
    "hazard_type = config.get('DEFAULT', 'hazard_type')\n",
    "infra_type = config.get('DEFAULT', 'infra_type')\n",
    "country_code = config.get('DEFAULT', 'country_code')\n",
    "country_name = config.get('DEFAULT', 'country_name')\n",
    "hazard_data_subfolders = config.get('DEFAULT', 'hazard_data_subfolders')\n",
    "asset_data = config.get('DEFAULT', 'asset_data')\n",
    "vulnerability_data = config.get('DEFAULT', 'vulnerability_data')\n",
    "data_path = Path(pathlib.Path.home().parts[0]) / 'Data'\n",
    "interim_data_path = data_path / 'interim' / 'collected_flood_runs'"
   ]
  },
  {
   "cell_type": "code",
   "execution_count": 3,
   "metadata": {},
   "outputs": [],
   "source": [
    "# Define costs for different transport modes\n",
    "average_train_load_tons = (896+1344+2160+1344+896+896+1344+1512+896+390)/10 # in Tons per train. Source: Kennisinstituut voor Mobiliteitsbeleid. 2023. Cost Figures for Freight Transport – final report\n",
    "average_train_cost_per_ton_km = (0.014+0.018+0.047+0.045)/4 # in Euros per ton per km. Source: Kennisinstituut voor Mobiliteitsbeleid. 2023. Cost Figures for Freight Transport – final report\n",
    "average_road_cost_per_ton_km = (0.395+0.375+0.246+0.203+0.138+0.153+0.125+0.103+0.122+0.099)/10 # in Euros per ton per km. Source: Kennisinstituut voor Mobiliteitsbeleid. 2023. Cost Figures for Freight Transport – final report"
   ]
  },
  {
   "cell_type": "code",
   "execution_count": 4,
   "metadata": {},
   "outputs": [],
   "source": [
    "# Define basic functions\n",
    "\n",
    "# Define other functions (development)\n",
    "def find_basin_lists(basins, regions):\n",
    "    intersect_basins_regions = gpd.overlay(basins, regions, how='intersection')\n",
    "    exclude_main_rivers=intersect_basins_regions.loc[intersect_basins_regions['ORDER']==1]\n",
    "\n",
    "    basins_exclusion_list = [x for x in exclude_main_rivers['HYBAS_ID'].values]\n",
    "    basin_list_tributaries = set([x for x in intersect_basins_regions['HYBAS_ID'].values if x not in basins_exclusion_list]) \n",
    "    basin_list_full_flood = set(intersect_basins_regions['HYBAS_ID'].values)\n",
    "    return basin_list_tributaries, basin_list_full_flood\n",
    "\n"
   ]
  },
  {
   "cell_type": "code",
   "execution_count": 5,
   "metadata": {},
   "outputs": [
    {
     "name": "stdout",
     "output_type": "stream",
     "text": [
      "122720 assets loaded.\n",
      "Found matching infrastructure curves for: rail\n"
     ]
    }
   ],
   "source": [
    "# Read exposure data (OSM, OpenStreetMap contributors (2024) / osm-flex)\n",
    "assets_path = data_path / asset_data\n",
    "assets=preprocess_assets(assets_path)\n",
    "\n",
    "# Add buffer to assets to do area intersect and create dictionaries for quicker lookup\n",
    "buffered_assets = ds.buffer_assets(assets)\n",
    "geom_dict = assets['geometry'].to_dict()\n",
    "type_dict = assets['asset'].to_dict()\n",
    "\n",
    "print(f\"{len(assets)} assets loaded.\")\n",
    "\n",
    "# Read vulnerability and maximum damage data from Nirandjan, S., et al. (2024)\n",
    "curve_types = {'rail': ['F8.1']}\n",
    "infra_curves, maxdams = ds.read_vul_maxdam(data_path, hazard_type, infra_type)\n",
    "max_damage_tables = pd.read_excel(data_path / vulnerability_data / 'Table_D3_Costs_V1.0.0.xlsx',sheet_name='Cost_Database',index_col=[0])\n",
    "print(f'Found matching infrastructure curves for: {infra_type}')"
   ]
  },
  {
   "cell_type": "code",
   "execution_count": 6,
   "metadata": {},
   "outputs": [
    {
     "name": "stdout",
     "output_type": "stream",
     "text": [
      "Loaded data from baseline impact assessment\n"
     ]
    }
   ],
   "source": [
    "#load pickled shortest paths, disrupted edges, shortest paths, graph\n",
    "shortest_paths = pickle.load(open(data_path / 'interim' / 'indirect_damages' / 'shortest_paths.pkl', 'rb'))\n",
    "disrupted_edges_by_basin = pickle.load(open(data_path / 'interim' / 'indirect_damages' / 'disrupted_edges_by_basin.pkl', 'rb'))\n",
    "graph_r0 = pickle.load(open(data_path / 'interim' / 'indirect_damages' / 'graph_0.pkl', 'rb'))\n",
    "disrupted_shortest_paths = pickle.load(open(data_path / 'interim' / 'indirect_damages' / 'disrupted_shortest_paths.pkl', 'rb'))\n",
    "event_impacts = pickle.load(open(data_path / 'interim' / 'indirect_damages' / 'event_impacts.pkl', 'rb'))\n",
    "print('Loaded data from baseline impact assessment')\n",
    "\n",
    "if 'collect_output' not in locals():\n",
    "    collect_output_path = f'C:/Data/interim/collected_flood_runs/sample_collected_run.pkl'\n",
    "    with open(collect_output_path, 'rb') as f:\n",
    "        collect_output = pickle.load(f)"
   ]
  },
  {
   "cell_type": "code",
   "execution_count": 7,
   "metadata": {},
   "outputs": [
    {
     "name": "stdout",
     "output_type": "stream",
     "text": [
      "Max weight: 34076035\n",
      "Max capacity: 1\n",
      "Success: only int type values\n"
     ]
    }
   ],
   "source": [
    "graph_v0=create_virtual_graph(graph_r0)\n",
    "graph_v=graph_v0.copy()"
   ]
  },
  {
   "cell_type": "code",
   "execution_count": 8,
   "metadata": {},
   "outputs": [],
   "source": [
    "# Set adaptation data\n",
    "l1_l2_adapt_path=None#Path(r'C:\\Data\\input\\adaptations\\l2_tributary.geojson')\n",
    "# adapted_area=create_adaptations_gdf(adapt_path)\n",
    "added_links =[]#[(4424116, 219651487), (219651487, 111997047)]\n",
    "l4_adapt_path=None#Path(r'C:\\Data\\input\\adaptations\\l4_tributary.geojson')\n",
    "\n",
    "\n",
    "if l1_l2_adapt_path is not None:\n",
    "    adapted_area = gpd.read_file(l1_l2_adapt_path).to_crs(3857)\n",
    "else:\n",
    "    adapted_area = None\n",
    "adaptations_df=create_adaptation_df(adapted_area)\n",
    "if l4_adapt_path is not None:\n",
    "    adapted_route_area = gpd.read_file(l4_adapt_path).to_crs(3857)\n",
    "else:\n",
    "    adapted_route_area = None"
   ]
  },
  {
   "cell_type": "code",
   "execution_count": 9,
   "metadata": {},
   "outputs": [],
   "source": [
    "asset_options={'bridge_design_rp':'M',\n",
    "               'tunnel_design_rp':'M'}\n",
    "return_period_dict = {'_H_': 10,'_M_': 100,'_L_': 200}\n",
    "adaptation_unit_costs = {'fwall': 7000.97, #considering floodwall in Germany\n",
    "                         'viaduct': 22500.00*1.3, #considering viaduct is 30% more expensive than ground level\n",
    "                         'bridge': 3700*10}  #considering bridge of 10m deck width\n",
    "rp_spec_priority = set_rp_priorities(return_period_dict)"
   ]
  },
  {
   "cell_type": "markdown",
   "metadata": {},
   "source": [
    "Apply adaptations"
   ]
  },
  {
   "cell_type": "code",
   "execution_count": 10,
   "metadata": {},
   "outputs": [],
   "source": [
    "if adapted_area is not None:\n",
    "    assets_to_adapt = filter_assets_to_adapt(assets, adapted_area)\n",
    "    adapted_assets = assets.loc[assets.index.isin(assets_to_adapt.index)].copy()\n",
    "    adapted_assets = add_adaptation_columns(adapted_assets)\n",
    "\n",
    "    for (adaptation_id, ad) in adapted_area.iterrows():\n",
    "        affected_assets=assets_to_adapt.loc[assets_to_adapt['adaptation_id']==adaptation_id].copy()  \n",
    "        rp_specs = set(affected_assets['rp_spec'])\n",
    "\n",
    "        for hazard_map in collect_output.keys():\n",
    "            haz_rp=hazard_map.split('_')[-3]\n",
    "            if haz_rp not in rp_specs:\n",
    "                continue\n",
    "            overlay_assets = load_baseline_run(hazard_map, interim_data_path, only_overlay=True)\n",
    "            if set(overlay_assets.asset.values).isdisjoint(affected_assets.index):\n",
    "                continue\n",
    "            else: \n",
    "                overlay_assets, hazard_numpified_list = load_baseline_run(hazard_map, interim_data_path)\n",
    "                adapted_assets = apply_asset_adaptations_in_haz_area(adapted_assets, affected_assets, overlay_assets, hazard_numpified_list, rp_spec_priority)\n",
    "else:\n",
    "    adapted_assets = assets.iloc[0:0].copy()\n",
    "    adapted_assets = add_adaptation_columns(adapted_assets)\n",
    "l3_adaptation_costs = {}\n",
    "for i,osm_id_pair in enumerate(added_links):\n",
    "    graph_v, l3_ad_cost = add_l3_adaptation(graph_v, osm_id_pair, adaptation_unit_cost=adaptation_unit_costs['bridge'])\n",
    "    l3_adaptation_costs[osm_id_pair] = l3_ad_cost\n",
    "    l3_ad_sum=[i, 'NA', 3, 'NA', l3_ad_cost]\n",
    "    adaptations_df.loc[i] = l3_ad_sum\n",
    "\n",
    "if adapted_route_area is not None:\n",
    "    demand_reduction_dict = add_l4_adaptation(graph_v, shortest_paths, adapted_route_area, demand_reduction=1.0)\n",
    "    for i,(o,d) in enumerate(demand_reduction_dict.keys()):\n",
    "        # print('i: ', i)\n",
    "        # print('od: ',(o,d))\n",
    "        l4_ad_sum=[i, 'NA', 4, ((o,d),demand_reduction_dict[(o,d)]),0]\n",
    "        adaptations_df.loc[i] = l4_ad_sum\n",
    "else:\n",
    "    demand_reduction_dict = {}"
   ]
  },
  {
   "cell_type": "code",
   "execution_count": 11,
   "metadata": {},
   "outputs": [],
   "source": [
    "direct_damages_adapted = {}\n",
    "indirect_damages_adapted = {}"
   ]
  },
  {
   "cell_type": "code",
   "execution_count": 12,
   "metadata": {},
   "outputs": [
    {
     "name": "stdout",
     "output_type": "stream",
     "text": [
      "Found 183 hazard maps.\n"
     ]
    }
   ],
   "source": [
    "local_haz_path=data_path/r'Floods\\Germany\\fluvial_undefended\\raw_subsample\\validated_geometries'\n",
    "hazard_data_list = ds.read_hazard_data(local_haz_path, hazard_type, country=country_name, subfolders=None)\n",
    "print(f'Found {len(hazard_data_list)} hazard maps.')\n",
    "if adapted_area is not None:\n",
    "    adapted_area=adapted_area.explode().reset_index(drop=True)\n",
    "    adapted_area['geometry'] = adapted_area['geometry'].apply(\n",
    "        lambda x: shapely.LineString(x.exterior) if isinstance(x, (shapely.Polygon, shapely.MultiPolygon)) else x\n",
    "    )\n",
    "    adapted_area['buffered'] = shapely.buffer(adapted_area.geometry.values,distance=1)\n",
    "\n",
    "    l1_adaptation_costs = {}\n",
    "    for (adaptation_id, ad) in adapted_area.iterrows():\n",
    "        if ad.adapt_level != 1:\n",
    "            continue\n",
    "\n",
    "        for i, single_footprint in enumerate(hazard_data_list):\n",
    "            hazard_map = single_footprint.parts[-1].split('.')[0]     \n",
    "            \n",
    "            haz_rp=hazard_map.split('_')[-3]\n",
    "            if haz_rp != ad.rp_spec.upper():\n",
    "                continue\n",
    "            \n",
    "            overlay_assets = load_baseline_run(hazard_map, interim_data_path, only_overlay=True)\n",
    "            if set(overlay_assets.asset.values).isdisjoint(assets_to_adapt.index):\n",
    "                print('No assets to adapt')\n",
    "                continue\n",
    "            if 'fwall' not in ad.prot_area:\n",
    "                continue\n",
    "            try:\n",
    "                adaptation_gdf=gpd.GeoDataFrame(adapted_area.iloc[[adaptation_id]])\n",
    "                l1_adaptation_costs[adaptation_id] = process_adap_dat(single_footprint, adaptation_gdf, hazard_numpified_list, adaptation_unit_cost=adaptation_unit_costs['fwall'])\n",
    "                continue\n",
    "\n",
    "            except Exception as e:\n",
    "                print(f'Error occurred in {hazard_map}: {str(e)}')\n",
    "                continue\n",
    "\n",
    "## MERGE THIS AND THE FOLLOWING CELL AND CALL THEM AS FUNCTIONS"
   ]
  },
  {
   "cell_type": "code",
   "execution_count": 13,
   "metadata": {},
   "outputs": [
    {
     "name": "stdout",
     "output_type": "stream",
     "text": [
      "\n",
      "Processing hazard map:  flood_DERP_RW_H_4326_2080410170\n",
      "Found matching infrastructure curves for: rail\n",
      "-- Calculating direct damages --\n",
      "2024-10-02 16:07:31 - Calculating adapted damages for assets...\n"
     ]
    },
    {
     "name": "stderr",
     "output_type": "stream",
     "text": [
      "100%|██████████| 30/30 [00:00<00:00, 9990.40it/s]"
     ]
    },
    {
     "name": "stdout",
     "output_type": "stream",
     "text": [
      "30 assets with no change.\n",
      "\n",
      "Processing hazard map:  flood_DERP_RW_H_4326_2080410430\n"
     ]
    },
    {
     "name": "stderr",
     "output_type": "stream",
     "text": [
      "\n"
     ]
    },
    {
     "name": "stdout",
     "output_type": "stream",
     "text": [
      "Found matching infrastructure curves for: rail\n",
      "-- Calculating direct damages --\n",
      "2024-10-02 16:07:32 - Calculating adapted damages for assets...\n"
     ]
    },
    {
     "name": "stderr",
     "output_type": "stream",
     "text": [
      "100%|██████████| 13/13 [00:00<00:00, 4331.24it/s]"
     ]
    },
    {
     "name": "stdout",
     "output_type": "stream",
     "text": [
      "13 assets with no change.\n",
      "\n",
      "Processing hazard map:  flood_DERP_RW_H_4326_2080410540\n"
     ]
    },
    {
     "name": "stderr",
     "output_type": "stream",
     "text": [
      "\n"
     ]
    },
    {
     "name": "stdout",
     "output_type": "stream",
     "text": [
      "Found matching infrastructure curves for: rail\n",
      "-- Calculating direct damages --\n",
      "2024-10-02 16:07:32 - Calculating adapted damages for assets...\n"
     ]
    },
    {
     "name": "stderr",
     "output_type": "stream",
     "text": [
      "100%|██████████| 20/20 [00:00<00:00, 10004.30it/s]"
     ]
    },
    {
     "name": "stdout",
     "output_type": "stream",
     "text": [
      "20 assets with no change.\n",
      "\n",
      "Processing hazard map:  flood_DERP_RW_H_4326_2080410660\n"
     ]
    },
    {
     "name": "stderr",
     "output_type": "stream",
     "text": [
      "\n"
     ]
    },
    {
     "name": "stdout",
     "output_type": "stream",
     "text": [
      "Found matching infrastructure curves for: rail\n",
      "-- Calculating direct damages --\n",
      "2024-10-02 16:07:32 - Calculating adapted damages for assets...\n"
     ]
    },
    {
     "name": "stderr",
     "output_type": "stream",
     "text": [
      "100%|██████████| 10/10 [00:00<00:00, 5004.54it/s]"
     ]
    },
    {
     "name": "stdout",
     "output_type": "stream",
     "text": [
      "10 assets with no change.\n",
      "\n",
      "Processing hazard map:  flood_DERP_RW_H_4326_2080410760\n"
     ]
    },
    {
     "name": "stderr",
     "output_type": "stream",
     "text": [
      "\n"
     ]
    },
    {
     "name": "stdout",
     "output_type": "stream",
     "text": [
      "Found matching infrastructure curves for: rail\n",
      "-- Calculating direct damages --\n",
      "2024-10-02 16:07:33 - Calculating adapted damages for assets...\n"
     ]
    },
    {
     "name": "stderr",
     "output_type": "stream",
     "text": [
      "100%|██████████| 3/3 [00:00<00:00, 3003.80it/s]"
     ]
    },
    {
     "name": "stdout",
     "output_type": "stream",
     "text": [
      "3 assets with no change.\n",
      "\n",
      "Processing hazard map:  flood_DERP_RW_H_4326_2080411370\n"
     ]
    },
    {
     "name": "stderr",
     "output_type": "stream",
     "text": [
      "\n"
     ]
    },
    {
     "name": "stdout",
     "output_type": "stream",
     "text": [
      "Found matching infrastructure curves for: rail\n",
      "-- Calculating direct damages --\n",
      "2024-10-02 16:07:33 - Calculating adapted damages for assets...\n"
     ]
    },
    {
     "name": "stderr",
     "output_type": "stream",
     "text": [
      "100%|██████████| 19/19 [00:00<00:00, 6321.73it/s]"
     ]
    },
    {
     "name": "stdout",
     "output_type": "stream",
     "text": [
      "19 assets with no change.\n",
      "\n",
      "Processing hazard map:  flood_DERP_RW_H_4326_2080416200\n"
     ]
    },
    {
     "name": "stderr",
     "output_type": "stream",
     "text": [
      "\n"
     ]
    },
    {
     "name": "stdout",
     "output_type": "stream",
     "text": [
      "Found matching infrastructure curves for: rail\n",
      "-- Calculating direct damages --\n",
      "2024-10-02 16:07:33 - Calculating adapted damages for assets...\n"
     ]
    },
    {
     "name": "stderr",
     "output_type": "stream",
     "text": [
      "100%|██████████| 2/2 [00:00<00:00, 1000.55it/s]"
     ]
    },
    {
     "name": "stdout",
     "output_type": "stream",
     "text": [
      "2 assets with no change.\n",
      "\n",
      "Processing hazard map:  flood_DERP_RW_H_4326_2080416210\n"
     ]
    },
    {
     "name": "stderr",
     "output_type": "stream",
     "text": [
      "\n"
     ]
    },
    {
     "name": "stdout",
     "output_type": "stream",
     "text": [
      "Found matching infrastructure curves for: rail\n",
      "-- Calculating direct damages --\n",
      "2024-10-02 16:07:34 - Calculating adapted damages for assets...\n"
     ]
    },
    {
     "name": "stderr",
     "output_type": "stream",
     "text": [
      "100%|██████████| 24/24 [00:00<00:00, 12029.55it/s]"
     ]
    },
    {
     "name": "stdout",
     "output_type": "stream",
     "text": [
      "24 assets with no change.\n",
      "\n",
      "Processing hazard map:  flood_DERP_RW_H_4326_2080418600\n"
     ]
    },
    {
     "name": "stderr",
     "output_type": "stream",
     "text": [
      "\n"
     ]
    },
    {
     "name": "stdout",
     "output_type": "stream",
     "text": [
      "Found matching infrastructure curves for: rail\n",
      "-- Calculating direct damages --\n",
      "2024-10-02 16:07:34 - Calculating adapted damages for assets...\n"
     ]
    },
    {
     "name": "stderr",
     "output_type": "stream",
     "text": [
      "100%|██████████| 41/41 [00:00<00:00, 20491.71it/s]"
     ]
    },
    {
     "name": "stdout",
     "output_type": "stream",
     "text": [
      "41 assets with no change.\n",
      "\n",
      "Processing hazard map:  flood_DERP_RW_H_4326_2080418720\n"
     ]
    },
    {
     "name": "stderr",
     "output_type": "stream",
     "text": [
      "\n"
     ]
    },
    {
     "name": "stdout",
     "output_type": "stream",
     "text": [
      "Found matching infrastructure curves for: rail\n",
      "-- Calculating direct damages --\n",
      "2024-10-02 16:07:35 - Calculating adapted damages for assets...\n"
     ]
    },
    {
     "name": "stderr",
     "output_type": "stream",
     "text": [
      "100%|██████████| 2/2 [00:00<00:00, 1988.29it/s]"
     ]
    },
    {
     "name": "stdout",
     "output_type": "stream",
     "text": [
      "2 assets with no change.\n",
      "\n",
      "Processing hazard map:  flood_DERP_RW_H_4326_2080418880\n"
     ]
    },
    {
     "name": "stderr",
     "output_type": "stream",
     "text": [
      "\n"
     ]
    },
    {
     "name": "stdout",
     "output_type": "stream",
     "text": [
      "Found matching infrastructure curves for: rail\n",
      "-- Calculating direct damages --\n",
      "2024-10-02 16:07:35 - Calculating adapted damages for assets...\n"
     ]
    },
    {
     "name": "stderr",
     "output_type": "stream",
     "text": [
      "100%|██████████| 5/5 [00:00<00:00, 4983.73it/s]"
     ]
    },
    {
     "name": "stdout",
     "output_type": "stream",
     "text": [
      "5 assets with no change.\n",
      "\n",
      "Processing hazard map:  flood_DERP_RW_H_4326_2080418890\n"
     ]
    },
    {
     "name": "stderr",
     "output_type": "stream",
     "text": [
      "\n"
     ]
    },
    {
     "name": "stdout",
     "output_type": "stream",
     "text": [
      "Found matching infrastructure curves for: rail\n",
      "-- Calculating direct damages --\n",
      "2024-10-02 16:07:35 - Calculating adapted damages for assets...\n"
     ]
    },
    {
     "name": "stderr",
     "output_type": "stream",
     "text": [
      "100%|██████████| 7/7 [00:00<00:00, 3501.92it/s]"
     ]
    },
    {
     "name": "stdout",
     "output_type": "stream",
     "text": [
      "7 assets with no change.\n",
      "\n",
      "Processing hazard map:  flood_DERP_RW_H_4326_2080419070\n"
     ]
    },
    {
     "name": "stderr",
     "output_type": "stream",
     "text": [
      "\n"
     ]
    },
    {
     "name": "stdout",
     "output_type": "stream",
     "text": [
      "Found matching infrastructure curves for: rail\n",
      "-- Calculating direct damages --\n",
      "2024-10-02 16:07:36 - Calculating adapted damages for assets...\n"
     ]
    },
    {
     "name": "stderr",
     "output_type": "stream",
     "text": [
      "100%|██████████| 1/1 [00:00<00:00, 500.16it/s]"
     ]
    },
    {
     "name": "stdout",
     "output_type": "stream",
     "text": [
      "1 assets with no change.\n",
      "\n",
      "Processing hazard map:  flood_DERP_RW_H_4326_2080419180\n"
     ]
    },
    {
     "name": "stderr",
     "output_type": "stream",
     "text": [
      "\n"
     ]
    },
    {
     "name": "stdout",
     "output_type": "stream",
     "text": [
      "Found matching infrastructure curves for: rail\n",
      "-- Calculating direct damages --\n",
      "2024-10-02 16:07:36 - Calculating adapted damages for assets...\n"
     ]
    },
    {
     "name": "stderr",
     "output_type": "stream",
     "text": [
      "100%|██████████| 19/19 [00:00<00:00, 6337.82it/s]"
     ]
    },
    {
     "name": "stdout",
     "output_type": "stream",
     "text": [
      "19 assets with no change.\n",
      "\n",
      "Processing hazard map:  flood_DERP_RW_H_4326_2080420240\n"
     ]
    },
    {
     "name": "stderr",
     "output_type": "stream",
     "text": [
      "\n"
     ]
    },
    {
     "name": "stdout",
     "output_type": "stream",
     "text": [
      "Found matching infrastructure curves for: rail\n",
      "-- Calculating direct damages --\n",
      "2024-10-02 16:07:36 - Calculating adapted damages for assets...\n"
     ]
    },
    {
     "name": "stderr",
     "output_type": "stream",
     "text": [
      "100%|██████████| 62/62 [00:00<00:00, 30976.40it/s]"
     ]
    },
    {
     "name": "stdout",
     "output_type": "stream",
     "text": [
      "62 assets with no change.\n",
      "\n",
      "Processing hazard map:  flood_DERP_RW_H_4326_2080420340\n"
     ]
    },
    {
     "name": "stderr",
     "output_type": "stream",
     "text": [
      "\n"
     ]
    },
    {
     "name": "stdout",
     "output_type": "stream",
     "text": [
      "Found matching infrastructure curves for: rail\n",
      "-- Calculating direct damages --\n",
      "2024-10-02 16:07:37 - Calculating adapted damages for assets...\n"
     ]
    },
    {
     "name": "stderr",
     "output_type": "stream",
     "text": [
      "100%|██████████| 5/5 [00:00<00:00, 4994.41it/s]"
     ]
    },
    {
     "name": "stdout",
     "output_type": "stream",
     "text": [
      "5 assets with no change.\n",
      "\n",
      "Processing hazard map:  flood_DERP_RW_H_4326_2080421680\n"
     ]
    },
    {
     "name": "stderr",
     "output_type": "stream",
     "text": [
      "\n"
     ]
    },
    {
     "name": "stdout",
     "output_type": "stream",
     "text": [
      "Found matching infrastructure curves for: rail\n",
      "-- Calculating direct damages --\n",
      "2024-10-02 16:07:37 - Calculating adapted damages for assets...\n"
     ]
    },
    {
     "name": "stderr",
     "output_type": "stream",
     "text": [
      "100%|██████████| 41/41 [00:00<00:00, 10251.97it/s]"
     ]
    },
    {
     "name": "stdout",
     "output_type": "stream",
     "text": [
      "41 assets with no change.\n",
      "\n",
      "Processing hazard map:  flood_DERP_RW_H_4326_2080421770\n"
     ]
    },
    {
     "name": "stderr",
     "output_type": "stream",
     "text": [
      "\n"
     ]
    },
    {
     "name": "stdout",
     "output_type": "stream",
     "text": [
      "Found matching infrastructure curves for: rail\n",
      "-- Calculating direct damages --\n",
      "2024-10-02 16:07:38 - Calculating adapted damages for assets...\n"
     ]
    },
    {
     "name": "stderr",
     "output_type": "stream",
     "text": [
      "100%|██████████| 22/22 [00:00<00:00, 7344.37it/s]"
     ]
    },
    {
     "name": "stdout",
     "output_type": "stream",
     "text": [
      "22 assets with no change.\n",
      "\n",
      "Processing hazard map:  flood_DERP_RW_H_4326_2080428080\n"
     ]
    },
    {
     "name": "stderr",
     "output_type": "stream",
     "text": [
      "\n"
     ]
    },
    {
     "name": "stdout",
     "output_type": "stream",
     "text": [
      "Found matching infrastructure curves for: rail\n",
      "-- Calculating direct damages --\n",
      "2024-10-02 16:07:38 - Calculating adapted damages for assets...\n"
     ]
    },
    {
     "name": "stderr",
     "output_type": "stream",
     "text": [
      "0it [00:00, ?it/s]"
     ]
    },
    {
     "name": "stdout",
     "output_type": "stream",
     "text": [
      "0 assets with no change.\n",
      "\n",
      "Processing hazard map:  flood_DERP_RW_H_4326_2080428160\n"
     ]
    },
    {
     "name": "stderr",
     "output_type": "stream",
     "text": [
      "\n"
     ]
    },
    {
     "name": "stdout",
     "output_type": "stream",
     "text": [
      "Found matching infrastructure curves for: rail\n",
      "-- Calculating direct damages --\n",
      "2024-10-02 16:07:39 - Calculating adapted damages for assets...\n"
     ]
    },
    {
     "name": "stderr",
     "output_type": "stream",
     "text": [
      "100%|██████████| 8/8 [00:00<00:00, 2665.17it/s]"
     ]
    },
    {
     "name": "stdout",
     "output_type": "stream",
     "text": [
      "8 assets with no change.\n",
      "\n",
      "Processing hazard map:  flood_DERP_RW_H_4326_2080428500\n"
     ]
    },
    {
     "name": "stderr",
     "output_type": "stream",
     "text": [
      "\n"
     ]
    },
    {
     "name": "stdout",
     "output_type": "stream",
     "text": [
      "Found matching infrastructure curves for: rail\n",
      "-- Calculating direct damages --\n",
      "2024-10-02 16:07:39 - Calculating adapted damages for assets...\n"
     ]
    },
    {
     "name": "stderr",
     "output_type": "stream",
     "text": [
      "0it [00:00, ?it/s]"
     ]
    },
    {
     "name": "stdout",
     "output_type": "stream",
     "text": [
      "0 assets with no change.\n",
      "\n",
      "Processing hazard map:  flood_DERP_RW_H_4326_2080429430\n"
     ]
    },
    {
     "name": "stderr",
     "output_type": "stream",
     "text": [
      "\n"
     ]
    },
    {
     "name": "stdout",
     "output_type": "stream",
     "text": [
      "Found matching infrastructure curves for: rail\n",
      "-- Calculating direct damages --\n",
      "2024-10-02 16:07:39 - Calculating adapted damages for assets...\n"
     ]
    },
    {
     "name": "stderr",
     "output_type": "stream",
     "text": [
      "100%|██████████| 12/12 [00:00<00:00, 3999.34it/s]"
     ]
    },
    {
     "name": "stdout",
     "output_type": "stream",
     "text": [
      "12 assets with no change.\n",
      "\n",
      "Processing hazard map:  flood_DERP_RW_H_4326_2080429540\n"
     ]
    },
    {
     "name": "stderr",
     "output_type": "stream",
     "text": [
      "\n"
     ]
    },
    {
     "name": "stdout",
     "output_type": "stream",
     "text": [
      "Found matching infrastructure curves for: rail\n",
      "-- Calculating direct damages --\n",
      "2024-10-02 16:07:40 - Calculating adapted damages for assets...\n"
     ]
    },
    {
     "name": "stderr",
     "output_type": "stream",
     "text": [
      "100%|██████████| 6/6 [00:00<00:00, 5999.00it/s]"
     ]
    },
    {
     "name": "stdout",
     "output_type": "stream",
     "text": [
      "6 assets with no change.\n",
      "\n",
      "Processing hazard map:  flood_DERP_RW_H_4326_2080429670\n"
     ]
    },
    {
     "name": "stderr",
     "output_type": "stream",
     "text": [
      "\n"
     ]
    },
    {
     "name": "stdout",
     "output_type": "stream",
     "text": [
      "Found matching infrastructure curves for: rail\n",
      "-- Calculating direct damages --\n",
      "2024-10-02 16:07:40 - Calculating adapted damages for assets...\n"
     ]
    },
    {
     "name": "stderr",
     "output_type": "stream",
     "text": [
      "0it [00:00, ?it/s]"
     ]
    },
    {
     "name": "stdout",
     "output_type": "stream",
     "text": [
      "0 assets with no change.\n",
      "\n",
      "Processing hazard map:  flood_DERP_RW_H_4326_2080429770\n"
     ]
    },
    {
     "name": "stderr",
     "output_type": "stream",
     "text": [
      "\n"
     ]
    },
    {
     "name": "stdout",
     "output_type": "stream",
     "text": [
      "Found matching infrastructure curves for: rail\n",
      "-- Calculating direct damages --\n",
      "2024-10-02 16:07:40 - Calculating adapted damages for assets...\n"
     ]
    },
    {
     "name": "stderr",
     "output_type": "stream",
     "text": [
      "100%|██████████| 9/9 [00:00<00:00, 4502.47it/s]"
     ]
    },
    {
     "name": "stdout",
     "output_type": "stream",
     "text": [
      "9 assets with no change.\n",
      "\n",
      "Processing hazard map:  flood_DERP_RW_H_4326_2080430240\n"
     ]
    },
    {
     "name": "stderr",
     "output_type": "stream",
     "text": [
      "\n"
     ]
    },
    {
     "name": "stdout",
     "output_type": "stream",
     "text": [
      "Found matching infrastructure curves for: rail\n",
      "-- Calculating direct damages --\n",
      "2024-10-02 16:07:40 - Calculating adapted damages for assets...\n"
     ]
    },
    {
     "name": "stderr",
     "output_type": "stream",
     "text": [
      "100%|██████████| 17/17 [00:00<00:00, 5669.33it/s]"
     ]
    },
    {
     "name": "stdout",
     "output_type": "stream",
     "text": [
      "17 assets with no change.\n",
      "\n",
      "Processing hazard map:  flood_DERP_RW_H_4326_2080430320\n"
     ]
    },
    {
     "name": "stderr",
     "output_type": "stream",
     "text": [
      "\n"
     ]
    },
    {
     "name": "stdout",
     "output_type": "stream",
     "text": [
      "Found matching infrastructure curves for: rail\n",
      "-- Calculating direct damages --\n",
      "2024-10-02 16:07:41 - Calculating adapted damages for assets...\n"
     ]
    },
    {
     "name": "stderr",
     "output_type": "stream",
     "text": [
      "100%|██████████| 20/20 [00:00<00:00, 10012.66it/s]"
     ]
    },
    {
     "name": "stdout",
     "output_type": "stream",
     "text": [
      "20 assets with no change.\n",
      "\n",
      "Processing hazard map:  flood_DERP_RW_H_4326_2080431110\n"
     ]
    },
    {
     "name": "stderr",
     "output_type": "stream",
     "text": [
      "\n"
     ]
    },
    {
     "name": "stdout",
     "output_type": "stream",
     "text": [
      "Found matching infrastructure curves for: rail\n",
      "-- Calculating direct damages --\n",
      "2024-10-02 16:07:41 - Calculating adapted damages for assets...\n"
     ]
    },
    {
     "name": "stderr",
     "output_type": "stream",
     "text": [
      "0it [00:00, ?it/s]"
     ]
    },
    {
     "name": "stdout",
     "output_type": "stream",
     "text": [
      "0 assets with no change.\n",
      "\n",
      "Processing hazard map:  flood_DERP_RW_H_4326_2080431660\n"
     ]
    },
    {
     "name": "stderr",
     "output_type": "stream",
     "text": [
      "\n"
     ]
    },
    {
     "name": "stdout",
     "output_type": "stream",
     "text": [
      "Found matching infrastructure curves for: rail\n",
      "-- Calculating direct damages --\n",
      "2024-10-02 16:07:42 - Calculating adapted damages for assets...\n"
     ]
    },
    {
     "name": "stderr",
     "output_type": "stream",
     "text": [
      "100%|██████████| 2/2 [00:00<00:00, 2005.88it/s]"
     ]
    },
    {
     "name": "stdout",
     "output_type": "stream",
     "text": [
      "2 assets with no change.\n",
      "\n",
      "Processing hazard map:  flood_DERP_RW_H_4326_2080431750\n"
     ]
    },
    {
     "name": "stderr",
     "output_type": "stream",
     "text": [
      "\n"
     ]
    },
    {
     "name": "stdout",
     "output_type": "stream",
     "text": [
      "Found matching infrastructure curves for: rail\n",
      "-- Calculating direct damages --\n",
      "2024-10-02 16:07:42 - Calculating adapted damages for assets...\n"
     ]
    },
    {
     "name": "stderr",
     "output_type": "stream",
     "text": [
      "0it [00:00, ?it/s]"
     ]
    },
    {
     "name": "stdout",
     "output_type": "stream",
     "text": [
      "0 assets with no change.\n",
      "\n",
      "Processing hazard map:  flood_DERP_RW_H_4326_2080432400\n"
     ]
    },
    {
     "name": "stderr",
     "output_type": "stream",
     "text": [
      "\n"
     ]
    },
    {
     "name": "stdout",
     "output_type": "stream",
     "text": [
      "Found matching infrastructure curves for: rail\n",
      "-- Calculating direct damages --\n",
      "2024-10-02 16:07:42 - Calculating adapted damages for assets...\n"
     ]
    },
    {
     "name": "stderr",
     "output_type": "stream",
     "text": [
      "100%|██████████| 3/3 [00:00<00:00, 1500.82it/s]"
     ]
    },
    {
     "name": "stdout",
     "output_type": "stream",
     "text": [
      "3 assets with no change.\n",
      "\n",
      "Processing hazard map:  flood_DERP_RW_H_4326_2080432510\n"
     ]
    },
    {
     "name": "stderr",
     "output_type": "stream",
     "text": [
      "\n"
     ]
    },
    {
     "name": "stdout",
     "output_type": "stream",
     "text": [
      "Found matching infrastructure curves for: rail\n",
      "-- Calculating direct damages --\n",
      "2024-10-02 16:07:43 - Calculating adapted damages for assets...\n"
     ]
    },
    {
     "name": "stderr",
     "output_type": "stream",
     "text": [
      "100%|██████████| 16/16 [00:00<00:00, 7995.81it/s]"
     ]
    },
    {
     "name": "stdout",
     "output_type": "stream",
     "text": [
      "16 assets with no change.\n",
      "\n",
      "Processing hazard map:  flood_DERP_RW_H_4326_2080433520\n"
     ]
    },
    {
     "name": "stderr",
     "output_type": "stream",
     "text": [
      "\n"
     ]
    },
    {
     "name": "stdout",
     "output_type": "stream",
     "text": [
      "Found matching infrastructure curves for: rail\n",
      "-- Calculating direct damages --\n",
      "2024-10-02 16:07:43 - Calculating adapted damages for assets...\n"
     ]
    },
    {
     "name": "stderr",
     "output_type": "stream",
     "text": [
      "0it [00:00, ?it/s]"
     ]
    },
    {
     "name": "stdout",
     "output_type": "stream",
     "text": [
      "0 assets with no change.\n",
      "\n",
      "Processing hazard map:  flood_DERP_RW_H_4326_2080433740\n"
     ]
    },
    {
     "name": "stderr",
     "output_type": "stream",
     "text": [
      "\n"
     ]
    },
    {
     "name": "stdout",
     "output_type": "stream",
     "text": [
      "Found matching infrastructure curves for: rail\n",
      "-- Calculating direct damages --\n",
      "2024-10-02 16:07:44 - Calculating adapted damages for assets...\n"
     ]
    },
    {
     "name": "stderr",
     "output_type": "stream",
     "text": [
      "0it [00:00, ?it/s]"
     ]
    },
    {
     "name": "stdout",
     "output_type": "stream",
     "text": [
      "0 assets with no change.\n",
      "\n",
      "Processing hazard map:  flood_DERP_RW_H_4326_2080433960\n"
     ]
    },
    {
     "name": "stderr",
     "output_type": "stream",
     "text": [
      "\n"
     ]
    },
    {
     "name": "stdout",
     "output_type": "stream",
     "text": [
      "Found matching infrastructure curves for: rail\n",
      "-- Calculating direct damages --\n",
      "2024-10-02 16:07:44 - Calculating adapted damages for assets...\n"
     ]
    },
    {
     "name": "stderr",
     "output_type": "stream",
     "text": [
      "0it [00:00, ?it/s]\n"
     ]
    },
    {
     "name": "stdout",
     "output_type": "stream",
     "text": [
      "0 assets with no change.\n",
      "\n",
      "Processing hazard map:  flood_DERP_RW_H_4326_2080434150\n",
      "Found matching infrastructure curves for: rail\n",
      "-- Calculating direct damages --\n",
      "2024-10-02 16:07:45 - Calculating adapted damages for assets...\n"
     ]
    },
    {
     "name": "stderr",
     "output_type": "stream",
     "text": [
      "0it [00:00, ?it/s]"
     ]
    },
    {
     "name": "stdout",
     "output_type": "stream",
     "text": [
      "0 assets with no change.\n",
      "\n",
      "Processing hazard map:  flood_DERP_RW_H_4326_2080434280\n"
     ]
    },
    {
     "name": "stderr",
     "output_type": "stream",
     "text": [
      "\n"
     ]
    },
    {
     "name": "stdout",
     "output_type": "stream",
     "text": [
      "Found matching infrastructure curves for: rail\n",
      "-- Calculating direct damages --\n",
      "2024-10-02 16:07:45 - Calculating adapted damages for assets...\n"
     ]
    },
    {
     "name": "stderr",
     "output_type": "stream",
     "text": [
      "100%|██████████| 2/2 [00:00<00:00, 1991.60it/s]"
     ]
    },
    {
     "name": "stdout",
     "output_type": "stream",
     "text": [
      "2 assets with no change.\n",
      "\n",
      "Processing hazard map:  flood_DERP_RW_H_4326_2080434470\n"
     ]
    },
    {
     "name": "stderr",
     "output_type": "stream",
     "text": [
      "\n"
     ]
    },
    {
     "name": "stdout",
     "output_type": "stream",
     "text": [
      "Found matching infrastructure curves for: rail\n",
      "-- Calculating direct damages --\n",
      "2024-10-02 16:07:46 - Calculating adapted damages for assets...\n"
     ]
    },
    {
     "name": "stderr",
     "output_type": "stream",
     "text": [
      "100%|██████████| 34/34 [00:00<00:00, 11307.19it/s]"
     ]
    },
    {
     "name": "stdout",
     "output_type": "stream",
     "text": [
      "34 assets with no change.\n",
      "\n",
      "Processing hazard map:  flood_DERP_RW_H_4326_2080434490\n"
     ]
    },
    {
     "name": "stderr",
     "output_type": "stream",
     "text": [
      "\n"
     ]
    },
    {
     "name": "stdout",
     "output_type": "stream",
     "text": [
      "Found matching infrastructure curves for: rail\n",
      "-- Calculating direct damages --\n",
      "2024-10-02 16:07:46 - Calculating adapted damages for assets...\n"
     ]
    },
    {
     "name": "stderr",
     "output_type": "stream",
     "text": [
      "100%|██████████| 35/35 [00:00<00:00, 17488.76it/s]"
     ]
    },
    {
     "name": "stdout",
     "output_type": "stream",
     "text": [
      "35 assets with no change.\n",
      "\n",
      "Processing hazard map:  flood_DERP_RW_H_4326_2080434630\n"
     ]
    },
    {
     "name": "stderr",
     "output_type": "stream",
     "text": [
      "\n"
     ]
    },
    {
     "name": "stdout",
     "output_type": "stream",
     "text": [
      "Found matching infrastructure curves for: rail\n",
      "-- Calculating direct damages --\n",
      "2024-10-02 16:07:47 - Calculating adapted damages for assets...\n"
     ]
    },
    {
     "name": "stderr",
     "output_type": "stream",
     "text": [
      "100%|██████████| 5/5 [00:00<00:00, 4993.22it/s]"
     ]
    },
    {
     "name": "stdout",
     "output_type": "stream",
     "text": [
      "5 assets with no change.\n",
      "\n",
      "Processing hazard map:  flood_DERP_RW_H_4326_2080435040\n"
     ]
    },
    {
     "name": "stderr",
     "output_type": "stream",
     "text": [
      "\n"
     ]
    },
    {
     "name": "stdout",
     "output_type": "stream",
     "text": [
      "Found matching infrastructure curves for: rail\n",
      "-- Calculating direct damages --\n",
      "2024-10-02 16:07:47 - Calculating adapted damages for assets...\n"
     ]
    },
    {
     "name": "stderr",
     "output_type": "stream",
     "text": [
      "100%|██████████| 58/58 [00:00<00:00, 19317.85it/s]"
     ]
    },
    {
     "name": "stdout",
     "output_type": "stream",
     "text": [
      "58 assets with no change.\n",
      "\n",
      "Processing hazard map:  flood_DERP_RW_H_4326_2080435320\n"
     ]
    },
    {
     "name": "stderr",
     "output_type": "stream",
     "text": [
      "\n"
     ]
    },
    {
     "name": "stdout",
     "output_type": "stream",
     "text": [
      "Found matching infrastructure curves for: rail\n",
      "-- Calculating direct damages --\n",
      "2024-10-02 16:07:48 - Calculating adapted damages for assets...\n"
     ]
    },
    {
     "name": "stderr",
     "output_type": "stream",
     "text": [
      "100%|██████████| 4/4 [00:00<00:00, 1999.67it/s]"
     ]
    },
    {
     "name": "stdout",
     "output_type": "stream",
     "text": [
      "4 assets with no change.\n",
      "\n",
      "Processing hazard map:  flood_DERP_RW_H_4326_2080436660\n"
     ]
    },
    {
     "name": "stderr",
     "output_type": "stream",
     "text": [
      "\n"
     ]
    },
    {
     "name": "stdout",
     "output_type": "stream",
     "text": [
      "Found matching infrastructure curves for: rail\n",
      "-- Calculating direct damages --\n",
      "2024-10-02 16:07:48 - Calculating adapted damages for assets...\n"
     ]
    },
    {
     "name": "stderr",
     "output_type": "stream",
     "text": [
      "0it [00:00, ?it/s]"
     ]
    },
    {
     "name": "stdout",
     "output_type": "stream",
     "text": [
      "0 assets with no change.\n",
      "\n",
      "Processing hazard map:  flood_DERP_RW_H_4326_2080436860\n"
     ]
    },
    {
     "name": "stderr",
     "output_type": "stream",
     "text": [
      "\n"
     ]
    },
    {
     "name": "stdout",
     "output_type": "stream",
     "text": [
      "Found matching infrastructure curves for: rail\n",
      "-- Calculating direct damages --\n",
      "2024-10-02 16:07:48 - Calculating adapted damages for assets...\n"
     ]
    },
    {
     "name": "stderr",
     "output_type": "stream",
     "text": [
      "0it [00:00, ?it/s]"
     ]
    },
    {
     "name": "stdout",
     "output_type": "stream",
     "text": [
      "0 assets with no change.\n",
      "\n",
      "Processing hazard map:  flood_DERP_RW_H_4326_2080436870\n"
     ]
    },
    {
     "name": "stderr",
     "output_type": "stream",
     "text": [
      "\n"
     ]
    },
    {
     "name": "stdout",
     "output_type": "stream",
     "text": [
      "Found matching infrastructure curves for: rail\n",
      "-- Calculating direct damages --\n",
      "2024-10-02 16:07:49 - Calculating adapted damages for assets...\n"
     ]
    },
    {
     "name": "stderr",
     "output_type": "stream",
     "text": [
      "0it [00:00, ?it/s]"
     ]
    },
    {
     "name": "stdout",
     "output_type": "stream",
     "text": [
      "0 assets with no change.\n",
      "\n",
      "Processing hazard map:  flood_DERP_RW_H_4326_2080437100\n"
     ]
    },
    {
     "name": "stderr",
     "output_type": "stream",
     "text": [
      "\n"
     ]
    },
    {
     "name": "stdout",
     "output_type": "stream",
     "text": [
      "Found matching infrastructure curves for: rail\n",
      "-- Calculating direct damages --\n",
      "2024-10-02 16:07:49 - Calculating adapted damages for assets...\n"
     ]
    },
    {
     "name": "stderr",
     "output_type": "stream",
     "text": [
      "100%|██████████| 4/4 [00:00<00:00, 1995.15it/s]"
     ]
    },
    {
     "name": "stdout",
     "output_type": "stream",
     "text": [
      "4 assets with no change.\n",
      "\n",
      "Processing hazard map:  flood_DERP_RW_H_4326_2080437230\n"
     ]
    },
    {
     "name": "stderr",
     "output_type": "stream",
     "text": [
      "\n"
     ]
    },
    {
     "name": "stdout",
     "output_type": "stream",
     "text": [
      "Found matching infrastructure curves for: rail\n",
      "-- Calculating direct damages --\n",
      "2024-10-02 16:07:49 - Calculating adapted damages for assets...\n"
     ]
    },
    {
     "name": "stderr",
     "output_type": "stream",
     "text": [
      "100%|██████████| 3/3 [00:00<00:00, 2994.51it/s]"
     ]
    },
    {
     "name": "stdout",
     "output_type": "stream",
     "text": [
      "3 assets with no change.\n",
      "\n",
      "Processing hazard map:  flood_DERP_RW_H_4326_2080437370\n"
     ]
    },
    {
     "name": "stderr",
     "output_type": "stream",
     "text": [
      "\n"
     ]
    },
    {
     "name": "stdout",
     "output_type": "stream",
     "text": [
      "Found matching infrastructure curves for: rail\n",
      "-- Calculating direct damages --\n",
      "2024-10-02 16:07:50 - Calculating adapted damages for assets...\n"
     ]
    },
    {
     "name": "stderr",
     "output_type": "stream",
     "text": [
      "100%|██████████| 3/3 [00:00<00:00, 1000.55it/s]"
     ]
    },
    {
     "name": "stdout",
     "output_type": "stream",
     "text": [
      "3 assets with no change.\n",
      "\n",
      "Processing hazard map:  flood_DERP_RW_H_4326_2080438230\n"
     ]
    },
    {
     "name": "stderr",
     "output_type": "stream",
     "text": [
      "\n"
     ]
    },
    {
     "name": "stdout",
     "output_type": "stream",
     "text": [
      "Found matching infrastructure curves for: rail\n",
      "-- Calculating direct damages --\n",
      "2024-10-02 16:07:50 - Calculating adapted damages for assets...\n"
     ]
    },
    {
     "name": "stderr",
     "output_type": "stream",
     "text": [
      "100%|██████████| 5/5 [00:00<00:00, 5020.71it/s]"
     ]
    },
    {
     "name": "stdout",
     "output_type": "stream",
     "text": [
      "5 assets with no change.\n",
      "\n",
      "Processing hazard map:  flood_DERP_RW_H_4326_2080438240\n"
     ]
    },
    {
     "name": "stderr",
     "output_type": "stream",
     "text": [
      "\n"
     ]
    },
    {
     "name": "stdout",
     "output_type": "stream",
     "text": [
      "Found matching infrastructure curves for: rail\n",
      "-- Calculating direct damages --\n",
      "2024-10-02 16:07:50 - Calculating adapted damages for assets...\n"
     ]
    },
    {
     "name": "stderr",
     "output_type": "stream",
     "text": [
      "100%|██████████| 14/14 [00:00<00:00, 6976.39it/s]"
     ]
    },
    {
     "name": "stdout",
     "output_type": "stream",
     "text": [
      "14 assets with no change.\n",
      "\n",
      "Processing hazard map:  flood_DERP_RW_H_4326_2080438400\n"
     ]
    },
    {
     "name": "stderr",
     "output_type": "stream",
     "text": [
      "\n"
     ]
    },
    {
     "name": "stdout",
     "output_type": "stream",
     "text": [
      "Found matching infrastructure curves for: rail\n",
      "-- Calculating direct damages --\n",
      "2024-10-02 16:07:51 - Calculating adapted damages for assets...\n"
     ]
    },
    {
     "name": "stderr",
     "output_type": "stream",
     "text": [
      "100%|██████████| 23/23 [00:00<00:00, 7660.53it/s]"
     ]
    },
    {
     "name": "stdout",
     "output_type": "stream",
     "text": [
      "23 assets with no change.\n",
      "\n",
      "Processing hazard map:  flood_DERP_RW_H_4326_2080438410\n"
     ]
    },
    {
     "name": "stderr",
     "output_type": "stream",
     "text": [
      "\n"
     ]
    },
    {
     "name": "stdout",
     "output_type": "stream",
     "text": [
      "Found matching infrastructure curves for: rail\n",
      "-- Calculating direct damages --\n",
      "2024-10-02 16:07:51 - Calculating adapted damages for assets...\n"
     ]
    },
    {
     "name": "stderr",
     "output_type": "stream",
     "text": [
      "100%|██████████| 7/7 [00:00<00:00, 2332.39it/s]"
     ]
    },
    {
     "name": "stdout",
     "output_type": "stream",
     "text": [
      "7 assets with no change.\n",
      "\n",
      "Processing hazard map:  flood_DERP_RW_H_4326_2080439400\n"
     ]
    },
    {
     "name": "stderr",
     "output_type": "stream",
     "text": [
      "\n"
     ]
    },
    {
     "name": "stdout",
     "output_type": "stream",
     "text": [
      "Found matching infrastructure curves for: rail\n",
      "-- Calculating direct damages --\n",
      "2024-10-02 16:07:52 - Calculating adapted damages for assets...\n"
     ]
    },
    {
     "name": "stderr",
     "output_type": "stream",
     "text": [
      "0it [00:00, ?it/s]"
     ]
    },
    {
     "name": "stdout",
     "output_type": "stream",
     "text": [
      "0 assets with no change.\n",
      "\n",
      "Processing hazard map:  flood_DERP_RW_H_4326_2080439410\n"
     ]
    },
    {
     "name": "stderr",
     "output_type": "stream",
     "text": [
      "\n"
     ]
    },
    {
     "name": "stdout",
     "output_type": "stream",
     "text": [
      "Found matching infrastructure curves for: rail\n",
      "-- Calculating direct damages --\n",
      "2024-10-02 16:07:52 - Calculating adapted damages for assets...\n"
     ]
    },
    {
     "name": "stderr",
     "output_type": "stream",
     "text": [
      "100%|██████████| 20/20 [00:00<00:00, 10009.08it/s]"
     ]
    },
    {
     "name": "stdout",
     "output_type": "stream",
     "text": [
      "20 assets with no change.\n",
      "\n",
      "Processing hazard map:  flood_DERP_RW_H_4326_2080441280\n"
     ]
    },
    {
     "name": "stderr",
     "output_type": "stream",
     "text": [
      "\n"
     ]
    },
    {
     "name": "stdout",
     "output_type": "stream",
     "text": [
      "Found matching infrastructure curves for: rail\n",
      "-- Calculating direct damages --\n",
      "2024-10-02 16:07:52 - Calculating adapted damages for assets...\n"
     ]
    },
    {
     "name": "stderr",
     "output_type": "stream",
     "text": [
      "100%|██████████| 14/14 [00:00<00:00, 7015.56it/s]"
     ]
    },
    {
     "name": "stdout",
     "output_type": "stream",
     "text": [
      "14 assets with no change.\n",
      "\n",
      "Processing hazard map:  flood_DERP_RW_H_4326_2080446220\n"
     ]
    },
    {
     "name": "stderr",
     "output_type": "stream",
     "text": [
      "\n"
     ]
    },
    {
     "name": "stdout",
     "output_type": "stream",
     "text": [
      "Found matching infrastructure curves for: rail\n",
      "-- Calculating direct damages --\n",
      "2024-10-02 16:07:53 - Calculating adapted damages for assets...\n"
     ]
    },
    {
     "name": "stderr",
     "output_type": "stream",
     "text": [
      "100%|██████████| 30/30 [00:00<00:00, 9993.58it/s]"
     ]
    },
    {
     "name": "stdout",
     "output_type": "stream",
     "text": [
      "30 assets with no change.\n",
      "\n",
      "Processing hazard map:  flood_DERP_RW_H_4326_2080446320\n"
     ]
    },
    {
     "name": "stderr",
     "output_type": "stream",
     "text": [
      "\n"
     ]
    },
    {
     "name": "stdout",
     "output_type": "stream",
     "text": [
      "Found matching infrastructure curves for: rail\n",
      "-- Calculating direct damages --\n",
      "2024-10-02 16:07:53 - Calculating adapted damages for assets...\n"
     ]
    },
    {
     "name": "stderr",
     "output_type": "stream",
     "text": [
      "0it [00:00, ?it/s]"
     ]
    },
    {
     "name": "stdout",
     "output_type": "stream",
     "text": [
      "0 assets with no change.\n",
      "\n",
      "Processing hazard map:  flood_DERP_RW_H_4326_2080447840\n"
     ]
    },
    {
     "name": "stderr",
     "output_type": "stream",
     "text": [
      "\n"
     ]
    },
    {
     "name": "stdout",
     "output_type": "stream",
     "text": [
      "Found matching infrastructure curves for: rail\n",
      "-- Calculating direct damages --\n",
      "2024-10-02 16:07:54 - Calculating adapted damages for assets...\n"
     ]
    },
    {
     "name": "stderr",
     "output_type": "stream",
     "text": [
      "100%|██████████| 55/55 [00:00<00:00, 27534.82it/s]"
     ]
    },
    {
     "name": "stdout",
     "output_type": "stream",
     "text": [
      "55 assets with no change.\n",
      "\n",
      "Processing hazard map:  flood_DERP_RW_H_4326_2080447970\n"
     ]
    },
    {
     "name": "stderr",
     "output_type": "stream",
     "text": [
      "\n"
     ]
    },
    {
     "name": "stdout",
     "output_type": "stream",
     "text": [
      "Found matching infrastructure curves for: rail\n",
      "-- Calculating direct damages --\n",
      "2024-10-02 16:07:54 - Calculating adapted damages for assets...\n"
     ]
    },
    {
     "name": "stderr",
     "output_type": "stream",
     "text": [
      "100%|██████████| 7/7 [00:00<00:00, 3499.00it/s]"
     ]
    },
    {
     "name": "stdout",
     "output_type": "stream",
     "text": [
      "7 assets with no change.\n",
      "\n",
      "Processing hazard map:  flood_DERP_RW_H_4326_2080448120\n"
     ]
    },
    {
     "name": "stderr",
     "output_type": "stream",
     "text": [
      "\n"
     ]
    },
    {
     "name": "stdout",
     "output_type": "stream",
     "text": [
      "Found matching infrastructure curves for: rail\n",
      "-- Calculating direct damages --\n",
      "2024-10-02 16:07:54 - Calculating adapted damages for assets...\n"
     ]
    },
    {
     "name": "stderr",
     "output_type": "stream",
     "text": [
      "0it [00:00, ?it/s]"
     ]
    },
    {
     "name": "stdout",
     "output_type": "stream",
     "text": [
      "0 assets with no change.\n",
      "\n",
      "Processing hazard map:  flood_DERP_RW_H_4326_2080451930\n"
     ]
    },
    {
     "name": "stderr",
     "output_type": "stream",
     "text": [
      "\n"
     ]
    },
    {
     "name": "stdout",
     "output_type": "stream",
     "text": [
      "Found matching infrastructure curves for: rail\n",
      "-- Calculating direct damages --\n",
      "2024-10-02 16:07:55 - Calculating adapted damages for assets...\n"
     ]
    },
    {
     "name": "stderr",
     "output_type": "stream",
     "text": [
      "100%|██████████| 5/5 [00:00<00:00, 1666.92it/s]"
     ]
    },
    {
     "name": "stdout",
     "output_type": "stream",
     "text": [
      "5 assets with no change.\n",
      "\n",
      "Processing hazard map:  flood_DERP_RW_L_4326_2080410170\n"
     ]
    },
    {
     "name": "stderr",
     "output_type": "stream",
     "text": [
      "\n"
     ]
    },
    {
     "name": "stdout",
     "output_type": "stream",
     "text": [
      "Found matching infrastructure curves for: rail\n",
      "-- Calculating direct damages --\n",
      "2024-10-02 16:07:55 - Calculating adapted damages for assets...\n"
     ]
    },
    {
     "name": "stderr",
     "output_type": "stream",
     "text": [
      "100%|██████████| 34/34 [00:00<00:00, 11326.95it/s]"
     ]
    },
    {
     "name": "stdout",
     "output_type": "stream",
     "text": [
      "34 assets with no change.\n",
      "\n",
      "Processing hazard map:  flood_DERP_RW_L_4326_2080410430\n"
     ]
    },
    {
     "name": "stderr",
     "output_type": "stream",
     "text": [
      "\n"
     ]
    },
    {
     "name": "stdout",
     "output_type": "stream",
     "text": [
      "Found matching infrastructure curves for: rail\n",
      "-- Calculating direct damages --\n",
      "2024-10-02 16:07:56 - Calculating adapted damages for assets...\n"
     ]
    },
    {
     "name": "stderr",
     "output_type": "stream",
     "text": [
      "100%|██████████| 20/20 [00:00<00:00, 10017.44it/s]"
     ]
    },
    {
     "name": "stdout",
     "output_type": "stream",
     "text": [
      "20 assets with no change.\n",
      "\n",
      "Processing hazard map:  flood_DERP_RW_L_4326_2080410540\n"
     ]
    },
    {
     "name": "stderr",
     "output_type": "stream",
     "text": [
      "\n"
     ]
    },
    {
     "name": "stdout",
     "output_type": "stream",
     "text": [
      "Found matching infrastructure curves for: rail\n",
      "-- Calculating direct damages --\n",
      "2024-10-02 16:07:56 - Calculating adapted damages for assets...\n"
     ]
    },
    {
     "name": "stderr",
     "output_type": "stream",
     "text": [
      "100%|██████████| 48/48 [00:00<00:00, 12003.02it/s]"
     ]
    },
    {
     "name": "stdout",
     "output_type": "stream",
     "text": [
      "48 assets with no change.\n",
      "\n",
      "Processing hazard map:  flood_DERP_RW_L_4326_2080410660\n"
     ]
    },
    {
     "name": "stderr",
     "output_type": "stream",
     "text": [
      "\n"
     ]
    },
    {
     "name": "stdout",
     "output_type": "stream",
     "text": [
      "Found matching infrastructure curves for: rail\n",
      "-- Calculating direct damages --\n",
      "2024-10-02 16:07:56 - Calculating adapted damages for assets...\n"
     ]
    },
    {
     "name": "stderr",
     "output_type": "stream",
     "text": [
      "100%|██████████| 11/11 [00:00<00:00, 3661.98it/s]"
     ]
    },
    {
     "name": "stdout",
     "output_type": "stream",
     "text": [
      "11 assets with no change.\n",
      "\n",
      "Processing hazard map:  flood_DERP_RW_L_4326_2080410760\n"
     ]
    },
    {
     "name": "stderr",
     "output_type": "stream",
     "text": [
      "\n"
     ]
    },
    {
     "name": "stdout",
     "output_type": "stream",
     "text": [
      "Found matching infrastructure curves for: rail\n",
      "-- Calculating direct damages --\n",
      "2024-10-02 16:07:57 - Calculating adapted damages for assets...\n"
     ]
    },
    {
     "name": "stderr",
     "output_type": "stream",
     "text": [
      "100%|██████████| 3/3 [00:00<00:00, 1499.75it/s]"
     ]
    },
    {
     "name": "stdout",
     "output_type": "stream",
     "text": [
      "3 assets with no change.\n",
      "\n",
      "Processing hazard map:  flood_DERP_RW_L_4326_2080411370\n"
     ]
    },
    {
     "name": "stderr",
     "output_type": "stream",
     "text": [
      "\n"
     ]
    },
    {
     "name": "stdout",
     "output_type": "stream",
     "text": [
      "Found matching infrastructure curves for: rail\n",
      "-- Calculating direct damages --\n",
      "2024-10-02 16:07:57 - Calculating adapted damages for assets...\n"
     ]
    },
    {
     "name": "stderr",
     "output_type": "stream",
     "text": [
      "100%|██████████| 100/100 [00:00<00:00, 33349.00it/s]"
     ]
    },
    {
     "name": "stdout",
     "output_type": "stream",
     "text": [
      "100 assets with no change.\n",
      "\n",
      "Processing hazard map:  flood_DERP_RW_L_4326_2080416200\n"
     ]
    },
    {
     "name": "stderr",
     "output_type": "stream",
     "text": [
      "\n"
     ]
    },
    {
     "name": "stdout",
     "output_type": "stream",
     "text": [
      "Found matching infrastructure curves for: rail\n",
      "-- Calculating direct damages --\n",
      "2024-10-02 16:07:57 - Calculating adapted damages for assets...\n"
     ]
    },
    {
     "name": "stderr",
     "output_type": "stream",
     "text": [
      "100%|██████████| 5/5 [00:00<00:00, 4905.62it/s]"
     ]
    },
    {
     "name": "stdout",
     "output_type": "stream",
     "text": [
      "5 assets with no change.\n",
      "\n",
      "Processing hazard map:  flood_DERP_RW_L_4326_2080416210\n"
     ]
    },
    {
     "name": "stderr",
     "output_type": "stream",
     "text": [
      "\n"
     ]
    },
    {
     "name": "stdout",
     "output_type": "stream",
     "text": [
      "Found matching infrastructure curves for: rail\n",
      "-- Calculating direct damages --\n",
      "2024-10-02 16:07:58 - Calculating adapted damages for assets...\n"
     ]
    },
    {
     "name": "stderr",
     "output_type": "stream",
     "text": [
      "100%|██████████| 155/155 [00:00<00:00, 38736.65it/s]"
     ]
    },
    {
     "name": "stdout",
     "output_type": "stream",
     "text": [
      "155 assets with no change.\n",
      "\n",
      "Processing hazard map:  flood_DERP_RW_L_4326_2080418600\n"
     ]
    },
    {
     "name": "stderr",
     "output_type": "stream",
     "text": [
      "\n"
     ]
    },
    {
     "name": "stdout",
     "output_type": "stream",
     "text": [
      "Found matching infrastructure curves for: rail\n",
      "-- Calculating direct damages --\n",
      "2024-10-02 16:07:58 - Calculating adapted damages for assets...\n"
     ]
    },
    {
     "name": "stderr",
     "output_type": "stream",
     "text": [
      "100%|██████████| 67/67 [00:00<00:00, 22304.82it/s]"
     ]
    },
    {
     "name": "stdout",
     "output_type": "stream",
     "text": [
      "67 assets with no change.\n",
      "\n",
      "Processing hazard map:  flood_DERP_RW_L_4326_2080418720\n"
     ]
    },
    {
     "name": "stderr",
     "output_type": "stream",
     "text": [
      "\n"
     ]
    },
    {
     "name": "stdout",
     "output_type": "stream",
     "text": [
      "Found matching infrastructure curves for: rail\n",
      "-- Calculating direct damages --\n",
      "2024-10-02 16:07:59 - Calculating adapted damages for assets...\n"
     ]
    },
    {
     "name": "stderr",
     "output_type": "stream",
     "text": [
      "100%|██████████| 7/7 [00:00<00:00, 6988.84it/s]"
     ]
    },
    {
     "name": "stdout",
     "output_type": "stream",
     "text": [
      "7 assets with no change.\n",
      "\n",
      "Processing hazard map:  flood_DERP_RW_L_4326_2080418880\n"
     ]
    },
    {
     "name": "stderr",
     "output_type": "stream",
     "text": [
      "\n"
     ]
    },
    {
     "name": "stdout",
     "output_type": "stream",
     "text": [
      "Found matching infrastructure curves for: rail\n",
      "-- Calculating direct damages --\n",
      "2024-10-02 16:07:59 - Calculating adapted damages for assets...\n"
     ]
    },
    {
     "name": "stderr",
     "output_type": "stream",
     "text": [
      "100%|██████████| 11/11 [00:00<00:00, 10985.08it/s]"
     ]
    },
    {
     "name": "stdout",
     "output_type": "stream",
     "text": [
      "11 assets with no change.\n",
      "\n",
      "Processing hazard map:  flood_DERP_RW_L_4326_2080418890\n"
     ]
    },
    {
     "name": "stderr",
     "output_type": "stream",
     "text": [
      "\n"
     ]
    },
    {
     "name": "stdout",
     "output_type": "stream",
     "text": [
      "Found matching infrastructure curves for: rail\n",
      "-- Calculating direct damages --\n",
      "2024-10-02 16:08:00 - Calculating adapted damages for assets...\n"
     ]
    },
    {
     "name": "stderr",
     "output_type": "stream",
     "text": [
      "100%|██████████| 85/85 [00:00<00:00, 21214.87it/s]"
     ]
    },
    {
     "name": "stdout",
     "output_type": "stream",
     "text": [
      "85 assets with no change.\n",
      "\n",
      "Processing hazard map:  flood_DERP_RW_L_4326_2080419070\n"
     ]
    },
    {
     "name": "stderr",
     "output_type": "stream",
     "text": [
      "\n"
     ]
    },
    {
     "name": "stdout",
     "output_type": "stream",
     "text": [
      "Found matching infrastructure curves for: rail\n",
      "-- Calculating direct damages --\n",
      "2024-10-02 16:08:00 - Calculating adapted damages for assets...\n"
     ]
    },
    {
     "name": "stderr",
     "output_type": "stream",
     "text": [
      "100%|██████████| 3/3 [00:00<00:00, 2971.87it/s]"
     ]
    },
    {
     "name": "stdout",
     "output_type": "stream",
     "text": [
      "3 assets with no change.\n",
      "\n",
      "Processing hazard map:  flood_DERP_RW_L_4326_2080419180\n"
     ]
    },
    {
     "name": "stderr",
     "output_type": "stream",
     "text": [
      "\n"
     ]
    },
    {
     "name": "stdout",
     "output_type": "stream",
     "text": [
      "Found matching infrastructure curves for: rail\n",
      "-- Calculating direct damages --\n",
      "2024-10-02 16:08:00 - Calculating adapted damages for assets...\n"
     ]
    },
    {
     "name": "stderr",
     "output_type": "stream",
     "text": [
      "100%|██████████| 62/62 [00:00<00:00, 20614.10it/s]"
     ]
    },
    {
     "name": "stdout",
     "output_type": "stream",
     "text": [
      "62 assets with no change.\n",
      "\n",
      "Processing hazard map:  flood_DERP_RW_L_4326_2080420240\n"
     ]
    },
    {
     "name": "stderr",
     "output_type": "stream",
     "text": [
      "\n"
     ]
    },
    {
     "name": "stdout",
     "output_type": "stream",
     "text": [
      "Found matching infrastructure curves for: rail\n",
      "-- Calculating direct damages --\n",
      "2024-10-02 16:08:01 - Calculating adapted damages for assets...\n"
     ]
    },
    {
     "name": "stderr",
     "output_type": "stream",
     "text": [
      "100%|██████████| 214/214 [00:00<00:00, 30611.18it/s]"
     ]
    },
    {
     "name": "stdout",
     "output_type": "stream",
     "text": [
      "214 assets with no change.\n",
      "\n",
      "Processing hazard map:  flood_DERP_RW_L_4326_2080420340\n"
     ]
    },
    {
     "name": "stderr",
     "output_type": "stream",
     "text": [
      "\n"
     ]
    },
    {
     "name": "stdout",
     "output_type": "stream",
     "text": [
      "Found matching infrastructure curves for: rail\n",
      "-- Calculating direct damages --\n",
      "2024-10-02 16:08:01 - Calculating adapted damages for assets...\n"
     ]
    },
    {
     "name": "stderr",
     "output_type": "stream",
     "text": [
      "100%|██████████| 32/32 [00:00<00:00, 10679.32it/s]"
     ]
    },
    {
     "name": "stdout",
     "output_type": "stream",
     "text": [
      "32 assets with no change.\n",
      "\n",
      "Processing hazard map:  flood_DERP_RW_L_4326_2080421680\n"
     ]
    },
    {
     "name": "stderr",
     "output_type": "stream",
     "text": [
      "\n"
     ]
    },
    {
     "name": "stdout",
     "output_type": "stream",
     "text": [
      "Found matching infrastructure curves for: rail\n",
      "-- Calculating direct damages --\n",
      "2024-10-02 16:08:02 - Calculating adapted damages for assets...\n"
     ]
    },
    {
     "name": "stderr",
     "output_type": "stream",
     "text": [
      "100%|██████████| 123/123 [00:00<00:00, 30728.42it/s]"
     ]
    },
    {
     "name": "stdout",
     "output_type": "stream",
     "text": [
      "123 assets with no change.\n",
      "\n",
      "Processing hazard map:  flood_DERP_RW_L_4326_2080421770\n"
     ]
    },
    {
     "name": "stderr",
     "output_type": "stream",
     "text": [
      "\n"
     ]
    },
    {
     "name": "stdout",
     "output_type": "stream",
     "text": [
      "Found matching infrastructure curves for: rail\n",
      "-- Calculating direct damages --\n",
      "2024-10-02 16:08:02 - Calculating adapted damages for assets...\n"
     ]
    },
    {
     "name": "stderr",
     "output_type": "stream",
     "text": [
      "100%|██████████| 196/196 [00:00<00:00, 39146.84it/s]"
     ]
    },
    {
     "name": "stdout",
     "output_type": "stream",
     "text": [
      "196 assets with no change.\n",
      "\n",
      "Processing hazard map:  flood_DERP_RW_L_4326_2080428080\n"
     ]
    },
    {
     "name": "stderr",
     "output_type": "stream",
     "text": [
      "\n"
     ]
    },
    {
     "name": "stdout",
     "output_type": "stream",
     "text": [
      "Found matching infrastructure curves for: rail\n",
      "-- Calculating direct damages --\n",
      "2024-10-02 16:08:03 - Calculating adapted damages for assets...\n"
     ]
    },
    {
     "name": "stderr",
     "output_type": "stream",
     "text": [
      "0it [00:00, ?it/s]"
     ]
    },
    {
     "name": "stdout",
     "output_type": "stream",
     "text": [
      "0 assets with no change.\n",
      "\n",
      "Processing hazard map:  flood_DERP_RW_L_4326_2080428160\n"
     ]
    },
    {
     "name": "stderr",
     "output_type": "stream",
     "text": [
      "\n"
     ]
    },
    {
     "name": "stdout",
     "output_type": "stream",
     "text": [
      "Found matching infrastructure curves for: rail\n",
      "-- Calculating direct damages --\n",
      "2024-10-02 16:08:03 - Calculating adapted damages for assets...\n"
     ]
    },
    {
     "name": "stderr",
     "output_type": "stream",
     "text": [
      "100%|██████████| 11/11 [00:00<00:00, 10979.85it/s]"
     ]
    },
    {
     "name": "stdout",
     "output_type": "stream",
     "text": [
      "11 assets with no change.\n",
      "\n",
      "Processing hazard map:  flood_DERP_RW_L_4326_2080428500\n"
     ]
    },
    {
     "name": "stderr",
     "output_type": "stream",
     "text": [
      "\n"
     ]
    },
    {
     "name": "stdout",
     "output_type": "stream",
     "text": [
      "Found matching infrastructure curves for: rail\n",
      "-- Calculating direct damages --\n",
      "2024-10-02 16:08:03 - Calculating adapted damages for assets...\n"
     ]
    },
    {
     "name": "stderr",
     "output_type": "stream",
     "text": [
      "100%|██████████| 34/34 [00:00<00:00, 33665.33it/s]"
     ]
    },
    {
     "name": "stdout",
     "output_type": "stream",
     "text": [
      "34 assets with no change.\n",
      "\n",
      "Processing hazard map:  flood_DERP_RW_L_4326_2080429430\n"
     ]
    },
    {
     "name": "stderr",
     "output_type": "stream",
     "text": [
      "\n"
     ]
    },
    {
     "name": "stdout",
     "output_type": "stream",
     "text": [
      "Found matching infrastructure curves for: rail\n",
      "-- Calculating direct damages --\n",
      "2024-10-02 16:08:04 - Calculating adapted damages for assets...\n"
     ]
    },
    {
     "name": "stderr",
     "output_type": "stream",
     "text": [
      "100%|██████████| 113/113 [00:00<00:00, 28245.31it/s]"
     ]
    },
    {
     "name": "stdout",
     "output_type": "stream",
     "text": [
      "113 assets with no change.\n",
      "\n",
      "Processing hazard map:  flood_DERP_RW_L_4326_2080429540\n"
     ]
    },
    {
     "name": "stderr",
     "output_type": "stream",
     "text": [
      "\n"
     ]
    },
    {
     "name": "stdout",
     "output_type": "stream",
     "text": [
      "Found matching infrastructure curves for: rail\n",
      "-- Calculating direct damages --\n",
      "2024-10-02 16:08:04 - Calculating adapted damages for assets...\n"
     ]
    },
    {
     "name": "stderr",
     "output_type": "stream",
     "text": [
      "100%|██████████| 6/6 [00:00<00:00, 6010.47it/s]"
     ]
    },
    {
     "name": "stdout",
     "output_type": "stream",
     "text": [
      "6 assets with no change.\n",
      "\n",
      "Processing hazard map:  flood_DERP_RW_L_4326_2080429670\n"
     ]
    },
    {
     "name": "stderr",
     "output_type": "stream",
     "text": [
      "\n"
     ]
    },
    {
     "name": "stdout",
     "output_type": "stream",
     "text": [
      "Found matching infrastructure curves for: rail\n",
      "-- Calculating direct damages --\n",
      "2024-10-02 16:08:04 - Calculating adapted damages for assets...\n"
     ]
    },
    {
     "name": "stderr",
     "output_type": "stream",
     "text": [
      "0it [00:00, ?it/s]"
     ]
    },
    {
     "name": "stdout",
     "output_type": "stream",
     "text": [
      "0 assets with no change.\n",
      "\n",
      "Processing hazard map:  flood_DERP_RW_L_4326_2080429770\n"
     ]
    },
    {
     "name": "stderr",
     "output_type": "stream",
     "text": [
      "\n"
     ]
    },
    {
     "name": "stdout",
     "output_type": "stream",
     "text": [
      "Found matching infrastructure curves for: rail\n",
      "-- Calculating direct damages --\n",
      "2024-10-02 16:08:05 - Calculating adapted damages for assets...\n"
     ]
    },
    {
     "name": "stderr",
     "output_type": "stream",
     "text": [
      "100%|██████████| 56/56 [00:00<00:00, 18631.00it/s]"
     ]
    },
    {
     "name": "stdout",
     "output_type": "stream",
     "text": [
      "56 assets with no change.\n",
      "\n",
      "Processing hazard map:  flood_DERP_RW_L_4326_2080430240\n"
     ]
    },
    {
     "name": "stderr",
     "output_type": "stream",
     "text": [
      "\n"
     ]
    },
    {
     "name": "stdout",
     "output_type": "stream",
     "text": [
      "Found matching infrastructure curves for: rail\n",
      "-- Calculating direct damages --\n",
      "2024-10-02 16:08:05 - Calculating adapted damages for assets...\n"
     ]
    },
    {
     "name": "stderr",
     "output_type": "stream",
     "text": [
      "100%|██████████| 34/34 [00:00<00:00, 11352.20it/s]"
     ]
    },
    {
     "name": "stdout",
     "output_type": "stream",
     "text": [
      "34 assets with no change.\n",
      "\n",
      "Processing hazard map:  flood_DERP_RW_L_4326_2080430320\n"
     ]
    },
    {
     "name": "stderr",
     "output_type": "stream",
     "text": [
      "\n"
     ]
    },
    {
     "name": "stdout",
     "output_type": "stream",
     "text": [
      "Found matching infrastructure curves for: rail\n",
      "-- Calculating direct damages --\n",
      "2024-10-02 16:08:05 - Calculating adapted damages for assets...\n"
     ]
    },
    {
     "name": "stderr",
     "output_type": "stream",
     "text": [
      "100%|██████████| 42/42 [00:00<00:00, 13982.12it/s]"
     ]
    },
    {
     "name": "stdout",
     "output_type": "stream",
     "text": [
      "42 assets with no change.\n",
      "\n",
      "Processing hazard map:  flood_DERP_RW_L_4326_2080431110\n"
     ]
    },
    {
     "name": "stderr",
     "output_type": "stream",
     "text": [
      "\n"
     ]
    },
    {
     "name": "stdout",
     "output_type": "stream",
     "text": [
      "Found matching infrastructure curves for: rail\n",
      "-- Calculating direct damages --\n",
      "2024-10-02 16:08:06 - Calculating adapted damages for assets...\n"
     ]
    },
    {
     "name": "stderr",
     "output_type": "stream",
     "text": [
      "100%|██████████| 88/88 [00:00<00:00, 17619.76it/s]"
     ]
    },
    {
     "name": "stdout",
     "output_type": "stream",
     "text": [
      "88 assets with no change.\n",
      "\n",
      "Processing hazard map:  flood_DERP_RW_L_4326_2080431660\n"
     ]
    },
    {
     "name": "stderr",
     "output_type": "stream",
     "text": [
      "\n"
     ]
    },
    {
     "name": "stdout",
     "output_type": "stream",
     "text": [
      "Found matching infrastructure curves for: rail\n",
      "-- Calculating direct damages --\n",
      "2024-10-02 16:08:06 - Calculating adapted damages for assets...\n"
     ]
    },
    {
     "name": "stderr",
     "output_type": "stream",
     "text": [
      "100%|██████████| 2/2 [00:00<00:00, 665.97it/s]"
     ]
    },
    {
     "name": "stdout",
     "output_type": "stream",
     "text": [
      "2 assets with no change.\n",
      "\n",
      "Processing hazard map:  flood_DERP_RW_L_4326_2080431750\n"
     ]
    },
    {
     "name": "stderr",
     "output_type": "stream",
     "text": [
      "\n"
     ]
    },
    {
     "name": "stdout",
     "output_type": "stream",
     "text": [
      "Found matching infrastructure curves for: rail\n",
      "-- Calculating direct damages --\n",
      "2024-10-02 16:08:07 - Calculating adapted damages for assets...\n"
     ]
    },
    {
     "name": "stderr",
     "output_type": "stream",
     "text": [
      "0it [00:00, ?it/s]"
     ]
    },
    {
     "name": "stdout",
     "output_type": "stream",
     "text": [
      "0 assets with no change.\n",
      "\n",
      "Processing hazard map:  flood_DERP_RW_L_4326_2080432400\n"
     ]
    },
    {
     "name": "stderr",
     "output_type": "stream",
     "text": [
      "\n"
     ]
    },
    {
     "name": "stdout",
     "output_type": "stream",
     "text": [
      "Found matching infrastructure curves for: rail\n",
      "-- Calculating direct damages --\n",
      "2024-10-02 16:08:07 - Calculating adapted damages for assets...\n"
     ]
    },
    {
     "name": "stderr",
     "output_type": "stream",
     "text": [
      "100%|██████████| 4/4 [00:00<00:00, 3994.58it/s]"
     ]
    },
    {
     "name": "stdout",
     "output_type": "stream",
     "text": [
      "4 assets with no change.\n",
      "\n",
      "Processing hazard map:  flood_DERP_RW_L_4326_2080432510\n"
     ]
    },
    {
     "name": "stderr",
     "output_type": "stream",
     "text": [
      "\n"
     ]
    },
    {
     "name": "stdout",
     "output_type": "stream",
     "text": [
      "Found matching infrastructure curves for: rail\n",
      "-- Calculating direct damages --\n",
      "2024-10-02 16:08:07 - Calculating adapted damages for assets...\n"
     ]
    },
    {
     "name": "stderr",
     "output_type": "stream",
     "text": [
      "100%|██████████| 55/55 [00:00<00:00, 27446.37it/s]"
     ]
    },
    {
     "name": "stdout",
     "output_type": "stream",
     "text": [
      "55 assets with no change.\n",
      "\n",
      "Processing hazard map:  flood_DERP_RW_L_4326_2080433520\n"
     ]
    },
    {
     "name": "stderr",
     "output_type": "stream",
     "text": [
      "\n"
     ]
    },
    {
     "name": "stdout",
     "output_type": "stream",
     "text": [
      "Found matching infrastructure curves for: rail\n",
      "-- Calculating direct damages --\n",
      "2024-10-02 16:08:08 - Calculating adapted damages for assets...\n"
     ]
    },
    {
     "name": "stderr",
     "output_type": "stream",
     "text": [
      "0it [00:00, ?it/s]"
     ]
    },
    {
     "name": "stdout",
     "output_type": "stream",
     "text": [
      "0 assets with no change.\n",
      "\n",
      "Processing hazard map:  flood_DERP_RW_L_4326_2080433740\n"
     ]
    },
    {
     "name": "stderr",
     "output_type": "stream",
     "text": [
      "\n"
     ]
    },
    {
     "name": "stdout",
     "output_type": "stream",
     "text": [
      "Found matching infrastructure curves for: rail\n",
      "-- Calculating direct damages --\n",
      "2024-10-02 16:08:08 - Calculating adapted damages for assets...\n"
     ]
    },
    {
     "name": "stderr",
     "output_type": "stream",
     "text": [
      "0it [00:00, ?it/s]"
     ]
    },
    {
     "name": "stdout",
     "output_type": "stream",
     "text": [
      "0 assets with no change.\n",
      "\n",
      "Processing hazard map:  flood_DERP_RW_L_4326_2080433960\n"
     ]
    },
    {
     "name": "stderr",
     "output_type": "stream",
     "text": [
      "\n"
     ]
    },
    {
     "name": "stdout",
     "output_type": "stream",
     "text": [
      "Found matching infrastructure curves for: rail\n",
      "-- Calculating direct damages --\n",
      "2024-10-02 16:08:09 - Calculating adapted damages for assets...\n"
     ]
    },
    {
     "name": "stderr",
     "output_type": "stream",
     "text": [
      "0it [00:00, ?it/s]"
     ]
    },
    {
     "name": "stdout",
     "output_type": "stream",
     "text": [
      "0 assets with no change.\n",
      "\n",
      "Processing hazard map:  flood_DERP_RW_L_4326_2080434150\n"
     ]
    },
    {
     "name": "stderr",
     "output_type": "stream",
     "text": [
      "\n"
     ]
    },
    {
     "name": "stdout",
     "output_type": "stream",
     "text": [
      "Found matching infrastructure curves for: rail\n",
      "-- Calculating direct damages --\n",
      "2024-10-02 16:08:09 - Calculating adapted damages for assets...\n"
     ]
    },
    {
     "name": "stderr",
     "output_type": "stream",
     "text": [
      "0it [00:00, ?it/s]"
     ]
    },
    {
     "name": "stdout",
     "output_type": "stream",
     "text": [
      "0 assets with no change.\n",
      "\n",
      "Processing hazard map:  flood_DERP_RW_L_4326_2080434280\n"
     ]
    },
    {
     "name": "stderr",
     "output_type": "stream",
     "text": [
      "\n"
     ]
    },
    {
     "name": "stdout",
     "output_type": "stream",
     "text": [
      "Found matching infrastructure curves for: rail\n",
      "-- Calculating direct damages --\n",
      "2024-10-02 16:08:10 - Calculating adapted damages for assets...\n"
     ]
    },
    {
     "name": "stderr",
     "output_type": "stream",
     "text": [
      "100%|██████████| 10/10 [00:00<00:00, 3328.55it/s]"
     ]
    },
    {
     "name": "stdout",
     "output_type": "stream",
     "text": [
      "10 assets with no change.\n",
      "\n",
      "Processing hazard map:  flood_DERP_RW_L_4326_2080434470\n"
     ]
    },
    {
     "name": "stderr",
     "output_type": "stream",
     "text": [
      "\n"
     ]
    },
    {
     "name": "stdout",
     "output_type": "stream",
     "text": [
      "Found matching infrastructure curves for: rail\n",
      "-- Calculating direct damages --\n",
      "2024-10-02 16:08:10 - Calculating adapted damages for assets...\n"
     ]
    },
    {
     "name": "stderr",
     "output_type": "stream",
     "text": [
      "100%|██████████| 172/172 [00:00<00:00, 42951.91it/s]"
     ]
    },
    {
     "name": "stdout",
     "output_type": "stream",
     "text": [
      "172 assets with no change.\n",
      "\n",
      "Processing hazard map:  flood_DERP_RW_L_4326_2080434490\n"
     ]
    },
    {
     "name": "stderr",
     "output_type": "stream",
     "text": [
      "\n"
     ]
    },
    {
     "name": "stdout",
     "output_type": "stream",
     "text": [
      "Found matching infrastructure curves for: rail\n",
      "-- Calculating direct damages --\n",
      "2024-10-02 16:08:11 - Calculating adapted damages for assets...\n"
     ]
    },
    {
     "name": "stderr",
     "output_type": "stream",
     "text": [
      "100%|██████████| 45/45 [00:00<00:00, 11244.11it/s]"
     ]
    },
    {
     "name": "stdout",
     "output_type": "stream",
     "text": [
      "45 assets with no change.\n",
      "\n",
      "Processing hazard map:  flood_DERP_RW_L_4326_2080434630\n"
     ]
    },
    {
     "name": "stderr",
     "output_type": "stream",
     "text": [
      "\n"
     ]
    },
    {
     "name": "stdout",
     "output_type": "stream",
     "text": [
      "Found matching infrastructure curves for: rail\n",
      "-- Calculating direct damages --\n",
      "2024-10-02 16:08:11 - Calculating adapted damages for assets...\n"
     ]
    },
    {
     "name": "stderr",
     "output_type": "stream",
     "text": [
      "100%|██████████| 149/149 [00:00<00:00, 37192.84it/s]"
     ]
    },
    {
     "name": "stdout",
     "output_type": "stream",
     "text": [
      "149 assets with no change.\n",
      "\n",
      "Processing hazard map:  flood_DERP_RW_L_4326_2080435040\n"
     ]
    },
    {
     "name": "stderr",
     "output_type": "stream",
     "text": [
      "\n"
     ]
    },
    {
     "name": "stdout",
     "output_type": "stream",
     "text": [
      "Found matching infrastructure curves for: rail\n",
      "-- Calculating direct damages --\n",
      "2024-10-02 16:08:12 - Calculating adapted damages for assets...\n"
     ]
    },
    {
     "name": "stderr",
     "output_type": "stream",
     "text": [
      "100%|██████████| 102/102 [00:00<00:00, 20387.87it/s]"
     ]
    },
    {
     "name": "stdout",
     "output_type": "stream",
     "text": [
      "102 assets with no change.\n",
      "\n",
      "Processing hazard map:  flood_DERP_RW_L_4326_2080435320\n"
     ]
    },
    {
     "name": "stderr",
     "output_type": "stream",
     "text": [
      "\n"
     ]
    },
    {
     "name": "stdout",
     "output_type": "stream",
     "text": [
      "Found matching infrastructure curves for: rail\n",
      "-- Calculating direct damages --\n",
      "2024-10-02 16:08:13 - Calculating adapted damages for assets...\n"
     ]
    },
    {
     "name": "stderr",
     "output_type": "stream",
     "text": [
      "100%|██████████| 12/12 [00:00<00:00, 6004.01it/s]"
     ]
    },
    {
     "name": "stdout",
     "output_type": "stream",
     "text": [
      "12 assets with no change.\n",
      "\n",
      "Processing hazard map:  flood_DERP_RW_L_4326_2080436660\n"
     ]
    },
    {
     "name": "stderr",
     "output_type": "stream",
     "text": [
      "\n"
     ]
    },
    {
     "name": "stdout",
     "output_type": "stream",
     "text": [
      "Found matching infrastructure curves for: rail\n",
      "-- Calculating direct damages --\n",
      "2024-10-02 16:08:13 - Calculating adapted damages for assets...\n"
     ]
    },
    {
     "name": "stderr",
     "output_type": "stream",
     "text": [
      "0it [00:00, ?it/s]"
     ]
    },
    {
     "name": "stdout",
     "output_type": "stream",
     "text": [
      "0 assets with no change.\n",
      "\n",
      "Processing hazard map:  flood_DERP_RW_L_4326_2080436860\n"
     ]
    },
    {
     "name": "stderr",
     "output_type": "stream",
     "text": [
      "\n"
     ]
    },
    {
     "name": "stdout",
     "output_type": "stream",
     "text": [
      "Found matching infrastructure curves for: rail\n",
      "-- Calculating direct damages --\n",
      "2024-10-02 16:08:13 - Calculating adapted damages for assets...\n"
     ]
    },
    {
     "name": "stderr",
     "output_type": "stream",
     "text": [
      "100%|██████████| 4/4 [00:00<00:00, 3992.67it/s]"
     ]
    },
    {
     "name": "stdout",
     "output_type": "stream",
     "text": [
      "4 assets with no change.\n",
      "\n",
      "Processing hazard map:  flood_DERP_RW_L_4326_2080436870\n"
     ]
    },
    {
     "name": "stderr",
     "output_type": "stream",
     "text": [
      "\n"
     ]
    },
    {
     "name": "stdout",
     "output_type": "stream",
     "text": [
      "Found matching infrastructure curves for: rail\n",
      "-- Calculating direct damages --\n",
      "2024-10-02 16:08:14 - Calculating adapted damages for assets...\n"
     ]
    },
    {
     "name": "stderr",
     "output_type": "stream",
     "text": [
      "100%|██████████| 34/34 [00:00<00:00, 11320.66it/s]"
     ]
    },
    {
     "name": "stdout",
     "output_type": "stream",
     "text": [
      "34 assets with no change.\n",
      "\n",
      "Processing hazard map:  flood_DERP_RW_L_4326_2080437100\n"
     ]
    },
    {
     "name": "stderr",
     "output_type": "stream",
     "text": [
      "\n"
     ]
    },
    {
     "name": "stdout",
     "output_type": "stream",
     "text": [
      "Found matching infrastructure curves for: rail\n",
      "-- Calculating direct damages --\n",
      "2024-10-02 16:08:14 - Calculating adapted damages for assets...\n"
     ]
    },
    {
     "name": "stderr",
     "output_type": "stream",
     "text": [
      "100%|██████████| 31/31 [00:00<00:00, 10322.60it/s]"
     ]
    },
    {
     "name": "stdout",
     "output_type": "stream",
     "text": [
      "31 assets with no change.\n",
      "\n",
      "Processing hazard map:  flood_DERP_RW_L_4326_2080437230\n"
     ]
    },
    {
     "name": "stderr",
     "output_type": "stream",
     "text": [
      "\n"
     ]
    },
    {
     "name": "stdout",
     "output_type": "stream",
     "text": [
      "Found matching infrastructure curves for: rail\n",
      "-- Calculating direct damages --\n",
      "2024-10-02 16:08:14 - Calculating adapted damages for assets...\n"
     ]
    },
    {
     "name": "stderr",
     "output_type": "stream",
     "text": [
      "100%|██████████| 2/2 [00:00<00:00, 2007.80it/s]"
     ]
    },
    {
     "name": "stdout",
     "output_type": "stream",
     "text": [
      "2 assets with no change.\n",
      "\n",
      "Processing hazard map:  flood_DERP_RW_L_4326_2080437370\n"
     ]
    },
    {
     "name": "stderr",
     "output_type": "stream",
     "text": [
      "\n"
     ]
    },
    {
     "name": "stdout",
     "output_type": "stream",
     "text": [
      "Found matching infrastructure curves for: rail\n",
      "-- Calculating direct damages --\n",
      "2024-10-02 16:08:15 - Calculating adapted damages for assets...\n"
     ]
    },
    {
     "name": "stderr",
     "output_type": "stream",
     "text": [
      "100%|██████████| 68/68 [00:00<00:00, 17000.22it/s]"
     ]
    },
    {
     "name": "stdout",
     "output_type": "stream",
     "text": [
      "68 assets with no change.\n",
      "\n",
      "Processing hazard map:  flood_DERP_RW_L_4326_2080438230\n"
     ]
    },
    {
     "name": "stderr",
     "output_type": "stream",
     "text": [
      "\n"
     ]
    },
    {
     "name": "stdout",
     "output_type": "stream",
     "text": [
      "Found matching infrastructure curves for: rail\n",
      "-- Calculating direct damages --\n",
      "2024-10-02 16:08:15 - Calculating adapted damages for assets...\n"
     ]
    },
    {
     "name": "stderr",
     "output_type": "stream",
     "text": [
      "100%|██████████| 25/25 [00:00<00:00, 8347.21it/s]"
     ]
    },
    {
     "name": "stdout",
     "output_type": "stream",
     "text": [
      "25 assets with no change.\n",
      "\n",
      "Processing hazard map:  flood_DERP_RW_L_4326_2080438240\n"
     ]
    },
    {
     "name": "stderr",
     "output_type": "stream",
     "text": [
      "\n"
     ]
    },
    {
     "name": "stdout",
     "output_type": "stream",
     "text": [
      "Found matching infrastructure curves for: rail\n",
      "-- Calculating direct damages --\n",
      "2024-10-02 16:08:16 - Calculating adapted damages for assets...\n"
     ]
    },
    {
     "name": "stderr",
     "output_type": "stream",
     "text": [
      "100%|██████████| 81/81 [00:00<00:00, 26959.10it/s]"
     ]
    },
    {
     "name": "stdout",
     "output_type": "stream",
     "text": [
      "81 assets with no change.\n",
      "\n",
      "Processing hazard map:  flood_DERP_RW_L_4326_2080438400\n"
     ]
    },
    {
     "name": "stderr",
     "output_type": "stream",
     "text": [
      "\n"
     ]
    },
    {
     "name": "stdout",
     "output_type": "stream",
     "text": [
      "Found matching infrastructure curves for: rail\n",
      "-- Calculating direct damages --\n",
      "2024-10-02 16:08:16 - Calculating adapted damages for assets...\n"
     ]
    },
    {
     "name": "stderr",
     "output_type": "stream",
     "text": [
      "100%|██████████| 48/48 [00:00<00:00, 11985.87it/s]"
     ]
    },
    {
     "name": "stdout",
     "output_type": "stream",
     "text": [
      "48 assets with no change.\n",
      "\n",
      "Processing hazard map:  flood_DERP_RW_L_4326_2080438410\n"
     ]
    },
    {
     "name": "stderr",
     "output_type": "stream",
     "text": [
      "\n"
     ]
    },
    {
     "name": "stdout",
     "output_type": "stream",
     "text": [
      "Found matching infrastructure curves for: rail\n",
      "-- Calculating direct damages --\n",
      "2024-10-02 16:08:17 - Calculating adapted damages for assets...\n"
     ]
    },
    {
     "name": "stderr",
     "output_type": "stream",
     "text": [
      "100%|██████████| 14/14 [00:00<00:00, 4662.19it/s]"
     ]
    },
    {
     "name": "stdout",
     "output_type": "stream",
     "text": [
      "14 assets with no change.\n",
      "\n",
      "Processing hazard map:  flood_DERP_RW_L_4326_2080439400\n"
     ]
    },
    {
     "name": "stderr",
     "output_type": "stream",
     "text": [
      "\n"
     ]
    },
    {
     "name": "stdout",
     "output_type": "stream",
     "text": [
      "Found matching infrastructure curves for: rail\n",
      "-- Calculating direct damages --\n",
      "2024-10-02 16:08:17 - Calculating adapted damages for assets...\n"
     ]
    },
    {
     "name": "stderr",
     "output_type": "stream",
     "text": [
      "100%|██████████| 11/11 [00:00<00:00, 5491.23it/s]"
     ]
    },
    {
     "name": "stdout",
     "output_type": "stream",
     "text": [
      "11 assets with no change.\n",
      "\n",
      "Processing hazard map:  flood_DERP_RW_L_4326_2080439410\n"
     ]
    },
    {
     "name": "stderr",
     "output_type": "stream",
     "text": [
      "\n"
     ]
    },
    {
     "name": "stdout",
     "output_type": "stream",
     "text": [
      "Found matching infrastructure curves for: rail\n",
      "-- Calculating direct damages --\n",
      "2024-10-02 16:08:18 - Calculating adapted damages for assets...\n"
     ]
    },
    {
     "name": "stderr",
     "output_type": "stream",
     "text": [
      "100%|██████████| 579/579 [00:00<00:00, 57920.77it/s]"
     ]
    },
    {
     "name": "stdout",
     "output_type": "stream",
     "text": [
      "579 assets with no change.\n",
      "\n",
      "Processing hazard map:  flood_DERP_RW_L_4326_2080441280\n"
     ]
    },
    {
     "name": "stderr",
     "output_type": "stream",
     "text": [
      "\n"
     ]
    },
    {
     "name": "stdout",
     "output_type": "stream",
     "text": [
      "Found matching infrastructure curves for: rail\n",
      "-- Calculating direct damages --\n",
      "2024-10-02 16:08:18 - Calculating adapted damages for assets...\n"
     ]
    },
    {
     "name": "stderr",
     "output_type": "stream",
     "text": [
      "100%|██████████| 584/584 [00:00<00:00, 64866.10it/s]"
     ]
    },
    {
     "name": "stdout",
     "output_type": "stream",
     "text": [
      "584 assets with no change.\n",
      "\n",
      "Processing hazard map:  flood_DERP_RW_L_4326_2080446220\n"
     ]
    },
    {
     "name": "stderr",
     "output_type": "stream",
     "text": [
      "\n"
     ]
    },
    {
     "name": "stdout",
     "output_type": "stream",
     "text": [
      "Found matching infrastructure curves for: rail\n",
      "-- Calculating direct damages --\n",
      "2024-10-02 16:08:19 - Calculating adapted damages for assets...\n"
     ]
    },
    {
     "name": "stderr",
     "output_type": "stream",
     "text": [
      "100%|██████████| 41/41 [00:00<00:00, 20474.64it/s]"
     ]
    },
    {
     "name": "stdout",
     "output_type": "stream",
     "text": [
      "41 assets with no change.\n",
      "\n",
      "Processing hazard map:  flood_DERP_RW_L_4326_2080446320\n"
     ]
    },
    {
     "name": "stderr",
     "output_type": "stream",
     "text": [
      "\n"
     ]
    },
    {
     "name": "stdout",
     "output_type": "stream",
     "text": [
      "Found matching infrastructure curves for: rail\n",
      "-- Calculating direct damages --\n",
      "2024-10-02 16:08:22 - Calculating adapted damages for assets...\n"
     ]
    },
    {
     "name": "stderr",
     "output_type": "stream",
     "text": [
      "100%|██████████| 41/41 [00:00<00:00, 10258.08it/s]"
     ]
    },
    {
     "name": "stdout",
     "output_type": "stream",
     "text": [
      "41 assets with no change.\n",
      "\n",
      "Processing hazard map:  flood_DERP_RW_L_4326_2080447840\n"
     ]
    },
    {
     "name": "stderr",
     "output_type": "stream",
     "text": [
      "\n"
     ]
    },
    {
     "name": "stdout",
     "output_type": "stream",
     "text": [
      "Found matching infrastructure curves for: rail\n",
      "-- Calculating direct damages --\n",
      "2024-10-02 16:08:23 - Calculating adapted damages for assets...\n"
     ]
    },
    {
     "name": "stderr",
     "output_type": "stream",
     "text": [
      "100%|██████████| 308/308 [00:00<00:00, 44012.18it/s]"
     ]
    },
    {
     "name": "stdout",
     "output_type": "stream",
     "text": [
      "308 assets with no change.\n",
      "\n",
      "Processing hazard map:  flood_DERP_RW_L_4326_2080447970\n"
     ]
    },
    {
     "name": "stderr",
     "output_type": "stream",
     "text": [
      "\n"
     ]
    },
    {
     "name": "stdout",
     "output_type": "stream",
     "text": [
      "Found matching infrastructure curves for: rail\n",
      "-- Calculating direct damages --\n",
      "2024-10-02 16:08:24 - Calculating adapted damages for assets...\n"
     ]
    },
    {
     "name": "stderr",
     "output_type": "stream",
     "text": [
      "100%|██████████| 15/15 [00:00<00:00, 15018.99it/s]"
     ]
    },
    {
     "name": "stdout",
     "output_type": "stream",
     "text": [
      "15 assets with no change.\n",
      "\n",
      "Processing hazard map:  flood_DERP_RW_L_4326_2080448120\n"
     ]
    },
    {
     "name": "stderr",
     "output_type": "stream",
     "text": [
      "\n"
     ]
    },
    {
     "name": "stdout",
     "output_type": "stream",
     "text": [
      "Found matching infrastructure curves for: rail\n",
      "-- Calculating direct damages --\n",
      "2024-10-02 16:08:24 - Calculating adapted damages for assets...\n"
     ]
    },
    {
     "name": "stderr",
     "output_type": "stream",
     "text": [
      "100%|██████████| 6/6 [00:00<00:00, 5976.21it/s]"
     ]
    },
    {
     "name": "stdout",
     "output_type": "stream",
     "text": [
      "6 assets with no change.\n",
      "\n",
      "Processing hazard map:  flood_DERP_RW_L_4326_2080451930\n"
     ]
    },
    {
     "name": "stderr",
     "output_type": "stream",
     "text": [
      "\n"
     ]
    },
    {
     "name": "stdout",
     "output_type": "stream",
     "text": [
      "Found matching infrastructure curves for: rail\n",
      "-- Calculating direct damages --\n",
      "2024-10-02 16:08:24 - Calculating adapted damages for assets...\n"
     ]
    },
    {
     "name": "stderr",
     "output_type": "stream",
     "text": [
      "100%|██████████| 15/15 [00:00<00:00, 7505.91it/s]\n"
     ]
    },
    {
     "name": "stdout",
     "output_type": "stream",
     "text": [
      "15 assets with no change.\n",
      "\n",
      "Processing hazard map:  flood_DERP_RW_M_4326_2080410170\n",
      "Found matching infrastructure curves for: rail\n",
      "-- Calculating direct damages --\n",
      "2024-10-02 16:08:25 - Calculating adapted damages for assets...\n"
     ]
    },
    {
     "name": "stderr",
     "output_type": "stream",
     "text": [
      "100%|██████████| 30/30 [00:00<00:00, 10006.29it/s]"
     ]
    },
    {
     "name": "stdout",
     "output_type": "stream",
     "text": [
      "30 assets with no change.\n",
      "\n",
      "Processing hazard map:  flood_DERP_RW_M_4326_2080410430\n"
     ]
    },
    {
     "name": "stderr",
     "output_type": "stream",
     "text": [
      "\n"
     ]
    },
    {
     "name": "stdout",
     "output_type": "stream",
     "text": [
      "Found matching infrastructure curves for: rail\n",
      "-- Calculating direct damages --\n",
      "2024-10-02 16:08:25 - Calculating adapted damages for assets...\n"
     ]
    },
    {
     "name": "stderr",
     "output_type": "stream",
     "text": [
      "100%|██████████| 14/14 [00:00<00:00, 6980.53it/s]"
     ]
    },
    {
     "name": "stdout",
     "output_type": "stream",
     "text": [
      "14 assets with no change.\n",
      "\n",
      "Processing hazard map:  flood_DERP_RW_M_4326_2080410540\n"
     ]
    },
    {
     "name": "stderr",
     "output_type": "stream",
     "text": [
      "\n"
     ]
    },
    {
     "name": "stdout",
     "output_type": "stream",
     "text": [
      "Found matching infrastructure curves for: rail\n",
      "-- Calculating direct damages --\n",
      "2024-10-02 16:08:25 - Calculating adapted damages for assets...\n"
     ]
    },
    {
     "name": "stderr",
     "output_type": "stream",
     "text": [
      "100%|██████████| 33/33 [00:00<00:00, 10986.83it/s]"
     ]
    },
    {
     "name": "stdout",
     "output_type": "stream",
     "text": [
      "33 assets with no change.\n",
      "\n",
      "Processing hazard map:  flood_DERP_RW_M_4326_2080410660\n"
     ]
    },
    {
     "name": "stderr",
     "output_type": "stream",
     "text": [
      "\n"
     ]
    },
    {
     "name": "stdout",
     "output_type": "stream",
     "text": [
      "Found matching infrastructure curves for: rail\n",
      "-- Calculating direct damages --\n",
      "2024-10-02 16:08:26 - Calculating adapted damages for assets...\n"
     ]
    },
    {
     "name": "stderr",
     "output_type": "stream",
     "text": [
      "100%|██████████| 10/10 [00:00<00:00, 3336.49it/s]"
     ]
    },
    {
     "name": "stdout",
     "output_type": "stream",
     "text": [
      "10 assets with no change.\n",
      "\n",
      "Processing hazard map:  flood_DERP_RW_M_4326_2080410760\n"
     ]
    },
    {
     "name": "stderr",
     "output_type": "stream",
     "text": [
      "\n"
     ]
    },
    {
     "name": "stdout",
     "output_type": "stream",
     "text": [
      "Found matching infrastructure curves for: rail\n",
      "-- Calculating direct damages --\n",
      "2024-10-02 16:08:26 - Calculating adapted damages for assets...\n"
     ]
    },
    {
     "name": "stderr",
     "output_type": "stream",
     "text": [
      "100%|██████████| 3/3 [00:00<00:00, 1511.28it/s]"
     ]
    },
    {
     "name": "stdout",
     "output_type": "stream",
     "text": [
      "3 assets with no change.\n",
      "\n",
      "Processing hazard map:  flood_DERP_RW_M_4326_2080411370\n"
     ]
    },
    {
     "name": "stderr",
     "output_type": "stream",
     "text": [
      "\n"
     ]
    },
    {
     "name": "stdout",
     "output_type": "stream",
     "text": [
      "Found matching infrastructure curves for: rail\n",
      "-- Calculating direct damages --\n",
      "2024-10-02 16:08:26 - Calculating adapted damages for assets...\n"
     ]
    },
    {
     "name": "stderr",
     "output_type": "stream",
     "text": [
      "100%|██████████| 43/43 [00:00<00:00, 14296.87it/s]"
     ]
    },
    {
     "name": "stdout",
     "output_type": "stream",
     "text": [
      "43 assets with no change.\n",
      "\n",
      "Processing hazard map:  flood_DERP_RW_M_4326_2080416200\n"
     ]
    },
    {
     "name": "stderr",
     "output_type": "stream",
     "text": [
      "\n"
     ]
    },
    {
     "name": "stdout",
     "output_type": "stream",
     "text": [
      "Found matching infrastructure curves for: rail\n",
      "-- Calculating direct damages --\n",
      "2024-10-02 16:08:27 - Calculating adapted damages for assets...\n"
     ]
    },
    {
     "name": "stderr",
     "output_type": "stream",
     "text": [
      "100%|██████████| 4/4 [00:00<00:00, 4007.94it/s]"
     ]
    },
    {
     "name": "stdout",
     "output_type": "stream",
     "text": [
      "4 assets with no change.\n",
      "\n",
      "Processing hazard map:  flood_DERP_RW_M_4326_2080416210\n"
     ]
    },
    {
     "name": "stderr",
     "output_type": "stream",
     "text": [
      "\n"
     ]
    },
    {
     "name": "stdout",
     "output_type": "stream",
     "text": [
      "Found matching infrastructure curves for: rail\n",
      "-- Calculating direct damages --\n",
      "2024-10-02 16:08:27 - Calculating adapted damages for assets...\n"
     ]
    },
    {
     "name": "stderr",
     "output_type": "stream",
     "text": [
      "100%|██████████| 94/94 [00:00<00:00, 31278.43it/s]"
     ]
    },
    {
     "name": "stdout",
     "output_type": "stream",
     "text": [
      "94 assets with no change.\n",
      "\n",
      "Processing hazard map:  flood_DERP_RW_M_4326_2080418600\n"
     ]
    },
    {
     "name": "stderr",
     "output_type": "stream",
     "text": [
      "\n"
     ]
    },
    {
     "name": "stdout",
     "output_type": "stream",
     "text": [
      "Found matching infrastructure curves for: rail\n",
      "-- Calculating direct damages --\n",
      "2024-10-02 16:08:28 - Calculating adapted damages for assets...\n"
     ]
    },
    {
     "name": "stderr",
     "output_type": "stream",
     "text": [
      "100%|██████████| 50/50 [00:00<00:00, 24939.37it/s]"
     ]
    },
    {
     "name": "stdout",
     "output_type": "stream",
     "text": [
      "50 assets with no change.\n",
      "\n",
      "Processing hazard map:  flood_DERP_RW_M_4326_2080418720\n"
     ]
    },
    {
     "name": "stderr",
     "output_type": "stream",
     "text": [
      "\n"
     ]
    },
    {
     "name": "stdout",
     "output_type": "stream",
     "text": [
      "Found matching infrastructure curves for: rail\n",
      "-- Calculating direct damages --\n",
      "2024-10-02 16:08:28 - Calculating adapted damages for assets...\n"
     ]
    },
    {
     "name": "stderr",
     "output_type": "stream",
     "text": [
      "100%|██████████| 2/2 [00:00<00:00, 1000.91it/s]"
     ]
    },
    {
     "name": "stdout",
     "output_type": "stream",
     "text": [
      "2 assets with no change.\n",
      "\n",
      "Processing hazard map:  flood_DERP_RW_M_4326_2080418880\n"
     ]
    },
    {
     "name": "stderr",
     "output_type": "stream",
     "text": [
      "\n"
     ]
    },
    {
     "name": "stdout",
     "output_type": "stream",
     "text": [
      "Found matching infrastructure curves for: rail\n",
      "-- Calculating direct damages --\n",
      "2024-10-02 16:08:29 - Calculating adapted damages for assets...\n"
     ]
    },
    {
     "name": "stderr",
     "output_type": "stream",
     "text": [
      "100%|██████████| 10/10 [00:00<00:00, 5002.15it/s]"
     ]
    },
    {
     "name": "stdout",
     "output_type": "stream",
     "text": [
      "10 assets with no change.\n",
      "\n",
      "Processing hazard map:  flood_DERP_RW_M_4326_2080418890\n"
     ]
    },
    {
     "name": "stderr",
     "output_type": "stream",
     "text": [
      "\n"
     ]
    },
    {
     "name": "stdout",
     "output_type": "stream",
     "text": [
      "Found matching infrastructure curves for: rail\n",
      "-- Calculating direct damages --\n",
      "2024-10-02 16:08:29 - Calculating adapted damages for assets...\n"
     ]
    },
    {
     "name": "stderr",
     "output_type": "stream",
     "text": [
      "100%|██████████| 14/14 [00:00<00:00, 7008.86it/s]"
     ]
    },
    {
     "name": "stdout",
     "output_type": "stream",
     "text": [
      "14 assets with no change.\n",
      "\n",
      "Processing hazard map:  flood_DERP_RW_M_4326_2080419070\n"
     ]
    },
    {
     "name": "stderr",
     "output_type": "stream",
     "text": [
      "\n"
     ]
    },
    {
     "name": "stdout",
     "output_type": "stream",
     "text": [
      "Found matching infrastructure curves for: rail\n",
      "-- Calculating direct damages --\n",
      "2024-10-02 16:08:29 - Calculating adapted damages for assets...\n"
     ]
    },
    {
     "name": "stderr",
     "output_type": "stream",
     "text": [
      "100%|██████████| 3/3 [00:00<00:00, 2980.32it/s]"
     ]
    },
    {
     "name": "stdout",
     "output_type": "stream",
     "text": [
      "3 assets with no change.\n",
      "\n",
      "Processing hazard map:  flood_DERP_RW_M_4326_2080419180\n"
     ]
    },
    {
     "name": "stderr",
     "output_type": "stream",
     "text": [
      "\n"
     ]
    },
    {
     "name": "stdout",
     "output_type": "stream",
     "text": [
      "Found matching infrastructure curves for: rail\n",
      "-- Calculating direct damages --\n",
      "2024-10-02 16:08:30 - Calculating adapted damages for assets...\n"
     ]
    },
    {
     "name": "stderr",
     "output_type": "stream",
     "text": [
      "100%|██████████| 48/48 [00:00<00:00, 24041.87it/s]"
     ]
    },
    {
     "name": "stdout",
     "output_type": "stream",
     "text": [
      "48 assets with no change.\n",
      "\n",
      "Processing hazard map:  flood_DERP_RW_M_4326_2080420240\n"
     ]
    },
    {
     "name": "stderr",
     "output_type": "stream",
     "text": [
      "\n"
     ]
    },
    {
     "name": "stdout",
     "output_type": "stream",
     "text": [
      "Found matching infrastructure curves for: rail\n",
      "-- Calculating direct damages --\n",
      "2024-10-02 16:08:30 - Calculating adapted damages for assets...\n"
     ]
    },
    {
     "name": "stderr",
     "output_type": "stream",
     "text": [
      "100%|██████████| 36/36 [00:00<00:00, 12000.87it/s]"
     ]
    },
    {
     "name": "stdout",
     "output_type": "stream",
     "text": [
      "36 assets with no change.\n",
      "\n",
      "Processing hazard map:  flood_DERP_RW_M_4326_2080420340\n"
     ]
    },
    {
     "name": "stderr",
     "output_type": "stream",
     "text": [
      "\n"
     ]
    },
    {
     "name": "stdout",
     "output_type": "stream",
     "text": [
      "Found matching infrastructure curves for: rail\n",
      "-- Calculating direct damages --\n",
      "2024-10-02 16:08:30 - Calculating adapted damages for assets...\n"
     ]
    },
    {
     "name": "stderr",
     "output_type": "stream",
     "text": [
      "100%|██████████| 13/13 [00:00<00:00, 6493.50it/s]"
     ]
    },
    {
     "name": "stdout",
     "output_type": "stream",
     "text": [
      "13 assets with no change.\n",
      "\n",
      "Processing hazard map:  flood_DERP_RW_M_4326_2080421680\n"
     ]
    },
    {
     "name": "stderr",
     "output_type": "stream",
     "text": [
      "\n"
     ]
    },
    {
     "name": "stdout",
     "output_type": "stream",
     "text": [
      "Found matching infrastructure curves for: rail\n",
      "-- Calculating direct damages --\n",
      "2024-10-02 16:08:31 - Calculating adapted damages for assets...\n"
     ]
    },
    {
     "name": "stderr",
     "output_type": "stream",
     "text": [
      "100%|██████████| 65/65 [00:00<00:00, 21663.07it/s]"
     ]
    },
    {
     "name": "stdout",
     "output_type": "stream",
     "text": [
      "65 assets with no change.\n",
      "\n",
      "Processing hazard map:  flood_DERP_RW_M_4326_2080421770\n"
     ]
    },
    {
     "name": "stderr",
     "output_type": "stream",
     "text": [
      "\n"
     ]
    },
    {
     "name": "stdout",
     "output_type": "stream",
     "text": [
      "Found matching infrastructure curves for: rail\n",
      "-- Calculating direct damages --\n",
      "2024-10-02 16:08:31 - Calculating adapted damages for assets...\n"
     ]
    },
    {
     "name": "stderr",
     "output_type": "stream",
     "text": [
      "100%|██████████| 65/65 [00:00<00:00, 21620.12it/s]"
     ]
    },
    {
     "name": "stdout",
     "output_type": "stream",
     "text": [
      "65 assets with no change.\n",
      "\n",
      "Processing hazard map:  flood_DERP_RW_M_4326_2080428080\n"
     ]
    },
    {
     "name": "stderr",
     "output_type": "stream",
     "text": [
      "\n"
     ]
    },
    {
     "name": "stdout",
     "output_type": "stream",
     "text": [
      "Found matching infrastructure curves for: rail\n",
      "-- Calculating direct damages --\n",
      "2024-10-02 16:08:32 - Calculating adapted damages for assets...\n"
     ]
    },
    {
     "name": "stderr",
     "output_type": "stream",
     "text": [
      "0it [00:00, ?it/s]"
     ]
    },
    {
     "name": "stdout",
     "output_type": "stream",
     "text": [
      "0 assets with no change.\n",
      "\n",
      "Processing hazard map:  flood_DERP_RW_M_4326_2080428160\n"
     ]
    },
    {
     "name": "stderr",
     "output_type": "stream",
     "text": [
      "\n"
     ]
    },
    {
     "name": "stdout",
     "output_type": "stream",
     "text": [
      "Found matching infrastructure curves for: rail\n",
      "-- Calculating direct damages --\n",
      "2024-10-02 16:08:32 - Calculating adapted damages for assets...\n"
     ]
    },
    {
     "name": "stderr",
     "output_type": "stream",
     "text": [
      "100%|██████████| 9/9 [00:00<00:00, 4489.09it/s]"
     ]
    },
    {
     "name": "stdout",
     "output_type": "stream",
     "text": [
      "9 assets with no change.\n",
      "\n",
      "Processing hazard map:  flood_DERP_RW_M_4326_2080428500\n"
     ]
    },
    {
     "name": "stderr",
     "output_type": "stream",
     "text": [
      "\n"
     ]
    },
    {
     "name": "stdout",
     "output_type": "stream",
     "text": [
      "Found matching infrastructure curves for: rail\n",
      "-- Calculating direct damages --\n",
      "2024-10-02 16:08:32 - Calculating adapted damages for assets...\n"
     ]
    },
    {
     "name": "stderr",
     "output_type": "stream",
     "text": [
      "0it [00:00, ?it/s]"
     ]
    },
    {
     "name": "stdout",
     "output_type": "stream",
     "text": [
      "0 assets with no change.\n",
      "\n",
      "Processing hazard map:  flood_DERP_RW_M_4326_2080429430\n"
     ]
    },
    {
     "name": "stderr",
     "output_type": "stream",
     "text": [
      "\n"
     ]
    },
    {
     "name": "stdout",
     "output_type": "stream",
     "text": [
      "Found matching infrastructure curves for: rail\n",
      "-- Calculating direct damages --\n",
      "2024-10-02 16:08:33 - Calculating adapted damages for assets...\n"
     ]
    },
    {
     "name": "stderr",
     "output_type": "stream",
     "text": [
      "100%|██████████| 46/46 [00:00<00:00, 11503.58it/s]"
     ]
    },
    {
     "name": "stdout",
     "output_type": "stream",
     "text": [
      "46 assets with no change.\n",
      "\n",
      "Processing hazard map:  flood_DERP_RW_M_4326_2080429540\n"
     ]
    },
    {
     "name": "stderr",
     "output_type": "stream",
     "text": [
      "\n"
     ]
    },
    {
     "name": "stdout",
     "output_type": "stream",
     "text": [
      "Found matching infrastructure curves for: rail\n",
      "-- Calculating direct damages --\n",
      "2024-10-02 16:08:33 - Calculating adapted damages for assets...\n"
     ]
    },
    {
     "name": "stderr",
     "output_type": "stream",
     "text": [
      "100%|██████████| 6/6 [00:00<00:00, 3002.72it/s]"
     ]
    },
    {
     "name": "stdout",
     "output_type": "stream",
     "text": [
      "6 assets with no change.\n",
      "\n",
      "Processing hazard map:  flood_DERP_RW_M_4326_2080429670\n"
     ]
    },
    {
     "name": "stderr",
     "output_type": "stream",
     "text": [
      "\n"
     ]
    },
    {
     "name": "stdout",
     "output_type": "stream",
     "text": [
      "Found matching infrastructure curves for: rail\n",
      "-- Calculating direct damages --\n",
      "2024-10-02 16:08:34 - Calculating adapted damages for assets...\n"
     ]
    },
    {
     "name": "stderr",
     "output_type": "stream",
     "text": [
      "0it [00:00, ?it/s]"
     ]
    },
    {
     "name": "stdout",
     "output_type": "stream",
     "text": [
      "0 assets with no change.\n",
      "\n",
      "Processing hazard map:  flood_DERP_RW_M_4326_2080429770\n"
     ]
    },
    {
     "name": "stderr",
     "output_type": "stream",
     "text": [
      "\n"
     ]
    },
    {
     "name": "stdout",
     "output_type": "stream",
     "text": [
      "Found matching infrastructure curves for: rail\n",
      "-- Calculating direct damages --\n",
      "2024-10-02 16:08:34 - Calculating adapted damages for assets...\n"
     ]
    },
    {
     "name": "stderr",
     "output_type": "stream",
     "text": [
      "100%|██████████| 54/54 [00:00<00:00, 13474.47it/s]"
     ]
    },
    {
     "name": "stdout",
     "output_type": "stream",
     "text": [
      "54 assets with no change.\n",
      "\n",
      "Processing hazard map:  flood_DERP_RW_M_4326_2080430240\n"
     ]
    },
    {
     "name": "stderr",
     "output_type": "stream",
     "text": [
      "\n"
     ]
    },
    {
     "name": "stdout",
     "output_type": "stream",
     "text": [
      "Found matching infrastructure curves for: rail\n",
      "-- Calculating direct damages --\n",
      "2024-10-02 16:08:34 - Calculating adapted damages for assets...\n"
     ]
    },
    {
     "name": "stderr",
     "output_type": "stream",
     "text": [
      "100%|██████████| 27/27 [00:00<00:00, 8999.94it/s]\n"
     ]
    },
    {
     "name": "stdout",
     "output_type": "stream",
     "text": [
      "27 assets with no change.\n",
      "\n",
      "Processing hazard map:  flood_DERP_RW_M_4326_2080430320\n",
      "Found matching infrastructure curves for: rail\n",
      "-- Calculating direct damages --\n",
      "2024-10-02 16:08:35 - Calculating adapted damages for assets...\n"
     ]
    },
    {
     "name": "stderr",
     "output_type": "stream",
     "text": [
      "100%|██████████| 33/33 [00:00<00:00, 16481.55it/s]"
     ]
    },
    {
     "name": "stdout",
     "output_type": "stream",
     "text": [
      "33 assets with no change.\n",
      "\n",
      "Processing hazard map:  flood_DERP_RW_M_4326_2080431110\n"
     ]
    },
    {
     "name": "stderr",
     "output_type": "stream",
     "text": [
      "\n"
     ]
    },
    {
     "name": "stdout",
     "output_type": "stream",
     "text": [
      "Found matching infrastructure curves for: rail\n",
      "-- Calculating direct damages --\n",
      "2024-10-02 16:08:35 - Calculating adapted damages for assets...\n"
     ]
    },
    {
     "name": "stderr",
     "output_type": "stream",
     "text": [
      "100%|██████████| 75/75 [00:00<00:00, 18715.66it/s]"
     ]
    },
    {
     "name": "stdout",
     "output_type": "stream",
     "text": [
      "75 assets with no change.\n",
      "\n",
      "Processing hazard map:  flood_DERP_RW_M_4326_2080431660\n"
     ]
    },
    {
     "name": "stderr",
     "output_type": "stream",
     "text": [
      "\n"
     ]
    },
    {
     "name": "stdout",
     "output_type": "stream",
     "text": [
      "Found matching infrastructure curves for: rail\n",
      "-- Calculating direct damages --\n",
      "2024-10-02 16:08:35 - Calculating adapted damages for assets...\n"
     ]
    },
    {
     "name": "stderr",
     "output_type": "stream",
     "text": [
      "100%|██████████| 2/2 [00:00<00:00, 1000.79it/s]"
     ]
    },
    {
     "name": "stdout",
     "output_type": "stream",
     "text": [
      "2 assets with no change.\n",
      "\n",
      "Processing hazard map:  flood_DERP_RW_M_4326_2080431750\n"
     ]
    },
    {
     "name": "stderr",
     "output_type": "stream",
     "text": [
      "\n"
     ]
    },
    {
     "name": "stdout",
     "output_type": "stream",
     "text": [
      "Found matching infrastructure curves for: rail\n",
      "-- Calculating direct damages --\n",
      "2024-10-02 16:08:36 - Calculating adapted damages for assets...\n"
     ]
    },
    {
     "name": "stderr",
     "output_type": "stream",
     "text": [
      "0it [00:00, ?it/s]"
     ]
    },
    {
     "name": "stdout",
     "output_type": "stream",
     "text": [
      "0 assets with no change.\n",
      "\n",
      "Processing hazard map:  flood_DERP_RW_M_4326_2080432400\n"
     ]
    },
    {
     "name": "stderr",
     "output_type": "stream",
     "text": [
      "\n"
     ]
    },
    {
     "name": "stdout",
     "output_type": "stream",
     "text": [
      "Found matching infrastructure curves for: rail\n",
      "-- Calculating direct damages --\n",
      "2024-10-02 16:08:36 - Calculating adapted damages for assets...\n"
     ]
    },
    {
     "name": "stderr",
     "output_type": "stream",
     "text": [
      "100%|██████████| 7/7 [00:00<00:00, 6988.84it/s]"
     ]
    },
    {
     "name": "stdout",
     "output_type": "stream",
     "text": [
      "7 assets with no change.\n",
      "\n",
      "Processing hazard map:  flood_DERP_RW_M_4326_2080432510\n"
     ]
    },
    {
     "name": "stderr",
     "output_type": "stream",
     "text": [
      "\n"
     ]
    },
    {
     "name": "stdout",
     "output_type": "stream",
     "text": [
      "Found matching infrastructure curves for: rail\n",
      "-- Calculating direct damages --\n",
      "2024-10-02 16:08:37 - Calculating adapted damages for assets...\n"
     ]
    },
    {
     "name": "stderr",
     "output_type": "stream",
     "text": [
      "100%|██████████| 28/28 [00:00<00:00, 9339.95it/s]"
     ]
    },
    {
     "name": "stdout",
     "output_type": "stream",
     "text": [
      "28 assets with no change.\n",
      "\n",
      "Processing hazard map:  flood_DERP_RW_M_4326_2080433520\n"
     ]
    },
    {
     "name": "stderr",
     "output_type": "stream",
     "text": [
      "\n"
     ]
    },
    {
     "name": "stdout",
     "output_type": "stream",
     "text": [
      "Found matching infrastructure curves for: rail\n",
      "-- Calculating direct damages --\n",
      "2024-10-02 16:08:37 - Calculating adapted damages for assets...\n"
     ]
    },
    {
     "name": "stderr",
     "output_type": "stream",
     "text": [
      "0it [00:00, ?it/s]"
     ]
    },
    {
     "name": "stdout",
     "output_type": "stream",
     "text": [
      "0 assets with no change.\n",
      "\n",
      "Processing hazard map:  flood_DERP_RW_M_4326_2080433740\n"
     ]
    },
    {
     "name": "stderr",
     "output_type": "stream",
     "text": [
      "\n"
     ]
    },
    {
     "name": "stdout",
     "output_type": "stream",
     "text": [
      "Found matching infrastructure curves for: rail\n",
      "-- Calculating direct damages --\n",
      "2024-10-02 16:08:38 - Calculating adapted damages for assets...\n"
     ]
    },
    {
     "name": "stderr",
     "output_type": "stream",
     "text": [
      "0it [00:00, ?it/s]"
     ]
    },
    {
     "name": "stdout",
     "output_type": "stream",
     "text": [
      "0 assets with no change.\n",
      "\n",
      "Processing hazard map:  flood_DERP_RW_M_4326_2080433960\n"
     ]
    },
    {
     "name": "stderr",
     "output_type": "stream",
     "text": [
      "\n"
     ]
    },
    {
     "name": "stdout",
     "output_type": "stream",
     "text": [
      "Found matching infrastructure curves for: rail\n",
      "-- Calculating direct damages --\n",
      "2024-10-02 16:08:38 - Calculating adapted damages for assets...\n"
     ]
    },
    {
     "name": "stderr",
     "output_type": "stream",
     "text": [
      "0it [00:00, ?it/s]"
     ]
    },
    {
     "name": "stdout",
     "output_type": "stream",
     "text": [
      "0 assets with no change.\n",
      "\n",
      "Processing hazard map:  flood_DERP_RW_M_4326_2080434150\n"
     ]
    },
    {
     "name": "stderr",
     "output_type": "stream",
     "text": [
      "\n"
     ]
    },
    {
     "name": "stdout",
     "output_type": "stream",
     "text": [
      "Found matching infrastructure curves for: rail\n",
      "-- Calculating direct damages --\n",
      "2024-10-02 16:08:39 - Calculating adapted damages for assets...\n"
     ]
    },
    {
     "name": "stderr",
     "output_type": "stream",
     "text": [
      "0it [00:00, ?it/s]"
     ]
    },
    {
     "name": "stdout",
     "output_type": "stream",
     "text": [
      "0 assets with no change.\n",
      "\n",
      "Processing hazard map:  flood_DERP_RW_M_4326_2080434280\n"
     ]
    },
    {
     "name": "stderr",
     "output_type": "stream",
     "text": [
      "\n"
     ]
    },
    {
     "name": "stdout",
     "output_type": "stream",
     "text": [
      "Found matching infrastructure curves for: rail\n",
      "-- Calculating direct damages --\n",
      "2024-10-02 16:08:39 - Calculating adapted damages for assets...\n"
     ]
    },
    {
     "name": "stderr",
     "output_type": "stream",
     "text": [
      "100%|██████████| 4/4 [00:00<00:00, 1997.05it/s]"
     ]
    },
    {
     "name": "stdout",
     "output_type": "stream",
     "text": [
      "4 assets with no change.\n",
      "\n",
      "Processing hazard map:  flood_DERP_RW_M_4326_2080434470\n"
     ]
    },
    {
     "name": "stderr",
     "output_type": "stream",
     "text": [
      "\n"
     ]
    },
    {
     "name": "stdout",
     "output_type": "stream",
     "text": [
      "Found matching infrastructure curves for: rail\n",
      "-- Calculating direct damages --\n",
      "2024-10-02 16:08:40 - Calculating adapted damages for assets...\n"
     ]
    },
    {
     "name": "stderr",
     "output_type": "stream",
     "text": [
      "100%|██████████| 51/51 [00:00<00:00, 16991.78it/s]"
     ]
    },
    {
     "name": "stdout",
     "output_type": "stream",
     "text": [
      "51 assets with no change.\n",
      "\n",
      "Processing hazard map:  flood_DERP_RW_M_4326_2080434490\n"
     ]
    },
    {
     "name": "stderr",
     "output_type": "stream",
     "text": [
      "\n"
     ]
    },
    {
     "name": "stdout",
     "output_type": "stream",
     "text": [
      "Found matching infrastructure curves for: rail\n",
      "-- Calculating direct damages --\n",
      "2024-10-02 16:08:40 - Calculating adapted damages for assets...\n"
     ]
    },
    {
     "name": "stderr",
     "output_type": "stream",
     "text": [
      "100%|██████████| 40/40 [00:00<00:00, 13332.18it/s]"
     ]
    },
    {
     "name": "stdout",
     "output_type": "stream",
     "text": [
      "40 assets with no change.\n",
      "\n",
      "Processing hazard map:  flood_DERP_RW_M_4326_2080434630\n"
     ]
    },
    {
     "name": "stderr",
     "output_type": "stream",
     "text": [
      "\n"
     ]
    },
    {
     "name": "stdout",
     "output_type": "stream",
     "text": [
      "Found matching infrastructure curves for: rail\n",
      "-- Calculating direct damages --\n",
      "2024-10-02 16:08:41 - Calculating adapted damages for assets...\n"
     ]
    },
    {
     "name": "stderr",
     "output_type": "stream",
     "text": [
      "100%|██████████| 67/67 [00:00<00:00, 22320.76it/s]"
     ]
    },
    {
     "name": "stdout",
     "output_type": "stream",
     "text": [
      "67 assets with no change.\n",
      "\n",
      "Processing hazard map:  flood_DERP_RW_M_4326_2080435040\n"
     ]
    },
    {
     "name": "stderr",
     "output_type": "stream",
     "text": [
      "\n"
     ]
    },
    {
     "name": "stdout",
     "output_type": "stream",
     "text": [
      "Found matching infrastructure curves for: rail\n",
      "-- Calculating direct damages --\n",
      "2024-10-02 16:08:41 - Calculating adapted damages for assets...\n"
     ]
    },
    {
     "name": "stderr",
     "output_type": "stream",
     "text": [
      "100%|██████████| 69/69 [00:00<00:00, 17239.95it/s]"
     ]
    },
    {
     "name": "stdout",
     "output_type": "stream",
     "text": [
      "69 assets with no change.\n",
      "\n",
      "Processing hazard map:  flood_DERP_RW_M_4326_2080435320\n"
     ]
    },
    {
     "name": "stderr",
     "output_type": "stream",
     "text": [
      "\n"
     ]
    },
    {
     "name": "stdout",
     "output_type": "stream",
     "text": [
      "Found matching infrastructure curves for: rail\n",
      "-- Calculating direct damages --\n",
      "2024-10-02 16:08:42 - Calculating adapted damages for assets...\n"
     ]
    },
    {
     "name": "stderr",
     "output_type": "stream",
     "text": [
      "100%|██████████| 7/7 [00:00<00:00, 7003.85it/s]"
     ]
    },
    {
     "name": "stdout",
     "output_type": "stream",
     "text": [
      "7 assets with no change.\n",
      "\n",
      "Processing hazard map:  flood_DERP_RW_M_4326_2080436660\n"
     ]
    },
    {
     "name": "stderr",
     "output_type": "stream",
     "text": [
      "\n"
     ]
    },
    {
     "name": "stdout",
     "output_type": "stream",
     "text": [
      "Found matching infrastructure curves for: rail\n",
      "-- Calculating direct damages --\n",
      "2024-10-02 16:08:42 - Calculating adapted damages for assets...\n"
     ]
    },
    {
     "name": "stderr",
     "output_type": "stream",
     "text": [
      "0it [00:00, ?it/s]"
     ]
    },
    {
     "name": "stdout",
     "output_type": "stream",
     "text": [
      "0 assets with no change.\n",
      "\n",
      "Processing hazard map:  flood_DERP_RW_M_4326_2080436860\n"
     ]
    },
    {
     "name": "stderr",
     "output_type": "stream",
     "text": [
      "\n"
     ]
    },
    {
     "name": "stdout",
     "output_type": "stream",
     "text": [
      "Found matching infrastructure curves for: rail\n",
      "-- Calculating direct damages --\n",
      "2024-10-02 16:08:43 - Calculating adapted damages for assets...\n"
     ]
    },
    {
     "name": "stderr",
     "output_type": "stream",
     "text": [
      "100%|██████████| 2/2 [00:00<00:00, 667.78it/s]"
     ]
    },
    {
     "name": "stdout",
     "output_type": "stream",
     "text": [
      "2 assets with no change.\n",
      "\n",
      "Processing hazard map:  flood_DERP_RW_M_4326_2080436870\n"
     ]
    },
    {
     "name": "stderr",
     "output_type": "stream",
     "text": [
      "\n"
     ]
    },
    {
     "name": "stdout",
     "output_type": "stream",
     "text": [
      "Found matching infrastructure curves for: rail\n",
      "-- Calculating direct damages --\n",
      "2024-10-02 16:08:43 - Calculating adapted damages for assets...\n"
     ]
    },
    {
     "name": "stderr",
     "output_type": "stream",
     "text": [
      "100%|██████████| 22/22 [00:00<00:00, 10989.01it/s]"
     ]
    },
    {
     "name": "stdout",
     "output_type": "stream",
     "text": [
      "22 assets with no change.\n",
      "\n",
      "Processing hazard map:  flood_DERP_RW_M_4326_2080437100\n"
     ]
    },
    {
     "name": "stderr",
     "output_type": "stream",
     "text": [
      "\n"
     ]
    },
    {
     "name": "stdout",
     "output_type": "stream",
     "text": [
      "Found matching infrastructure curves for: rail\n",
      "-- Calculating direct damages --\n",
      "2024-10-02 16:08:43 - Calculating adapted damages for assets...\n"
     ]
    },
    {
     "name": "stderr",
     "output_type": "stream",
     "text": [
      "100%|██████████| 15/15 [00:00<00:00, 7500.54it/s]"
     ]
    },
    {
     "name": "stdout",
     "output_type": "stream",
     "text": [
      "15 assets with no change.\n",
      "\n",
      "Processing hazard map:  flood_DERP_RW_M_4326_2080437230\n"
     ]
    },
    {
     "name": "stderr",
     "output_type": "stream",
     "text": [
      "\n"
     ]
    },
    {
     "name": "stdout",
     "output_type": "stream",
     "text": [
      "Found matching infrastructure curves for: rail\n",
      "-- Calculating direct damages --\n",
      "2024-10-02 16:08:44 - Calculating adapted damages for assets...\n"
     ]
    },
    {
     "name": "stderr",
     "output_type": "stream",
     "text": [
      "100%|██████████| 4/4 [00:00<00:00, 3986.98it/s]"
     ]
    },
    {
     "name": "stdout",
     "output_type": "stream",
     "text": [
      "4 assets with no change.\n",
      "\n",
      "Processing hazard map:  flood_DERP_RW_M_4326_2080437370\n"
     ]
    },
    {
     "name": "stderr",
     "output_type": "stream",
     "text": [
      "\n"
     ]
    },
    {
     "name": "stdout",
     "output_type": "stream",
     "text": [
      "Found matching infrastructure curves for: rail\n",
      "-- Calculating direct damages --\n",
      "2024-10-02 16:08:44 - Calculating adapted damages for assets...\n"
     ]
    },
    {
     "name": "stderr",
     "output_type": "stream",
     "text": [
      "100%|██████████| 35/35 [00:00<00:00, 11648.07it/s]"
     ]
    },
    {
     "name": "stdout",
     "output_type": "stream",
     "text": [
      "35 assets with no change.\n",
      "\n",
      "Processing hazard map:  flood_DERP_RW_M_4326_2080438230\n"
     ]
    },
    {
     "name": "stderr",
     "output_type": "stream",
     "text": [
      "\n"
     ]
    },
    {
     "name": "stdout",
     "output_type": "stream",
     "text": [
      "Found matching infrastructure curves for: rail\n",
      "-- Calculating direct damages --\n",
      "2024-10-02 16:08:45 - Calculating adapted damages for assets...\n"
     ]
    },
    {
     "name": "stderr",
     "output_type": "stream",
     "text": [
      "100%|██████████| 13/13 [00:00<00:00, 4335.37it/s]"
     ]
    },
    {
     "name": "stdout",
     "output_type": "stream",
     "text": [
      "13 assets with no change.\n",
      "\n",
      "Processing hazard map:  flood_DERP_RW_M_4326_2080438240\n"
     ]
    },
    {
     "name": "stderr",
     "output_type": "stream",
     "text": [
      "\n"
     ]
    },
    {
     "name": "stdout",
     "output_type": "stream",
     "text": [
      "Found matching infrastructure curves for: rail\n",
      "-- Calculating direct damages --\n",
      "2024-10-02 16:08:45 - Calculating adapted damages for assets...\n"
     ]
    },
    {
     "name": "stderr",
     "output_type": "stream",
     "text": [
      "100%|██████████| 38/38 [00:00<00:00, 18976.49it/s]"
     ]
    },
    {
     "name": "stdout",
     "output_type": "stream",
     "text": [
      "38 assets with no change.\n",
      "\n",
      "Processing hazard map:  flood_DERP_RW_M_4326_2080438400\n"
     ]
    },
    {
     "name": "stderr",
     "output_type": "stream",
     "text": [
      "\n"
     ]
    },
    {
     "name": "stdout",
     "output_type": "stream",
     "text": [
      "Found matching infrastructure curves for: rail\n",
      "-- Calculating direct damages --\n",
      "2024-10-02 16:08:45 - Calculating adapted damages for assets...\n"
     ]
    },
    {
     "name": "stderr",
     "output_type": "stream",
     "text": [
      "100%|██████████| 30/30 [00:00<00:00, 9981.68it/s]"
     ]
    },
    {
     "name": "stdout",
     "output_type": "stream",
     "text": [
      "30 assets with no change.\n",
      "\n",
      "Processing hazard map:  flood_DERP_RW_M_4326_2080438410\n"
     ]
    },
    {
     "name": "stderr",
     "output_type": "stream",
     "text": [
      "\n"
     ]
    },
    {
     "name": "stdout",
     "output_type": "stream",
     "text": [
      "Found matching infrastructure curves for: rail\n",
      "-- Calculating direct damages --\n",
      "2024-10-02 16:08:46 - Calculating adapted damages for assets...\n"
     ]
    },
    {
     "name": "stderr",
     "output_type": "stream",
     "text": [
      "100%|██████████| 13/13 [00:00<00:00, 6503.57it/s]"
     ]
    },
    {
     "name": "stdout",
     "output_type": "stream",
     "text": [
      "13 assets with no change.\n",
      "\n",
      "Processing hazard map:  flood_DERP_RW_M_4326_2080439400\n"
     ]
    },
    {
     "name": "stderr",
     "output_type": "stream",
     "text": [
      "\n"
     ]
    },
    {
     "name": "stdout",
     "output_type": "stream",
     "text": [
      "Found matching infrastructure curves for: rail\n",
      "-- Calculating direct damages --\n",
      "2024-10-02 16:08:46 - Calculating adapted damages for assets...\n"
     ]
    },
    {
     "name": "stderr",
     "output_type": "stream",
     "text": [
      "100%|██████████| 9/9 [00:00<00:00, 2997.60it/s]"
     ]
    },
    {
     "name": "stdout",
     "output_type": "stream",
     "text": [
      "9 assets with no change.\n",
      "\n",
      "Processing hazard map:  flood_DERP_RW_M_4326_2080439410\n"
     ]
    },
    {
     "name": "stderr",
     "output_type": "stream",
     "text": [
      "\n"
     ]
    },
    {
     "name": "stdout",
     "output_type": "stream",
     "text": [
      "Found matching infrastructure curves for: rail\n",
      "-- Calculating direct damages --\n",
      "2024-10-02 16:08:47 - Calculating adapted damages for assets...\n"
     ]
    },
    {
     "name": "stderr",
     "output_type": "stream",
     "text": [
      "100%|██████████| 86/86 [00:00<00:00, 21509.25it/s]"
     ]
    },
    {
     "name": "stdout",
     "output_type": "stream",
     "text": [
      "86 assets with no change.\n",
      "\n",
      "Processing hazard map:  flood_DERP_RW_M_4326_2080441280\n"
     ]
    },
    {
     "name": "stderr",
     "output_type": "stream",
     "text": [
      "\n"
     ]
    },
    {
     "name": "stdout",
     "output_type": "stream",
     "text": [
      "Found matching infrastructure curves for: rail\n",
      "-- Calculating direct damages --\n",
      "2024-10-02 16:08:47 - Calculating adapted damages for assets...\n"
     ]
    },
    {
     "name": "stderr",
     "output_type": "stream",
     "text": [
      "100%|██████████| 382/382 [00:00<00:00, 54608.87it/s]"
     ]
    },
    {
     "name": "stdout",
     "output_type": "stream",
     "text": [
      "382 assets with no change.\n",
      "\n",
      "Processing hazard map:  flood_DERP_RW_M_4326_2080446220\n"
     ]
    },
    {
     "name": "stderr",
     "output_type": "stream",
     "text": [
      "\n"
     ]
    },
    {
     "name": "stdout",
     "output_type": "stream",
     "text": [
      "Found matching infrastructure curves for: rail\n",
      "-- Calculating direct damages --\n",
      "2024-10-02 16:08:48 - Calculating adapted damages for assets...\n"
     ]
    },
    {
     "name": "stderr",
     "output_type": "stream",
     "text": [
      "100%|██████████| 36/36 [00:00<00:00, 11992.29it/s]"
     ]
    },
    {
     "name": "stdout",
     "output_type": "stream",
     "text": [
      "36 assets with no change.\n",
      "\n",
      "Processing hazard map:  flood_DERP_RW_M_4326_2080446320\n"
     ]
    },
    {
     "name": "stderr",
     "output_type": "stream",
     "text": [
      "\n"
     ]
    },
    {
     "name": "stdout",
     "output_type": "stream",
     "text": [
      "Found matching infrastructure curves for: rail\n",
      "-- Calculating direct damages --\n",
      "2024-10-02 16:08:48 - Calculating adapted damages for assets...\n"
     ]
    },
    {
     "name": "stderr",
     "output_type": "stream",
     "text": [
      "100%|██████████| 41/41 [00:00<00:00, 10231.84it/s]"
     ]
    },
    {
     "name": "stdout",
     "output_type": "stream",
     "text": [
      "41 assets with no change.\n",
      "\n",
      "Processing hazard map:  flood_DERP_RW_M_4326_2080447840\n"
     ]
    },
    {
     "name": "stderr",
     "output_type": "stream",
     "text": [
      "\n"
     ]
    },
    {
     "name": "stdout",
     "output_type": "stream",
     "text": [
      "Found matching infrastructure curves for: rail\n",
      "-- Calculating direct damages --\n",
      "2024-10-02 16:08:49 - Calculating adapted damages for assets...\n"
     ]
    },
    {
     "name": "stderr",
     "output_type": "stream",
     "text": [
      "100%|██████████| 276/276 [00:00<00:00, 55209.27it/s]"
     ]
    },
    {
     "name": "stdout",
     "output_type": "stream",
     "text": [
      "276 assets with no change.\n",
      "\n",
      "Processing hazard map:  flood_DERP_RW_M_4326_2080447970\n"
     ]
    },
    {
     "name": "stderr",
     "output_type": "stream",
     "text": [
      "\n"
     ]
    },
    {
     "name": "stdout",
     "output_type": "stream",
     "text": [
      "Found matching infrastructure curves for: rail\n",
      "-- Calculating direct damages --\n",
      "2024-10-02 16:08:50 - Calculating adapted damages for assets...\n"
     ]
    },
    {
     "name": "stderr",
     "output_type": "stream",
     "text": [
      "100%|██████████| 11/11 [00:00<00:00, 5503.02it/s]"
     ]
    },
    {
     "name": "stdout",
     "output_type": "stream",
     "text": [
      "11 assets with no change.\n",
      "\n",
      "Processing hazard map:  flood_DERP_RW_M_4326_2080448120\n"
     ]
    },
    {
     "name": "stderr",
     "output_type": "stream",
     "text": [
      "\n"
     ]
    },
    {
     "name": "stdout",
     "output_type": "stream",
     "text": [
      "Found matching infrastructure curves for: rail\n",
      "-- Calculating direct damages --\n",
      "2024-10-02 16:08:50 - Calculating adapted damages for assets...\n"
     ]
    },
    {
     "name": "stderr",
     "output_type": "stream",
     "text": [
      "100%|██████████| 6/6 [00:00<00:00, 2990.59it/s]"
     ]
    },
    {
     "name": "stdout",
     "output_type": "stream",
     "text": [
      "6 assets with no change.\n",
      "\n",
      "Processing hazard map:  flood_DERP_RW_M_4326_2080451930\n"
     ]
    },
    {
     "name": "stderr",
     "output_type": "stream",
     "text": [
      "\n"
     ]
    },
    {
     "name": "stdout",
     "output_type": "stream",
     "text": [
      "Found matching infrastructure curves for: rail\n",
      "-- Calculating direct damages --\n",
      "2024-10-02 16:08:50 - Calculating adapted damages for assets...\n"
     ]
    },
    {
     "name": "stderr",
     "output_type": "stream",
     "text": [
      "100%|██████████| 7/7 [00:00<00:00, 3501.51it/s]"
     ]
    },
    {
     "name": "stdout",
     "output_type": "stream",
     "text": [
      "7 assets with no change.\n"
     ]
    },
    {
     "name": "stderr",
     "output_type": "stream",
     "text": [
      "\n"
     ]
    }
   ],
   "source": [
    "l2_adaptation_costs = {}\n",
    "\n",
    "for hazard_map in collect_output.keys():\n",
    "    print('\\nProcessing hazard map: ', hazard_map)\n",
    "    map_rp_spec = hazard_map.split('_')[-3]\n",
    "    overlay_assets, hazard_numpified_list = load_baseline_run(hazard_map, interim_data_path)\n",
    "    adaptation_run = run_direct_damage_reduction_by_hazmap(assets, geom_dict, overlay_assets, hazard_numpified_list, collect_output[hazard_map], adapted_assets, map_rp_spec=map_rp_spec, rp_spec_priority=rp_spec_priority, reporting=False, adaptation_unit_cost=adaptation_unit_costs['viaduct'])\n",
    "    direct_damages_adapted[hazard_map]=adaptation_run[1]\n",
    "    l2_adaptation_costs[hazard_map] = adaptation_run[2]\n",
    "    if direct_damages_adapted[hazard_map]=={} and 3 not in adaptations_df.adapt_level.unique() and 4 not in adaptations_df.adapt_level.unique():\n",
    "        indirect_damages_adapted[hazard_map]={}\n",
    "        continue\n",
    "    disrupted_edges = disrupted_edges_by_basin[hazard_map] if hazard_map in disrupted_edges_by_basin.keys() else []\n",
    "    indirect_damages_adapted[hazard_map] = run_indirect_damages_by_hazmap(adaptation_run, assets, hazard_map, overlay_assets, disrupted_edges, shortest_paths, graph_v, average_train_load_tons, average_train_cost_per_ton_km, average_road_cost_per_ton_km, demand_reduction_dict)"
   ]
  },
  {
   "cell_type": "code",
   "execution_count": 14,
   "metadata": {},
   "outputs": [],
   "source": [
    "for hazard_map in collect_output.keys():\n",
    "    if direct_damages_adapted[hazard_map]=={}:\n",
    "       direct_damages_adapted[hazard_map]=collect_output[hazard_map]\n",
    "    if indirect_damages_adapted[hazard_map]=={}:\n",
    "       indirect_damages_adapted[hazard_map]=event_impacts[hazard_map] if hazard_map in event_impacts.keys() else 0.0"
   ]
  },
  {
   "cell_type": "code",
   "execution_count": 25,
   "metadata": {},
   "outputs": [],
   "source": [
    "# Save results\n",
    "direct_damages_adapted_path = data_path / 'output' / 'adapted_direct_damages.pkl'\n",
    "indirect_damages_adapted_path = data_path / 'output' / 'adapted_indirect_damages.pkl'\n",
    "adaptations_df_path = data_path / 'output' / 'adaptations.csv'\n",
    "\n",
    "\n",
    "with open(direct_damages_adapted_path, 'wb') as f:\n",
    "    pickle.dump(direct_damages_adapted, f)\n",
    "with open(indirect_damages_adapted_path, 'wb') as f:\n",
    "    pickle.dump(indirect_damages_adapted, f)\n",
    "\n",
    "adaptations_df.to_csv(adaptations_df_path, index=False)\n"
   ]
  },
  {
   "cell_type": "code",
   "execution_count": 53,
   "metadata": {},
   "outputs": [],
   "source": [
    "direct_damages_baseline_sum = {\n",
    "    key: (\n",
    "        sum(v[0] for v in collect_output[key].values()), \n",
    "        sum(v[1] for v in collect_output[key].values())\n",
    "        ) \n",
    "        for key in collect_output if key in collect_output.keys()\n",
    "        }\n",
    "direct_damages_adapted_sum = {\n",
    "    key: (\n",
    "        sum(v[0] for v in direct_damages_adapted[key].values()), \n",
    "        sum(v[1] for v in direct_damages_adapted[key].values())\n",
    "        ) \n",
    "        for key in direct_damages_adapted if key in direct_damages_adapted.keys()\n",
    "        }\n",
    "\n",
    "direct_damages_diff = {\n",
    "    key: (\n",
    "        direct_damages_baseline_sum[key][0] - direct_damages_adapted_sum[key][0], \n",
    "        direct_damages_baseline_sum[key][1] - direct_damages_adapted_sum[key][1]\n",
    "        ) for key in direct_damages_baseline_sum\n",
    "        }\n"
   ]
  },
  {
   "cell_type": "markdown",
   "metadata": {},
   "source": [
    "Visualisations"
   ]
  },
  {
   "cell_type": "code",
   "execution_count": 18,
   "metadata": {},
   "outputs": [
    {
     "ename": "KeyError",
     "evalue": "0",
     "output_type": "error",
     "traceback": [
      "\u001b[1;31m---------------------------------------------------------------------------\u001b[0m",
      "\u001b[1;31mKeyError\u001b[0m                                  Traceback (most recent call last)",
      "Cell \u001b[1;32mIn[18], line 12\u001b[0m\n\u001b[0;32m      9\u001b[0m summed_adaptation_costs \u001b[38;5;241m=\u001b[39m \u001b[38;5;28msum\u001b[39m(adap_costs)\n\u001b[0;32m     11\u001b[0m \u001b[38;5;66;03m#direct damages\u001b[39;00m\n\u001b[1;32m---> 12\u001b[0m dd_bl\u001b[38;5;241m=\u001b[39m\u001b[43mdirect_damages_adapted\u001b[49m\u001b[43m[\u001b[49m\u001b[43mhazard_map\u001b[49m\u001b[43m]\u001b[49m\u001b[43m[\u001b[49m\u001b[38;5;241;43m0\u001b[39;49m\u001b[43m]\u001b[49m\n\u001b[0;32m     13\u001b[0m summed_dd_bl_lower\u001b[38;5;241m=\u001b[39m\u001b[38;5;28msum\u001b[39m([v[\u001b[38;5;241m0\u001b[39m] \u001b[38;5;28;01mfor\u001b[39;00m v \u001b[38;5;129;01min\u001b[39;00m dd_bl\u001b[38;5;241m.\u001b[39mvalues()])\n\u001b[0;32m     14\u001b[0m summed_dd_bl_upper\u001b[38;5;241m=\u001b[39m\u001b[38;5;28msum\u001b[39m([v[\u001b[38;5;241m1\u001b[39m] \u001b[38;5;28;01mfor\u001b[39;00m v \u001b[38;5;129;01min\u001b[39;00m dd_bl\u001b[38;5;241m.\u001b[39mvalues()])\n",
      "\u001b[1;31mKeyError\u001b[0m: 0"
     ]
    }
   ],
   "source": [
    "pd.options.display.float_format = \"{:,.2f}\".format\n",
    "\n",
    "total_damages_adapted={}\n",
    "for hazard_map in direct_damages_adapted.keys():\n",
    "\n",
    "    map_rp_spec = hazard_map.split('_')[-3]\n",
    "\n",
    "    adap_costs=adaptations_df['adaptation_cost']\n",
    "    summed_adaptation_costs = sum(adap_costs)\n",
    "\n",
    "    #direct damages\n",
    "    dd_bl=direct_damages_adapted[hazard_map][0]\n",
    "    summed_dd_bl_lower=sum([v[0] for v in dd_bl.values()])\n",
    "    summed_dd_bl_upper=sum([v[1] for v in dd_bl.values()])\n",
    "    dd_ad=direct_damages_adapted[hazard_map][1]\n",
    "    summed_dd_ad_lower=sum([v[0] for v in dd_ad.values()])\n",
    "    summed_dd_ad_upper=sum([v[1] for v in dd_ad.values()])\n",
    "    \n",
    "    #indirect damages\n",
    "    if hazard_map not in event_impacts.keys():\n",
    "        print(f'{hazard_map} not in event_impacts')\n",
    "        id_bl=0\n",
    "        id_ad=0\n",
    "        id_ad_cleaned=0\n",
    "    else:\n",
    "        id_bl=event_impacts[hazard_map]\n",
    "        id_ad=indirect_damages_adapted[hazard_map]\n",
    "        id_ad_cleaned = 0 if id_ad == 99999999999999 else id_ad\n",
    "\n",
    "    total_damages_adapted[hazard_map]=(map_rp_spec, summed_adaptation_costs, (summed_dd_bl_lower, summed_dd_bl_upper), (summed_dd_ad_lower, summed_dd_ad_upper), id_bl, id_ad_cleaned)\n",
    "    \n",
    "total_damages_adapted_df=pd.DataFrame(total_damages_adapted)\n",
    "total_damages_adapted_df=total_damages_adapted_df.T\n",
    "total_damages_adapted_df.columns=['return_period','summed_adaptation_costs', 'summed_dd_bl', 'summed_dd_ad', 'indirect damage baseline [€]', 'indirect damage adapted [€]']\n",
    "\n",
    "# round and turn to million euros for reporting\n",
    "total_damages_adapted_df_mill=total_damages_adapted_df.copy()\n",
    "total_damages_adapted_df_mill['summed_adaptation_costs [M€]']=total_damages_adapted_df_mill['summed_adaptation_costs']/1e6\n",
    "total_damages_adapted_df_mill['summed_dd_bl [M€]']=total_damages_adapted_df_mill['summed_dd_bl'].apply(lambda x: (x[0]/1e6, x[1]/1e6))\n",
    "total_damages_adapted_df_mill['summed_dd_ad [M€]']=total_damages_adapted_df_mill['summed_dd_ad'].apply(lambda x: (x[0]/1e6, x[1]/1e6))\n",
    "total_damages_adapted_df_mill['indirect damage baseline [M€]']=total_damages_adapted_df_mill['indirect damage baseline [€]']/1e6\n",
    "total_damages_adapted_df_mill['indirect damage adapted [M€]']=total_damages_adapted_df_mill['indirect damage adapted [€]']/1e6\n",
    "total_damages_adapted_df_mill.drop(['summed_adaptation_costs','summed_dd_bl', 'summed_dd_ad', 'indirect damage baseline [€]', 'indirect damage adapted [€]'], axis=1, inplace=True)\n",
    "\n",
    "\n",
    "\n",
    "custom_order = ['H', 'M', 'L', 'Unknown']\n",
    "\n",
    "total_damages_adapted_df_mill['return_period'] = pd.Categorical(total_damages_adapted_df_mill['return_period'], \n",
    "                                                                categories=custom_order, ordered=True)\n",
    "sorted_total_damages_adapted_df_mill = total_damages_adapted_df_mill.sort_values(by='return_period', ascending=True)\n",
    "sorted_total_damages_adapted_df_mill"
   ]
  },
  {
   "cell_type": "code",
   "execution_count": 19,
   "metadata": {},
   "outputs": [
    {
     "ename": "KeyError",
     "evalue": "'osm_id'",
     "output_type": "error",
     "traceback": [
      "\u001b[1;31m---------------------------------------------------------------------------\u001b[0m",
      "\u001b[1;31mKeyError\u001b[0m                                  Traceback (most recent call last)",
      "Cell \u001b[1;32mIn[19], line 26\u001b[0m\n\u001b[0;32m     24\u001b[0m         \u001b[38;5;28;01mfor\u001b[39;00m i \u001b[38;5;129;01min\u001b[39;00m \u001b[38;5;28mrange\u001b[39m(\u001b[38;5;28mlen\u001b[39m(path)\u001b[38;5;241m-\u001b[39m\u001b[38;5;241m1\u001b[39m):\n\u001b[0;32m     25\u001b[0m             x\u001b[38;5;241m=\u001b[39mgraph_v\u001b[38;5;241m.\u001b[39medges[path[i], path[i\u001b[38;5;241m+\u001b[39m\u001b[38;5;241m1\u001b[39m], \u001b[38;5;241m0\u001b[39m]\n\u001b[1;32m---> 26\u001b[0m             od_assets_by_sp_adapted\u001b[38;5;241m.\u001b[39mappend(\u001b[43mx\u001b[49m\u001b[43m[\u001b[49m\u001b[38;5;124;43m'\u001b[39;49m\u001b[38;5;124;43mosm_id\u001b[39;49m\u001b[38;5;124;43m'\u001b[39;49m\u001b[43m]\u001b[49m)\n\u001b[0;32m     27\u001b[0m         shortest_paths_adapted_assets[flood_map, (o,d)]\u001b[38;5;241m=\u001b[39m(od_assets_by_sp_adapted, demand)\n\u001b[0;32m     30\u001b[0m df_shortest_paths\u001b[38;5;241m=\u001b[39mpd\u001b[38;5;241m.\u001b[39mDataFrame(shortest_paths_assets)\u001b[38;5;241m.\u001b[39mT\n",
      "\u001b[1;31mKeyError\u001b[0m: 'osm_id'"
     ]
    }
   ],
   "source": [
    "shortest_paths_assets={}\n",
    "od_assets=[]\n",
    "o_geoms=[]\n",
    "d_geoms=[]\n",
    "for (o,d), (path, demand) in shortest_paths.items():\n",
    "    od_assets_by_sp=[]\n",
    "    o_geoms.append(graph_v.nodes[o]['geometry'])\n",
    "    d_geoms.append(graph_v.nodes[d]['geometry'])\n",
    "\n",
    "    for i in range(len(path)-1):\n",
    "        x=graph_v.edges[path[i], path[i+1], 0]\n",
    "        od_assets_by_sp.append(x['osm_id'])\n",
    "        od_assets.append(x['osm_id'])\n",
    "\n",
    "    shortest_paths_assets[(o,d)]=(od_assets_by_sp, demand)\n",
    "assets_sps=assets.loc[assets['osm_id'].isin(set(od_assets))].copy()\n",
    "\n",
    "\n",
    "# Repeat for shortest paths under adapted conditions\n",
    "shortest_paths_adapted_assets={}\n",
    "for flood_map, od_dict in disrupted_shortest_paths.items():\n",
    "    for (o,d), (path, demand) in od_dict.items():\n",
    "        od_assets_by_sp_adapted=[]\n",
    "        for i in range(len(path)-1):\n",
    "            x=graph_v.edges[path[i], path[i+1], 0]\n",
    "            od_assets_by_sp_adapted.append(x['osm_id'])\n",
    "        shortest_paths_adapted_assets[flood_map, (o,d)]=(od_assets_by_sp_adapted, demand)\n",
    "\n",
    "\n",
    "df_shortest_paths=pd.DataFrame(shortest_paths_assets).T\n",
    "df_shortest_paths.columns=['path', 'demand']\n",
    "df_shortest_paths\n"
   ]
  },
  {
   "cell_type": "code",
   "execution_count": 20,
   "metadata": {},
   "outputs": [
    {
     "data": {
      "text/html": [
       "<div>\n",
       "<style scoped>\n",
       "    .dataframe tbody tr th:only-of-type {\n",
       "        vertical-align: middle;\n",
       "    }\n",
       "\n",
       "    .dataframe tbody tr th {\n",
       "        vertical-align: top;\n",
       "    }\n",
       "\n",
       "    .dataframe thead th {\n",
       "        text-align: right;\n",
       "    }\n",
       "</style>\n",
       "<table border=\"1\" class=\"dataframe\">\n",
       "  <thead>\n",
       "    <tr style=\"text-align: right;\">\n",
       "      <th></th>\n",
       "      <th></th>\n",
       "      <th>path</th>\n",
       "      <th>demand</th>\n",
       "    </tr>\n",
       "  </thead>\n",
       "  <tbody>\n",
       "    <tr>\n",
       "      <th rowspan=\"2\" valign=\"top\">flood_DERP_RW_H_4326_2080410170</th>\n",
       "      <th>(node_13219, node_63664)</th>\n",
       "      <td>[27333502, 159679113, 159679100, 827463941, 31...</td>\n",
       "      <td>58</td>\n",
       "    </tr>\n",
       "    <tr>\n",
       "      <th>(node_63664, node_13219)</th>\n",
       "      <td>[816162304, 114655435, 813843121, 114655444, 1...</td>\n",
       "      <td>59</td>\n",
       "    </tr>\n",
       "    <tr>\n",
       "      <th rowspan=\"2\" valign=\"top\">flood_DERP_RW_H_4326_2080410430</th>\n",
       "      <th>(node_13219, node_103249)</th>\n",
       "      <td>[816162312, 694690444, 816162311, 816162311, 1...</td>\n",
       "      <td>24</td>\n",
       "    </tr>\n",
       "    <tr>\n",
       "      <th>(node_103249, node_13219)</th>\n",
       "      <td>[235878134, 235878124, 235878120, 481305333, 4...</td>\n",
       "      <td>27</td>\n",
       "    </tr>\n",
       "    <tr>\n",
       "      <th rowspan=\"4\" valign=\"top\">flood_DERP_RW_H_4326_2080410540</th>\n",
       "      <th>(node_13219, node_103249)</th>\n",
       "      <td>[816162312, 694690444, 816162311, 114681879, 1...</td>\n",
       "      <td>24</td>\n",
       "    </tr>\n",
       "    <tr>\n",
       "      <th>(node_103249, node_13219)</th>\n",
       "      <td>[235878134, 235878124, 235878120, 481305333, 4...</td>\n",
       "      <td>27</td>\n",
       "    </tr>\n",
       "    <tr>\n",
       "      <th>(node_63800, node_13219)</th>\n",
       "      <td>[114694798, 114695476, 114695477, 114704935, 3...</td>\n",
       "      <td>44</td>\n",
       "    </tr>\n",
       "    <tr>\n",
       "      <th>(node_13219, node_63800)</th>\n",
       "      <td>[816162312, 694690444, 816162311, 816162311, 1...</td>\n",
       "      <td>46</td>\n",
       "    </tr>\n",
       "    <tr>\n",
       "      <th rowspan=\"2\" valign=\"top\">flood_DERP_RW_H_4326_2080411370</th>\n",
       "      <th>(node_110851, node_59095)</th>\n",
       "      <td>[303605744, 242732900, 601085138, 111584614, 6...</td>\n",
       "      <td>378</td>\n",
       "    </tr>\n",
       "    <tr>\n",
       "      <th>(node_59095, node_110851)</th>\n",
       "      <td>[110888542, 110888545, 110888548, 110888522, 1...</td>\n",
       "      <td>392</td>\n",
       "    </tr>\n",
       "  </tbody>\n",
       "</table>\n",
       "</div>"
      ],
      "text/plain": [
       "                                                                                                        path  \\\n",
       "flood_DERP_RW_H_4326_2080410170 (node_13219, node_63664)   [27333502, 159679113, 159679100, 827463941, 31...   \n",
       "                                (node_63664, node_13219)   [816162304, 114655435, 813843121, 114655444, 1...   \n",
       "flood_DERP_RW_H_4326_2080410430 (node_13219, node_103249)  [816162312, 694690444, 816162311, 816162311, 1...   \n",
       "                                (node_103249, node_13219)  [235878134, 235878124, 235878120, 481305333, 4...   \n",
       "flood_DERP_RW_H_4326_2080410540 (node_13219, node_103249)  [816162312, 694690444, 816162311, 114681879, 1...   \n",
       "                                (node_103249, node_13219)  [235878134, 235878124, 235878120, 481305333, 4...   \n",
       "                                (node_63800, node_13219)   [114694798, 114695476, 114695477, 114704935, 3...   \n",
       "                                (node_13219, node_63800)   [816162312, 694690444, 816162311, 816162311, 1...   \n",
       "flood_DERP_RW_H_4326_2080411370 (node_110851, node_59095)  [303605744, 242732900, 601085138, 111584614, 6...   \n",
       "                                (node_59095, node_110851)  [110888542, 110888545, 110888548, 110888522, 1...   \n",
       "\n",
       "                                                          demand  \n",
       "flood_DERP_RW_H_4326_2080410170 (node_13219, node_63664)      58  \n",
       "                                (node_63664, node_13219)      59  \n",
       "flood_DERP_RW_H_4326_2080410430 (node_13219, node_103249)     24  \n",
       "                                (node_103249, node_13219)     27  \n",
       "flood_DERP_RW_H_4326_2080410540 (node_13219, node_103249)     24  \n",
       "                                (node_103249, node_13219)     27  \n",
       "                                (node_63800, node_13219)      44  \n",
       "                                (node_13219, node_63800)      46  \n",
       "flood_DERP_RW_H_4326_2080411370 (node_110851, node_59095)    378  \n",
       "                                (node_59095, node_110851)    392  "
      ]
     },
     "execution_count": 20,
     "metadata": {},
     "output_type": "execute_result"
    }
   ],
   "source": [
    "\n",
    "df_shortest_paths_adapted=pd.DataFrame(shortest_paths_adapted_assets).T\n",
    "df_shortest_paths_adapted.columns=['path', 'demand']\n",
    "df_shortest_paths_adapted\n"
   ]
  },
  {
   "cell_type": "code",
   "execution_count": 21,
   "metadata": {},
   "outputs": [],
   "source": [
    "\n",
    "l3_geometries = {}\n",
    "for u, v, k, attr in graph_v.edges(keys=True, data=True):\n",
    "    if 'osm_id' not in attr:\n",
    "        continue\n",
    "    if 'l3_adaptation' in attr['osm_id']:\n",
    "        # Ensure the geometry is a valid Shapely geometry object\n",
    "        geometry = attr['geometry']\n",
    "        if isinstance(geometry, list) and len(geometry) == 1 and isinstance(geometry[0], shapely.LineString):\n",
    "            geometry = geometry[0]\n",
    "        if isinstance(geometry, shapely.LineString):\n",
    "            l3_geometries[(u, v)] = geometry\n",
    "        else:\n",
    "            print(f\"Invalid geometry for edge ({u}, {v}): {geometry}\")\n",
    "\n",
    "gdf_l3_edges = gpd.GeoDataFrame.from_dict(l3_geometries, orient='index', columns=['geometry'], geometry='geometry', crs=3857)\n",
    "gdf_l3_edges.reset_index(inplace=True)\n",
    "\n",
    "# gdf_l3_edges = gpd.GeoDataFrame(list(l3_geometries.items()), columns=['edge', 'geometry'], geometry='geometry', crs=3857)\n"
   ]
  },
  {
   "cell_type": "code",
   "execution_count": 22,
   "metadata": {},
   "outputs": [
    {
     "name": "stderr",
     "output_type": "stream",
     "text": [
      "c:\\Users\\peregrin\\AppData\\Local\\anaconda3\\envs\\ci_adapt_env\\Lib\\site-packages\\lonboard\\_geoarrow\\ops\\reproject.py:97: UserWarning: Input being reprojected to EPSG:4326 CRS\n",
      "  warnings.warn(\"Input being reprojected to EPSG:4326 CRS\")\n"
     ]
    }
   ],
   "source": [
    "# EXPAND FOR VISUALISATION SCRIPT\n",
    "# Create visualisation for the basin and the discharge points\n",
    "from lonboard import Map, PolygonLayer, PathLayer, BaseLayer, ScatterplotLayer\n",
    "import ast\n",
    "# MIRACA color scheme\n",
    "color_string = config.get('DEFAULT', 'miraca_colors')\n",
    "miraca_colors = ast.literal_eval(color_string)\n",
    "\n",
    "basin_id = 2080430320\n",
    "rp_vis = 'M'\n",
    "overlay_assets = load_baseline_run(f'flood_DERP_RW_{rp_vis}_4326_{basin_id}', interim_data_path, only_overlay=True)\n",
    "    \n",
    "# Set path for basin to add to visualization\n",
    "basin_path = rf'C:\\Data\\Floods\\basins\\hybas_eu_{int(basin_id)}.shp'\n",
    "\n",
    "# Generate the basin layer\n",
    "basin = gpd.read_file(basin_path)\n",
    "layer_basin = PolygonLayer.from_geopandas(basin,\n",
    "    get_fill_color=miraca_colors['grey_100'],\n",
    "    get_line_color=miraca_colors['accent green'], get_line_width=10,\n",
    "    auto_highlight=False,\n",
    "    filled=True, opacity=0.1)\n",
    "\n",
    "# Generate od layer for visualization\n",
    "od_geoms=o_geoms+d_geoms\n",
    "od_geoms_gdf=gpd.GeoDataFrame(geometry=od_geoms).set_crs(3857)\n",
    "layer_od = ScatterplotLayer.from_geopandas(od_geoms_gdf, get_fill_color=miraca_colors['red_danger'], get_radius=200, opacity=0.8, auto_highlight=True)\n",
    "\n"
   ]
  },
  {
   "cell_type": "code",
   "execution_count": 23,
   "metadata": {},
   "outputs": [
    {
     "name": "stderr",
     "output_type": "stream",
     "text": [
      "c:\\Users\\peregrin\\AppData\\Local\\anaconda3\\envs\\ci_adapt_env\\Lib\\site-packages\\lonboard\\_geoarrow\\ops\\reproject.py:97: UserWarning: Input being reprojected to EPSG:4326 CRS\n",
      "  warnings.warn(\"Input being reprojected to EPSG:4326 CRS\")\n",
      "c:\\Users\\peregrin\\AppData\\Local\\anaconda3\\envs\\ci_adapt_env\\Lib\\site-packages\\lonboard\\_geoarrow\\ops\\reproject.py:97: UserWarning: Input being reprojected to EPSG:4326 CRS\n",
      "  warnings.warn(\"Input being reprojected to EPSG:4326 CRS\")\n",
      "c:\\Users\\peregrin\\AppData\\Local\\anaconda3\\envs\\ci_adapt_env\\Lib\\site-packages\\lonboard\\_geoarrow\\ops\\reproject.py:97: UserWarning: Input being reprojected to EPSG:4326 CRS\n",
      "  warnings.warn(\"Input being reprojected to EPSG:4326 CRS\")\n"
     ]
    },
    {
     "ename": "DriverError",
     "evalue": "C:\\Data\\Floods\\Germany\\basin_intersections\\DERP_RW_M_4326_hybas_intersections\\flood_DERP_RW_M_4326_2080430320.geojson: No such file or directory",
     "output_type": "error",
     "traceback": [
      "\u001b[1;31m---------------------------------------------------------------------------\u001b[0m",
      "\u001b[1;31mCPLE_OpenFailedError\u001b[0m                      Traceback (most recent call last)",
      "File \u001b[1;32mfiona\\\\ogrext.pyx:136\u001b[0m, in \u001b[0;36mfiona.ogrext.gdal_open_vector\u001b[1;34m()\u001b[0m\n",
      "File \u001b[1;32mfiona\\\\_err.pyx:291\u001b[0m, in \u001b[0;36mfiona._err.exc_wrap_pointer\u001b[1;34m()\u001b[0m\n",
      "\u001b[1;31mCPLE_OpenFailedError\u001b[0m: C:\\Data\\Floods\\Germany\\basin_intersections\\DERP_RW_M_4326_hybas_intersections\\flood_DERP_RW_M_4326_2080430320.geojson: No such file or directory",
      "\nDuring handling of the above exception, another exception occurred:\n",
      "\u001b[1;31mDriverError\u001b[0m                               Traceback (most recent call last)",
      "Cell \u001b[1;32mIn[23], line 35\u001b[0m\n\u001b[0;32m     33\u001b[0m flood_plot_path\u001b[38;5;241m=\u001b[39m\u001b[38;5;124mrf\u001b[39m\u001b[38;5;124m'\u001b[39m\u001b[38;5;124mFloods\u001b[39m\u001b[38;5;124m\\\u001b[39m\u001b[38;5;124mGermany\u001b[39m\u001b[38;5;124m\\\u001b[39m\u001b[38;5;124mbasin_intersections\u001b[39m\u001b[38;5;124m\\\u001b[39m\u001b[38;5;124mDERP_RW_\u001b[39m\u001b[38;5;132;01m{\u001b[39;00mrp_vis\u001b[38;5;132;01m}\u001b[39;00m\u001b[38;5;124m_4326_hybas_intersections\u001b[39m\u001b[38;5;124m\\\u001b[39m\u001b[38;5;124mflood_DERP_RW_\u001b[39m\u001b[38;5;132;01m{\u001b[39;00mrp_vis\u001b[38;5;132;01m}\u001b[39;00m\u001b[38;5;124m_4326_\u001b[39m\u001b[38;5;132;01m{\u001b[39;00mbasin_id\u001b[38;5;132;01m}\u001b[39;00m\u001b[38;5;124m.geojson\u001b[39m\u001b[38;5;124m'\u001b[39m\n\u001b[0;32m     34\u001b[0m flood_m \u001b[38;5;241m=\u001b[39m data_path \u001b[38;5;241m/\u001b[39m flood_plot_path\n\u001b[1;32m---> 35\u001b[0m flood_gdf\u001b[38;5;241m=\u001b[39m\u001b[43mgpd\u001b[49m\u001b[38;5;241;43m.\u001b[39;49m\u001b[43mread_file\u001b[49m\u001b[43m(\u001b[49m\u001b[43mflood_m\u001b[49m\u001b[43m)\u001b[49m\n\u001b[0;32m     36\u001b[0m layers_flood\u001b[38;5;241m=\u001b[39m[]\n\u001b[0;32m     37\u001b[0m f_area_colors \u001b[38;5;241m=\u001b[39m {\u001b[38;5;241m1\u001b[39m:\u001b[38;5;124m'\u001b[39m\u001b[38;5;124mblue\u001b[39m\u001b[38;5;124m'\u001b[39m, \u001b[38;5;241m3\u001b[39m:\u001b[38;5;124m'\u001b[39m\u001b[38;5;124mgreen\u001b[39m\u001b[38;5;124m'\u001b[39m}\n",
      "File \u001b[1;32mc:\\Users\\peregrin\\AppData\\Local\\anaconda3\\envs\\ci_adapt_env\\Lib\\site-packages\\geopandas\\io\\file.py:297\u001b[0m, in \u001b[0;36m_read_file\u001b[1;34m(filename, bbox, mask, rows, engine, **kwargs)\u001b[0m\n\u001b[0;32m    294\u001b[0m     \u001b[38;5;28;01melse\u001b[39;00m:\n\u001b[0;32m    295\u001b[0m         path_or_bytes \u001b[38;5;241m=\u001b[39m filename\n\u001b[1;32m--> 297\u001b[0m     \u001b[38;5;28;01mreturn\u001b[39;00m \u001b[43m_read_file_fiona\u001b[49m\u001b[43m(\u001b[49m\n\u001b[0;32m    298\u001b[0m \u001b[43m        \u001b[49m\u001b[43mpath_or_bytes\u001b[49m\u001b[43m,\u001b[49m\u001b[43m \u001b[49m\u001b[43mfrom_bytes\u001b[49m\u001b[43m,\u001b[49m\u001b[43m \u001b[49m\u001b[43mbbox\u001b[49m\u001b[38;5;241;43m=\u001b[39;49m\u001b[43mbbox\u001b[49m\u001b[43m,\u001b[49m\u001b[43m \u001b[49m\u001b[43mmask\u001b[49m\u001b[38;5;241;43m=\u001b[39;49m\u001b[43mmask\u001b[49m\u001b[43m,\u001b[49m\u001b[43m \u001b[49m\u001b[43mrows\u001b[49m\u001b[38;5;241;43m=\u001b[39;49m\u001b[43mrows\u001b[49m\u001b[43m,\u001b[49m\u001b[43m \u001b[49m\u001b[38;5;241;43m*\u001b[39;49m\u001b[38;5;241;43m*\u001b[39;49m\u001b[43mkwargs\u001b[49m\n\u001b[0;32m    299\u001b[0m \u001b[43m    \u001b[49m\u001b[43m)\u001b[49m\n\u001b[0;32m    301\u001b[0m \u001b[38;5;28;01melse\u001b[39;00m:\n\u001b[0;32m    302\u001b[0m     \u001b[38;5;28;01mraise\u001b[39;00m \u001b[38;5;167;01mValueError\u001b[39;00m(\u001b[38;5;124mf\u001b[39m\u001b[38;5;124m\"\u001b[39m\u001b[38;5;124munknown engine \u001b[39m\u001b[38;5;124m'\u001b[39m\u001b[38;5;132;01m{\u001b[39;00mengine\u001b[38;5;132;01m}\u001b[39;00m\u001b[38;5;124m'\u001b[39m\u001b[38;5;124m\"\u001b[39m)\n",
      "File \u001b[1;32mc:\\Users\\peregrin\\AppData\\Local\\anaconda3\\envs\\ci_adapt_env\\Lib\\site-packages\\geopandas\\io\\file.py:338\u001b[0m, in \u001b[0;36m_read_file_fiona\u001b[1;34m(path_or_bytes, from_bytes, bbox, mask, rows, where, **kwargs)\u001b[0m\n\u001b[0;32m    335\u001b[0m     reader \u001b[38;5;241m=\u001b[39m fiona\u001b[38;5;241m.\u001b[39mopen\n\u001b[0;32m    337\u001b[0m \u001b[38;5;28;01mwith\u001b[39;00m fiona_env():\n\u001b[1;32m--> 338\u001b[0m     \u001b[38;5;28;01mwith\u001b[39;00m \u001b[43mreader\u001b[49m\u001b[43m(\u001b[49m\u001b[43mpath_or_bytes\u001b[49m\u001b[43m,\u001b[49m\u001b[43m \u001b[49m\u001b[38;5;241;43m*\u001b[39;49m\u001b[38;5;241;43m*\u001b[39;49m\u001b[43mkwargs\u001b[49m\u001b[43m)\u001b[49m \u001b[38;5;28;01mas\u001b[39;00m features:\n\u001b[0;32m    339\u001b[0m         crs \u001b[38;5;241m=\u001b[39m features\u001b[38;5;241m.\u001b[39mcrs_wkt\n\u001b[0;32m    340\u001b[0m         \u001b[38;5;66;03m# attempt to get EPSG code\u001b[39;00m\n",
      "File \u001b[1;32mc:\\Users\\peregrin\\AppData\\Local\\anaconda3\\envs\\ci_adapt_env\\Lib\\site-packages\\fiona\\env.py:457\u001b[0m, in \u001b[0;36mensure_env_with_credentials.<locals>.wrapper\u001b[1;34m(*args, **kwds)\u001b[0m\n\u001b[0;32m    454\u001b[0m     session \u001b[38;5;241m=\u001b[39m DummySession()\n\u001b[0;32m    456\u001b[0m \u001b[38;5;28;01mwith\u001b[39;00m env_ctor(session\u001b[38;5;241m=\u001b[39msession):\n\u001b[1;32m--> 457\u001b[0m     \u001b[38;5;28;01mreturn\u001b[39;00m \u001b[43mf\u001b[49m\u001b[43m(\u001b[49m\u001b[38;5;241;43m*\u001b[39;49m\u001b[43margs\u001b[49m\u001b[43m,\u001b[49m\u001b[43m \u001b[49m\u001b[38;5;241;43m*\u001b[39;49m\u001b[38;5;241;43m*\u001b[39;49m\u001b[43mkwds\u001b[49m\u001b[43m)\u001b[49m\n",
      "File \u001b[1;32mc:\\Users\\peregrin\\AppData\\Local\\anaconda3\\envs\\ci_adapt_env\\Lib\\site-packages\\fiona\\__init__.py:292\u001b[0m, in \u001b[0;36mopen\u001b[1;34m(fp, mode, driver, schema, crs, encoding, layer, vfs, enabled_drivers, crs_wkt, allow_unsupported_drivers, **kwargs)\u001b[0m\n\u001b[0;32m    289\u001b[0m     path \u001b[38;5;241m=\u001b[39m parse_path(fp)\n\u001b[0;32m    291\u001b[0m \u001b[38;5;28;01mif\u001b[39;00m mode \u001b[38;5;129;01min\u001b[39;00m (\u001b[38;5;124m\"\u001b[39m\u001b[38;5;124ma\u001b[39m\u001b[38;5;124m\"\u001b[39m, \u001b[38;5;124m\"\u001b[39m\u001b[38;5;124mr\u001b[39m\u001b[38;5;124m\"\u001b[39m):\n\u001b[1;32m--> 292\u001b[0m     colxn \u001b[38;5;241m=\u001b[39m \u001b[43mCollection\u001b[49m\u001b[43m(\u001b[49m\n\u001b[0;32m    293\u001b[0m \u001b[43m        \u001b[49m\u001b[43mpath\u001b[49m\u001b[43m,\u001b[49m\n\u001b[0;32m    294\u001b[0m \u001b[43m        \u001b[49m\u001b[43mmode\u001b[49m\u001b[43m,\u001b[49m\n\u001b[0;32m    295\u001b[0m \u001b[43m        \u001b[49m\u001b[43mdriver\u001b[49m\u001b[38;5;241;43m=\u001b[39;49m\u001b[43mdriver\u001b[49m\u001b[43m,\u001b[49m\n\u001b[0;32m    296\u001b[0m \u001b[43m        \u001b[49m\u001b[43mencoding\u001b[49m\u001b[38;5;241;43m=\u001b[39;49m\u001b[43mencoding\u001b[49m\u001b[43m,\u001b[49m\n\u001b[0;32m    297\u001b[0m \u001b[43m        \u001b[49m\u001b[43mlayer\u001b[49m\u001b[38;5;241;43m=\u001b[39;49m\u001b[43mlayer\u001b[49m\u001b[43m,\u001b[49m\n\u001b[0;32m    298\u001b[0m \u001b[43m        \u001b[49m\u001b[43menabled_drivers\u001b[49m\u001b[38;5;241;43m=\u001b[39;49m\u001b[43menabled_drivers\u001b[49m\u001b[43m,\u001b[49m\n\u001b[0;32m    299\u001b[0m \u001b[43m        \u001b[49m\u001b[43mallow_unsupported_drivers\u001b[49m\u001b[38;5;241;43m=\u001b[39;49m\u001b[43mallow_unsupported_drivers\u001b[49m\u001b[43m,\u001b[49m\n\u001b[0;32m    300\u001b[0m \u001b[43m        \u001b[49m\u001b[38;5;241;43m*\u001b[39;49m\u001b[38;5;241;43m*\u001b[39;49m\u001b[43mkwargs\u001b[49m\n\u001b[0;32m    301\u001b[0m \u001b[43m    \u001b[49m\u001b[43m)\u001b[49m\n\u001b[0;32m    302\u001b[0m \u001b[38;5;28;01melif\u001b[39;00m mode \u001b[38;5;241m==\u001b[39m \u001b[38;5;124m\"\u001b[39m\u001b[38;5;124mw\u001b[39m\u001b[38;5;124m\"\u001b[39m:\n\u001b[0;32m    303\u001b[0m     colxn \u001b[38;5;241m=\u001b[39m Collection(\n\u001b[0;32m    304\u001b[0m         path,\n\u001b[0;32m    305\u001b[0m         mode,\n\u001b[1;32m   (...)\u001b[0m\n\u001b[0;32m    314\u001b[0m         \u001b[38;5;241m*\u001b[39m\u001b[38;5;241m*\u001b[39mkwargs\n\u001b[0;32m    315\u001b[0m     )\n",
      "File \u001b[1;32mc:\\Users\\peregrin\\AppData\\Local\\anaconda3\\envs\\ci_adapt_env\\Lib\\site-packages\\fiona\\collection.py:243\u001b[0m, in \u001b[0;36mCollection.__init__\u001b[1;34m(self, path, mode, driver, schema, crs, encoding, layer, vsi, archive, enabled_drivers, crs_wkt, ignore_fields, ignore_geometry, include_fields, wkt_version, allow_unsupported_drivers, **kwargs)\u001b[0m\n\u001b[0;32m    241\u001b[0m \u001b[38;5;28;01mif\u001b[39;00m \u001b[38;5;28mself\u001b[39m\u001b[38;5;241m.\u001b[39mmode \u001b[38;5;241m==\u001b[39m \u001b[38;5;124m\"\u001b[39m\u001b[38;5;124mr\u001b[39m\u001b[38;5;124m\"\u001b[39m:\n\u001b[0;32m    242\u001b[0m     \u001b[38;5;28mself\u001b[39m\u001b[38;5;241m.\u001b[39msession \u001b[38;5;241m=\u001b[39m Session()\n\u001b[1;32m--> 243\u001b[0m     \u001b[38;5;28;43mself\u001b[39;49m\u001b[38;5;241;43m.\u001b[39;49m\u001b[43msession\u001b[49m\u001b[38;5;241;43m.\u001b[39;49m\u001b[43mstart\u001b[49m\u001b[43m(\u001b[49m\u001b[38;5;28;43mself\u001b[39;49m\u001b[43m,\u001b[49m\u001b[43m \u001b[49m\u001b[38;5;241;43m*\u001b[39;49m\u001b[38;5;241;43m*\u001b[39;49m\u001b[43mkwargs\u001b[49m\u001b[43m)\u001b[49m\n\u001b[0;32m    244\u001b[0m \u001b[38;5;28;01melif\u001b[39;00m \u001b[38;5;28mself\u001b[39m\u001b[38;5;241m.\u001b[39mmode \u001b[38;5;129;01min\u001b[39;00m (\u001b[38;5;124m\"\u001b[39m\u001b[38;5;124ma\u001b[39m\u001b[38;5;124m\"\u001b[39m, \u001b[38;5;124m\"\u001b[39m\u001b[38;5;124mw\u001b[39m\u001b[38;5;124m\"\u001b[39m):\n\u001b[0;32m    245\u001b[0m     \u001b[38;5;28mself\u001b[39m\u001b[38;5;241m.\u001b[39msession \u001b[38;5;241m=\u001b[39m WritingSession()\n",
      "File \u001b[1;32mfiona\\\\ogrext.pyx:588\u001b[0m, in \u001b[0;36mfiona.ogrext.Session.start\u001b[1;34m()\u001b[0m\n",
      "File \u001b[1;32mfiona\\\\ogrext.pyx:143\u001b[0m, in \u001b[0;36mfiona.ogrext.gdal_open_vector\u001b[1;34m()\u001b[0m\n",
      "\u001b[1;31mDriverError\u001b[0m: C:\\Data\\Floods\\Germany\\basin_intersections\\DERP_RW_M_4326_hybas_intersections\\flood_DERP_RW_M_4326_2080430320.geojson: No such file or directory"
     ]
    }
   ],
   "source": [
    "\n",
    "# Set path for the protected area to add to visualization\n",
    "adapt_path = l1_l2_adapt_path\n",
    "if adapt_path is not None:\n",
    "    adapt_area = gpd.read_file(adapt_path)\n",
    "    if len(adapt_area.adapt_level.unique())==1 and adapt_area.adapt_level.unique()[0]==1:\n",
    "        layer_adapted_area = PolygonLayer.from_geopandas(adapt_area,\n",
    "                                                         get_fill_color=miraca_colors['green_800'],\n",
    "                                                         get_line_color=miraca_colors['primary blue'], get_line_width=10,\n",
    "                                                         auto_highlight=False, filled=True, opacity=0.1)\n",
    "    else:\n",
    "        layer_adapted_area = None\n",
    "else:\n",
    "    layer_adapted_area = None\n",
    "\n",
    "# Create layer for assets for visualization\n",
    "layer_assets = PathLayer.from_geopandas(assets.drop(columns=['buffered', 'other_tags']), get_width=80, get_color=miraca_colors['grey_400'], auto_highlight=True, )\n",
    "layer_shortest_path_assets = PathLayer.from_geopandas(assets_sps.drop(columns=['buffered', 'other_tags']), get_width=80, get_color=miraca_colors['black'], auto_highlight=True)\n",
    "affected_assets = [asset_id for asset_id in list(set(overlay_assets.asset.values))]\n",
    "layer_affected_assets = PathLayer.from_geopandas(assets.iloc[affected_assets].drop(columns=['buffered', 'other_tags']), get_width=80, get_color=miraca_colors['red_danger'], auto_highlight=True)\n",
    "\n",
    "try:\n",
    "    layer_protected_assets = PathLayer.from_geopandas(adapted_assets.drop(columns=['buffered', 'other_tags']), get_width=90, get_color=miraca_colors['green_success'], auto_highlight=True)\n",
    "except:\n",
    "    layer_protected_assets = None\n",
    "try:\n",
    "    layer_l3_edges = PathLayer.from_geopandas(gdf_l3_edges, get_width=90, get_color=miraca_colors['green_success'])\n",
    "except:\n",
    "    layer_l3_edges = None\n",
    "layer_assets_raw = [layer_assets, layer_shortest_path_assets, layer_affected_assets, layer_protected_assets, layer_l3_edges]\n",
    "layers_assets = [layer for layer in layer_assets_raw if layer is not None]\n",
    "\n",
    "# Generate flood layers and protection layers for visualization\n",
    "flood_plot_path=rf'Floods\\Germany\\basin_intersections\\DERP_RW_{rp_vis}_4326_hybas_intersections\\flood_DERP_RW_{rp_vis}_4326_{basin_id}.geojson'\n",
    "flood_m = data_path / flood_plot_path\n",
    "flood_gdf=gpd.read_file(flood_m)\n",
    "layers_flood=[]\n",
    "f_area_colors = {1:'blue', 3:'green'}\n",
    "for f_area in flood_gdf.flood_area.unique():\n",
    "    for f_depth in flood_gdf.depth_class.unique():\n",
    "        subset_gdf = flood_gdf[(flood_gdf.depth_class==f_depth) & (flood_gdf.flood_area==f_area)]\n",
    "        if not subset_gdf.empty:\n",
    "            color_key=f'{f_area_colors[f_area]}_{f_depth}00'\n",
    "            layers_flood.append(PolygonLayer.from_geopandas(subset_gdf, \n",
    "                                                            get_fill_color=miraca_colors[color_key], \n",
    "                                                            opacity=0.5, \n",
    "                                                            stroked=False))\n",
    "\n",
    "layers=[]\n",
    "if layer_basin is not None:\n",
    "    layers.append(layer_basin)\n",
    "else:\n",
    "    print('No basin layer')\n",
    "\n",
    "if layer_adapted_area is not None:\n",
    "    layers.append(layer_adapted_area)\n",
    "else:\n",
    "    print('No protected area layer')\n",
    "\n",
    "if layers_flood is not None:\n",
    "    layers.extend(layers_flood)\n",
    "else:\n",
    "    print('No flood layers')\n",
    "\n",
    "if layer_assets is not None:\n",
    "    layers.extend(layers_assets)\n",
    "else:\n",
    "    print('No asset layer')\n",
    "Voyager = 'https://basemaps.cartocdn.com/gl/voyager-gl-style/style.json'\n",
    "\n",
    "if layer_od is not None:\n",
    "    layers.append(layer_od)\n",
    "else:\n",
    "    print('No od layer')\n",
    "m = Map(layers, show_tooltip=True, basemap_style=Voyager, view_state={\"longitude\": 7.91, \"latitude\": 49.91, \"zoom\": 11})\n"
   ]
  },
  {
   "cell_type": "code",
   "execution_count": null,
   "metadata": {},
   "outputs": [],
   "source": [
    "m"
   ]
  },
  {
   "cell_type": "code",
   "execution_count": null,
   "metadata": {},
   "outputs": [],
   "source": [
    "plot_assets=assets.drop(columns=['buffered', 'other_tags']).to_crs(epsg=4326)\n",
    "plot_assets.head(3)"
   ]
  },
  {
   "cell_type": "code",
   "execution_count": null,
   "metadata": {},
   "outputs": [],
   "source": [
    "import matplotlib.pyplot as plt\n",
    "import numpy as np\n",
    "import cartopy.crs as ccrs\n",
    "import cartopy.io.img_tiles as cimgt\n",
    "import geopandas as gpd\n",
    "\n",
    "# helper function\n",
    "def zoomlevel_from_deg(deg): #https://stackoverflow.com/questions/30052990/how-to-use-openstreetmap-background-on-matplotlib-basemap\n",
    "    \"Calculate OSM zoom level from a span in degrees.  Adjust +/-1 as desired\"\n",
    "    from numpy import log2, clip, floor\n",
    "    zoomlevel = int(clip(floor(log2(360) - log2(delta)),0,20 ))\n",
    "    return zoomlevel \n",
    "\n",
    "# Convert basin to EPSG:4326 and get the total bounds\n",
    "extent = basin.to_crs(epsg=4326).total_bounds\n",
    "\n",
    "# Add clearance around the basin\n",
    "clearance = 0.5  # 10% clearance around the basin bounds\n",
    "lon_min, lat_min, lon_max, lat_max = extent\n",
    "lon_range = lon_max - lon_min\n",
    "lat_range = lat_max - lat_min\n",
    "\n",
    "lon_min -= clearance * lon_range\n",
    "lat_min -= clearance * lat_range\n",
    "lon_max += clearance * lon_range\n",
    "lat_max += clearance * lat_range\n",
    "\n",
    "# Calculate aspect ratio\n",
    "aspect_ratio = lon_range / lat_range\n",
    "\n",
    "lon_i = lon_min + (lon_max - lon_min) / 2\n",
    "lat_i = lat_min + (lat_max - lat_min) / 2\n",
    "delta = 0.0016 # 0.0012 # 38 to 0.0002 degrees to avoid north pole\n",
    "zoom = zoomlevel_from_deg(delta)-5 # 10 #  0-19 \n",
    "print(f\"Zoom Level: {zoom}\")\n",
    "\n",
    "# Create a plot with the OSM tiles\n",
    "request_osm = cimgt.OSM()\n",
    "\n",
    "fig = plt.figure(figsize=(10 * aspect_ratio, 10))\n",
    "ax = plt.axes(projection=request_osm.crs)\n",
    "ax.set_extent([lon_min, lon_max, lat_min, lat_max], crs=ccrs.PlateCarree())\n",
    "ax.add_image(request_osm, zoom, alpha=0.5)  # Adjust zoom level as needed\n",
    "\n",
    "# Plot the basin\n",
    "basin.to_crs(epsg=4326).plot(ax=ax, facecolor='none', edgecolor='grey', linewidth=1, transform=ccrs.PlateCarree())\n",
    "\n",
    "# Plot the assets\n",
    "plot_assets.plot(ax=ax, color='grey', markersize=10, transform=ccrs.PlateCarree())\n",
    "\n",
    "# Plot the flood areas\n",
    "for f_area in flood_gdf.flood_area.unique():\n",
    "    for f_depth in flood_gdf.depth_class.unique():\n",
    "        subset_gdf = flood_gdf[(flood_gdf.depth_class==f_depth) & (flood_gdf.flood_area==f_area)]\n",
    "        if not subset_gdf.empty:\n",
    "            color_key=f'{f_area_colors[f_area]}_{f_depth}00'\n",
    "            subset_gdf.to_crs(epsg=4326).plot(ax=ax, facecolor=miraca_colors[color_key], edgecolor=None, linewidth=2, alpha=0.5, transform=ccrs.PlateCarree())\n",
    "\n",
    "# Plot the shortest paths\n",
    "plot_assets_sps = assets_sps.drop(columns=['buffered', 'other_tags']).to_crs(epsg=4326)\n",
    "plot_assets_sps.plot(ax=ax, color='black', markersize=10, transform=ccrs.PlateCarree())\n",
    "\n",
    "# Plot the affected assets\n",
    "plot_assets_affected = assets.iloc[affected_assets].drop(columns=['buffered', 'other_tags']).to_crs(epsg=4326)\n",
    "plot_assets_affected.plot(ax=ax, color='red', markersize=10, transform=ccrs.PlateCarree())\n",
    "\n",
    "# Plot the OD points\n",
    "od_geoms_gdf.to_crs(epsg=4326).plot(ax=ax, color='blue', markersize=10, transform=ccrs.PlateCarree())\n",
    "\n",
    "ax.gridlines(draw_labels=True)\n",
    "plt.show()"
   ]
  },
  {
   "cell_type": "code",
   "execution_count": null,
   "metadata": {},
   "outputs": [],
   "source": [
    "import cartopy\n",
    "# Convert basin to EPSG:4326 and get the total bounds\n",
    "extent_new = assets.to_crs(epsg=4326).total_bounds\n",
    "\n",
    "# Add clearance around the basin\n",
    "clearance = 0  # 10% clearance around the basin bounds\n",
    "\n",
    "lon_min_new, lat_min_new, lon_max_new, lat_max_new = extent_new\n",
    "lon_range_new = lon_max_new - lon_min_new\n",
    "lat_range_new = lat_max_new - lat_min_new\n",
    "\n",
    "lon_min_new -= clearance * lon_range_new\n",
    "lat_min_new -= clearance * lat_range_new\n",
    "lon_max_new += clearance * lon_range_new\n",
    "lat_max_new += clearance * lat_range_new\n",
    "\n",
    "# Calculate aspect ratio\n",
    "aspect_ratio_new = lon_range_new / lat_range_new\n",
    "\n",
    "lon_i_new = plot_assets.total_bounds[0] + (plot_assets.total_bounds[2] - plot_assets.total_bounds[0]) / 2\n",
    "lat_i_new = plot_assets.total_bounds[1] + (plot_assets.total_bounds[3] - plot_assets.total_bounds[1]) / 2\n",
    "delta_new = 0.0016 # 0.0012 # 38 to 0.0002 degrees to avoid north pole\n",
    "zoom_new = zoomlevel_from_deg(delta_new)-5 # 10 #  0-19\n",
    "print(f\"Zoom Level: {zoom_new}\")\n",
    "\n",
    "fig = plt.figure(figsize=(10 * aspect_ratio_new, 10))\n",
    "ax = plt.axes(projection=request_osm.crs)\n",
    "ax.set_extent([lon_min_new, lon_max_new, lat_min_new, lat_max_new], crs=ccrs.PlateCarree())\n",
    "ax.add_image(request_osm, zoom_new, alpha=0.5)  # Adjust zoom level as needed\n",
    "\n",
    "# Plot the basin\n",
    "basin.to_crs(epsg=4326).plot(ax=ax, facecolor='none', edgecolor='grey', linewidth=1, transform=ccrs.PlateCarree())\n",
    "\n",
    "# Plot the assets\n",
    "plot_assets.plot(ax=ax, color='grey', markersize=10, transform=ccrs.PlateCarree())\n",
    "\n",
    "# Plot the flood areas\n",
    "for f_area in flood_gdf.flood_area.unique():\n",
    "    for f_depth in flood_gdf.depth_class.unique():\n",
    "        subset_gdf = flood_gdf[(flood_gdf.depth_class==f_depth) & (flood_gdf.flood_area==f_area)]\n",
    "        if not subset_gdf.empty:\n",
    "            color_key=f'{f_area_colors[f_area]}_{f_depth}00'\n",
    "            subset_gdf.to_crs(epsg=4326).plot(ax=ax, facecolor=miraca_colors[color_key], edgecolor=None, linewidth=2, alpha=0.5, transform=ccrs.PlateCarree())\n",
    "\n",
    "# Plot the shortest paths\n",
    "plot_assets_sps = assets_sps.drop(columns=['buffered', 'other_tags']).to_crs(epsg=4326)\n",
    "plot_assets_sps.plot(ax=ax, color='black', markersize=10, transform=ccrs.PlateCarree())\n",
    "\n",
    "# Plot the affected assets\n",
    "plot_assets_affected = assets.iloc[affected_assets].drop(columns=['buffered', 'other_tags']).to_crs(epsg=4326)\n",
    "plot_assets_affected.plot(ax=ax, color='red', markersize=10, transform=ccrs.PlateCarree())\n",
    "\n",
    "# Plot the OD points\n",
    "od_geoms_gdf.to_crs(epsg=4326).plot(ax=ax, color='cyan', markersize=10, transform=ccrs.PlateCarree())\n",
    "\n",
    "ax.gridlines(draw_labels=True)\n",
    "\n",
    "# add administrative boundaries\n",
    "ax.add_feature(cartopy.feature.BORDERS, linestyle=':')\n",
    "plt.show()"
   ]
  },
  {
   "cell_type": "code",
   "execution_count": null,
   "metadata": {},
   "outputs": [],
   "source": [
    "#!pip install cartopy\n",
    "import cartopy.crs as ccrs\n",
    "import cartopy\n",
    "import matplotlib.pyplot as plt\n",
    "import geopandas as gpd\n",
    "import numpy as np\n",
    "import pyproj\n",
    "\n",
    "# Define the transformer to convert from EPSG:3857 to EPSG:4326\n",
    "transformer = pyproj.Transformer.from_crs(\"EPSG:3857\", \"EPSG:4326\", always_xy=True)\n",
    "\n",
    "# Convert coordinates of o_geoms and d_geoms to EPSG:4326\n",
    "o_geoms_4326 = [transformer.transform(geom.x, geom.y) for geom in o_geoms]\n",
    "d_geoms_4326 = [transformer.transform(geom.x, geom.y) for geom in d_geoms]\n",
    "\n",
    "# Create a map with the basin and the origins and destinations\n",
    "fig = plt.figure(figsize=(20, 20))\n",
    "ax = plt.axes(projection=ccrs.PlateCarree())\n",
    "\n",
    "# Plot the basin (assuming basin is in EPSG:3857)\n",
    "# If basin is in EPSG:3857, convert it to EPSG:4326\n",
    "basin = basin.to_crs(epsg=4326)\n",
    "basin.plot(ax=ax, facecolor='none', edgecolor='grey', linewidth=2, alpha = 0.5)\n",
    "\n",
    "# Plot the assets\n",
    "plot_assets.plot(ax=ax, facecolor='none', edgecolor='black', linewidth=2)\n",
    "\n",
    "# Plot the flood areas\n",
    "flood_gdf.plot(ax=ax, facecolor='none', edgecolor='blue', linewidth=1)\n",
    "\n",
    "# Plot the protected area\n",
    "# adapted_area.plot(ax=ax, facecolor='none', edgecolor='green', linewidth=2)\n",
    "\n",
    "# Plot the shortest paths  \n",
    "for (o,d), (path, demand) in shortest_paths.items():\n",
    "    path_coords = [graph_v.nodes[node]['geometry'] for node in path]\n",
    "    ax.plot([geom.x for geom in path_coords], [geom.y for geom in path_coords], 'b-', linewidth=2)\n",
    "\n",
    "# Set the extent of the map based on basin boundaries\n",
    "lon_min, lat_min, lon_max, lat_max = basin.total_bounds\n",
    "\n",
    "\n",
    "# Plot the origins and destinations\n",
    "for lon, lat in o_geoms_4326:\n",
    "    ax.plot(lon, lat, 'ro', markersize=10)\n",
    "for lon, lat in d_geoms_4326:\n",
    "    ax.plot(lon, lat, 'ro', markersize=10)\n",
    "\n",
    "\n",
    "# Calculate the range for longitude and latitude\n",
    "lon_range = lon_max - lon_min\n",
    "lat_range = lat_max - lat_min\n",
    "# Add clearance around the basin\n",
    "clearance = 0.6  # that is 60% of the range between min and max lon and lat on either side\n",
    "# Apply clearance\n",
    "lon_min -= clearance * lon_range\n",
    "lat_min -= clearance * lat_range\n",
    "lon_max += clearance * lon_range\n",
    "lat_max += clearance * lat_range\n",
    "\n",
    "\n",
    "ax.set_extent([lon_min, lon_max, lat_min, lat_max], crs=ccrs.PlateCarree())\n",
    "\n",
    "# Add basemap\n",
    "ax.add_feature(cartopy.feature.LAND, edgecolor='black')\n",
    "ax.add_feature(cartopy.feature.BORDERS, linestyle=':')\n",
    "ax.add_feature(cartopy.feature.LAKES, edgecolor='black')\n",
    "ax.add_feature(cartopy.feature.RIVERS)    \n",
    "\n",
    "# Add states and provinces\n",
    "states_provinces = cartopy.feature.NaturalEarthFeature(\n",
    "            category='cultural',  name='admin_1_states_provinces',\n",
    "            scale='10m', facecolor='none')\n",
    "ax.add_feature(states_provinces, edgecolor='black', zorder=10, linestyle = '-', linewidth=0.5)\n",
    "\n",
    "# Add buildings\n",
    "# buildings = cartopy.feature.NaturalEarthFeature(\n",
    "#             category='cultural',  name='buildings',\n",
    "#             scale='10m', facecolor='none')\n",
    "# ax.add_feature(buildings, edgecolor='black', zorder=10, linestyle = '-', linewidth=0.5)\n",
    "\n",
    "ax.gridlines(draw_labels=True)\n",
    "plt.show()"
   ]
  },
  {
   "cell_type": "code",
   "execution_count": null,
   "metadata": {},
   "outputs": [],
   "source": [
    "m"
   ]
  },
  {
   "cell_type": "code",
   "execution_count": null,
   "metadata": {},
   "outputs": [],
   "source": [
    "adapted_edges=[(u,v,k) for u,v,k,attr in graph_v.edges(keys=True, data=True) if 'osm_id' in attr and 'l3_adaptation' in attr['osm_id']]\n",
    "print(adapted_edges)\n",
    "# shortest_paths\n",
    "# assets_in_sps2=shortest_paths_assets[('node_164', 'node_10409')]\n",
    "assets_in_sps2=shortest_paths_assets[('node_164', 'node_11238')]\n",
    "# shortest_paths[('node_164', 'node_11238')]\n",
    "# assets_in_sps2\n",
    "# [(u,v) for (u,v), (path, demand) in shortest_paths_assets.items() if '111997044' in path]\n",
    "disrupted_shortest_paths['flood_DERP_RW_L_4326_2080430320'][('node_164', 'node_11238')]==shortest_paths[('node_164', 'node_11238')]\n",
    "print('shortest_paths: ', shortest_paths[('node_164', 'node_11238')])\n",
    "print('disrupted_shortest_paths: ', disrupted_shortest_paths['flood_DERP_RW_L_4326_2080430320'][('node_164', 'node_11238')])\n",
    "\n",
    "\n",
    "\n"
   ]
  },
  {
   "cell_type": "code",
   "execution_count": 15,
   "metadata": {},
   "outputs": [],
   "source": [
    "\n",
    "basins_path = gpd.read_file(data_path / r'Floods\\basins\\hybas_eu_lev01-12_v1c\\hybas_eu_lev08_v1c_valid.shp')\n",
    "regions_path = gpd.read_file(data_path / r'QGIS_data\\rhineland_palatinate.geojson')\n",
    "\n",
    "basin_list_tributaries, basin_list_full_flood = find_basin_lists(basins_path, regions_path)\n",
    "\n"
   ]
  },
  {
   "cell_type": "code",
   "execution_count": null,
   "metadata": {},
   "outputs": [],
   "source": [
    "#!pip install seaborn\n",
    "#PLOT INDIRECT DAMAGES AND DIRECT DAMGES FOR EACH HAZARD MAP SORTED BY SUMMED ADAPTATION COSTS\n",
    "import matplotlib.pyplot as plt\n",
    "import seaborn as sns\n",
    "total_damages_adapted_df_mill=total_damages_adapted_df_mill.sort_values(by='summed_adaptation_costs')\n",
    "fig, ax = plt.subplots(figsize=(10, 6))\n",
    "sns.set_theme(style=\"whitegrid\")\n",
    "sns.set_context(\"notebook\", font_scale=1.5, rc={\"lines.linewidth\": 2.5})\n",
    "sns.barplot(x='summed_adaptation_costs', y='hazard_map', data=total_damages_adapted_df_mill, palette='viridis', ax=ax)\n",
    "ax.set_xlabel('Summed adaptation costs [M€]')\n",
    "ax.set_ylabel('Hazard map')\n",
    "plt.show()"
   ]
  },
  {
   "cell_type": "code",
   "execution_count": null,
   "metadata": {},
   "outputs": [],
   "source": [
    "# indirect damages adapted vs baseline\n",
    "fig, ax = plt.subplots(figsize=(10, 6))\n",
    "sns.set_theme(style=\"whitegrid\")\n",
    "sns.set_context(\"notebook\", font_scale=1.5, rc={\"lines.linewidth\": 2.5})\n",
    "sns.barplot(x='indirect damage adapted [M€]', y='hazard_map', data=total_damages_adapted_df_mill, palette='viridis', ax=ax)\n",
    "ax.set_xlabel('Indirect damage adapted [M€]')\n",
    "ax.set_ylabel('Hazard map')\n",
    "plt.show()\n"
   ]
  },
  {
   "cell_type": "code",
   "execution_count": null,
   "metadata": {},
   "outputs": [],
   "source": [
    "#!pip install seaborn\n",
    "#adaptation cost for each basin/hazard map\n",
    "import matplotlib.pyplot as plt\n",
    "import seaborn as sns\n",
    "total_damages_adapted_df_mill=total_damages_adapted_df_mill.sort_values(by='summed_adaptation_costs')\n",
    "fig, ax = plt.subplots(figsize=(10, 6))\n",
    "sns.set_theme(style=\"whitegrid\")\n",
    "sns.set_context(\"notebook\", font_scale=1.5, rc={\"lines.linewidth\": 2.5})\n",
    "sns.barplot(x='summed_adaptation_costs', y='hazard_map', data=total_damages_adapted_df_mill, palette='viridis', ax=ax)\n",
    "ax.set_xlabel('Summed adaptation costs [M€]')\n",
    "ax.set_ylabel('Hazard map')\n",
    "plt.show()"
   ]
  },
  {
   "cell_type": "code",
   "execution_count": 17,
   "metadata": {},
   "outputs": [],
   "source": [
    "import os\n",
    "\n",
    "# Define the baseline return periods \n",
    "\"\"\"\n",
    "Return period definitions for Rhineland Palatinate (DERP) based on the report by Rauthe M, et al. (2020):\n",
    "_H_=10-25y \n",
    "_M_=100y\n",
    "_L_=200y\n",
    "\"\"\"\n",
    "return_period_dict = {'_H_': 10,'_M_': 100,'_L_': 200}\n",
    "\n",
    "# Add climate change: calculate the dynamic return periods based on flat increase factors. \n",
    "# This value has been catchment-specific with frequency increasing in some regions and decreasing in others. \n",
    "# It is reasonable that in the future, the frequency will continue to change differently by catchment.\n",
    "\n",
    "increase_factor = {\n",
    "    '_H_': 2,\n",
    "    '_M_': 4.3,\n",
    "    '_L_': 5\n",
    "} # https://hess.copernicus.org/preprints/hess-2016-65/hess-2016-65-manuscript-version2.pdf \n",
    "\n",
    "\n",
    "num_years = 100\n",
    "return_periods = calculate_dynamic_return_periods(return_period_dict, num_years, increase_factor)\n",
    "\n"
   ]
  },
  {
   "cell_type": "code",
   "execution_count": null,
   "metadata": {},
   "outputs": [],
   "source": [
    "sorted_total_damages_adapted_df_mill"
   ]
  },
  {
   "cell_type": "code",
   "execution_count": null,
   "metadata": {},
   "outputs": [],
   "source": [
    "event_impacts.keys()"
   ]
  },
  {
   "cell_type": "code",
   "execution_count": null,
   "metadata": {},
   "outputs": [],
   "source": [
    "aggregated_df_by_basin = {}\n",
    "ead_by_ts_by_basin = {}\n",
    "\n",
    "files = [file for file in os.listdir(interim_data_path) if file.endswith('.pkl') and file.startswith('overlay')]\n",
    "basins_list=list(set([int(file.split('.')[0].split('_')[-1]) for file in files]))\n",
    "\n",
    "# summed_output  is a dicitonary of with keys as the hazard map names and values as a tuple of the lower and upper bounds of the total damage\n",
    "# example: {'flood_DERP_RW_H_4326_2080411370': (3706407.631635442, 13355041.119988918),\n",
    "\n",
    "# for a list of all the basins in the region, retrieve the upper and lower damage bounds for each basin and skip if the basin is not a key in the summed_output dictionary\n",
    "\n",
    "# create a dictionary of dictionaries with the basin number as the level 1 key, the category (ie \"H\") as the level 2 key and the upper and lower bounds as the values\n",
    "basin_dict = {}\n",
    "for basin in basins_list:\n",
    "    basin_dict[basin] = {}\n",
    "    for key in event_impacts.keys():\n",
    "        if str(basin) in key:\n",
    "            basin_dict[basin][key.split('_RW')[-1][0:3]] = sorted_total_damages_adapted_df_mill.loc[key]['summed_dd_ad [M€]']\n",
    "\n",
    "\n",
    "aggregated_df_by_basin = {}\n",
    "ead_by_ts_by_basin = {}\n",
    "\n",
    "for basin, damage_dict in basin_dict.items():\n",
    "    if len(damage_dict) == 0:\n",
    "        continue\n",
    "    aggregated_df_by_basin[basin] = pd.DataFrame.from_dict(damage_dict, orient='index', columns=['Total Damage Lower Bound', 'Total Damage Upper Bound'])\n",
    "    aggregated_df_by_basin[basin]['Return Period'] = [return_periods[index] for index in aggregated_df_by_basin[basin].index]\n",
    "    aggregated_df_by_basin[basin] = aggregated_df_by_basin[basin].sort_values('Return Period', ascending=True)\n",
    "    aggregated_df_by_basin[basin]['Probability'] = [[1 / x for x in i] for i in aggregated_df_by_basin[basin]['Return Period']]\n",
    "    probabilities = aggregated_df_by_basin[basin]['Probability']\n",
    "    dmgs = []\n",
    "\n",
    "    for ts in range(len(probabilities.iloc[0])):    \n",
    "        dmgs_l = []\n",
    "        dmgs_u = []\n",
    "\n",
    "        for rp in range(len(probabilities)-1):\n",
    "            d_rp= probabilities.iloc[rp][ts] - probabilities.iloc[rp + 1][ts]\n",
    "            trap_damage_l = 0.5 * (aggregated_df_by_basin[basin]['Total Damage Lower Bound'].iloc[rp] + aggregated_df_by_basin[basin]['Total Damage Lower Bound'].iloc[rp + 1])\n",
    "            trap_damage_u = 0.5 * (aggregated_df_by_basin[basin]['Total Damage Upper Bound'].iloc[rp] + aggregated_df_by_basin[basin]['Total Damage Upper Bound'].iloc[rp + 1])\n",
    "            dmgs_l.append(d_rp * trap_damage_l)\n",
    "            dmgs_u.append(d_rp * trap_damage_u)\n",
    "        \n",
    "        # Add the portion of damages corresponding to the tails of the distribution\n",
    "        d0_rp = probabilities.iloc[-1][ts]\n",
    "        damage_l0 = max(aggregated_df_by_basin[basin]['Total Damage Lower Bound'])\n",
    "        damage_u0 = max(aggregated_df_by_basin[basin]['Total Damage Upper Bound'])\n",
    "        dmgs_l.append(d0_rp * damage_l0)\n",
    "        dmgs_u.append(d0_rp * damage_u0)\n",
    "\n",
    "        d_end_rp = (1/4)-probabilities.iloc[0][ts]\n",
    "        damage_l_end = 0.5 * min(aggregated_df_by_basin[basin]['Total Damage Lower Bound'])\n",
    "        damage_u_end = 0.5 * min(aggregated_df_by_basin[basin]['Total Damage Upper Bound'])\n",
    "        dmgs_l.append(d_end_rp * damage_l_end)\n",
    "        dmgs_u.append(d_end_rp * damage_u_end)\n",
    "\n",
    "        dmgs.append((sum(dmgs_l), sum(dmgs_u)))\n",
    "    \n",
    "    ead_by_ts_by_basin[basin] = pd.DataFrame(dmgs, columns=['Total Damage Lower Bound', 'Total Damage Upper Bound'])\n",
    "\n",
    "\n",
    "\n",
    "ead_y0_dd_ad = ead_by_ts_by_basin[basin].values[0]\n",
    "ead_y100_dd_ad = ead_by_ts_by_basin[basin].values[-1]\n",
    "total_cost_dd_ad = sum(ead_by_ts_by_basin[basin].values)\n",
    "print(f'EAD at year 0 for basin {basin}: {ead_y0_dd_ad}')\n",
    "print(f'EAD at year 100 for basin {basin}: {ead_y100_dd_ad}')\n",
    "print(f'Total direct damages for basin {basin}: {total_cost_dd_ad}')"
   ]
  },
  {
   "cell_type": "code",
   "execution_count": null,
   "metadata": {},
   "outputs": [],
   "source": [
    "files = [file for file in os.listdir('C:/Data/interim/collected_flood_runs') if file.endswith('.pkl') and file.startswith('overlay')]\n",
    "basins_list=list(set([int(file.split('.')[0].split('_')[-1]) for file in files]))\n",
    "basin_dict = {}\n",
    "for basin in basins_list:\n",
    "    basin_dict[basin] = {}\n",
    "    for key in event_impacts.keys():\n",
    "        if not str(basin) in key:\n",
    "            continue\n",
    "        if str(basin) in key:\n",
    "            basin_dict[basin][key.split('_RW')[-1][0:3]] = sorted_total_damages_adapted_df_mill.loc[key]['indirect damage adapted [M€]']\n",
    "\n",
    "\n",
    "for rp in return_period_dict.keys():\n",
    "    # add rp as a key to all nested dictionaries with 0 as a value if the rp is not already a key\n",
    "    for basin in basin_dict.keys():\n",
    "        if rp not in basin_dict[basin].keys():\n",
    "            basin_dict[basin][rp] = 0\n",
    "\n",
    "\n",
    "aggregated_df_by_basin = {}\n",
    "ead_by_ts_by_basin = {}\n",
    "\n",
    "for basin, damage_dict in basin_dict.items():\n",
    "    if len(damage_dict) == 0:\n",
    "        continue\n",
    "\n",
    "    aggregated_df_by_basin[basin] = pd.DataFrame.from_dict(damage_dict, orient='index', columns=['Total indirect damage'])\n",
    "    aggregated_df_by_basin[basin]['Return Period'] = [return_periods[index] for index in aggregated_df_by_basin[basin].index]\n",
    "    probabilities = [[1 / rp for rp in ts] for ts in aggregated_df_by_basin[basin]['Return Period']]\n",
    "    aggregated_df_by_basin[basin]['Probability'] = probabilities\n",
    "    dmgs = []\n",
    "\n",
    "    for ts in range(len(probabilities[0])):    \n",
    "        dmgs_m = []\n",
    "\n",
    "        for rp in range(len(probabilities)-1):\n",
    "            d_rp= probabilities[rp][ts] - probabilities[rp + 1][ts]\n",
    "            trap_damage_m = 0.5 * (aggregated_df_by_basin[basin]['Total indirect damage'].iloc[rp] + aggregated_df_by_basin[basin]['Total indirect damage'].iloc[rp + 1])\n",
    "            dmgs_m.append(d_rp * trap_damage_m)\n",
    "        \n",
    "        # Add the portion of damages corresponding to the tails of the distribution\n",
    "        d0_rp = probabilities[-1][ts]\n",
    "        damage_m0 = max(aggregated_df_by_basin[basin]['Total indirect damage'])\n",
    "        dmgs_m.append(d0_rp * damage_m0)\n",
    "\n",
    "        d_end_rp = (1/4)-probabilities[0][ts]\n",
    "        damage_m_end = 0.5 * min(aggregated_df_by_basin[basin]['Total indirect damage'])\n",
    "\n",
    "        dmgs_m.append(d_end_rp * damage_m_end)\n",
    "\n",
    "        dmgs.append((sum(dmgs_m)))\n",
    "    \n",
    "    ead_by_ts_by_basin[basin] = pd.DataFrame(dmgs, columns=['Total indirect damage'])\n",
    "\n",
    "ead_y0_id_ad = ead_by_ts_by_basin[basin].values[0]\n",
    "ead_y100_id_ad = ead_by_ts_by_basin[basin].values[-1]\n",
    "total_cost_id_ad = sum(ead_by_ts_by_basin[basin].values)\n",
    "print(f'EAD at year 0 for basin {basin}: {ead_y0_id_ad}')\n",
    "print(f'EAD at year 100 for basin {basin}: {ead_y100_id_ad}')\n",
    "print(f'Total indirect losses for basin {basin}: {total_cost_id_ad}')"
   ]
  },
  {
   "cell_type": "code",
   "execution_count": null,
   "metadata": {},
   "outputs": [],
   "source": [
    "\n",
    "print(direct_damages_adapted['flood_DERP_RW_H_4326_2080411370'][2])\n",
    "\n",
    "# Ensure each entry in event_impacts contains both 'direct_damages' and 'indirect_damages'\n",
    "# Adjust the dictionary if necessary\n",
    "for key, value in event_impacts.items():\n",
    "    if isinstance(value, dict):\n",
    "        if 'direct_damages' not in value:\n",
    "            value['direct_damages'] = 0  # or some default value\n",
    "        if 'indirect_damages' not in value:\n",
    "            value['indirect_damages'] = 0  # or some default value\n",
    "    else:\n",
    "        event_impacts[key] = {'direct_damages': direct_damages_adapted[key][0], 'indirect_damages': value}  # or some default value\n",
    "\n",
    "# Create the DataFrame\n",
    "baseline_impacts_by_hazard_map = pd.DataFrame.from_dict(event_impacts, orient='index', columns=['direct_damages', 'indirect_damages'])\n",
    "baseline_impacts_by_hazard_map"
   ]
  },
  {
   "cell_type": "markdown",
   "metadata": {},
   "source": []
  }
 ],
 "metadata": {
  "kernelspec": {
   "display_name": "Python 3 (ipykernel)",
   "language": "python",
   "name": "python3"
  },
  "language_info": {
   "codemirror_mode": {
    "name": "ipython",
    "version": 3
   },
   "file_extension": ".py",
   "mimetype": "text/x-python",
   "name": "python",
   "nbconvert_exporter": "python",
   "pygments_lexer": "ipython3",
   "version": "3.12.2"
  }
 },
 "nbformat": 4,
 "nbformat_minor": 4
}
