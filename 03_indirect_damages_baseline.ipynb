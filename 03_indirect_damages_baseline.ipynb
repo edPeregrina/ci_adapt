{
 "cells": [
  {
   "cell_type": "code",
   "execution_count": 1,
   "metadata": {},
   "outputs": [],
   "source": [
    "#ADDITIONAL DEPENDENCIES\n",
    "# !pip install triangle\n",
    "# !pip install rasterio\n",
    "# !pip install geopy\n",
    "# !pip install osmnx"
   ]
  },
  {
   "cell_type": "code",
   "execution_count": 2,
   "metadata": {},
   "outputs": [],
   "source": [
    "def plot_shortest_paths(assets, graph, shortest_paths, colors):\n",
    "    from lonboard import Map, PathLayer, ScatterplotLayer\n",
    "    layers_assets=[]\n",
    "    # Generate od layer for visualization\n",
    "    od_geoms=[attr['geometry'] for u,attr in graph.nodes(data=True) if 'name' in attr.keys()]\n",
    "    od_geoms_gdf=gpd.GeoDataFrame(geometry=od_geoms).set_crs(epsg=3857).to_crs(4326)\n",
    "    \n",
    "    layer_od = ScatterplotLayer.from_geopandas(od_geoms_gdf, get_fill_color=colors['red_danger'], get_radius=100, opacity=0.5, auto_highlight=False)\n",
    "    # Create layer for assets for visualization\n",
    "    layer_assets = PathLayer.from_geopandas(assets.drop(columns=['other_tags']), get_width=5, get_color=colors['grey_400'], auto_highlight=True, )\n",
    "    layers_assets.append(layer_assets)\n",
    "    # layer_shortest_path_assets = PathLayer.from_geopandas(assets_sps.drop(columns=['buffered', 'other_tags']), get_width=80, get_color=colors['black'], auto_highlight=True)\n",
    "    if shortest_paths is not None:\n",
    "        shortest_paths_geoms = []\n",
    "        for od,(path,demand) in shortest_paths.items():\n",
    "            for u in range(len(path)-1):\n",
    "                edge = graph.get_edge_data(path[u], path[u+1])\n",
    "                if edge is not None:\n",
    "                    for i in range(len(edge)):\n",
    "                        edge_data = edge[i]\n",
    "                        edge_geom = edge_data['geometry']\n",
    "                        shortest_paths_geoms.append((od,demand, edge_geom))\n",
    "                    \n",
    "        shortest_paths_gdf = gpd.GeoDataFrame(shortest_paths_geoms, columns=['od','demand', 'geometry']).set_crs(epsg=3857)\n",
    "        layers_sps = PathLayer.from_geopandas(shortest_paths_gdf, get_width=8, get_color=colors['black'], auto_highlight=True)\n",
    "        layers_assets.append(layers_sps)\n",
    "    \n",
    "    layers=[]\n",
    "    if layer_assets is not None:\n",
    "        layers.extend(layers_assets)\n",
    "    else:\n",
    "        print('No asset layer')\n",
    "    Voyager = 'https://basemaps.cartocdn.com/gl/voyager-gl-style/style.json'\n",
    "\n",
    "    if layer_od is not None:\n",
    "        layers.append(layer_od)\n",
    "    else:\n",
    "        print('No od layer')\n",
    "    m = Map(layers, show_tooltip=True, basemap_style=Voyager, view_state={\"longitude\": 7.91, \"latitude\": 49.91, \"zoom\": 11})\n",
    "\n",
    "\n",
    "    return m\n"
   ]
  },
  {
   "cell_type": "code",
   "execution_count": 3,
   "metadata": {},
   "outputs": [],
   "source": [
    "import sys\n",
    "import os\n",
    "sys.path.append(r'C:\\repos\\snkit\\src')\n",
    "sys.path.append(r'C:\\repos')\n",
    "sys.path.append(r'C:\\repos\\ra2ce')\n",
    "sys.path.append(r'C:\\repos\\ra2ce_multi_network')\n",
    "from ci_adapt_utilities import *\n",
    "# from ci_adapt_classes import *\n",
    "from ra2ce_multi_network.simplify_rail import *\n",
    "from ra2ce_multi_network.simplify_rail import _merge_edges, _network_to_nx\n",
    "import networkx as nx\n",
    "import pandas as pd\n",
    "# import re\n",
    "from math import ceil\n",
    "import ast\n",
    "# from pyproj import Transformer\n",
    "# from shapely.geometry import Point\n",
    "import warnings\n",
    "from shapely import make_valid"
   ]
  },
  {
   "cell_type": "code",
   "execution_count": 4,
   "metadata": {},
   "outputs": [],
   "source": [
    "# Load configuration with ini file (created running config.py)\n",
    "config_file=r'C:\\repos\\ci_adapt\\config_ci_adapt.ini'\n",
    "config = configparser.ConfigParser()\n",
    "config.read(config_file)\n",
    "\n",
    "# Set paths and data sources\n",
    "p = Path('..')\n",
    "hazard_type = config.get('DEFAULT', 'hazard_type')\n",
    "infra_type = config.get('DEFAULT', 'infra_type')\n",
    "country_code = config.get('DEFAULT', 'country_code')\n",
    "country_name = config.get('DEFAULT', 'country_name')\n",
    "hazard_data_subfolders = config.get('DEFAULT', 'hazard_data_subfolders')\n",
    "asset_data = config.get('DEFAULT', 'asset_data')\n",
    "vulnerability_data = config.get('DEFAULT', 'vulnerability_data')\n",
    "data_path = Path(pathlib.Path.home().parts[0]) / 'Data'\n",
    "interim_data_path = data_path / 'interim' / 'indirect_damages'\n",
    "\n",
    "# MIRACA color scheme\n",
    "color_string = config.get('DEFAULT', 'miraca_colors')\n",
    "miraca_colors = ast.literal_eval(color_string)"
   ]
  },
  {
   "cell_type": "code",
   "execution_count": 5,
   "metadata": {},
   "outputs": [],
   "source": [
    "# Define costs for different transport modes\n",
    "average_train_load_tons = (896+1344+2160+1344+896+896+1344+1512+896+390)/10 # in Tons per train. Source: Kennisinstituut voor Mobiliteitsbeleid. 2023. Cost Figures for Freight Transport – final report\n",
    "average_train_cost_per_ton_km = (0.014+0.018+0.047+0.045)/4 # in Euros per ton per km. Source: Kennisinstituut voor Mobiliteitsbeleid. 2023. Cost Figures for Freight Transport – final report\n",
    "average_road_cost_per_ton_km = (0.395+0.375+0.246+0.203+0.138+0.153+0.125+0.103+0.122+0.099)/10 # in Euros per ton per km. Source: Kennisinstituut voor Mobiliteitsbeleid. 2023. Cost Figures for Freight Transport – final report"
   ]
  },
  {
   "cell_type": "code",
   "execution_count": 6,
   "metadata": {},
   "outputs": [
    {
     "name": "stdout",
     "output_type": "stream",
     "text": [
      "122720 railway freight assets found.\n"
     ]
    }
   ],
   "source": [
    "# Read exposure data (OSM, OpenStreetMap contributors (2024) / osm-flex)\n",
    "assets_path = data_path / asset_data\n",
    "assets=preprocess_assets(assets_path)\n",
    "print(f\"{len(assets)} railway freight assets found.\")\n",
    "assets_4326=assets.to_crs(4326)\n",
    "assets_4326['geometry']=assets_4326['geometry'].make_valid()"
   ]
  },
  {
   "cell_type": "code",
   "execution_count": 7,
   "metadata": {},
   "outputs": [
    {
     "data": {
      "text/html": [
       "<div>\n",
       "<style scoped>\n",
       "    .dataframe tbody tr th:only-of-type {\n",
       "        vertical-align: middle;\n",
       "    }\n",
       "\n",
       "    .dataframe tbody tr th {\n",
       "        vertical-align: top;\n",
       "    }\n",
       "\n",
       "    .dataframe thead th {\n",
       "        text-align: right;\n",
       "    }\n",
       "</style>\n",
       "<table border=\"1\" class=\"dataframe\">\n",
       "  <thead>\n",
       "    <tr style=\"text-align: right;\">\n",
       "      <th></th>\n",
       "      <th>osm_id</th>\n",
       "      <th>asset</th>\n",
       "      <th>name</th>\n",
       "      <th>gauge</th>\n",
       "      <th>electrified</th>\n",
       "      <th>voltage</th>\n",
       "      <th>bridge</th>\n",
       "      <th>maxspeed</th>\n",
       "      <th>service</th>\n",
       "      <th>tunnel</th>\n",
       "      <th>other_tags</th>\n",
       "      <th>railway:traffic_mode</th>\n",
       "      <th>usage</th>\n",
       "      <th>geometry</th>\n",
       "    </tr>\n",
       "  </thead>\n",
       "  <tbody>\n",
       "    <tr>\n",
       "      <th>0</th>\n",
       "      <td>3568324</td>\n",
       "      <td>rail</td>\n",
       "      <td>None</td>\n",
       "      <td>1435</td>\n",
       "      <td>contact_line</td>\n",
       "      <td>15000</td>\n",
       "      <td>yes</td>\n",
       "      <td>None</td>\n",
       "      <td>None</td>\n",
       "      <td>None</td>\n",
       "      <td>\"detail\"=&gt;\"track\",\"frequency\"=&gt;\"16.7\",\"layer\"=...</td>\n",
       "      <td>None</td>\n",
       "      <td>\"main\"</td>\n",
       "      <td>LINESTRING (8.62626 49.81501, 8.62621 49.81489)</td>\n",
       "    </tr>\n",
       "    <tr>\n",
       "      <th>1</th>\n",
       "      <td>3568326</td>\n",
       "      <td>rail</td>\n",
       "      <td>None</td>\n",
       "      <td>1435</td>\n",
       "      <td>contact_line</td>\n",
       "      <td>15000</td>\n",
       "      <td>yes</td>\n",
       "      <td>160</td>\n",
       "      <td>None</td>\n",
       "      <td>None</td>\n",
       "      <td>\"frequency\"=&gt;\"16.7\",\"layer\"=&gt;\"1\",\"level\"=&gt;\"1\",...</td>\n",
       "      <td>None</td>\n",
       "      <td>\"main\"</td>\n",
       "      <td>LINESTRING (8.60882 49.72625, 8.60886 49.72606)</td>\n",
       "    </tr>\n",
       "    <tr>\n",
       "      <th>2</th>\n",
       "      <td>3568327</td>\n",
       "      <td>rail</td>\n",
       "      <td>None</td>\n",
       "      <td>1435</td>\n",
       "      <td>contact_line</td>\n",
       "      <td>15000</td>\n",
       "      <td>None</td>\n",
       "      <td>160</td>\n",
       "      <td>None</td>\n",
       "      <td>None</td>\n",
       "      <td>\"frequency\"=&gt;\"16.7\",\"operator\"=&gt;\"DB Netz\",\"pas...</td>\n",
       "      <td>None</td>\n",
       "      <td>\"main\"</td>\n",
       "      <td>LINESTRING (8.61315 49.70201, 8.61323 49.70154...</td>\n",
       "    </tr>\n",
       "  </tbody>\n",
       "</table>\n",
       "</div>"
      ],
      "text/plain": [
       "    osm_id asset  name gauge   electrified voltage bridge maxspeed service  \\\n",
       "0  3568324  rail  None  1435  contact_line   15000    yes     None    None   \n",
       "1  3568326  rail  None  1435  contact_line   15000    yes      160    None   \n",
       "2  3568327  rail  None  1435  contact_line   15000   None      160    None   \n",
       "\n",
       "  tunnel                                         other_tags  \\\n",
       "0   None  \"detail\"=>\"track\",\"frequency\"=>\"16.7\",\"layer\"=...   \n",
       "1   None  \"frequency\"=>\"16.7\",\"layer\"=>\"1\",\"level\"=>\"1\",...   \n",
       "2   None  \"frequency\"=>\"16.7\",\"operator\"=>\"DB Netz\",\"pas...   \n",
       "\n",
       "  railway:traffic_mode   usage  \\\n",
       "0                 None  \"main\"   \n",
       "1                 None  \"main\"   \n",
       "2                 None  \"main\"   \n",
       "\n",
       "                                            geometry  \n",
       "0    LINESTRING (8.62626 49.81501, 8.62621 49.81489)  \n",
       "1    LINESTRING (8.60882 49.72625, 8.60886 49.72606)  \n",
       "2  LINESTRING (8.61315 49.70201, 8.61323 49.70154...  "
      ]
     },
     "execution_count": 7,
     "metadata": {},
     "output_type": "execute_result"
    }
   ],
   "source": [
    "assets_4326.head(3)"
   ]
  },
  {
   "cell_type": "code",
   "execution_count": 11,
   "metadata": {},
   "outputs": [
    {
     "data": {
      "text/html": [
       "<div>\n",
       "<style scoped>\n",
       "    .dataframe tbody tr th:only-of-type {\n",
       "        vertical-align: middle;\n",
       "    }\n",
       "\n",
       "    .dataframe tbody tr th {\n",
       "        vertical-align: top;\n",
       "    }\n",
       "\n",
       "    .dataframe thead th {\n",
       "        text-align: right;\n",
       "    }\n",
       "</style>\n",
       "<table border=\"1\" class=\"dataframe\">\n",
       "  <thead>\n",
       "    <tr style=\"text-align: right;\">\n",
       "      <th></th>\n",
       "      <th>From</th>\n",
       "      <th>To</th>\n",
       "      <th>From_Latitude</th>\n",
       "      <th>From_Longitude</th>\n",
       "      <th>To_Latitude</th>\n",
       "      <th>To_Longitude</th>\n",
       "      <th>goods</th>\n",
       "      <th>Country</th>\n",
       "      <th>geometry_from</th>\n",
       "      <th>geometry_to</th>\n",
       "    </tr>\n",
       "  </thead>\n",
       "  <tbody>\n",
       "    <tr>\n",
       "      <th>3179</th>\n",
       "      <td>Bremen-Sebaldsbrück Wbf</td>\n",
       "      <td>Bremen-Sebaldsbrück</td>\n",
       "      <td>53.053225</td>\n",
       "      <td>8.907956</td>\n",
       "      <td>53.063085</td>\n",
       "      <td>8.888159</td>\n",
       "      <td>1.0</td>\n",
       "      <td>DE</td>\n",
       "      <td>POINT (991629.1815886314 6992849.249985404)</td>\n",
       "      <td>POINT (989425.317271728 6994675.538446291)</td>\n",
       "    </tr>\n",
       "    <tr>\n",
       "      <th>3180</th>\n",
       "      <td>Gittelde/Bad Grund (Harz)</td>\n",
       "      <td>Herzberg (Harz)</td>\n",
       "      <td>51.788769</td>\n",
       "      <td>10.204217</td>\n",
       "      <td>51.645176</td>\n",
       "      <td>10.33119</td>\n",
       "      <td>1.0</td>\n",
       "      <td>DE</td>\n",
       "      <td>POINT (1135928.215893778 6762022.003076279)</td>\n",
       "      <td>POINT (1150062.855729551 6736221.28001802)</td>\n",
       "    </tr>\n",
       "    <tr>\n",
       "      <th>3181</th>\n",
       "      <td>Dortmund Süd</td>\n",
       "      <td>Dortmund-Wickede</td>\n",
       "      <td>51.510116</td>\n",
       "      <td>7.475479</td>\n",
       "      <td>51.535658</td>\n",
       "      <td>7.62654</td>\n",
       "      <td>1.0</td>\n",
       "      <td>DE</td>\n",
       "      <td>POINT (832166.5090366405 6712028.246696287)</td>\n",
       "      <td>POINT (848982.5648992613 6716598.090714983)</td>\n",
       "    </tr>\n",
       "  </tbody>\n",
       "</table>\n",
       "</div>"
      ],
      "text/plain": [
       "                           From                   To From_Latitude  \\\n",
       "3179    Bremen-Sebaldsbrück Wbf  Bremen-Sebaldsbrück     53.053225   \n",
       "3180  Gittelde/Bad Grund (Harz)      Herzberg (Harz)     51.788769   \n",
       "3181               Dortmund Süd     Dortmund-Wickede     51.510116   \n",
       "\n",
       "      From_Longitude To_Latitude To_Longitude  goods Country  \\\n",
       "3179        8.907956   53.063085     8.888159    1.0      DE   \n",
       "3180       10.204217   51.645176     10.33119    1.0      DE   \n",
       "3181        7.475479   51.535658      7.62654    1.0      DE   \n",
       "\n",
       "                                    geometry_from  \\\n",
       "3179  POINT (991629.1815886314 6992849.249985404)   \n",
       "3180  POINT (1135928.215893778 6762022.003076279)   \n",
       "3181  POINT (832166.5090366405 6712028.246696287)   \n",
       "\n",
       "                                      geometry_to  \n",
       "3179   POINT (989425.317271728 6994675.538446291)  \n",
       "3180   POINT (1150062.855729551 6736221.28001802)  \n",
       "3181  POINT (848982.5648992613 6716598.090714983)  "
      ]
     },
     "execution_count": 11,
     "metadata": {},
     "output_type": "execute_result"
    }
   ],
   "source": [
    "route_data_source=r'C:\\Data\\input\\traffic\\NET_SEGMENTS_EU_EFTA_Filtered_0.xlsx'\n",
    "# route_data_source=r'C:\\Data\\input\\traffic\\test_seg.xlsx'\n",
    "route_data=prepare_route_data(route_data_source, assets)\n",
    "route_data.head(3)"
   ]
  },
  {
   "cell_type": "code",
   "execution_count": 12,
   "metadata": {},
   "outputs": [
    {
     "name": "stderr",
     "output_type": "stream",
     "text": [
      "c:\\Users\\peregrin\\AppData\\Local\\anaconda3\\envs\\ci_adapt_env\\Lib\\site-packages\\shapely\\linear.py:90: RuntimeWarning: invalid value encountered in line_locate_point\n",
      "  return lib.line_locate_point(line, other)\n",
      "c:\\Users\\peregrin\\AppData\\Local\\anaconda3\\envs\\ci_adapt_env\\Lib\\site-packages\\shapely\\linear.py:90: RuntimeWarning: invalid value encountered in line_locate_point\n",
      "  return lib.line_locate_point(line, other)\n",
      "c:\\Users\\peregrin\\AppData\\Local\\anaconda3\\envs\\ci_adapt_env\\Lib\\site-packages\\shapely\\linear.py:90: RuntimeWarning: invalid value encountered in line_locate_point\n",
      "  return lib.line_locate_point(line, other)\n",
      "c:\\Users\\peregrin\\AppData\\Local\\anaconda3\\envs\\ci_adapt_env\\Lib\\site-packages\\shapely\\linear.py:90: RuntimeWarning: invalid value encountered in line_locate_point\n",
      "  return lib.line_locate_point(line, other)\n",
      "c:\\Users\\peregrin\\AppData\\Local\\anaconda3\\envs\\ci_adapt_env\\Lib\\site-packages\\shapely\\linear.py:90: RuntimeWarning: invalid value encountered in line_locate_point\n",
      "  return lib.line_locate_point(line, other)\n",
      "c:\\Users\\peregrin\\AppData\\Local\\anaconda3\\envs\\ci_adapt_env\\Lib\\site-packages\\shapely\\linear.py:90: RuntimeWarning: invalid value encountered in line_locate_point\n",
      "  return lib.line_locate_point(line, other)\n",
      "c:\\Users\\peregrin\\AppData\\Local\\anaconda3\\envs\\ci_adapt_env\\Lib\\site-packages\\shapely\\linear.py:90: RuntimeWarning: invalid value encountered in line_locate_point\n",
      "  return lib.line_locate_point(line, other)\n",
      "c:\\Users\\peregrin\\AppData\\Local\\anaconda3\\envs\\ci_adapt_env\\Lib\\site-packages\\shapely\\linear.py:90: RuntimeWarning: invalid value encountered in line_locate_point\n",
      "  return lib.line_locate_point(line, other)\n",
      "c:\\Users\\peregrin\\AppData\\Local\\anaconda3\\envs\\ci_adapt_env\\Lib\\site-packages\\shapely\\linear.py:90: RuntimeWarning: invalid value encountered in line_locate_point\n",
      "  return lib.line_locate_point(line, other)\n",
      "c:\\Users\\peregrin\\AppData\\Local\\anaconda3\\envs\\ci_adapt_env\\Lib\\site-packages\\shapely\\linear.py:90: RuntimeWarning: invalid value encountered in line_locate_point\n",
      "  return lib.line_locate_point(line, other)\n",
      "c:\\Users\\peregrin\\AppData\\Local\\anaconda3\\envs\\ci_adapt_env\\Lib\\site-packages\\shapely\\linear.py:90: RuntimeWarning: invalid value encountered in line_locate_point\n",
      "  return lib.line_locate_point(line, other)\n",
      "c:\\Users\\peregrin\\AppData\\Local\\anaconda3\\envs\\ci_adapt_env\\Lib\\site-packages\\shapely\\linear.py:90: RuntimeWarning: invalid value encountered in line_locate_point\n",
      "  return lib.line_locate_point(line, other)\n",
      "c:\\Users\\peregrin\\AppData\\Local\\anaconda3\\envs\\ci_adapt_env\\Lib\\site-packages\\shapely\\linear.py:90: RuntimeWarning: invalid value encountered in line_locate_point\n",
      "  return lib.line_locate_point(line, other)\n",
      "c:\\Users\\peregrin\\AppData\\Local\\anaconda3\\envs\\ci_adapt_env\\Lib\\site-packages\\shapely\\linear.py:90: RuntimeWarning: invalid value encountered in line_locate_point\n",
      "  return lib.line_locate_point(line, other)\n",
      "c:\\Users\\peregrin\\AppData\\Local\\anaconda3\\envs\\ci_adapt_env\\Lib\\site-packages\\shapely\\linear.py:90: RuntimeWarning: invalid value encountered in line_locate_point\n",
      "  return lib.line_locate_point(line, other)\n",
      "c:\\Users\\peregrin\\AppData\\Local\\anaconda3\\envs\\ci_adapt_env\\Lib\\site-packages\\shapely\\linear.py:90: RuntimeWarning: invalid value encountered in line_locate_point\n",
      "  return lib.line_locate_point(line, other)\n",
      "c:\\Users\\peregrin\\AppData\\Local\\anaconda3\\envs\\ci_adapt_env\\Lib\\site-packages\\shapely\\linear.py:90: RuntimeWarning: invalid value encountered in line_locate_point\n",
      "  return lib.line_locate_point(line, other)\n",
      "c:\\Users\\peregrin\\AppData\\Local\\anaconda3\\envs\\ci_adapt_env\\Lib\\site-packages\\shapely\\linear.py:90: RuntimeWarning: invalid value encountered in line_locate_point\n",
      "  return lib.line_locate_point(line, other)\n",
      "c:\\Users\\peregrin\\AppData\\Local\\anaconda3\\envs\\ci_adapt_env\\Lib\\site-packages\\shapely\\linear.py:90: RuntimeWarning: invalid value encountered in line_locate_point\n",
      "  return lib.line_locate_point(line, other)\n",
      "c:\\Users\\peregrin\\AppData\\Local\\anaconda3\\envs\\ci_adapt_env\\Lib\\site-packages\\shapely\\linear.py:90: RuntimeWarning: invalid value encountered in line_locate_point\n",
      "  return lib.line_locate_point(line, other)\n",
      "c:\\Users\\peregrin\\AppData\\Local\\anaconda3\\envs\\ci_adapt_env\\Lib\\site-packages\\shapely\\linear.py:90: RuntimeWarning: invalid value encountered in line_locate_point\n",
      "  return lib.line_locate_point(line, other)\n",
      "c:\\Users\\peregrin\\AppData\\Local\\anaconda3\\envs\\ci_adapt_env\\Lib\\site-packages\\shapely\\linear.py:90: RuntimeWarning: invalid value encountered in line_locate_point\n",
      "  return lib.line_locate_point(line, other)\n"
     ]
    }
   ],
   "source": [
    "# with warnings.catch_warnings():\n",
    "#     warnings.simplefilter(\"ignore\")\n",
    "    #Source: Asgarpour/snkit\n",
    "    # Create a railway networks with possible terminal nodes. This returns a complex network, as includes the rail tracks with the highest level of detail.\n",
    "    # complex_rail_network = create_network_from_gdf(network_gdf=assets)\n",
    "net=Network(edges=assets_4326)\n",
    "net=add_endpoints(network=net)\n",
    "net=link_nodes_to_edges_within(network=net, distance=0.0000014)\n",
    "net=add_ids(network=net)\n",
    "net=add_topology(network=net)\n",
    "net.set_crs(4326)\n",
    "net.edges=net.edges.to_crs(3857)\n",
    "net.nodes=net.nodes.to_crs(3857)\n"
   ]
  },
  {
   "cell_type": "code",
   "execution_count": 13,
   "metadata": {},
   "outputs": [
    {
     "name": "stdout",
     "output_type": "stream",
     "text": [
      "Exception: invalid literal for int() with base 10: 'node_99999'\n",
      "Skipping simplification step.\n"
     ]
    }
   ],
   "source": [
    "complex_rail_network=net\n",
    "\n",
    "with warnings.catch_warnings():\n",
    "    try:\n",
    "        warnings.simplefilter(\"ignore\")\n",
    "        merged_rail_network = merge_edges(network=complex_rail_network, excluded_edge_types=['bridge', 'tunnel']) #Must add network= to pass excluded_edge_types as a keyword argument\n",
    "\n",
    "        # Number of nodes and edges reduced\n",
    "        print(f\"Difference in node counts: {complex_rail_network.nodes.shape[0] - merged_rail_network.nodes.shape[0]}\")\n",
    "        print(f\"Difference in node counts %: {round(100*(complex_rail_network.nodes.shape[0] - merged_rail_network.nodes.shape[0])/complex_rail_network.nodes.shape[0], 0)}\")\n",
    "        print(f\"Difference in edge counts: {complex_rail_network.edges.shape[0] - merged_rail_network.edges.shape[0]}\")\n",
    "        print(f\"Difference in edge counts %: {round(100*(complex_rail_network.edges.shape[0] - merged_rail_network.edges.shape[0])/complex_rail_network.edges.shape[0], 0)}\")\n",
    "    except Exception as e:\n",
    "        print(f'Exception: {e}')\n",
    "        print('Skipping simplification step.')\n",
    "        merged_rail_network=complex_rail_network\n",
    "    "
   ]
  },
  {
   "cell_type": "code",
   "execution_count": 14,
   "metadata": {},
   "outputs": [],
   "source": [
    "# Create graph from network\n",
    "merged_rail_graph = _network_to_nx(merged_rail_network)\n",
    "\n",
    "# Create a MultiDiGraph from the graph\n",
    "graph_0=nx.MultiDiGraph(merged_rail_graph)\n"
   ]
  },
  {
   "cell_type": "code",
   "execution_count": 15,
   "metadata": {},
   "outputs": [],
   "source": [
    "for u,v,k,attr in graph_0.edges(keys=True, data=True):\n",
    "    if type(attr['osm_id'])==type(float()):\n",
    "        graph_0[u][v][k]['osm_id'] = ''\n"
   ]
  },
  {
   "cell_type": "code",
   "execution_count": 16,
   "metadata": {},
   "outputs": [],
   "source": [
    "# Set weights for edges\n",
    "graph_0 = set_edge_weights(assets, graph_0)"
   ]
  },
  {
   "cell_type": "code",
   "execution_count": 10,
   "metadata": {},
   "outputs": [],
   "source": [
    "# load graph and shortest paths\n",
    "if os.path.exists(interim_data_path / 'graph_0.pkl'):\n",
    "    graph_0 = pickle.load(open(interim_data_path / 'graph_0.pkl','rb'))\n",
    "    shortest_paths = pickle.load(open(interim_data_path / 'shortest_paths.pkl', 'rb'))\n",
    "    disrupted_edges_by_basin = pickle.load(open(interim_data_path / 'disrupted_edges_by_basin.pkl', 'rb'))\n",
    "    disrupted_shortest_paths = pickle.load(open(interim_data_path / 'disrupted_shortest_paths.pkl', 'rb'))\n",
    "    print('Data loaded from pickle files.')"
   ]
  },
  {
   "cell_type": "code",
   "execution_count": 17,
   "metadata": {},
   "outputs": [
    {
     "name": "stdout",
     "output_type": "stream",
     "text": [
      "Possible terminals: 137969\n"
     ]
    },
    {
     "name": "stderr",
     "output_type": "stream",
     "text": [
      "Finding shortest paths between origin-destination pairs:   2%|▏         | 81/3367 [05:05<3:25:29,  3.75s/it]"
     ]
    },
    {
     "name": "stdout",
     "output_type": "stream",
     "text": [
      "Name mismatch: Bad Kissingen vs Gersfeld (Rhön), updating to Gersfeld (Rhön)\n"
     ]
    },
    {
     "name": "stderr",
     "output_type": "stream",
     "text": [
      "Finding shortest paths between origin-destination pairs:   3%|▎         | 108/3367 [06:46<3:22:36,  3.73s/it]"
     ]
    },
    {
     "name": "stdout",
     "output_type": "stream",
     "text": [
      "Name mismatch: Gersfeld (Rhön) vs Bad Kissingen, updating to Bad Kissingen\n"
     ]
    },
    {
     "name": "stderr",
     "output_type": "stream",
     "text": [
      "Finding shortest paths between origin-destination pairs:   6%|▋         | 217/3367 [13:49<3:20:45,  3.82s/it]"
     ]
    },
    {
     "name": "stdout",
     "output_type": "stream",
     "text": [
      "Name mismatch: Bad Kissingen vs Creidlitz, updating to Creidlitz\n"
     ]
    },
    {
     "name": "stderr",
     "output_type": "stream",
     "text": [
      "Finding shortest paths between origin-destination pairs:   7%|▋         | 239/3367 [15:14<3:20:44,  3.85s/it]"
     ]
    },
    {
     "name": "stdout",
     "output_type": "stream",
     "text": [
      "Name mismatch: Weißenbrunn am Forst vs Esbacher See Abzw, updating to Esbacher See Abzw\n",
      "Name mismatch: Creidlitz vs Rödental BY/TH, updating to Rödental BY/TH\n"
     ]
    },
    {
     "name": "stderr",
     "output_type": "stream",
     "text": [
      "Finding shortest paths between origin-destination pairs:  11%|█▏        | 383/3367 [24:22<3:07:52,  3.78s/it]"
     ]
    },
    {
     "name": "stdout",
     "output_type": "stream",
     "text": [
      "Name mismatch: Füssen vs Kempten (Allgäu) Hbf, updating to Kempten (Allgäu) Hbf\n"
     ]
    },
    {
     "name": "stderr",
     "output_type": "stream",
     "text": [
      "Finding shortest paths between origin-destination pairs:  12%|█▏        | 418/3367 [26:33<3:03:02,  3.72s/it]"
     ]
    },
    {
     "name": "stdout",
     "output_type": "stream",
     "text": [
      "Name mismatch: Rödental BY/TH vs Theuern, updating to Theuern\n",
      "Name mismatch: Bad Langensalza vs Erfurt Personenbahnhof, updating to Erfurt Personenbahnhof\n"
     ]
    },
    {
     "name": "stderr",
     "output_type": "stream",
     "text": [
      "Finding shortest paths between origin-destination pairs:  15%|█▍        | 492/3367 [31:11<3:01:23,  3.79s/it]"
     ]
    },
    {
     "name": "stdout",
     "output_type": "stream",
     "text": [
      "Name mismatch: Bochum-Langendreer Ostberg vs Bochum-Langendreer Pbf, updating to Bochum-Langendreer Pbf\n"
     ]
    },
    {
     "name": "stderr",
     "output_type": "stream",
     "text": [
      "Finding shortest paths between origin-destination pairs:  16%|█▋        | 550/3367 [34:53<3:00:56,  3.85s/it]"
     ]
    },
    {
     "name": "stdout",
     "output_type": "stream",
     "text": [
      "Name mismatch: Theuern vs Grimmenthal, updating to Grimmenthal\n",
      "Name mismatch: Erfurt Personenbahnhof vs Zella-Mehlis, updating to Zella-Mehlis\n"
     ]
    },
    {
     "name": "stderr",
     "output_type": "stream",
     "text": [
      "Finding shortest paths between origin-destination pairs:  17%|█▋        | 557/3367 [35:20<2:56:26,  3.77s/it]"
     ]
    },
    {
     "name": "stdout",
     "output_type": "stream",
     "text": [
      "Name mismatch: Roth vs Pflaumloch BW/BY, updating to Pflaumloch BW/BY\n"
     ]
    },
    {
     "name": "stderr",
     "output_type": "stream",
     "text": [
      "Finding shortest paths between origin-destination pairs:  17%|█▋        | 561/3367 [35:35<3:01:23,  3.88s/it]"
     ]
    },
    {
     "name": "stdout",
     "output_type": "stream",
     "text": [
      "Name mismatch: Grieben - Grevesmühlen vs Büchen, updating to Büchen\n",
      "Name mismatch: Herrnburg MV/SH vs Lübeck Hgbf Abzw, updating to Lübeck Hgbf Abzw\n"
     ]
    },
    {
     "name": "stderr",
     "output_type": "stream",
     "text": [
      "Finding shortest paths between origin-destination pairs:  21%|██        | 706/3367 [44:50<2:50:21,  3.84s/it]"
     ]
    },
    {
     "name": "stdout",
     "output_type": "stream",
     "text": [
      "Name mismatch: Grimmenthal vs Bad Kissingen, updating to Bad Kissingen\n"
     ]
    },
    {
     "name": "stderr",
     "output_type": "stream",
     "text": [
      "Finding shortest paths between origin-destination pairs:  23%|██▎       | 777/3367 [49:23<2:44:12,  3.80s/it]"
     ]
    },
    {
     "name": "stdout",
     "output_type": "stream",
     "text": [
      "Name mismatch: Bad Kissingen vs Ebern Hp, updating to Ebern Hp\n",
      "Name mismatch: Esbacher See Abzw vs Breitengüßbach, updating to Breitengüßbach\n"
     ]
    },
    {
     "name": "stderr",
     "output_type": "stream",
     "text": [
      "Finding shortest paths between origin-destination pairs:  24%|██▎       | 797/3367 [50:42<2:44:06,  3.83s/it]"
     ]
    },
    {
     "name": "stdout",
     "output_type": "stream",
     "text": [
      "Name mismatch: Immenstadt vs Wangen (Allgäu) BW/BY, updating to Wangen (Allgäu) BW/BY\n"
     ]
    },
    {
     "name": "stderr",
     "output_type": "stream",
     "text": [
      "Finding shortest paths between origin-destination pairs:  28%|██▊       | 959/3367 [1:00:59<2:30:25,  3.75s/it]"
     ]
    },
    {
     "name": "stdout",
     "output_type": "stream",
     "text": [
      "Name mismatch: Geltendorf vs Mindelheim, updating to Mindelheim\n"
     ]
    },
    {
     "name": "stderr",
     "output_type": "stream",
     "text": [
      "Finding shortest paths between origin-destination pairs:  30%|██▉       | 1006/3367 [1:03:59<2:33:20,  3.90s/it]"
     ]
    },
    {
     "name": "stdout",
     "output_type": "stream",
     "text": [
      "Name mismatch: Memmingen vs Ungerhausen, updating to Ungerhausen\n"
     ]
    },
    {
     "name": "stderr",
     "output_type": "stream",
     "text": [
      "Finding shortest paths between origin-destination pairs:  30%|███       | 1016/3367 [1:04:37<2:27:50,  3.77s/it]"
     ]
    },
    {
     "name": "stdout",
     "output_type": "stream",
     "text": [
      "Name mismatch: Ebern Hp vs Meiningen, updating to Meiningen\n"
     ]
    },
    {
     "name": "stderr",
     "output_type": "stream",
     "text": [
      "Finding shortest paths between origin-destination pairs:  31%|███       | 1037/3367 [1:05:58<2:26:46,  3.78s/it]"
     ]
    },
    {
     "name": "stdout",
     "output_type": "stream",
     "text": [
      "Name mismatch: Wangen (Allgäu) BW/BY vs Hergatz, updating to Hergatz\n",
      "Name mismatch: Lindau-Aeschach Abzw vs Lindau-Insel, updating to Lindau-Insel\n"
     ]
    },
    {
     "name": "stderr",
     "output_type": "stream",
     "text": [
      "Finding shortest paths between origin-destination pairs:  31%|███       | 1045/3367 [1:06:28<2:28:26,  3.84s/it]"
     ]
    },
    {
     "name": "stdout",
     "output_type": "stream",
     "text": [
      "Name mismatch: Ellrich TH/NI vs Wolkramshausen, updating to Wolkramshausen\n",
      "Name mismatch: Zella-Mehlis vs Kühnhausen, updating to Kühnhausen\n"
     ]
    },
    {
     "name": "stderr",
     "output_type": "stream",
     "text": [
      "Finding shortest paths between origin-destination pairs:  33%|███▎      | 1097/3367 [1:09:49<2:24:16,  3.81s/it]"
     ]
    },
    {
     "name": "stdout",
     "output_type": "stream",
     "text": [
      "Name mismatch: Konstanz BW/CH 4322 vs Konstanz BW/CH 4000, updating to Konstanz BW/CH 4000\n"
     ]
    },
    {
     "name": "stderr",
     "output_type": "stream",
     "text": [
      "Finding shortest paths between origin-destination pairs:  33%|███▎      | 1103/3367 [1:10:12<2:26:44,  3.89s/it]"
     ]
    },
    {
     "name": "stdout",
     "output_type": "stream",
     "text": [
      "Name mismatch: Lohr Stadt vs Rohrbach, updating to Rohrbach\n",
      "Name mismatch: Gemünden (Main) Saalebrücke vs Nantenbach, updating to Nantenbach\n"
     ]
    },
    {
     "name": "stderr",
     "output_type": "stream",
     "text": [
      "Finding shortest paths between origin-destination pairs:  33%|███▎      | 1112/3367 [1:10:47<2:25:56,  3.88s/it]"
     ]
    },
    {
     "name": "stdout",
     "output_type": "stream",
     "text": [
      "Name mismatch: Mering vs Bobingen, updating to Bobingen\n",
      "Name mismatch: Mindelheim vs Kaufering, updating to Kaufering\n"
     ]
    },
    {
     "name": "stderr",
     "output_type": "stream",
     "text": [
      "Finding shortest paths between origin-destination pairs:  33%|███▎      | 1115/3367 [1:10:58<2:24:17,  3.84s/it]"
     ]
    },
    {
     "name": "stdout",
     "output_type": "stream",
     "text": [
      "Name mismatch: Meiningen vs Mellrichstadt Bahnhof BY/TH, updating to Mellrichstadt Bahnhof BY/TH\n"
     ]
    },
    {
     "name": "stderr",
     "output_type": "stream",
     "text": [
      "Finding shortest paths between origin-destination pairs:  35%|███▍      | 1173/3367 [1:14:37<2:17:43,  3.77s/it]"
     ]
    },
    {
     "name": "stdout",
     "output_type": "stream",
     "text": [
      "Name mismatch: Schweinfurt Hbf vs Burgsinn, updating to Burgsinn\n",
      "Name mismatch: Nantenbach vs Burgsinn Bbf, updating to Burgsinn Bbf\n"
     ]
    },
    {
     "name": "stderr",
     "output_type": "stream",
     "text": [
      "Finding shortest paths between origin-destination pairs:  36%|███▌      | 1202/3367 [1:16:27<2:14:26,  3.73s/it]"
     ]
    },
    {
     "name": "stdout",
     "output_type": "stream",
     "text": [
      "Name mismatch: Ungerhausen vs Memmingen, updating to Memmingen\n"
     ]
    },
    {
     "name": "stderr",
     "output_type": "stream",
     "text": [
      "Finding shortest paths between origin-destination pairs:  36%|███▌      | 1217/3367 [1:17:24<2:15:36,  3.78s/it]"
     ]
    },
    {
     "name": "stdout",
     "output_type": "stream",
     "text": [
      "Name mismatch: Kaufering vs Türkheim (Bay) Bahnhof, updating to Türkheim (Bay) Bahnhof\n",
      "Name mismatch: Memmingen vs Buchloe, updating to Buchloe\n"
     ]
    },
    {
     "name": "stderr",
     "output_type": "stream",
     "text": [
      "Finding shortest paths between origin-destination pairs:  36%|███▌      | 1218/3367 [1:17:28<2:16:06,  3.80s/it]"
     ]
    },
    {
     "name": "stdout",
     "output_type": "stream",
     "text": [
      "Name mismatch: Türkheim (Bay) Bahnhof vs Landsberg (Lech), updating to Landsberg (Lech)\n",
      "Name mismatch: Buchloe vs Schongau, updating to Schongau\n"
     ]
    },
    {
     "name": "stderr",
     "output_type": "stream",
     "text": [
      "Finding shortest paths between origin-destination pairs:  37%|███▋      | 1231/3367 [1:18:16<2:14:23,  3.78s/it]"
     ]
    },
    {
     "name": "stdout",
     "output_type": "stream",
     "text": [
      "Name mismatch: Schongau vs Buchloe, updating to Buchloe\n",
      "Name mismatch: Landsberg (Lech) vs Türkheim (Bay) Bahnhof, updating to Türkheim (Bay) Bahnhof\n"
     ]
    },
    {
     "name": "stderr",
     "output_type": "stream",
     "text": [
      "Finding shortest paths between origin-destination pairs:  37%|███▋      | 1238/3367 [1:18:42<2:11:39,  3.71s/it]"
     ]
    },
    {
     "name": "stdout",
     "output_type": "stream",
     "text": [
      "Name mismatch: Türkheim (Bay) Bahnhof vs Kaufering, updating to Kaufering\n"
     ]
    },
    {
     "name": "stderr",
     "output_type": "stream",
     "text": [
      "Finding shortest paths between origin-destination pairs:  37%|███▋      | 1247/3367 [1:19:16<2:12:09,  3.74s/it]"
     ]
    },
    {
     "name": "stdout",
     "output_type": "stream",
     "text": [
      "Name mismatch: Buchloe vs Schongau, updating to Schongau\n",
      "Name mismatch: Kaufering vs Landsberg (Lech), updating to Landsberg (Lech)\n"
     ]
    },
    {
     "name": "stderr",
     "output_type": "stream",
     "text": [
      "Finding shortest paths between origin-destination pairs:  37%|███▋      | 1250/3367 [1:19:27<2:11:22,  3.72s/it]"
     ]
    },
    {
     "name": "stdout",
     "output_type": "stream",
     "text": [
      "Name mismatch: Marktoberdorf vs Biessenhofen Abzweig, updating to Biessenhofen Abzweig\n",
      "Name mismatch: Schongau vs Buchloe, updating to Buchloe\n"
     ]
    },
    {
     "name": "stderr",
     "output_type": "stream",
     "text": [
      "Finding shortest paths between origin-destination pairs:  38%|███▊      | 1265/3367 [1:20:24<2:13:20,  3.81s/it]"
     ]
    },
    {
     "name": "stdout",
     "output_type": "stream",
     "text": [
      "Name mismatch: Landsberg (Lech) vs Kaufering, updating to Kaufering\n"
     ]
    },
    {
     "name": "stderr",
     "output_type": "stream",
     "text": [
      "Finding shortest paths between origin-destination pairs:  40%|███▉      | 1346/3367 [1:25:30<2:07:07,  3.77s/it]"
     ]
    },
    {
     "name": "stdout",
     "output_type": "stream",
     "text": [
      "Name mismatch: Kühnhausen vs Eisenach, updating to Eisenach\n"
     ]
    },
    {
     "name": "stderr",
     "output_type": "stream",
     "text": [
      "Finding shortest paths between origin-destination pairs:  43%|████▎     | 1434/3367 [1:31:00<2:00:19,  3.73s/it]"
     ]
    },
    {
     "name": "stdout",
     "output_type": "stream",
     "text": [
      "Name mismatch: Burgsinn Bbf vs Nantenbach, updating to Nantenbach\n"
     ]
    },
    {
     "name": "stderr",
     "output_type": "stream",
     "text": [
      "Finding shortest paths between origin-destination pairs:  43%|████▎     | 1458/3367 [1:32:29<1:54:13,  3.59s/it]"
     ]
    },
    {
     "name": "stdout",
     "output_type": "stream",
     "text": [
      "Name mismatch: Kaufering vs Schwabmünchen, updating to Schwabmünchen\n"
     ]
    },
    {
     "name": "stderr",
     "output_type": "stream",
     "text": [
      "Finding shortest paths between origin-destination pairs:  45%|████▌     | 1522/3367 [1:36:27<1:51:40,  3.63s/it]"
     ]
    },
    {
     "name": "stdout",
     "output_type": "stream",
     "text": [
      "Name mismatch: Heudeber-Danstedt vs Stapelburg ST/NI, updating to Stapelburg ST/NI\n"
     ]
    },
    {
     "name": "stderr",
     "output_type": "stream",
     "text": [
      "Finding shortest paths between origin-destination pairs:  45%|████▌     | 1524/3367 [1:36:35<1:50:59,  3.61s/it]"
     ]
    },
    {
     "name": "stdout",
     "output_type": "stream",
     "text": [
      "Name mismatch: Stapelburg ST/NI vs Stapelburg - Vienenburg, updating to Stapelburg - Vienenburg\n"
     ]
    },
    {
     "name": "stderr",
     "output_type": "stream",
     "text": [
      "Finding shortest paths between origin-destination pairs:  45%|████▌     | 1527/3367 [1:36:45<1:51:22,  3.63s/it]"
     ]
    },
    {
     "name": "stdout",
     "output_type": "stream",
     "text": [
      "Name mismatch: Stapelburg - Vienenburg vs Stapelburg ST/NI, updating to Stapelburg ST/NI\n"
     ]
    },
    {
     "name": "stderr",
     "output_type": "stream",
     "text": [
      "Finding shortest paths between origin-destination pairs:  47%|████▋     | 1589/3367 [1:40:35<1:48:29,  3.66s/it]"
     ]
    },
    {
     "name": "stdout",
     "output_type": "stream",
     "text": [
      "Name mismatch: Bobingen vs Neuoffingen, updating to Neuoffingen\n",
      "Name mismatch: Pflaumloch BW/BY vs Donauwörth, updating to Donauwörth\n"
     ]
    },
    {
     "name": "stderr",
     "output_type": "stream",
     "text": [
      "Finding shortest paths between origin-destination pairs:  49%|████▊     | 1639/3367 [1:43:40<1:45:33,  3.67s/it]"
     ]
    },
    {
     "name": "stdout",
     "output_type": "stream",
     "text": [
      "Name mismatch: Limburg (Lahn) HE/RP 3710 vs Limburg (Lahn) HE/RP 3730, updating to Limburg (Lahn) HE/RP 3730\n"
     ]
    },
    {
     "name": "stderr",
     "output_type": "stream",
     "text": [
      "Finding shortest paths between origin-destination pairs:  49%|████▉     | 1660/3367 [1:44:58<1:44:40,  3.68s/it]"
     ]
    },
    {
     "name": "stdout",
     "output_type": "stream",
     "text": [
      "Name mismatch: Stapelburg ST/NI vs Blankenburg (Harz), updating to Blankenburg (Harz)\n"
     ]
    },
    {
     "name": "stderr",
     "output_type": "stream",
     "text": [
      "Finding shortest paths between origin-destination pairs:  53%|█████▎    | 1787/3367 [1:52:46<1:44:06,  3.95s/it]"
     ]
    },
    {
     "name": "stdout",
     "output_type": "stream",
     "text": [
      "Name mismatch: Breitengüßbach vs Gaubüttelbrunn BW/BY, updating to Gaubüttelbrunn BW/BY\n"
     ]
    },
    {
     "name": "stderr",
     "output_type": "stream",
     "text": [
      "Finding shortest paths between origin-destination pairs:  54%|█████▎    | 1805/3367 [1:53:52<1:35:01,  3.65s/it]"
     ]
    },
    {
     "name": "stdout",
     "output_type": "stream",
     "text": [
      "Name mismatch: Nürnberg Hbf vs Crailsheim BW/BY, updating to Crailsheim BW/BY\n"
     ]
    },
    {
     "name": "stderr",
     "output_type": "stream",
     "text": [
      "Finding shortest paths between origin-destination pairs:  55%|█████▍    | 1841/3367 [1:56:02<1:34:22,  3.71s/it]"
     ]
    },
    {
     "name": "stdout",
     "output_type": "stream",
     "text": [
      "Name mismatch: Unterelchingen vs Langenau (Württ) BW/BY, updating to Langenau (Württ) BW/BY\n"
     ]
    },
    {
     "name": "stderr",
     "output_type": "stream",
     "text": [
      "Finding shortest paths between origin-destination pairs:  57%|█████▋    | 1905/3367 [1:59:56<1:30:34,  3.72s/it]"
     ]
    },
    {
     "name": "stdout",
     "output_type": "stream",
     "text": [
      "Name mismatch: Nantenbach vs Burgsinn Bbf, updating to Burgsinn Bbf\n"
     ]
    },
    {
     "name": "stderr",
     "output_type": "stream",
     "text": [
      "Finding shortest paths between origin-destination pairs:  58%|█████▊    | 1962/3367 [2:03:24<1:26:10,  3.68s/it]"
     ]
    },
    {
     "name": "stdout",
     "output_type": "stream",
     "text": [
      "Name mismatch: Gaubüttelbrunn BW/BY vs Waigolshausen, updating to Waigolshausen\n",
      "Name mismatch: Burgsinn Bbf vs Gemünden (Main), updating to Gemünden (Main)\n"
     ]
    },
    {
     "name": "stderr",
     "output_type": "stream",
     "text": [
      "Finding shortest paths between origin-destination pairs:  61%|██████    | 2043/3367 [2:08:20<1:21:05,  3.68s/it]"
     ]
    },
    {
     "name": "stdout",
     "output_type": "stream",
     "text": [
      "Name mismatch: Waigolshausen vs Gaubüttelbrunn BW/BY, updating to Gaubüttelbrunn BW/BY\n"
     ]
    },
    {
     "name": "stderr",
     "output_type": "stream",
     "text": [
      "Finding shortest paths between origin-destination pairs:  62%|██████▏   | 2078/3367 [2:10:27<1:16:45,  3.57s/it]"
     ]
    },
    {
     "name": "stdout",
     "output_type": "stream",
     "text": [
      "Name mismatch: Burgsinn vs Schweinfurt Hbf, updating to Schweinfurt Hbf\n",
      "Name mismatch: Gaubüttelbrunn BW/BY vs Waigolshausen, updating to Waigolshausen\n"
     ]
    },
    {
     "name": "stderr",
     "output_type": "stream",
     "text": [
      "Finding shortest paths between origin-destination pairs:  62%|██████▏   | 2096/3367 [2:11:33<1:19:38,  3.76s/it]"
     ]
    },
    {
     "name": "stdout",
     "output_type": "stream",
     "text": [
      "Name mismatch: Gemünden (Main) vs Burgsinn Bbf, updating to Burgsinn Bbf\n"
     ]
    },
    {
     "name": "stderr",
     "output_type": "stream",
     "text": [
      "Finding shortest paths between origin-destination pairs:  63%|██████▎   | 2122/3367 [2:13:08<1:15:00,  3.61s/it]"
     ]
    },
    {
     "name": "stdout",
     "output_type": "stream",
     "text": [
      "Name mismatch: Waigolshausen vs Ebelsbach-Eltmann, updating to Ebelsbach-Eltmann\n"
     ]
    },
    {
     "name": "stderr",
     "output_type": "stream",
     "text": [
      "Finding shortest paths between origin-destination pairs:  63%|██████▎   | 2129/3367 [2:13:33<1:13:54,  3.58s/it]"
     ]
    },
    {
     "name": "stdout",
     "output_type": "stream",
     "text": [
      "Name mismatch: Lübeck Hgbf Abzw vs Ahrensburg SH/HH, updating to Ahrensburg SH/HH\n"
     ]
    },
    {
     "name": "stderr",
     "output_type": "stream",
     "text": [
      "Finding shortest paths between origin-destination pairs:  64%|██████▍   | 2154/3367 [2:15:04<1:14:37,  3.69s/it]"
     ]
    },
    {
     "name": "stdout",
     "output_type": "stream",
     "text": [
      "Name mismatch: Ebelsbach-Eltmann vs Würzburg Hbf, updating to Würzburg Hbf\n"
     ]
    },
    {
     "name": "stderr",
     "output_type": "stream",
     "text": [
      "Finding shortest paths between origin-destination pairs:  65%|██████▌   | 2193/3367 [2:17:28<1:11:41,  3.66s/it]"
     ]
    },
    {
     "name": "stdout",
     "output_type": "stream",
     "text": [
      "Name mismatch: Eichenberg Ostkopf vs Arenshausen - Eichenberg, updating to Arenshausen - Eichenberg\n"
     ]
    },
    {
     "name": "stderr",
     "output_type": "stream",
     "text": [
      "Finding shortest paths between origin-destination pairs:  65%|██████▌   | 2201/3367 [2:17:58<1:11:46,  3.69s/it]"
     ]
    },
    {
     "name": "stdout",
     "output_type": "stream",
     "text": [
      "Name mismatch: Burgsinn Bbf vs Gemünden (Main), updating to Gemünden (Main)\n",
      "Name mismatch: Würzburg Hbf vs Waigolshausen, updating to Waigolshausen\n"
     ]
    },
    {
     "name": "stderr",
     "output_type": "stream",
     "text": [
      "Finding shortest paths between origin-destination pairs:  68%|██████▊   | 2286/3367 [2:23:07<1:04:50,  3.60s/it]"
     ]
    },
    {
     "name": "stdout",
     "output_type": "stream",
     "text": [
      "Name mismatch: Oebisfelde ST/NI 6399 vs Oebisfelde - Vorsfelde, updating to Oebisfelde - Vorsfelde\n"
     ]
    },
    {
     "name": "stderr",
     "output_type": "stream",
     "text": [
      "Finding shortest paths between origin-destination pairs:  69%|██████▊   | 2311/3367 [2:24:38<1:04:09,  3.65s/it]"
     ]
    },
    {
     "name": "stdout",
     "output_type": "stream",
     "text": [
      "Name mismatch: Waigolshausen vs Ebelsbach-Eltmann, updating to Ebelsbach-Eltmann\n"
     ]
    },
    {
     "name": "stderr",
     "output_type": "stream",
     "text": [
      "Finding shortest paths between origin-destination pairs:  71%|███████   | 2392/3367 [2:29:33<59:58,  3.69s/it]  "
     ]
    },
    {
     "name": "stdout",
     "output_type": "stream",
     "text": [
      "Name mismatch: Gemünden (Main) vs Burgsinn Bbf, updating to Burgsinn Bbf\n"
     ]
    },
    {
     "name": "stderr",
     "output_type": "stream",
     "text": [
      "Finding shortest paths between origin-destination pairs:  72%|███████▏  | 2431/3367 [2:31:56<58:17,  3.74s/it]  "
     ]
    },
    {
     "name": "stdout",
     "output_type": "stream",
     "text": [
      "Name mismatch: Saarhölzbach - Taben vs Saarhölzbach SL/RP, updating to Saarhölzbach SL/RP\n"
     ]
    },
    {
     "name": "stderr",
     "output_type": "stream",
     "text": [
      "Finding shortest paths between origin-destination pairs:  73%|███████▎  | 2449/3367 [2:33:02<56:38,  3.70s/it]"
     ]
    },
    {
     "name": "stdout",
     "output_type": "stream",
     "text": [
      "Name mismatch: Ebelsbach-Eltmann vs Breitengüßbach, updating to Breitengüßbach\n",
      "Name mismatch: Crailsheim BW/BY vs Erlangen, updating to Erlangen\n"
     ]
    },
    {
     "name": "stderr",
     "output_type": "stream",
     "text": [
      "Finding shortest paths between origin-destination pairs:  74%|███████▍  | 2490/3367 [2:35:32<52:55,  3.62s/it]"
     ]
    },
    {
     "name": "stdout",
     "output_type": "stream",
     "text": [
      "Name mismatch: Breitengüßbach vs Würzburg Hbf, updating to Würzburg Hbf\n"
     ]
    },
    {
     "name": "stderr",
     "output_type": "stream",
     "text": [
      "Finding shortest paths between origin-destination pairs:  74%|███████▍  | 2501/3367 [2:36:13<53:17,  3.69s/it]"
     ]
    },
    {
     "name": "stdout",
     "output_type": "stream",
     "text": [
      "Name mismatch: Würzburg Hbf vs Breitengüßbach, updating to Breitengüßbach\n",
      "Name mismatch: Mellrichstadt Bahnhof BY/TH vs Lichtenfels, updating to Lichtenfels\n"
     ]
    },
    {
     "name": "stderr",
     "output_type": "stream",
     "text": [
      "Finding shortest paths between origin-destination pairs:  79%|███████▉  | 2676/3367 [2:46:48<41:39,  3.62s/it]"
     ]
    },
    {
     "name": "stdout",
     "output_type": "stream",
     "text": [
      "Name mismatch: Donauwörth vs Roth, updating to Roth\n",
      "Name mismatch: Erlangen vs Nürnberg-Eibach, updating to Nürnberg-Eibach\n"
     ]
    },
    {
     "name": "stderr",
     "output_type": "stream",
     "text": [
      "Finding shortest paths between origin-destination pairs:  80%|███████▉  | 2683/3367 [2:47:14<41:54,  3.68s/it]"
     ]
    },
    {
     "name": "stdout",
     "output_type": "stream",
     "text": [
      "Name mismatch: Hamburg-Altona vs Hamburg-Eidelstedt HH/SH, updating to Hamburg-Eidelstedt HH/SH\n"
     ]
    },
    {
     "name": "stderr",
     "output_type": "stream",
     "text": [
      "Finding shortest paths between origin-destination pairs:  81%|████████  | 2716/3367 [2:49:14<39:05,  3.60s/it]"
     ]
    },
    {
     "name": "stdout",
     "output_type": "stream",
     "text": [
      "Name mismatch: Nürnberg-Eibach vs Baiersdorf, updating to Baiersdorf\n",
      "Name mismatch: Breitengüßbach vs Strullendorf, updating to Strullendorf\n"
     ]
    },
    {
     "name": "stderr",
     "output_type": "stream",
     "text": [
      "Finding shortest paths between origin-destination pairs:  82%|████████▏ | 2749/3367 [2:51:12<36:56,  3.59s/it]"
     ]
    },
    {
     "name": "stdout",
     "output_type": "stream",
     "text": [
      "Name mismatch: Roth vs Donauwörth, updating to Donauwörth\n"
     ]
    },
    {
     "name": "stderr",
     "output_type": "stream",
     "text": [
      "Finding shortest paths between origin-destination pairs:  82%|████████▏ | 2756/3367 [2:51:37<36:25,  3.58s/it]"
     ]
    },
    {
     "name": "stdout",
     "output_type": "stream",
     "text": [
      "Name mismatch: Aschaffenburg Hbf vs Mainaschaff Steinerts, updating to Mainaschaff Steinerts\n"
     ]
    },
    {
     "name": "stderr",
     "output_type": "stream",
     "text": [
      "Finding shortest paths between origin-destination pairs:  82%|████████▏ | 2773/3367 [2:52:38<35:15,  3.56s/it]"
     ]
    },
    {
     "name": "stdout",
     "output_type": "stream",
     "text": [
      "Name mismatch: Mainaschaff Steinerts vs Aschaffenburg Hbf, updating to Aschaffenburg Hbf\n"
     ]
    },
    {
     "name": "stderr",
     "output_type": "stream",
     "text": [
      "Finding shortest paths between origin-destination pairs:  82%|████████▏ | 2775/3367 [2:52:46<35:20,  3.58s/it]"
     ]
    },
    {
     "name": "stdout",
     "output_type": "stream",
     "text": [
      "Name mismatch: Neuoffingen vs Augsburg Hbf, updating to Augsburg Hbf\n"
     ]
    },
    {
     "name": "stderr",
     "output_type": "stream",
     "text": [
      "Finding shortest paths between origin-destination pairs:  83%|████████▎ | 2805/3367 [2:54:33<33:21,  3.56s/it]"
     ]
    },
    {
     "name": "stdout",
     "output_type": "stream",
     "text": [
      "Name mismatch: Arenshausen - Eichenberg vs Eichenberg NI/HE 6343, updating to Eichenberg NI/HE 6343\n"
     ]
    },
    {
     "name": "stderr",
     "output_type": "stream",
     "text": [
      "Finding shortest paths between origin-destination pairs:  84%|████████▍ | 2838/3367 [2:56:31<31:05,  3.53s/it]"
     ]
    },
    {
     "name": "stdout",
     "output_type": "stream",
     "text": [
      "Name mismatch: Aschaffenburg Hbf vs Mainaschaff Steinerts, updating to Mainaschaff Steinerts\n"
     ]
    },
    {
     "name": "stderr",
     "output_type": "stream",
     "text": [
      "Finding shortest paths between origin-destination pairs:  85%|████████▍ | 2853/3367 [2:57:26<31:06,  3.63s/it]"
     ]
    },
    {
     "name": "stdout",
     "output_type": "stream",
     "text": [
      "Name mismatch: Hamburg Hbf vs Hamburg-Rothenburgsort Ro, updating to Hamburg-Rothenburgsort Ro\n",
      "Name mismatch: Hamburg-Eidelstedt HH/SH vs Hamburg-Eidelstedt (Ef), updating to Hamburg-Eidelstedt (Ef)\n"
     ]
    },
    {
     "name": "stderr",
     "output_type": "stream",
     "text": [
      "Finding shortest paths between origin-destination pairs:  85%|████████▍ | 2857/3367 [2:57:40<30:25,  3.58s/it]"
     ]
    },
    {
     "name": "stdout",
     "output_type": "stream",
     "text": [
      "Name mismatch: Gerstungen TH/HE 6340 vs Gerstungen - Obersuhl, updating to Gerstungen - Obersuhl\n"
     ]
    },
    {
     "name": "stderr",
     "output_type": "stream",
     "text": [
      "Finding shortest paths between origin-destination pairs:  85%|████████▌ | 2867/3367 [2:58:16<29:40,  3.56s/it]"
     ]
    },
    {
     "name": "stdout",
     "output_type": "stream",
     "text": [
      "Name mismatch: Essen-Dellwig Ost vs Essen-Dellwig (Abzw), updating to Essen-Dellwig (Abzw)\n"
     ]
    },
    {
     "name": "stderr",
     "output_type": "stream",
     "text": [
      "Finding shortest paths between origin-destination pairs:  85%|████████▌ | 2869/3367 [2:58:23<29:39,  3.57s/it]"
     ]
    },
    {
     "name": "stdout",
     "output_type": "stream",
     "text": [
      "Name mismatch: Gerstungen - Obersuhl vs Gerstungen TH/HE 6340, updating to Gerstungen TH/HE 6340\n"
     ]
    },
    {
     "name": "stderr",
     "output_type": "stream",
     "text": [
      "Finding shortest paths between origin-destination pairs:  85%|████████▌ | 2871/3367 [2:58:30<29:02,  3.51s/it]"
     ]
    },
    {
     "name": "stdout",
     "output_type": "stream",
     "text": [
      "Name mismatch: Gerstungen TH/HE 6340 vs Gerstungen - Obersuhl, updating to Gerstungen - Obersuhl\n"
     ]
    },
    {
     "name": "stderr",
     "output_type": "stream",
     "text": [
      "Finding shortest paths between origin-destination pairs:  86%|████████▌ | 2881/3367 [2:59:06<29:10,  3.60s/it]"
     ]
    },
    {
     "name": "stdout",
     "output_type": "stream",
     "text": [
      "Name mismatch: Ahrensburg SH/HH vs Reinbek SH/HH 6100, updating to Reinbek SH/HH 6100\n"
     ]
    },
    {
     "name": "stderr",
     "output_type": "stream",
     "text": [
      "Finding shortest paths between origin-destination pairs:  86%|████████▌ | 2901/3367 [3:00:18<28:04,  3.61s/it]"
     ]
    },
    {
     "name": "stdout",
     "output_type": "stream",
     "text": [
      "Name mismatch: Ludwigshafen (Rhein) Hbf RP/BW vs Ludwigshafen 3401 LGr, updating to Ludwigshafen 3401 LGr\n"
     ]
    },
    {
     "name": "stderr",
     "output_type": "stream",
     "text": [
      "Finding shortest paths between origin-destination pairs:  87%|████████▋ | 2925/3367 [3:01:44<26:36,  3.61s/it]"
     ]
    },
    {
     "name": "stdout",
     "output_type": "stream",
     "text": [
      "Name mismatch: Hamburg-Harburg vs Hamburg-Wilhelmsburg, updating to Hamburg-Wilhelmsburg\n",
      "Name mismatch: Hamburg-Rothenburgsort Ro vs Hamburg Süd DB-Grenze, updating to Hamburg Süd DB-Grenze\n"
     ]
    },
    {
     "name": "stderr",
     "output_type": "stream",
     "text": [
      "Finding shortest paths between origin-destination pairs:  88%|████████▊ | 2967/3367 [3:04:17<24:20,  3.65s/it]"
     ]
    },
    {
     "name": "stdout",
     "output_type": "stream",
     "text": [
      "Name mismatch: Ludwigshafen 3401 LGr vs Ludwigshafen (Rhein) Hbf RP/BW, updating to Ludwigshafen (Rhein) Hbf RP/BW\n"
     ]
    },
    {
     "name": "stderr",
     "output_type": "stream",
     "text": [
      "Finding shortest paths between origin-destination pairs:  88%|████████▊ | 2973/3367 [3:04:38<23:21,  3.56s/it]"
     ]
    },
    {
     "name": "stdout",
     "output_type": "stream",
     "text": [
      "Name mismatch: Aschaffenburg Süd vs Babenhausen (Hess) HE/BY, updating to Babenhausen (Hess) HE/BY\n"
     ]
    },
    {
     "name": "stderr",
     "output_type": "stream",
     "text": [
      "Finding shortest paths between origin-destination pairs:  89%|████████▊ | 2980/3367 [3:05:03<22:58,  3.56s/it]"
     ]
    },
    {
     "name": "stdout",
     "output_type": "stream",
     "text": [
      "Name mismatch: Hamburg Süd DB-Grenze vs Hamburg-Rothenburgsort Tk, updating to Hamburg-Rothenburgsort Tk\n"
     ]
    },
    {
     "name": "stderr",
     "output_type": "stream",
     "text": [
      "Finding shortest paths between origin-destination pairs:  89%|████████▊ | 2982/3367 [3:05:11<22:43,  3.54s/it]"
     ]
    },
    {
     "name": "stdout",
     "output_type": "stream",
     "text": [
      "Name mismatch: Koblenz Horchheimer Brücke vs Niederlahnstein Streckenw 2324/3507, updating to Niederlahnstein Streckenw 2324/3507\n"
     ]
    },
    {
     "name": "stderr",
     "output_type": "stream",
     "text": [
      "Finding shortest paths between origin-destination pairs:  89%|████████▉ | 2991/3367 [3:05:43<22:22,  3.57s/it]"
     ]
    },
    {
     "name": "stdout",
     "output_type": "stream",
     "text": [
      "Name mismatch: Mainaschaff Steinerts vs Aschaffenburg Hbf, updating to Aschaffenburg Hbf\n"
     ]
    },
    {
     "name": "stderr",
     "output_type": "stream",
     "text": [
      "Finding shortest paths between origin-destination pairs:  89%|████████▉ | 3011/3367 [3:06:55<21:30,  3.62s/it]"
     ]
    },
    {
     "name": "stdout",
     "output_type": "stream",
     "text": [
      "Name mismatch: Donauwörth vs Gunzenhausen, updating to Gunzenhausen\n",
      "Name mismatch: Baiersdorf vs Ansbach, updating to Ansbach\n"
     ]
    },
    {
     "name": "stderr",
     "output_type": "stream",
     "text": [
      "Finding shortest paths between origin-destination pairs:  90%|████████▉ | 3018/3367 [3:07:20<20:50,  3.58s/it]"
     ]
    },
    {
     "name": "stdout",
     "output_type": "stream",
     "text": [
      "Name mismatch: Ansbach vs Siegelsdorf, updating to Siegelsdorf\n"
     ]
    },
    {
     "name": "stderr",
     "output_type": "stream",
     "text": [
      "Finding shortest paths between origin-destination pairs:  90%|████████▉ | 3019/3367 [3:07:24<20:54,  3.60s/it]"
     ]
    },
    {
     "name": "stdout",
     "output_type": "stream",
     "text": [
      "Name mismatch: Strullendorf vs Markt Einersheim, updating to Markt Einersheim\n"
     ]
    },
    {
     "name": "stderr",
     "output_type": "stream",
     "text": [
      "Finding shortest paths between origin-destination pairs:  90%|████████▉ | 3021/3367 [3:07:31<21:04,  3.66s/it]"
     ]
    },
    {
     "name": "stdout",
     "output_type": "stream",
     "text": [
      "Name mismatch: Aschaffenburg-Goldbach vs Laufach - Hösbach, updating to Laufach - Hösbach\n"
     ]
    },
    {
     "name": "stderr",
     "output_type": "stream",
     "text": [
      "Finding shortest paths between origin-destination pairs:  90%|████████▉ | 3024/3367 [3:07:42<20:39,  3.61s/it]"
     ]
    },
    {
     "name": "stdout",
     "output_type": "stream",
     "text": [
      "Name mismatch: Mannheim-Waldhof BW/HE vs Mannheim-Waldhof - Lampertheim, updating to Mannheim-Waldhof - Lampertheim\n"
     ]
    },
    {
     "name": "stderr",
     "output_type": "stream",
     "text": [
      "Finding shortest paths between origin-destination pairs:  90%|████████▉ | 3029/3367 [3:08:00<20:11,  3.58s/it]"
     ]
    },
    {
     "name": "stdout",
     "output_type": "stream",
     "text": [
      "Name mismatch: Burgsinn Bbf vs Nantenbach, updating to Nantenbach\n"
     ]
    },
    {
     "name": "stderr",
     "output_type": "stream",
     "text": [
      "Finding shortest paths between origin-destination pairs:  90%|█████████ | 3039/3367 [3:08:35<19:34,  3.58s/it]"
     ]
    },
    {
     "name": "stdout",
     "output_type": "stream",
     "text": [
      "Name mismatch: Siegelsdorf vs Ansbach, updating to Ansbach\n"
     ]
    },
    {
     "name": "stderr",
     "output_type": "stream",
     "text": [
      "Finding shortest paths between origin-destination pairs:  90%|█████████ | 3044/3367 [3:08:53<19:25,  3.61s/it]"
     ]
    },
    {
     "name": "stdout",
     "output_type": "stream",
     "text": [
      "Name mismatch: Ludwigshafen (Rhein) Hbf RP/BW vs Ludwigshafen 3401 LGr, updating to Ludwigshafen 3401 LGr\n"
     ]
    },
    {
     "name": "stderr",
     "output_type": "stream",
     "text": [
      "Finding shortest paths between origin-destination pairs:  91%|█████████ | 3057/3367 [3:09:40<18:32,  3.59s/it]"
     ]
    },
    {
     "name": "stdout",
     "output_type": "stream",
     "text": [
      "Name mismatch: Ansbach vs Siegelsdorf, updating to Siegelsdorf\n"
     ]
    },
    {
     "name": "stderr",
     "output_type": "stream",
     "text": [
      "Finding shortest paths between origin-destination pairs:  92%|█████████▏| 3104/3367 [3:12:34<15:56,  3.64s/it]"
     ]
    },
    {
     "name": "stdout",
     "output_type": "stream",
     "text": [
      "Name mismatch: Neustadt (Aisch) Bahnhof vs Uffenheim, updating to Uffenheim\n"
     ]
    },
    {
     "name": "stderr",
     "output_type": "stream",
     "text": [
      "Finding shortest paths between origin-destination pairs:  92%|█████████▏| 3107/3367 [3:12:44<15:38,  3.61s/it]"
     ]
    },
    {
     "name": "stdout",
     "output_type": "stream",
     "text": [
      "Name mismatch: Lohr Bahnhof vs Jossa HE/BY, updating to Jossa HE/BY\n"
     ]
    },
    {
     "name": "stderr",
     "output_type": "stream",
     "text": [
      "Finding shortest paths between origin-destination pairs:  92%|█████████▏| 3112/3367 [3:13:03<15:28,  3.64s/it]"
     ]
    },
    {
     "name": "stdout",
     "output_type": "stream",
     "text": [
      "Name mismatch: Bonn - Rolandseck vs Bonn Neuer Weg NRW/RP, updating to Bonn Neuer Weg NRW/RP\n"
     ]
    },
    {
     "name": "stderr",
     "output_type": "stream",
     "text": [
      "Finding shortest paths between origin-destination pairs:  92%|█████████▏| 3113/3367 [3:13:06<15:26,  3.65s/it]"
     ]
    },
    {
     "name": "stdout",
     "output_type": "stream",
     "text": [
      "Name mismatch: Siegelsdorf vs Ansbach, updating to Ansbach\n"
     ]
    },
    {
     "name": "stderr",
     "output_type": "stream",
     "text": [
      "Finding shortest paths between origin-destination pairs:  93%|█████████▎| 3120/3367 [3:13:32<15:30,  3.77s/it]"
     ]
    },
    {
     "name": "stdout",
     "output_type": "stream",
     "text": [
      "Name mismatch: Bonn Neuer Weg NRW/RP vs Bonn - Rolandseck, updating to Bonn - Rolandseck\n"
     ]
    },
    {
     "name": "stderr",
     "output_type": "stream",
     "text": [
      "Finding shortest paths between origin-destination pairs:  93%|█████████▎| 3121/3367 [3:13:36<15:22,  3.75s/it]"
     ]
    },
    {
     "name": "stdout",
     "output_type": "stream",
     "text": [
      "Name mismatch: Bonn - Rolandseck vs Bonn Neuer Weg NRW/RP, updating to Bonn Neuer Weg NRW/RP\n"
     ]
    },
    {
     "name": "stderr",
     "output_type": "stream",
     "text": [
      "Finding shortest paths between origin-destination pairs:  93%|█████████▎| 3125/3367 [3:13:51<15:05,  3.74s/it]"
     ]
    },
    {
     "name": "stdout",
     "output_type": "stream",
     "text": [
      "Name mismatch: Markt Einersheim vs Würzburg-Heidingsfeld West Ültg, updating to Würzburg-Heidingsfeld West Ültg\n"
     ]
    },
    {
     "name": "stderr",
     "output_type": "stream",
     "text": [
      "Finding shortest paths between origin-destination pairs:  93%|█████████▎| 3139/3367 [3:14:42<14:01,  3.69s/it]"
     ]
    },
    {
     "name": "stdout",
     "output_type": "stream",
     "text": [
      "Name mismatch: Nantenbach vs Gemünden (Main), updating to Gemünden (Main)\n"
     ]
    },
    {
     "name": "stderr",
     "output_type": "stream",
     "text": [
      "Finding shortest paths between origin-destination pairs:  93%|█████████▎| 3142/3367 [3:14:54<13:52,  3.70s/it]"
     ]
    },
    {
     "name": "stdout",
     "output_type": "stream",
     "text": [
      "Name mismatch: Heppenheim - Laudenbach vs Laudenbach (Bergstr) BW/HE, updating to Laudenbach (Bergstr) BW/HE\n"
     ]
    },
    {
     "name": "stderr",
     "output_type": "stream",
     "text": [
      "Finding shortest paths between origin-destination pairs:  94%|█████████▍| 3169/3367 [3:16:32<12:02,  3.65s/it]"
     ]
    },
    {
     "name": "stdout",
     "output_type": "stream",
     "text": [
      "Name mismatch: Meckelfeld NI/HH vs Maschen NI/HH 1280, updating to Maschen NI/HH 1280\n",
      "Name mismatch: Hamburg-Wilhelmsburg vs Hamburg-Harburg, updating to Hamburg-Harburg\n"
     ]
    },
    {
     "name": "stderr",
     "output_type": "stream",
     "text": [
      "Finding shortest paths between origin-destination pairs:  95%|█████████▍| 3189/3367 [3:17:45<10:54,  3.68s/it]"
     ]
    },
    {
     "name": "stdout",
     "output_type": "stream",
     "text": [
      "Name mismatch: Bad Honnef - Unkel vs Bad Honnef NRW/RP, updating to Bad Honnef NRW/RP\n"
     ]
    },
    {
     "name": "stderr",
     "output_type": "stream",
     "text": [
      "Finding shortest paths between origin-destination pairs:  95%|█████████▍| 3194/3367 [3:18:03<10:30,  3.65s/it]"
     ]
    },
    {
     "name": "stdout",
     "output_type": "stream",
     "text": [
      "Name mismatch: Laudenbach (Bergstr) BW/HE vs Heppenheim - Laudenbach, updating to Heppenheim - Laudenbach\n"
     ]
    },
    {
     "name": "stderr",
     "output_type": "stream",
     "text": [
      "Finding shortest paths between origin-destination pairs:  99%|█████████▊| 3321/3367 [3:25:42<02:44,  3.58s/it]"
     ]
    },
    {
     "name": "stdout",
     "output_type": "stream",
     "text": [
      "Name mismatch: Köln Süd vs Köln Süd Abzw, updating to Köln Süd Abzw\n"
     ]
    },
    {
     "name": "stderr",
     "output_type": "stream",
     "text": [
      "Finding shortest paths between origin-destination pairs:  99%|█████████▉| 3331/3367 [3:26:19<02:13,  3.71s/it]"
     ]
    },
    {
     "name": "stdout",
     "output_type": "stream",
     "text": [
      "Name mismatch: Würzburg-Heidingsfeld West Ültg vs Veitshöchheim, updating to Veitshöchheim\n"
     ]
    },
    {
     "name": "stderr",
     "output_type": "stream",
     "text": [
      "Finding shortest paths between origin-destination pairs:  99%|█████████▉| 3332/3367 [3:26:23<02:09,  3.69s/it]"
     ]
    },
    {
     "name": "stdout",
     "output_type": "stream",
     "text": [
      "Name mismatch: Hamburg-Rothenburgsort Tk vs Hamburg Oberhafen, updating to Hamburg Oberhafen\n",
      "Name mismatch: Hamburg-Harburg vs Hamburg-Wilhelmsburg Abzw S-Bahn, updating to Hamburg-Wilhelmsburg Abzw S-Bahn\n"
     ]
    },
    {
     "name": "stderr",
     "output_type": "stream",
     "text": [
      "Finding shortest paths between origin-destination pairs: 100%|█████████▉| 3351/3367 [3:27:33<00:58,  3.68s/it]"
     ]
    },
    {
     "name": "stdout",
     "output_type": "stream",
     "text": [
      "Name mismatch: Maschen NI/HH 1280 vs Maschen NI/HH 1255, updating to Maschen NI/HH 1255\n"
     ]
    },
    {
     "name": "stderr",
     "output_type": "stream",
     "text": [
      "Finding shortest paths between origin-destination pairs: 100%|█████████▉| 3352/3367 [3:27:36<00:54,  3.63s/it]"
     ]
    },
    {
     "name": "stdout",
     "output_type": "stream",
     "text": [
      "Name mismatch: Hamburg-Wilhelmsburg Abzw S-Bahn vs Hamburg-Harburg, updating to Hamburg-Harburg\n"
     ]
    },
    {
     "name": "stderr",
     "output_type": "stream",
     "text": [
      "Finding shortest paths between origin-destination pairs: 100%|█████████▉| 3366/3367 [3:28:27<00:03,  3.63s/it]"
     ]
    },
    {
     "name": "stdout",
     "output_type": "stream",
     "text": [
      "Name mismatch: Maschen NI/HH 1255 vs Maschen NI/HH 1280, updating to Maschen NI/HH 1280\n"
     ]
    },
    {
     "name": "stderr",
     "output_type": "stream",
     "text": [
      "Finding shortest paths between origin-destination pairs: 100%|██████████| 3367/3367 [3:28:31<00:00,  3.72s/it]\n"
     ]
    },
    {
     "name": "stdout",
     "output_type": "stream",
     "text": [
      "Failed to find paths for 159 routes\n"
     ]
    }
   ],
   "source": [
    "# Set capacities for flow model\n",
    "graph_0, shortest_paths = set_edge_capacities(graph_0, route_data, simplified=True)"
   ]
  },
  {
   "cell_type": "code",
   "execution_count": 18,
   "metadata": {},
   "outputs": [
    {
     "ename": "ModuleNotFoundError",
     "evalue": "No module named 'lonboard'",
     "output_type": "error",
     "traceback": [
      "\u001b[1;31m---------------------------------------------------------------------------\u001b[0m",
      "\u001b[1;31mModuleNotFoundError\u001b[0m                       Traceback (most recent call last)",
      "Cell \u001b[1;32mIn[18], line 1\u001b[0m\n\u001b[1;32m----> 1\u001b[0m \u001b[43mplot_shortest_paths\u001b[49m\u001b[43m(\u001b[49m\u001b[43massets\u001b[49m\u001b[43m,\u001b[49m\u001b[43m \u001b[49m\u001b[43mgraph_0\u001b[49m\u001b[43m,\u001b[49m\u001b[43m \u001b[49m\u001b[43mshortest_paths\u001b[49m\u001b[43m,\u001b[49m\u001b[43m \u001b[49m\u001b[43mmiraca_colors\u001b[49m\u001b[43m)\u001b[49m\n",
      "Cell \u001b[1;32mIn[2], line 2\u001b[0m, in \u001b[0;36mplot_shortest_paths\u001b[1;34m(assets, graph, shortest_paths, colors)\u001b[0m\n\u001b[0;32m      1\u001b[0m \u001b[38;5;28;01mdef\u001b[39;00m \u001b[38;5;21mplot_shortest_paths\u001b[39m(assets, graph, shortest_paths, colors):\n\u001b[1;32m----> 2\u001b[0m     \u001b[38;5;28;01mfrom\u001b[39;00m \u001b[38;5;21;01mlonboard\u001b[39;00m \u001b[38;5;28;01mimport\u001b[39;00m Map, PathLayer, ScatterplotLayer\n\u001b[0;32m      3\u001b[0m     layers_assets\u001b[38;5;241m=\u001b[39m[]\n\u001b[0;32m      4\u001b[0m     \u001b[38;5;66;03m# Generate od layer for visualization\u001b[39;00m\n",
      "\u001b[1;31mModuleNotFoundError\u001b[0m: No module named 'lonboard'"
     ]
    }
   ],
   "source": [
    "plot_shortest_paths(assets, graph_0, shortest_paths, miraca_colors)"
   ]
  },
  {
   "cell_type": "code",
   "execution_count": 19,
   "metadata": {},
   "outputs": [
    {
     "name": "stdout",
     "output_type": "stream",
     "text": [
      "Max weight: 34076035\n",
      "Max capacity: 1\n",
      "Success: only int type values\n"
     ]
    }
   ],
   "source": [
    "# Create initial virtual graph\n",
    "graph_v0=create_virtual_graph(graph_0)\n"
   ]
  },
  {
   "cell_type": "code",
   "execution_count": 20,
   "metadata": {},
   "outputs": [],
   "source": [
    "graph_v=graph_v0.copy()"
   ]
  },
  {
   "cell_type": "code",
   "execution_count": 21,
   "metadata": {},
   "outputs": [],
   "source": [
    "# Define the baseline return periods \n",
    "\"\"\"\n",
    "Return period definitions for Rhineland Palatinate (DERP) based on the report by Rauthe M, et al. (2020):\n",
    "_H_=10-25y \n",
    "_M_=100y\n",
    "_L_=200y\n",
    "\"\"\"\n",
    "return_period_dict = {'_H_': 10,'_M_': 100,'_L_': 200}\n",
    "\n",
    "# Add climate change: calculate the dynamic return periods based on flat increase factors. \n",
    "# This value has been catchment-specific with frequency increasing in some regions and decreasing in others. \n",
    "# It is reasonable that in the future, the frequency will continue to change differently by catchment.\n",
    "\n",
    "increase_factor = {\n",
    "    '_H_': 2,\n",
    "    '_M_': 6.6,\n",
    "    '_L_': 9.1\n",
    "} # https://hess.copernicus.org/preprints/hess-2016-65/hess-2016-65-manuscript-version2.pdf \n",
    "\n",
    "num_years = 100\n",
    "return_periods = calculate_dynamic_return_periods(return_period_dict, num_years, increase_factor)"
   ]
  },
  {
   "cell_type": "code",
   "execution_count": 22,
   "metadata": {},
   "outputs": [],
   "source": [
    "if 'collect_output' not in locals():\n",
    "    collect_output_path = f'C:/Data/interim/collected_flood_runs/sample_collected_run.pkl'\n",
    "    with open(collect_output_path, 'rb') as f:\n",
    "        collect_output = pickle.load(f)"
   ]
  },
  {
   "cell_type": "code",
   "execution_count": 23,
   "metadata": {},
   "outputs": [
    {
     "name": "stdout",
     "output_type": "stream",
     "text": [
      "Disrupted edges: 6\n",
      "Calculating economic impact...\n",
      "flood_DERP_RW_H_4326_2080410170 467036.2736560443\n",
      "Disrupted edges: 14\n",
      "Calculating economic impact...\n",
      "flood_DERP_RW_H_4326_2080410430 189684.14263829618\n",
      "Disrupted edges: 8\n",
      "Calculating economic impact...\n",
      "flood_DERP_RW_H_4326_2080410540 1289636.8322893078\n",
      "Disrupted edges: 22\n",
      "Calculating economic impact...\n",
      "flood_DERP_RW_H_4326_2080411370 6050405.820182627\n",
      "Disrupted edges: 38\n",
      "Calculating economic impact...\n",
      "flood_DERP_RW_H_4326_2080416210 20992921.648184534\n",
      "Disrupted edges: 36\n",
      "Calculating economic impact...\n",
      "flood_DERP_RW_H_4326_2080418600 6065103.252370864\n",
      "Disrupted edges: 8\n",
      "Calculating economic impact...\n",
      "flood_DERP_RW_H_4326_2080418880 9035420.177934907\n",
      "Disrupted edges: 10\n",
      "No shortest paths disrupted for flood_DERP_RW_H_4326_2080418890. No economic impact.\n",
      "Disrupted edges: 24\n",
      "No shortest paths disrupted for flood_DERP_RW_H_4326_2080419180. No economic impact.\n",
      "Disrupted edges: 60\n",
      "Calculating economic impact...\n",
      "flood_DERP_RW_H_4326_2080420240 5109340.3360396605\n",
      "Disrupted edges: 24\n",
      "Calculating economic impact...\n",
      "flood_DERP_RW_H_4326_2080421680 440257.32660568756\n",
      "Disrupted edges: 34\n",
      "Calculating economic impact...\n",
      "flood_DERP_RW_H_4326_2080421770 10752834.934709515\n",
      "Disrupted edges: 8\n",
      "No shortest paths disrupted for flood_DERP_RW_H_4326_2080428160. No economic impact.\n",
      "Disrupted edges: 38\n",
      "Calculating economic impact...\n",
      "flood_DERP_RW_H_4326_2080429430 8298111.664361271\n",
      "Disrupted edges: 4\n",
      "Calculating economic impact...\n",
      "flood_DERP_RW_H_4326_2080429540 116556.8213911652\n",
      "Disrupted edges: 36\n",
      "Calculating economic impact...\n",
      "flood_DERP_RW_H_4326_2080429770 69553.48955672164\n",
      "Disrupted edges: 50\n",
      "Calculating economic impact...\n",
      "flood_DERP_RW_H_4326_2080430240 2839243.8308755565\n",
      "Disrupted edges: 24\n",
      "Calculating economic impact...\n",
      "flood_DERP_RW_H_4326_2080430320 47481.49151079169\n",
      "Disrupted edges: 4\n",
      "Calculating economic impact...\n",
      "flood_DERP_RW_H_4326_2080432400 4352.528231356173\n",
      "Disrupted edges: 6\n",
      "Calculating economic impact...\n",
      "flood_DERP_RW_H_4326_2080432510 1017.7721284053152\n",
      "Disrupted edges: 4\n",
      "Calculating economic impact...\n",
      "flood_DERP_RW_H_4326_2080434280 12321.382014962532\n",
      "Disrupted edges: 16\n",
      "Calculating economic impact...\n",
      "flood_DERP_RW_H_4326_2080434470 39192.53191156938\n",
      "Disrupted edges: 2\n",
      "No shortest paths disrupted for flood_DERP_RW_H_4326_2080434490. No economic impact.\n",
      "Disrupted edges: 2\n",
      "No shortest paths disrupted for flood_DERP_RW_H_4326_2080434630. No economic impact.\n",
      "Disrupted edges: 8\n",
      "Calculating economic impact...\n",
      "flood_DERP_RW_H_4326_2080435040 12321.382014962532\n",
      "Disrupted edges: 4\n",
      "No shortest paths disrupted for flood_DERP_RW_H_4326_2080435320. No economic impact.\n",
      "Disrupted edges: 10\n",
      "Calculating economic impact...\n",
      "flood_DERP_RW_H_4326_2080437100 141238.03533541248\n",
      "Disrupted edges: 4\n",
      "Calculating economic impact...\n",
      "flood_DERP_RW_H_4326_2080437230 4768483.5983945\n",
      "Disrupted edges: 26\n",
      "No shortest paths disrupted for flood_DERP_RW_H_4326_2080438240. No economic impact.\n",
      "Disrupted edges: 20\n",
      "Calculating economic impact...\n",
      "flood_DERP_RW_H_4326_2080438400 211198.59597096598\n",
      "Disrupted edges: 6\n",
      "Calculating economic impact...\n",
      "flood_DERP_RW_H_4326_2080438410 21192.971208141622\n",
      "Disrupted edges: 90\n",
      "No shortest paths disrupted for flood_DERP_RW_H_4326_2080439410. No economic impact.\n",
      "Disrupted edges: 36\n",
      "Calculating economic impact...\n",
      "flood_DERP_RW_H_4326_2080441280 249411.64564794608\n",
      "Disrupted edges: 48\n",
      "Calculating economic impact...\n",
      "flood_DERP_RW_H_4326_2080446220 997307.1277600857\n",
      "Disrupted edges: 60\n",
      "Calculating economic impact...\n",
      "flood_DERP_RW_H_4326_2080447840 888650.7271445382\n",
      "Disrupted edges: 6\n",
      "Calculating economic impact...\n",
      "flood_DERP_RW_H_4326_2080447970 29199.230166953832\n",
      "Disrupted edges: 2\n",
      "Calculating economic impact...\n",
      "flood_DERP_RW_H_4326_2080451930 9283.949818429675\n",
      "Disrupted edges: 14\n",
      "Calculating economic impact...\n",
      "flood_DERP_RW_L_4326_2080410170 4670362.7365604425\n",
      "Disrupted edges: 18\n",
      "Calculating economic impact...\n",
      "flood_DERP_RW_L_4326_2080410430 1896841.4263829621\n",
      "Disrupted edges: 84\n",
      "Calculating economic impact...\n",
      "flood_DERP_RW_L_4326_2080410540 14771126.827637013\n",
      "Disrupted edges: 2\n",
      "No shortest paths disrupted for flood_DERP_RW_L_4326_2080410660. No economic impact.\n",
      "Disrupted edges: 196\n",
      "Calculating economic impact...\n",
      "flood_DERP_RW_L_4326_2080411370 182563732.3292682\n",
      "Disrupted edges: 2\n",
      "No shortest paths disrupted for flood_DERP_RW_L_4326_2080416200. No economic impact.\n",
      "Disrupted edges: 342\n",
      "Calculating economic impact...\n",
      "flood_DERP_RW_L_4326_2080416210 209929216.48184538\n",
      "Disrupted edges: 120\n",
      "Calculating economic impact...\n",
      "flood_DERP_RW_L_4326_2080418600 62337283.429946326\n",
      "Disrupted edges: 12\n",
      "Calculating economic impact...\n",
      "flood_DERP_RW_L_4326_2080418720 60504058.201826274\n",
      "Disrupted edges: 12\n",
      "Calculating economic impact...\n",
      "flood_DERP_RW_L_4326_2080418880 90354201.77934909\n",
      "Disrupted edges: 276\n",
      "Calculating economic impact...\n",
      "flood_DERP_RW_L_4326_2080418890 305638100.25617903\n",
      "Disrupted edges: 192\n",
      "No shortest paths disrupted for flood_DERP_RW_L_4326_2080419180. No economic impact.\n",
      "Disrupted edges: 268\n",
      "Calculating economic impact...\n",
      "flood_DERP_RW_L_4326_2080420240 82149542.12110929\n",
      "Disrupted edges: 70\n",
      "Calculating economic impact...\n",
      "flood_DERP_RW_L_4326_2080420340 49371657.642530695\n",
      "Disrupted edges: 150\n",
      "Calculating economic impact...\n",
      "flood_DERP_RW_L_4326_2080421680 89822880.20053455\n",
      "Disrupted edges: 352\n",
      "Calculating economic impact...\n",
      "flood_DERP_RW_L_4326_2080421770 323394013.9214329\n",
      "Disrupted edges: 14\n",
      "No shortest paths disrupted for flood_DERP_RW_L_4326_2080428160. No economic impact.\n",
      "Disrupted edges: 112\n",
      "Calculating economic impact...\n",
      "flood_DERP_RW_L_4326_2080428500 47179329.23691983\n",
      "Disrupted edges: 252\n",
      "Calculating economic impact...\n",
      "flood_DERP_RW_L_4326_2080429430 86021270.99097747\n",
      "Disrupted edges: 4\n",
      "Calculating economic impact...\n",
      "flood_DERP_RW_L_4326_2080429540 1165568.213911652\n",
      "Disrupted edges: 140\n",
      "Calculating economic impact...\n",
      "flood_DERP_RW_L_4326_2080429770 695534.8955672166\n",
      "Disrupted edges: 82\n",
      "Calculating economic impact...\n",
      "flood_DERP_RW_L_4326_2080430240 28392438.30875557\n",
      "Disrupted edges: 78\n",
      "Calculating economic impact...\n",
      "flood_DERP_RW_L_4326_2080430320 77141767.08677721\n",
      "Disrupted edges: 144\n",
      "Calculating economic impact...\n",
      "flood_DERP_RW_L_4326_2080431110 695534.8955672166\n",
      "Disrupted edges: 4\n",
      "Calculating economic impact...\n",
      "flood_DERP_RW_L_4326_2080432400 43525.28231356172\n",
      "Disrupted edges: 76\n",
      "Calculating economic impact...\n",
      "flood_DERP_RW_L_4326_2080432510 394155.7286440181\n",
      "Disrupted edges: 20\n",
      "Calculating economic impact...\n",
      "flood_DERP_RW_L_4326_2080434280 123213.8201496253\n",
      "Disrupted edges: 358\n",
      "Calculating economic impact...\n",
      "flood_DERP_RW_L_4326_2080434470 26900482.576790575\n",
      "Disrupted edges: 24\n",
      "Calculating economic impact...\n",
      "flood_DERP_RW_L_4326_2080434490 77804.24394163725\n",
      "Disrupted edges: 366\n",
      "Calculating economic impact...\n",
      "flood_DERP_RW_L_4326_2080434630 16657396.987006845\n",
      "Disrupted edges: 100\n",
      "Calculating economic impact...\n",
      "flood_DERP_RW_L_4326_2080435040 123366.55817528599\n",
      "Disrupted edges: 16\n",
      "No shortest paths disrupted for flood_DERP_RW_L_4326_2080435320. No economic impact.\n",
      "Disrupted edges: 4\n",
      "No shortest paths disrupted for flood_DERP_RW_L_4326_2080436860. No economic impact.\n",
      "Disrupted edges: 94\n",
      "Calculating economic impact...\n",
      "flood_DERP_RW_L_4326_2080436870 60041650.7749748\n",
      "Disrupted edges: 34\n",
      "Calculating economic impact...\n",
      "flood_DERP_RW_L_4326_2080437100 1412380.3533541248\n",
      "Disrupted edges: 4\n",
      "No shortest paths disrupted for flood_DERP_RW_L_4326_2080437230. No economic impact.\n",
      "Disrupted edges: 114\n",
      "No shortest paths disrupted for flood_DERP_RW_L_4326_2080437370. No economic impact.\n",
      "Disrupted edges: 66\n",
      "No shortest paths disrupted for flood_DERP_RW_L_4326_2080438230. No economic impact.\n",
      "Disrupted edges: 224\n",
      "Calculating economic impact...\n",
      "flood_DERP_RW_L_4326_2080438240 4228873.256407391\n",
      "Disrupted edges: 72\n",
      "Calculating economic impact...\n",
      "flood_DERP_RW_L_4326_2080438400 2515588.981468116\n",
      "Disrupted edges: 22\n",
      "Calculating economic impact...\n",
      "flood_DERP_RW_L_4326_2080438410 211929.71208141625\n",
      "Disrupted edges: 26\n",
      "Calculating economic impact...\n",
      "flood_DERP_RW_L_4326_2080439400 4367040.9511632435\n",
      "Disrupted edges: 2070\n",
      "Calculating economic impact...\n",
      "flood_DERP_RW_L_4326_2080439410 23033657.952937774\n",
      "Disrupted edges: 1530\n",
      "Calculating economic impact...\n",
      "flood_DERP_RW_L_4326_2080441280 86454996.3806147\n",
      "Disrupted edges: 74\n",
      "Calculating economic impact...\n",
      "flood_DERP_RW_L_4326_2080446220 9973071.277600856\n",
      "Disrupted edges: 168\n",
      "No shortest paths disrupted for flood_DERP_RW_L_4326_2080446320. No economic impact.\n",
      "Disrupted edges: 624\n",
      "Calculating economic impact...\n",
      "flood_DERP_RW_L_4326_2080447840 9534405.528162554\n",
      "Disrupted edges: 22\n",
      "Calculating economic impact...\n",
      "flood_DERP_RW_L_4326_2080447970 291992.3016695383\n",
      "Disrupted edges: 12\n",
      "Calculating economic impact...\n",
      "flood_DERP_RW_L_4326_2080448120 92839.49818429674\n",
      "Disrupted edges: 22\n",
      "Calculating economic impact...\n",
      "flood_DERP_RW_L_4326_2080451930 92839.49818429674\n",
      "Disrupted edges: 6\n",
      "Calculating economic impact...\n",
      "flood_DERP_RW_M_4326_2080410170 934072.5473120885\n",
      "Disrupted edges: 16\n",
      "Calculating economic impact...\n",
      "flood_DERP_RW_M_4326_2080410430 379368.28527659236\n",
      "Disrupted edges: 16\n",
      "Calculating economic impact...\n",
      "flood_DERP_RW_M_4326_2080410540 2579273.6645786157\n",
      "Disrupted edges: 92\n",
      "Calculating economic impact...\n",
      "flood_DERP_RW_M_4326_2080411370 12107907.864391271\n",
      "Disrupted edges: 206\n",
      "Calculating economic impact...\n",
      "flood_DERP_RW_M_4326_2080416210 41985843.29636907\n",
      "Disrupted edges: 60\n",
      "Calculating economic impact...\n",
      "flood_DERP_RW_M_4326_2080418600 12130206.504741728\n",
      "Disrupted edges: 10\n",
      "Calculating economic impact...\n",
      "flood_DERP_RW_M_4326_2080418880 18070840.355869815\n",
      "Disrupted edges: 32\n",
      "Calculating economic impact...\n",
      "flood_DERP_RW_M_4326_2080418890 18070840.355869815\n",
      "Disrupted edges: 158\n",
      "No shortest paths disrupted for flood_DERP_RW_M_4326_2080419180. No economic impact.\n",
      "Disrupted edges: 36\n",
      "Calculating economic impact...\n",
      "flood_DERP_RW_M_4326_2080420240 10218680.672079321\n",
      "Disrupted edges: 34\n",
      "Calculating economic impact...\n",
      "flood_DERP_RW_M_4326_2080420340 9874331.528506137\n",
      "Disrupted edges: 60\n",
      "Calculating economic impact...\n",
      "flood_DERP_RW_M_4326_2080421680 880514.6532113751\n",
      "Disrupted edges: 104\n",
      "Calculating economic impact...\n",
      "flood_DERP_RW_M_4326_2080421770 37736285.70972274\n",
      "Disrupted edges: 10\n",
      "No shortest paths disrupted for flood_DERP_RW_M_4326_2080428160. No economic impact.\n",
      "Disrupted edges: 102\n",
      "Calculating economic impact...\n",
      "flood_DERP_RW_M_4326_2080429430 16776540.884154579\n",
      "Disrupted edges: 4\n",
      "Calculating economic impact...\n",
      "flood_DERP_RW_M_4326_2080429540 233113.6427823304\n",
      "Disrupted edges: 138\n",
      "Calculating economic impact...\n",
      "flood_DERP_RW_M_4326_2080429770 139106.9791134433\n",
      "Disrupted edges: 72\n",
      "Calculating economic impact...\n",
      "flood_DERP_RW_M_4326_2080430240 5678487.661751113\n",
      "Disrupted edges: 60\n",
      "Calculating economic impact...\n",
      "flood_DERP_RW_M_4326_2080430320 15428353.417355444\n",
      "Disrupted edges: 120\n",
      "Calculating economic impact...\n",
      "flood_DERP_RW_M_4326_2080431110 139106.9791134433\n",
      "Disrupted edges: 6\n",
      "Calculating economic impact...\n",
      "flood_DERP_RW_M_4326_2080432400 8705.056462712346\n",
      "Disrupted edges: 14\n",
      "Calculating economic impact...\n",
      "flood_DERP_RW_M_4326_2080432510 23068.4001920928\n",
      "Disrupted edges: 8\n",
      "Calculating economic impact...\n",
      "flood_DERP_RW_M_4326_2080434280 24642.764029925063\n",
      "Disrupted edges: 64\n",
      "Calculating economic impact...\n",
      "flood_DERP_RW_M_4326_2080434470 78385.06382313876\n",
      "Disrupted edges: 16\n",
      "Calculating economic impact...\n",
      "flood_DERP_RW_M_4326_2080434490 15560.84878832745\n",
      "Disrupted edges: 170\n",
      "Calculating economic impact...\n",
      "flood_DERP_RW_M_4326_2080434630 1333646.5115052862\n",
      "Disrupted edges: 28\n",
      "Calculating economic impact...\n",
      "flood_DERP_RW_M_4326_2080435040 24642.764029925063\n",
      "Disrupted edges: 8\n",
      "No shortest paths disrupted for flood_DERP_RW_M_4326_2080435320. No economic impact.\n",
      "Disrupted edges: 74\n",
      "Calculating economic impact...\n",
      "flood_DERP_RW_M_4326_2080436870 12008330.154994959\n",
      "Disrupted edges: 26\n",
      "Calculating economic impact...\n",
      "flood_DERP_RW_M_4326_2080437100 282476.07067082496\n",
      "Disrupted edges: 8\n",
      "Calculating economic impact...\n",
      "flood_DERP_RW_M_4326_2080437230 9536967.196789\n",
      "Disrupted edges: 58\n",
      "No shortest paths disrupted for flood_DERP_RW_M_4326_2080437370. No economic impact.\n",
      "Disrupted edges: 42\n",
      "No shortest paths disrupted for flood_DERP_RW_M_4326_2080438230. No economic impact.\n",
      "Disrupted edges: 100\n",
      "Calculating economic impact...\n",
      "flood_DERP_RW_M_4326_2080438240 845774.6512814781\n",
      "Disrupted edges: 40\n",
      "Calculating economic impact...\n",
      "flood_DERP_RW_M_4326_2080438400 503117.79629362316\n",
      "Disrupted edges: 20\n",
      "Calculating economic impact...\n",
      "flood_DERP_RW_M_4326_2080438410 42385.942416283244\n",
      "Disrupted edges: 22\n",
      "Calculating economic impact...\n",
      "flood_DERP_RW_M_4326_2080439400 857384.427403657\n",
      "Disrupted edges: 292\n",
      "Calculating economic impact...\n",
      "flood_DERP_RW_M_4326_2080439410 3064009.4349324075\n",
      "Disrupted edges: 964\n",
      "Calculating economic impact...\n",
      "flood_DERP_RW_M_4326_2080441280 7433046.526934566\n",
      "Disrupted edges: 64\n",
      "Calculating economic impact...\n",
      "flood_DERP_RW_M_4326_2080446220 1994614.2555201715\n",
      "Disrupted edges: 168\n",
      "No shortest paths disrupted for flood_DERP_RW_M_4326_2080446320. No economic impact.\n",
      "Disrupted edges: 556\n",
      "Calculating economic impact...\n",
      "flood_DERP_RW_M_4326_2080447840 1906881.1056325112\n",
      "Disrupted edges: 14\n",
      "Calculating economic impact...\n",
      "flood_DERP_RW_M_4326_2080447970 58398.460333907664\n",
      "Disrupted edges: 12\n",
      "Calculating economic impact...\n",
      "flood_DERP_RW_M_4326_2080448120 18567.89963685935\n",
      "Disrupted edges: 6\n",
      "Calculating economic impact...\n",
      "flood_DERP_RW_M_4326_2080451930 18567.89963685935\n"
     ]
    }
   ],
   "source": [
    "# Loop through the event files and calculate the economic impact of each event\n",
    "disrupted_asset_lengths={}\n",
    "disrupted_shortest_paths={}\n",
    "event_impacts={}\n",
    "disrupted_edges_by_basin={}\n",
    "\n",
    "for hazard_map, asset_dict in collect_output.items():\n",
    "    disrupted_assets = [key for key in asset_dict.keys()]\n",
    "    disrupted_osm_ids = [\n",
    "        assets.loc[asset_index]['osm_id'] \n",
    "        for asset_index in disrupted_assets \n",
    "        if asset_index in assets.index and (\n",
    "            (assets.loc[asset_index]['bridge'] != 'yes') \n",
    "            and (assets.loc[asset_index]['tunnel'] != 'yes')\n",
    "            and (assets.loc[asset_index]['osm_id'] is not None)\n",
    "            )\n",
    "        ]\n",
    "    \n",
    "    if len(disrupted_osm_ids)==0:\n",
    "        continue\n",
    "\n",
    "    disrupted_edges=[]\n",
    "    \n",
    "    for u,v,attr in graph_0.edges(data=True):\n",
    "        if 'osm_id' not in attr: \n",
    "            continue\n",
    "        if attr['bridge']=='yes' or attr['tunnel']=='yes':\n",
    "            continue\n",
    "        matching_ids=[osm_id for osm_id in attr['osm_id'].split('; ') if osm_id in disrupted_osm_ids]\n",
    "        if len(matching_ids)>0:\n",
    "            disrupted_edges.append((u,v))\n",
    "            \n",
    "    print(f'Disrupted edges: {len(disrupted_edges)}')\n",
    "\n",
    "    # If there are no disrupted edges in the event, move to next event\n",
    "    if len(disrupted_edges)==0:\n",
    "        continue\n",
    "    \n",
    "    disrupted_edges_by_basin[hazard_map]=disrupted_edges\n",
    "    disrupted_shortest_paths[hazard_map]=calculate_new_paths(graph_v0, shortest_paths, disrupted_edges)\n",
    "\n",
    "    if disrupted_shortest_paths[hazard_map] == {}: # No disrupted paths, no economic impact\n",
    "        print(f'No shortest paths disrupted for {hazard_map}. No economic impact.')\n",
    "        continue\n",
    "\n",
    "\n",
    "    print('Calculating economic impact...')\n",
    "    impact=calculate_economic_impact_shortest_paths(hazard_map, graph_v, shortest_paths, disrupted_shortest_paths[hazard_map], average_train_load_tons, average_train_cost_per_ton_km, average_road_cost_per_ton_km)\n",
    "    event_impacts[hazard_map]=impact\n",
    "    print(hazard_map, impact)"
   ]
  },
  {
   "cell_type": "code",
   "execution_count": 24,
   "metadata": {},
   "outputs": [
    {
     "data": {
      "text/plain": [
       "{2080428160: {'_H_': 0, '_M_': 0, '_L_': 0},\n",
       " 2080438400: {'_H_': 211198.59597096598,\n",
       "  '_L_': 2515588.981468116,\n",
       "  '_M_': 503117.79629362316},\n",
       " 2080432510: {'_H_': 1017.7721284053152,\n",
       "  '_L_': 394155.7286440181,\n",
       "  '_M_': 23068.4001920928},\n",
       " 2080431110: {'_L_': 695534.8955672166, '_M_': 139106.9791134433, '_H_': 0},\n",
       " 2080431750: {'_H_': 0, '_M_': 0, '_L_': 0},\n",
       " 2080410760: {'_H_': 0, '_M_': 0, '_L_': 0},\n",
       " 2080436870: {'_L_': 60041650.7749748, '_M_': 12008330.154994959, '_H_': 0},\n",
       " 2080421770: {'_H_': 10752834.934709515,\n",
       "  '_L_': 323394013.9214329,\n",
       "  '_M_': 37736285.70972274},\n",
       " 2080438410: {'_H_': 21192.971208141622,\n",
       "  '_L_': 211929.71208141625,\n",
       "  '_M_': 42385.942416283244},\n",
       " 2080446220: {'_H_': 997307.1277600857,\n",
       "  '_L_': 9973071.277600856,\n",
       "  '_M_': 1994614.2555201715},\n",
       " 2080420240: {'_H_': 5109340.3360396605,\n",
       "  '_L_': 82149542.12110929,\n",
       "  '_M_': 10218680.672079321},\n",
       " 2080432400: {'_H_': 4352.528231356173,\n",
       "  '_L_': 43525.28231356172,\n",
       "  '_M_': 8705.056462712346},\n",
       " 2080418720: {'_L_': 60504058.201826274, '_H_': 0, '_M_': 0},\n",
       " 2080430240: {'_H_': 2839243.8308755565,\n",
       "  '_L_': 28392438.30875557,\n",
       "  '_M_': 5678487.661751113},\n",
       " 2080410660: {'_H_': 0, '_M_': 0, '_L_': 0},\n",
       " 2080434470: {'_H_': 39192.53191156938,\n",
       "  '_L_': 26900482.576790575,\n",
       "  '_M_': 78385.06382313876},\n",
       " 2080418600: {'_H_': 6065103.252370864,\n",
       "  '_L_': 62337283.429946326,\n",
       "  '_M_': 12130206.504741728},\n",
       " 2080433960: {'_H_': 0, '_M_': 0, '_L_': 0},\n",
       " 2080410540: {'_H_': 1289636.8322893078,\n",
       "  '_L_': 14771126.827637013,\n",
       "  '_M_': 2579273.6645786157},\n",
       " 2080431660: {'_H_': 0, '_M_': 0, '_L_': 0},\n",
       " 2080421680: {'_H_': 440257.32660568756,\n",
       "  '_L_': 89822880.20053455,\n",
       "  '_M_': 880514.6532113751},\n",
       " 2080428080: {'_H_': 0, '_M_': 0, '_L_': 0},\n",
       " 2080436660: {'_H_': 0, '_M_': 0, '_L_': 0},\n",
       " 2080410170: {'_H_': 467036.2736560443,\n",
       "  '_L_': 4670362.7365604425,\n",
       "  '_M_': 934072.5473120885},\n",
       " 2080434490: {'_L_': 77804.24394163725, '_M_': 15560.84878832745, '_H_': 0},\n",
       " 2080410430: {'_H_': 189684.14263829618,\n",
       "  '_L_': 1896841.4263829621,\n",
       "  '_M_': 379368.28527659236},\n",
       " 2080418880: {'_H_': 9035420.177934907,\n",
       "  '_L_': 90354201.77934909,\n",
       "  '_M_': 18070840.355869815},\n",
       " 2080441280: {'_H_': 249411.64564794608,\n",
       "  '_L_': 86454996.3806147,\n",
       "  '_M_': 7433046.526934566},\n",
       " 2080434630: {'_L_': 16657396.987006845, '_M_': 1333646.5115052862, '_H_': 0},\n",
       " 2080416200: {'_H_': 0, '_M_': 0, '_L_': 0},\n",
       " 2080418890: {'_L_': 305638100.25617903, '_M_': 18070840.355869815, '_H_': 0},\n",
       " 2080429770: {'_H_': 69553.48955672164,\n",
       "  '_L_': 695534.8955672166,\n",
       "  '_M_': 139106.9791134433},\n",
       " 2080433740: {'_H_': 0, '_M_': 0, '_L_': 0},\n",
       " 2080448120: {'_L_': 92839.49818429674, '_M_': 18567.89963685935, '_H_': 0},\n",
       " 2080416210: {'_H_': 20992921.648184534,\n",
       "  '_L_': 209929216.48184538,\n",
       "  '_M_': 41985843.29636907},\n",
       " 2080428500: {'_L_': 47179329.23691983, '_H_': 0, '_M_': 0},\n",
       " 2080438230: {'_H_': 0, '_M_': 0, '_L_': 0},\n",
       " 2080451930: {'_H_': 9283.949818429675,\n",
       "  '_L_': 92839.49818429674,\n",
       "  '_M_': 18567.89963685935},\n",
       " 2080435040: {'_H_': 12321.382014962532,\n",
       "  '_L_': 123366.55817528599,\n",
       "  '_M_': 24642.764029925063},\n",
       " 2080438240: {'_L_': 4228873.256407391, '_M_': 845774.6512814781, '_H_': 0},\n",
       " 2080447840: {'_H_': 888650.7271445382,\n",
       "  '_L_': 9534405.528162554,\n",
       "  '_M_': 1906881.1056325112},\n",
       " 2080447970: {'_H_': 29199.230166953832,\n",
       "  '_L_': 291992.3016695383,\n",
       "  '_M_': 58398.460333907664},\n",
       " 2080429540: {'_H_': 116556.8213911652,\n",
       "  '_L_': 1165568.213911652,\n",
       "  '_M_': 233113.6427823304},\n",
       " 2080429670: {'_H_': 0, '_M_': 0, '_L_': 0},\n",
       " 2080434150: {'_H_': 0, '_M_': 0, '_L_': 0},\n",
       " 2080434280: {'_H_': 12321.382014962532,\n",
       "  '_L_': 123213.8201496253,\n",
       "  '_M_': 24642.764029925063},\n",
       " 2080439400: {'_L_': 4367040.9511632435, '_M_': 857384.427403657, '_H_': 0},\n",
       " 2080411370: {'_H_': 6050405.820182627,\n",
       "  '_L_': 182563732.3292682,\n",
       "  '_M_': 12107907.864391271},\n",
       " 2080419180: {'_H_': 0, '_M_': 0, '_L_': 0},\n",
       " 2080437100: {'_H_': 141238.03533541248,\n",
       "  '_L_': 1412380.3533541248,\n",
       "  '_M_': 282476.07067082496},\n",
       " 2080437230: {'_H_': 4768483.5983945, '_M_': 9536967.196789, '_L_': 0},\n",
       " 2080430320: {'_H_': 47481.49151079169,\n",
       "  '_L_': 77141767.08677721,\n",
       "  '_M_': 15428353.417355444},\n",
       " 2080433520: {'_H_': 0, '_M_': 0, '_L_': 0},\n",
       " 2080439410: {'_L_': 23033657.952937774, '_M_': 3064009.4349324075, '_H_': 0},\n",
       " 2080446320: {'_H_': 0, '_M_': 0, '_L_': 0},\n",
       " 2080420340: {'_L_': 49371657.642530695, '_M_': 9874331.528506137, '_H_': 0},\n",
       " 2080429430: {'_H_': 8298111.664361271,\n",
       "  '_L_': 86021270.99097747,\n",
       "  '_M_': 16776540.884154579},\n",
       " 2080435320: {'_H_': 0, '_M_': 0, '_L_': 0},\n",
       " 2080437370: {'_H_': 0, '_M_': 0, '_L_': 0},\n",
       " 2080436860: {'_H_': 0, '_M_': 0, '_L_': 0},\n",
       " 2080419070: {'_H_': 0, '_M_': 0, '_L_': 0}}"
      ]
     },
     "execution_count": 24,
     "metadata": {},
     "output_type": "execute_result"
    }
   ],
   "source": [
    "files = [file for file in os.listdir('C:/Data/interim/collected_flood_runs') if file.endswith('.pkl') and file.startswith('overlay')]\n",
    "basins_list=list(set([int(file.split('.')[0].split('_')[-1]) for file in files]))\n",
    "basin_dict = {}\n",
    "for basin in basins_list:\n",
    "    basin_dict[basin] = {}\n",
    "    for key in event_impacts.keys():\n",
    "        if not str(basin) in key:\n",
    "            continue\n",
    "        if str(basin) in key:\n",
    "            basin_dict[basin][key.split('_RW')[-1][0:3]] = event_impacts[key]\n",
    "\n",
    "\n",
    "for rp in return_period_dict.keys():\n",
    "    # add rp as a key to all nested dictionaries with 0 as a value if the rp is not already a key\n",
    "    for basin in basin_dict.keys():\n",
    "        if rp not in basin_dict[basin].keys():\n",
    "            basin_dict[basin][rp] = 0\n",
    "\n",
    "basin_dict\n",
    "          "
   ]
  },
  {
   "cell_type": "code",
   "execution_count": 25,
   "metadata": {},
   "outputs": [],
   "source": [
    "\n",
    "aggregated_df_by_basin = {}\n",
    "ead_by_ts_by_basin = {}\n",
    "\n",
    "for basin, damage_dict in basin_dict.items():\n",
    "    if len(damage_dict) == 0:\n",
    "        continue\n",
    "\n",
    "    aggregated_df_by_basin[basin] = pd.DataFrame.from_dict(damage_dict, orient='index', columns=['Total indirect damage'])\n",
    "    aggregated_df_by_basin[basin]['Return Period'] = [return_periods[index] for index in aggregated_df_by_basin[basin].index]\n",
    "    probabilities = [[1 / rp for rp in ts] for ts in aggregated_df_by_basin[basin]['Return Period']]\n",
    "    aggregated_df_by_basin[basin]['Probability'] = probabilities\n",
    "    dmgs = []\n",
    "\n",
    "    for ts in range(len(probabilities[0])):    \n",
    "        dmgs_m = []\n",
    "\n",
    "        for rp in range(len(probabilities)-1):\n",
    "            d_rp= probabilities[rp][ts] - probabilities[rp + 1][ts]\n",
    "            trap_damage_m = 0.5 * (aggregated_df_by_basin[basin]['Total indirect damage'].iloc[rp] + aggregated_df_by_basin[basin]['Total indirect damage'].iloc[rp + 1])\n",
    "            dmgs_m.append(d_rp * trap_damage_m)\n",
    "        \n",
    "        # Add the portion of damages corresponding to the tails of the distribution\n",
    "        d0_rp = probabilities[-1][ts]\n",
    "        damage_m0 = max(aggregated_df_by_basin[basin]['Total indirect damage'])\n",
    "        dmgs_m.append(d0_rp * damage_m0)\n",
    "\n",
    "        d_end_rp = (1/4)-probabilities[0][ts]\n",
    "        damage_m_end = 0.5 * min(aggregated_df_by_basin[basin]['Total indirect damage'])\n",
    "\n",
    "        dmgs_m.append(d_end_rp * damage_m_end)\n",
    "\n",
    "        dmgs.append((sum(dmgs_m)))\n",
    "    \n",
    "    ead_by_ts_by_basin[basin] = pd.DataFrame(dmgs, columns=['Total indirect damage'])\n"
   ]
  },
  {
   "cell_type": "code",
   "execution_count": 36,
   "metadata": {},
   "outputs": [
    {
     "data": {
      "text/html": [
       "<div>\n",
       "<style scoped>\n",
       "    .dataframe tbody tr th:only-of-type {\n",
       "        vertical-align: middle;\n",
       "    }\n",
       "\n",
       "    .dataframe tbody tr th {\n",
       "        vertical-align: top;\n",
       "    }\n",
       "\n",
       "    .dataframe thead th {\n",
       "        text-align: right;\n",
       "    }\n",
       "</style>\n",
       "<table border=\"1\" class=\"dataframe\">\n",
       "  <thead>\n",
       "    <tr style=\"text-align: right;\">\n",
       "      <th></th>\n",
       "      <th>Total indirect damage</th>\n",
       "    </tr>\n",
       "  </thead>\n",
       "  <tbody>\n",
       "    <tr>\n",
       "      <th>0</th>\n",
       "      <td>4.766995e+06</td>\n",
       "    </tr>\n",
       "    <tr>\n",
       "      <th>1</th>\n",
       "      <td>4.833803e+06</td>\n",
       "    </tr>\n",
       "    <tr>\n",
       "      <th>2</th>\n",
       "      <td>4.900612e+06</td>\n",
       "    </tr>\n",
       "    <tr>\n",
       "      <th>3</th>\n",
       "      <td>4.967420e+06</td>\n",
       "    </tr>\n",
       "    <tr>\n",
       "      <th>4</th>\n",
       "      <td>5.034228e+06</td>\n",
       "    </tr>\n",
       "    <tr>\n",
       "      <th>...</th>\n",
       "      <td>...</td>\n",
       "    </tr>\n",
       "    <tr>\n",
       "      <th>96</th>\n",
       "      <td>1.118059e+07</td>\n",
       "    </tr>\n",
       "    <tr>\n",
       "      <th>97</th>\n",
       "      <td>1.124740e+07</td>\n",
       "    </tr>\n",
       "    <tr>\n",
       "      <th>98</th>\n",
       "      <td>1.131421e+07</td>\n",
       "    </tr>\n",
       "    <tr>\n",
       "      <th>99</th>\n",
       "      <td>1.138102e+07</td>\n",
       "    </tr>\n",
       "    <tr>\n",
       "      <th>100</th>\n",
       "      <td>1.144783e+07</td>\n",
       "    </tr>\n",
       "  </tbody>\n",
       "</table>\n",
       "<p>101 rows × 1 columns</p>\n",
       "</div>"
      ],
      "text/plain": [
       "     Total indirect damage\n",
       "0             4.766995e+06\n",
       "1             4.833803e+06\n",
       "2             4.900612e+06\n",
       "3             4.967420e+06\n",
       "4             5.034228e+06\n",
       "..                     ...\n",
       "96            1.118059e+07\n",
       "97            1.124740e+07\n",
       "98            1.131421e+07\n",
       "99            1.138102e+07\n",
       "100           1.144783e+07\n",
       "\n",
       "[101 rows x 1 columns]"
      ]
     },
     "execution_count": 36,
     "metadata": {},
     "output_type": "execute_result"
    }
   ],
   "source": [
    "ead_by_ts_by_basin[2080441280]"
   ]
  },
  {
   "cell_type": "code",
   "execution_count": 27,
   "metadata": {},
   "outputs": [
    {
     "data": {
      "text/plain": [
       "{2080428160: 0.0,\n",
       " 2080438400: 25956134.483415708,\n",
       " 2080432510: 3738812.9080085093,\n",
       " 2080431110: 9213159.556917684,\n",
       " 2080431750: 0.0,\n",
       " 2080410760: 0.0,\n",
       " 2080436870: 795320712.4129324,\n",
       " 2080421770: 3168048649.6133223,\n",
       " 2080438410: 2225307.0119186877,\n",
       " 2080446220: 104719367.69245549,\n",
       " 2080420240: 831338574.0265847,\n",
       " 2080432400: 457024.71341488976,\n",
       " 2080418720: -148953428.28562105,\n",
       " 2080430240: 298126635.6350741,\n",
       " 2080410660: 0.0,\n",
       " 2080434470: 255787541.7392105,\n",
       " 2080418600: 652857995.9471726,\n",
       " 2080433960: 0.0,\n",
       " 2080410540: 153213565.11268488,\n",
       " 2080431660: 0.0,\n",
       " 2080421680: 857208348.8763474,\n",
       " 2080428080: 0.0,\n",
       " 2080436660: 0.0,\n",
       " 2080410170: 49039801.18596616,\n",
       " 2080434490: 1030606.6858875183,\n",
       " 2080410430: 19917238.05582421,\n",
       " 2080418880: 948738318.9510436,\n",
       " 2080441280: 818848573.8066744,\n",
       " 2080434630: 233232476.5514753,\n",
       " 2080416200: 0.0,\n",
       " 2080418890: 4319780451.6917305,\n",
       " 2080429770: 7303264.204621082,\n",
       " 2080433740: 0.0,\n",
       " 2080448120: 1229765.9188739224,\n",
       " 2080416210: 2204301383.017879,\n",
       " 2080428500: -116149611.16514198,\n",
       " 2080438230: 0.0,\n",
       " 2080451930: 974834.4593284801,\n",
       " 2080435040: 1295221.38932347,\n",
       " 2080438240: 56016289.48536077,\n",
       " 2080447840: 99377927.68423577,\n",
       " 2080447970: 3065981.215894257,\n",
       " 2080429540: 12238713.929317806,\n",
       " 2080429670: 0.0,\n",
       " 2080434150: 0.0,\n",
       " 2080434280: 1293771.2945078476,\n",
       " 2080439400: 57947427.198103294,\n",
       " 2080411370: 1794135445.3162327,\n",
       " 2080419180: 0.0,\n",
       " 2080437100: 14830293.8410434,\n",
       " 2080437230: 111373895.04500155,\n",
       " 2080430320: 722988914.6587242,\n",
       " 2080433520: 0.0,\n",
       " 2080439410: 314826245.0336647,\n",
       " 2080446320: 0.0,\n",
       " 2080420340: 653984382.8816081,\n",
       " 2080429430: 900066481.6530975,\n",
       " 2080435320: 0.0,\n",
       " 2080437370: 0.0,\n",
       " 2080436860: 0.0,\n",
       " 2080419070: 0.0}"
      ]
     },
     "execution_count": 27,
     "metadata": {},
     "output_type": "execute_result"
    }
   ],
   "source": [
    "# Find total damages by basin over the 100 y period\n",
    "total_damages_by_basin = {basin: ead_by_ts_by_basin[basin].values.sum() for basin in ead_by_ts_by_basin.keys()}\n",
    "total_damages_by_basin\n"
   ]
  },
  {
   "cell_type": "code",
   "execution_count": 28,
   "metadata": {},
   "outputs": [
    {
     "data": {
      "image/png": "[encoded data removed]",
      "text/plain": [
       "<Figure size 640x480 with 1 Axes>"
      ]
     },
     "metadata": {},
     "output_type": "display_data"
    }
   ],
   "source": [
    "#plot the EAD for each basin    \n",
    "from matplotlib import pyplot as plt\n",
    "for basin, ead_df in ead_by_ts_by_basin.items():\n",
    "    plt.plot(ead_df, label=basin)\n",
    "        "
   ]
  },
  {
   "cell_type": "code",
   "execution_count": 31,
   "metadata": {},
   "outputs": [
    {
     "name": "stderr",
     "output_type": "stream",
     "text": [
      "c:\\Users\\peregrin\\AppData\\Local\\anaconda3\\envs\\ci_adapt_env\\Lib\\site-packages\\geopandas\\geodataframe.py:1543: SettingWithCopyWarning: \n",
      "A value is trying to be set on a copy of a slice from a DataFrame.\n",
      "Try using .loc[row_indexer,col_indexer] = value instead\n",
      "\n",
      "See the caveats in the documentation: https://pandas.pydata.org/pandas-docs/stable/user_guide/indexing.html#returning-a-view-versus-a-copy\n",
      "  super().__setitem__(key, value)\n"
     ]
    },
    {
     "data": {
      "text/html": [
       "<div>\n",
       "<style scoped>\n",
       "    .dataframe tbody tr th:only-of-type {\n",
       "        vertical-align: middle;\n",
       "    }\n",
       "\n",
       "    .dataframe tbody tr th {\n",
       "        vertical-align: top;\n",
       "    }\n",
       "\n",
       "    .dataframe thead th {\n",
       "        text-align: right;\n",
       "    }\n",
       "</style>\n",
       "<table border=\"1\" class=\"dataframe\">\n",
       "  <thead>\n",
       "    <tr style=\"text-align: right;\">\n",
       "      <th></th>\n",
       "      <th>HYBAS_ID</th>\n",
       "      <th>NEXT_DOWN</th>\n",
       "      <th>NEXT_SINK</th>\n",
       "      <th>MAIN_BAS</th>\n",
       "      <th>DIST_SINK</th>\n",
       "      <th>DIST_MAIN</th>\n",
       "      <th>SUB_AREA</th>\n",
       "      <th>UP_AREA</th>\n",
       "      <th>PFAF_ID</th>\n",
       "      <th>ENDO</th>\n",
       "      <th>COAST</th>\n",
       "      <th>ORDER</th>\n",
       "      <th>SORT</th>\n",
       "      <th>geometry</th>\n",
       "      <th>damage</th>\n",
       "    </tr>\n",
       "  </thead>\n",
       "  <tbody>\n",
       "    <tr>\n",
       "      <th>6346</th>\n",
       "      <td>2080411370</td>\n",
       "      <td>2080399810</td>\n",
       "      <td>2080023010</td>\n",
       "      <td>2080023010</td>\n",
       "      <td>380.2</td>\n",
       "      <td>380.2</td>\n",
       "      <td>243.7</td>\n",
       "      <td>140600.1</td>\n",
       "      <td>23261091</td>\n",
       "      <td>0</td>\n",
       "      <td>0</td>\n",
       "      <td>1</td>\n",
       "      <td>6347</td>\n",
       "      <td>POLYGON ((7.10417 50.75000, 7.10417 50.75417, ...</td>\n",
       "      <td>1.794135e+09</td>\n",
       "    </tr>\n",
       "    <tr>\n",
       "      <th>6351</th>\n",
       "      <td>2080410660</td>\n",
       "      <td>2080410160</td>\n",
       "      <td>2080023010</td>\n",
       "      <td>2080023010</td>\n",
       "      <td>401.9</td>\n",
       "      <td>401.9</td>\n",
       "      <td>326.1</td>\n",
       "      <td>1562.0</td>\n",
       "      <td>23261085</td>\n",
       "      <td>0</td>\n",
       "      <td>0</td>\n",
       "      <td>2</td>\n",
       "      <td>6352</td>\n",
       "      <td>POLYGON ((7.72917 50.77083, 7.71758 50.77146, ...</td>\n",
       "      <td>0.000000e+00</td>\n",
       "    </tr>\n",
       "    <tr>\n",
       "      <th>6353</th>\n",
       "      <td>2080416210</td>\n",
       "      <td>2080411370</td>\n",
       "      <td>2080023010</td>\n",
       "      <td>2080023010</td>\n",
       "      <td>408.8</td>\n",
       "      <td>408.8</td>\n",
       "      <td>257.2</td>\n",
       "      <td>139454.7</td>\n",
       "      <td>23261093</td>\n",
       "      <td>0</td>\n",
       "      <td>0</td>\n",
       "      <td>1</td>\n",
       "      <td>6354</td>\n",
       "      <td>POLYGON ((7.27917 50.55417, 7.27917 50.55833, ...</td>\n",
       "      <td>2.204301e+09</td>\n",
       "    </tr>\n",
       "    <tr>\n",
       "      <th>6354</th>\n",
       "      <td>2080416200</td>\n",
       "      <td>2080411370</td>\n",
       "      <td>2080023010</td>\n",
       "      <td>2080023010</td>\n",
       "      <td>408.8</td>\n",
       "      <td>408.8</td>\n",
       "      <td>901.7</td>\n",
       "      <td>901.7</td>\n",
       "      <td>23261092</td>\n",
       "      <td>0</td>\n",
       "      <td>0</td>\n",
       "      <td>2</td>\n",
       "      <td>6355</td>\n",
       "      <td>POLYGON ((6.90833 50.26667, 6.90798 50.26909, ...</td>\n",
       "      <td>0.000000e+00</td>\n",
       "    </tr>\n",
       "    <tr>\n",
       "      <th>6357</th>\n",
       "      <td>2080418600</td>\n",
       "      <td>2080416210</td>\n",
       "      <td>2080023010</td>\n",
       "      <td>2080023010</td>\n",
       "      <td>428.5</td>\n",
       "      <td>428.5</td>\n",
       "      <td>737.4</td>\n",
       "      <td>737.6</td>\n",
       "      <td>23261094</td>\n",
       "      <td>0</td>\n",
       "      <td>0</td>\n",
       "      <td>2</td>\n",
       "      <td>6358</td>\n",
       "      <td>POLYGON ((7.57917 50.54167, 7.57860 50.53946, ...</td>\n",
       "      <td>6.528580e+08</td>\n",
       "    </tr>\n",
       "    <tr>\n",
       "      <th>...</th>\n",
       "      <td>...</td>\n",
       "      <td>...</td>\n",
       "      <td>...</td>\n",
       "      <td>...</td>\n",
       "      <td>...</td>\n",
       "      <td>...</td>\n",
       "      <td>...</td>\n",
       "      <td>...</td>\n",
       "      <td>...</td>\n",
       "      <td>...</td>\n",
       "      <td>...</td>\n",
       "      <td>...</td>\n",
       "      <td>...</td>\n",
       "      <td>...</td>\n",
       "      <td>...</td>\n",
       "    </tr>\n",
       "    <tr>\n",
       "      <th>6431</th>\n",
       "      <td>2080433960</td>\n",
       "      <td>2080436660</td>\n",
       "      <td>2080023010</td>\n",
       "      <td>2080023010</td>\n",
       "      <td>658.3</td>\n",
       "      <td>658.3</td>\n",
       "      <td>885.9</td>\n",
       "      <td>886.0</td>\n",
       "      <td>23262042</td>\n",
       "      <td>0</td>\n",
       "      <td>0</td>\n",
       "      <td>4</td>\n",
       "      <td>6432</td>\n",
       "      <td>POLYGON ((6.53750 49.87917, 6.53715 49.86841, ...</td>\n",
       "      <td>0.000000e+00</td>\n",
       "    </tr>\n",
       "    <tr>\n",
       "      <th>6432</th>\n",
       "      <td>2080434150</td>\n",
       "      <td>2080436660</td>\n",
       "      <td>2080023010</td>\n",
       "      <td>2080023010</td>\n",
       "      <td>658.4</td>\n",
       "      <td>658.4</td>\n",
       "      <td>290.5</td>\n",
       "      <td>3296.4</td>\n",
       "      <td>23262043</td>\n",
       "      <td>0</td>\n",
       "      <td>0</td>\n",
       "      <td>3</td>\n",
       "      <td>6433</td>\n",
       "      <td>POLYGON ((6.21667 49.68750, 6.21723 49.68971, ...</td>\n",
       "      <td>0.000000e+00</td>\n",
       "    </tr>\n",
       "    <tr>\n",
       "      <th>6464</th>\n",
       "      <td>2080451930</td>\n",
       "      <td>2080445670</td>\n",
       "      <td>2080023010</td>\n",
       "      <td>2080023010</td>\n",
       "      <td>738.9</td>\n",
       "      <td>738.9</td>\n",
       "      <td>738.3</td>\n",
       "      <td>1863.4</td>\n",
       "      <td>23262027</td>\n",
       "      <td>0</td>\n",
       "      <td>0</td>\n",
       "      <td>3</td>\n",
       "      <td>6465</td>\n",
       "      <td>POLYGON ((7.32917 49.23750, 7.32832 49.23418, ...</td>\n",
       "      <td>9.748345e+05</td>\n",
       "    </tr>\n",
       "    <tr>\n",
       "      <th>6479</th>\n",
       "      <td>2080447970</td>\n",
       "      <td>2080451930</td>\n",
       "      <td>2080023010</td>\n",
       "      <td>2080023010</td>\n",
       "      <td>781.1</td>\n",
       "      <td>781.1</td>\n",
       "      <td>609.0</td>\n",
       "      <td>609.0</td>\n",
       "      <td>23262029</td>\n",
       "      <td>0</td>\n",
       "      <td>0</td>\n",
       "      <td>3</td>\n",
       "      <td>6480</td>\n",
       "      <td>POLYGON ((7.59583 49.39583, 7.59668 49.39915, ...</td>\n",
       "      <td>3.065981e+06</td>\n",
       "    </tr>\n",
       "    <tr>\n",
       "      <th>6480</th>\n",
       "      <td>2080448120</td>\n",
       "      <td>2080451930</td>\n",
       "      <td>2080023010</td>\n",
       "      <td>2080023010</td>\n",
       "      <td>781.3</td>\n",
       "      <td>781.3</td>\n",
       "      <td>516.3</td>\n",
       "      <td>516.3</td>\n",
       "      <td>23262028</td>\n",
       "      <td>0</td>\n",
       "      <td>0</td>\n",
       "      <td>4</td>\n",
       "      <td>6481</td>\n",
       "      <td>POLYGON ((7.59167 49.13750, 7.59259 49.13392, ...</td>\n",
       "      <td>1.229766e+06</td>\n",
       "    </tr>\n",
       "  </tbody>\n",
       "</table>\n",
       "<p>61 rows × 15 columns</p>\n",
       "</div>"
      ],
      "text/plain": [
       "        HYBAS_ID   NEXT_DOWN   NEXT_SINK    MAIN_BAS  DIST_SINK  DIST_MAIN  \\\n",
       "6346  2080411370  2080399810  2080023010  2080023010      380.2      380.2   \n",
       "6351  2080410660  2080410160  2080023010  2080023010      401.9      401.9   \n",
       "6353  2080416210  2080411370  2080023010  2080023010      408.8      408.8   \n",
       "6354  2080416200  2080411370  2080023010  2080023010      408.8      408.8   \n",
       "6357  2080418600  2080416210  2080023010  2080023010      428.5      428.5   \n",
       "...          ...         ...         ...         ...        ...        ...   \n",
       "6431  2080433960  2080436660  2080023010  2080023010      658.3      658.3   \n",
       "6432  2080434150  2080436660  2080023010  2080023010      658.4      658.4   \n",
       "6464  2080451930  2080445670  2080023010  2080023010      738.9      738.9   \n",
       "6479  2080447970  2080451930  2080023010  2080023010      781.1      781.1   \n",
       "6480  2080448120  2080451930  2080023010  2080023010      781.3      781.3   \n",
       "\n",
       "      SUB_AREA   UP_AREA   PFAF_ID  ENDO  COAST  ORDER  SORT  \\\n",
       "6346     243.7  140600.1  23261091     0      0      1  6347   \n",
       "6351     326.1    1562.0  23261085     0      0      2  6352   \n",
       "6353     257.2  139454.7  23261093     0      0      1  6354   \n",
       "6354     901.7     901.7  23261092     0      0      2  6355   \n",
       "6357     737.4     737.6  23261094     0      0      2  6358   \n",
       "...        ...       ...       ...   ...    ...    ...   ...   \n",
       "6431     885.9     886.0  23262042     0      0      4  6432   \n",
       "6432     290.5    3296.4  23262043     0      0      3  6433   \n",
       "6464     738.3    1863.4  23262027     0      0      3  6465   \n",
       "6479     609.0     609.0  23262029     0      0      3  6480   \n",
       "6480     516.3     516.3  23262028     0      0      4  6481   \n",
       "\n",
       "                                               geometry        damage  \n",
       "6346  POLYGON ((7.10417 50.75000, 7.10417 50.75417, ...  1.794135e+09  \n",
       "6351  POLYGON ((7.72917 50.77083, 7.71758 50.77146, ...  0.000000e+00  \n",
       "6353  POLYGON ((7.27917 50.55417, 7.27917 50.55833, ...  2.204301e+09  \n",
       "6354  POLYGON ((6.90833 50.26667, 6.90798 50.26909, ...  0.000000e+00  \n",
       "6357  POLYGON ((7.57917 50.54167, 7.57860 50.53946, ...  6.528580e+08  \n",
       "...                                                 ...           ...  \n",
       "6431  POLYGON ((6.53750 49.87917, 6.53715 49.86841, ...  0.000000e+00  \n",
       "6432  POLYGON ((6.21667 49.68750, 6.21723 49.68971, ...  0.000000e+00  \n",
       "6464  POLYGON ((7.32917 49.23750, 7.32832 49.23418, ...  9.748345e+05  \n",
       "6479  POLYGON ((7.59583 49.39583, 7.59668 49.39915, ...  3.065981e+06  \n",
       "6480  POLYGON ((7.59167 49.13750, 7.59259 49.13392, ...  1.229766e+06  \n",
       "\n",
       "[61 rows x 15 columns]"
      ]
     },
     "execution_count": 31,
     "metadata": {},
     "output_type": "execute_result"
    }
   ],
   "source": [
    "import geopandas as gpd\n",
    "# from lonboard import viz  # Assuming 'lonboard' is a correct module name; if not, correct as necessary\n",
    "\n",
    "def georeference_damages(gdf, damages):\n",
    "    # Initialize 'damage' column to 0\n",
    "    gdf['damage'] = 0\n",
    "    # Vectorized operation to map damages based on 'HYBAS_ID'\n",
    "    damage_map = {key: value for key, value in damages.items() if key in gdf['HYBAS_ID'].tolist()}\n",
    "    gdf['damage'] = gdf['HYBAS_ID'].map(damage_map).fillna(0)\n",
    "    return gdf\n",
    "\n",
    "# Load basins GeoDataFrame\n",
    "basins = gpd.read_file(r'c:\\Data\\Floods\\basins\\hybas_eu_lev01-12_v1c\\hybas_eu_lev08_v1c_valid.shp')\n",
    "\n",
    "# Assuming 'basins_list' is a predefined list of 'HYBAS_ID's to filter by\n",
    "basins_filtered = basins[basins['HYBAS_ID'].isin(basins_list)]\n",
    "\n",
    "# Assuming 'ead_df' is a dictionary with 'HYBAS_ID' as keys and damage values as values\n",
    "ead_gdf = georeference_damages(basins_filtered, total_damages_by_basin)\n",
    "ead_gdf\n"
   ]
  },
  {
   "cell_type": "code",
   "execution_count": 32,
   "metadata": {},
   "outputs": [
    {
     "name": "stdout",
     "output_type": "stream",
     "text": [
      "Data saved to pickle files.\n"
     ]
    }
   ],
   "source": [
    "# save G and shortest paths to pickle files\n",
    "pickle.dump(graph_0, open(interim_data_path / 'graph_0.pkl', 'wb'))\n",
    "pickle.dump(shortest_paths, open(interim_data_path / 'shortest_paths.pkl', 'wb'))\n",
    "pickle.dump(disrupted_edges_by_basin, open(interim_data_path / 'disrupted_edges_by_basin.pkl', 'wb'))\n",
    "pickle.dump(disrupted_shortest_paths, open(interim_data_path / 'disrupted_shortest_paths.pkl', 'wb'))\n",
    "pickle.dump(event_impacts, open(interim_data_path / 'event_impacts.pkl', 'wb'))\n",
    "pickle.dump(ead_gdf, open(interim_data_path / 'ead_gdf.pkl', 'wb'))\n",
    "pickle.dump(ead_by_ts_by_basin, open(interim_data_path / 'ead_by_ts_by_basin.pkl', 'wb'))\n",
    "print('Data saved to pickle files.')\n"
   ]
  },
  {
   "cell_type": "code",
   "execution_count": null,
   "metadata": {},
   "outputs": [],
   "source": [
    "ead_by_ts_by_basin=pickle.load(open(interim_data_path / 'ead_by_ts_by_basin.pkl', 'rb'))"
   ]
  },
  {
   "cell_type": "code",
   "execution_count": null,
   "metadata": {},
   "outputs": [
    {
     "data": {
      "text/plain": [
       "{2080430320:      Total indirect damage\n",
       " 0             2.413722e+06\n",
       " 1             2.447520e+06\n",
       " 2             2.481319e+06\n",
       " 3             2.515118e+06\n",
       " 4             2.548917e+06\n",
       " ..                     ...\n",
       " 96            5.658409e+06\n",
       " 97            5.692208e+06\n",
       " 98            5.726007e+06\n",
       " 99            5.759806e+06\n",
       " 100           5.793604e+06\n",
       " \n",
       " [101 rows x 1 columns]}"
      ]
     },
     "execution_count": 26,
     "metadata": {},
     "output_type": "execute_result"
    }
   ],
   "source": [
    "ead_by_ts_by_basin"
   ]
  },
  {
   "cell_type": "code",
   "execution_count": 40,
   "metadata": {},
   "outputs": [
    {
     "ename": "AttributeError",
     "evalue": "'GeoDataFrame' object has no attribute 'flood_area'",
     "output_type": "error",
     "traceback": [
      "\u001b[1;31m---------------------------------------------------------------------------\u001b[0m",
      "\u001b[1;31mAttributeError\u001b[0m                            Traceback (most recent call last)",
      "\u001b[1;32m~\\AppData\\Local\\Temp\\ipykernel_7348\\2518163781.py\u001b[0m in \u001b[0;36m?\u001b[1;34m()\u001b[0m\n\u001b[0;32m     15\u001b[0m \u001b[0mflood_m\u001b[0m \u001b[1;33m=\u001b[0m \u001b[0mdata_path\u001b[0m \u001b[1;33m/\u001b[0m \u001b[0mflood_plot_path\u001b[0m\u001b[1;33m\u001b[0m\u001b[1;33m\u001b[0m\u001b[0m\n\u001b[0;32m     16\u001b[0m \u001b[0mflood_gdf\u001b[0m\u001b[1;33m=\u001b[0m\u001b[0mgpd\u001b[0m\u001b[1;33m.\u001b[0m\u001b[0mread_file\u001b[0m\u001b[1;33m(\u001b[0m\u001b[0mflood_m\u001b[0m\u001b[1;33m)\u001b[0m\u001b[1;33m\u001b[0m\u001b[1;33m\u001b[0m\u001b[0m\n\u001b[0;32m     17\u001b[0m \u001b[0mlayers_flood\u001b[0m\u001b[1;33m=\u001b[0m\u001b[1;33m[\u001b[0m\u001b[1;33m]\u001b[0m\u001b[1;33m\u001b[0m\u001b[1;33m\u001b[0m\u001b[0m\n\u001b[0;32m     18\u001b[0m \u001b[0mf_area_colors\u001b[0m \u001b[1;33m=\u001b[0m \u001b[1;33m{\u001b[0m\u001b[1;36m1\u001b[0m\u001b[1;33m:\u001b[0m\u001b[1;34m'blue'\u001b[0m\u001b[1;33m,\u001b[0m \u001b[1;36m3\u001b[0m\u001b[1;33m:\u001b[0m\u001b[1;34m'green'\u001b[0m\u001b[1;33m}\u001b[0m\u001b[1;33m\u001b[0m\u001b[1;33m\u001b[0m\u001b[0m\n\u001b[1;32m---> 19\u001b[1;33m \u001b[1;32mfor\u001b[0m \u001b[0mf_area\u001b[0m \u001b[1;32min\u001b[0m \u001b[0mflood_gdf\u001b[0m\u001b[1;33m.\u001b[0m\u001b[0mflood_area\u001b[0m\u001b[1;33m.\u001b[0m\u001b[0munique\u001b[0m\u001b[1;33m(\u001b[0m\u001b[1;33m)\u001b[0m\u001b[1;33m:\u001b[0m\u001b[1;33m\u001b[0m\u001b[1;33m\u001b[0m\u001b[0m\n\u001b[0m\u001b[0;32m     20\u001b[0m     \u001b[1;32mfor\u001b[0m \u001b[0mf_depth\u001b[0m \u001b[1;32min\u001b[0m \u001b[0mflood_gdf\u001b[0m\u001b[1;33m.\u001b[0m\u001b[0mdepth_class\u001b[0m\u001b[1;33m.\u001b[0m\u001b[0munique\u001b[0m\u001b[1;33m(\u001b[0m\u001b[1;33m)\u001b[0m\u001b[1;33m:\u001b[0m\u001b[1;33m\u001b[0m\u001b[1;33m\u001b[0m\u001b[0m\n\u001b[0;32m     21\u001b[0m         \u001b[0msubset_gdf\u001b[0m \u001b[1;33m=\u001b[0m \u001b[0mflood_gdf\u001b[0m\u001b[1;33m[\u001b[0m\u001b[1;33m(\u001b[0m\u001b[0mflood_gdf\u001b[0m\u001b[1;33m.\u001b[0m\u001b[0mdepth_class\u001b[0m\u001b[1;33m==\u001b[0m\u001b[0mf_depth\u001b[0m\u001b[1;33m)\u001b[0m \u001b[1;33m&\u001b[0m \u001b[1;33m(\u001b[0m\u001b[0mflood_gdf\u001b[0m\u001b[1;33m.\u001b[0m\u001b[0mflood_area\u001b[0m\u001b[1;33m==\u001b[0m\u001b[0mf_area\u001b[0m\u001b[1;33m)\u001b[0m\u001b[1;33m]\u001b[0m\u001b[1;33m\u001b[0m\u001b[1;33m\u001b[0m\u001b[0m\n\u001b[0;32m     22\u001b[0m         \u001b[1;32mif\u001b[0m \u001b[1;32mnot\u001b[0m \u001b[0msubset_gdf\u001b[0m\u001b[1;33m.\u001b[0m\u001b[0mempty\u001b[0m\u001b[1;33m:\u001b[0m\u001b[1;33m\u001b[0m\u001b[1;33m\u001b[0m\u001b[0m\n",
      "\u001b[1;32mc:\\Users\\peregrin\\AppData\\Local\\anaconda3\\envs\\ci_adapt_env\\Lib\\site-packages\\pandas\\core\\generic.py\u001b[0m in \u001b[0;36m?\u001b[1;34m(self, name)\u001b[0m\n\u001b[0;32m   6292\u001b[0m             \u001b[1;32mand\u001b[0m \u001b[0mname\u001b[0m \u001b[1;32mnot\u001b[0m \u001b[1;32min\u001b[0m \u001b[0mself\u001b[0m\u001b[1;33m.\u001b[0m\u001b[0m_accessors\u001b[0m\u001b[1;33m\u001b[0m\u001b[1;33m\u001b[0m\u001b[0m\n\u001b[0;32m   6293\u001b[0m             \u001b[1;32mand\u001b[0m \u001b[0mself\u001b[0m\u001b[1;33m.\u001b[0m\u001b[0m_info_axis\u001b[0m\u001b[1;33m.\u001b[0m\u001b[0m_can_hold_identifiers_and_holds_name\u001b[0m\u001b[1;33m(\u001b[0m\u001b[0mname\u001b[0m\u001b[1;33m)\u001b[0m\u001b[1;33m\u001b[0m\u001b[1;33m\u001b[0m\u001b[0m\n\u001b[0;32m   6294\u001b[0m         \u001b[1;33m)\u001b[0m\u001b[1;33m:\u001b[0m\u001b[1;33m\u001b[0m\u001b[1;33m\u001b[0m\u001b[0m\n\u001b[0;32m   6295\u001b[0m             \u001b[1;32mreturn\u001b[0m \u001b[0mself\u001b[0m\u001b[1;33m[\u001b[0m\u001b[0mname\u001b[0m\u001b[1;33m]\u001b[0m\u001b[1;33m\u001b[0m\u001b[1;33m\u001b[0m\u001b[0m\n\u001b[1;32m-> 6296\u001b[1;33m         \u001b[1;32mreturn\u001b[0m \u001b[0mobject\u001b[0m\u001b[1;33m.\u001b[0m\u001b[0m__getattribute__\u001b[0m\u001b[1;33m(\u001b[0m\u001b[0mself\u001b[0m\u001b[1;33m,\u001b[0m \u001b[0mname\u001b[0m\u001b[1;33m)\u001b[0m\u001b[1;33m\u001b[0m\u001b[1;33m\u001b[0m\u001b[0m\n\u001b[0m",
      "\u001b[1;31mAttributeError\u001b[0m: 'GeoDataFrame' object has no attribute 'flood_area'"
     ]
    }
   ],
   "source": [
    "# Create visualisation for the basin and the discharge points\n",
    "from lonboard import Map, PolygonLayer, PathLayer\n",
    "\n",
    "layer_basin = None#PolygonLayer.from_geopandas(basins_filtered,\n",
    "    # get_fill_color=miraca_colors['grey_100'],\n",
    "    # get_line_color=miraca_colors['green_900'], get_line_width=100,\n",
    "    # auto_highlight=False,\n",
    "    # filled=False)\n",
    "\n",
    "# Flood return period: H for frequent(RP10-20), M for 100 year return period (RP100) and L for extreme (RP2000)\n",
    "return_period_str='L'\n",
    "basin_vis_str='2080430320'\n",
    "# Generate flood layers and protection layers for visualization\n",
    "flood_plot_path=r'Floods\\Germany\\raw_data\\SzenarioSelten\\DERP_RW_L.shp'#rf'C:\\Data\\Floods\\Germany\\basin_intersections\\DERP_RW_L_4326_hybas_intersections\\flood_DERP_RW_{return_period_str}_4326_{basin_vis_str}.geojson'\n",
    "flood_m = data_path / flood_plot_path\n",
    "flood_gdf=gpd.read_file(flood_m)\n",
    "layers_flood=[]\n",
    "f_area_colors = {1:'blue', 3:'green'}\n",
    "for f_area in flood_gdf.flood_area.unique():\n",
    "    for f_depth in flood_gdf.depth_class.unique():\n",
    "        subset_gdf = flood_gdf[(flood_gdf.depth_class==f_depth) & (flood_gdf.flood_area==f_area)]\n",
    "        if not subset_gdf.empty:\n",
    "            color_key=f'{f_area_colors[f_area]}_{f_depth}00'\n",
    "            layers_flood.append(PolygonLayer.from_geopandas(subset_gdf, \n",
    "                                                            get_fill_color=miraca_colors[color_key], \n",
    "                                                            opacity=0.5, \n",
    "                                                            stroked=False))\n",
    "\n",
    "assets_no_buffer = assets.copy()\n",
    "#drop the buffered geometry from the assets\n",
    "assets_no_buffer = assets_no_buffer.drop(columns='buffered')\n",
    "layer_rail = PathLayer.from_geopandas(assets_no_buffer, width_min_pixels=0.8)\n",
    "\n",
    "layers=[]\n",
    "if layer_basin is not None:\n",
    "    layers.append(layer_basin)\n",
    "else:\n",
    "    print('No basin layer')\n",
    "if layers_flood is not None:\n",
    "    layers.extend(layers_flood)\n",
    "else:\n",
    "    print('No flood layers')\n",
    "if layer_rail is not None:\n",
    "    layers.append(layer_rail)\n",
    "else:\n",
    "    print('No rail layers')\n",
    "\n",
    "Voyager = 'https://basemaps.cartocdn.com/gl/voyager-gl-style/style.json'\n",
    "\n",
    "m = Map(layers, show_tooltip=True, basemap_style=Voyager) \n",
    "\n",
    "m\n"
   ]
  },
  {
   "cell_type": "code",
   "execution_count": 64,
   "metadata": {},
   "outputs": [
    {
     "data": {
      "text/html": [
       "<div>\n",
       "<style scoped>\n",
       "    .dataframe tbody tr th:only-of-type {\n",
       "        vertical-align: middle;\n",
       "    }\n",
       "\n",
       "    .dataframe tbody tr th {\n",
       "        vertical-align: top;\n",
       "    }\n",
       "\n",
       "    .dataframe thead th {\n",
       "        text-align: right;\n",
       "    }\n",
       "</style>\n",
       "<table border=\"1\" class=\"dataframe\">\n",
       "  <thead>\n",
       "    <tr style=\"text-align: right;\">\n",
       "      <th></th>\n",
       "      <th>HYBAS_ID</th>\n",
       "      <th>NEXT_DOWN</th>\n",
       "      <th>NEXT_SINK</th>\n",
       "      <th>MAIN_BAS</th>\n",
       "      <th>DIST_SINK</th>\n",
       "      <th>DIST_MAIN</th>\n",
       "      <th>SUB_AREA</th>\n",
       "      <th>UP_AREA</th>\n",
       "      <th>PFAF_ID</th>\n",
       "      <th>ENDO</th>\n",
       "      <th>COAST</th>\n",
       "      <th>ORDER</th>\n",
       "      <th>SORT</th>\n",
       "      <th>geometry</th>\n",
       "      <th>damage</th>\n",
       "    </tr>\n",
       "  </thead>\n",
       "  <tbody>\n",
       "    <tr>\n",
       "      <th>6378</th>\n",
       "      <td>2080430320</td>\n",
       "      <td>2080428500</td>\n",
       "      <td>2080023010</td>\n",
       "      <td>2080023010</td>\n",
       "      <td>511.4</td>\n",
       "      <td>511.4</td>\n",
       "      <td>64.9</td>\n",
       "      <td>4060.3</td>\n",
       "      <td>23263061</td>\n",
       "      <td>0</td>\n",
       "      <td>0</td>\n",
       "      <td>2</td>\n",
       "      <td>6379</td>\n",
       "      <td>POLYGON ((7.91667 49.88750, 7.91424 49.88785, ...</td>\n",
       "      <td>2.450038e+06</td>\n",
       "    </tr>\n",
       "  </tbody>\n",
       "</table>\n",
       "</div>"
      ],
      "text/plain": [
       "        HYBAS_ID   NEXT_DOWN   NEXT_SINK    MAIN_BAS  DIST_SINK  DIST_MAIN  \\\n",
       "6378  2080430320  2080428500  2080023010  2080023010      511.4      511.4   \n",
       "\n",
       "      SUB_AREA  UP_AREA   PFAF_ID  ENDO  COAST  ORDER  SORT  \\\n",
       "6378      64.9   4060.3  23263061     0      0      2  6379   \n",
       "\n",
       "                                               geometry        damage  \n",
       "6378  POLYGON ((7.91667 49.88750, 7.91424 49.88785, ...  2.450038e+06  "
      ]
     },
     "execution_count": 64,
     "metadata": {},
     "output_type": "execute_result"
    }
   ],
   "source": [
    "ead_gdf"
   ]
  },
  {
   "cell_type": "code",
   "execution_count": 31,
   "metadata": {},
   "outputs": [],
   "source": [
    "# Visualisation\n",
    "\n",
    "def get_node_from_spaths(shortest_paths):\n",
    "    nodes_list = []\n",
    "    for key in shortest_paths.keys():\n",
    "        origin, destination = key\n",
    "        nodes_list.append(origin)\n",
    "        nodes_list.append(destination)\n",
    "\n",
    "    nodes_list = list(set(nodes_list))  # Remove duplicates\n",
    "\n",
    "    return nodes_list\n",
    "\n",
    "def from_spaths_to_edges(shortest_paths):\n",
    "    edges_in_paths = []\n",
    "    for (o, d), (nodes_in_path, demand) in shortest_paths.items():\n",
    "        if nodes_in_path is None:\n",
    "            print(f'No path found between {o} and {d}. Cannot ship by train.')\n",
    "            continue\n",
    "        \n",
    "        edges_in_path = [(nodes_in_path[i], nodes_in_path[i+1]) for i in range(len(nodes_in_path)-1)]\n",
    "        edges_in_paths.extend(edges_in_path)\n",
    "    return edges_in_paths\n",
    "\n",
    "\n",
    "\n",
    "\n"
   ]
  },
  {
   "cell_type": "code",
   "execution_count": null,
   "metadata": {},
   "outputs": [],
   "source": [
    "# from shapely.geometry import LineString\n",
    "# # Round coordinates to 0 decimal places to avoid GEOSException: TopologyException: side location conflict at x, y\n",
    "# def round_coordinates(line):\n",
    "#     rounded_coords = []\n",
    "#     for coord in line.coords:\n",
    "#         rounded_coords.append((round(coord[0], 0), round(coord[1], 0)))\n",
    "#     return LineString(rounded_coords)\n",
    "\n",
    "# geoms=[]\n",
    "# for geom in assets['geometry']:\n",
    "#     geoms.append(round_coordinates(geom))\n",
    "\n",
    "# assets['geometry']=geoms"
   ]
  },
  {
   "cell_type": "code",
   "execution_count": null,
   "metadata": {},
   "outputs": [],
   "source": [
    "# import warnings\n",
    "\n",
    "# with warnings.catch_warnings():\n",
    "#     warnings.simplefilter(\"ignore\")\n",
    "#     #Source: Asgarpour/snkit\n",
    "#     # Create a railway networks with possible terminal nodes. This returns a complex network, as includes the rail tracks with the highest level of detail.\n",
    "#     aggregation_range = 0.08 # in km\n",
    "#     complex_rail_network = get_rail_network_with_terminals(network_gdf=assets, aggregation_range=aggregation_range)\n"
   ]
  }
 ],
 "metadata": {
  "kernelspec": {
   "display_name": "ci-adapt",
   "language": "python",
   "name": "python3"
  },
  "language_info": {
   "codemirror_mode": {
    "name": "ipython",
    "version": 3
   },
   "file_extension": ".py",
   "mimetype": "text/x-python",
   "name": "python",
   "nbconvert_exporter": "python",
   "pygments_lexer": "ipython3",
   "version": "3.12.2"
  }
 },
 "nbformat": 4,
 "nbformat_minor": 2
}
