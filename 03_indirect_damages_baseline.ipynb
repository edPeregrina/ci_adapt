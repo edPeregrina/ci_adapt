{
 "cells": [
  {
   "cell_type": "code",
   "execution_count": 1,
   "metadata": {},
   "outputs": [],
   "source": [
    "#ADDITIONAL DEPENDENCIES\n",
    "# !pip install triangle\n",
    "# !pip install rasterio\n",
    "# !pip install geopy\n",
    "# !pip install osmnx"
   ]
  },
  {
   "cell_type": "code",
   "execution_count": 64,
   "metadata": {},
   "outputs": [],
   "source": [
    "def plot_shortest_paths(assets, graph, shortest_paths, colors):\n",
    "    from lonboard import Map, PathLayer, ScatterplotLayer\n",
    "    layers_assets=[]\n",
    "    # Generate od layer for visualization\n",
    "    od_geoms=[attr['geometry'] for u,attr in graph.nodes(data=True) if 'name' in attr.keys()]\n",
    "    od_geoms_gdf=gpd.GeoDataFrame(geometry=od_geoms).set_crs(epsg=3857).to_crs(4326)\n",
    "    \n",
    "    layer_od = ScatterplotLayer.from_geopandas(od_geoms_gdf, get_fill_color=colors['red_danger'], get_radius=100, opacity=0.5, auto_highlight=False)\n",
    "    # Create layer for assets for visualization\n",
    "    layer_assets = PathLayer.from_geopandas(assets.drop(columns=['other_tags']), get_width=5, get_color=colors['grey_400'], auto_highlight=True, )\n",
    "    layers_assets.append(layer_assets)\n",
    "    # layer_shortest_path_assets = PathLayer.from_geopandas(assets_sps.drop(columns=['buffered', 'other_tags']), get_width=80, get_color=colors['black'], auto_highlight=True)\n",
    "    if shortest_paths is not None:\n",
    "        shortest_paths_geoms = []\n",
    "        for od,(path,demand) in shortest_paths.items():\n",
    "            for u in range(len(path)-1):\n",
    "                edge = graph.get_edge_data(path[u], path[u+1])\n",
    "                if edge is not None:\n",
    "                    for i in range(len(edge)):\n",
    "                        edge_data = edge[i]\n",
    "                        edge_geom = edge_data['geometry']\n",
    "                        shortest_paths_geoms.append((od,demand, edge_geom))\n",
    "                    \n",
    "        shortest_paths_gdf = gpd.GeoDataFrame(shortest_paths_geoms, columns=['od','demand', 'geometry']).set_crs(epsg=3857)\n",
    "        layers_sps = PathLayer.from_geopandas(shortest_paths_gdf, get_width=8, get_color=colors['black'], auto_highlight=True)\n",
    "        layers_assets.append(layers_sps)\n",
    "    \n",
    "    layers=[]\n",
    "    if layer_assets is not None:\n",
    "        layers.extend(layers_assets)\n",
    "    else:\n",
    "        print('No asset layer')\n",
    "    Voyager = 'https://basemaps.cartocdn.com/gl/voyager-gl-style/style.json'\n",
    "\n",
    "    if layer_od is not None:\n",
    "        layers.append(layer_od)\n",
    "    else:\n",
    "        print('No od layer')\n",
    "    m = Map(layers, show_tooltip=True, basemap_style=Voyager, view_state={\"longitude\": 7.91, \"latitude\": 49.91, \"zoom\": 11})\n",
    "\n",
    "\n",
    "    return m\n"
   ]
  },
  {
   "cell_type": "code",
   "execution_count": 2,
   "metadata": {},
   "outputs": [],
   "source": [
    "import sys\n",
    "import os\n",
    "sys.path.append(r'C:\\repos\\snkit\\src')\n",
    "sys.path.append(r'C:\\repos')\n",
    "sys.path.append(r'C:\\repos\\ra2ce')\n",
    "sys.path.append(r'C:\\repos\\ra2ce_multi_network')\n",
    "from ci_adapt_utilities import *\n",
    "# from ci_adapt_classes import *\n",
    "from ra2ce_multi_network.simplify_rail import *\n",
    "from ra2ce_multi_network.simplify_rail import _merge_edges, _network_to_nx\n",
    "import networkx as nx\n",
    "import pandas as pd\n",
    "# import re\n",
    "from math import ceil\n",
    "import ast\n",
    "# from pyproj import Transformer\n",
    "# from shapely.geometry import Point\n",
    "import warnings\n",
    "from shapely import make_valid"
   ]
  },
  {
   "cell_type": "code",
   "execution_count": 4,
   "metadata": {},
   "outputs": [],
   "source": [
    "# Load configuration with ini file (created running config.py)\n",
    "config_file=r'C:\\repos\\ci_adapt\\config_ci_adapt.ini'\n",
    "config = configparser.ConfigParser()\n",
    "config.read(config_file)\n",
    "\n",
    "# Set paths and data sources\n",
    "p = Path('..')\n",
    "hazard_type = config.get('DEFAULT', 'hazard_type')\n",
    "infra_type = config.get('DEFAULT', 'infra_type')\n",
    "country_code = config.get('DEFAULT', 'country_code')\n",
    "country_name = config.get('DEFAULT', 'country_name')\n",
    "hazard_data_subfolders = config.get('DEFAULT', 'hazard_data_subfolders')\n",
    "asset_data = config.get('DEFAULT', 'asset_data')\n",
    "vulnerability_data = config.get('DEFAULT', 'vulnerability_data')\n",
    "data_path = Path(pathlib.Path.home().parts[0]) / 'Data'\n",
    "interim_data_path = data_path / 'interim' / 'indirect_damages'\n",
    "\n",
    "# MIRACA color scheme\n",
    "color_string = config.get('DEFAULT', 'miraca_colors')\n",
    "miraca_colors = ast.literal_eval(color_string)"
   ]
  },
  {
   "cell_type": "code",
   "execution_count": 5,
   "metadata": {},
   "outputs": [],
   "source": [
    "# Define costs for different transport modes\n",
    "average_train_load_tons = (896+1344+2160+1344+896+896+1344+1512+896+390)/10 # in Tons per train. Source: Kennisinstituut voor Mobiliteitsbeleid. 2023. Cost Figures for Freight Transport – final report\n",
    "average_train_cost_per_ton_km = (0.014+0.018+0.047+0.045)/4 # in Euros per ton per km. Source: Kennisinstituut voor Mobiliteitsbeleid. 2023. Cost Figures for Freight Transport – final report\n",
    "average_road_cost_per_ton_km = (0.395+0.375+0.246+0.203+0.138+0.153+0.125+0.103+0.122+0.099)/10 # in Euros per ton per km. Source: Kennisinstituut voor Mobiliteitsbeleid. 2023. Cost Figures for Freight Transport – final report"
   ]
  },
  {
   "cell_type": "code",
   "execution_count": 7,
   "metadata": {},
   "outputs": [
    {
     "name": "stdout",
     "output_type": "stream",
     "text": [
      "37779 railway freight assets found.\n"
     ]
    }
   ],
   "source": [
    "# Read exposure data (OSM, OpenStreetMap contributors (2024) / osm-flex)\n",
    "assets_path = data_path / asset_data\n",
    "assets=preprocess_assets(assets_path)\n",
    "print(f\"{len(assets)} railway freight assets found.\")\n",
    "assets_4326=assets.to_crs(4326)\n",
    "assets_4326['geometry']=assets_4326['geometry'].make_valid()"
   ]
  },
  {
   "cell_type": "code",
   "execution_count": 9,
   "metadata": {},
   "outputs": [
    {
     "data": {
      "text/html": [
       "<div>\n",
       "<style scoped>\n",
       "    .dataframe tbody tr th:only-of-type {\n",
       "        vertical-align: middle;\n",
       "    }\n",
       "\n",
       "    .dataframe tbody tr th {\n",
       "        vertical-align: top;\n",
       "    }\n",
       "\n",
       "    .dataframe thead th {\n",
       "        text-align: right;\n",
       "    }\n",
       "</style>\n",
       "<table border=\"1\" class=\"dataframe\">\n",
       "  <thead>\n",
       "    <tr style=\"text-align: right;\">\n",
       "      <th></th>\n",
       "      <th>osm_id</th>\n",
       "      <th>asset</th>\n",
       "      <th>name</th>\n",
       "      <th>gauge</th>\n",
       "      <th>electrified</th>\n",
       "      <th>voltage</th>\n",
       "      <th>bridge</th>\n",
       "      <th>maxspeed</th>\n",
       "      <th>service</th>\n",
       "      <th>tunnel</th>\n",
       "      <th>other_tags</th>\n",
       "      <th>railway:traffic_mode</th>\n",
       "      <th>usage</th>\n",
       "      <th>geometry</th>\n",
       "    </tr>\n",
       "  </thead>\n",
       "  <tbody>\n",
       "    <tr>\n",
       "      <th>0</th>\n",
       "      <td>3568324</td>\n",
       "      <td>rail</td>\n",
       "      <td>None</td>\n",
       "      <td>1435</td>\n",
       "      <td>contact_line</td>\n",
       "      <td>15000</td>\n",
       "      <td>yes</td>\n",
       "      <td>None</td>\n",
       "      <td>None</td>\n",
       "      <td>None</td>\n",
       "      <td>\"detail\"=&gt;\"track\",\"frequency\"=&gt;\"16.7\",\"layer\"=...</td>\n",
       "      <td>None</td>\n",
       "      <td>\"main\"</td>\n",
       "      <td>LINESTRING (8.62626 49.81501, 8.62621 49.81489)</td>\n",
       "    </tr>\n",
       "    <tr>\n",
       "      <th>1</th>\n",
       "      <td>3568326</td>\n",
       "      <td>rail</td>\n",
       "      <td>None</td>\n",
       "      <td>1435</td>\n",
       "      <td>contact_line</td>\n",
       "      <td>15000</td>\n",
       "      <td>yes</td>\n",
       "      <td>160</td>\n",
       "      <td>None</td>\n",
       "      <td>None</td>\n",
       "      <td>\"frequency\"=&gt;\"16.7\",\"layer\"=&gt;\"1\",\"level\"=&gt;\"1\",...</td>\n",
       "      <td>None</td>\n",
       "      <td>\"main\"</td>\n",
       "      <td>LINESTRING (8.60882 49.72625, 8.60886 49.72606)</td>\n",
       "    </tr>\n",
       "    <tr>\n",
       "      <th>2</th>\n",
       "      <td>3568327</td>\n",
       "      <td>rail</td>\n",
       "      <td>None</td>\n",
       "      <td>1435</td>\n",
       "      <td>contact_line</td>\n",
       "      <td>15000</td>\n",
       "      <td>None</td>\n",
       "      <td>160</td>\n",
       "      <td>None</td>\n",
       "      <td>None</td>\n",
       "      <td>\"frequency\"=&gt;\"16.7\",\"operator\"=&gt;\"DB Netz\",\"pas...</td>\n",
       "      <td>None</td>\n",
       "      <td>\"main\"</td>\n",
       "      <td>LINESTRING (8.61315 49.70201, 8.61323 49.70154...</td>\n",
       "    </tr>\n",
       "  </tbody>\n",
       "</table>\n",
       "</div>"
      ],
      "text/plain": [
       "    osm_id asset  name gauge   electrified voltage bridge maxspeed service  \\\n",
       "0  3568324  rail  None  1435  contact_line   15000    yes     None    None   \n",
       "1  3568326  rail  None  1435  contact_line   15000    yes      160    None   \n",
       "2  3568327  rail  None  1435  contact_line   15000   None      160    None   \n",
       "\n",
       "  tunnel                                         other_tags  \\\n",
       "0   None  \"detail\"=>\"track\",\"frequency\"=>\"16.7\",\"layer\"=...   \n",
       "1   None  \"frequency\"=>\"16.7\",\"layer\"=>\"1\",\"level\"=>\"1\",...   \n",
       "2   None  \"frequency\"=>\"16.7\",\"operator\"=>\"DB Netz\",\"pas...   \n",
       "\n",
       "  railway:traffic_mode   usage  \\\n",
       "0                 None  \"main\"   \n",
       "1                 None  \"main\"   \n",
       "2                 None  \"main\"   \n",
       "\n",
       "                                            geometry  \n",
       "0    LINESTRING (8.62626 49.81501, 8.62621 49.81489)  \n",
       "1    LINESTRING (8.60882 49.72625, 8.60886 49.72606)  \n",
       "2  LINESTRING (8.61315 49.70201, 8.61323 49.70154...  "
      ]
     },
     "execution_count": 9,
     "metadata": {},
     "output_type": "execute_result"
    }
   ],
   "source": [
    "assets_4326.head(3)"
   ]
  },
  {
   "cell_type": "code",
   "execution_count": 10,
   "metadata": {},
   "outputs": [
    {
     "data": {
      "text/html": [
       "<div>\n",
       "<style scoped>\n",
       "    .dataframe tbody tr th:only-of-type {\n",
       "        vertical-align: middle;\n",
       "    }\n",
       "\n",
       "    .dataframe tbody tr th {\n",
       "        vertical-align: top;\n",
       "    }\n",
       "\n",
       "    .dataframe thead th {\n",
       "        text-align: right;\n",
       "    }\n",
       "</style>\n",
       "<table border=\"1\" class=\"dataframe\">\n",
       "  <thead>\n",
       "    <tr style=\"text-align: right;\">\n",
       "      <th></th>\n",
       "      <th>From</th>\n",
       "      <th>To</th>\n",
       "      <th>From_Latitude</th>\n",
       "      <th>From_Longitude</th>\n",
       "      <th>To_Latitude</th>\n",
       "      <th>To_Longitude</th>\n",
       "      <th>goods</th>\n",
       "      <th>Country</th>\n",
       "      <th>geometry_from</th>\n",
       "      <th>geometry_to</th>\n",
       "    </tr>\n",
       "  </thead>\n",
       "  <tbody>\n",
       "    <tr>\n",
       "      <th>0</th>\n",
       "      <td>TestPoint-0</td>\n",
       "      <td>TestPoint-1</td>\n",
       "      <td>50.342749</td>\n",
       "      <td>7.586465</td>\n",
       "      <td>50.433174</td>\n",
       "      <td>7.506602</td>\n",
       "      <td>100</td>\n",
       "      <td>DE</td>\n",
       "      <td>POINT (844521.4207209921 6505846.885747112)</td>\n",
       "      <td>POINT (835631.1122277689 6521634.758795864)</td>\n",
       "    </tr>\n",
       "    <tr>\n",
       "      <th>1</th>\n",
       "      <td>TestPoint-1</td>\n",
       "      <td>TestPoint-0</td>\n",
       "      <td>50.433174</td>\n",
       "      <td>7.506602</td>\n",
       "      <td>50.342749</td>\n",
       "      <td>7.586465</td>\n",
       "      <td>100</td>\n",
       "      <td>DE</td>\n",
       "      <td>POINT (835631.1122277689 6521634.758795864)</td>\n",
       "      <td>POINT (844521.4207209921 6505846.885747112)</td>\n",
       "    </tr>\n",
       "    <tr>\n",
       "      <th>2</th>\n",
       "      <td>Positive-0</td>\n",
       "      <td>Positive-1</td>\n",
       "      <td>50.231430</td>\n",
       "      <td>7.585170</td>\n",
       "      <td>50.319210</td>\n",
       "      <td>7.586850</td>\n",
       "      <td>50</td>\n",
       "      <td>DE</td>\n",
       "      <td>POINT (844377.2619804149 6486452.327118009)</td>\n",
       "      <td>POINT (844564.2787249476 6501742.017682388)</td>\n",
       "    </tr>\n",
       "    <tr>\n",
       "      <th>3</th>\n",
       "      <td>Positive-1</td>\n",
       "      <td>Positive-0</td>\n",
       "      <td>50.319210</td>\n",
       "      <td>7.586850</td>\n",
       "      <td>50.231430</td>\n",
       "      <td>7.585170</td>\n",
       "      <td>50</td>\n",
       "      <td>DE</td>\n",
       "      <td>POINT (844564.2787249476 6501742.017682388)</td>\n",
       "      <td>POINT (844377.2619804149 6486452.327118009)</td>\n",
       "    </tr>\n",
       "  </tbody>\n",
       "</table>\n",
       "</div>"
      ],
      "text/plain": [
       "          From           To  From_Latitude  From_Longitude  To_Latitude  \\\n",
       "0  TestPoint-0  TestPoint-1      50.342749        7.586465    50.433174   \n",
       "1  TestPoint-1  TestPoint-0      50.433174        7.506602    50.342749   \n",
       "2   Positive-0   Positive-1      50.231430        7.585170    50.319210   \n",
       "3   Positive-1   Positive-0      50.319210        7.586850    50.231430   \n",
       "\n",
       "   To_Longitude  goods Country                                geometry_from  \\\n",
       "0      7.506602    100      DE  POINT (844521.4207209921 6505846.885747112)   \n",
       "1      7.586465    100      DE  POINT (835631.1122277689 6521634.758795864)   \n",
       "2      7.586850     50      DE  POINT (844377.2619804149 6486452.327118009)   \n",
       "3      7.585170     50      DE  POINT (844564.2787249476 6501742.017682388)   \n",
       "\n",
       "                                   geometry_to  \n",
       "0  POINT (835631.1122277689 6521634.758795864)  \n",
       "1  POINT (844521.4207209921 6505846.885747112)  \n",
       "2  POINT (844564.2787249476 6501742.017682388)  \n",
       "3  POINT (844377.2619804149 6486452.327118009)  "
      ]
     },
     "execution_count": 10,
     "metadata": {},
     "output_type": "execute_result"
    }
   ],
   "source": [
    "# route_data_source=r'C:\\Data\\input\\traffic\\NET_SEGMENTS_EU_EFTA_Filtered_0.xlsx'\n",
    "route_data_source=r'C:\\Data\\input\\traffic\\test_seg.xlsx'\n",
    "route_data=prepare_route_data(route_data_source, assets)\n",
    "route_data.head(3)"
   ]
  },
  {
   "cell_type": "code",
   "execution_count": 32,
   "metadata": {},
   "outputs": [
    {
     "name": "stderr",
     "output_type": "stream",
     "text": [
      "c:\\Users\\peregrin\\AppData\\Local\\anaconda3\\envs\\ci_adapt_env\\Lib\\site-packages\\shapely\\linear.py:90: RuntimeWarning: invalid value encountered in line_locate_point\n",
      "  return lib.line_locate_point(line, other)\n",
      "c:\\Users\\peregrin\\AppData\\Local\\anaconda3\\envs\\ci_adapt_env\\Lib\\site-packages\\shapely\\linear.py:90: RuntimeWarning: invalid value encountered in line_locate_point\n",
      "  return lib.line_locate_point(line, other)\n",
      "c:\\Users\\peregrin\\AppData\\Local\\anaconda3\\envs\\ci_adapt_env\\Lib\\site-packages\\shapely\\linear.py:90: RuntimeWarning: invalid value encountered in line_locate_point\n",
      "  return lib.line_locate_point(line, other)\n",
      "c:\\Users\\peregrin\\AppData\\Local\\anaconda3\\envs\\ci_adapt_env\\Lib\\site-packages\\shapely\\linear.py:90: RuntimeWarning: invalid value encountered in line_locate_point\n",
      "  return lib.line_locate_point(line, other)\n",
      "c:\\Users\\peregrin\\AppData\\Local\\anaconda3\\envs\\ci_adapt_env\\Lib\\site-packages\\shapely\\linear.py:90: RuntimeWarning: invalid value encountered in line_locate_point\n",
      "  return lib.line_locate_point(line, other)\n",
      "c:\\Users\\peregrin\\AppData\\Local\\anaconda3\\envs\\ci_adapt_env\\Lib\\site-packages\\shapely\\linear.py:90: RuntimeWarning: invalid value encountered in line_locate_point\n",
      "  return lib.line_locate_point(line, other)\n"
     ]
    }
   ],
   "source": [
    "# with warnings.catch_warnings():\n",
    "#     warnings.simplefilter(\"ignore\")\n",
    "    #Source: Asgarpour/snkit\n",
    "    # Create a railway networks with possible terminal nodes. This returns a complex network, as includes the rail tracks with the highest level of detail.\n",
    "    # complex_rail_network = create_network_from_gdf(network_gdf=assets)\n",
    "net=Network(edges=assets_4326)\n",
    "net=add_endpoints(network=net)\n",
    "net=link_nodes_to_edges_within(network=net, distance=0.0000014)\n",
    "net=add_ids(network=net)\n",
    "net=add_topology(network=net)\n",
    "net.set_crs(4326)\n",
    "net.edges=net.edges.to_crs(3857)\n",
    "net.nodes=net.nodes.to_crs(3857)\n"
   ]
  },
  {
   "cell_type": "code",
   "execution_count": 48,
   "metadata": {},
   "outputs": [
    {
     "name": "stdout",
     "output_type": "stream",
     "text": [
      "Exception: invalid literal for int() with base 10: 'node_9999'\n",
      "Skipping simplification step.\n"
     ]
    }
   ],
   "source": [
    "complex_rail_network=net\n",
    "\n",
    "with warnings.catch_warnings():\n",
    "    try:\n",
    "        warnings.simplefilter(\"ignore\")\n",
    "        merged_rail_network = merge_edges(network=complex_rail_network, excluded_edge_types=['bridge', 'tunnel']) #Must add network= to pass excluded_edge_types as a keyword argument\n",
    "\n",
    "        # Number of nodes and edges reduced\n",
    "        print(f\"Difference in node counts: {complex_rail_network.nodes.shape[0] - merged_rail_network.nodes.shape[0]}\")\n",
    "        print(f\"Difference in node counts %: {round(100*(complex_rail_network.nodes.shape[0] - merged_rail_network.nodes.shape[0])/complex_rail_network.nodes.shape[0], 0)}\")\n",
    "        print(f\"Difference in edge counts: {complex_rail_network.edges.shape[0] - merged_rail_network.edges.shape[0]}\")\n",
    "        print(f\"Difference in edge counts %: {round(100*(complex_rail_network.edges.shape[0] - merged_rail_network.edges.shape[0])/complex_rail_network.edges.shape[0], 0)}\")\n",
    "    except Exception as e:\n",
    "        print(f'Exception: {e}')\n",
    "        print('Skipping simplification step.')\n",
    "        merged_rail_network=complex_rail_network\n",
    "    "
   ]
  },
  {
   "cell_type": "code",
   "execution_count": 49,
   "metadata": {},
   "outputs": [],
   "source": [
    "# Create graph from network\n",
    "merged_rail_graph = _network_to_nx(merged_rail_network)\n",
    "\n",
    "# Create a MultiDiGraph from the graph\n",
    "graph_0=nx.MultiDiGraph(merged_rail_graph)\n"
   ]
  },
  {
   "cell_type": "code",
   "execution_count": 58,
   "metadata": {},
   "outputs": [],
   "source": [
    "for u,v,k,attr in graph_0.edges(keys=True, data=True):\n",
    "    if type(attr['osm_id'])==type(float()):\n",
    "        graph_0[u][v][k]['osm_id'] = ''\n"
   ]
  },
  {
   "cell_type": "code",
   "execution_count": 59,
   "metadata": {},
   "outputs": [],
   "source": [
    "# Set weights for edges\n",
    "graph_0 = set_edge_weights(assets, graph_0)"
   ]
  },
  {
   "cell_type": "code",
   "execution_count": 10,
   "metadata": {},
   "outputs": [],
   "source": [
    "# load graph and shortest paths\n",
    "if os.path.exists(interim_data_path / 'graph_0.pkl'):\n",
    "    graph_0 = pickle.load(open(interim_data_path / 'graph_0.pkl','rb'))\n",
    "    shortest_paths = pickle.load(open(interim_data_path / 'shortest_paths.pkl', 'rb'))\n",
    "    disrupted_edges_by_basin = pickle.load(open(interim_data_path / 'disrupted_edges_by_basin.pkl', 'rb'))\n",
    "    disrupted_shortest_paths = pickle.load(open(interim_data_path / 'disrupted_shortest_paths.pkl', 'rb'))\n",
    "    print('Data loaded from pickle files.')"
   ]
  },
  {
   "cell_type": "code",
   "execution_count": 61,
   "metadata": {},
   "outputs": [
    {
     "name": "stdout",
     "output_type": "stream",
     "text": [
      "Possible terminals: 42804\n"
     ]
    },
    {
     "name": "stderr",
     "output_type": "stream",
     "text": [
      "Finding shortest paths between origin-destination pairs: 100%|██████████| 4/4 [00:02<00:00,  1.50it/s]"
     ]
    },
    {
     "name": "stdout",
     "output_type": "stream",
     "text": [
      "Failed to find paths for 0 routes\n"
     ]
    },
    {
     "name": "stderr",
     "output_type": "stream",
     "text": [
      "\n"
     ]
    }
   ],
   "source": [
    "# Set capacities for flow model\n",
    "graph_0, shortest_paths = set_edge_capacities(graph_0, route_data, simplified=True)"
   ]
  },
  {
   "cell_type": "code",
   "execution_count": 65,
   "metadata": {},
   "outputs": [
    {
     "name": "stderr",
     "output_type": "stream",
     "text": [
      "c:\\Users\\peregrin\\AppData\\Local\\anaconda3\\envs\\ci_adapt_env\\Lib\\site-packages\\lonboard\\_geoarrow\\ops\\reproject.py:97: UserWarning: Input being reprojected to EPSG:4326 CRS\n",
      "  warnings.warn(\"Input being reprojected to EPSG:4326 CRS\")\n",
      "c:\\Users\\peregrin\\AppData\\Local\\anaconda3\\envs\\ci_adapt_env\\Lib\\site-packages\\lonboard\\_geoarrow\\ops\\reproject.py:97: UserWarning: Input being reprojected to EPSG:4326 CRS\n",
      "  warnings.warn(\"Input being reprojected to EPSG:4326 CRS\")\n"
     ]
    },
    {
     "data": {
      "application/vnd.jupyter.widget-view+json": {
       "model_id": "ff5b9bf3a4804c37bf442e4103867bb7",
       "version_major": 2,
       "version_minor": 0
      },
      "text/plain": [
       "Map(basemap_style='https://basemaps.cartocdn.com/gl/voyager-gl-style/style.json', layers=[PathLayer(auto_highl…"
      ]
     },
     "execution_count": 65,
     "metadata": {},
     "output_type": "execute_result"
    }
   ],
   "source": [
    "plot_shortest_paths(assets, graph_0, shortest_paths, miraca_colors)"
   ]
  },
  {
   "cell_type": "code",
   "execution_count": 66,
   "metadata": {},
   "outputs": [
    {
     "name": "stdout",
     "output_type": "stream",
     "text": [
      "Max weight: 17100298\n",
      "Max capacity: 1\n",
      "Success: only int type values\n"
     ]
    }
   ],
   "source": [
    "# Create initial virtual graph\n",
    "graph_v0=create_virtual_graph(graph_0)\n"
   ]
  },
  {
   "cell_type": "code",
   "execution_count": 67,
   "metadata": {},
   "outputs": [],
   "source": [
    "graph_v=graph_v0.copy()"
   ]
  },
  {
   "cell_type": "code",
   "execution_count": 68,
   "metadata": {},
   "outputs": [],
   "source": [
    "# Define the baseline return periods \n",
    "\"\"\"\n",
    "Return period definitions for Rhineland Palatinate (DERP) based on the report by Rauthe M, et al. (2020):\n",
    "_H_=10-25y \n",
    "_M_=100y\n",
    "_L_=200y\n",
    "\"\"\"\n",
    "return_period_dict = {'_H_': 10,'_M_': 100,'_L_': 200}\n",
    "\n",
    "# Add climate change: calculate the dynamic return periods based on flat increase factors. \n",
    "# This value has been catchment-specific with frequency increasing in some regions and decreasing in others. \n",
    "# It is reasonable that in the future, the frequency will continue to change differently by catchment.\n",
    "\n",
    "increase_factor = {\n",
    "    '_H_': 2,\n",
    "    '_M_': 6.6,\n",
    "    '_L_': 9.1\n",
    "} # https://hess.copernicus.org/preprints/hess-2016-65/hess-2016-65-manuscript-version2.pdf \n",
    "\n",
    "num_years = 100\n",
    "return_periods = calculate_dynamic_return_periods(return_period_dict, num_years, increase_factor)"
   ]
  },
  {
   "cell_type": "code",
   "execution_count": 69,
   "metadata": {},
   "outputs": [],
   "source": [
    "if 'collect_output' not in locals():\n",
    "    collect_output_path = f'C:/Data/interim/collected_flood_runs/sample_collected_run.pkl'\n",
    "    with open(collect_output_path, 'rb') as f:\n",
    "        collect_output = pickle.load(f)"
   ]
  },
  {
   "cell_type": "code",
   "execution_count": 70,
   "metadata": {},
   "outputs": [
    {
     "name": "stdout",
     "output_type": "stream",
     "text": [
      "Disrupted edges: 24\n",
      "No shortest paths disrupted for flood_DERP_RW_H_4326_2080430320. No economic impact.\n",
      "Disrupted edges: 78\n",
      "No shortest paths disrupted for flood_DERP_RW_L_4326_2080430320. No economic impact.\n",
      "Disrupted edges: 60\n",
      "No shortest paths disrupted for flood_DERP_RW_M_4326_2080430320. No economic impact.\n"
     ]
    }
   ],
   "source": [
    "# Loop through the event files and calculate the economic impact of each event\n",
    "disrupted_asset_lengths={}\n",
    "disrupted_shortest_paths={}\n",
    "event_impacts={}\n",
    "disrupted_edges_by_basin={}\n",
    "\n",
    "for hazard_map, asset_dict in collect_output.items():\n",
    "    disrupted_assets = [key for key in asset_dict.keys()]\n",
    "    disrupted_osm_ids = [\n",
    "        assets.loc[asset_index]['osm_id'] \n",
    "        for asset_index in disrupted_assets \n",
    "        if asset_index in assets.index and (\n",
    "            (assets.loc[asset_index]['bridge'] != 'yes') \n",
    "            and (assets.loc[asset_index]['tunnel'] != 'yes')\n",
    "            and (assets.loc[asset_index]['osm_id'] is not None)\n",
    "            )\n",
    "        ]\n",
    "    \n",
    "    if len(disrupted_osm_ids)==0:\n",
    "        continue\n",
    "\n",
    "    disrupted_edges=[]\n",
    "    \n",
    "    for u,v,attr in graph_0.edges(data=True):\n",
    "        if 'osm_id' not in attr: \n",
    "            continue\n",
    "        if attr['bridge']=='yes' or attr['tunnel']=='yes':\n",
    "            continue\n",
    "        matching_ids=[osm_id for osm_id in attr['osm_id'].split('; ') if osm_id in disrupted_osm_ids]\n",
    "        if len(matching_ids)>0:\n",
    "            disrupted_edges.append((u,v))\n",
    "            \n",
    "    print(f'Disrupted edges: {len(disrupted_edges)}')\n",
    "\n",
    "    # If there are no disrupted edges in the event, move to next event\n",
    "    if len(disrupted_edges)==0:\n",
    "        continue\n",
    "    \n",
    "    disrupted_edges_by_basin[hazard_map]=disrupted_edges\n",
    "    disrupted_shortest_paths[hazard_map]=calculate_new_paths(graph_v0, shortest_paths, disrupted_edges)\n",
    "\n",
    "    if disrupted_shortest_paths[hazard_map] == {}: # No disrupted paths, no economic impact\n",
    "        print(f'No shortest paths disrupted for {hazard_map}. No economic impact.')\n",
    "        continue\n",
    "\n",
    "\n",
    "    print('Calculating economic impact...')\n",
    "    impact=calculate_economic_impact_shortest_paths(hazard_map, graph_v, shortest_paths, disrupted_shortest_paths[hazard_map], average_train_load_tons, average_train_cost_per_ton_km, average_road_cost_per_ton_km)\n",
    "    event_impacts[hazard_map]=impact\n",
    "    print(hazard_map, impact)"
   ]
  },
  {
   "cell_type": "code",
   "execution_count": 18,
   "metadata": {},
   "outputs": [
    {
     "data": {
      "text/plain": [
       "{2080430320: {'_H_': 31081.915397471283,\n",
       "  '_L_': 44218605.10617743,\n",
       "  '_M_': 8843721.021235485}}"
      ]
     },
     "execution_count": 18,
     "metadata": {},
     "output_type": "execute_result"
    }
   ],
   "source": [
    "files = [file for file in os.listdir('C:/Data/interim/collected_flood_runs') if file.endswith('.pkl') and file.startswith('overlay')]\n",
    "basins_list=list(set([int(file.split('.')[0].split('_')[-1]) for file in files]))\n",
    "basin_dict = {}\n",
    "for basin in basins_list:\n",
    "    basin_dict[basin] = {}\n",
    "    for key in event_impacts.keys():\n",
    "        if not str(basin) in key:\n",
    "            continue\n",
    "        if str(basin) in key:\n",
    "            basin_dict[basin][key.split('_RW')[-1][0:3]] = event_impacts[key]\n",
    "\n",
    "\n",
    "for rp in return_period_dict.keys():\n",
    "    # add rp as a key to all nested dictionaries with 0 as a value if the rp is not already a key\n",
    "    for basin in basin_dict.keys():\n",
    "        if rp not in basin_dict[basin].keys():\n",
    "            basin_dict[basin][rp] = 0\n",
    "\n",
    "basin_dict\n",
    "          "
   ]
  },
  {
   "cell_type": "code",
   "execution_count": 19,
   "metadata": {},
   "outputs": [],
   "source": [
    "\n",
    "aggregated_df_by_basin = {}\n",
    "ead_by_ts_by_basin = {}\n",
    "\n",
    "for basin, damage_dict in basin_dict.items():\n",
    "    if len(damage_dict) == 0:\n",
    "        continue\n",
    "\n",
    "    aggregated_df_by_basin[basin] = pd.DataFrame.from_dict(damage_dict, orient='index', columns=['Total indirect damage'])\n",
    "    aggregated_df_by_basin[basin]['Return Period'] = [return_periods[index] for index in aggregated_df_by_basin[basin].index]\n",
    "    probabilities = [[1 / rp for rp in ts] for ts in aggregated_df_by_basin[basin]['Return Period']]\n",
    "    aggregated_df_by_basin[basin]['Probability'] = probabilities\n",
    "    dmgs = []\n",
    "\n",
    "    for ts in range(len(probabilities[0])):    \n",
    "        dmgs_m = []\n",
    "\n",
    "        for rp in range(len(probabilities)-1):\n",
    "            d_rp= probabilities[rp][ts] - probabilities[rp + 1][ts]\n",
    "            trap_damage_m = 0.5 * (aggregated_df_by_basin[basin]['Total indirect damage'].iloc[rp] + aggregated_df_by_basin[basin]['Total indirect damage'].iloc[rp + 1])\n",
    "            dmgs_m.append(d_rp * trap_damage_m)\n",
    "        \n",
    "        # Add the portion of damages corresponding to the tails of the distribution\n",
    "        d0_rp = probabilities[-1][ts]\n",
    "        damage_m0 = max(aggregated_df_by_basin[basin]['Total indirect damage'])\n",
    "        dmgs_m.append(d0_rp * damage_m0)\n",
    "\n",
    "        d_end_rp = (1/4)-probabilities[0][ts]\n",
    "        damage_m_end = 0.5 * min(aggregated_df_by_basin[basin]['Total indirect damage'])\n",
    "\n",
    "        dmgs_m.append(d_end_rp * damage_m_end)\n",
    "\n",
    "        dmgs.append((sum(dmgs_m)))\n",
    "    \n",
    "    ead_by_ts_by_basin[basin] = pd.DataFrame(dmgs, columns=['Total indirect damage'])\n"
   ]
  },
  {
   "cell_type": "code",
   "execution_count": 20,
   "metadata": {},
   "outputs": [
    {
     "data": {
      "text/plain": [
       "{2080430320:      Total indirect damage\n",
       " 0             2.413722e+06\n",
       " 1             2.447520e+06\n",
       " 2             2.481319e+06\n",
       " 3             2.515118e+06\n",
       " 4             2.548917e+06\n",
       " ..                     ...\n",
       " 96            5.658409e+06\n",
       " 97            5.692208e+06\n",
       " 98            5.726007e+06\n",
       " 99            5.759806e+06\n",
       " 100           5.793604e+06\n",
       " \n",
       " [101 rows x 1 columns]}"
      ]
     },
     "execution_count": 20,
     "metadata": {},
     "output_type": "execute_result"
    }
   ],
   "source": [
    "ead_by_ts_by_basin"
   ]
  },
  {
   "cell_type": "code",
   "execution_count": 21,
   "metadata": {},
   "outputs": [
    {
     "data": {
      "text/plain": [
       "{2080430320: 414469961.86002237}"
      ]
     },
     "execution_count": 21,
     "metadata": {},
     "output_type": "execute_result"
    }
   ],
   "source": [
    "# Find total damages by basin over the 100 y period\n",
    "total_damages_by_basin = {basin: ead_by_ts_by_basin[basin].values.sum() for basin in ead_by_ts_by_basin.keys()}\n",
    "total_damages_by_basin\n"
   ]
  },
  {
   "cell_type": "code",
   "execution_count": 22,
   "metadata": {},
   "outputs": [
    {
     "data": {
      "image/png": "[encoded data removed]",
      "text/plain": [
       "<Figure size 640x480 with 1 Axes>"
      ]
     },
     "metadata": {},
     "output_type": "display_data"
    }
   ],
   "source": [
    "#plot the EAD for each basin    \n",
    "from matplotlib import pyplot as plt\n",
    "for basin, ead_df in ead_by_ts_by_basin.items():\n",
    "    plt.plot(ead_df, label=basin)\n",
    "        "
   ]
  },
  {
   "cell_type": "code",
   "execution_count": 23,
   "metadata": {},
   "outputs": [
    {
     "name": "stderr",
     "output_type": "stream",
     "text": [
      "c:\\Users\\peregrin\\AppData\\Local\\anaconda3\\envs\\ci_adapt_env\\Lib\\site-packages\\geopandas\\geodataframe.py:1543: SettingWithCopyWarning: \n",
      "A value is trying to be set on a copy of a slice from a DataFrame.\n",
      "Try using .loc[row_indexer,col_indexer] = value instead\n",
      "\n",
      "See the caveats in the documentation: https://pandas.pydata.org/pandas-docs/stable/user_guide/indexing.html#returning-a-view-versus-a-copy\n",
      "  super().__setitem__(key, value)\n"
     ]
    },
    {
     "data": {
      "text/html": [
       "<div>\n",
       "<style scoped>\n",
       "    .dataframe tbody tr th:only-of-type {\n",
       "        vertical-align: middle;\n",
       "    }\n",
       "\n",
       "    .dataframe tbody tr th {\n",
       "        vertical-align: top;\n",
       "    }\n",
       "\n",
       "    .dataframe thead th {\n",
       "        text-align: right;\n",
       "    }\n",
       "</style>\n",
       "<table border=\"1\" class=\"dataframe\">\n",
       "  <thead>\n",
       "    <tr style=\"text-align: right;\">\n",
       "      <th></th>\n",
       "      <th>HYBAS_ID</th>\n",
       "      <th>NEXT_DOWN</th>\n",
       "      <th>NEXT_SINK</th>\n",
       "      <th>MAIN_BAS</th>\n",
       "      <th>DIST_SINK</th>\n",
       "      <th>DIST_MAIN</th>\n",
       "      <th>SUB_AREA</th>\n",
       "      <th>UP_AREA</th>\n",
       "      <th>PFAF_ID</th>\n",
       "      <th>ENDO</th>\n",
       "      <th>COAST</th>\n",
       "      <th>ORDER</th>\n",
       "      <th>SORT</th>\n",
       "      <th>geometry</th>\n",
       "      <th>damage</th>\n",
       "    </tr>\n",
       "  </thead>\n",
       "  <tbody>\n",
       "    <tr>\n",
       "      <th>6378</th>\n",
       "      <td>2080430320</td>\n",
       "      <td>2080428500</td>\n",
       "      <td>2080023010</td>\n",
       "      <td>2080023010</td>\n",
       "      <td>511.4</td>\n",
       "      <td>511.4</td>\n",
       "      <td>64.9</td>\n",
       "      <td>4060.3</td>\n",
       "      <td>23263061</td>\n",
       "      <td>0</td>\n",
       "      <td>0</td>\n",
       "      <td>2</td>\n",
       "      <td>6379</td>\n",
       "      <td>POLYGON ((7.91667 49.88750, 7.91424 49.88785, ...</td>\n",
       "      <td>4.144700e+08</td>\n",
       "    </tr>\n",
       "  </tbody>\n",
       "</table>\n",
       "</div>"
      ],
      "text/plain": [
       "        HYBAS_ID   NEXT_DOWN   NEXT_SINK    MAIN_BAS  DIST_SINK  DIST_MAIN  \\\n",
       "6378  2080430320  2080428500  2080023010  2080023010      511.4      511.4   \n",
       "\n",
       "      SUB_AREA  UP_AREA   PFAF_ID  ENDO  COAST  ORDER  SORT  \\\n",
       "6378      64.9   4060.3  23263061     0      0      2  6379   \n",
       "\n",
       "                                               geometry        damage  \n",
       "6378  POLYGON ((7.91667 49.88750, 7.91424 49.88785, ...  4.144700e+08  "
      ]
     },
     "execution_count": 23,
     "metadata": {},
     "output_type": "execute_result"
    }
   ],
   "source": [
    "import geopandas as gpd\n",
    "from lonboard import viz  # Assuming 'lonboard' is a correct module name; if not, correct as necessary\n",
    "\n",
    "def georeference_damages(gdf, damages):\n",
    "    # Initialize 'damage' column to 0\n",
    "    gdf['damage'] = 0\n",
    "    # Vectorized operation to map damages based on 'HYBAS_ID'\n",
    "    damage_map = {key: value for key, value in damages.items() if key in gdf['HYBAS_ID'].tolist()}\n",
    "    gdf['damage'] = gdf['HYBAS_ID'].map(damage_map).fillna(0)\n",
    "    return gdf\n",
    "\n",
    "# Load basins GeoDataFrame\n",
    "basins = gpd.read_file(r'c:\\Data\\Floods\\basins\\hybas_eu_lev01-12_v1c\\hybas_eu_lev08_v1c_valid.shp')\n",
    "\n",
    "# Assuming 'basins_list' is a predefined list of 'HYBAS_ID's to filter by\n",
    "basins_filtered = basins[basins['HYBAS_ID'].isin(basins_list)]\n",
    "\n",
    "# Assuming 'ead_df' is a dictionary with 'HYBAS_ID' as keys and damage values as values\n",
    "ead_gdf = georeference_damages(basins_filtered, total_damages_by_basin)\n",
    "ead_gdf\n"
   ]
  },
  {
   "cell_type": "code",
   "execution_count": 24,
   "metadata": {},
   "outputs": [
    {
     "name": "stdout",
     "output_type": "stream",
     "text": [
      "Data saved to pickle files.\n"
     ]
    }
   ],
   "source": [
    "# save G and shortest paths to pickle files\n",
    "pickle.dump(graph_0, open(interim_data_path / 'graph_0.pkl', 'wb'))\n",
    "pickle.dump(shortest_paths, open(interim_data_path / 'shortest_paths.pkl', 'wb'))\n",
    "pickle.dump(disrupted_edges_by_basin, open(interim_data_path / 'disrupted_edges_by_basin.pkl', 'wb'))\n",
    "pickle.dump(disrupted_shortest_paths, open(interim_data_path / 'disrupted_shortest_paths.pkl', 'wb'))\n",
    "pickle.dump(event_impacts, open(interim_data_path / 'event_impacts.pkl', 'wb'))\n",
    "pickle.dump(ead_gdf, open(interim_data_path / 'ead_gdf.pkl', 'wb'))\n",
    "pickle.dump(ead_by_ts_by_basin, open(interim_data_path / 'ead_by_ts_by_basin.pkl', 'wb'))\n",
    "print('Data saved to pickle files.')\n"
   ]
  },
  {
   "cell_type": "code",
   "execution_count": 25,
   "metadata": {},
   "outputs": [],
   "source": [
    "ead_by_ts_by_basin=pickle.load(open(interim_data_path / 'ead_by_ts_by_basin.pkl', 'rb'))"
   ]
  },
  {
   "cell_type": "code",
   "execution_count": 26,
   "metadata": {},
   "outputs": [
    {
     "data": {
      "text/plain": [
       "{2080430320:      Total indirect damage\n",
       " 0             2.413722e+06\n",
       " 1             2.447520e+06\n",
       " 2             2.481319e+06\n",
       " 3             2.515118e+06\n",
       " 4             2.548917e+06\n",
       " ..                     ...\n",
       " 96            5.658409e+06\n",
       " 97            5.692208e+06\n",
       " 98            5.726007e+06\n",
       " 99            5.759806e+06\n",
       " 100           5.793604e+06\n",
       " \n",
       " [101 rows x 1 columns]}"
      ]
     },
     "execution_count": 26,
     "metadata": {},
     "output_type": "execute_result"
    }
   ],
   "source": [
    "ead_by_ts_by_basin"
   ]
  },
  {
   "cell_type": "code",
   "execution_count": 61,
   "metadata": {},
   "outputs": [
    {
     "ename": "KeyError",
     "evalue": "\"['buffered'] not found in axis\"",
     "output_type": "error",
     "traceback": [
      "\u001b[1;31m---------------------------------------------------------------------------\u001b[0m",
      "\u001b[1;31mKeyError\u001b[0m                                  Traceback (most recent call last)",
      "Cell \u001b[1;32mIn[61], line 31\u001b[0m\n\u001b[0;32m     29\u001b[0m assets_no_buffer \u001b[38;5;241m=\u001b[39m assets\u001b[38;5;241m.\u001b[39mcopy()\n\u001b[0;32m     30\u001b[0m \u001b[38;5;66;03m#drop the buffered geometry from the assets\u001b[39;00m\n\u001b[1;32m---> 31\u001b[0m assets_no_buffer \u001b[38;5;241m=\u001b[39m \u001b[43massets_no_buffer\u001b[49m\u001b[38;5;241;43m.\u001b[39;49m\u001b[43mdrop\u001b[49m\u001b[43m(\u001b[49m\u001b[43mcolumns\u001b[49m\u001b[38;5;241;43m=\u001b[39;49m\u001b[38;5;124;43m'\u001b[39;49m\u001b[38;5;124;43mbuffered\u001b[39;49m\u001b[38;5;124;43m'\u001b[39;49m\u001b[43m)\u001b[49m\n\u001b[0;32m     32\u001b[0m layer_rail \u001b[38;5;241m=\u001b[39m PathLayer\u001b[38;5;241m.\u001b[39mfrom_geopandas(assets_no_buffer, width_min_pixels\u001b[38;5;241m=\u001b[39m\u001b[38;5;241m0.8\u001b[39m)\n\u001b[0;32m     34\u001b[0m layers\u001b[38;5;241m=\u001b[39m[]\n",
      "File \u001b[1;32mc:\\Users\\peregrin\\AppData\\Local\\anaconda3\\envs\\ci_adapt_env\\Lib\\site-packages\\pandas\\core\\frame.py:5568\u001b[0m, in \u001b[0;36mDataFrame.drop\u001b[1;34m(self, labels, axis, index, columns, level, inplace, errors)\u001b[0m\n\u001b[0;32m   5420\u001b[0m \u001b[38;5;28;01mdef\u001b[39;00m \u001b[38;5;21mdrop\u001b[39m(\n\u001b[0;32m   5421\u001b[0m     \u001b[38;5;28mself\u001b[39m,\n\u001b[0;32m   5422\u001b[0m     labels: IndexLabel \u001b[38;5;241m|\u001b[39m \u001b[38;5;28;01mNone\u001b[39;00m \u001b[38;5;241m=\u001b[39m \u001b[38;5;28;01mNone\u001b[39;00m,\n\u001b[1;32m   (...)\u001b[0m\n\u001b[0;32m   5429\u001b[0m     errors: IgnoreRaise \u001b[38;5;241m=\u001b[39m \u001b[38;5;124m\"\u001b[39m\u001b[38;5;124mraise\u001b[39m\u001b[38;5;124m\"\u001b[39m,\n\u001b[0;32m   5430\u001b[0m ) \u001b[38;5;241m-\u001b[39m\u001b[38;5;241m>\u001b[39m DataFrame \u001b[38;5;241m|\u001b[39m \u001b[38;5;28;01mNone\u001b[39;00m:\n\u001b[0;32m   5431\u001b[0m \u001b[38;5;250m    \u001b[39m\u001b[38;5;124;03m\"\"\"\u001b[39;00m\n\u001b[0;32m   5432\u001b[0m \u001b[38;5;124;03m    Drop specified labels from rows or columns.\u001b[39;00m\n\u001b[0;32m   5433\u001b[0m \n\u001b[1;32m   (...)\u001b[0m\n\u001b[0;32m   5566\u001b[0m \u001b[38;5;124;03m            weight  1.0     0.8\u001b[39;00m\n\u001b[0;32m   5567\u001b[0m \u001b[38;5;124;03m    \"\"\"\u001b[39;00m\n\u001b[1;32m-> 5568\u001b[0m     \u001b[38;5;28;01mreturn\u001b[39;00m \u001b[38;5;28;43msuper\u001b[39;49m\u001b[43m(\u001b[49m\u001b[43m)\u001b[49m\u001b[38;5;241;43m.\u001b[39;49m\u001b[43mdrop\u001b[49m\u001b[43m(\u001b[49m\n\u001b[0;32m   5569\u001b[0m \u001b[43m        \u001b[49m\u001b[43mlabels\u001b[49m\u001b[38;5;241;43m=\u001b[39;49m\u001b[43mlabels\u001b[49m\u001b[43m,\u001b[49m\n\u001b[0;32m   5570\u001b[0m \u001b[43m        \u001b[49m\u001b[43maxis\u001b[49m\u001b[38;5;241;43m=\u001b[39;49m\u001b[43maxis\u001b[49m\u001b[43m,\u001b[49m\n\u001b[0;32m   5571\u001b[0m \u001b[43m        \u001b[49m\u001b[43mindex\u001b[49m\u001b[38;5;241;43m=\u001b[39;49m\u001b[43mindex\u001b[49m\u001b[43m,\u001b[49m\n\u001b[0;32m   5572\u001b[0m \u001b[43m        \u001b[49m\u001b[43mcolumns\u001b[49m\u001b[38;5;241;43m=\u001b[39;49m\u001b[43mcolumns\u001b[49m\u001b[43m,\u001b[49m\n\u001b[0;32m   5573\u001b[0m \u001b[43m        \u001b[49m\u001b[43mlevel\u001b[49m\u001b[38;5;241;43m=\u001b[39;49m\u001b[43mlevel\u001b[49m\u001b[43m,\u001b[49m\n\u001b[0;32m   5574\u001b[0m \u001b[43m        \u001b[49m\u001b[43minplace\u001b[49m\u001b[38;5;241;43m=\u001b[39;49m\u001b[43minplace\u001b[49m\u001b[43m,\u001b[49m\n\u001b[0;32m   5575\u001b[0m \u001b[43m        \u001b[49m\u001b[43merrors\u001b[49m\u001b[38;5;241;43m=\u001b[39;49m\u001b[43merrors\u001b[49m\u001b[43m,\u001b[49m\n\u001b[0;32m   5576\u001b[0m \u001b[43m    \u001b[49m\u001b[43m)\u001b[49m\n",
      "File \u001b[1;32mc:\\Users\\peregrin\\AppData\\Local\\anaconda3\\envs\\ci_adapt_env\\Lib\\site-packages\\pandas\\core\\generic.py:4785\u001b[0m, in \u001b[0;36mNDFrame.drop\u001b[1;34m(self, labels, axis, index, columns, level, inplace, errors)\u001b[0m\n\u001b[0;32m   4783\u001b[0m \u001b[38;5;28;01mfor\u001b[39;00m axis, labels \u001b[38;5;129;01min\u001b[39;00m axes\u001b[38;5;241m.\u001b[39mitems():\n\u001b[0;32m   4784\u001b[0m     \u001b[38;5;28;01mif\u001b[39;00m labels \u001b[38;5;129;01mis\u001b[39;00m \u001b[38;5;129;01mnot\u001b[39;00m \u001b[38;5;28;01mNone\u001b[39;00m:\n\u001b[1;32m-> 4785\u001b[0m         obj \u001b[38;5;241m=\u001b[39m \u001b[43mobj\u001b[49m\u001b[38;5;241;43m.\u001b[39;49m\u001b[43m_drop_axis\u001b[49m\u001b[43m(\u001b[49m\u001b[43mlabels\u001b[49m\u001b[43m,\u001b[49m\u001b[43m \u001b[49m\u001b[43maxis\u001b[49m\u001b[43m,\u001b[49m\u001b[43m \u001b[49m\u001b[43mlevel\u001b[49m\u001b[38;5;241;43m=\u001b[39;49m\u001b[43mlevel\u001b[49m\u001b[43m,\u001b[49m\u001b[43m \u001b[49m\u001b[43merrors\u001b[49m\u001b[38;5;241;43m=\u001b[39;49m\u001b[43merrors\u001b[49m\u001b[43m)\u001b[49m\n\u001b[0;32m   4787\u001b[0m \u001b[38;5;28;01mif\u001b[39;00m inplace:\n\u001b[0;32m   4788\u001b[0m     \u001b[38;5;28mself\u001b[39m\u001b[38;5;241m.\u001b[39m_update_inplace(obj)\n",
      "File \u001b[1;32mc:\\Users\\peregrin\\AppData\\Local\\anaconda3\\envs\\ci_adapt_env\\Lib\\site-packages\\pandas\\core\\generic.py:4827\u001b[0m, in \u001b[0;36mNDFrame._drop_axis\u001b[1;34m(self, labels, axis, level, errors, only_slice)\u001b[0m\n\u001b[0;32m   4825\u001b[0m         new_axis \u001b[38;5;241m=\u001b[39m axis\u001b[38;5;241m.\u001b[39mdrop(labels, level\u001b[38;5;241m=\u001b[39mlevel, errors\u001b[38;5;241m=\u001b[39merrors)\n\u001b[0;32m   4826\u001b[0m     \u001b[38;5;28;01melse\u001b[39;00m:\n\u001b[1;32m-> 4827\u001b[0m         new_axis \u001b[38;5;241m=\u001b[39m \u001b[43maxis\u001b[49m\u001b[38;5;241;43m.\u001b[39;49m\u001b[43mdrop\u001b[49m\u001b[43m(\u001b[49m\u001b[43mlabels\u001b[49m\u001b[43m,\u001b[49m\u001b[43m \u001b[49m\u001b[43merrors\u001b[49m\u001b[38;5;241;43m=\u001b[39;49m\u001b[43merrors\u001b[49m\u001b[43m)\u001b[49m\n\u001b[0;32m   4828\u001b[0m     indexer \u001b[38;5;241m=\u001b[39m axis\u001b[38;5;241m.\u001b[39mget_indexer(new_axis)\n\u001b[0;32m   4830\u001b[0m \u001b[38;5;66;03m# Case for non-unique axis\u001b[39;00m\n\u001b[0;32m   4831\u001b[0m \u001b[38;5;28;01melse\u001b[39;00m:\n",
      "File \u001b[1;32mc:\\Users\\peregrin\\AppData\\Local\\anaconda3\\envs\\ci_adapt_env\\Lib\\site-packages\\pandas\\core\\indexes\\base.py:7070\u001b[0m, in \u001b[0;36mIndex.drop\u001b[1;34m(self, labels, errors)\u001b[0m\n\u001b[0;32m   7068\u001b[0m \u001b[38;5;28;01mif\u001b[39;00m mask\u001b[38;5;241m.\u001b[39many():\n\u001b[0;32m   7069\u001b[0m     \u001b[38;5;28;01mif\u001b[39;00m errors \u001b[38;5;241m!=\u001b[39m \u001b[38;5;124m\"\u001b[39m\u001b[38;5;124mignore\u001b[39m\u001b[38;5;124m\"\u001b[39m:\n\u001b[1;32m-> 7070\u001b[0m         \u001b[38;5;28;01mraise\u001b[39;00m \u001b[38;5;167;01mKeyError\u001b[39;00m(\u001b[38;5;124mf\u001b[39m\u001b[38;5;124m\"\u001b[39m\u001b[38;5;132;01m{\u001b[39;00mlabels[mask]\u001b[38;5;241m.\u001b[39mtolist()\u001b[38;5;132;01m}\u001b[39;00m\u001b[38;5;124m not found in axis\u001b[39m\u001b[38;5;124m\"\u001b[39m)\n\u001b[0;32m   7071\u001b[0m     indexer \u001b[38;5;241m=\u001b[39m indexer[\u001b[38;5;241m~\u001b[39mmask]\n\u001b[0;32m   7072\u001b[0m \u001b[38;5;28;01mreturn\u001b[39;00m \u001b[38;5;28mself\u001b[39m\u001b[38;5;241m.\u001b[39mdelete(indexer)\n",
      "\u001b[1;31mKeyError\u001b[0m: \"['buffered'] not found in axis\""
     ]
    }
   ],
   "source": [
    "# Create visualisation for the basin and the discharge points\n",
    "from lonboard import Map, PolygonLayer, PathLayer\n",
    "\n",
    "layer_basin = PolygonLayer.from_geopandas(basins_filtered,\n",
    "    get_fill_color=miraca_colors['grey_100'],\n",
    "    get_line_color=miraca_colors['green_900'], get_line_width=100,\n",
    "    auto_highlight=False,\n",
    "    filled=False)\n",
    "\n",
    "# Flood return period: H for frequent(RP10-20), M for 100 year return period (RP100) and L for extreme (RP2000)\n",
    "return_period_str='L'\n",
    "basin_vis_str='2080430320'\n",
    "# Generate flood layers and protection layers for visualization\n",
    "flood_plot_path=rf'C:\\Data\\Floods\\Germany\\basin_intersections\\DERP_RW_L_4326_hybas_intersections\\flood_DERP_RW_{return_period_str}_4326_{basin_vis_str}.geojson'\n",
    "flood_m = data_path / flood_plot_path\n",
    "flood_gdf=gpd.read_file(flood_m)\n",
    "layers_flood=[]\n",
    "f_area_colors = {1:'blue', 3:'green'}\n",
    "for f_area in flood_gdf.flood_area.unique():\n",
    "    for f_depth in flood_gdf.depth_class.unique():\n",
    "        subset_gdf = flood_gdf[(flood_gdf.depth_class==f_depth) & (flood_gdf.flood_area==f_area)]\n",
    "        if not subset_gdf.empty:\n",
    "            color_key=f'{f_area_colors[f_area]}_{f_depth}00'\n",
    "            layers_flood.append(PolygonLayer.from_geopandas(subset_gdf, \n",
    "                                                            get_fill_color=miraca_colors[color_key], \n",
    "                                                            opacity=0.5, \n",
    "                                                            stroked=False))\n",
    "\n",
    "assets_no_buffer = assets.copy()\n",
    "#drop the buffered geometry from the assets\n",
    "assets_no_buffer = assets_no_buffer.drop(columns='buffered')\n",
    "layer_rail = PathLayer.from_geopandas(assets_no_buffer, width_min_pixels=0.8)\n",
    "\n",
    "layers=[]\n",
    "if layer_basin is not None:\n",
    "    layers.append(layer_basin)\n",
    "else:\n",
    "    print('No basin layer')\n",
    "if layers_flood is not None:\n",
    "    layers.extend(layers_flood)\n",
    "else:\n",
    "    print('No flood layers')\n",
    "if layer_rail is not None:\n",
    "    layers.append(layer_rail)\n",
    "else:\n",
    "    print('No rail layers')\n",
    "\n",
    "Voyager = 'https://basemaps.cartocdn.com/gl/voyager-gl-style/style.json'\n",
    "\n",
    "m = Map(layers, show_tooltip=True, basemap_style=Voyager) \n",
    "\n",
    "m\n"
   ]
  },
  {
   "cell_type": "code",
   "execution_count": 64,
   "metadata": {},
   "outputs": [
    {
     "data": {
      "text/html": [
       "<div>\n",
       "<style scoped>\n",
       "    .dataframe tbody tr th:only-of-type {\n",
       "        vertical-align: middle;\n",
       "    }\n",
       "\n",
       "    .dataframe tbody tr th {\n",
       "        vertical-align: top;\n",
       "    }\n",
       "\n",
       "    .dataframe thead th {\n",
       "        text-align: right;\n",
       "    }\n",
       "</style>\n",
       "<table border=\"1\" class=\"dataframe\">\n",
       "  <thead>\n",
       "    <tr style=\"text-align: right;\">\n",
       "      <th></th>\n",
       "      <th>HYBAS_ID</th>\n",
       "      <th>NEXT_DOWN</th>\n",
       "      <th>NEXT_SINK</th>\n",
       "      <th>MAIN_BAS</th>\n",
       "      <th>DIST_SINK</th>\n",
       "      <th>DIST_MAIN</th>\n",
       "      <th>SUB_AREA</th>\n",
       "      <th>UP_AREA</th>\n",
       "      <th>PFAF_ID</th>\n",
       "      <th>ENDO</th>\n",
       "      <th>COAST</th>\n",
       "      <th>ORDER</th>\n",
       "      <th>SORT</th>\n",
       "      <th>geometry</th>\n",
       "      <th>damage</th>\n",
       "    </tr>\n",
       "  </thead>\n",
       "  <tbody>\n",
       "    <tr>\n",
       "      <th>6378</th>\n",
       "      <td>2080430320</td>\n",
       "      <td>2080428500</td>\n",
       "      <td>2080023010</td>\n",
       "      <td>2080023010</td>\n",
       "      <td>511.4</td>\n",
       "      <td>511.4</td>\n",
       "      <td>64.9</td>\n",
       "      <td>4060.3</td>\n",
       "      <td>23263061</td>\n",
       "      <td>0</td>\n",
       "      <td>0</td>\n",
       "      <td>2</td>\n",
       "      <td>6379</td>\n",
       "      <td>POLYGON ((7.91667 49.88750, 7.91424 49.88785, ...</td>\n",
       "      <td>2.450038e+06</td>\n",
       "    </tr>\n",
       "  </tbody>\n",
       "</table>\n",
       "</div>"
      ],
      "text/plain": [
       "        HYBAS_ID   NEXT_DOWN   NEXT_SINK    MAIN_BAS  DIST_SINK  DIST_MAIN  \\\n",
       "6378  2080430320  2080428500  2080023010  2080023010      511.4      511.4   \n",
       "\n",
       "      SUB_AREA  UP_AREA   PFAF_ID  ENDO  COAST  ORDER  SORT  \\\n",
       "6378      64.9   4060.3  23263061     0      0      2  6379   \n",
       "\n",
       "                                               geometry        damage  \n",
       "6378  POLYGON ((7.91667 49.88750, 7.91424 49.88785, ...  2.450038e+06  "
      ]
     },
     "execution_count": 64,
     "metadata": {},
     "output_type": "execute_result"
    }
   ],
   "source": [
    "ead_gdf"
   ]
  },
  {
   "cell_type": "code",
   "execution_count": 31,
   "metadata": {},
   "outputs": [],
   "source": [
    "# Visualisation\n",
    "\n",
    "def get_node_from_spaths(shortest_paths):\n",
    "    nodes_list = []\n",
    "    for key in shortest_paths.keys():\n",
    "        origin, destination = key\n",
    "        nodes_list.append(origin)\n",
    "        nodes_list.append(destination)\n",
    "\n",
    "    nodes_list = list(set(nodes_list))  # Remove duplicates\n",
    "\n",
    "    return nodes_list\n",
    "\n",
    "def from_spaths_to_edges(shortest_paths):\n",
    "    edges_in_paths = []\n",
    "    for (o, d), (nodes_in_path, demand) in shortest_paths.items():\n",
    "        if nodes_in_path is None:\n",
    "            print(f'No path found between {o} and {d}. Cannot ship by train.')\n",
    "            continue\n",
    "        \n",
    "        edges_in_path = [(nodes_in_path[i], nodes_in_path[i+1]) for i in range(len(nodes_in_path)-1)]\n",
    "        edges_in_paths.extend(edges_in_path)\n",
    "    return edges_in_paths\n",
    "\n",
    "\n",
    "\n",
    "\n"
   ]
  },
  {
   "cell_type": "code",
   "execution_count": null,
   "metadata": {},
   "outputs": [],
   "source": [
    "# from shapely.geometry import LineString\n",
    "# # Round coordinates to 0 decimal places to avoid GEOSException: TopologyException: side location conflict at x, y\n",
    "# def round_coordinates(line):\n",
    "#     rounded_coords = []\n",
    "#     for coord in line.coords:\n",
    "#         rounded_coords.append((round(coord[0], 0), round(coord[1], 0)))\n",
    "#     return LineString(rounded_coords)\n",
    "\n",
    "# geoms=[]\n",
    "# for geom in assets['geometry']:\n",
    "#     geoms.append(round_coordinates(geom))\n",
    "\n",
    "# assets['geometry']=geoms"
   ]
  },
  {
   "cell_type": "code",
   "execution_count": null,
   "metadata": {},
   "outputs": [],
   "source": [
    "# import warnings\n",
    "\n",
    "# with warnings.catch_warnings():\n",
    "#     warnings.simplefilter(\"ignore\")\n",
    "#     #Source: Asgarpour/snkit\n",
    "#     # Create a railway networks with possible terminal nodes. This returns a complex network, as includes the rail tracks with the highest level of detail.\n",
    "#     aggregation_range = 0.08 # in km\n",
    "#     complex_rail_network = get_rail_network_with_terminals(network_gdf=assets, aggregation_range=aggregation_range)\n"
   ]
  }
 ],
 "metadata": {
  "kernelspec": {
   "display_name": "ci-adapt",
   "language": "python",
   "name": "python3"
  },
  "language_info": {
   "codemirror_mode": {
    "name": "ipython",
    "version": 3
   },
   "file_extension": ".py",
   "mimetype": "text/x-python",
   "name": "python",
   "nbconvert_exporter": "python",
   "pygments_lexer": "ipython3",
   "version": "3.12.2"
  }
 },
 "nbformat": 4,
 "nbformat_minor": 2
}
