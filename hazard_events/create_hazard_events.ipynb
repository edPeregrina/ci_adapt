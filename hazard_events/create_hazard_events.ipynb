{
 "cells": [
  {
   "cell_type": "code",
   "execution_count": 16,
   "metadata": {},
   "outputs": [],
   "source": [
    "import geopandas as gpd\n",
    "from pathlib import Path\n",
    "import pandas as pd\n",
    "from tqdm import tqdm\n",
    "\n"
   ]
  },
  {
   "cell_type": "code",
   "execution_count": 3,
   "metadata": {},
   "outputs": [
    {
     "name": "stdout",
     "output_type": "stream",
     "text": [
      "Root: C:\\Data\\Floods\\Germany\\basin_intersections\n",
      "File: C:\\Data\\Floods\\Germany\\basin_intersections\\DERP_RW_M_4326_hybas_intersections\n"
     ]
    }
   ],
   "source": [
    "#   set data input Path and flood map name \n",
    "root_dir = Path (\"C:/\",\"Data\",\"Floods\",\"Germany\", \"basin_intersections\") #specify the path to the folder holding the input data\n",
    "\n",
    "#C:\\Data\\Floods\\Germany\\fluvial_undefended\\raw_subsample\n",
    "print('Root: ',end='')\n",
    "print(root_dir)\n",
    "_flood_map_name = \"DERP_RW_M_4326_hybas_intersections.geojson\" #set the name for the flood map\n",
    "flood_map=root_dir / _flood_map_name\n",
    "\n",
    "#   set data output name and directory\n",
    "output_map_dir=root_dir / _flood_map_name.split('.')[0]\n",
    "#output_map_prot=root_dir / \"DERP_RW_M_4326_wdepth_prot.shp\"\n",
    "\n",
    "print('File: ',end='')\n",
    "print(output_map_dir)\n",
    "# assert flood_map.is_file()"
   ]
  },
  {
   "cell_type": "code",
   "execution_count": 4,
   "metadata": {},
   "outputs": [
    {
     "data": {
      "text/html": [
       "<div>\n",
       "<style scoped>\n",
       "    .dataframe tbody tr th:only-of-type {\n",
       "        vertical-align: middle;\n",
       "    }\n",
       "\n",
       "    .dataframe tbody tr th {\n",
       "        vertical-align: top;\n",
       "    }\n",
       "\n",
       "    .dataframe thead th {\n",
       "        text-align: right;\n",
       "    }\n",
       "</style>\n",
       "<table border=\"1\" class=\"dataframe\">\n",
       "  <thead>\n",
       "    <tr style=\"text-align: right;\">\n",
       "      <th></th>\n",
       "      <th>T_class</th>\n",
       "      <th>w_depth</th>\n",
       "      <th>depth_clas</th>\n",
       "      <th>flood_area</th>\n",
       "      <th>HYBAS_ID</th>\n",
       "      <th>MAIN_BAS</th>\n",
       "      <th>PFAF_ID</th>\n",
       "      <th>ORDER</th>\n",
       "      <th>geometry</th>\n",
       "    </tr>\n",
       "  </thead>\n",
       "  <tbody>\n",
       "    <tr>\n",
       "      <th>0</th>\n",
       "      <td>11</td>\n",
       "      <td>0.25</td>\n",
       "      <td>1</td>\n",
       "      <td>1</td>\n",
       "      <td>2080447840</td>\n",
       "      <td>2080023010</td>\n",
       "      <td>23267015</td>\n",
       "      <td>1</td>\n",
       "      <td>MULTIPOLYGON (((8.16414 49.05517, 8.16415 49.0...</td>\n",
       "    </tr>\n",
       "    <tr>\n",
       "      <th>1</th>\n",
       "      <td>11</td>\n",
       "      <td>0.25</td>\n",
       "      <td>1</td>\n",
       "      <td>1</td>\n",
       "      <td>2080447840</td>\n",
       "      <td>2080023010</td>\n",
       "      <td>23267015</td>\n",
       "      <td>1</td>\n",
       "      <td>MULTIPOLYGON (((7.74782 49.16956, 7.74780 49.1...</td>\n",
       "    </tr>\n",
       "  </tbody>\n",
       "</table>\n",
       "</div>"
      ],
      "text/plain": [
       "   T_class  w_depth  depth_clas  flood_area    HYBAS_ID    MAIN_BAS   PFAF_ID  \\\n",
       "0       11     0.25           1           1  2080447840  2080023010  23267015   \n",
       "1       11     0.25           1           1  2080447840  2080023010  23267015   \n",
       "\n",
       "   ORDER                                           geometry  \n",
       "0      1  MULTIPOLYGON (((8.16414 49.05517, 8.16415 49.0...  \n",
       "1      1  MULTIPOLYGON (((7.74782 49.16956, 7.74780 49.1...  "
      ]
     },
     "execution_count": 4,
     "metadata": {},
     "output_type": "execute_result"
    }
   ],
   "source": [
    "flood_map_gdf=gpd.read_file(flood_map)\n",
    "flood_map_gdf.head(2)\n"
   ]
  },
  {
   "cell_type": "code",
   "execution_count": 17,
   "metadata": {},
   "outputs": [
    {
     "name": "stderr",
     "output_type": "stream",
     "text": [
      "  0%|          | 0/61 [00:00<?, ?it/s]"
     ]
    },
    {
     "name": "stderr",
     "output_type": "stream",
     "text": [
      "100%|██████████| 61/61 [15:46<00:00, 15.51s/it] \n"
     ]
    }
   ],
   "source": [
    "# hybas_ids=[]\n",
    "\n",
    "# Iterate over unique hybas_ids\n",
    "for unique_hybas_id in tqdm(flood_map_gdf['HYBAS_ID'].unique()):\n",
    "    output_file=f'flood_basin_{unique_hybas_id}.geojson'\n",
    "    output_path=output_map_dir / output_file\n",
    "    # Select rows with the current unique value\n",
    "    subset = flood_map_gdf[flood_map_gdf['HYBAS_ID'] == unique_hybas_id]  # Assuming there are at least 5 rows for each unique value\n",
    "    # Export the subset as GeoJSON\n",
    "    subset.to_file(output_path, driver='GeoJSON')\n",
    "\n"
   ]
  },
  {
   "cell_type": "code",
   "execution_count": 11,
   "metadata": {},
   "outputs": [
    {
     "data": {
      "text/html": [
       "<div>\n",
       "<style scoped>\n",
       "    .dataframe tbody tr th:only-of-type {\n",
       "        vertical-align: middle;\n",
       "    }\n",
       "\n",
       "    .dataframe tbody tr th {\n",
       "        vertical-align: top;\n",
       "    }\n",
       "\n",
       "    .dataframe thead th {\n",
       "        text-align: right;\n",
       "    }\n",
       "</style>\n",
       "<table border=\"1\" class=\"dataframe\">\n",
       "  <thead>\n",
       "    <tr style=\"text-align: right;\">\n",
       "      <th></th>\n",
       "      <th>T_class</th>\n",
       "      <th>w_depth</th>\n",
       "      <th>depth_clas</th>\n",
       "      <th>flood_area</th>\n",
       "      <th>HYBAS_ID</th>\n",
       "      <th>MAIN_BAS</th>\n",
       "      <th>PFAF_ID</th>\n",
       "      <th>ORDER</th>\n",
       "      <th>geometry</th>\n",
       "    </tr>\n",
       "  </thead>\n",
       "  <tbody>\n",
       "    <tr>\n",
       "      <th>829</th>\n",
       "      <td>15</td>\n",
       "      <td>4.0</td>\n",
       "      <td>5</td>\n",
       "      <td>1</td>\n",
       "      <td>2080429670</td>\n",
       "      <td>2080023010</td>\n",
       "      <td>23264010</td>\n",
       "      <td>2</td>\n",
       "      <td>MULTIPOLYGON (((8.29181 49.99260, 8.29182 49.9...</td>\n",
       "    </tr>\n",
       "  </tbody>\n",
       "</table>\n",
       "</div>"
      ],
      "text/plain": [
       "     T_class  w_depth  depth_clas  flood_area    HYBAS_ID    MAIN_BAS  \\\n",
       "829       15      4.0           5           1  2080429670  2080023010   \n",
       "\n",
       "      PFAF_ID  ORDER                                           geometry  \n",
       "829  23264010      2  MULTIPOLYGON (((8.29181 49.99260, 8.29182 49.9...  "
      ]
     },
     "execution_count": 11,
     "metadata": {},
     "output_type": "execute_result"
    }
   ],
   "source": [
    "subset"
   ]
  }
 ],
 "metadata": {
  "kernelspec": {
   "display_name": "osm-flex",
   "language": "python",
   "name": "python3"
  },
  "language_info": {
   "codemirror_mode": {
    "name": "ipython",
    "version": 3
   },
   "file_extension": ".py",
   "mimetype": "text/x-python",
   "name": "python",
   "nbconvert_exporter": "python",
   "pygments_lexer": "ipython3",
   "version": "3.11.7"
  }
 },
 "nbformat": 4,
 "nbformat_minor": 2
}
