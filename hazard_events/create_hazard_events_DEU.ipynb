{
 "cells": [
  {
   "cell_type": "code",
   "execution_count": 2,
   "metadata": {},
   "outputs": [],
   "source": [
    "from pathlib import Path\n",
    "import pandas as pd\n",
    "import geopandas as gpd\n",
    "from shapely.validation import make_valid\n",
    "from tqdm import tqdm"
   ]
  },
  {
   "cell_type": "code",
   "execution_count": 15,
   "metadata": {},
   "outputs": [
    {
     "name": "stdout",
     "output_type": "stream",
     "text": [
      "Root: C:\\Data\\Floods\\Germany\\raw_data\\SzenarioSelten\n",
      "File: C:\\Data\\Floods\\Germany\\raw_data\\SzenarioSelten\\DERP_RW_L.shp\n"
     ]
    }
   ],
   "source": [
    "# load flood data and reproject\n",
    "#   set data input Path and flood map name\n",
    "root_dir = Path (\"C:/\",\"Data\",\"Floods\",\"Germany\", \"raw_data\", \"SzenarioSelten\") #specify the path to the folder holding the input data\n",
    "print('Root: ',end='')\n",
    "print(root_dir)\n",
    "_flood_map_name = \"DERP_RW_L.shp\" #set the name for the flood map\n",
    "flood_map=root_dir / _flood_map_name\n",
    "\n",
    "#   set data output name and directory\n",
    "#output_map=root_dir / \"validated_geometries\" / \"DERP_RW_M_4326_subsample_valid_lmu.geojson\"\n",
    "\n",
    "print('File: ',end='')\n",
    "print(flood_map)\n",
    "assert flood_map.is_file()\n",
    "gdf_to_edit=gpd.read_file(flood_map).to_crs(4326)\n",
    "\n"
   ]
  },
  {
   "cell_type": "code",
   "execution_count": 16,
   "metadata": {},
   "outputs": [],
   "source": [
    "\n",
    "# make geometries valid:\n",
    "gdf_to_edit.geometry = gdf_to_edit.apply(lambda row: make_valid(row.geometry) if not row.geometry.is_valid else row.geometry, axis=1)"
   ]
  },
  {
   "cell_type": "code",
   "execution_count": 11,
   "metadata": {},
   "outputs": [],
   "source": [
    "\"\"\"\n",
    "Water depth class descriptions\n",
    "T_class,Description\n",
    "11,Water depth - classic flood area 0–0.5 m\n",
    "12,Water depth - classic flood area > 0.5–1 m\n",
    "13,Water depth - classic flood area > 1–2 m\n",
    "14,Water depth - classic flood area > 2–4 m\n",
    "15,Water depth - classic flood area > 4 m\n",
    "16,Water depth - classic flood area > 0.5–2m (only in certain areas of Saxony)\n",
    "17,Water depth - classic flood area > 2 m (only in certain areas of Saxony)\n",
    "21,Water depth - indicative flood area 0–0.5 m\n",
    "22,Water depth - indicative flood area > 0.5–1 m\n",
    "23,Water depth - indicative flood area > 1–2 m\n",
    "24,Water depth - indicative flood area > 2–4 m\n",
    "25,Water depth - indicative flood area > 4 m\n",
    "31,Water depth - flood-protected flood area 0–0.5 m\n",
    "32,Water depth - flood-protected flood area > 0.5–1 m\n",
    "33,Water depth - flood-protected flood area > 1–2 m\n",
    "34,Water depth - flood-protected flood area > 2–4 m\n",
    "35,Water depth - flood-protected flood area > 4 m\n",
    "\"\"\"\n",
    "#   define dictionary to relate water depth classes to water depths\n",
    "#TODO discuss way to establish depth\n",
    "w_depth_dict_lower={\n",
    "    '1':0.0,\n",
    "    '2':0.5,\n",
    "    '3':1.0,\n",
    "    '4':2.0,\n",
    "    '5':4.0,\n",
    "    '6':0.5, #only in areas of Saxony\n",
    "    '7':2.0 #only in areas of Saxony\n",
    "}\n",
    "w_depth_dict_mid={\n",
    "    '1':0.25,\n",
    "    '2':0.75,\n",
    "    '3':1.5,\n",
    "    '4':3.0,\n",
    "    '5':4.0,\n",
    "    '6':1.25, #only in areas of Saxony\n",
    "    '7':2.0 #only in areas of Saxony\n",
    "}\n",
    "w_depth_dict_upper={\n",
    "    '1':0.5,\n",
    "    '2':1.0,\n",
    "    '3':2.0,\n",
    "    '4':4.0,\n",
    "    '5':4.0,\n",
    "    '6':2.0, #only in areas of Saxony\n",
    "    '7':2.0 #only in areas of Saxony\n",
    "}"
   ]
  },
  {
   "cell_type": "code",
   "execution_count": 17,
   "metadata": {},
   "outputs": [],
   "source": [
    "wdepth_class=[]\n",
    "wdepth_l=[]\n",
    "wdepth_m=[]\n",
    "wdepth_u=[]\n",
    "farea=[]\n",
    "\n",
    "for i in range(len(gdf_to_edit)):\n",
    "    farea.append(int(str(gdf_to_edit['T_class'][i])[0]))\n",
    "    wdepth_class.append(int(str(gdf_to_edit['T_class'][i])[-1]))\n",
    "    wdepth_l.append(float(w_depth_dict_lower[str(gdf_to_edit['T_class'][i])[-1]]))\n",
    "    wdepth_m.append(float(w_depth_dict_mid[str(gdf_to_edit['T_class'][i])[-1]]))\n",
    "    wdepth_u.append(float(w_depth_dict_upper[str(gdf_to_edit['T_class'][i])[-1]]))\n",
    "\n",
    "gdf = gdf_to_edit.assign(w_depth_l=wdepth_l,w_depth_m=wdepth_m,w_depth_u=wdepth_u, depth_class=wdepth_class, flood_area=farea)\n"
   ]
  },
  {
   "cell_type": "code",
   "execution_count": 18,
   "metadata": {},
   "outputs": [],
   "source": [
    "output_map = Path (\"C:/\",\"Data\",\"Floods\",\"Germany\", \"interim_data\", \"DERP_RW_L_4326_valid_lmu.geojson\")\n",
    "gdf.to_file(output_map)"
   ]
  },
  {
   "cell_type": "code",
   "execution_count": 3,
   "metadata": {},
   "outputs": [],
   "source": [
    "# make basin geometries valid\n",
    "\n",
    "basins_path=\"C:/Data/Floods/basins/hybas_eu_lev01-12_v1c/hybas_eu_lev08_v1c.shp\"\n",
    "basins_path_valid=\"C:/Data/Floods/basins/hybas_eu_lev01-12_v1c/hybas_eu_lev08_v1c_valid.shp\"\n",
    "basins=gpd.read_file(basins_path)\n",
    "basins.geometry = basins.apply(lambda row: make_valid(row.geometry) if not row.geometry.is_valid else row.geometry, axis=1)\n",
    "basins.to_file(basins_path_valid)\n"
   ]
  },
  {
   "cell_type": "markdown",
   "metadata": {},
   "source": [
    "Intersect basins with flood map"
   ]
  },
  {
   "cell_type": "code",
   "execution_count": 2,
   "metadata": {},
   "outputs": [],
   "source": [
    "import os\n",
    "from qgis.core import QgsApplication\n",
    "\n",
    "# Set the path to the QGIS installation\n",
    "qgis_path = r'C:\\Users\\peregrin\\AppData\\Local\\anaconda3\\envs\\qgis_env\\Library\\bin\\qgis.exe'\n",
    "\n",
    "# Set the environment variables for QGIS\n",
    "os.environ['QT_QPA_PLATFORM_PLUGIN_PATH'] = os.path.join(qgis_path, 'apps', 'Qt5', 'plugins', 'platforms')\n",
    "os.environ['PATH'] += os.pathsep + os.path.join(qgis_path, 'apps', 'qgis', 'bin')\n",
    "os.environ['PYTHONPATH'] += os.pathsep + os.path.join(qgis_path, 'apps', 'qgis', 'python')\n",
    "os.environ['LD_LIBRARY_PATH'] = os.path.join(qgis_path, 'apps', 'qgis', 'lib')\n",
    "\n",
    "# Initialize QGIS application\n",
    "QgsApplication.setPrefixPath(qgis_path, True)\n",
    "qgs = QgsApplication([], False)\n",
    "qgs.initQgis()\n",
    "\n",
    "# Now you can use QGIS processing tools\n",
    "from qgis.analysis import QgsNativeAlgorithms\n",
    "QgsApplication.processingRegistry().addProvider(QgsNativeAlgorithms())\n",
    "\n",
    "import processing\n",
    "# intersect basin polygons with flood map\n",
    "processing.run(\"native:intersection\", {'INPUT':'C:/Data/Floods/Germany/interim_data/DERP_RW_H_4326_valid_lmu.geojson','OVERLAY':'C:/Data/Floods/basins/hybas_eu_lev01-12_v1c/hybas_eu_lev08_v1c_valid.shp','INPUT_FIELDS':['flood_area','depth_class','w_depth_l', 'w_depth_m', 'w_depth_u'],'OVERLAY_FIELDS':['HYBAS_ID','NEXT_DOWN','NEXT_SINK','MAIN_BAS','DIST_SINK','DIST_MAIN','SUB_AREA','UP_AREA','PFAF_ID','ORDER'],'OVERLAY_FIELDS_PREFIX':'','OUTPUT':'C:/Data/Floods/Germany/basin_intersections/DERP_RW_H_4326_hybas_intersections.geojson','GRID_SIZE':None})\n",
    "\n",
    "# exit QGIS application\n",
    "qgs.exitQgis()\n"
   ]
  },
  {
   "cell_type": "markdown",
   "metadata": {},
   "source": [
    "Save basin intersections into separate files"
   ]
  },
  {
   "cell_type": "code",
   "execution_count": 3,
   "metadata": {},
   "outputs": [
    {
     "name": "stdout",
     "output_type": "stream",
     "text": [
      "Root: C:\\Data\\Floods\\Germany\\basin_intersections\n",
      "['C:\\\\Data\\\\Floods\\\\Germany\\\\basin_intersections\\\\DERP_RW_H_4326_hybas_intersections.geojson', 'C:\\\\Data\\\\Floods\\\\Germany\\\\basin_intersections\\\\DERP_RW_L_4326_hybas_intersections.geojson', 'C:\\\\Data\\\\Floods\\\\Germany\\\\basin_intersections\\\\DERP_RW_M_4326_hybas_intersections.geojson']\n"
     ]
    }
   ],
   "source": [
    "import glob\n",
    "#   set data input Path and flood map name \n",
    "root_dir = Path (\"C:/\",\"Data\",\"Floods\",\"Germany\", \"basin_intersections\") #specify the path to the folder holding the input data\n",
    "\n",
    "print('Root: ',end='')\n",
    "print(root_dir)\n",
    "\n",
    "# Find all .geojson and .shp files in the root directory\n",
    "file_list = glob.glob(str(root_dir / '*.geojson')) + glob.glob(str(root_dir / '*.shp'))\n",
    "\n",
    "# Print the list of files\n",
    "print(file_list)\n",
    "\n"
   ]
  },
  {
   "cell_type": "code",
   "execution_count": 4,
   "metadata": {},
   "outputs": [
    {
     "name": "stdout",
     "output_type": "stream",
     "text": [
      "File 1/3: C:\\Data\\Floods\\Germany\\basin_intersections\\DERP_RW_H_4326_hybas_intersections.geojson\n"
     ]
    },
    {
     "name": "stderr",
     "output_type": "stream",
     "text": [
      "100%|██████████| 61/61 [04:31<00:00,  4.45s/it]\n"
     ]
    },
    {
     "name": "stdout",
     "output_type": "stream",
     "text": [
      "File 2/3: C:\\Data\\Floods\\Germany\\basin_intersections\\DERP_RW_L_4326_hybas_intersections.geojson\n"
     ]
    },
    {
     "ename": "KeyboardInterrupt",
     "evalue": "",
     "output_type": "error",
     "traceback": [
      "\u001b[1;31m---------------------------------------------------------------------------\u001b[0m",
      "\u001b[1;31mKeyboardInterrupt\u001b[0m                         Traceback (most recent call last)",
      "Cell \u001b[1;32mIn[4], line 20\u001b[0m\n\u001b[0;32m     18\u001b[0m \u001b[38;5;28;01massert\u001b[39;00m Path(flood_map)\u001b[38;5;241m.\u001b[39mis_file()\n\u001b[0;32m     19\u001b[0m output_map_dir\u001b[38;5;241m=\u001b[39mflood_map\u001b[38;5;241m.\u001b[39msplit(\u001b[38;5;124m'\u001b[39m\u001b[38;5;124m.\u001b[39m\u001b[38;5;124m'\u001b[39m)[\u001b[38;5;241m0\u001b[39m]\n\u001b[1;32m---> 20\u001b[0m flood_map_gdf\u001b[38;5;241m=\u001b[39m\u001b[43mgpd\u001b[49m\u001b[38;5;241;43m.\u001b[39;49m\u001b[43mread_file\u001b[49m\u001b[43m(\u001b[49m\u001b[43mflood_map\u001b[49m\u001b[43m)\u001b[49m\n\u001b[0;32m     21\u001b[0m map_out\u001b[38;5;241m=\u001b[39msplit_by_hybas_id(flood_map_gdf, flood_map, output_map_dir)\n",
      "File \u001b[1;32mc:\\Users\\peregrin\\AppData\\Local\\anaconda3\\envs\\osm-flex\\Lib\\site-packages\\geopandas\\io\\file.py:297\u001b[0m, in \u001b[0;36m_read_file\u001b[1;34m(filename, bbox, mask, rows, engine, **kwargs)\u001b[0m\n\u001b[0;32m    294\u001b[0m     \u001b[38;5;28;01melse\u001b[39;00m:\n\u001b[0;32m    295\u001b[0m         path_or_bytes \u001b[38;5;241m=\u001b[39m filename\n\u001b[1;32m--> 297\u001b[0m     \u001b[38;5;28;01mreturn\u001b[39;00m \u001b[43m_read_file_fiona\u001b[49m\u001b[43m(\u001b[49m\n\u001b[0;32m    298\u001b[0m \u001b[43m        \u001b[49m\u001b[43mpath_or_bytes\u001b[49m\u001b[43m,\u001b[49m\u001b[43m \u001b[49m\u001b[43mfrom_bytes\u001b[49m\u001b[43m,\u001b[49m\u001b[43m \u001b[49m\u001b[43mbbox\u001b[49m\u001b[38;5;241;43m=\u001b[39;49m\u001b[43mbbox\u001b[49m\u001b[43m,\u001b[49m\u001b[43m \u001b[49m\u001b[43mmask\u001b[49m\u001b[38;5;241;43m=\u001b[39;49m\u001b[43mmask\u001b[49m\u001b[43m,\u001b[49m\u001b[43m \u001b[49m\u001b[43mrows\u001b[49m\u001b[38;5;241;43m=\u001b[39;49m\u001b[43mrows\u001b[49m\u001b[43m,\u001b[49m\u001b[43m \u001b[49m\u001b[38;5;241;43m*\u001b[39;49m\u001b[38;5;241;43m*\u001b[39;49m\u001b[43mkwargs\u001b[49m\n\u001b[0;32m    299\u001b[0m \u001b[43m    \u001b[49m\u001b[43m)\u001b[49m\n\u001b[0;32m    301\u001b[0m \u001b[38;5;28;01melse\u001b[39;00m:\n\u001b[0;32m    302\u001b[0m     \u001b[38;5;28;01mraise\u001b[39;00m \u001b[38;5;167;01mValueError\u001b[39;00m(\u001b[38;5;124mf\u001b[39m\u001b[38;5;124m\"\u001b[39m\u001b[38;5;124munknown engine \u001b[39m\u001b[38;5;124m'\u001b[39m\u001b[38;5;132;01m{\u001b[39;00mengine\u001b[38;5;132;01m}\u001b[39;00m\u001b[38;5;124m'\u001b[39m\u001b[38;5;124m\"\u001b[39m)\n",
      "File \u001b[1;32mc:\\Users\\peregrin\\AppData\\Local\\anaconda3\\envs\\osm-flex\\Lib\\site-packages\\geopandas\\io\\file.py:395\u001b[0m, in \u001b[0;36m_read_file_fiona\u001b[1;34m(path_or_bytes, from_bytes, bbox, mask, rows, where, **kwargs)\u001b[0m\n\u001b[0;32m    391\u001b[0m     df \u001b[38;5;241m=\u001b[39m pd\u001b[38;5;241m.\u001b[39mDataFrame(\n\u001b[0;32m    392\u001b[0m         [record[\u001b[38;5;124m\"\u001b[39m\u001b[38;5;124mproperties\u001b[39m\u001b[38;5;124m\"\u001b[39m] \u001b[38;5;28;01mfor\u001b[39;00m record \u001b[38;5;129;01min\u001b[39;00m f_filt], columns\u001b[38;5;241m=\u001b[39mcolumns\n\u001b[0;32m    393\u001b[0m     )\n\u001b[0;32m    394\u001b[0m \u001b[38;5;28;01melse\u001b[39;00m:\n\u001b[1;32m--> 395\u001b[0m     df \u001b[38;5;241m=\u001b[39m \u001b[43mGeoDataFrame\u001b[49m\u001b[38;5;241;43m.\u001b[39;49m\u001b[43mfrom_features\u001b[49m\u001b[43m(\u001b[49m\n\u001b[0;32m    396\u001b[0m \u001b[43m        \u001b[49m\u001b[43mf_filt\u001b[49m\u001b[43m,\u001b[49m\u001b[43m \u001b[49m\u001b[43mcrs\u001b[49m\u001b[38;5;241;43m=\u001b[39;49m\u001b[43mcrs\u001b[49m\u001b[43m,\u001b[49m\u001b[43m \u001b[49m\u001b[43mcolumns\u001b[49m\u001b[38;5;241;43m=\u001b[39;49m\u001b[43mcolumns\u001b[49m\u001b[43m \u001b[49m\u001b[38;5;241;43m+\u001b[39;49m\u001b[43m \u001b[49m\u001b[43m[\u001b[49m\u001b[38;5;124;43m\"\u001b[39;49m\u001b[38;5;124;43mgeometry\u001b[39;49m\u001b[38;5;124;43m\"\u001b[39;49m\u001b[43m]\u001b[49m\n\u001b[0;32m    397\u001b[0m \u001b[43m    \u001b[49m\u001b[43m)\u001b[49m\n\u001b[0;32m    398\u001b[0m \u001b[38;5;28;01mfor\u001b[39;00m k \u001b[38;5;129;01min\u001b[39;00m datetime_fields:\n\u001b[0;32m    399\u001b[0m     as_dt \u001b[38;5;241m=\u001b[39m pd\u001b[38;5;241m.\u001b[39mto_datetime(df[k], errors\u001b[38;5;241m=\u001b[39m\u001b[38;5;124m\"\u001b[39m\u001b[38;5;124mignore\u001b[39m\u001b[38;5;124m\"\u001b[39m)\n",
      "File \u001b[1;32mc:\\Users\\peregrin\\AppData\\Local\\anaconda3\\envs\\osm-flex\\Lib\\site-packages\\geopandas\\geodataframe.py:641\u001b[0m, in \u001b[0;36mGeoDataFrame.from_features\u001b[1;34m(cls, features, crs, columns)\u001b[0m\n\u001b[0;32m    638\u001b[0m \u001b[38;5;28;01mif\u001b[39;00m \u001b[38;5;28mhasattr\u001b[39m(feature, \u001b[38;5;124m\"\u001b[39m\u001b[38;5;124m__geo_interface__\u001b[39m\u001b[38;5;124m\"\u001b[39m):\n\u001b[0;32m    639\u001b[0m     feature \u001b[38;5;241m=\u001b[39m feature\u001b[38;5;241m.\u001b[39m__geo_interface__\n\u001b[0;32m    640\u001b[0m row \u001b[38;5;241m=\u001b[39m {\n\u001b[1;32m--> 641\u001b[0m     \u001b[38;5;124m\"\u001b[39m\u001b[38;5;124mgeometry\u001b[39m\u001b[38;5;124m\"\u001b[39m: \u001b[43mshape\u001b[49m\u001b[43m(\u001b[49m\u001b[43mfeature\u001b[49m\u001b[43m[\u001b[49m\u001b[38;5;124;43m\"\u001b[39;49m\u001b[38;5;124;43mgeometry\u001b[39;49m\u001b[38;5;124;43m\"\u001b[39;49m\u001b[43m]\u001b[49m\u001b[43m)\u001b[49m \u001b[38;5;28;01mif\u001b[39;00m feature[\u001b[38;5;124m\"\u001b[39m\u001b[38;5;124mgeometry\u001b[39m\u001b[38;5;124m\"\u001b[39m] \u001b[38;5;28;01melse\u001b[39;00m \u001b[38;5;28;01mNone\u001b[39;00m\n\u001b[0;32m    642\u001b[0m }\n\u001b[0;32m    643\u001b[0m \u001b[38;5;66;03m# load properties\u001b[39;00m\n\u001b[0;32m    644\u001b[0m properties \u001b[38;5;241m=\u001b[39m feature[\u001b[38;5;124m\"\u001b[39m\u001b[38;5;124mproperties\u001b[39m\u001b[38;5;124m\"\u001b[39m]\n",
      "File \u001b[1;32mc:\\Users\\peregrin\\AppData\\Local\\anaconda3\\envs\\osm-flex\\Lib\\site-packages\\shapely\\geometry\\geo.py:108\u001b[0m, in \u001b[0;36mshape\u001b[1;34m(context)\u001b[0m\n\u001b[0;32m    106\u001b[0m     \u001b[38;5;28;01mreturn\u001b[39;00m MultiLineString(ob[\u001b[38;5;124m\"\u001b[39m\u001b[38;5;124mcoordinates\u001b[39m\u001b[38;5;124m\"\u001b[39m])\n\u001b[0;32m    107\u001b[0m \u001b[38;5;28;01melif\u001b[39;00m geom_type \u001b[38;5;241m==\u001b[39m \u001b[38;5;124m\"\u001b[39m\u001b[38;5;124mmultipolygon\u001b[39m\u001b[38;5;124m\"\u001b[39m:\n\u001b[1;32m--> 108\u001b[0m     \u001b[38;5;28;01mreturn\u001b[39;00m \u001b[43mMultiPolygon\u001b[49m\u001b[43m(\u001b[49m\u001b[43m[\u001b[49m\u001b[43m[\u001b[49m\u001b[43mc\u001b[49m\u001b[43m[\u001b[49m\u001b[38;5;241;43m0\u001b[39;49m\u001b[43m]\u001b[49m\u001b[43m,\u001b[49m\u001b[43m \u001b[49m\u001b[43mc\u001b[49m\u001b[43m[\u001b[49m\u001b[38;5;241;43m1\u001b[39;49m\u001b[43m:\u001b[49m\u001b[43m]\u001b[49m\u001b[43m]\u001b[49m\u001b[43m \u001b[49m\u001b[38;5;28;43;01mfor\u001b[39;49;00m\u001b[43m \u001b[49m\u001b[43mc\u001b[49m\u001b[43m \u001b[49m\u001b[38;5;129;43;01min\u001b[39;49;00m\u001b[43m \u001b[49m\u001b[43mob\u001b[49m\u001b[43m[\u001b[49m\u001b[38;5;124;43m\"\u001b[39;49m\u001b[38;5;124;43mcoordinates\u001b[39;49m\u001b[38;5;124;43m\"\u001b[39;49m\u001b[43m]\u001b[49m\u001b[43m]\u001b[49m\u001b[43m)\u001b[49m\n\u001b[0;32m    109\u001b[0m \u001b[38;5;28;01melif\u001b[39;00m geom_type \u001b[38;5;241m==\u001b[39m \u001b[38;5;124m\"\u001b[39m\u001b[38;5;124mgeometrycollection\u001b[39m\u001b[38;5;124m\"\u001b[39m:\n\u001b[0;32m    110\u001b[0m     geoms \u001b[38;5;241m=\u001b[39m [shape(g) \u001b[38;5;28;01mfor\u001b[39;00m g \u001b[38;5;129;01min\u001b[39;00m ob\u001b[38;5;241m.\u001b[39mget(\u001b[38;5;124m\"\u001b[39m\u001b[38;5;124mgeometries\u001b[39m\u001b[38;5;124m\"\u001b[39m, [])]\n",
      "File \u001b[1;32mc:\\Users\\peregrin\\AppData\\Local\\anaconda3\\envs\\osm-flex\\Lib\\site-packages\\shapely\\geometry\\multipolygon.py:81\u001b[0m, in \u001b[0;36mMultiPolygon.__new__\u001b[1;34m(self, polygons)\u001b[0m\n\u001b[0;32m     79\u001b[0m     shell \u001b[38;5;241m=\u001b[39m ob[\u001b[38;5;241m0\u001b[39m]\n\u001b[0;32m     80\u001b[0m     holes \u001b[38;5;241m=\u001b[39m ob[\u001b[38;5;241m1\u001b[39m]\n\u001b[1;32m---> 81\u001b[0m     p \u001b[38;5;241m=\u001b[39m \u001b[43mpolygon\u001b[49m\u001b[38;5;241;43m.\u001b[39;49m\u001b[43mPolygon\u001b[49m\u001b[43m(\u001b[49m\u001b[43mshell\u001b[49m\u001b[43m,\u001b[49m\u001b[43m \u001b[49m\u001b[43mholes\u001b[49m\u001b[43m)\u001b[49m\n\u001b[0;32m     82\u001b[0m \u001b[38;5;28;01melse\u001b[39;00m:\n\u001b[0;32m     83\u001b[0m     p \u001b[38;5;241m=\u001b[39m polygon\u001b[38;5;241m.\u001b[39mPolygon(ob)\n",
      "File \u001b[1;32mc:\\Users\\peregrin\\AppData\\Local\\anaconda3\\envs\\osm-flex\\Lib\\site-packages\\shapely\\geometry\\polygon.py:237\u001b[0m, in \u001b[0;36mPolygon.__new__\u001b[1;34m(self, shell, holes)\u001b[0m\n\u001b[0;32m    235\u001b[0m         holes \u001b[38;5;241m=\u001b[39m \u001b[38;5;28;01mNone\u001b[39;00m\n\u001b[0;32m    236\u001b[0m     \u001b[38;5;28;01melse\u001b[39;00m:\n\u001b[1;32m--> 237\u001b[0m         holes \u001b[38;5;241m=\u001b[39m \u001b[43m[\u001b[49m\u001b[43mLinearRing\u001b[49m\u001b[43m(\u001b[49m\u001b[43mring\u001b[49m\u001b[43m)\u001b[49m\u001b[43m \u001b[49m\u001b[38;5;28;43;01mfor\u001b[39;49;00m\u001b[43m \u001b[49m\u001b[43mring\u001b[49m\u001b[43m \u001b[49m\u001b[38;5;129;43;01min\u001b[39;49;00m\u001b[43m \u001b[49m\u001b[43mholes\u001b[49m\u001b[43m]\u001b[49m\n\u001b[0;32m    239\u001b[0m geom \u001b[38;5;241m=\u001b[39m shapely\u001b[38;5;241m.\u001b[39mpolygons(shell, holes\u001b[38;5;241m=\u001b[39mholes)\n\u001b[0;32m    240\u001b[0m \u001b[38;5;28;01mif\u001b[39;00m \u001b[38;5;129;01mnot\u001b[39;00m \u001b[38;5;28misinstance\u001b[39m(geom, Polygon):\n",
      "File \u001b[1;32mc:\\Users\\peregrin\\AppData\\Local\\anaconda3\\envs\\osm-flex\\Lib\\site-packages\\shapely\\geometry\\polygon.py:237\u001b[0m, in \u001b[0;36m<listcomp>\u001b[1;34m(.0)\u001b[0m\n\u001b[0;32m    235\u001b[0m         holes \u001b[38;5;241m=\u001b[39m \u001b[38;5;28;01mNone\u001b[39;00m\n\u001b[0;32m    236\u001b[0m     \u001b[38;5;28;01melse\u001b[39;00m:\n\u001b[1;32m--> 237\u001b[0m         holes \u001b[38;5;241m=\u001b[39m [\u001b[43mLinearRing\u001b[49m\u001b[43m(\u001b[49m\u001b[43mring\u001b[49m\u001b[43m)\u001b[49m \u001b[38;5;28;01mfor\u001b[39;00m ring \u001b[38;5;129;01min\u001b[39;00m holes]\n\u001b[0;32m    239\u001b[0m geom \u001b[38;5;241m=\u001b[39m shapely\u001b[38;5;241m.\u001b[39mpolygons(shell, holes\u001b[38;5;241m=\u001b[39mholes)\n\u001b[0;32m    240\u001b[0m \u001b[38;5;28;01mif\u001b[39;00m \u001b[38;5;129;01mnot\u001b[39;00m \u001b[38;5;28misinstance\u001b[39m(geom, Polygon):\n",
      "File \u001b[1;32mc:\\Users\\peregrin\\AppData\\Local\\anaconda3\\envs\\osm-flex\\Lib\\site-packages\\shapely\\geometry\\polygon.py:104\u001b[0m, in \u001b[0;36mLinearRing.__new__\u001b[1;34m(self, coordinates)\u001b[0m\n\u001b[0;32m     99\u001b[0m \u001b[38;5;28;01mif\u001b[39;00m \u001b[38;5;28mlen\u001b[39m(coordinates) \u001b[38;5;241m==\u001b[39m \u001b[38;5;241m0\u001b[39m:\n\u001b[0;32m    100\u001b[0m     \u001b[38;5;66;03m# empty geometry\u001b[39;00m\n\u001b[0;32m    101\u001b[0m     \u001b[38;5;66;03m# TODO better constructor + should shapely.linearrings handle this?\u001b[39;00m\n\u001b[0;32m    102\u001b[0m     \u001b[38;5;28;01mreturn\u001b[39;00m shapely\u001b[38;5;241m.\u001b[39mfrom_wkt(\u001b[38;5;124m\"\u001b[39m\u001b[38;5;124mLINEARRING EMPTY\u001b[39m\u001b[38;5;124m\"\u001b[39m)\n\u001b[1;32m--> 104\u001b[0m geom \u001b[38;5;241m=\u001b[39m \u001b[43mshapely\u001b[49m\u001b[38;5;241;43m.\u001b[39;49m\u001b[43mlinearrings\u001b[49m\u001b[43m(\u001b[49m\u001b[43mcoordinates\u001b[49m\u001b[43m)\u001b[49m\n\u001b[0;32m    105\u001b[0m \u001b[38;5;28;01mif\u001b[39;00m \u001b[38;5;129;01mnot\u001b[39;00m \u001b[38;5;28misinstance\u001b[39m(geom, LinearRing):\n\u001b[0;32m    106\u001b[0m     \u001b[38;5;28;01mraise\u001b[39;00m \u001b[38;5;167;01mValueError\u001b[39;00m(\u001b[38;5;124m\"\u001b[39m\u001b[38;5;124mInvalid values passed to LinearRing constructor\u001b[39m\u001b[38;5;124m\"\u001b[39m)\n",
      "File \u001b[1;32mc:\\Users\\peregrin\\AppData\\Local\\anaconda3\\envs\\osm-flex\\Lib\\site-packages\\shapely\\decorators.py:77\u001b[0m, in \u001b[0;36mmultithreading_enabled.<locals>.wrapped\u001b[1;34m(*args, **kwargs)\u001b[0m\n\u001b[0;32m     75\u001b[0m     \u001b[38;5;28;01mfor\u001b[39;00m arr \u001b[38;5;129;01min\u001b[39;00m array_args:\n\u001b[0;32m     76\u001b[0m         arr\u001b[38;5;241m.\u001b[39mflags\u001b[38;5;241m.\u001b[39mwriteable \u001b[38;5;241m=\u001b[39m \u001b[38;5;28;01mFalse\u001b[39;00m\n\u001b[1;32m---> 77\u001b[0m     \u001b[38;5;28;01mreturn\u001b[39;00m \u001b[43mfunc\u001b[49m\u001b[43m(\u001b[49m\u001b[38;5;241;43m*\u001b[39;49m\u001b[43margs\u001b[49m\u001b[43m,\u001b[49m\u001b[43m \u001b[49m\u001b[38;5;241;43m*\u001b[39;49m\u001b[38;5;241;43m*\u001b[39;49m\u001b[43mkwargs\u001b[49m\u001b[43m)\u001b[49m\n\u001b[0;32m     78\u001b[0m \u001b[38;5;28;01mfinally\u001b[39;00m:\n\u001b[0;32m     79\u001b[0m     \u001b[38;5;28;01mfor\u001b[39;00m arr, old_flag \u001b[38;5;129;01min\u001b[39;00m \u001b[38;5;28mzip\u001b[39m(array_args, old_flags):\n",
      "File \u001b[1;32mc:\\Users\\peregrin\\AppData\\Local\\anaconda3\\envs\\osm-flex\\Lib\\site-packages\\shapely\\creation.py:173\u001b[0m, in \u001b[0;36mlinearrings\u001b[1;34m(coords, y, z, indices, out, **kwargs)\u001b[0m\n\u001b[0;32m    171\u001b[0m coords \u001b[38;5;241m=\u001b[39m _xyz_to_coords(coords, y, z)\n\u001b[0;32m    172\u001b[0m \u001b[38;5;28;01mif\u001b[39;00m indices \u001b[38;5;129;01mis\u001b[39;00m \u001b[38;5;28;01mNone\u001b[39;00m:\n\u001b[1;32m--> 173\u001b[0m     \u001b[38;5;28;01mreturn\u001b[39;00m \u001b[43mlib\u001b[49m\u001b[38;5;241;43m.\u001b[39;49m\u001b[43mlinearrings\u001b[49m\u001b[43m(\u001b[49m\u001b[43mcoords\u001b[49m\u001b[43m,\u001b[49m\u001b[43m \u001b[49m\u001b[43mout\u001b[49m\u001b[38;5;241;43m=\u001b[39;49m\u001b[43mout\u001b[49m\u001b[43m,\u001b[49m\u001b[43m \u001b[49m\u001b[38;5;241;43m*\u001b[39;49m\u001b[38;5;241;43m*\u001b[39;49m\u001b[43mkwargs\u001b[49m\u001b[43m)\u001b[49m\n\u001b[0;32m    174\u001b[0m \u001b[38;5;28;01melse\u001b[39;00m:\n\u001b[0;32m    175\u001b[0m     \u001b[38;5;28;01mreturn\u001b[39;00m simple_geometries_1d(coords, indices, GeometryType\u001b[38;5;241m.\u001b[39mLINEARRING, out\u001b[38;5;241m=\u001b[39mout)\n",
      "\u001b[1;31mKeyboardInterrupt\u001b[0m: "
     ]
    }
   ],
   "source": [
    "def split_by_hybas_id(gdf, flood_map, output_map_dir):\n",
    "    _flood_map = flood_map.split('\\\\')[-1].split('_hybas_')[0]\n",
    "    # Iterate over unique hybas_ids\n",
    "    for unique_hybas_id in tqdm(gdf['HYBAS_ID'].unique()):\n",
    "        output_file=f'flood_{_flood_map}_{unique_hybas_id}.geojson'\n",
    "        output_path=Path(output_map_dir) / output_file\n",
    "        # Select rows with the current unique value\n",
    "        subset = gdf[gdf['HYBAS_ID'] == unique_hybas_id]  \n",
    "        # Export the subset as GeoJSON in the output directory\n",
    "        subset.to_file(output_path, driver='GeoJSON')\n",
    "    \n",
    "n_map=0\n",
    "len_file_list=len(file_list)\n",
    "for flood_map in file_list:\n",
    "    n_map+=1\n",
    "    print(f'File {n_map}/{len_file_list}: ',end='')\n",
    "    print(flood_map)\n",
    "    assert Path(flood_map).is_file()\n",
    "    output_map_dir=flood_map.split('.')[0]\n",
    "    flood_map_gdf=gpd.read_file(flood_map)\n",
    "    map_out=split_by_hybas_id(flood_map_gdf, flood_map, output_map_dir)\n",
    "    "
   ]
  },
  {
   "cell_type": "code",
   "execution_count": null,
   "metadata": {},
   "outputs": [],
   "source": []
  }
 ],
 "metadata": {
  "kernelspec": {
   "display_name": "osm-flex",
   "language": "python",
   "name": "python3"
  },
  "language_info": {
   "codemirror_mode": {
    "name": "ipython",
    "version": 3
   },
   "file_extension": ".py",
   "mimetype": "text/x-python",
   "name": "python",
   "nbconvert_exporter": "python",
   "pygments_lexer": "ipython3",
   "version": "3.11.7"
  }
 },
 "nbformat": 4,
 "nbformat_minor": 2
}
