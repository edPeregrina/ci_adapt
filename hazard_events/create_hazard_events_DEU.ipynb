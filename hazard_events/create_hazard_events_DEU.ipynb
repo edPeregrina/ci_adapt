{
 "cells": [
  {
   "cell_type": "code",
   "execution_count": 8,
   "metadata": {},
   "outputs": [],
   "source": [
    "from pathlib import Path\n",
    "import pandas as pd\n",
    "import geopandas as gpd\n",
    "from shapely.validation import make_valid\n",
    "from tqdm import tqdm\n",
    "\n"
   ]
  },
  {
   "cell_type": "code",
   "execution_count": 15,
   "metadata": {},
   "outputs": [
    {
     "name": "stdout",
     "output_type": "stream",
     "text": [
      "Root: C:\\Data\\Floods\\Germany\\raw_data\\SzenarioSelten\n",
      "File: C:\\Data\\Floods\\Germany\\raw_data\\SzenarioSelten\\DERP_RW_L.shp\n"
     ]
    }
   ],
   "source": [
    "# load flood data and reproject\n",
    "#   set data input Path and flood map name\n",
    "root_dir = Path (\"C:/\",\"Data\",\"Floods\",\"Germany\", \"raw_data\", \"SzenarioSelten\") #specify the path to the folder holding the input data\n",
    "print('Root: ',end='')\n",
    "print(root_dir)\n",
    "_flood_map_name = \"DERP_RW_L.shp\" #set the name for the flood map\n",
    "flood_map=root_dir / _flood_map_name\n",
    "\n",
    "#   set data output name and directory\n",
    "#output_map=root_dir / \"validated_geometries\" / \"DERP_RW_M_4326_subsample_valid_lmu.geojson\"\n",
    "\n",
    "print('File: ',end='')\n",
    "print(flood_map)\n",
    "assert flood_map.is_file()\n",
    "gdf_to_edit=gpd.read_file(flood_map).to_crs(4326)\n",
    "\n"
   ]
  },
  {
   "cell_type": "code",
   "execution_count": 16,
   "metadata": {},
   "outputs": [],
   "source": [
    "\n",
    "# make geometries valid:\n",
    "gdf_to_edit.geometry = gdf_to_edit.apply(lambda row: make_valid(row.geometry) if not row.geometry.is_valid else row.geometry, axis=1)"
   ]
  },
  {
   "cell_type": "code",
   "execution_count": 11,
   "metadata": {},
   "outputs": [],
   "source": [
    "\"\"\"\n",
    "Water depth class descriptions\n",
    "T_class,Description\n",
    "11,Water depth - classic flood area 0–0.5 m\n",
    "12,Water depth - classic flood area > 0.5–1 m\n",
    "13,Water depth - classic flood area > 1–2 m\n",
    "14,Water depth - classic flood area > 2–4 m\n",
    "15,Water depth - classic flood area > 4 m\n",
    "16,Water depth - classic flood area > 0.5–2m (only in certain areas of Saxony)\n",
    "17,Water depth - classic flood area > 2 m (only in certain areas of Saxony)\n",
    "21,Water depth - indicative flood area 0–0.5 m\n",
    "22,Water depth - indicative flood area > 0.5–1 m\n",
    "23,Water depth - indicative flood area > 1–2 m\n",
    "24,Water depth - indicative flood area > 2–4 m\n",
    "25,Water depth - indicative flood area > 4 m\n",
    "31,Water depth - flood-protected flood area 0–0.5 m\n",
    "32,Water depth - flood-protected flood area > 0.5–1 m\n",
    "33,Water depth - flood-protected flood area > 1–2 m\n",
    "34,Water depth - flood-protected flood area > 2–4 m\n",
    "35,Water depth - flood-protected flood area > 4 m\n",
    "\"\"\"\n",
    "#   define dictionary to relate water depth classes to water depths\n",
    "#TODO discuss way to establish depth\n",
    "w_depth_dict_lower={\n",
    "    '1':0.0,\n",
    "    '2':0.5,\n",
    "    '3':1.0,\n",
    "    '4':2.0,\n",
    "    '5':4.0,\n",
    "    '6':0.5, #only in areas of Saxony\n",
    "    '7':2.0 #only in areas of Saxony\n",
    "}\n",
    "w_depth_dict_mid={\n",
    "    '1':0.25,\n",
    "    '2':0.75,\n",
    "    '3':1.5,\n",
    "    '4':3.0,\n",
    "    '5':4.0,\n",
    "    '6':1.25, #only in areas of Saxony\n",
    "    '7':2.0 #only in areas of Saxony\n",
    "}\n",
    "w_depth_dict_upper={\n",
    "    '1':0.5,\n",
    "    '2':1.0,\n",
    "    '3':2.0,\n",
    "    '4':4.0,\n",
    "    '5':4.0,\n",
    "    '6':2.0, #only in areas of Saxony\n",
    "    '7':2.0 #only in areas of Saxony\n",
    "}"
   ]
  },
  {
   "cell_type": "code",
   "execution_count": 17,
   "metadata": {},
   "outputs": [],
   "source": [
    "wdepth_class=[]\n",
    "wdepth_l=[]\n",
    "wdepth_m=[]\n",
    "wdepth_u=[]\n",
    "farea=[]\n",
    "\n",
    "for i in range(len(gdf_to_edit)):\n",
    "    farea.append(int(str(gdf_to_edit['T_class'][i])[0]))\n",
    "    wdepth_class.append(int(str(gdf_to_edit['T_class'][i])[-1]))\n",
    "    wdepth_l.append(float(w_depth_dict_lower[str(gdf_to_edit['T_class'][i])[-1]]))\n",
    "    wdepth_m.append(float(w_depth_dict_mid[str(gdf_to_edit['T_class'][i])[-1]]))\n",
    "    wdepth_u.append(float(w_depth_dict_upper[str(gdf_to_edit['T_class'][i])[-1]]))\n",
    "\n",
    "gdf = gdf_to_edit.assign(w_depth_l=wdepth_l,w_depth_m=wdepth_m,w_depth_u=wdepth_u, depth_class=wdepth_class, flood_area=farea)\n"
   ]
  },
  {
   "cell_type": "code",
   "execution_count": 18,
   "metadata": {},
   "outputs": [],
   "source": [
    "output_map = Path (\"C:/\",\"Data\",\"Floods\",\"Germany\", \"interim_data\", \"DERP_RW_L_4326_valid_lmu.geojson\")\n",
    "gdf.to_file(output_map)"
   ]
  },
  {
   "cell_type": "code",
   "execution_count": 7,
   "metadata": {},
   "outputs": [
    {
     "ename": "ModuleNotFoundError",
     "evalue": "No module named 'processing'",
     "output_type": "error",
     "traceback": [
      "\u001b[1;31m---------------------------------------------------------------------------\u001b[0m",
      "\u001b[1;31mModuleNotFoundError\u001b[0m                       Traceback (most recent call last)",
      "Cell \u001b[1;32mIn[7], line 1\u001b[0m\n\u001b[1;32m----> 1\u001b[0m \u001b[38;5;28;01mimport\u001b[39;00m \u001b[38;5;21;01mprocessing\u001b[39;00m\n\u001b[0;32m      2\u001b[0m \u001b[38;5;66;03m# intersect basin polygons with flood map\u001b[39;00m\n\u001b[0;32m      3\u001b[0m processing\u001b[38;5;241m.\u001b[39mrun(\u001b[38;5;124m\"\u001b[39m\u001b[38;5;124mnative:intersection\u001b[39m\u001b[38;5;124m\"\u001b[39m, {\u001b[38;5;124m'\u001b[39m\u001b[38;5;124mINPUT\u001b[39m\u001b[38;5;124m'\u001b[39m:\u001b[38;5;124m'\u001b[39m\u001b[38;5;124mC:/Users/peregrin/OneDrive - Stichting Deltares/Documents/PhD Daniel Shared/Flood data/Ueberflutungstiefen_DERP/Flusshochwasser/SzenarioHaufig/DERP_RW_H.shp\u001b[39m\u001b[38;5;124m'\u001b[39m,\u001b[38;5;124m'\u001b[39m\u001b[38;5;124mOVERLAY\u001b[39m\u001b[38;5;124m'\u001b[39m:\u001b[38;5;124m'\u001b[39m\u001b[38;5;124mC:/../../../../Data/Floods/basins/hybas_eu_lev01-12_v1c/hybas_eu_lev08_v1c.shp\u001b[39m\u001b[38;5;124m'\u001b[39m,\u001b[38;5;124m'\u001b[39m\u001b[38;5;124mINPUT_FIELDS\u001b[39m\u001b[38;5;124m'\u001b[39m:[\u001b[38;5;124m'\u001b[39m\u001b[38;5;124mT_class\u001b[39m\u001b[38;5;124m'\u001b[39m],\u001b[38;5;124m'\u001b[39m\u001b[38;5;124mOVERLAY_FIELDS\u001b[39m\u001b[38;5;124m'\u001b[39m:[\u001b[38;5;124m'\u001b[39m\u001b[38;5;124mHYBAS_ID\u001b[39m\u001b[38;5;124m'\u001b[39m,\u001b[38;5;124m'\u001b[39m\u001b[38;5;124mNEXT_DOWN\u001b[39m\u001b[38;5;124m'\u001b[39m,\u001b[38;5;124m'\u001b[39m\u001b[38;5;124mNEXT_SINK\u001b[39m\u001b[38;5;124m'\u001b[39m,\u001b[38;5;124m'\u001b[39m\u001b[38;5;124mMAIN_BAS\u001b[39m\u001b[38;5;124m'\u001b[39m,\u001b[38;5;124m'\u001b[39m\u001b[38;5;124mDIST_SINK\u001b[39m\u001b[38;5;124m'\u001b[39m,\u001b[38;5;124m'\u001b[39m\u001b[38;5;124mDIST_MAIN\u001b[39m\u001b[38;5;124m'\u001b[39m,\u001b[38;5;124m'\u001b[39m\u001b[38;5;124mSUB_AREA\u001b[39m\u001b[38;5;124m'\u001b[39m,\u001b[38;5;124m'\u001b[39m\u001b[38;5;124mUP_AREA\u001b[39m\u001b[38;5;124m'\u001b[39m,\u001b[38;5;124m'\u001b[39m\u001b[38;5;124mPFAF_ID\u001b[39m\u001b[38;5;124m'\u001b[39m,\u001b[38;5;124m'\u001b[39m\u001b[38;5;124mORDER\u001b[39m\u001b[38;5;124m'\u001b[39m],\u001b[38;5;124m'\u001b[39m\u001b[38;5;124mOVERLAY_FIELDS_PREFIX\u001b[39m\u001b[38;5;124m'\u001b[39m:\u001b[38;5;124m'\u001b[39m\u001b[38;5;124m'\u001b[39m,\u001b[38;5;124m'\u001b[39m\u001b[38;5;124mOUTPUT\u001b[39m\u001b[38;5;124m'\u001b[39m:\u001b[38;5;124m'\u001b[39m\u001b[38;5;124mC:/Data/Floods/Germany/basin_intersections/DERP_RW_H_4326_hybas_intersections.geojson\u001b[39m\u001b[38;5;124m'\u001b[39m,\u001b[38;5;124m'\u001b[39m\u001b[38;5;124mGRID_SIZE\u001b[39m\u001b[38;5;124m'\u001b[39m:\u001b[38;5;28;01mNone\u001b[39;00m})\n",
      "\u001b[1;31mModuleNotFoundError\u001b[0m: No module named 'processing'"
     ]
    }
   ],
   "source": [
    "import processing\n",
    "# intersect basin polygons with flood map\n",
    "processing.run(\"native:intersection\", {'INPUT':'C:/Users/peregrin/OneDrive - Stichting Deltares/Documents/PhD Daniel Shared/Flood data/Ueberflutungstiefen_DERP/Flusshochwasser/SzenarioHaufig/DERP_RW_H.shp','OVERLAY':'C:/../../../../Data/Floods/basins/hybas_eu_lev01-12_v1c/hybas_eu_lev08_v1c.shp','INPUT_FIELDS':['T_class'],'OVERLAY_FIELDS':['HYBAS_ID','NEXT_DOWN','NEXT_SINK','MAIN_BAS','DIST_SINK','DIST_MAIN','SUB_AREA','UP_AREA','PFAF_ID','ORDER'],'OVERLAY_FIELDS_PREFIX':'','OUTPUT':'C:/Data/Floods/Germany/basin_intersections/DERP_RW_H_4326_hybas_intersections.geojson','GRID_SIZE':None})"
   ]
  },
  {
   "cell_type": "code",
   "execution_count": 3,
   "metadata": {},
   "outputs": [
    {
     "name": "stdout",
     "output_type": "stream",
     "text": [
      "Root: C:\\Data\\Floods\\Germany\\basin_intersections\n",
      "File: C:\\Data\\Floods\\Germany\\basin_intersections\\DERP_RW_M_4326_hybas_intersections\n"
     ]
    }
   ],
   "source": [
    "#   set data input Path and flood map name \n",
    "root_dir = Path (\"C:/\",\"Data\",\"Floods\",\"Germany\", \"basin_intersections\") #specify the path to the folder holding the input data\n",
    "\n",
    "#C:\\Data\\Floods\\Germany\\fluvial_undefended\\raw_subsample\n",
    "print('Root: ',end='')\n",
    "print(root_dir)\n",
    "_flood_map_name = \"DERP_RW_M_4326_hybas_intersections.geojson\" #set the name for the flood map\n",
    "flood_map=root_dir / _flood_map_name\n",
    "\n",
    "#   set data output name and directory\n",
    "output_map_dir=root_dir / _flood_map_name.split('.')[0]\n",
    "#output_map_prot=root_dir / \"DERP_RW_M_4326_wdepth_prot.shp\"\n",
    "\n",
    "print('File: ',end='')\n",
    "print(output_map_dir)\n",
    "# assert flood_map.is_file()"
   ]
  },
  {
   "cell_type": "code",
   "execution_count": 4,
   "metadata": {},
   "outputs": [
    {
     "data": {
      "text/html": [
       "<div>\n",
       "<style scoped>\n",
       "    .dataframe tbody tr th:only-of-type {\n",
       "        vertical-align: middle;\n",
       "    }\n",
       "\n",
       "    .dataframe tbody tr th {\n",
       "        vertical-align: top;\n",
       "    }\n",
       "\n",
       "    .dataframe thead th {\n",
       "        text-align: right;\n",
       "    }\n",
       "</style>\n",
       "<table border=\"1\" class=\"dataframe\">\n",
       "  <thead>\n",
       "    <tr style=\"text-align: right;\">\n",
       "      <th></th>\n",
       "      <th>T_class</th>\n",
       "      <th>w_depth</th>\n",
       "      <th>depth_clas</th>\n",
       "      <th>flood_area</th>\n",
       "      <th>HYBAS_ID</th>\n",
       "      <th>MAIN_BAS</th>\n",
       "      <th>PFAF_ID</th>\n",
       "      <th>ORDER</th>\n",
       "      <th>geometry</th>\n",
       "    </tr>\n",
       "  </thead>\n",
       "  <tbody>\n",
       "    <tr>\n",
       "      <th>0</th>\n",
       "      <td>11</td>\n",
       "      <td>0.25</td>\n",
       "      <td>1</td>\n",
       "      <td>1</td>\n",
       "      <td>2080447840</td>\n",
       "      <td>2080023010</td>\n",
       "      <td>23267015</td>\n",
       "      <td>1</td>\n",
       "      <td>MULTIPOLYGON (((8.16414 49.05517, 8.16415 49.0...</td>\n",
       "    </tr>\n",
       "    <tr>\n",
       "      <th>1</th>\n",
       "      <td>11</td>\n",
       "      <td>0.25</td>\n",
       "      <td>1</td>\n",
       "      <td>1</td>\n",
       "      <td>2080447840</td>\n",
       "      <td>2080023010</td>\n",
       "      <td>23267015</td>\n",
       "      <td>1</td>\n",
       "      <td>MULTIPOLYGON (((7.74782 49.16956, 7.74780 49.1...</td>\n",
       "    </tr>\n",
       "  </tbody>\n",
       "</table>\n",
       "</div>"
      ],
      "text/plain": [
       "   T_class  w_depth  depth_clas  flood_area    HYBAS_ID    MAIN_BAS   PFAF_ID  \\\n",
       "0       11     0.25           1           1  2080447840  2080023010  23267015   \n",
       "1       11     0.25           1           1  2080447840  2080023010  23267015   \n",
       "\n",
       "   ORDER                                           geometry  \n",
       "0      1  MULTIPOLYGON (((8.16414 49.05517, 8.16415 49.0...  \n",
       "1      1  MULTIPOLYGON (((7.74782 49.16956, 7.74780 49.1...  "
      ]
     },
     "execution_count": 4,
     "metadata": {},
     "output_type": "execute_result"
    }
   ],
   "source": [
    "flood_map_gdf=gpd.read_file(flood_map)\n",
    "flood_map_gdf.head(2)\n"
   ]
  },
  {
   "cell_type": "code",
   "execution_count": 17,
   "metadata": {},
   "outputs": [
    {
     "name": "stderr",
     "output_type": "stream",
     "text": [
      "  0%|          | 0/61 [00:00<?, ?it/s]"
     ]
    },
    {
     "name": "stderr",
     "output_type": "stream",
     "text": [
      "100%|██████████| 61/61 [15:46<00:00, 15.51s/it] \n"
     ]
    }
   ],
   "source": [
    "# hybas_ids=[]\n",
    "\n",
    "# Iterate over unique hybas_ids\n",
    "for unique_hybas_id in tqdm(flood_map_gdf['HYBAS_ID'].unique()):\n",
    "    output_file=f'flood_basin_{unique_hybas_id}.geojson'\n",
    "    output_path=output_map_dir / output_file\n",
    "    # Select rows with the current unique value\n",
    "    subset = flood_map_gdf[flood_map_gdf['HYBAS_ID'] == unique_hybas_id]  # Assuming there are at least 5 rows for each unique value\n",
    "    # Export the subset as GeoJSON\n",
    "    subset.to_file(output_path, driver='GeoJSON')\n",
    "\n"
   ]
  },
  {
   "cell_type": "code",
   "execution_count": 11,
   "metadata": {},
   "outputs": [
    {
     "data": {
      "text/html": [
       "<div>\n",
       "<style scoped>\n",
       "    .dataframe tbody tr th:only-of-type {\n",
       "        vertical-align: middle;\n",
       "    }\n",
       "\n",
       "    .dataframe tbody tr th {\n",
       "        vertical-align: top;\n",
       "    }\n",
       "\n",
       "    .dataframe thead th {\n",
       "        text-align: right;\n",
       "    }\n",
       "</style>\n",
       "<table border=\"1\" class=\"dataframe\">\n",
       "  <thead>\n",
       "    <tr style=\"text-align: right;\">\n",
       "      <th></th>\n",
       "      <th>T_class</th>\n",
       "      <th>w_depth</th>\n",
       "      <th>depth_clas</th>\n",
       "      <th>flood_area</th>\n",
       "      <th>HYBAS_ID</th>\n",
       "      <th>MAIN_BAS</th>\n",
       "      <th>PFAF_ID</th>\n",
       "      <th>ORDER</th>\n",
       "      <th>geometry</th>\n",
       "    </tr>\n",
       "  </thead>\n",
       "  <tbody>\n",
       "    <tr>\n",
       "      <th>829</th>\n",
       "      <td>15</td>\n",
       "      <td>4.0</td>\n",
       "      <td>5</td>\n",
       "      <td>1</td>\n",
       "      <td>2080429670</td>\n",
       "      <td>2080023010</td>\n",
       "      <td>23264010</td>\n",
       "      <td>2</td>\n",
       "      <td>MULTIPOLYGON (((8.29181 49.99260, 8.29182 49.9...</td>\n",
       "    </tr>\n",
       "  </tbody>\n",
       "</table>\n",
       "</div>"
      ],
      "text/plain": [
       "     T_class  w_depth  depth_clas  flood_area    HYBAS_ID    MAIN_BAS  \\\n",
       "829       15      4.0           5           1  2080429670  2080023010   \n",
       "\n",
       "      PFAF_ID  ORDER                                           geometry  \n",
       "829  23264010      2  MULTIPOLYGON (((8.29181 49.99260, 8.29182 49.9...  "
      ]
     },
     "execution_count": 11,
     "metadata": {},
     "output_type": "execute_result"
    }
   ],
   "source": [
    "subset"
   ]
  }
 ],
 "metadata": {
  "kernelspec": {
   "display_name": "osm-flex",
   "language": "python",
   "name": "python3"
  },
  "language_info": {
   "codemirror_mode": {
    "name": "ipython",
    "version": 3
   },
   "file_extension": ".py",
   "mimetype": "text/x-python",
   "name": "python",
   "nbconvert_exporter": "python",
   "pygments_lexer": "ipython3",
   "version": "3.11.7"
  }
 },
 "nbformat": 4,
 "nbformat_minor": 2
}
