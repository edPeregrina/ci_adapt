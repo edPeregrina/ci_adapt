{
 "cells": [
  {
   "cell_type": "markdown",
   "metadata": {},
   "source": [
    "This notebook calculates the change in direct damage to specified assets"
   ]
  },
  {
   "cell_type": "code",
   "execution_count": 1,
   "metadata": {},
   "outputs": [],
   "source": [
    "# Imports\n",
    "import configparser\n",
    "from pathlib import Path\n",
    "import pathlib\n",
    "from direct_damages import damagescanner_rail_track as ds\n",
    "import pandas as pd\n",
    "import geopandas as gpd\n",
    "import datetime\n",
    "from ci_adapt_utilities import *\n",
    "import pickle"
   ]
  },
  {
   "cell_type": "code",
   "execution_count": 2,
   "metadata": {},
   "outputs": [],
   "source": [
    "# Load configuration with ini file (created running config.py)\n",
    "config_file=r'C:\\repos\\ci_adapt\\config_ci_adapt.ini'\n",
    "config = configparser.ConfigParser()\n",
    "config.read(config_file)\n",
    "\n",
    "p = Path('..')\n",
    "hazard_type = config.get('DEFAULT', 'hazard_type')\n",
    "infra_type = config.get('DEFAULT', 'infra_type')\n",
    "country_code = config.get('DEFAULT', 'country_code')\n",
    "country_name = config.get('DEFAULT', 'country_name')\n",
    "hazard_data_subfolders = config.get('DEFAULT', 'hazard_data_subfolders')\n",
    "asset_data = config.get('DEFAULT', 'asset_data')\n",
    "vulnerability_data = config.get('DEFAULT', 'vulnerability_data')\n",
    "data_path = Path(pathlib.Path.home().parts[0]) / 'Data'\n",
    "interim_data_path = data_path / 'interim' / 'collected_flood_runs'"
   ]
  },
  {
   "cell_type": "code",
   "execution_count": 3,
   "metadata": {},
   "outputs": [
    {
     "name": "stdout",
     "output_type": "stream",
     "text": [
      "3530 assets loaded.\n",
      "Found matching infrastructure curves for: rail\n"
     ]
    }
   ],
   "source": [
    "# Read exposure data (OSM, OpenStreetMap contributors (2024) / osm-flex)\n",
    "assets_path = data_path / asset_data\n",
    "assets = gpd.read_file(assets_path)\n",
    "assets = gpd.GeoDataFrame(assets).set_crs(4326).to_crs(3857)\n",
    "assets = assets.loc[assets.geometry.geom_type == 'LineString']\n",
    "assets = assets.rename(columns={'railway' : 'asset'})\n",
    "\n",
    "# #TODO: add reset index and test \n",
    "# # Drop passenger lines and light rails\n",
    "# assets = assets.loc[~(assets['railway:traffic_mode'] == 'passenger')]\n",
    "# assets = assets.loc[~(assets['asset'] == 'light_rail')]\n",
    "\n",
    "# # Drop bridges and tunnels\n",
    "# assets = assets.loc[~(assets['bridge'].isin(['yes']))]\n",
    "# assets = assets.loc[~(assets['tunnel'].isin(['yes']))]\n",
    "\n",
    "# Add buffer to assets to do area intersect and create dictionaries for quicker lookup\n",
    "buffered_assets = ds.buffer_assets(assets)\n",
    "geom_dict = assets['geometry'].to_dict()\n",
    "type_dict = assets['asset'].to_dict()\n",
    "\n",
    "print(f\"{len(assets)} assets loaded.\")\n",
    "\n",
    "# Read vulnerability and maximum damage data from Nirandjan, S., et al. (2024)\n",
    "curve_types = {'rail': ['F8.1']}\n",
    "infra_curves, maxdams = ds.read_vul_maxdam(data_path, hazard_type, infra_type)\n",
    "max_damage_tables = pd.read_excel(data_path / vulnerability_data / 'Table_D3_Costs_V1.0.0.xlsx',sheet_name='Cost_Database',index_col=[0])\n",
    "print(f'Found matching infrastructure curves for: {infra_type}')"
   ]
  },
  {
   "cell_type": "code",
   "execution_count": 4,
   "metadata": {},
   "outputs": [],
   "source": [
    "# create a variable changed_assets\n",
    "changed_asset_list = [372,377,635,1358,2714] # testing with a few assets\n",
    "\n",
    "# open pickled hazard-asset overlay and hazard intensity data\n",
    "with open(interim_data_path / 'overlay_assets_flood_DERP_RW_L_4326_2080411370.pkl', 'rb') as f:\n",
    "    overlay_assets = pickle.load(f)\n",
    "with open(interim_data_path / 'hazard_numpified_flood_DERP_RW_L_4326_2080411370.pkl', 'rb') as f:\n",
    "    hazard_numpified_list = pickle.load(f)\n"
   ]
  },
  {
   "cell_type": "code",
   "execution_count": 9,
   "metadata": {},
   "outputs": [
    {
     "data": {
      "text/html": [
       "<div>\n",
       "<style scoped>\n",
       "    .dataframe tbody tr th:only-of-type {\n",
       "        vertical-align: middle;\n",
       "    }\n",
       "\n",
       "    .dataframe tbody tr th {\n",
       "        vertical-align: top;\n",
       "    }\n",
       "\n",
       "    .dataframe thead th {\n",
       "        text-align: right;\n",
       "    }\n",
       "</style>\n",
       "<table border=\"1\" class=\"dataframe\">\n",
       "  <thead>\n",
       "    <tr style=\"text-align: right;\">\n",
       "      <th></th>\n",
       "      <th>osm_id</th>\n",
       "      <th>asset</th>\n",
       "      <th>name</th>\n",
       "      <th>gauge</th>\n",
       "      <th>electrified</th>\n",
       "      <th>voltage</th>\n",
       "      <th>bridge</th>\n",
       "      <th>maxspeed</th>\n",
       "      <th>service</th>\n",
       "      <th>tunnel</th>\n",
       "      <th>other_tags</th>\n",
       "      <th>railway:traffic_mode</th>\n",
       "      <th>usage</th>\n",
       "      <th>geometry</th>\n",
       "      <th>buffered</th>\n",
       "    </tr>\n",
       "  </thead>\n",
       "  <tbody>\n",
       "    <tr>\n",
       "      <th>43</th>\n",
       "      <td>7990468</td>\n",
       "      <td>rail</td>\n",
       "      <td>None</td>\n",
       "      <td>1435</td>\n",
       "      <td>contact_line</td>\n",
       "      <td>15000</td>\n",
       "      <td>None</td>\n",
       "      <td>120</td>\n",
       "      <td>None</td>\n",
       "      <td>None</td>\n",
       "      <td>\"frequency\"=&gt;\"16.7\",\"operator\"=&gt;\"DB Netz AG\",\"...</td>\n",
       "      <td>\"mixed\"</td>\n",
       "      <td>\"main\"</td>\n",
       "      <td>LINESTRING (810131.824 6545141.628, 810131.034...</td>\n",
       "      <td>POLYGON ((810131.0332578894 6545143.573510949,...</td>\n",
       "    </tr>\n",
       "    <tr>\n",
       "      <th>362</th>\n",
       "      <td>33060574</td>\n",
       "      <td>rail</td>\n",
       "      <td>Kasbachtalbahn</td>\n",
       "      <td>1435</td>\n",
       "      <td>no</td>\n",
       "      <td>None</td>\n",
       "      <td>None</td>\n",
       "      <td>None</td>\n",
       "      <td>None</td>\n",
       "      <td>None</td>\n",
       "      <td>\"embankment\"=&gt;\"yes\",\"operator\"=&gt;\"DB Netz AG\",\"...</td>\n",
       "      <td>\"passenger\"</td>\n",
       "      <td>\"branch\"</td>\n",
       "      <td>LINESTRING (808868.315 6546684.443, 808807.623...</td>\n",
       "      <td>POLYGON ((808807.6228124106 6546742.464758907,...</td>\n",
       "    </tr>\n",
       "    <tr>\n",
       "      <th>364</th>\n",
       "      <td>33060576</td>\n",
       "      <td>rail</td>\n",
       "      <td>Kasbachtalbahn</td>\n",
       "      <td>1435</td>\n",
       "      <td>no</td>\n",
       "      <td>None</td>\n",
       "      <td>yes</td>\n",
       "      <td>None</td>\n",
       "      <td>None</td>\n",
       "      <td>None</td>\n",
       "      <td>\"layer\"=&gt;\"1\",\"operator\"=&gt;\"Eifelbahn Verkehrsge...</td>\n",
       "      <td>\"passenger\"</td>\n",
       "      <td>\"branch\"</td>\n",
       "      <td>LINESTRING (808500.003 6547702.920, 808513.718...</td>\n",
       "      <td>POLYGON ((808513.716872971 6547742.594057838, ...</td>\n",
       "    </tr>\n",
       "  </tbody>\n",
       "</table>\n",
       "</div>"
      ],
      "text/plain": [
       "       osm_id asset            name gauge   electrified voltage bridge  \\\n",
       "43    7990468  rail            None  1435  contact_line   15000   None   \n",
       "362  33060574  rail  Kasbachtalbahn  1435            no    None   None   \n",
       "364  33060576  rail  Kasbachtalbahn  1435            no    None    yes   \n",
       "\n",
       "    maxspeed service tunnel  \\\n",
       "43       120    None   None   \n",
       "362     None    None   None   \n",
       "364     None    None   None   \n",
       "\n",
       "                                            other_tags railway:traffic_mode  \\\n",
       "43   \"frequency\"=>\"16.7\",\"operator\"=>\"DB Netz AG\",\"...              \"mixed\"   \n",
       "362  \"embankment\"=>\"yes\",\"operator\"=>\"DB Netz AG\",\"...          \"passenger\"   \n",
       "364  \"layer\"=>\"1\",\"operator\"=>\"Eifelbahn Verkehrsge...          \"passenger\"   \n",
       "\n",
       "        usage                                           geometry  \\\n",
       "43     \"main\"  LINESTRING (810131.824 6545141.628, 810131.034...   \n",
       "362  \"branch\"  LINESTRING (808868.315 6546684.443, 808807.623...   \n",
       "364  \"branch\"  LINESTRING (808500.003 6547702.920, 808513.718...   \n",
       "\n",
       "                                              buffered  \n",
       "43   POLYGON ((810131.0332578894 6545143.573510949,...  \n",
       "362  POLYGON ((808807.6228124106 6546742.464758907,...  \n",
       "364  POLYGON ((808513.716872971 6547742.594057838, ...  "
      ]
     },
     "execution_count": 9,
     "metadata": {},
     "output_type": "execute_result"
    }
   ],
   "source": [
    "##DEV##\n",
    "\n",
    "import geopandas as gpd\n",
    "import geopandas as gpd\n",
    "from pathlib import Path\n",
    "\n",
    "def intersect_assets(protected_zone, assets):\n",
    "    # Perform intersection between protected hazard zone and assets\n",
    "    intersected_assets = gpd.overlay(assets, protected_zone, how='intersection')\n",
    "    \n",
    "    return intersected_assets\n",
    "# Set up the path\n",
    "adapt_path = Path(r'C:\\Data\\interim\\adaptations\\test_haz_level_adapt.geojson')\n",
    "\n",
    "# Load the polygon\n",
    "polygon = gpd.read_file(adapt_path).to_crs(3857)\n",
    "\n",
    "filtered_assets = intersect_assets(polygon, assets)\n",
    "f_assets = assets.loc[(assets['osm_id'].isin(filtered_assets['osm_id']))]\n",
    "f_assets.head(3)\n",
    "# assets = assets.loc[~(assets['bridge'].isin(['yes']))]\n",
    "\n"
   ]
  },
  {
   "cell_type": "code",
   "execution_count": 6,
   "metadata": {},
   "outputs": [],
   "source": [
    "\n",
    "# optionally to calculate the maximum intensity for each hazard point, this can be used, else a float can be used\n",
    "max_intensity = []\n",
    "for asset_id in changed_asset_list:\n",
    "    max_intensity.append(retrieve_max_intensity_by_asset(asset_id, overlay_assets, hazard_numpified_list))\n"
   ]
  },
  {
   "cell_type": "code",
   "execution_count": 11,
   "metadata": {},
   "outputs": [
    {
     "name": "stdout",
     "output_type": "stream",
     "text": [
      "2024-05-02 10:07:42 - Calculating adapted damages for assets...\n"
     ]
    },
    {
     "name": "stderr",
     "output_type": "stream",
     "text": [
      "100%|██████████| 100/100 [00:07<00:00, 13.34it/s]"
     ]
    },
    {
     "name": "stdout",
     "output_type": "stream",
     "text": [
      "95 assets with no change.\n",
      "\n",
      "ADAPTATION results for asset 372:\n",
      "Baseline damages for asset 372: 61372.41 to 86986.84 EUR\n",
      "Adapted damages for asset 372: 0.00 to 0.00 EUR\n",
      "Change (Adapted-Baseline): -61372.41 to -86986.84 EUR, (-100.0, -100.0)% change, at a cost of 995658.76 EUR\n",
      "\n",
      "ADAPTATION results for asset 377:\n",
      "Baseline damages for asset 377: 119656.09 to 145995.72 EUR\n",
      "Adapted damages for asset 377: 0.00 to 0.00 EUR\n",
      "Change (Adapted-Baseline): -119656.09 to -145995.72 EUR, (-100.0, -100.0)% change, at a cost of 1483501.51 EUR\n",
      "\n",
      "ADAPTATION results for asset 635:\n",
      "Baseline damages for asset 635: 97585.66 to 139242.60 EUR\n",
      "Adapted damages for asset 635: 0.00 to 0.00 EUR\n",
      "Change (Adapted-Baseline): -97585.66 to -139242.60 EUR, (-100.0, -100.0)% change, at a cost of 1618184.76 EUR\n",
      "\n",
      "ADAPTATION results for asset 1358:\n",
      "Baseline damages for asset 1358: 2114.10 to 31020.56 EUR\n",
      "Adapted damages for asset 1358: 0.00 to 0.00 EUR\n",
      "Change (Adapted-Baseline): -2114.10 to -31020.56 EUR, (-100.0, -100.0)% change, at a cost of 361134.14 EUR\n",
      "\n",
      "ADAPTATION results for asset 2714:\n",
      "Baseline damages for asset 2714: 1531458.06 to 2813742.85 EUR\n",
      "Adapted damages for asset 2714: 0.00 to 0.00 EUR\n",
      "Change (Adapted-Baseline): -1531458.06 to -2813742.85 EUR, (-100.0, -100.0)% change, at a cost of 25293073.89 EUR\n"
     ]
    },
    {
     "name": "stderr",
     "output_type": "stream",
     "text": [
      "\n"
     ]
    }
   ],
   "source": [
    "\n",
    "# extract the assets that will be adapted\n",
    "changed_assets = assets.loc[assets.index.isin(changed_asset_list)].copy() # testing with a few assets\n",
    "# add new columns fragility_mod and haz_mod\n",
    "changed_assets['fragility_mod'] = 1 #[0.3, 0.5, 0.8] #fraction [example considering no reduction] (1 = no reduction, 0 = invulnerable asset) DUMMY DATA FOR TESTING\n",
    "changed_assets['haz_mod'] = [np.max(x) for x in max_intensity] #meters [example adding wall of maximum flooding depth + 1 meter] (0 = no reduction in hazard intensity, 0.5 = 0.5 meter reduction in hazard intensity) DUMMY DATA FOR TESTING consider raising railway 0.5 meters\n",
    "\n",
    "# TODO: automate infrastructure curve deduction from dictionary keys, now running with curve F8.1\n",
    "hazard_intensity = infra_curves['F8.1'].index.values\n",
    "fragility_values = (np.nan_to_num(infra_curves['F8.1'].values,nan=(np.nanmax(infra_curves['F8.1'].values)))).flatten()\n",
    "maxdams_filt=max_damage_tables[max_damage_tables['ID number']=='F8.1']['Amount']\n",
    "\n",
    "adaptation_run = run_damage_reduction_by_asset(geom_dict, overlay_assets, hazard_numpified_list, changed_assets, hazard_intensity, fragility_values, maxdams_filt)\n",
    "\n",
    "#reporting\n",
    "for asset_id, baseline_damages in adaptation_run[0].items():\n",
    "    print(f'\\nADAPTATION results for asset {asset_id}:')\n",
    "    print(f'Baseline damages for asset {asset_id}: {baseline_damages[0]:.2f} to {baseline_damages[1]:.2f} EUR')\n",
    "    print(f'Adapted damages for asset {asset_id}: {adaptation_run[1][asset_id][0]:.2f} to {adaptation_run[1][asset_id][1]:.2f} EUR')\n",
    "    delta = tuple(adaptation_run[1][asset_id][i] - baseline_damages[i] for i in range(len(baseline_damages)))\n",
    "    percent_change = tuple((100 * (delta[i] / baseline_damages[i])) for i in range(len(baseline_damages)))\n",
    "\n",
    "    print(f'Change (Adapted-Baseline): {delta[0]:.2f} to {delta[1]:.2f} EUR, {percent_change}% change, at a cost of {adaptation_run[2][asset_id]:.2f} EUR')\n",
    "\n",
    "#TODO Check with economist: ammortization of adaptation cost over years of adaptation scenario\n",
    "    #NEXT: adaptation_run returns (collect_inb_bl, collect_inb_adapt, adaptation_cost). These can be used to calculate the EAD for the adapted scenario (and damage reduction), and compare with the adaptation cost, which must be ammortized over the years of the adaptation scenario.\n",
    "\n",
    "\n"
   ]
  },
  {
   "cell_type": "code",
   "execution_count": null,
   "metadata": {},
   "outputs": [],
   "source": [
    "#Discussion point, logic to select the assets that will be adapted. By basin to the highest depth at a given return period (eg protect all assets in this basin for the 100 year flood event). "
   ]
  }
 ],
 "metadata": {
  "kernelspec": {
   "display_name": "ci_adapt_env",
   "language": "python",
   "name": "python3"
  },
  "language_info": {
   "codemirror_mode": {
    "name": "ipython",
    "version": 3
   },
   "file_extension": ".py",
   "mimetype": "text/x-python",
   "name": "python",
   "nbconvert_exporter": "python",
   "pygments_lexer": "ipython3",
   "version": "3.12.2"
  }
 },
 "nbformat": 4,
 "nbformat_minor": 2
}
