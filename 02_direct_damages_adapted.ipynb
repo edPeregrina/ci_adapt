{
 "cells": [
  {
   "cell_type": "markdown",
   "metadata": {},
   "source": [
    "This notebook calculates the change in direct damage to specified assets"
   ]
  },
  {
   "cell_type": "code",
   "execution_count": 11,
   "metadata": {},
   "outputs": [],
   "source": [
    "# Imports\n",
    "import configparser\n",
    "from pathlib import Path\n",
    "import pathlib\n",
    "from direct_damages import damagescanner_rail_track as ds\n",
    "import pandas as pd\n",
    "import geopandas as gpd\n",
    "# import datetime\n",
    "from ci_adapt_utilities import *\n",
    "import pickle"
   ]
  },
  {
   "cell_type": "code",
   "execution_count": 12,
   "metadata": {},
   "outputs": [],
   "source": [
    "# Load configuration with ini file (created running config.py)\n",
    "config_file=r'C:\\repos\\ci_adapt\\config_ci_adapt.ini'\n",
    "config = configparser.ConfigParser()\n",
    "config.read(config_file)\n",
    "\n",
    "p = Path('..')\n",
    "hazard_type = config.get('DEFAULT', 'hazard_type')\n",
    "infra_type = config.get('DEFAULT', 'infra_type')\n",
    "country_code = config.get('DEFAULT', 'country_code')\n",
    "country_name = config.get('DEFAULT', 'country_name')\n",
    "hazard_data_subfolders = config.get('DEFAULT', 'hazard_data_subfolders')\n",
    "asset_data = config.get('DEFAULT', 'asset_data')\n",
    "vulnerability_data = config.get('DEFAULT', 'vulnerability_data')\n",
    "data_path = Path(pathlib.Path.home().parts[0]) / 'Data'\n",
    "interim_data_path = data_path / 'interim' / 'collected_flood_runs'"
   ]
  },
  {
   "cell_type": "code",
   "execution_count": null,
   "metadata": {},
   "outputs": [],
   "source": [
    "# Function Definitions\n"
   ]
  },
  {
   "cell_type": "code",
   "execution_count": 13,
   "metadata": {},
   "outputs": [
    {
     "name": "stdout",
     "output_type": "stream",
     "text": [
      "3187 assets loaded.\n",
      "Found matching infrastructure curves for: rail\n"
     ]
    }
   ],
   "source": [
    "# Read exposure data (OSM, OpenStreetMap contributors (2024) / osm-flex)\n",
    "assets_path = data_path / asset_data\n",
    "assets = gpd.read_file(assets_path)\n",
    "assets = gpd.GeoDataFrame(assets).set_crs(4326).to_crs(3857)\n",
    "assets = assets.loc[assets.geometry.geom_type == 'LineString']\n",
    "assets = assets.rename(columns={'railway' : 'asset'})\n",
    "\n",
    "# # Drop bridges and tunnels\n",
    "# assets = assets.loc[~(assets['bridge'].isin(['yes']))]\n",
    "# assets = assets.loc[~(assets['tunnel'].isin(['yes']))]\n",
    "\n",
    "assets = assets[assets['railway:traffic_mode']!='\"passenger\"']\n",
    "assets = assets.reset_index(drop=True)\n",
    "\n",
    "# Add buffer to assets to do area intersect and create dictionaries for quicker lookup\n",
    "buffered_assets = ds.buffer_assets(assets)\n",
    "geom_dict = assets['geometry'].to_dict()\n",
    "type_dict = assets['asset'].to_dict()\n",
    "\n",
    "print(f\"{len(assets)} assets loaded.\")\n",
    "\n",
    "# Read vulnerability and maximum damage data from Nirandjan, S., et al. (2024)\n",
    "curve_types = {'rail': ['F8.1']}\n",
    "infra_curves, maxdams = ds.read_vul_maxdam(data_path, hazard_type, infra_type)\n",
    "max_damage_tables = pd.read_excel(data_path / vulnerability_data / 'Table_D3_Costs_V1.0.0.xlsx',sheet_name='Cost_Database',index_col=[0])\n",
    "print(f'Found matching infrastructure curves for: {infra_type}')"
   ]
  },
  {
   "cell_type": "code",
   "execution_count": 28,
   "metadata": {},
   "outputs": [],
   "source": [
    "# create a variable changed_assets\n",
    "changed_asset_list = [37,314,3004] # testing with a few assets\n",
    "\n",
    "# open pickled hazard-asset overlay and hazard intensity data\n",
    "with open(interim_data_path / 'overlay_assets_flood_DERP_RW_L_4326_2080411370.pkl', 'rb') as f:\n",
    "    overlay_assets = pickle.load(f)\n",
    "with open(interim_data_path / 'hazard_numpified_flood_DERP_RW_L_4326_2080411370.pkl', 'rb') as f:\n",
    "    hazard_numpified_list = pickle.load(f)\n"
   ]
  },
  {
   "cell_type": "code",
   "execution_count": 29,
   "metadata": {},
   "outputs": [
    {
     "data": {
      "text/html": [
       "<div>\n",
       "<style scoped>\n",
       "    .dataframe tbody tr th:only-of-type {\n",
       "        vertical-align: middle;\n",
       "    }\n",
       "\n",
       "    .dataframe tbody tr th {\n",
       "        vertical-align: top;\n",
       "    }\n",
       "\n",
       "    .dataframe thead th {\n",
       "        text-align: right;\n",
       "    }\n",
       "</style>\n",
       "<table border=\"1\" class=\"dataframe\">\n",
       "  <thead>\n",
       "    <tr style=\"text-align: right;\">\n",
       "      <th></th>\n",
       "      <th>osm_id</th>\n",
       "      <th>asset</th>\n",
       "      <th>name</th>\n",
       "      <th>gauge</th>\n",
       "      <th>electrified</th>\n",
       "      <th>voltage</th>\n",
       "      <th>bridge</th>\n",
       "      <th>maxspeed</th>\n",
       "      <th>service</th>\n",
       "      <th>tunnel</th>\n",
       "      <th>other_tags</th>\n",
       "      <th>railway:traffic_mode</th>\n",
       "      <th>usage</th>\n",
       "      <th>geometry</th>\n",
       "      <th>buffered</th>\n",
       "    </tr>\n",
       "  </thead>\n",
       "  <tbody>\n",
       "    <tr>\n",
       "      <th>37</th>\n",
       "      <td>7990468</td>\n",
       "      <td>rail</td>\n",
       "      <td>None</td>\n",
       "      <td>1435</td>\n",
       "      <td>contact_line</td>\n",
       "      <td>15000</td>\n",
       "      <td>None</td>\n",
       "      <td>120</td>\n",
       "      <td>None</td>\n",
       "      <td>None</td>\n",
       "      <td>\"frequency\"=&gt;\"16.7\",\"operator\"=&gt;\"DB Netz AG\",\"...</td>\n",
       "      <td>\"mixed\"</td>\n",
       "      <td>\"main\"</td>\n",
       "      <td>LINESTRING (810131.824 6545141.628, 810131.034...</td>\n",
       "      <td>POLYGON ((810131.0332578894 6545143.573510949,...</td>\n",
       "    </tr>\n",
       "    <tr>\n",
       "      <th>313</th>\n",
       "      <td>33506714</td>\n",
       "      <td>rail</td>\n",
       "      <td>Rechte Rheinstrecke</td>\n",
       "      <td>1435</td>\n",
       "      <td>contact_line</td>\n",
       "      <td>15000</td>\n",
       "      <td>yes</td>\n",
       "      <td>100</td>\n",
       "      <td>None</td>\n",
       "      <td>None</td>\n",
       "      <td>\"frequency\"=&gt;\"16.7\",\"layer\"=&gt;\"1\",\"operator\"=&gt;\"...</td>\n",
       "      <td>\"mixed\"</td>\n",
       "      <td>\"main\"</td>\n",
       "      <td>LINESTRING (806342.732 6547553.449, 806364.083...</td>\n",
       "      <td>POLYGON ((806364.0829647976 6547544.350868201,...</td>\n",
       "    </tr>\n",
       "    <tr>\n",
       "      <th>314</th>\n",
       "      <td>33506715</td>\n",
       "      <td>rail</td>\n",
       "      <td>Rechte Rheinstrecke</td>\n",
       "      <td>1435</td>\n",
       "      <td>contact_line</td>\n",
       "      <td>15000</td>\n",
       "      <td>None</td>\n",
       "      <td>100</td>\n",
       "      <td>None</td>\n",
       "      <td>None</td>\n",
       "      <td>\"embankment\"=&gt;\"yes\",\"frequency\"=&gt;\"16.7\",\"opera...</td>\n",
       "      <td>\"mixed\"</td>\n",
       "      <td>\"main\"</td>\n",
       "      <td>LINESTRING (806681.210 6547474.401, 806676.935...</td>\n",
       "      <td>POLYGON ((806676.934860112 6547474.821351372, ...</td>\n",
       "    </tr>\n",
       "  </tbody>\n",
       "</table>\n",
       "</div>"
      ],
      "text/plain": [
       "       osm_id asset                 name gauge   electrified voltage bridge  \\\n",
       "37    7990468  rail                 None  1435  contact_line   15000   None   \n",
       "313  33506714  rail  Rechte Rheinstrecke  1435  contact_line   15000    yes   \n",
       "314  33506715  rail  Rechte Rheinstrecke  1435  contact_line   15000   None   \n",
       "\n",
       "    maxspeed service tunnel  \\\n",
       "37       120    None   None   \n",
       "313      100    None   None   \n",
       "314      100    None   None   \n",
       "\n",
       "                                            other_tags railway:traffic_mode  \\\n",
       "37   \"frequency\"=>\"16.7\",\"operator\"=>\"DB Netz AG\",\"...              \"mixed\"   \n",
       "313  \"frequency\"=>\"16.7\",\"layer\"=>\"1\",\"operator\"=>\"...              \"mixed\"   \n",
       "314  \"embankment\"=>\"yes\",\"frequency\"=>\"16.7\",\"opera...              \"mixed\"   \n",
       "\n",
       "      usage                                           geometry  \\\n",
       "37   \"main\"  LINESTRING (810131.824 6545141.628, 810131.034...   \n",
       "313  \"main\"  LINESTRING (806342.732 6547553.449, 806364.083...   \n",
       "314  \"main\"  LINESTRING (806681.210 6547474.401, 806676.935...   \n",
       "\n",
       "                                              buffered  \n",
       "37   POLYGON ((810131.0332578894 6545143.573510949,...  \n",
       "313  POLYGON ((806364.0829647976 6547544.350868201,...  \n",
       "314  POLYGON ((806676.934860112 6547474.821351372, ...  "
      ]
     },
     "execution_count": 29,
     "metadata": {},
     "output_type": "execute_result"
    }
   ],
   "source": [
    "\n",
    "# Set up the path\n",
    "adapt_path = Path(r'C:\\Data\\interim\\adaptations\\test_haz_level_adapt.geojson')\n",
    "\n",
    "# Load the polygon of the protected area\n",
    "protected_area = gpd.read_file(adapt_path).to_crs(3857)\n",
    "\n",
    "# Filter assets that are within the protected area\n",
    "filtered_assets = gpd.overlay(assets, protected_area, how='intersection')\n",
    "f_assets = assets.loc[(assets['osm_id'].isin(filtered_assets['osm_id']))]\n",
    "f_assets.head(3)\n",
    "# assets = assets.loc[~(assets['bridge'].isin(['yes']))]\n"
   ]
  },
  {
   "cell_type": "code",
   "execution_count": 30,
   "metadata": {},
   "outputs": [],
   "source": [
    "\n",
    "# optionally to calculate the maximum intensity for each hazard point, this can be used, else a float can be used\n",
    "max_intensity = []\n",
    "for asset_id in changed_asset_list:\n",
    "    max_intensity.append(retrieve_max_intensity_by_asset(asset_id, overlay_assets, hazard_numpified_list))\n"
   ]
  },
  {
   "cell_type": "code",
   "execution_count": 33,
   "metadata": {},
   "outputs": [
    {
     "name": "stdout",
     "output_type": "stream",
     "text": [
      "2024-06-17 10:47:55 - Calculating adapted damages for assets...\n"
     ]
    },
    {
     "name": "stderr",
     "output_type": "stream",
     "text": [
      "100%|██████████| 98/98 [00:02<00:00, 45.74it/s]"
     ]
    },
    {
     "name": "stdout",
     "output_type": "stream",
     "text": [
      "95 assets with no change.\n",
      "\n",
      "ADAPTATION results for asset 37:\n",
      "Baseline damages for asset 37: 543666.18 to 2458653.92 EUR\n",
      "Adapted damages for asset 37: 0.00 to 0.00 EUR\n",
      "Change (Adapted-Baseline): -543666.18 to -2458653.92 EUR, (-100.0, -100.0)% change, at a cost of 22101136.68 EUR\n",
      "\n",
      "ADAPTATION results for asset 314:\n",
      "Baseline damages for asset 314: 0.00 to 112136.25 EUR\n",
      "Adapted damages for asset 314: 0.00 to 0.00 EUR\n",
      "Change (Adapted-Baseline): 0.00 to -112136.25 EUR, (0, -100.0)% change, at a cost of 652732.03 EUR\n",
      "\n",
      "ADAPTATION results for asset 3004:\n",
      "Baseline damages for asset 3004: 355376.38 to 355376.38 EUR\n",
      "Adapted damages for asset 3004: 0.00 to 0.00 EUR\n",
      "Change (Adapted-Baseline): -355376.38 to -355376.38 EUR, (-100.0, -100.0)% change, at a cost of 3194521.13 EUR\n"
     ]
    },
    {
     "name": "stderr",
     "output_type": "stream",
     "text": [
      "\n"
     ]
    }
   ],
   "source": [
    "\n",
    "# extract the assets that will be adapted\n",
    "changed_assets = assets.loc[assets.index.isin(changed_asset_list)].copy() # testing with a few assets\n",
    "# add new columns fragility_mod and haz_mod\n",
    "changed_assets['fragility_mod'] = 1 #[0.3, 0.5, 0.8] #fraction [example considering no reduction] (1 = no reduction, 0 = invulnerable asset) DUMMY DATA FOR TESTING\n",
    "changed_assets['haz_mod'] = [np.max(x) for x in max_intensity] #meters [example adding wall of maximum flooding depth + 1 meter] (0 = no reduction in hazard intensity, 0.5 = 0.5 meter reduction in hazard intensity) DUMMY DATA FOR TESTING consider raising railway 0.5 meters\n",
    "\n",
    "# TODO: automate infrastructure curve deduction from dictionary keys, now running with curve F8.1\n",
    "hazard_intensity = infra_curves['F8.1'].index.values\n",
    "fragility_values = (np.nan_to_num(infra_curves['F8.1'].values,nan=(np.nanmax(infra_curves['F8.1'].values)))).flatten()\n",
    "maxdams_filt=max_damage_tables[max_damage_tables['ID number']=='F8.1']['Amount']\n",
    "\n",
    "adaptation_run = run_damage_reduction_by_asset(geom_dict, overlay_assets, hazard_numpified_list, changed_assets, hazard_intensity, fragility_values, maxdams_filt)\n",
    "\n",
    "#reporting\n",
    "for asset_id, baseline_damages in adaptation_run[0].items():\n",
    "    print(f'\\nADAPTATION results for asset {asset_id}:')\n",
    "    print(f'Baseline damages for asset {asset_id}: {baseline_damages[0]:.2f} to {baseline_damages[1]:.2f} EUR')\n",
    "    print(f'Adapted damages for asset {asset_id}: {adaptation_run[1][asset_id][0]:.2f} to {adaptation_run[1][asset_id][1]:.2f} EUR')\n",
    "    delta = tuple(adaptation_run[1][asset_id][i] - baseline_damages[i] for i in range(len(baseline_damages)))\n",
    "    # percent_change = tuple((100 * (delta[i] / baseline_damages[i])) for i in range(len(baseline_damages)))\n",
    "    percent_change = tuple((100 * (delta[i] / baseline_damages[i])) if baseline_damages[i] != 0 else 0 for i in range(len(baseline_damages)))\n",
    "    print(f'Change (Adapted-Baseline): {delta[0]:.2f} to {delta[1]:.2f} EUR, {percent_change}% change, at a cost of {adaptation_run[2][asset_id]:.2f} EUR')\n",
    "\n",
    "#TODO Check with economist: ammortization of adaptation cost over years of adaptation scenario\n",
    "    #NEXT: adaptation_run returns (collect_inb_bl, collect_inb_adapt, adaptation_cost). These can be used to calculate the EAD for the adapted scenario (and damage reduction), and compare with the adaptation cost, which must be ammortized over the years of the adaptation scenario.\n",
    "\n",
    "\n"
   ]
  }
 ],
 "metadata": {
  "kernelspec": {
   "display_name": "ci_adapt_env",
   "language": "python",
   "name": "python3"
  },
  "language_info": {
   "codemirror_mode": {
    "name": "ipython",
    "version": 3
   },
   "file_extension": ".py",
   "mimetype": "text/x-python",
   "name": "python",
   "nbconvert_exporter": "python",
   "pygments_lexer": "ipython3",
   "version": "3.12.2"
  }
 },
 "nbformat": 4,
 "nbformat_minor": 2
}
