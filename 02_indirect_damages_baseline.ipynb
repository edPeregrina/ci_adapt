{
 "cells": [
  {
   "cell_type": "code",
   "execution_count": 1,
   "metadata": {},
   "outputs": [],
   "source": [
    "#ADDITIONAL DEPENDENCIES\n",
    "# !pip install triangle\n",
    "# !pip install rasterio\n",
    "# !pip install geopy\n",
    "# !pip install osmnx"
   ]
  },
  {
   "cell_type": "code",
   "execution_count": 18,
   "metadata": {},
   "outputs": [],
   "source": [
    "def plot_shortest_paths(assets, graph, shortest_paths, colors):\n",
    "    from lonboard import Map, PathLayer, ScatterplotLayer\n",
    "    layers_assets=[]\n",
    "    # Generate od layer for visualization\n",
    "    od_geoms=[attr['geometry'] for u,attr in graph.nodes(data=True) if 'name' in attr.keys()]\n",
    "    od_geoms_gdf=gpd.GeoDataFrame(geometry=od_geoms).set_crs(epsg=3857).to_crs(4326)\n",
    "    \n",
    "    layer_od = ScatterplotLayer.from_geopandas(od_geoms_gdf, get_fill_color=colors['red_danger'], get_radius=100, opacity=0.5, auto_highlight=False)\n",
    "    # Create layer for assets for visualization\n",
    "    layer_assets = PathLayer.from_geopandas(assets.drop(columns=['other_tags']), get_width=5, get_color=colors['grey_400'], auto_highlight=True, )\n",
    "    layers_assets.append(layer_assets)\n",
    "    # layer_shortest_path_assets = PathLayer.from_geopandas(assets_sps.drop(columns=['buffered', 'other_tags']), get_width=80, get_color=colors['black'], auto_highlight=True)\n",
    "    if shortest_paths is not None:\n",
    "        shortest_paths_geoms = []\n",
    "        for od,(path,demand) in shortest_paths.items():\n",
    "            for u in range(len(path)-1):\n",
    "                edge = graph.get_edge_data(path[u], path[u+1])\n",
    "                if edge is not None:\n",
    "                    for i in range(len(edge)):\n",
    "                        edge_data = edge[i]\n",
    "                        edge_geom = edge_data['geometry']\n",
    "                        shortest_paths_geoms.append((od,demand, edge_geom))\n",
    "                    \n",
    "        shortest_paths_gdf = gpd.GeoDataFrame(shortest_paths_geoms, columns=['od','demand', 'geometry']).set_crs(epsg=3857)\n",
    "        layers_sps = PathLayer.from_geopandas(shortest_paths_gdf, get_width=8, get_color=colors['black'], auto_highlight=True)\n",
    "        layers_assets.append(layers_sps)\n",
    "    \n",
    "    layers=[]\n",
    "    if layer_assets is not None:\n",
    "        layers.extend(layers_assets)\n",
    "    else:\n",
    "        print('No asset layer')\n",
    "    Voyager = 'https://basemaps.cartocdn.com/gl/voyager-gl-style/style.json'\n",
    "\n",
    "    if layer_od is not None:\n",
    "        layers.append(layer_od)\n",
    "    else:\n",
    "        print('No od layer')\n",
    "    m = Map(layers, show_tooltip=True, basemap_style=Voyager, view_state={\"longitude\": 7.91, \"latitude\": 49.91, \"zoom\": 11})\n",
    "\n",
    "\n",
    "    return m\n"
   ]
  },
  {
   "cell_type": "code",
   "execution_count": 1,
   "metadata": {},
   "outputs": [],
   "source": [
    "import sys\n",
    "import os\n",
    "sys.path.append(r'C:\\repos\\snkit\\src')\n",
    "sys.path.append(r'C:\\repos')\n",
    "sys.path.append(r'C:\\repos\\ra2ce')\n",
    "sys.path.append(r'C:\\repos\\ra2ce_multi_network')\n",
    "from ci_adapt_utilities import *\n",
    "# from ci_adapt_classes import *\n",
    "from ra2ce_multi_network.simplify_rail import *\n",
    "from ra2ce_multi_network.simplify_rail import _merge_edges, _network_to_nx\n",
    "import networkx as nx\n",
    "import pandas as pd\n",
    "# import re\n",
    "from math import ceil\n",
    "import ast\n",
    "# from pyproj import Transformer\n",
    "# from shapely.geometry import Point\n",
    "import warnings\n",
    "from shapely import make_valid"
   ]
  },
  {
   "cell_type": "code",
   "execution_count": 6,
   "metadata": {},
   "outputs": [],
   "source": [
    "# Load configuration with ini file (created running config.py)\n",
    "config_file=r'C:\\repos\\ci_adapt\\config_ci_adapt_test.ini'\n",
    "config = configparser.ConfigParser()\n",
    "config.read(config_file)\n",
    "\n",
    "# Set paths and data sources\n",
    "p = Path('..')\n",
    "hazard_type = config.get('DEFAULT', 'hazard_type')\n",
    "infra_type = config.get('DEFAULT', 'infra_type')\n",
    "country_code = config.get('DEFAULT', 'country_code')\n",
    "country_name = config.get('DEFAULT', 'country_name')\n",
    "hazard_data_subfolders = config.get('DEFAULT', 'hazard_data_subfolders')\n",
    "asset_data = config.get('DEFAULT', 'asset_data')\n",
    "vulnerability_data = config.get('DEFAULT', 'vulnerability_data')\n",
    "# data_path = Path(pathlib.Path.home().parts[0]) / 'Data'\n",
    "data_path = Path(pathlib.Path(r'C:\\Users\\peregrin\\OneDrive - Stichting Deltares\\Documents\\PhD Daniel Shared\\Papers\\Paper 1 - Adaptation Framework\\Data\\test'))\n",
    "interim_data_path = data_path / 'interim' / 'indirect_damages'\n",
    "\n",
    "# MIRACA color scheme\n",
    "color_string = config.get('DEFAULT', 'miraca_colors')\n",
    "miraca_colors = ast.literal_eval(color_string)"
   ]
  },
  {
   "cell_type": "code",
   "execution_count": 7,
   "metadata": {},
   "outputs": [],
   "source": [
    "# Define costs for different transport modes\n",
    "average_train_load_tons = (896+1344+2160+1344+896+896+1344+1512+896+390)/10 # in Tons per train. Source: Kennisinstituut voor Mobiliteitsbeleid. 2023. Cost Figures for Freight Transport – final report\n",
    "average_train_cost_per_ton_km = (0.014+0.018+0.047+0.045)/4 # in Euros per ton per km. Source: Kennisinstituut voor Mobiliteitsbeleid. 2023. Cost Figures for Freight Transport – final report\n",
    "average_road_cost_per_ton_km = (0.395+0.375+0.246+0.203+0.138+0.153+0.125+0.103+0.122+0.099)/10 # in Euros per ton per km. Source: Kennisinstituut voor Mobiliteitsbeleid. 2023. Cost Figures for Freight Transport – final report"
   ]
  },
  {
   "cell_type": "code",
   "execution_count": 8,
   "metadata": {},
   "outputs": [
    {
     "name": "stdout",
     "output_type": "stream",
     "text": [
      "675 railway freight assets found.\n"
     ]
    }
   ],
   "source": [
    "# Read exposure data (OSM, OpenStreetMap contributors (2024) / osm-flex)\n",
    "assets_path = data_path / asset_data\n",
    "assets=preprocess_assets(assets_path)\n",
    "print(f\"{len(assets)} railway freight assets found.\")\n",
    "assets_4326=assets.to_crs(4326)\n",
    "assets_4326['geometry']=assets_4326['geometry'].make_valid()"
   ]
  },
  {
   "cell_type": "code",
   "execution_count": 9,
   "metadata": {},
   "outputs": [
    {
     "data": {
      "text/html": [
       "<div>\n",
       "<style scoped>\n",
       "    .dataframe tbody tr th:only-of-type {\n",
       "        vertical-align: middle;\n",
       "    }\n",
       "\n",
       "    .dataframe tbody tr th {\n",
       "        vertical-align: top;\n",
       "    }\n",
       "\n",
       "    .dataframe thead th {\n",
       "        text-align: right;\n",
       "    }\n",
       "</style>\n",
       "<table border=\"1\" class=\"dataframe\">\n",
       "  <thead>\n",
       "    <tr style=\"text-align: right;\">\n",
       "      <th></th>\n",
       "      <th>osm_id</th>\n",
       "      <th>asset</th>\n",
       "      <th>name</th>\n",
       "      <th>gauge</th>\n",
       "      <th>electrified</th>\n",
       "      <th>voltage</th>\n",
       "      <th>bridge</th>\n",
       "      <th>maxspeed</th>\n",
       "      <th>service</th>\n",
       "      <th>tunnel</th>\n",
       "      <th>other_tags</th>\n",
       "      <th>railway:traffic_mode</th>\n",
       "      <th>usage</th>\n",
       "      <th>geometry</th>\n",
       "    </tr>\n",
       "  </thead>\n",
       "  <tbody>\n",
       "    <tr>\n",
       "      <th>0</th>\n",
       "      <td>4424116</td>\n",
       "      <td>rail</td>\n",
       "      <td>Rheinhessenbahn</td>\n",
       "      <td>1435</td>\n",
       "      <td>no</td>\n",
       "      <td>None</td>\n",
       "      <td>None</td>\n",
       "      <td>None</td>\n",
       "      <td>None</td>\n",
       "      <td>None</td>\n",
       "      <td>\"maxspeed:backward\"=&gt;\"30\",\"operator\"=&gt;\"DB Netz...</td>\n",
       "      <td>None</td>\n",
       "      <td>\"branch\"</td>\n",
       "      <td>LINESTRING (7.90426 49.96965, 7.90530 49.96965...</td>\n",
       "    </tr>\n",
       "    <tr>\n",
       "      <th>1</th>\n",
       "      <td>8091848</td>\n",
       "      <td>rail</td>\n",
       "      <td>Linke Rheinstrecke</td>\n",
       "      <td>1435</td>\n",
       "      <td>contact_line</td>\n",
       "      <td>15000</td>\n",
       "      <td>None</td>\n",
       "      <td>None</td>\n",
       "      <td>None</td>\n",
       "      <td>None</td>\n",
       "      <td>\"frequency\"=&gt;\"16.7\",\"operator\"=&gt;\"DB Netz AG\",\"...</td>\n",
       "      <td>None</td>\n",
       "      <td>\"main\"</td>\n",
       "      <td>LINESTRING (7.88365 49.96889, 7.88415 49.96877...</td>\n",
       "    </tr>\n",
       "    <tr>\n",
       "      <th>2</th>\n",
       "      <td>22959019</td>\n",
       "      <td>rail</td>\n",
       "      <td>Linke Rheinstrecke</td>\n",
       "      <td>1435</td>\n",
       "      <td>contact_line</td>\n",
       "      <td>15000</td>\n",
       "      <td>yes</td>\n",
       "      <td>90</td>\n",
       "      <td>None</td>\n",
       "      <td>None</td>\n",
       "      <td>\"frequency\"=&gt;\"16.7\",\"layer\"=&gt;\"1\",\"level\"=&gt;\"1\",...</td>\n",
       "      <td>None</td>\n",
       "      <td>\"main\"</td>\n",
       "      <td>LINESTRING (7.88885 49.96857, 7.88984 49.96870)</td>\n",
       "    </tr>\n",
       "  </tbody>\n",
       "</table>\n",
       "</div>"
      ],
      "text/plain": [
       "     osm_id asset                name gauge   electrified voltage bridge  \\\n",
       "0   4424116  rail     Rheinhessenbahn  1435            no    None   None   \n",
       "1   8091848  rail  Linke Rheinstrecke  1435  contact_line   15000   None   \n",
       "2  22959019  rail  Linke Rheinstrecke  1435  contact_line   15000    yes   \n",
       "\n",
       "  maxspeed service tunnel                                         other_tags  \\\n",
       "0     None    None   None  \"maxspeed:backward\"=>\"30\",\"operator\"=>\"DB Netz...   \n",
       "1     None    None   None  \"frequency\"=>\"16.7\",\"operator\"=>\"DB Netz AG\",\"...   \n",
       "2       90    None   None  \"frequency\"=>\"16.7\",\"layer\"=>\"1\",\"level\"=>\"1\",...   \n",
       "\n",
       "  railway:traffic_mode     usage  \\\n",
       "0                 None  \"branch\"   \n",
       "1                 None    \"main\"   \n",
       "2                 None    \"main\"   \n",
       "\n",
       "                                            geometry  \n",
       "0  LINESTRING (7.90426 49.96965, 7.90530 49.96965...  \n",
       "1  LINESTRING (7.88365 49.96889, 7.88415 49.96877...  \n",
       "2    LINESTRING (7.88885 49.96857, 7.88984 49.96870)  "
      ]
     },
     "execution_count": 9,
     "metadata": {},
     "output_type": "execute_result"
    }
   ],
   "source": [
    "assets_4326.head(3)"
   ]
  },
  {
   "cell_type": "code",
   "execution_count": 10,
   "metadata": {},
   "outputs": [
    {
     "data": {
      "text/html": [
       "<div>\n",
       "<style scoped>\n",
       "    .dataframe tbody tr th:only-of-type {\n",
       "        vertical-align: middle;\n",
       "    }\n",
       "\n",
       "    .dataframe tbody tr th {\n",
       "        vertical-align: top;\n",
       "    }\n",
       "\n",
       "    .dataframe thead th {\n",
       "        text-align: right;\n",
       "    }\n",
       "</style>\n",
       "<table border=\"1\" class=\"dataframe\">\n",
       "  <thead>\n",
       "    <tr style=\"text-align: right;\">\n",
       "      <th></th>\n",
       "      <th>From</th>\n",
       "      <th>To</th>\n",
       "      <th>From_Latitude</th>\n",
       "      <th>From_Longitude</th>\n",
       "      <th>To_Latitude</th>\n",
       "      <th>To_Longitude</th>\n",
       "      <th>goods</th>\n",
       "      <th>Country</th>\n",
       "      <th>geometry_from</th>\n",
       "      <th>geometry_to</th>\n",
       "    </tr>\n",
       "  </thead>\n",
       "  <tbody>\n",
       "    <tr>\n",
       "      <th>3192</th>\n",
       "      <td>Büdesheim-Dromersheim</td>\n",
       "      <td>Bingen (Rhein) Stadt</td>\n",
       "      <td>49.933887</td>\n",
       "      <td>7.945706</td>\n",
       "      <td>49.970921</td>\n",
       "      <td>7.903905</td>\n",
       "      <td>1.0</td>\n",
       "      <td>DE</td>\n",
       "      <td>POINT (884511.9871012702 6434834.058730009)</td>\n",
       "      <td>POINT (879858.6676332649 6441241.378778344)</td>\n",
       "    </tr>\n",
       "    <tr>\n",
       "      <th>3250</th>\n",
       "      <td>Bingen (Rhein) Stadt</td>\n",
       "      <td>Büdesheim-Dromersheim</td>\n",
       "      <td>49.970921</td>\n",
       "      <td>7.903905</td>\n",
       "      <td>49.933887</td>\n",
       "      <td>7.945706</td>\n",
       "      <td>1.0</td>\n",
       "      <td>DE</td>\n",
       "      <td>POINT (879858.6676332649 6441241.378778344)</td>\n",
       "      <td>POINT (884511.9871012702 6434834.058730009)</td>\n",
       "    </tr>\n",
       "    <tr>\n",
       "      <th>4044</th>\n",
       "      <td>Langenlonsheim</td>\n",
       "      <td>Stromberg (Hunsrück)</td>\n",
       "      <td>49.902615</td>\n",
       "      <td>7.900658</td>\n",
       "      <td>49.947092</td>\n",
       "      <td>7.769415</td>\n",
       "      <td>2.0</td>\n",
       "      <td>DE</td>\n",
       "      <td>POINT (879497.2043410999 6429427.441768809)</td>\n",
       "      <td>POINT (864887.3582970536 6437118.144174217)</td>\n",
       "    </tr>\n",
       "  </tbody>\n",
       "</table>\n",
       "</div>"
      ],
      "text/plain": [
       "                       From                     To From_Latitude  \\\n",
       "3192  Büdesheim-Dromersheim   Bingen (Rhein) Stadt     49.933887   \n",
       "3250   Bingen (Rhein) Stadt  Büdesheim-Dromersheim     49.970921   \n",
       "4044         Langenlonsheim   Stromberg (Hunsrück)     49.902615   \n",
       "\n",
       "      From_Longitude To_Latitude To_Longitude  goods Country  \\\n",
       "3192        7.945706   49.970921     7.903905    1.0      DE   \n",
       "3250        7.903905   49.933887     7.945706    1.0      DE   \n",
       "4044        7.900658   49.947092     7.769415    2.0      DE   \n",
       "\n",
       "                                    geometry_from  \\\n",
       "3192  POINT (884511.9871012702 6434834.058730009)   \n",
       "3250  POINT (879858.6676332649 6441241.378778344)   \n",
       "4044  POINT (879497.2043410999 6429427.441768809)   \n",
       "\n",
       "                                      geometry_to  \n",
       "3192  POINT (879858.6676332649 6441241.378778344)  \n",
       "3250  POINT (884511.9871012702 6434834.058730009)  \n",
       "4044  POINT (864887.3582970536 6437118.144174217)  "
      ]
     },
     "execution_count": 10,
     "metadata": {},
     "output_type": "execute_result"
    }
   ],
   "source": [
    "route_data_source=r'C:\\Data\\input\\traffic\\NET_SEGMENTS_EU_EFTA_Filtered_0.xlsx'\n",
    "# route_data_source=r'C:\\Data\\input\\traffic\\test_seg.xlsx'\n",
    "route_data=prepare_route_data(route_data_source, assets)\n",
    "route_data.head(3)"
   ]
  },
  {
   "cell_type": "code",
   "execution_count": 11,
   "metadata": {},
   "outputs": [],
   "source": [
    "# with warnings.catch_warnings():\n",
    "#     warnings.simplefilter(\"ignore\")\n",
    "    #Source: Asgarpour/snkit\n",
    "    # Create a railway networks with possible terminal nodes. This returns a complex network, as includes the rail tracks with the highest level of detail.\n",
    "    # complex_rail_network = create_network_from_gdf(network_gdf=assets)\n",
    "net=Network(edges=assets_4326)\n",
    "net=add_endpoints(network=net)\n",
    "net=link_nodes_to_edges_within(network=net, distance=0.0000014)\n",
    "net=add_ids(network=net)\n",
    "net=add_topology(network=net)\n",
    "net.set_crs(4326)\n",
    "net.edges=net.edges.to_crs(3857)\n",
    "net.nodes=net.nodes.to_crs(3857)\n"
   ]
  },
  {
   "cell_type": "code",
   "execution_count": 12,
   "metadata": {},
   "outputs": [
    {
     "name": "stdout",
     "output_type": "stream",
     "text": [
      "Exception: invalid literal for int() with base 10: 'node_99'\n",
      "Skipping simplification step.\n"
     ]
    }
   ],
   "source": [
    "complex_rail_network=net\n",
    "\n",
    "with warnings.catch_warnings():\n",
    "    try:\n",
    "        warnings.simplefilter(\"ignore\")\n",
    "        merged_rail_network = merge_edges(network=complex_rail_network, excluded_edge_types=['bridge', 'tunnel']) #Must add network= to pass excluded_edge_types as a keyword argument\n",
    "\n",
    "        # Number of nodes and edges reduced\n",
    "        print(f\"Difference in node counts: {complex_rail_network.nodes.shape[0] - merged_rail_network.nodes.shape[0]}\")\n",
    "        print(f\"Difference in node counts %: {round(100*(complex_rail_network.nodes.shape[0] - merged_rail_network.nodes.shape[0])/complex_rail_network.nodes.shape[0], 0)}\")\n",
    "        print(f\"Difference in edge counts: {complex_rail_network.edges.shape[0] - merged_rail_network.edges.shape[0]}\")\n",
    "        print(f\"Difference in edge counts %: {round(100*(complex_rail_network.edges.shape[0] - merged_rail_network.edges.shape[0])/complex_rail_network.edges.shape[0], 0)}\")\n",
    "    except Exception as e:\n",
    "        print(f'Exception: {e}')\n",
    "        print('Skipping simplification step.')\n",
    "        merged_rail_network=complex_rail_network\n",
    "    "
   ]
  },
  {
   "cell_type": "code",
   "execution_count": 13,
   "metadata": {},
   "outputs": [],
   "source": [
    "# Create graph from network\n",
    "merged_rail_graph = _network_to_nx(merged_rail_network)\n",
    "\n",
    "# Create a MultiDiGraph from the graph\n",
    "graph_0=nx.MultiDiGraph(merged_rail_graph)\n"
   ]
  },
  {
   "cell_type": "code",
   "execution_count": 14,
   "metadata": {},
   "outputs": [],
   "source": [
    "for u,v,k,attr in graph_0.edges(keys=True, data=True):\n",
    "    if type(attr['osm_id'])==type(float()):\n",
    "        graph_0[u][v][k]['osm_id'] = ''\n"
   ]
  },
  {
   "cell_type": "code",
   "execution_count": 15,
   "metadata": {},
   "outputs": [],
   "source": [
    "# Set weights for edges\n",
    "graph_0 = set_edge_weights(assets, graph_0)"
   ]
  },
  {
   "cell_type": "code",
   "execution_count": 16,
   "metadata": {},
   "outputs": [],
   "source": [
    "# load graph and shortest paths\n",
    "if os.path.exists(interim_data_path / 'graph_0.pkl'):\n",
    "    graph_0 = pickle.load(open(interim_data_path / 'graph_0.pkl','rb'))\n",
    "    shortest_paths = pickle.load(open(interim_data_path / 'shortest_paths.pkl', 'rb'))\n",
    "    disrupted_edges_by_basin = pickle.load(open(interim_data_path / 'disrupted_edges_by_basin.pkl', 'rb'))\n",
    "    disrupted_shortest_paths = pickle.load(open(interim_data_path / 'disrupted_shortest_paths.pkl', 'rb'))\n",
    "    print('Data loaded from pickle files.')"
   ]
  },
  {
   "cell_type": "code",
   "execution_count": 17,
   "metadata": {},
   "outputs": [
    {
     "name": "stdout",
     "output_type": "stream",
     "text": [
      "Possible terminals: 716\n"
     ]
    },
    {
     "data": {
      "application/vnd.jupyter.widget-view+json": {
       "model_id": "7a60834be2094a45a9628438dda10b13",
       "version_major": 2,
       "version_minor": 0
      },
      "text/plain": [
       "Finding shortest paths between origin-destination pairs:   0%|          | 0/16 [00:00<?, ?it/s]"
      ]
     },
     "metadata": {},
     "output_type": "display_data"
    },
    {
     "name": "stdout",
     "output_type": "stream",
     "text": [
      "Failed to find paths for 0 routes\n"
     ]
    }
   ],
   "source": [
    "# Set capacities for flow model\n",
    "graph_0, shortest_paths = set_edge_capacities(graph_0, route_data, simplified=True)"
   ]
  },
  {
   "cell_type": "code",
   "execution_count": 19,
   "metadata": {},
   "outputs": [
    {
     "name": "stderr",
     "output_type": "stream",
     "text": [
      "c:\\Users\\peregrin\\AppData\\Local\\anaconda3\\envs\\ci_adapt_env\\Lib\\site-packages\\lonboard\\_geoarrow\\ops\\reproject.py:97: UserWarning: Input being reprojected to EPSG:4326 CRS\n",
      "  warnings.warn(\"Input being reprojected to EPSG:4326 CRS\")\n",
      "c:\\Users\\peregrin\\AppData\\Local\\anaconda3\\envs\\ci_adapt_env\\Lib\\site-packages\\lonboard\\_geoarrow\\ops\\reproject.py:97: UserWarning: Input being reprojected to EPSG:4326 CRS\n",
      "  warnings.warn(\"Input being reprojected to EPSG:4326 CRS\")\n"
     ]
    },
    {
     "data": {
      "application/vnd.jupyter.widget-view+json": {
       "model_id": "9ef4c1bff624470d8a7e39e6d4e07480",
       "version_major": 2,
       "version_minor": 0
      },
      "text/plain": [
       "Map(basemap_style='https://basemaps.cartocdn.com/gl/voyager-gl-style/style.json', layers=[PathLayer(auto_highl…"
      ]
     },
     "execution_count": 19,
     "metadata": {},
     "output_type": "execute_result"
    }
   ],
   "source": [
    "plot_shortest_paths(assets, graph_0, shortest_paths, miraca_colors)"
   ]
  },
  {
   "cell_type": "code",
   "execution_count": 20,
   "metadata": {},
   "outputs": [
    {
     "name": "stdout",
     "output_type": "stream",
     "text": [
      "Creating virtual graph...\n",
      "Success: only int type values\n"
     ]
    }
   ],
   "source": [
    "# Create initial virtual graph\n",
    "graph_v0=create_virtual_graph(graph_0)\n"
   ]
  },
  {
   "cell_type": "code",
   "execution_count": 21,
   "metadata": {},
   "outputs": [],
   "source": [
    "graph_v=graph_v0.copy()"
   ]
  },
  {
   "cell_type": "code",
   "execution_count": 22,
   "metadata": {},
   "outputs": [],
   "source": [
    "# Define the baseline return periods \n",
    "\"\"\"\n",
    "Return period definitions for Rhineland Palatinate (DERP) based on the report by Rauthe M, et al. (2020):\n",
    "_H_=10-25y \n",
    "_M_=100y\n",
    "_L_=200y\n",
    "\"\"\"\n",
    "return_period_dict = {'_H_': 10,'_M_': 100,'_L_': 200}\n",
    "\n",
    "# Add climate change: calculate the dynamic return periods based on flat increase factors. \n",
    "# This value has been catchment-specific with frequency increasing in some regions and decreasing in others. \n",
    "# It is reasonable that in the future, the frequency will continue to change differently by catchment.\n",
    "\n",
    "increase_factor = {\n",
    "    '_H_': 2,\n",
    "    '_M_': 6.6,\n",
    "    '_L_': 9.1\n",
    "} # https://hess.copernicus.org/preprints/hess-2016-65/hess-2016-65-manuscript-version2.pdf \n",
    "\n",
    "num_years = 100\n",
    "return_periods = calculate_dynamic_return_periods(return_period_dict, num_years, increase_factor)"
   ]
  },
  {
   "cell_type": "code",
   "execution_count": 45,
   "metadata": {},
   "outputs": [],
   "source": [
    "if 'collect_output' not in locals():\n",
    "    collect_output_path = data_path/'interim/collected_flood_runs/sample_collected_run.pkl'\n",
    "    with open(collect_output_path, 'rb') as f:\n",
    "        collect_output = pickle.load(f)"
   ]
  },
  {
   "cell_type": "code",
   "execution_count": 46,
   "metadata": {},
   "outputs": [
    {
     "data": {
      "text/plain": [
       "{'flood_DERP_RW_H_4326_2080430320': {2: (0, 0),\n",
       "  204: (28782.330972475404, 28782.330972475404),\n",
       "  205: (31786.262483636583, 31786.262483636583),\n",
       "  207: (0, 0),\n",
       "  208: (0, 0),\n",
       "  211: (0, 0),\n",
       "  265: (0.0, 828.5059042902571),\n",
       "  356: (64194.13041511438, 73628.7775475856),\n",
       "  402: (0.0, 15933.308657628524),\n",
       "  405: (0.0, 5579.056316271717),\n",
       "  434: (33246.4091548187, 33246.4091548187),\n",
       "  442: (0, 0),\n",
       "  511: (0, 0),\n",
       "  512: (0, 0),\n",
       "  551: (0.0, 15510.52622336408),\n",
       "  643: (7502.694855931222, 7502.694855931222),\n",
       "  654: (0, 0),\n",
       "  655: (57780.29359790789, 61577.869727238336),\n",
       "  656: (0, 0),\n",
       "  661: (0, 0)},\n",
       " 'flood_DERP_RW_L_4326_2080430320': {2: (385107.26296556083,\n",
       "   385220.0331872591),\n",
       "  10: (0.0, 9538.458540781243),\n",
       "  201: (0.0, 197168.74271752097),\n",
       "  202: (12128.711987763007, 27918.633579702564),\n",
       "  204: (17927.794149336838, 28404.373856834995),\n",
       "  205: (15900.8396312968, 36734.128327888175),\n",
       "  207: (646205.9420160023, 646205.9420160023),\n",
       "  208: (217827.43716368463, 218626.78421942232),\n",
       "  211: (373411.84786910715, 382370.94085948047),\n",
       "  212: (11999.26778318863, 76981.95816527182),\n",
       "  264: (0.0, 51618.47910117752),\n",
       "  265: (475914.59778307244, 1391200.5781817173),\n",
       "  356: (1113630.1065216938, 2687265.52939017),\n",
       "  401: (0.0, 2590.1234807619157),\n",
       "  402: (0.0, 44551.457093484765),\n",
       "  403: (1390910.7287675939, 3952157.1914840136),\n",
       "  404: (1305120.6429524194, 4527549.546806867),\n",
       "  405: (0.0, 100133.18923013467),\n",
       "  406: (0.0, 3207.504370694001),\n",
       "  434: (22423.417245880995, 106827.30866516242),\n",
       "  442: (1196078.339342865, 1211350.3444509907),\n",
       "  497: (0.0, 6185.008003843068),\n",
       "  511: (211170.23248667765, 212072.2890582114),\n",
       "  512: (386564.25668007944, 386564.25668007944),\n",
       "  517: (0.0, 194472.57433689153),\n",
       "  551: (0.0, 106790.42946164144),\n",
       "  555: (0.0, 37453.42677581472),\n",
       "  614: (5538.088438649334, 54559.869293778924),\n",
       "  622: (128385.74995693775, 272473.07958319015),\n",
       "  643: (12207.343995472314, 78717.70987959874),\n",
       "  644: (10594.921892630493, 166900.51332338995),\n",
       "  653: (291022.463526562, 1072136.0725308575),\n",
       "  654: (5698.918907314445, 7143.329509063051),\n",
       "  655: (683705.4367836174, 986148.158011614),\n",
       "  656: (9717.489740619087, 27330.64305475793),\n",
       "  658: (15889.780227378225, 196008.18868698375),\n",
       "  659: (0.0, 9569.855905245477),\n",
       "  660: (337771.9025259453, 730035.290079697),\n",
       "  661: (2868.9815084517513, 9022.164799650294),\n",
       "  662: (60659.439637700176, 193721.53492513933),\n",
       "  663: (0.0, 9615.24500420829),\n",
       "  666: (8924.441761974407, 70287.0843839086)},\n",
       " 'flood_DERP_RW_M_4326_2080430320': {2: (0, 0),\n",
       "  10: (0.0, 9538.458526949089),\n",
       "  201: (0.0, 48656.356492028965),\n",
       "  202: (1925.40409057373, 12128.712068542514),\n",
       "  204: (23355.062863601008, 23355.062863601008),\n",
       "  205: (26693.278765549887, 26693.278765549887),\n",
       "  207: (0, 0),\n",
       "  208: (0, 0),\n",
       "  211: (0, 0),\n",
       "  212: (1074.0970223210452, 24580.976344370927),\n",
       "  265: (0.0, 1864.4011210481683),\n",
       "  356: (64432.02289807571, 179497.6424272012),\n",
       "  402: (0.0, 32622.205745169387),\n",
       "  403: (0.0, 71593.07057404262),\n",
       "  404: (2797.285607656744, 212624.4742819368),\n",
       "  405: (0.0, 15038.941341304195),\n",
       "  434: (33246.409360439444, 52078.19817919197),\n",
       "  442: (0, 0),\n",
       "  497: (0.0, 6185.007996105462),\n",
       "  511: (0, 0),\n",
       "  512: (0, 0),\n",
       "  517: (0.0, 51813.23169499447),\n",
       "  551: (0.0, 56683.08854578779),\n",
       "  614: (1712.1502646565732, 5538.088420049236),\n",
       "  643: (53687.08144666885, 53687.08144666885),\n",
       "  644: (9814.36975592241, 34623.63346211864),\n",
       "  653: (0.0, 43024.443555054466),\n",
       "  654: (0, 0),\n",
       "  655: (58470.17619531751, 75122.53546496358),\n",
       "  656: (0, 0),\n",
       "  661: (0, 0),\n",
       "  662: (0.0, 3150.0785461512414),\n",
       "  666: (1201.1575117066966, 7274.85232395877)}}"
      ]
     },
     "execution_count": 46,
     "metadata": {},
     "output_type": "execute_result"
    }
   ],
   "source": [
    "collect_output"
   ]
  },
  {
   "cell_type": "code",
   "execution_count": 64,
   "metadata": {},
   "outputs": [
    {
     "name": "stdout",
     "output_type": "stream",
     "text": [
      "Disrupted edges: 24\n",
      "Calculating economic impact...\n",
      "flood_DERP_RW_H_4326_2080430320 47481.49151079169\n",
      "Disrupted edges: 78\n",
      "Calculating economic impact...\n",
      "flood_DERP_RW_L_4326_2080430320 14340135.635411203\n",
      "Disrupted edges: 60\n",
      "Calculating economic impact...\n",
      "flood_DERP_RW_M_4326_2080430320 2868027.1270822403\n"
     ]
    }
   ],
   "source": [
    "# Loop through the event files and calculate the economic impact of each event\n",
    "disrupted_asset_lengths={}\n",
    "disrupted_shortest_paths={}\n",
    "event_impacts={}\n",
    "disrupted_edges_by_basin={}\n",
    "\n",
    "for hazard_map, asset_dict in collect_output.items():\n",
    "    disrupted_assets = [key for key in asset_dict.keys()]\n",
    "    disrupted_osm_ids = [\n",
    "        assets.loc[asset_index]['osm_id'] \n",
    "        for asset_index in disrupted_assets \n",
    "        if asset_index in assets.index and (\n",
    "            (assets.loc[asset_index]['bridge'] != 'yes') \n",
    "            and (assets.loc[asset_index]['tunnel'] != 'yes')\n",
    "            and (assets.loc[asset_index]['osm_id'] is not None)\n",
    "            )\n",
    "        ]\n",
    "    if len(disrupted_osm_ids)==0:\n",
    "        continue\n",
    "\n",
    "    disrupted_edges=[]\n",
    "    \n",
    "    for u,v,attr in graph_0.edges(data=True):\n",
    "        if 'osm_id' not in attr: \n",
    "            continue\n",
    "        if attr['bridge']=='yes' or attr['tunnel']=='yes':\n",
    "            continue\n",
    "        matching_ids=[osm_id for osm_id in attr['osm_id'].split('; ') if osm_id in disrupted_osm_ids]\n",
    "        if len(matching_ids)>0:\n",
    "            disrupted_edges.append((u,v))\n",
    "            \n",
    "    print(f'Disrupted edges: {len(disrupted_edges)}')\n",
    "\n",
    "    # If there are no disrupted edges in the event, move to next event\n",
    "    if len(disrupted_edges)==0:\n",
    "        continue\n",
    "    \n",
    "    disrupted_edges_by_basin[hazard_map]=disrupted_edges\n",
    "    disrupted_shortest_paths[hazard_map]=calculate_new_paths(graph_v0, shortest_paths, disrupted_edges)\n",
    "\n",
    "    if disrupted_shortest_paths[hazard_map] == {}: # No disrupted paths, no economic impact\n",
    "        print(f'No shortest paths disrupted for {hazard_map}. No economic impact.')\n",
    "        continue\n",
    "\n",
    "\n",
    "    print('Calculating economic impact...')\n",
    "    impact=calculate_economic_impact_shortest_paths(hazard_map, graph_v, shortest_paths, disrupted_shortest_paths[hazard_map], average_train_load_tons, average_train_cost_per_ton_km, average_road_cost_per_ton_km)\n",
    "    event_impacts[hazard_map]=impact\n",
    "    print(hazard_map, impact)"
   ]
  },
  {
   "cell_type": "code",
   "execution_count": 49,
   "metadata": {},
   "outputs": [
    {
     "name": "stdout",
     "output_type": "stream",
     "text": [
      "Number of disrupted edges for flood_DERP_RW_H:  24\n",
      "Calculating shortest paths for:  flood_DERP_RW_H\n",
      "Calculating economic impact...\n",
      "Impact for flood_DERP_RW_H in M Eur: 0.05\n",
      "Number of disrupted edges for flood_DERP_RW_M:  60\n",
      "Calculating shortest paths for:  flood_DERP_RW_M\n",
      "Calculating economic impact...\n",
      "Impact for flood_DERP_RW_M in M Eur: 2.87\n",
      "Number of disrupted edges for flood_DERP_RW_L:  78\n",
      "Calculating shortest paths for:  flood_DERP_RW_L\n",
      "Calculating economic impact...\n",
      "Impact for flood_DERP_RW_L in M Eur: 14.34\n"
     ]
    }
   ],
   "source": [
    "#now repeat collecting all the disrupted edges accross all maps with the same return period\n",
    "\n",
    "all_disrupted_edges={}\n",
    "all_disrupted_shortest_paths={}\n",
    "full_flood_event={}\n",
    "\n",
    "haz_map_names=['flood_DERP_RW_H', 'flood_DERP_RW_M', 'flood_DERP_RW_L']\n",
    "\n",
    "for haz_map in haz_map_names:\n",
    "    all_disrupted_edges[haz_map]=[]\n",
    "    for key, value in disrupted_edges_by_basin.items():\n",
    "        if haz_map in key:\n",
    "            all_disrupted_edges[haz_map].extend(value)\n",
    "    all_disrupted_edges[haz_map]=list(set(all_disrupted_edges[haz_map]))\n",
    "    print(f'Number of disrupted edges for {haz_map}: ', len(all_disrupted_edges[haz_map]))\n",
    "    print('Calculating shortest paths for: ', haz_map)\n",
    "    all_disrupted_shortest_paths[haz_map]=calculate_new_paths(graph_v0, shortest_paths, all_disrupted_edges[haz_map])\n",
    "\n",
    "    if all_disrupted_shortest_paths[haz_map] == {}: # No disrupted paths, no economic impact\n",
    "        print(f'No shortest paths disrupted for {haz_map}. No economic impact.')\n",
    "        continue\n",
    "\n",
    "    print('Calculating economic impact...')    \n",
    "    impact=calculate_economic_impact_shortest_paths(haz_map, graph_v, shortest_paths, all_disrupted_shortest_paths[haz_map], average_train_load_tons, average_train_cost_per_ton_km, average_road_cost_per_ton_km)\n",
    "    print(f'Impact for {haz_map} in M Eur: {impact/1e6 :.2f}')\n",
    "    full_flood_event[haz_map]=impact\n",
    "\n",
    "# save the data\n",
    "with open(interim_data_path / 'all_disrupted_edges.pkl', 'wb') as f:\n",
    "    pickle.dump(all_disrupted_edges, f)\n",
    "with open(interim_data_path / 'full_flood_event.pkl', 'wb') as f:\n",
    "    pickle.dump(full_flood_event, f)\n"
   ]
  },
  {
   "cell_type": "code",
   "execution_count": 50,
   "metadata": {},
   "outputs": [
    {
     "data": {
      "text/plain": [
       "{2080430320: {'_H_': 47481.49151079169,\n",
       "  '_L_': 14340135.635411203,\n",
       "  '_M_': 2868027.1270822403}}"
      ]
     },
     "execution_count": 50,
     "metadata": {},
     "output_type": "execute_result"
    }
   ],
   "source": [
    "files = [file for file in os.listdir(data_path / 'interim/collected_flood_runs') if file.endswith('.pkl') and file.startswith('overlay')]\n",
    "basins_list=list(set([int(file.split('.')[0].split('_')[-1]) for file in files]))\n",
    "basin_dict = {}\n",
    "for basin in basins_list:\n",
    "    basin_dict[basin] = {}\n",
    "    for key in event_impacts.keys():\n",
    "        if not str(basin) in key:\n",
    "            continue\n",
    "        if str(basin) in key:\n",
    "            basin_dict[basin][key.split('_RW')[-1][0:3]] = event_impacts[key]\n",
    "\n",
    "\n",
    "for rp in return_period_dict.keys():\n",
    "    # add rp as a key to all nested dictionaries with 0 as a value if the rp is not already a key\n",
    "    for basin in basin_dict.keys():\n",
    "        if rp not in basin_dict[basin].keys():\n",
    "            basin_dict[basin][rp] = 0\n",
    "\n",
    "basin_dict\n",
    "          "
   ]
  },
  {
   "cell_type": "code",
   "execution_count": 51,
   "metadata": {},
   "outputs": [],
   "source": [
    "\n",
    "aggregated_df_by_basin = {}\n",
    "ead_by_ts_by_basin = {}\n",
    "\n",
    "for basin, damage_dict in basin_dict.items():\n",
    "    if len(damage_dict) == 0:\n",
    "        continue\n",
    "\n",
    "    aggregated_df_by_basin[basin] = pd.DataFrame.from_dict(damage_dict, orient='index', columns=['Total indirect damage'])\n",
    "    aggregated_df_by_basin[basin]['Return Period'] = [return_periods[index] for index in aggregated_df_by_basin[basin].index]\n",
    "    probabilities = [[1 / rp for rp in ts] for ts in aggregated_df_by_basin[basin]['Return Period']]\n",
    "    aggregated_df_by_basin[basin]['Probability'] = probabilities\n",
    "    dmgs = []\n",
    "\n",
    "    for ts in range(len(probabilities[0])):    \n",
    "        dmgs_m = []\n",
    "\n",
    "        for rp in range(len(probabilities)-1):\n",
    "            d_rp= probabilities[rp][ts] - probabilities[rp + 1][ts]\n",
    "            trap_damage_m = 0.5 * (aggregated_df_by_basin[basin]['Total indirect damage'].iloc[rp] + aggregated_df_by_basin[basin]['Total indirect damage'].iloc[rp + 1])\n",
    "            dmgs_m.append(d_rp * trap_damage_m)\n",
    "        \n",
    "        # Add the portion of damages corresponding to the tails of the distribution\n",
    "        d0_rp = probabilities[-1][ts]\n",
    "        damage_m0 = max(aggregated_df_by_basin[basin]['Total indirect damage'])\n",
    "        dmgs_m.append(d0_rp * damage_m0)\n",
    "\n",
    "        d_end_rp = (1/4)-probabilities[0][ts]\n",
    "        damage_m_end = 0.5 * min(aggregated_df_by_basin[basin]['Total indirect damage'])\n",
    "\n",
    "        dmgs_m.append(d_end_rp * damage_m_end)\n",
    "\n",
    "        dmgs.append((sum(dmgs_m)))\n",
    "    \n",
    "    ead_by_ts_by_basin[basin] = pd.DataFrame(dmgs, columns=['Total indirect damage'])\n"
   ]
  },
  {
   "cell_type": "code",
   "execution_count": 52,
   "metadata": {},
   "outputs": [
    {
     "data": {
      "text/plain": [
       "{2080430320:      Total indirect damage\n",
       " 0             7.873539e+05\n",
       " 1             7.983073e+05\n",
       " 2             8.092607e+05\n",
       " 3             8.202141e+05\n",
       " 4             8.311675e+05\n",
       " ..                     ...\n",
       " 96            1.838882e+06\n",
       " 97            1.849835e+06\n",
       " 98            1.860789e+06\n",
       " 99            1.871742e+06\n",
       " 100           1.882696e+06\n",
       " \n",
       " [101 rows x 1 columns]}"
      ]
     },
     "execution_count": 52,
     "metadata": {},
     "output_type": "execute_result"
    }
   ],
   "source": [
    "ead_by_ts_by_basin"
   ]
  },
  {
   "cell_type": "code",
   "execution_count": 53,
   "metadata": {},
   "outputs": [
    {
     "data": {
      "text/plain": [
       "{2080430320: 134837505.74960494}"
      ]
     },
     "execution_count": 53,
     "metadata": {},
     "output_type": "execute_result"
    }
   ],
   "source": [
    "# Find total damages by basin over the 100 y period\n",
    "total_damages_by_basin = {basin: ead_by_ts_by_basin[basin].values.sum() for basin in ead_by_ts_by_basin.keys()}\n",
    "total_damages_by_basin\n"
   ]
  },
  {
   "cell_type": "code",
   "execution_count": 54,
   "metadata": {},
   "outputs": [
    {
     "data": {
      "image/png": "[encoded data removed]",
      "text/plain": [
       "<Figure size 640x480 with 1 Axes>"
      ]
     },
     "metadata": {},
     "output_type": "display_data"
    }
   ],
   "source": [
    "#plot the EAD for each basin    \n",
    "from matplotlib import pyplot as plt\n",
    "for basin, ead_df in ead_by_ts_by_basin.items():\n",
    "    plt.plot(ead_df, label=basin)\n",
    "        "
   ]
  },
  {
   "cell_type": "code",
   "execution_count": 63,
   "metadata": {},
   "outputs": [
    {
     "name": "stderr",
     "output_type": "stream",
     "text": [
      "c:\\Users\\peregrin\\AppData\\Local\\anaconda3\\envs\\ci_adapt_env\\Lib\\site-packages\\geopandas\\geodataframe.py:1543: SettingWithCopyWarning: \n",
      "A value is trying to be set on a copy of a slice from a DataFrame.\n",
      "Try using .loc[row_indexer,col_indexer] = value instead\n",
      "\n",
      "See the caveats in the documentation: https://pandas.pydata.org/pandas-docs/stable/user_guide/indexing.html#returning-a-view-versus-a-copy\n",
      "  super().__setitem__(key, value)\n"
     ]
    }
   ],
   "source": [
    "import geopandas as gpd\n",
    "# from lonboard import viz  # Assuming 'lonboard' is a correct module name; if not, correct as necessary\n",
    "\n",
    "def georeference_damages(gdf, damages):\n",
    "    # Initialize 'damage' column to 0\n",
    "    gdf['damage'] = 0\n",
    "    # Vectorized operation to map damages based on 'HYBAS_ID'\n",
    "    damage_map = {key: value for key, value in damages.items() if key in gdf['HYBAS_ID'].tolist()}\n",
    "    gdf['damage'] = gdf['HYBAS_ID'].map(damage_map).fillna(0)\n",
    "    return gdf\n",
    "\n",
    "# Load basins GeoDataFrame\n",
    "basins = gpd.read_file(r'c:\\Data\\Floods\\basins\\hybas_eu_lev01-12_v1c\\hybas_eu_lev08_v1c_valid.shp')\n",
    "\n",
    "# Assuming 'basins_list' is a predefined list of 'HYBAS_ID's to filter by\n",
    "basins_filtered = basins[basins['HYBAS_ID'].isin(basins_list)]\n",
    "\n",
    "ead_gdf = georeference_damages(basins_filtered, total_damages_by_basin)\n",
    "\n"
   ]
  },
  {
   "cell_type": "code",
   "execution_count": 56,
   "metadata": {},
   "outputs": [
    {
     "name": "stdout",
     "output_type": "stream",
     "text": [
      "Data saved to pickle files.\n"
     ]
    }
   ],
   "source": [
    "# save G and shortest paths to pickle files\n",
    "pickle.dump(graph_0, open(interim_data_path / 'graph_0.pkl', 'wb'))\n",
    "pickle.dump(shortest_paths, open(interim_data_path / 'shortest_paths.pkl', 'wb'))\n",
    "pickle.dump(disrupted_edges_by_basin, open(interim_data_path / 'disrupted_edges_by_basin.pkl', 'wb'))\n",
    "pickle.dump(disrupted_shortest_paths, open(interim_data_path / 'disrupted_shortest_paths.pkl', 'wb'))\n",
    "pickle.dump(event_impacts, open(interim_data_path / 'event_impacts.pkl', 'wb'))\n",
    "pickle.dump(ead_gdf, open(interim_data_path / 'ead_gdf.pkl', 'wb'))\n",
    "pickle.dump(ead_by_ts_by_basin, open(interim_data_path / 'ead_by_ts_by_basin.pkl', 'wb'))\n",
    "print('Data saved to pickle files.')\n"
   ]
  }
 ],
 "metadata": {
  "kernelspec": {
   "display_name": "ci_adapt_env",
   "language": "python",
   "name": "python3"
  },
  "language_info": {
   "codemirror_mode": {
    "name": "ipython",
    "version": 3
   },
   "file_extension": ".py",
   "mimetype": "text/x-python",
   "name": "python",
   "nbconvert_exporter": "python",
   "pygments_lexer": "ipython3",
   "version": "3.12.2"
  }
 },
 "nbformat": 4,
 "nbformat_minor": 2
}
