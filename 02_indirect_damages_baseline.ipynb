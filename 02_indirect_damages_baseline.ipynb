{
 "cells": [
  {
   "cell_type": "code",
   "execution_count": 1,
   "metadata": {},
   "outputs": [],
   "source": [
    "#ADDITIONAL DEPENDENCIES\n",
    "# !pip install triangle\n",
    "# !pip install rasterio\n",
    "# !pip install geopy\n",
    "# !pip install osmnx"
   ]
  },
  {
   "cell_type": "code",
   "execution_count": 2,
   "metadata": {},
   "outputs": [],
   "source": [
    "import sys\n",
    "sys.path.append(r'C:\\repos\\snkit\\src')\n",
    "sys.path.append(r'C:\\repos\\ra2ce')\n",
    "sys.path.append(r'C:\\repos\\ra2ce_multi_network')\n",
    "from ci_adapt_utilities import *\n",
    "from matplotlib import pyplot as plt\n",
    "from ra2ce_multi_network.simplify_rail import *\n",
    "from ra2ce_multi_network.simplify_rail import _network_to_nx"
   ]
  },
  {
   "cell_type": "code",
   "execution_count": 3,
   "metadata": {},
   "outputs": [],
   "source": [
    "# Load configuration with ini file (created running config.py)\n",
    "config_file=r'C:\\repos\\ci_adapt\\config_ci_adapt_test.ini'\n",
    "hazard_type, infra_type, country_code, country_name, hazard_data_subfolders, asset_data, vulnerability_data = load_config(config_file)"
   ]
  },
  {
   "cell_type": "code",
   "execution_count": 4,
   "metadata": {},
   "outputs": [
    {
     "name": "stdout",
     "output_type": "stream",
     "text": [
      "675 assets loaded.\n"
     ]
    }
   ],
   "source": [
    "# Define paths and load data\n",
    "data_path = Path(pathlib.Path(r'C:\\Users\\peregrin\\OneDrive - Stichting Deltares\\Documents\\PhD Daniel Shared\\Papers\\Paper 1 - Adaptation Framework\\Data\\test'))\n",
    "interim_data_path = data_path / 'interim' / 'indirect_damages'\n",
    "assets, geom_dict, miraca_colors, return_period_dict, adaptation_unit_costs, rp_spec_priority, average_road_cost_per_ton_km, average_train_cost_per_ton_km, average_train_load_tons = startup_ci_adapt(data_path, config_file)\n"
   ]
  },
  {
   "cell_type": "code",
   "execution_count": 5,
   "metadata": {},
   "outputs": [],
   "source": [
    "# Reproject assets to match route data projection\n",
    "assets_4326=assets.to_crs(4326)\n",
    "assets_4326['geometry']=assets_4326['geometry'].make_valid()"
   ]
  },
  {
   "cell_type": "code",
   "execution_count": 6,
   "metadata": {},
   "outputs": [
    {
     "data": {
      "text/html": [
       "<div>\n",
       "<style scoped>\n",
       "    .dataframe tbody tr th:only-of-type {\n",
       "        vertical-align: middle;\n",
       "    }\n",
       "\n",
       "    .dataframe tbody tr th {\n",
       "        vertical-align: top;\n",
       "    }\n",
       "\n",
       "    .dataframe thead th {\n",
       "        text-align: right;\n",
       "    }\n",
       "</style>\n",
       "<table border=\"1\" class=\"dataframe\">\n",
       "  <thead>\n",
       "    <tr style=\"text-align: right;\">\n",
       "      <th></th>\n",
       "      <th>From</th>\n",
       "      <th>To</th>\n",
       "      <th>From_Latitude</th>\n",
       "      <th>From_Longitude</th>\n",
       "      <th>To_Latitude</th>\n",
       "      <th>To_Longitude</th>\n",
       "      <th>goods</th>\n",
       "      <th>Country</th>\n",
       "      <th>geometry_from</th>\n",
       "      <th>geometry_to</th>\n",
       "    </tr>\n",
       "  </thead>\n",
       "  <tbody>\n",
       "    <tr>\n",
       "      <th>3192</th>\n",
       "      <td>Büdesheim-Dromersheim</td>\n",
       "      <td>Bingen (Rhein) Stadt</td>\n",
       "      <td>49.934</td>\n",
       "      <td>7.946</td>\n",
       "      <td>49.971</td>\n",
       "      <td>7.904</td>\n",
       "      <td>1.000</td>\n",
       "      <td>DE</td>\n",
       "      <td>POINT (884511.9871012702 6434834.058730009)</td>\n",
       "      <td>POINT (879858.6676332649 6441241.378778344)</td>\n",
       "    </tr>\n",
       "    <tr>\n",
       "      <th>3250</th>\n",
       "      <td>Bingen (Rhein) Stadt</td>\n",
       "      <td>Büdesheim-Dromersheim</td>\n",
       "      <td>49.971</td>\n",
       "      <td>7.904</td>\n",
       "      <td>49.934</td>\n",
       "      <td>7.946</td>\n",
       "      <td>1.000</td>\n",
       "      <td>DE</td>\n",
       "      <td>POINT (879858.6676332649 6441241.378778344)</td>\n",
       "      <td>POINT (884511.9871012702 6434834.058730009)</td>\n",
       "    </tr>\n",
       "    <tr>\n",
       "      <th>4044</th>\n",
       "      <td>Langenlonsheim</td>\n",
       "      <td>Stromberg (Hunsrück)</td>\n",
       "      <td>49.903</td>\n",
       "      <td>7.901</td>\n",
       "      <td>49.947</td>\n",
       "      <td>7.769</td>\n",
       "      <td>2.000</td>\n",
       "      <td>DE</td>\n",
       "      <td>POINT (879497.2043410999 6429427.441768809)</td>\n",
       "      <td>POINT (864887.3582970536 6437118.144174217)</td>\n",
       "    </tr>\n",
       "  </tbody>\n",
       "</table>\n",
       "</div>"
      ],
      "text/plain": [
       "                       From                     To From_Latitude  \\\n",
       "3192  Büdesheim-Dromersheim   Bingen (Rhein) Stadt        49.934   \n",
       "3250   Bingen (Rhein) Stadt  Büdesheim-Dromersheim        49.971   \n",
       "4044         Langenlonsheim   Stromberg (Hunsrück)        49.903   \n",
       "\n",
       "      From_Longitude To_Latitude To_Longitude  goods Country  \\\n",
       "3192           7.946      49.971        7.904  1.000      DE   \n",
       "3250           7.904      49.934        7.946  1.000      DE   \n",
       "4044           7.901      49.947        7.769  2.000      DE   \n",
       "\n",
       "                                    geometry_from  \\\n",
       "3192  POINT (884511.9871012702 6434834.058730009)   \n",
       "3250  POINT (879858.6676332649 6441241.378778344)   \n",
       "4044  POINT (879497.2043410999 6429427.441768809)   \n",
       "\n",
       "                                      geometry_to  \n",
       "3192  POINT (879858.6676332649 6441241.378778344)  \n",
       "3250  POINT (884511.9871012702 6434834.058730009)  \n",
       "4044  POINT (864887.3582970536 6437118.144174217)  "
      ]
     },
     "execution_count": 6,
     "metadata": {},
     "output_type": "execute_result"
    }
   ],
   "source": [
    "# Load route data\n",
    "route_data_source=data_path/r'input\\traffic\\NET_SEGMENTS_EU_EFTA_Filtered_0.xlsx'\n",
    "route_data=prepare_route_data(route_data_source, assets)\n",
    "route_data.head(3)"
   ]
  },
  {
   "cell_type": "code",
   "execution_count": 7,
   "metadata": {},
   "outputs": [],
   "source": [
    "# Prepare network to create graph\n",
    "net=Network(edges=assets_4326)\n",
    "net=add_endpoints(network=net)\n",
    "net=link_nodes_to_edges_within(network=net, distance=0.0000014)\n",
    "net=add_ids(network=net)\n",
    "net=add_topology(network=net)\n",
    "net.set_crs(4326)\n",
    "net.edges=net.edges.to_crs(3857)\n",
    "net.nodes=net.nodes.to_crs(3857)\n",
    "\n",
    "merged_rail_network=net"
   ]
  },
  {
   "cell_type": "code",
   "execution_count": 8,
   "metadata": {},
   "outputs": [],
   "source": [
    "# Create graph from network\n",
    "merged_rail_graph = _network_to_nx(merged_rail_network)\n",
    "\n",
    "# Create a MultiDiGraph from the graph\n",
    "graph_0=nx.MultiDiGraph(merged_rail_graph)"
   ]
  },
  {
   "cell_type": "code",
   "execution_count": 9,
   "metadata": {},
   "outputs": [],
   "source": [
    "# Removing floats from osm_id\n",
    "for u,v,k,attr in graph_0.edges(keys=True, data=True):\n",
    "    if type(attr['osm_id'])==type(float()):\n",
    "        graph_0[u][v][k]['osm_id'] = ''"
   ]
  },
  {
   "cell_type": "code",
   "execution_count": 10,
   "metadata": {},
   "outputs": [],
   "source": [
    "# Set weights for edges\n",
    "graph_0 = set_edge_weights(assets, graph_0)"
   ]
  },
  {
   "cell_type": "code",
   "execution_count": 11,
   "metadata": {},
   "outputs": [
    {
     "name": "stdout",
     "output_type": "stream",
     "text": [
      "Possible terminals: 716\n"
     ]
    },
    {
     "data": {
      "application/vnd.jupyter.widget-view+json": {
       "model_id": "916ec40af196447fb07576cebb31fe12",
       "version_major": 2,
       "version_minor": 0
      },
      "text/plain": [
       "Finding shortest paths between origin-destination pairs:   0%|          | 0/16 [00:00<?, ?it/s]"
      ]
     },
     "metadata": {},
     "output_type": "display_data"
    },
    {
     "name": "stdout",
     "output_type": "stream",
     "text": [
      "Failed to find paths for 0 routes\n"
     ]
    }
   ],
   "source": [
    "# Set capacities for flow model\n",
    "graph_0, shortest_paths = find_shortest_paths_capacities(graph_0, route_data, simplified=True)"
   ]
  },
  {
   "cell_type": "code",
   "execution_count": 12,
   "metadata": {},
   "outputs": [
    {
     "name": "stdout",
     "output_type": "stream",
     "text": [
      "Creating virtual graph...\n",
      "Success: only int type values\n"
     ]
    }
   ],
   "source": [
    "# Create initial virtual graph\n",
    "graph_v0=create_virtual_graph(graph_0)\n",
    "graph_v=graph_v0.copy()"
   ]
  },
  {
   "cell_type": "code",
   "execution_count": 13,
   "metadata": {},
   "outputs": [],
   "source": [
    "# Load direct damages results\n",
    "if 'collect_output' not in locals():\n",
    "    collect_output_path = data_path/'interim/collected_flood_runs/sample_collected_run.pkl'\n",
    "    with open(collect_output_path, 'rb') as f:\n",
    "        collect_output = pickle.load(f)"
   ]
  },
  {
   "cell_type": "code",
   "execution_count": 14,
   "metadata": {},
   "outputs": [
    {
     "name": "stdout",
     "output_type": "stream",
     "text": [
      "Disrupted edges: 24\n",
      "Calculating economic impact...\n",
      "flood_DERP_RW_H_4326_2080430320 47481.49151079169\n",
      "Disrupted edges: 78\n",
      "Calculating economic impact...\n",
      "flood_DERP_RW_L_4326_2080430320 14340135.635411203\n",
      "Disrupted edges: 60\n",
      "Calculating economic impact...\n",
      "flood_DERP_RW_M_4326_2080430320 2868027.1270822403\n"
     ]
    }
   ],
   "source": [
    "# Loop through the event files and calculate the economic impact of each event\n",
    "disrupted_asset_lengths={}\n",
    "disrupted_shortest_paths={}\n",
    "event_impacts={}\n",
    "disrupted_edges_by_basin={}\n",
    "\n",
    "for hazard_map, asset_dict in collect_output.items():\n",
    "    disrupted_assets = [key for key in asset_dict.keys()]\n",
    "    disrupted_osm_ids = [\n",
    "        assets.loc[asset_index]['osm_id'] \n",
    "        for asset_index in disrupted_assets \n",
    "        if asset_index in assets.index and (\n",
    "            (assets.loc[asset_index]['bridge'] != 'yes') \n",
    "            and (assets.loc[asset_index]['tunnel'] != 'yes')\n",
    "            and (assets.loc[asset_index]['osm_id'] is not None)\n",
    "            )\n",
    "        ]\n",
    "    if len(disrupted_osm_ids)==0:\n",
    "        continue\n",
    "\n",
    "    disrupted_edges=[]\n",
    "    \n",
    "    for u,v,attr in graph_0.edges(data=True):\n",
    "        if 'osm_id' not in attr: \n",
    "            continue\n",
    "        if attr['bridge']=='yes' or attr['tunnel']=='yes':\n",
    "            continue\n",
    "        matching_ids=[osm_id for osm_id in attr['osm_id'].split('; ') if osm_id in disrupted_osm_ids]\n",
    "        if len(matching_ids)>0:\n",
    "            disrupted_edges.append((u,v))\n",
    "            \n",
    "    print(f'Disrupted edges: {len(disrupted_edges)}')\n",
    "\n",
    "    # If there are no disrupted edges in the event, move to next event\n",
    "    if len(disrupted_edges)==0:\n",
    "        continue\n",
    "    \n",
    "    disrupted_edges_by_basin[hazard_map]=disrupted_edges\n",
    "    disrupted_shortest_paths[hazard_map]=calculate_new_paths(graph_v0, shortest_paths, disrupted_edges)\n",
    "\n",
    "    if disrupted_shortest_paths[hazard_map] == {}: # No disrupted paths, no economic impact\n",
    "        print(f'No shortest paths disrupted for {hazard_map}. No economic impact.')\n",
    "        continue\n",
    "\n",
    "    print('Calculating economic impact...')\n",
    "    impact=calculate_economic_impact_shortest_paths(hazard_map, graph_v, shortest_paths, disrupted_shortest_paths[hazard_map], average_train_load_tons, average_train_cost_per_ton_km, average_road_cost_per_ton_km)\n",
    "    event_impacts[hazard_map]=impact\n",
    "    print(hazard_map, impact)"
   ]
  },
  {
   "cell_type": "code",
   "execution_count": 15,
   "metadata": {},
   "outputs": [
    {
     "name": "stdout",
     "output_type": "stream",
     "text": [
      "Number of disrupted edges for flood_DERP_RW_H:  24\n",
      "Calculating shortest paths for:  flood_DERP_RW_H\n",
      "Calculating economic impact...\n",
      "Impact for flood_DERP_RW_H in M Eur: 0.05\n",
      "Number of disrupted edges for flood_DERP_RW_M:  60\n",
      "Calculating shortest paths for:  flood_DERP_RW_M\n",
      "Calculating economic impact...\n",
      "Impact for flood_DERP_RW_M in M Eur: 2.87\n",
      "Number of disrupted edges for flood_DERP_RW_L:  78\n",
      "Calculating shortest paths for:  flood_DERP_RW_L\n",
      "Calculating economic impact...\n",
      "Impact for flood_DERP_RW_L in M Eur: 14.34\n"
     ]
    }
   ],
   "source": [
    "#now repeat collecting all the disrupted edges accross all maps with the same return period\n",
    "all_disrupted_edges={}\n",
    "all_disrupted_shortest_paths={}\n",
    "full_flood_event={}\n",
    "\n",
    "haz_map_names=['flood_DERP_RW_H', 'flood_DERP_RW_M', 'flood_DERP_RW_L']\n",
    "\n",
    "for haz_map in haz_map_names:\n",
    "    all_disrupted_edges[haz_map]=[]\n",
    "    for key, value in disrupted_edges_by_basin.items():\n",
    "        if haz_map in key:\n",
    "            all_disrupted_edges[haz_map].extend(value)\n",
    "    all_disrupted_edges[haz_map]=list(set(all_disrupted_edges[haz_map]))\n",
    "    print(f'Number of disrupted edges for {haz_map}: ', len(all_disrupted_edges[haz_map]))\n",
    "    print('Calculating shortest paths for: ', haz_map)\n",
    "    all_disrupted_shortest_paths[haz_map]=calculate_new_paths(graph_v0, shortest_paths, all_disrupted_edges[haz_map])\n",
    "\n",
    "    if all_disrupted_shortest_paths[haz_map] == {}: # No disrupted paths, no economic impact\n",
    "        print(f'No shortest paths disrupted for {haz_map}. No economic impact.')\n",
    "        continue\n",
    "\n",
    "    print('Calculating economic impact...')    \n",
    "    impact=calculate_economic_impact_shortest_paths(haz_map, graph_v, shortest_paths, all_disrupted_shortest_paths[haz_map], average_train_load_tons, average_train_cost_per_ton_km, average_road_cost_per_ton_km)\n",
    "    print(f'Impact for {haz_map} in M Eur: {impact/1e6 :.2f}')\n",
    "    full_flood_event[haz_map]=impact\n",
    "\n",
    "# save the data\n",
    "with open(interim_data_path / 'all_disrupted_edges.pkl', 'wb') as f:\n",
    "    pickle.dump(all_disrupted_edges, f)\n",
    "with open(interim_data_path / 'full_flood_event.pkl', 'wb') as f:\n",
    "    pickle.dump(full_flood_event, f)\n"
   ]
  },
  {
   "cell_type": "code",
   "execution_count": 16,
   "metadata": {},
   "outputs": [
    {
     "data": {
      "text/plain": [
       "{2080430320: {'_H_': 47481.49151079169,\n",
       "  '_L_': 14340135.635411203,\n",
       "  '_M_': 2868027.1270822403}}"
      ]
     },
     "execution_count": 16,
     "metadata": {},
     "output_type": "execute_result"
    }
   ],
   "source": [
    "files = [file for file in os.listdir(data_path / 'interim/collected_flood_runs') if file.endswith('.pkl') and file.startswith('overlay')]\n",
    "basins_list=list(set([int(file.split('.')[0].split('_')[-1]) for file in files]))\n",
    "basin_dict = {}\n",
    "for basin in basins_list:\n",
    "    basin_dict[basin] = {}\n",
    "    for key in event_impacts.keys():\n",
    "        if not str(basin) in key:\n",
    "            continue\n",
    "        if str(basin) in key:\n",
    "            basin_dict[basin][key.split('_RW')[-1][0:3]] = event_impacts[key]\n",
    "\n",
    "for rp in return_period_dict.keys():\n",
    "    # add rp as a key to all nested dictionaries with 0 as a value if the rp is not already a key\n",
    "    for basin in basin_dict.keys():\n",
    "        if rp not in basin_dict[basin].keys():\n",
    "            basin_dict[basin][rp] = 0\n",
    "\n",
    "basin_dict\n",
    "          "
   ]
  },
  {
   "cell_type": "code",
   "execution_count": 17,
   "metadata": {},
   "outputs": [],
   "source": [
    "\"\"\"\n",
    "Return period definitions for Rhineland Palatinate (DERP) based on the report by Rauthe M, et al. (2020):\n",
    "_H_=10-25y \n",
    "_M_=100y\n",
    "_L_=200y\n",
    "\"\"\"\n",
    "# Add climate change: calculate the dynamic return periods based on flat increase factors. \n",
    "increase_factor = {\n",
    "    '_H_': 2,\n",
    "    '_M_': 4.21,\n",
    "    '_L_': 5.86\n",
    "} # Mentaschi, et al. (2016) \n",
    "\n",
    "num_years = 100\n",
    "return_periods = calculate_dynamic_return_periods(return_period_dict, num_years, increase_factor)"
   ]
  },
  {
   "cell_type": "code",
   "execution_count": 18,
   "metadata": {},
   "outputs": [],
   "source": [
    "\n",
    "aggregated_df_by_basin = {}\n",
    "ead_by_ts_by_basin = {}\n",
    "\n",
    "for basin, damage_dict in basin_dict.items():\n",
    "    if len(damage_dict) == 0:\n",
    "        continue\n",
    "\n",
    "    aggregated_df_by_basin[basin] = pd.DataFrame.from_dict(damage_dict, orient='index', columns=['Total indirect damage'])\n",
    "    aggregated_df_by_basin[basin]['Return Period'] = [return_periods[index] for index in aggregated_df_by_basin[basin].index]\n",
    "    probabilities = [[1 / rp for rp in ts] for ts in aggregated_df_by_basin[basin]['Return Period']]\n",
    "    aggregated_df_by_basin[basin]['Probability'] = probabilities\n",
    "    dmgs = []\n",
    "\n",
    "    for ts in range(len(probabilities[0])):    \n",
    "        dmgs_m = []\n",
    "\n",
    "        for rp in range(len(probabilities)-1):\n",
    "            d_rp= probabilities[rp][ts] - probabilities[rp + 1][ts]\n",
    "            trap_damage_m = 0.5 * (aggregated_df_by_basin[basin]['Total indirect damage'].iloc[rp] + aggregated_df_by_basin[basin]['Total indirect damage'].iloc[rp + 1])\n",
    "            dmgs_m.append(d_rp * trap_damage_m)\n",
    "        \n",
    "        # Add the portion of damages corresponding to the tails of the distribution\n",
    "        d0_rp = probabilities[-1][ts]\n",
    "        damage_m0 = max(aggregated_df_by_basin[basin]['Total indirect damage'])\n",
    "        dmgs_m.append(d0_rp * damage_m0)\n",
    "\n",
    "        d_end_rp = (1/4)-probabilities[0][ts]\n",
    "        damage_m_end = 0.5 * min(aggregated_df_by_basin[basin]['Total indirect damage'])\n",
    "\n",
    "        dmgs_m.append(d_end_rp * damage_m_end)\n",
    "\n",
    "        dmgs.append((sum(dmgs_m)))\n",
    "    \n",
    "    ead_by_ts_by_basin[basin] = pd.DataFrame(dmgs, columns=['Total indirect damage'])\n"
   ]
  },
  {
   "cell_type": "code",
   "execution_count": 19,
   "metadata": {},
   "outputs": [
    {
     "data": {
      "text/plain": [
       "{2080430320:      Total indirect damage\n",
       " 0              787,353.875\n",
       " 1              796,707.912\n",
       " 2              806,061.950\n",
       " 3              815,415.987\n",
       " 4              824,770.025\n",
       " ..                     ...\n",
       " 96           1,685,341.478\n",
       " 97           1,694,695.515\n",
       " 98           1,704,049.553\n",
       " 99           1,713,403.590\n",
       " 100          1,722,757.628\n",
       " \n",
       " [101 rows x 1 columns]}"
      ]
     },
     "execution_count": 19,
     "metadata": {},
     "output_type": "execute_result"
    }
   ],
   "source": [
    "ead_by_ts_by_basin"
   ]
  },
  {
   "cell_type": "code",
   "execution_count": 20,
   "metadata": {},
   "outputs": [
    {
     "data": {
      "text/plain": [
       "{2080430320: 126760630.87531061}"
      ]
     },
     "execution_count": 20,
     "metadata": {},
     "output_type": "execute_result"
    }
   ],
   "source": [
    "# Find total damages by basin over the 100 y period\n",
    "total_damages_by_basin = {basin: ead_by_ts_by_basin[basin].values.sum() for basin in ead_by_ts_by_basin.keys()}\n",
    "total_damages_by_basin\n"
   ]
  },
  {
   "cell_type": "code",
   "execution_count": 21,
   "metadata": {},
   "outputs": [
    {
     "data": {
      "image/png": "[encoded data removed]",
      "text/plain": [
       "<Figure size 640x480 with 1 Axes>"
      ]
     },
     "metadata": {},
     "output_type": "display_data"
    }
   ],
   "source": [
    "#plot the EAD for each basin    \n",
    "for basin, ead_df in ead_by_ts_by_basin.items():\n",
    "    plt.plot(ead_df, label=basin)\n",
    "        "
   ]
  },
  {
   "cell_type": "code",
   "execution_count": 22,
   "metadata": {},
   "outputs": [
    {
     "name": "stderr",
     "output_type": "stream",
     "text": [
      "c:\\Users\\peregrin\\AppData\\Local\\anaconda3\\envs\\ci_adapt_env\\Lib\\site-packages\\geopandas\\geodataframe.py:1543: SettingWithCopyWarning: \n",
      "A value is trying to be set on a copy of a slice from a DataFrame.\n",
      "Try using .loc[row_indexer,col_indexer] = value instead\n",
      "\n",
      "See the caveats in the documentation: https://pandas.pydata.org/pandas-docs/stable/user_guide/indexing.html#returning-a-view-versus-a-copy\n",
      "  super().__setitem__(key, value)\n"
     ]
    }
   ],
   "source": [
    "def georeference_damages(gdf, damages):\n",
    "    # Initialize 'damage' column to 0\n",
    "    gdf['damage'] = 0\n",
    "    # Vectorized operation to map damages based on 'HYBAS_ID'\n",
    "    damage_map = {key: value for key, value in damages.items() if key in gdf['HYBAS_ID'].tolist()}\n",
    "    gdf['damage'] = gdf['HYBAS_ID'].map(damage_map).fillna(0)\n",
    "    return gdf\n",
    "\n",
    "# Load basins GeoDataFrame\n",
    "basins = gpd.read_file(r'c:\\Data\\Floods\\basins\\hybas_eu_lev01-12_v1c\\hybas_eu_lev08_v1c_valid.shp')\n",
    "\n",
    "# Assuming 'basins_list' is a predefined list of 'HYBAS_ID's to filter by\n",
    "basins_filtered = basins[basins['HYBAS_ID'].isin(basins_list)]\n",
    "\n",
    "ead_gdf = georeference_damages(basins_filtered, total_damages_by_basin)\n",
    "\n"
   ]
  },
  {
   "cell_type": "code",
   "execution_count": 23,
   "metadata": {},
   "outputs": [
    {
     "name": "stdout",
     "output_type": "stream",
     "text": [
      "Data saved to pickle files.\n"
     ]
    }
   ],
   "source": [
    "# save G and shortest paths to pickle files\n",
    "pickle.dump(graph_0, open(interim_data_path / 'graph_0.pkl', 'wb'))\n",
    "pickle.dump(shortest_paths, open(interim_data_path / 'shortest_paths.pkl', 'wb'))\n",
    "pickle.dump(disrupted_edges_by_basin, open(interim_data_path / 'disrupted_edges_by_basin.pkl', 'wb'))\n",
    "pickle.dump(disrupted_shortest_paths, open(interim_data_path / 'disrupted_shortest_paths.pkl', 'wb'))\n",
    "pickle.dump(event_impacts, open(interim_data_path / 'event_impacts.pkl', 'wb'))\n",
    "pickle.dump(ead_gdf, open(interim_data_path / 'ead_gdf.pkl', 'wb'))\n",
    "pickle.dump(ead_by_ts_by_basin, open(interim_data_path / 'ead_by_ts_by_basin.pkl', 'wb'))\n",
    "print('Data saved to pickle files.')\n"
   ]
  },
  {
   "cell_type": "code",
   "execution_count": 24,
   "metadata": {},
   "outputs": [
    {
     "name": "stderr",
     "output_type": "stream",
     "text": [
      "c:\\Users\\peregrin\\AppData\\Local\\anaconda3\\envs\\ci_adapt_env\\Lib\\site-packages\\lonboard\\_geoarrow\\ops\\reproject.py:97: UserWarning: Input being reprojected to EPSG:4326 CRS\n",
      "  warnings.warn(\"Input being reprojected to EPSG:4326 CRS\")\n",
      "c:\\Users\\peregrin\\AppData\\Local\\anaconda3\\envs\\ci_adapt_env\\Lib\\site-packages\\lonboard\\_geoarrow\\ops\\reproject.py:97: UserWarning: Input being reprojected to EPSG:4326 CRS\n",
      "  warnings.warn(\"Input being reprojected to EPSG:4326 CRS\")\n"
     ]
    },
    {
     "data": {
      "application/vnd.jupyter.widget-view+json": {
       "model_id": "5bebd418db2f4ed1b734cc7bcc22f7e2",
       "version_major": 2,
       "version_minor": 0
      },
      "text/plain": [
       "Map(basemap_style='https://basemaps.cartocdn.com/gl/voyager-gl-style/style.json', layers=[PathLayer(auto_highl…"
      ]
     },
     "execution_count": 24,
     "metadata": {},
     "output_type": "execute_result"
    }
   ],
   "source": [
    "def plot_shortest_paths(assets, graph, shortest_paths, colors):\n",
    "    from lonboard import Map, PathLayer, ScatterplotLayer\n",
    "    layers_assets=[]\n",
    "    # Generate od layer for visualization\n",
    "    od_geoms=[attr['geometry'] for u,attr in graph.nodes(data=True) if 'name' in attr.keys()]\n",
    "    od_geoms_gdf=gpd.GeoDataFrame(geometry=od_geoms).set_crs(epsg=3857).to_crs(4326)\n",
    "    \n",
    "    layer_od = ScatterplotLayer.from_geopandas(od_geoms_gdf, get_fill_color=colors['red_danger'], get_radius=100, opacity=0.5, auto_highlight=False)\n",
    "    # Create layer for assets for visualization\n",
    "    layer_assets = PathLayer.from_geopandas(assets.drop(columns=['other_tags']), get_width=5, get_color=colors['grey_400'], auto_highlight=True, )\n",
    "    layers_assets.append(layer_assets)\n",
    "    # layer_shortest_path_assets = PathLayer.from_geopandas(assets_sps.drop(columns=['buffered', 'other_tags']), get_width=80, get_color=colors['black'], auto_highlight=True)\n",
    "    if shortest_paths is not None:\n",
    "        shortest_paths_geoms = []\n",
    "        for od,(path,demand) in shortest_paths.items():\n",
    "            for u in range(len(path)-1):\n",
    "                edge = graph.get_edge_data(path[u], path[u+1])\n",
    "                if edge is not None:\n",
    "                    for i in range(len(edge)):\n",
    "                        edge_data = edge[i]\n",
    "                        edge_geom = edge_data['geometry']\n",
    "                        shortest_paths_geoms.append((od,demand, edge_geom))\n",
    "                    \n",
    "        shortest_paths_gdf = gpd.GeoDataFrame(shortest_paths_geoms, columns=['od','demand', 'geometry']).set_crs(epsg=3857)\n",
    "        layers_sps = PathLayer.from_geopandas(shortest_paths_gdf, get_width=8, get_color=colors['black'], auto_highlight=True)\n",
    "        layers_assets.append(layers_sps)\n",
    "    \n",
    "    layers=[]\n",
    "    if layer_assets is not None:\n",
    "        layers.extend(layers_assets)\n",
    "    else:\n",
    "        print('No asset layer')\n",
    "    Voyager = 'https://basemaps.cartocdn.com/gl/voyager-gl-style/style.json'\n",
    "\n",
    "    if layer_od is not None:\n",
    "        layers.append(layer_od)\n",
    "    else:\n",
    "        print('No od layer')\n",
    "    m = Map(layers, show_tooltip=True, basemap_style=Voyager, view_state={\"longitude\": 7.91, \"latitude\": 49.91, \"zoom\": 11})\n",
    "\n",
    "\n",
    "    return m\n",
    "\n",
    "plot_shortest_paths(assets, graph_0, shortest_paths, miraca_colors)"
   ]
  }
 ],
 "metadata": {
  "kernelspec": {
   "display_name": "ci_adapt_env",
   "language": "python",
   "name": "python3"
  },
  "language_info": {
   "codemirror_mode": {
    "name": "ipython",
    "version": 3
   },
   "file_extension": ".py",
   "mimetype": "text/x-python",
   "name": "python",
   "nbconvert_exporter": "python",
   "pygments_lexer": "ipython3",
   "version": "3.12.2"
  }
 },
 "nbformat": 4,
 "nbformat_minor": 2
}
