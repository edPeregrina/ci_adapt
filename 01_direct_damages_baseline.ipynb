{
 "cells": [
  {
   "cell_type": "markdown",
   "metadata": {},
   "source": [
    "Direct damages calculation for CI Adapt"
   ]
  },
  {
   "cell_type": "code",
   "execution_count": 1,
   "metadata": {},
   "outputs": [],
   "source": [
    "import configparser\n",
    "from pathlib import Path\n",
    "import pathlib\n",
    "from direct_damages import damagescanner_rail_track as ds\n",
    "import pandas as pd\n",
    "import datetime\n",
    "from ci_adapt_utilities import *\n",
    "import pickle\n",
    "import os\n",
    "from matplotlib import pyplot as plt"
   ]
  },
  {
   "cell_type": "markdown",
   "metadata": {},
   "source": [
    "Load default configuration and parameters"
   ]
  },
  {
   "cell_type": "code",
   "execution_count": 2,
   "metadata": {},
   "outputs": [],
   "source": [
    "# Load configuration with ini file (created running config.py)\n",
    "config_file=r'C:\\repos\\ci_adapt\\config_ci_adapt.ini'\n",
    "config = configparser.ConfigParser()\n",
    "config.read(config_file)\n",
    "\n",
    "p = Path('..')\n",
    "hazard_type = config.get('DEFAULT', 'hazard_type')\n",
    "infra_type = config.get('DEFAULT', 'infra_type')\n",
    "country_code = config.get('DEFAULT', 'country_code')\n",
    "country_name = config.get('DEFAULT', 'country_name')\n",
    "hazard_data_subfolders = config.get('DEFAULT', 'hazard_data_subfolders')\n",
    "asset_data = config.get('DEFAULT', 'asset_data')\n",
    "vulnerability_data = config.get('DEFAULT', 'vulnerability_data')\n",
    "data_path = Path(pathlib.Path.home().parts[0]) / 'Data'\n",
    "interim_data_path = data_path / 'interim' / 'collected_flood_runs'"
   ]
  },
  {
   "cell_type": "markdown",
   "metadata": {},
   "source": [
    "Read risk data (asset exposure, vulnerability, hazard)"
   ]
  },
  {
   "cell_type": "code",
   "execution_count": 3,
   "metadata": {},
   "outputs": [
    {
     "name": "stdout",
     "output_type": "stream",
     "text": [
      "122720 assets loaded.\n"
     ]
    }
   ],
   "source": [
    "# Read exposure data (OSM, OpenStreetMap contributors (2024) / osm-flex)\n",
    "assets_path = data_path / asset_data\n",
    "assets = preprocess_assets(assets_path)\n",
    "asset_options={'bridge_design_rp':'M',\n",
    "               'tunnel_design_rp':'M'}\n",
    "\n",
    "# Add buffer to assets to do area intersect and create dictionaries for quicker lookup\n",
    "buffered_assets = ds.buffer_assets(assets)\n",
    "geom_dict = assets['geometry'].to_dict()\n",
    "type_dict = assets['asset'].to_dict()\n",
    "\n",
    "print(f\"{len(assets)} assets loaded.\")"
   ]
  },
  {
   "cell_type": "code",
   "execution_count": 4,
   "metadata": {},
   "outputs": [
    {
     "name": "stdout",
     "output_type": "stream",
     "text": [
      "Found matching infrastructure curves for: rail\n"
     ]
    }
   ],
   "source": [
    "# Read vulnerability and maximum damage data from Nirandjan, S., et al. (2024)\n",
    "curve_types = {'rail': ['F8.1']}\n",
    "infra_curves, maxdams = ds.read_vul_maxdam(data_path, hazard_type, infra_type)\n",
    "max_damage_tables = pd.read_excel(data_path / vulnerability_data / 'Table_D3_Costs_V1.0.0.xlsx',sheet_name='Cost_Database',index_col=[0])\n",
    "print(f'Found matching infrastructure curves for: {infra_type}')"
   ]
  },
  {
   "cell_type": "code",
   "execution_count": 5,
   "metadata": {},
   "outputs": [
    {
     "name": "stdout",
     "output_type": "stream",
     "text": [
      "Found 183 hazard maps.\n"
     ]
    }
   ],
   "source": [
    "# Read hazard data (Rauthe M, et al. (2020): Climate impact analysis of the federal transport system in the context of floods: Final report of the key topic flood risks (SP-103) in topic area 1 of the BMVI expert network. 136 pages. DOI: 10.5675/ExpNRM2020.2020.04)\n",
    "n_drive_dpath=Path(r'N:\\Projects\\11209000\\11209175\\B. Measurements and calculations\\Data\\basin_flood_hazard_maps')\n",
    "# local_haz_path=data_path/r'Floods\\Germany\\fluvial_undefended\\raw_subsample\\validated_geometries'\n",
    "hazard_data_list = ds.read_hazard_data(n_drive_dpath, hazard_type, country=country_name, subfolders=None)#hazard_data_subfolders)\n",
    "print(f'Found {len(hazard_data_list)} hazard maps.')"
   ]
  },
  {
   "cell_type": "code",
   "execution_count": 6,
   "metadata": {},
   "outputs": [],
   "source": [
    "return_period_dict = {'_H_': 10,'_M_': 100,'_L_': 200}\n",
    "rp_spec_priority = set_rp_priorities(return_period_dict)"
   ]
  },
  {
   "cell_type": "markdown",
   "metadata": {},
   "source": [
    "Overlay hazard and asset data"
   ]
  },
  {
   "cell_type": "code",
   "execution_count": 7,
   "metadata": {},
   "outputs": [
    {
     "name": "stdout",
     "output_type": "stream",
     "text": [
      "2024-09-20 16:04:13 - Reading hazard map 1 of 183: flood_DERP_RW_H_4326_2080410170\n",
      "Flood map path: N:\\Projects\\11209000\\11209175\\B. Measurements and calculations\\Data\\basin_flood_hazard_maps\\flood_DERP_RW_H_4326_2080410170.geojson\n",
      "2024-09-20 16:04:19 - Coarse overlay of hazard map with assets...\n"
     ]
    },
    {
     "name": "stderr",
     "output_type": "stream",
     "text": [
      "100%|██████████| 30/30 [00:01<00:00, 27.62it/s]\n"
     ]
    },
    {
     "name": "stdout",
     "output_type": "stream",
     "text": [
      "2024-09-20 16:05:50 - Reading hazard map 2 of 183: flood_DERP_RW_H_4326_2080410430\n",
      "Flood map path: N:\\Projects\\11209000\\11209175\\B. Measurements and calculations\\Data\\basin_flood_hazard_maps\\flood_DERP_RW_H_4326_2080410430.geojson\n",
      "2024-09-20 16:05:53 - Coarse overlay of hazard map with assets...\n"
     ]
    },
    {
     "name": "stderr",
     "output_type": "stream",
     "text": [
      "100%|██████████| 13/13 [00:02<00:00,  5.41it/s]\n"
     ]
    },
    {
     "name": "stdout",
     "output_type": "stream",
     "text": [
      "2024-09-20 16:06:46 - Reading hazard map 3 of 183: flood_DERP_RW_H_4326_2080410540\n",
      "Flood map path: N:\\Projects\\11209000\\11209175\\B. Measurements and calculations\\Data\\basin_flood_hazard_maps\\flood_DERP_RW_H_4326_2080410540.geojson\n",
      "2024-09-20 16:06:52 - Coarse overlay of hazard map with assets...\n"
     ]
    },
    {
     "name": "stderr",
     "output_type": "stream",
     "text": [
      "100%|██████████| 20/20 [00:00<00:00, 21.28it/s]\n"
     ]
    },
    {
     "name": "stdout",
     "output_type": "stream",
     "text": [
      "2024-09-20 16:08:58 - Reading hazard map 4 of 183: flood_DERP_RW_H_4326_2080410660\n",
      "Flood map path: N:\\Projects\\11209000\\11209175\\B. Measurements and calculations\\Data\\basin_flood_hazard_maps\\flood_DERP_RW_H_4326_2080410660.geojson\n",
      "2024-09-20 16:09:00 - Coarse overlay of hazard map with assets...\n"
     ]
    },
    {
     "name": "stderr",
     "output_type": "stream",
     "text": [
      "100%|██████████| 10/10 [00:00<00:00, 3332.25it/s]\n"
     ]
    },
    {
     "name": "stdout",
     "output_type": "stream",
     "text": [
      "2024-09-20 16:09:04 - Reading hazard map 5 of 183: flood_DERP_RW_H_4326_2080410760\n",
      "Flood map path: N:\\Projects\\11209000\\11209175\\B. Measurements and calculations\\Data\\basin_flood_hazard_maps\\flood_DERP_RW_H_4326_2080410760.geojson\n",
      "2024-09-20 16:09:15 - Coarse overlay of hazard map with assets...\n"
     ]
    },
    {
     "name": "stderr",
     "output_type": "stream",
     "text": [
      "100%|██████████| 3/3 [00:00<00:00, 1501.00it/s]\n"
     ]
    },
    {
     "name": "stdout",
     "output_type": "stream",
     "text": [
      "2024-09-20 16:10:26 - Reading hazard map 6 of 183: flood_DERP_RW_H_4326_2080411370\n",
      "Flood map path: N:\\Projects\\11209000\\11209175\\B. Measurements and calculations\\Data\\basin_flood_hazard_maps\\flood_DERP_RW_H_4326_2080411370.geojson\n",
      "2024-09-20 16:10:30 - Coarse overlay of hazard map with assets...\n"
     ]
    },
    {
     "name": "stderr",
     "output_type": "stream",
     "text": [
      "100%|██████████| 19/19 [00:05<00:00,  3.40it/s]\n"
     ]
    },
    {
     "name": "stdout",
     "output_type": "stream",
     "text": [
      "2024-09-20 16:12:00 - Reading hazard map 7 of 183: flood_DERP_RW_H_4326_2080416200\n",
      "Flood map path: N:\\Projects\\11209000\\11209175\\B. Measurements and calculations\\Data\\basin_flood_hazard_maps\\flood_DERP_RW_H_4326_2080416200.geojson\n",
      "2024-09-20 16:12:15 - Coarse overlay of hazard map with assets...\n"
     ]
    },
    {
     "name": "stderr",
     "output_type": "stream",
     "text": [
      "100%|██████████| 2/2 [00:00<00:00, 1000.07it/s]\n"
     ]
    },
    {
     "name": "stdout",
     "output_type": "stream",
     "text": [
      "2024-09-20 16:16:51 - Reading hazard map 8 of 183: flood_DERP_RW_H_4326_2080416210\n",
      "Flood map path: N:\\Projects\\11209000\\11209175\\B. Measurements and calculations\\Data\\basin_flood_hazard_maps\\flood_DERP_RW_H_4326_2080416210.geojson\n",
      "2024-09-20 16:17:00 - Coarse overlay of hazard map with assets...\n"
     ]
    },
    {
     "name": "stderr",
     "output_type": "stream",
     "text": [
      "100%|██████████| 24/24 [01:14<00:00,  3.12s/it]\n"
     ]
    },
    {
     "name": "stdout",
     "output_type": "stream",
     "text": [
      "2024-09-20 16:23:03 - Reading hazard map 9 of 183: flood_DERP_RW_H_4326_2080418600\n",
      "Flood map path: N:\\Projects\\11209000\\11209175\\B. Measurements and calculations\\Data\\basin_flood_hazard_maps\\flood_DERP_RW_H_4326_2080418600.geojson\n",
      "2024-09-20 16:23:27 - Coarse overlay of hazard map with assets...\n"
     ]
    },
    {
     "name": "stderr",
     "output_type": "stream",
     "text": [
      "100%|██████████| 41/41 [01:49<00:00,  2.66s/it]\n"
     ]
    },
    {
     "name": "stdout",
     "output_type": "stream",
     "text": [
      "2024-09-20 16:41:18 - Reading hazard map 10 of 183: flood_DERP_RW_H_4326_2080418720\n",
      "Flood map path: N:\\Projects\\11209000\\11209175\\B. Measurements and calculations\\Data\\basin_flood_hazard_maps\\flood_DERP_RW_H_4326_2080418720.geojson\n",
      "2024-09-20 16:41:19 - Coarse overlay of hazard map with assets...\n"
     ]
    },
    {
     "name": "stderr",
     "output_type": "stream",
     "text": [
      "100%|██████████| 2/2 [00:00<00:00, 2005.88it/s]\n"
     ]
    },
    {
     "name": "stdout",
     "output_type": "stream",
     "text": [
      "2024-09-20 16:41:19 - Reading hazard map 11 of 183: flood_DERP_RW_H_4326_2080418880\n",
      "Flood map path: N:\\Projects\\11209000\\11209175\\B. Measurements and calculations\\Data\\basin_flood_hazard_maps\\flood_DERP_RW_H_4326_2080418880.geojson\n",
      "2024-09-20 16:41:26 - Coarse overlay of hazard map with assets...\n"
     ]
    },
    {
     "name": "stderr",
     "output_type": "stream",
     "text": [
      "100%|██████████| 5/5 [00:00<00:00,  6.90it/s]\n"
     ]
    },
    {
     "name": "stdout",
     "output_type": "stream",
     "text": [
      "2024-09-20 16:42:35 - Reading hazard map 12 of 183: flood_DERP_RW_H_4326_2080418890\n",
      "Flood map path: N:\\Projects\\11209000\\11209175\\B. Measurements and calculations\\Data\\basin_flood_hazard_maps\\flood_DERP_RW_H_4326_2080418890.geojson\n",
      "2024-09-20 16:42:42 - Coarse overlay of hazard map with assets...\n"
     ]
    },
    {
     "name": "stderr",
     "output_type": "stream",
     "text": [
      "100%|██████████| 7/7 [01:43<00:00, 14.85s/it]\n"
     ]
    },
    {
     "name": "stdout",
     "output_type": "stream",
     "text": [
      "2024-09-20 16:47:36 - Reading hazard map 13 of 183: flood_DERP_RW_H_4326_2080419070\n",
      "Flood map path: N:\\Projects\\11209000\\11209175\\B. Measurements and calculations\\Data\\basin_flood_hazard_maps\\flood_DERP_RW_H_4326_2080419070.geojson\n",
      "2024-09-20 16:47:37 - Coarse overlay of hazard map with assets...\n"
     ]
    },
    {
     "name": "stderr",
     "output_type": "stream",
     "text": [
      "100%|██████████| 1/1 [00:00<00:00, 1009.22it/s]\n"
     ]
    },
    {
     "name": "stdout",
     "output_type": "stream",
     "text": [
      "2024-09-20 16:47:37 - Reading hazard map 14 of 183: flood_DERP_RW_H_4326_2080419180\n",
      "Flood map path: N:\\Projects\\11209000\\11209175\\B. Measurements and calculations\\Data\\basin_flood_hazard_maps\\flood_DERP_RW_H_4326_2080419180.geojson\n",
      "2024-09-20 16:47:43 - Coarse overlay of hazard map with assets...\n"
     ]
    },
    {
     "name": "stderr",
     "output_type": "stream",
     "text": [
      "100%|██████████| 19/19 [00:22<00:00,  1.21s/it]\n"
     ]
    },
    {
     "name": "stdout",
     "output_type": "stream",
     "text": [
      "2024-09-20 16:49:11 - Reading hazard map 15 of 183: flood_DERP_RW_H_4326_2080420240\n",
      "Flood map path: N:\\Projects\\11209000\\11209175\\B. Measurements and calculations\\Data\\basin_flood_hazard_maps\\flood_DERP_RW_H_4326_2080420240.geojson\n",
      "2024-09-20 16:49:40 - Coarse overlay of hazard map with assets...\n"
     ]
    },
    {
     "name": "stderr",
     "output_type": "stream",
     "text": [
      "100%|██████████| 62/62 [08:51<00:00,  8.57s/it]\n"
     ]
    },
    {
     "name": "stdout",
     "output_type": "stream",
     "text": [
      "2024-09-20 17:31:38 - Reading hazard map 16 of 183: flood_DERP_RW_H_4326_2080420340\n",
      "Flood map path: N:\\Projects\\11209000\\11209175\\B. Measurements and calculations\\Data\\basin_flood_hazard_maps\\flood_DERP_RW_H_4326_2080420340.geojson\n",
      "2024-09-20 17:31:41 - Coarse overlay of hazard map with assets...\n"
     ]
    },
    {
     "name": "stderr",
     "output_type": "stream",
     "text": [
      "100%|██████████| 5/5 [00:00<00:00, 2491.86it/s]\n"
     ]
    },
    {
     "name": "stdout",
     "output_type": "stream",
     "text": [
      "2024-09-20 17:32:13 - Reading hazard map 17 of 183: flood_DERP_RW_H_4326_2080421680\n",
      "Flood map path: N:\\Projects\\11209000\\11209175\\B. Measurements and calculations\\Data\\basin_flood_hazard_maps\\flood_DERP_RW_H_4326_2080421680.geojson\n",
      "2024-09-20 17:32:33 - Coarse overlay of hazard map with assets...\n"
     ]
    },
    {
     "name": "stderr",
     "output_type": "stream",
     "text": [
      "100%|██████████| 41/41 [00:12<00:00,  3.24it/s]\n"
     ]
    },
    {
     "name": "stdout",
     "output_type": "stream",
     "text": [
      "2024-09-20 17:59:42 - Reading hazard map 18 of 183: flood_DERP_RW_H_4326_2080421770\n",
      "Flood map path: N:\\Projects\\11209000\\11209175\\B. Measurements and calculations\\Data\\basin_flood_hazard_maps\\flood_DERP_RW_H_4326_2080421770.geojson\n",
      "2024-09-20 17:59:54 - Coarse overlay of hazard map with assets...\n"
     ]
    },
    {
     "name": "stderr",
     "output_type": "stream",
     "text": [
      "100%|██████████| 22/22 [00:03<00:00,  5.84it/s]\n"
     ]
    },
    {
     "name": "stdout",
     "output_type": "stream",
     "text": [
      "2024-09-20 18:22:44 - Reading hazard map 19 of 183: flood_DERP_RW_H_4326_2080428080\n",
      "Flood map path: N:\\Projects\\11209000\\11209175\\B. Measurements and calculations\\Data\\basin_flood_hazard_maps\\flood_DERP_RW_H_4326_2080428080.geojson\n",
      "2024-09-20 18:22:54 - Coarse overlay of hazard map with assets...\n"
     ]
    },
    {
     "name": "stderr",
     "output_type": "stream",
     "text": [
      "0it [00:00, ?it/s]\n"
     ]
    },
    {
     "name": "stdout",
     "output_type": "stream",
     "text": [
      "2024-09-20 18:23:55 - Reading hazard map 20 of 183: flood_DERP_RW_H_4326_2080428160\n",
      "Flood map path: N:\\Projects\\11209000\\11209175\\B. Measurements and calculations\\Data\\basin_flood_hazard_maps\\flood_DERP_RW_H_4326_2080428160.geojson\n",
      "2024-09-20 18:24:12 - Coarse overlay of hazard map with assets...\n"
     ]
    },
    {
     "name": "stderr",
     "output_type": "stream",
     "text": [
      "100%|██████████| 8/8 [02:17<00:00, 17.25s/it]\n"
     ]
    },
    {
     "name": "stdout",
     "output_type": "stream",
     "text": [
      "2024-09-20 18:31:18 - Reading hazard map 21 of 183: flood_DERP_RW_H_4326_2080428500\n",
      "Flood map path: N:\\Projects\\11209000\\11209175\\B. Measurements and calculations\\Data\\basin_flood_hazard_maps\\flood_DERP_RW_H_4326_2080428500.geojson\n",
      "2024-09-20 18:31:19 - Coarse overlay of hazard map with assets...\n"
     ]
    },
    {
     "name": "stderr",
     "output_type": "stream",
     "text": [
      "0it [00:00, ?it/s]\n"
     ]
    },
    {
     "name": "stdout",
     "output_type": "stream",
     "text": [
      "2024-09-20 18:31:24 - Reading hazard map 22 of 183: flood_DERP_RW_H_4326_2080429430\n",
      "Flood map path: N:\\Projects\\11209000\\11209175\\B. Measurements and calculations\\Data\\basin_flood_hazard_maps\\flood_DERP_RW_H_4326_2080429430.geojson\n",
      "2024-09-20 18:31:26 - Coarse overlay of hazard map with assets...\n"
     ]
    },
    {
     "name": "stderr",
     "output_type": "stream",
     "text": [
      "100%|██████████| 12/12 [00:00<00:00, 15.06it/s]\n"
     ]
    },
    {
     "name": "stdout",
     "output_type": "stream",
     "text": [
      "2024-09-20 18:32:12 - Reading hazard map 23 of 183: flood_DERP_RW_H_4326_2080429540\n",
      "Flood map path: N:\\Projects\\11209000\\11209175\\B. Measurements and calculations\\Data\\basin_flood_hazard_maps\\flood_DERP_RW_H_4326_2080429540.geojson\n",
      "2024-09-20 18:32:23 - Coarse overlay of hazard map with assets...\n"
     ]
    },
    {
     "name": "stderr",
     "output_type": "stream",
     "text": [
      "100%|██████████| 6/6 [00:00<00:00,  6.70it/s]\n"
     ]
    },
    {
     "name": "stdout",
     "output_type": "stream",
     "text": [
      "2024-09-20 18:40:45 - Reading hazard map 24 of 183: flood_DERP_RW_H_4326_2080429670\n",
      "Flood map path: N:\\Projects\\11209000\\11209175\\B. Measurements and calculations\\Data\\basin_flood_hazard_maps\\flood_DERP_RW_H_4326_2080429670.geojson\n",
      "2024-09-20 18:40:46 - Coarse overlay of hazard map with assets...\n"
     ]
    },
    {
     "name": "stderr",
     "output_type": "stream",
     "text": [
      "0it [00:00, ?it/s]\n"
     ]
    },
    {
     "name": "stdout",
     "output_type": "stream",
     "text": [
      "2024-09-20 18:40:46 - Reading hazard map 25 of 183: flood_DERP_RW_H_4326_2080429770\n",
      "Flood map path: N:\\Projects\\11209000\\11209175\\B. Measurements and calculations\\Data\\basin_flood_hazard_maps\\flood_DERP_RW_H_4326_2080429770.geojson\n",
      "2024-09-20 18:40:46 - Coarse overlay of hazard map with assets...\n"
     ]
    },
    {
     "name": "stderr",
     "output_type": "stream",
     "text": [
      "100%|██████████| 9/9 [00:00<00:00, 75.63it/s]\n"
     ]
    },
    {
     "name": "stdout",
     "output_type": "stream",
     "text": [
      "2024-09-20 18:40:46 - Reading hazard map 26 of 183: flood_DERP_RW_H_4326_2080430240\n",
      "Flood map path: N:\\Projects\\11209000\\11209175\\B. Measurements and calculations\\Data\\basin_flood_hazard_maps\\flood_DERP_RW_H_4326_2080430240.geojson\n",
      "2024-09-20 18:40:49 - Coarse overlay of hazard map with assets...\n"
     ]
    },
    {
     "name": "stderr",
     "output_type": "stream",
     "text": [
      "100%|██████████| 17/17 [00:03<00:00,  4.90it/s]\n"
     ]
    },
    {
     "name": "stdout",
     "output_type": "stream",
     "text": [
      "2024-09-20 18:41:55 - Reading hazard map 27 of 183: flood_DERP_RW_H_4326_2080430320\n",
      "Flood map path: N:\\Projects\\11209000\\11209175\\B. Measurements and calculations\\Data\\basin_flood_hazard_maps\\flood_DERP_RW_H_4326_2080430320.geojson\n",
      "2024-09-20 18:41:59 - Coarse overlay of hazard map with assets...\n"
     ]
    },
    {
     "name": "stderr",
     "output_type": "stream",
     "text": [
      "100%|██████████| 20/20 [00:24<00:00,  1.24s/it]\n"
     ]
    },
    {
     "name": "stdout",
     "output_type": "stream",
     "text": [
      "2024-09-20 18:42:57 - Reading hazard map 28 of 183: flood_DERP_RW_H_4326_2080431110\n",
      "Flood map path: N:\\Projects\\11209000\\11209175\\B. Measurements and calculations\\Data\\basin_flood_hazard_maps\\flood_DERP_RW_H_4326_2080431110.geojson\n",
      "2024-09-20 18:42:59 - Coarse overlay of hazard map with assets...\n"
     ]
    },
    {
     "name": "stderr",
     "output_type": "stream",
     "text": [
      "0it [00:00, ?it/s]\n"
     ]
    },
    {
     "name": "stdout",
     "output_type": "stream",
     "text": [
      "2024-09-20 18:43:11 - Reading hazard map 29 of 183: flood_DERP_RW_H_4326_2080431660\n",
      "Flood map path: N:\\Projects\\11209000\\11209175\\B. Measurements and calculations\\Data\\basin_flood_hazard_maps\\flood_DERP_RW_H_4326_2080431660.geojson\n",
      "2024-09-20 18:43:22 - Coarse overlay of hazard map with assets...\n"
     ]
    },
    {
     "name": "stderr",
     "output_type": "stream",
     "text": [
      "100%|██████████| 2/2 [00:00<00:00, 2005.40it/s]\n"
     ]
    },
    {
     "name": "stdout",
     "output_type": "stream",
     "text": [
      "2024-09-20 18:46:38 - Reading hazard map 30 of 183: flood_DERP_RW_H_4326_2080431750\n",
      "Flood map path: N:\\Projects\\11209000\\11209175\\B. Measurements and calculations\\Data\\basin_flood_hazard_maps\\flood_DERP_RW_H_4326_2080431750.geojson\n",
      "2024-09-20 18:46:50 - Coarse overlay of hazard map with assets...\n"
     ]
    },
    {
     "name": "stderr",
     "output_type": "stream",
     "text": [
      "0it [00:00, ?it/s]\n"
     ]
    },
    {
     "name": "stdout",
     "output_type": "stream",
     "text": [
      "2024-09-20 18:47:44 - Reading hazard map 31 of 183: flood_DERP_RW_H_4326_2080432400\n",
      "Flood map path: N:\\Projects\\11209000\\11209175\\B. Measurements and calculations\\Data\\basin_flood_hazard_maps\\flood_DERP_RW_H_4326_2080432400.geojson\n",
      "2024-09-20 18:47:47 - Coarse overlay of hazard map with assets...\n"
     ]
    },
    {
     "name": "stderr",
     "output_type": "stream",
     "text": [
      "100%|██████████| 3/3 [00:00<00:00,  4.29it/s]\n"
     ]
    },
    {
     "name": "stdout",
     "output_type": "stream",
     "text": [
      "2024-09-20 18:48:06 - Reading hazard map 32 of 183: flood_DERP_RW_H_4326_2080432510\n",
      "Flood map path: N:\\Projects\\11209000\\11209175\\B. Measurements and calculations\\Data\\basin_flood_hazard_maps\\flood_DERP_RW_H_4326_2080432510.geojson\n",
      "2024-09-20 18:48:22 - Coarse overlay of hazard map with assets...\n"
     ]
    },
    {
     "name": "stderr",
     "output_type": "stream",
     "text": [
      "100%|██████████| 16/16 [00:01<00:00, 10.66it/s]\n"
     ]
    },
    {
     "name": "stdout",
     "output_type": "stream",
     "text": [
      "2024-09-20 18:56:34 - Reading hazard map 33 of 183: flood_DERP_RW_H_4326_2080433520\n",
      "Flood map path: N:\\Projects\\11209000\\11209175\\B. Measurements and calculations\\Data\\basin_flood_hazard_maps\\flood_DERP_RW_H_4326_2080433520.geojson\n",
      "2024-09-20 18:56:36 - Coarse overlay of hazard map with assets...\n"
     ]
    },
    {
     "name": "stderr",
     "output_type": "stream",
     "text": [
      "0it [00:00, ?it/s]\n"
     ]
    },
    {
     "name": "stdout",
     "output_type": "stream",
     "text": [
      "2024-09-20 18:56:41 - Reading hazard map 34 of 183: flood_DERP_RW_H_4326_2080433740\n",
      "Flood map path: N:\\Projects\\11209000\\11209175\\B. Measurements and calculations\\Data\\basin_flood_hazard_maps\\flood_DERP_RW_H_4326_2080433740.geojson\n",
      "2024-09-20 18:57:04 - Coarse overlay of hazard map with assets...\n"
     ]
    },
    {
     "name": "stderr",
     "output_type": "stream",
     "text": [
      "0it [00:00, ?it/s]\n"
     ]
    },
    {
     "name": "stdout",
     "output_type": "stream",
     "text": [
      "2024-09-20 19:04:53 - Reading hazard map 35 of 183: flood_DERP_RW_H_4326_2080433960\n",
      "Flood map path: N:\\Projects\\11209000\\11209175\\B. Measurements and calculations\\Data\\basin_flood_hazard_maps\\flood_DERP_RW_H_4326_2080433960.geojson\n",
      "2024-09-20 19:05:25 - Coarse overlay of hazard map with assets...\n"
     ]
    },
    {
     "name": "stderr",
     "output_type": "stream",
     "text": [
      "0it [00:00, ?it/s]\n"
     ]
    },
    {
     "name": "stdout",
     "output_type": "stream",
     "text": [
      "2024-09-20 19:09:40 - Reading hazard map 36 of 183: flood_DERP_RW_H_4326_2080434150\n",
      "Flood map path: N:\\Projects\\11209000\\11209175\\B. Measurements and calculations\\Data\\basin_flood_hazard_maps\\flood_DERP_RW_H_4326_2080434150.geojson\n",
      "2024-09-20 19:09:44 - Coarse overlay of hazard map with assets...\n"
     ]
    },
    {
     "name": "stderr",
     "output_type": "stream",
     "text": [
      "0it [00:00, ?it/s]\n"
     ]
    },
    {
     "name": "stdout",
     "output_type": "stream",
     "text": [
      "2024-09-20 19:09:48 - Reading hazard map 37 of 183: flood_DERP_RW_H_4326_2080434280\n",
      "Flood map path: N:\\Projects\\11209000\\11209175\\B. Measurements and calculations\\Data\\basin_flood_hazard_maps\\flood_DERP_RW_H_4326_2080434280.geojson\n",
      "2024-09-20 19:09:52 - Coarse overlay of hazard map with assets...\n"
     ]
    },
    {
     "name": "stderr",
     "output_type": "stream",
     "text": [
      "100%|██████████| 2/2 [00:01<00:00,  1.84it/s]\n"
     ]
    },
    {
     "name": "stdout",
     "output_type": "stream",
     "text": [
      "2024-09-20 19:10:18 - Reading hazard map 38 of 183: flood_DERP_RW_H_4326_2080434470\n",
      "Flood map path: N:\\Projects\\11209000\\11209175\\B. Measurements and calculations\\Data\\basin_flood_hazard_maps\\flood_DERP_RW_H_4326_2080434470.geojson\n",
      "2024-09-20 19:10:42 - Coarse overlay of hazard map with assets...\n"
     ]
    },
    {
     "name": "stderr",
     "output_type": "stream",
     "text": [
      "100%|██████████| 34/34 [02:04<00:00,  3.66s/it] \n"
     ]
    },
    {
     "name": "stdout",
     "output_type": "stream",
     "text": [
      "2024-09-20 19:22:41 - Reading hazard map 39 of 183: flood_DERP_RW_H_4326_2080434490\n",
      "Flood map path: N:\\Projects\\11209000\\11209175\\B. Measurements and calculations\\Data\\basin_flood_hazard_maps\\flood_DERP_RW_H_4326_2080434490.geojson\n",
      "2024-09-20 19:22:48 - Coarse overlay of hazard map with assets...\n"
     ]
    },
    {
     "name": "stderr",
     "output_type": "stream",
     "text": [
      "100%|██████████| 35/35 [00:00<00:00, 63.06it/s]\n"
     ]
    },
    {
     "name": "stdout",
     "output_type": "stream",
     "text": [
      "2024-09-20 19:24:47 - Reading hazard map 40 of 183: flood_DERP_RW_H_4326_2080434630\n",
      "Flood map path: N:\\Projects\\11209000\\11209175\\B. Measurements and calculations\\Data\\basin_flood_hazard_maps\\flood_DERP_RW_H_4326_2080434630.geojson\n",
      "2024-09-20 19:25:03 - Coarse overlay of hazard map with assets...\n"
     ]
    },
    {
     "name": "stderr",
     "output_type": "stream",
     "text": [
      "100%|██████████| 5/5 [00:00<00:00, 18.25it/s]\n"
     ]
    },
    {
     "name": "stdout",
     "output_type": "stream",
     "text": [
      "2024-09-20 20:36:26 - Reading hazard map 41 of 183: flood_DERP_RW_H_4326_2080435040\n",
      "Flood map path: N:\\Projects\\11209000\\11209175\\B. Measurements and calculations\\Data\\basin_flood_hazard_maps\\flood_DERP_RW_H_4326_2080435040.geojson\n",
      "2024-09-20 20:36:59 - Coarse overlay of hazard map with assets...\n"
     ]
    },
    {
     "name": "stderr",
     "output_type": "stream",
     "text": [
      "100%|██████████| 58/58 [00:09<00:00,  6.18it/s]\n"
     ]
    },
    {
     "name": "stdout",
     "output_type": "stream",
     "text": [
      "2024-09-20 21:14:49 - Reading hazard map 42 of 183: flood_DERP_RW_H_4326_2080435320\n",
      "Flood map path: N:\\Projects\\11209000\\11209175\\B. Measurements and calculations\\Data\\basin_flood_hazard_maps\\flood_DERP_RW_H_4326_2080435320.geojson\n",
      "2024-09-20 21:14:59 - Coarse overlay of hazard map with assets...\n"
     ]
    },
    {
     "name": "stderr",
     "output_type": "stream",
     "text": [
      "100%|██████████| 4/4 [00:07<00:00,  1.93s/it]\n"
     ]
    },
    {
     "name": "stdout",
     "output_type": "stream",
     "text": [
      "2024-09-20 21:17:20 - Reading hazard map 43 of 183: flood_DERP_RW_H_4326_2080436660\n",
      "Flood map path: N:\\Projects\\11209000\\11209175\\B. Measurements and calculations\\Data\\basin_flood_hazard_maps\\flood_DERP_RW_H_4326_2080436660.geojson\n",
      "2024-09-20 21:17:24 - Coarse overlay of hazard map with assets...\n"
     ]
    },
    {
     "name": "stderr",
     "output_type": "stream",
     "text": [
      "0it [00:00, ?it/s]\n"
     ]
    },
    {
     "name": "stdout",
     "output_type": "stream",
     "text": [
      "2024-09-20 21:17:31 - Reading hazard map 44 of 183: flood_DERP_RW_H_4326_2080436860\n",
      "Flood map path: N:\\Projects\\11209000\\11209175\\B. Measurements and calculations\\Data\\basin_flood_hazard_maps\\flood_DERP_RW_H_4326_2080436860.geojson\n",
      "2024-09-20 21:17:31 - Coarse overlay of hazard map with assets...\n"
     ]
    },
    {
     "name": "stderr",
     "output_type": "stream",
     "text": [
      "0it [00:00, ?it/s]\n"
     ]
    },
    {
     "name": "stdout",
     "output_type": "stream",
     "text": [
      "2024-09-20 21:17:32 - Reading hazard map 45 of 183: flood_DERP_RW_H_4326_2080436870\n",
      "Flood map path: N:\\Projects\\11209000\\11209175\\B. Measurements and calculations\\Data\\basin_flood_hazard_maps\\flood_DERP_RW_H_4326_2080436870.geojson\n",
      "2024-09-20 21:17:33 - Coarse overlay of hazard map with assets...\n"
     ]
    },
    {
     "name": "stderr",
     "output_type": "stream",
     "text": [
      "0it [00:00, ?it/s]\n"
     ]
    },
    {
     "name": "stdout",
     "output_type": "stream",
     "text": [
      "2024-09-20 21:17:33 - Reading hazard map 46 of 183: flood_DERP_RW_H_4326_2080437100\n",
      "Flood map path: N:\\Projects\\11209000\\11209175\\B. Measurements and calculations\\Data\\basin_flood_hazard_maps\\flood_DERP_RW_H_4326_2080437100.geojson\n",
      "2024-09-20 21:17:38 - Coarse overlay of hazard map with assets...\n"
     ]
    },
    {
     "name": "stderr",
     "output_type": "stream",
     "text": [
      "100%|██████████| 4/4 [00:23<00:00,  5.76s/it]\n"
     ]
    },
    {
     "name": "stdout",
     "output_type": "stream",
     "text": [
      "2024-09-20 21:19:22 - Reading hazard map 47 of 183: flood_DERP_RW_H_4326_2080437230\n",
      "Flood map path: N:\\Projects\\11209000\\11209175\\B. Measurements and calculations\\Data\\basin_flood_hazard_maps\\flood_DERP_RW_H_4326_2080437230.geojson\n",
      "2024-09-20 21:19:32 - Coarse overlay of hazard map with assets...\n"
     ]
    },
    {
     "name": "stderr",
     "output_type": "stream",
     "text": [
      "100%|██████████| 3/3 [00:01<00:00,  2.94it/s]\n"
     ]
    },
    {
     "name": "stdout",
     "output_type": "stream",
     "text": [
      "2024-09-20 21:23:09 - Reading hazard map 48 of 183: flood_DERP_RW_H_4326_2080437370\n",
      "Flood map path: N:\\Projects\\11209000\\11209175\\B. Measurements and calculations\\Data\\basin_flood_hazard_maps\\flood_DERP_RW_H_4326_2080437370.geojson\n",
      "2024-09-20 21:23:14 - Coarse overlay of hazard map with assets...\n"
     ]
    },
    {
     "name": "stderr",
     "output_type": "stream",
     "text": [
      "100%|██████████| 3/3 [00:00<00:00, 1500.47it/s]\n"
     ]
    },
    {
     "name": "stdout",
     "output_type": "stream",
     "text": [
      "2024-09-20 21:23:59 - Reading hazard map 49 of 183: flood_DERP_RW_H_4326_2080438230\n",
      "Flood map path: N:\\Projects\\11209000\\11209175\\B. Measurements and calculations\\Data\\basin_flood_hazard_maps\\flood_DERP_RW_H_4326_2080438230.geojson\n",
      "2024-09-20 21:24:06 - Coarse overlay of hazard map with assets...\n"
     ]
    },
    {
     "name": "stderr",
     "output_type": "stream",
     "text": [
      "100%|██████████| 5/5 [00:00<00:00, 2474.22it/s]\n"
     ]
    },
    {
     "name": "stdout",
     "output_type": "stream",
     "text": [
      "2024-09-20 21:27:20 - Reading hazard map 50 of 183: flood_DERP_RW_H_4326_2080438240\n",
      "Flood map path: N:\\Projects\\11209000\\11209175\\B. Measurements and calculations\\Data\\basin_flood_hazard_maps\\flood_DERP_RW_H_4326_2080438240.geojson\n",
      "2024-09-20 21:27:25 - Coarse overlay of hazard map with assets...\n"
     ]
    },
    {
     "name": "stderr",
     "output_type": "stream",
     "text": [
      "100%|██████████| 14/14 [00:05<00:00,  2.77it/s]\n"
     ]
    },
    {
     "name": "stdout",
     "output_type": "stream",
     "text": [
      "2024-09-20 21:28:53 - Reading hazard map 51 of 183: flood_DERP_RW_H_4326_2080438400\n",
      "Flood map path: N:\\Projects\\11209000\\11209175\\B. Measurements and calculations\\Data\\basin_flood_hazard_maps\\flood_DERP_RW_H_4326_2080438400.geojson\n",
      "2024-09-20 21:29:14 - Coarse overlay of hazard map with assets...\n"
     ]
    },
    {
     "name": "stderr",
     "output_type": "stream",
     "text": [
      "100%|██████████| 23/23 [06:14<00:00, 16.29s/it]\n"
     ]
    },
    {
     "name": "stdout",
     "output_type": "stream",
     "text": [
      "2024-09-20 21:48:02 - Reading hazard map 52 of 183: flood_DERP_RW_H_4326_2080438410\n",
      "Flood map path: N:\\Projects\\11209000\\11209175\\B. Measurements and calculations\\Data\\basin_flood_hazard_maps\\flood_DERP_RW_H_4326_2080438410.geojson\n",
      "2024-09-20 21:48:11 - Coarse overlay of hazard map with assets...\n"
     ]
    },
    {
     "name": "stderr",
     "output_type": "stream",
     "text": [
      "100%|██████████| 7/7 [00:03<00:00,  2.10it/s]\n"
     ]
    },
    {
     "name": "stdout",
     "output_type": "stream",
     "text": [
      "2024-09-20 21:51:29 - Reading hazard map 53 of 183: flood_DERP_RW_H_4326_2080439400\n",
      "Flood map path: N:\\Projects\\11209000\\11209175\\B. Measurements and calculations\\Data\\basin_flood_hazard_maps\\flood_DERP_RW_H_4326_2080439400.geojson\n",
      "2024-09-20 21:51:37 - Coarse overlay of hazard map with assets...\n"
     ]
    },
    {
     "name": "stderr",
     "output_type": "stream",
     "text": [
      "0it [00:00, ?it/s]\n"
     ]
    },
    {
     "name": "stdout",
     "output_type": "stream",
     "text": [
      "2024-09-20 21:59:24 - Reading hazard map 54 of 183: flood_DERP_RW_H_4326_2080439410\n",
      "Flood map path: N:\\Projects\\11209000\\11209175\\B. Measurements and calculations\\Data\\basin_flood_hazard_maps\\flood_DERP_RW_H_4326_2080439410.geojson\n",
      "2024-09-20 21:59:29 - Coarse overlay of hazard map with assets...\n"
     ]
    },
    {
     "name": "stderr",
     "output_type": "stream",
     "text": [
      "100%|██████████| 20/20 [00:03<00:00,  6.23it/s]\n"
     ]
    },
    {
     "name": "stdout",
     "output_type": "stream",
     "text": [
      "2024-09-20 22:02:09 - Reading hazard map 55 of 183: flood_DERP_RW_H_4326_2080441280\n",
      "Flood map path: N:\\Projects\\11209000\\11209175\\B. Measurements and calculations\\Data\\basin_flood_hazard_maps\\flood_DERP_RW_H_4326_2080441280.geojson\n",
      "2024-09-20 22:02:17 - Coarse overlay of hazard map with assets...\n"
     ]
    },
    {
     "name": "stderr",
     "output_type": "stream",
     "text": [
      "100%|██████████| 14/14 [00:03<00:00,  3.54it/s]\n"
     ]
    },
    {
     "name": "stdout",
     "output_type": "stream",
     "text": [
      "2024-09-20 22:09:46 - Reading hazard map 56 of 183: flood_DERP_RW_H_4326_2080446220\n",
      "Flood map path: N:\\Projects\\11209000\\11209175\\B. Measurements and calculations\\Data\\basin_flood_hazard_maps\\flood_DERP_RW_H_4326_2080446220.geojson\n",
      "2024-09-20 22:09:54 - Coarse overlay of hazard map with assets...\n"
     ]
    },
    {
     "name": "stderr",
     "output_type": "stream",
     "text": [
      "100%|██████████| 30/30 [01:17<00:00,  2.60s/it]\n"
     ]
    },
    {
     "name": "stdout",
     "output_type": "stream",
     "text": [
      "2024-09-20 22:14:16 - Reading hazard map 57 of 183: flood_DERP_RW_H_4326_2080446320\n",
      "Flood map path: N:\\Projects\\11209000\\11209175\\B. Measurements and calculations\\Data\\basin_flood_hazard_maps\\flood_DERP_RW_H_4326_2080446320.geojson\n",
      "2024-09-20 22:14:19 - Coarse overlay of hazard map with assets...\n"
     ]
    },
    {
     "name": "stderr",
     "output_type": "stream",
     "text": [
      "0it [00:00, ?it/s]\n"
     ]
    },
    {
     "name": "stdout",
     "output_type": "stream",
     "text": [
      "2024-09-20 22:14:22 - Reading hazard map 58 of 183: flood_DERP_RW_H_4326_2080447840\n",
      "Flood map path: N:\\Projects\\11209000\\11209175\\B. Measurements and calculations\\Data\\basin_flood_hazard_maps\\flood_DERP_RW_H_4326_2080447840.geojson\n",
      "2024-09-20 22:15:11 - Coarse overlay of hazard map with assets...\n"
     ]
    },
    {
     "name": "stderr",
     "output_type": "stream",
     "text": [
      "100%|██████████| 55/55 [04:45<00:00,  5.19s/it]\n"
     ]
    },
    {
     "name": "stdout",
     "output_type": "stream",
     "text": [
      "2024-09-21 00:29:36 - Reading hazard map 59 of 183: flood_DERP_RW_H_4326_2080447970\n",
      "Flood map path: N:\\Projects\\11209000\\11209175\\B. Measurements and calculations\\Data\\basin_flood_hazard_maps\\flood_DERP_RW_H_4326_2080447970.geojson\n",
      "2024-09-21 00:29:46 - Coarse overlay of hazard map with assets...\n"
     ]
    },
    {
     "name": "stderr",
     "output_type": "stream",
     "text": [
      "100%|██████████| 7/7 [02:08<00:00, 18.30s/it]\n"
     ]
    },
    {
     "name": "stdout",
     "output_type": "stream",
     "text": [
      "2024-09-21 00:34:40 - Reading hazard map 60 of 183: flood_DERP_RW_H_4326_2080448120\n",
      "Flood map path: N:\\Projects\\11209000\\11209175\\B. Measurements and calculations\\Data\\basin_flood_hazard_maps\\flood_DERP_RW_H_4326_2080448120.geojson\n",
      "2024-09-21 00:34:49 - Coarse overlay of hazard map with assets...\n"
     ]
    },
    {
     "name": "stderr",
     "output_type": "stream",
     "text": [
      "0it [00:00, ?it/s]\n"
     ]
    },
    {
     "name": "stdout",
     "output_type": "stream",
     "text": [
      "2024-09-21 00:36:14 - Reading hazard map 61 of 183: flood_DERP_RW_H_4326_2080451930\n",
      "Flood map path: N:\\Projects\\11209000\\11209175\\B. Measurements and calculations\\Data\\basin_flood_hazard_maps\\flood_DERP_RW_H_4326_2080451930.geojson\n",
      "2024-09-21 00:36:15 - Coarse overlay of hazard map with assets...\n"
     ]
    },
    {
     "name": "stderr",
     "output_type": "stream",
     "text": [
      "100%|██████████| 5/5 [00:00<00:00, 20.92it/s]\n"
     ]
    },
    {
     "name": "stdout",
     "output_type": "stream",
     "text": [
      "2024-09-21 00:36:18 - Reading hazard map 62 of 183: flood_DERP_RW_L_4326_2080410170\n",
      "Flood map path: N:\\Projects\\11209000\\11209175\\B. Measurements and calculations\\Data\\basin_flood_hazard_maps\\flood_DERP_RW_L_4326_2080410170.geojson\n",
      "2024-09-21 00:36:26 - Coarse overlay of hazard map with assets...\n"
     ]
    },
    {
     "name": "stderr",
     "output_type": "stream",
     "text": [
      "100%|██████████| 34/34 [01:46<00:00,  3.14s/it]\n"
     ]
    },
    {
     "name": "stdout",
     "output_type": "stream",
     "text": [
      "2024-09-21 00:44:41 - Reading hazard map 63 of 183: flood_DERP_RW_L_4326_2080410430\n",
      "Flood map path: N:\\Projects\\11209000\\11209175\\B. Measurements and calculations\\Data\\basin_flood_hazard_maps\\flood_DERP_RW_L_4326_2080410430.geojson\n",
      "2024-09-21 00:44:46 - Coarse overlay of hazard map with assets...\n"
     ]
    },
    {
     "name": "stderr",
     "output_type": "stream",
     "text": [
      "100%|██████████| 20/20 [01:20<00:00,  4.03s/it]\n"
     ]
    },
    {
     "name": "stdout",
     "output_type": "stream",
     "text": [
      "2024-09-21 00:47:08 - Reading hazard map 64 of 183: flood_DERP_RW_L_4326_2080410540\n",
      "Flood map path: N:\\Projects\\11209000\\11209175\\B. Measurements and calculations\\Data\\basin_flood_hazard_maps\\flood_DERP_RW_L_4326_2080410540.geojson\n",
      "2024-09-21 00:47:16 - Coarse overlay of hazard map with assets...\n"
     ]
    },
    {
     "name": "stderr",
     "output_type": "stream",
     "text": [
      "100%|██████████| 48/48 [07:55<00:00,  9.90s/it]\n"
     ]
    },
    {
     "name": "stdout",
     "output_type": "stream",
     "text": [
      "2024-09-21 00:58:46 - Reading hazard map 65 of 183: flood_DERP_RW_L_4326_2080410660\n",
      "Flood map path: N:\\Projects\\11209000\\11209175\\B. Measurements and calculations\\Data\\basin_flood_hazard_maps\\flood_DERP_RW_L_4326_2080410660.geojson\n",
      "2024-09-21 00:58:48 - Coarse overlay of hazard map with assets...\n"
     ]
    },
    {
     "name": "stderr",
     "output_type": "stream",
     "text": [
      "100%|██████████| 11/11 [00:07<00:00,  1.54it/s]\n"
     ]
    },
    {
     "name": "stdout",
     "output_type": "stream",
     "text": [
      "2024-09-21 00:59:04 - Reading hazard map 66 of 183: flood_DERP_RW_L_4326_2080410760\n",
      "Flood map path: N:\\Projects\\11209000\\11209175\\B. Measurements and calculations\\Data\\basin_flood_hazard_maps\\flood_DERP_RW_L_4326_2080410760.geojson\n",
      "2024-09-21 00:59:17 - Coarse overlay of hazard map with assets...\n"
     ]
    },
    {
     "name": "stderr",
     "output_type": "stream",
     "text": [
      "100%|██████████| 3/3 [03:14<00:00, 64.69s/it]\n"
     ]
    },
    {
     "name": "stdout",
     "output_type": "stream",
     "text": [
      "2024-09-21 01:07:08 - Reading hazard map 67 of 183: flood_DERP_RW_L_4326_2080411370\n",
      "Flood map path: N:\\Projects\\11209000\\11209175\\B. Measurements and calculations\\Data\\basin_flood_hazard_maps\\flood_DERP_RW_L_4326_2080411370.geojson\n",
      "2024-09-21 01:07:12 - Coarse overlay of hazard map with assets...\n"
     ]
    },
    {
     "name": "stderr",
     "output_type": "stream",
     "text": [
      "100%|██████████| 100/100 [03:00<00:00,  1.81s/it]\n"
     ]
    },
    {
     "name": "stdout",
     "output_type": "stream",
     "text": [
      "2024-09-21 01:11:02 - Reading hazard map 68 of 183: flood_DERP_RW_L_4326_2080416200\n",
      "Flood map path: N:\\Projects\\11209000\\11209175\\B. Measurements and calculations\\Data\\basin_flood_hazard_maps\\flood_DERP_RW_L_4326_2080416200.geojson\n",
      "2024-09-21 01:11:24 - Coarse overlay of hazard map with assets...\n"
     ]
    },
    {
     "name": "stderr",
     "output_type": "stream",
     "text": [
      "100%|██████████| 5/5 [00:07<00:00,  1.42s/it]\n"
     ]
    },
    {
     "name": "stdout",
     "output_type": "stream",
     "text": [
      "2024-09-21 01:18:06 - Reading hazard map 69 of 183: flood_DERP_RW_L_4326_2080416210\n",
      "Flood map path: N:\\Projects\\11209000\\11209175\\B. Measurements and calculations\\Data\\basin_flood_hazard_maps\\flood_DERP_RW_L_4326_2080416210.geojson\n",
      "2024-09-21 01:18:18 - Coarse overlay of hazard map with assets...\n"
     ]
    },
    {
     "name": "stderr",
     "output_type": "stream",
     "text": [
      "100%|██████████| 155/155 [08:36<00:00,  3.33s/it]\n"
     ]
    },
    {
     "name": "stdout",
     "output_type": "stream",
     "text": [
      "2024-09-21 01:30:06 - Reading hazard map 70 of 183: flood_DERP_RW_L_4326_2080418600\n",
      "Flood map path: N:\\Projects\\11209000\\11209175\\B. Measurements and calculations\\Data\\basin_flood_hazard_maps\\flood_DERP_RW_L_4326_2080418600.geojson\n",
      "2024-09-21 01:30:34 - Coarse overlay of hazard map with assets...\n"
     ]
    },
    {
     "name": "stderr",
     "output_type": "stream",
     "text": [
      "100%|██████████| 67/67 [22:33<00:00, 20.20s/it]   \n"
     ]
    },
    {
     "name": "stdout",
     "output_type": "stream",
     "text": [
      "2024-09-21 02:17:18 - Reading hazard map 71 of 183: flood_DERP_RW_L_4326_2080418720\n",
      "Flood map path: N:\\Projects\\11209000\\11209175\\B. Measurements and calculations\\Data\\basin_flood_hazard_maps\\flood_DERP_RW_L_4326_2080418720.geojson\n",
      "2024-09-21 02:17:19 - Coarse overlay of hazard map with assets...\n"
     ]
    },
    {
     "name": "stderr",
     "output_type": "stream",
     "text": [
      "100%|██████████| 7/7 [00:00<00:00, 18.97it/s]\n"
     ]
    },
    {
     "name": "stdout",
     "output_type": "stream",
     "text": [
      "2024-09-21 02:17:19 - Reading hazard map 72 of 183: flood_DERP_RW_L_4326_2080418880\n",
      "Flood map path: N:\\Projects\\11209000\\11209175\\B. Measurements and calculations\\Data\\basin_flood_hazard_maps\\flood_DERP_RW_L_4326_2080418880.geojson\n",
      "2024-09-21 02:17:29 - Coarse overlay of hazard map with assets...\n"
     ]
    },
    {
     "name": "stderr",
     "output_type": "stream",
     "text": [
      "100%|██████████| 11/11 [00:07<00:00,  1.54it/s]\n"
     ]
    },
    {
     "name": "stdout",
     "output_type": "stream",
     "text": [
      "2024-09-21 02:19:56 - Reading hazard map 73 of 183: flood_DERP_RW_L_4326_2080418890\n",
      "Flood map path: N:\\Projects\\11209000\\11209175\\B. Measurements and calculations\\Data\\basin_flood_hazard_maps\\flood_DERP_RW_L_4326_2080418890.geojson\n",
      "2024-09-21 02:20:08 - Coarse overlay of hazard map with assets...\n"
     ]
    },
    {
     "name": "stderr",
     "output_type": "stream",
     "text": [
      "100%|██████████| 85/85 [03:45<00:00,  2.66s/it]\n"
     ]
    },
    {
     "name": "stdout",
     "output_type": "stream",
     "text": [
      "2024-09-21 02:27:12 - Reading hazard map 74 of 183: flood_DERP_RW_L_4326_2080419070\n",
      "Flood map path: N:\\Projects\\11209000\\11209175\\B. Measurements and calculations\\Data\\basin_flood_hazard_maps\\flood_DERP_RW_L_4326_2080419070.geojson\n",
      "2024-09-21 02:27:14 - Coarse overlay of hazard map with assets...\n"
     ]
    },
    {
     "name": "stderr",
     "output_type": "stream",
     "text": [
      "100%|██████████| 3/3 [00:00<00:00,  4.48it/s]\n"
     ]
    },
    {
     "name": "stdout",
     "output_type": "stream",
     "text": [
      "2024-09-21 02:27:17 - Reading hazard map 75 of 183: flood_DERP_RW_L_4326_2080419180\n",
      "Flood map path: N:\\Projects\\11209000\\11209175\\B. Measurements and calculations\\Data\\basin_flood_hazard_maps\\flood_DERP_RW_L_4326_2080419180.geojson\n",
      "2024-09-21 02:27:22 - Coarse overlay of hazard map with assets...\n"
     ]
    },
    {
     "name": "stderr",
     "output_type": "stream",
     "text": [
      "100%|██████████| 62/62 [01:18<00:00,  1.27s/it]\n"
     ]
    },
    {
     "name": "stdout",
     "output_type": "stream",
     "text": [
      "2024-09-21 02:30:16 - Reading hazard map 76 of 183: flood_DERP_RW_L_4326_2080420240\n",
      "Flood map path: N:\\Projects\\11209000\\11209175\\B. Measurements and calculations\\Data\\basin_flood_hazard_maps\\flood_DERP_RW_L_4326_2080420240.geojson\n",
      "2024-09-21 02:30:43 - Coarse overlay of hazard map with assets...\n"
     ]
    },
    {
     "name": "stderr",
     "output_type": "stream",
     "text": [
      "100%|██████████| 214/214 [1:18:33<00:00, 22.02s/it] \n"
     ]
    },
    {
     "name": "stdout",
     "output_type": "stream",
     "text": [
      "2024-09-21 04:37:26 - Reading hazard map 77 of 183: flood_DERP_RW_L_4326_2080420340\n",
      "Flood map path: N:\\Projects\\11209000\\11209175\\B. Measurements and calculations\\Data\\basin_flood_hazard_maps\\flood_DERP_RW_L_4326_2080420340.geojson\n",
      "2024-09-21 04:37:29 - Coarse overlay of hazard map with assets...\n"
     ]
    },
    {
     "name": "stderr",
     "output_type": "stream",
     "text": [
      "100%|██████████| 32/32 [00:22<00:00,  1.42it/s]\n"
     ]
    },
    {
     "name": "stdout",
     "output_type": "stream",
     "text": [
      "2024-09-21 04:38:25 - Reading hazard map 78 of 183: flood_DERP_RW_L_4326_2080421680\n",
      "Flood map path: N:\\Projects\\11209000\\11209175\\B. Measurements and calculations\\Data\\basin_flood_hazard_maps\\flood_DERP_RW_L_4326_2080421680.geojson\n",
      "2024-09-21 04:38:49 - Coarse overlay of hazard map with assets...\n"
     ]
    },
    {
     "name": "stderr",
     "output_type": "stream",
     "text": [
      "100%|██████████| 123/123 [55:43<00:00, 27.19s/it] \n"
     ]
    },
    {
     "name": "stdout",
     "output_type": "stream",
     "text": [
      "2024-09-21 06:27:35 - Reading hazard map 79 of 183: flood_DERP_RW_L_4326_2080421770\n",
      "Flood map path: N:\\Projects\\11209000\\11209175\\B. Measurements and calculations\\Data\\basin_flood_hazard_maps\\flood_DERP_RW_L_4326_2080421770.geojson\n",
      "2024-09-21 06:27:47 - Coarse overlay of hazard map with assets...\n"
     ]
    },
    {
     "name": "stderr",
     "output_type": "stream",
     "text": [
      "100%|██████████| 196/196 [1:04:48<00:00, 19.84s/it]\n"
     ]
    },
    {
     "name": "stdout",
     "output_type": "stream",
     "text": [
      "2024-09-21 07:46:56 - Reading hazard map 80 of 183: flood_DERP_RW_L_4326_2080428080\n",
      "Flood map path: N:\\Projects\\11209000\\11209175\\B. Measurements and calculations\\Data\\basin_flood_hazard_maps\\flood_DERP_RW_L_4326_2080428080.geojson\n",
      "2024-09-21 07:47:10 - Coarse overlay of hazard map with assets...\n"
     ]
    },
    {
     "name": "stderr",
     "output_type": "stream",
     "text": [
      "0it [00:00, ?it/s]\n"
     ]
    },
    {
     "name": "stdout",
     "output_type": "stream",
     "text": [
      "2024-09-21 07:48:30 - Reading hazard map 81 of 183: flood_DERP_RW_L_4326_2080428160\n",
      "Flood map path: N:\\Projects\\11209000\\11209175\\B. Measurements and calculations\\Data\\basin_flood_hazard_maps\\flood_DERP_RW_L_4326_2080428160.geojson\n",
      "2024-09-21 07:48:44 - Coarse overlay of hazard map with assets...\n"
     ]
    },
    {
     "name": "stderr",
     "output_type": "stream",
     "text": [
      "100%|██████████| 11/11 [00:47<00:00,  4.33s/it]\n"
     ]
    },
    {
     "name": "stdout",
     "output_type": "stream",
     "text": [
      "2024-09-21 07:55:45 - Reading hazard map 82 of 183: flood_DERP_RW_L_4326_2080428500\n",
      "Flood map path: N:\\Projects\\11209000\\11209175\\B. Measurements and calculations\\Data\\basin_flood_hazard_maps\\flood_DERP_RW_L_4326_2080428500.geojson\n",
      "2024-09-21 07:55:47 - Coarse overlay of hazard map with assets...\n"
     ]
    },
    {
     "name": "stderr",
     "output_type": "stream",
     "text": [
      "100%|██████████| 34/34 [00:09<00:00,  3.76it/s]\n"
     ]
    },
    {
     "name": "stdout",
     "output_type": "stream",
     "text": [
      "2024-09-21 07:56:08 - Reading hazard map 83 of 183: flood_DERP_RW_L_4326_2080429430\n",
      "Flood map path: N:\\Projects\\11209000\\11209175\\B. Measurements and calculations\\Data\\basin_flood_hazard_maps\\flood_DERP_RW_L_4326_2080429430.geojson\n",
      "2024-09-21 07:56:13 - Coarse overlay of hazard map with assets...\n"
     ]
    },
    {
     "name": "stderr",
     "output_type": "stream",
     "text": [
      "100%|██████████| 113/113 [07:17<00:00,  3.87s/it]\n"
     ]
    },
    {
     "name": "stdout",
     "output_type": "stream",
     "text": [
      "2024-09-21 08:07:41 - Reading hazard map 84 of 183: flood_DERP_RW_L_4326_2080429540\n",
      "Flood map path: N:\\Projects\\11209000\\11209175\\B. Measurements and calculations\\Data\\basin_flood_hazard_maps\\flood_DERP_RW_L_4326_2080429540.geojson\n",
      "2024-09-21 08:07:58 - Coarse overlay of hazard map with assets...\n"
     ]
    },
    {
     "name": "stderr",
     "output_type": "stream",
     "text": [
      "100%|██████████| 6/6 [00:04<00:00,  1.39it/s]\n"
     ]
    },
    {
     "name": "stdout",
     "output_type": "stream",
     "text": [
      "2024-09-21 08:12:50 - Reading hazard map 85 of 183: flood_DERP_RW_L_4326_2080429670\n",
      "Flood map path: N:\\Projects\\11209000\\11209175\\B. Measurements and calculations\\Data\\basin_flood_hazard_maps\\flood_DERP_RW_L_4326_2080429670.geojson\n",
      "2024-09-21 08:12:50 - Coarse overlay of hazard map with assets...\n"
     ]
    },
    {
     "name": "stderr",
     "output_type": "stream",
     "text": [
      "0it [00:00, ?it/s]\n"
     ]
    },
    {
     "name": "stdout",
     "output_type": "stream",
     "text": [
      "2024-09-21 08:12:50 - Reading hazard map 86 of 183: flood_DERP_RW_L_4326_2080429770\n",
      "Flood map path: N:\\Projects\\11209000\\11209175\\B. Measurements and calculations\\Data\\basin_flood_hazard_maps\\flood_DERP_RW_L_4326_2080429770.geojson\n",
      "2024-09-21 08:12:51 - Coarse overlay of hazard map with assets...\n"
     ]
    },
    {
     "name": "stderr",
     "output_type": "stream",
     "text": [
      "100%|██████████| 56/56 [00:07<00:00,  7.18it/s]\n"
     ]
    },
    {
     "name": "stdout",
     "output_type": "stream",
     "text": [
      "2024-09-21 08:13:00 - Reading hazard map 87 of 183: flood_DERP_RW_L_4326_2080430240\n",
      "Flood map path: N:\\Projects\\11209000\\11209175\\B. Measurements and calculations\\Data\\basin_flood_hazard_maps\\flood_DERP_RW_L_4326_2080430240.geojson\n",
      "2024-09-21 08:13:03 - Coarse overlay of hazard map with assets...\n"
     ]
    },
    {
     "name": "stderr",
     "output_type": "stream",
     "text": [
      "100%|██████████| 34/34 [00:42<00:00,  1.25s/it]\n"
     ]
    },
    {
     "name": "stdout",
     "output_type": "stream",
     "text": [
      "2024-09-21 08:14:42 - Reading hazard map 88 of 183: flood_DERP_RW_L_4326_2080430320\n",
      "Flood map path: N:\\Projects\\11209000\\11209175\\B. Measurements and calculations\\Data\\basin_flood_hazard_maps\\flood_DERP_RW_L_4326_2080430320.geojson\n",
      "2024-09-21 08:14:49 - Coarse overlay of hazard map with assets...\n"
     ]
    },
    {
     "name": "stderr",
     "output_type": "stream",
     "text": [
      "100%|██████████| 42/42 [02:15<00:00,  3.23s/it]\n"
     ]
    },
    {
     "name": "stdout",
     "output_type": "stream",
     "text": [
      "2024-09-21 08:17:45 - Reading hazard map 89 of 183: flood_DERP_RW_L_4326_2080431110\n",
      "Flood map path: N:\\Projects\\11209000\\11209175\\B. Measurements and calculations\\Data\\basin_flood_hazard_maps\\flood_DERP_RW_L_4326_2080431110.geojson\n",
      "2024-09-21 08:17:49 - Coarse overlay of hazard map with assets...\n"
     ]
    },
    {
     "name": "stderr",
     "output_type": "stream",
     "text": [
      "100%|██████████| 88/88 [02:11<00:00,  1.50s/it]\n"
     ]
    },
    {
     "name": "stdout",
     "output_type": "stream",
     "text": [
      "2024-09-21 08:21:43 - Reading hazard map 90 of 183: flood_DERP_RW_L_4326_2080431660\n",
      "Flood map path: N:\\Projects\\11209000\\11209175\\B. Measurements and calculations\\Data\\basin_flood_hazard_maps\\flood_DERP_RW_L_4326_2080431660.geojson\n",
      "2024-09-21 08:21:58 - Coarse overlay of hazard map with assets...\n"
     ]
    },
    {
     "name": "stderr",
     "output_type": "stream",
     "text": [
      "100%|██████████| 2/2 [00:04<00:00,  2.22s/it]\n"
     ]
    },
    {
     "name": "stdout",
     "output_type": "stream",
     "text": [
      "2024-09-21 08:29:34 - Reading hazard map 91 of 183: flood_DERP_RW_L_4326_2080431750\n",
      "Flood map path: N:\\Projects\\11209000\\11209175\\B. Measurements and calculations\\Data\\basin_flood_hazard_maps\\flood_DERP_RW_L_4326_2080431750.geojson\n",
      "2024-09-21 08:29:46 - Coarse overlay of hazard map with assets...\n"
     ]
    },
    {
     "name": "stderr",
     "output_type": "stream",
     "text": [
      "0it [00:00, ?it/s]\n"
     ]
    },
    {
     "name": "stdout",
     "output_type": "stream",
     "text": [
      "2024-09-21 08:30:53 - Reading hazard map 92 of 183: flood_DERP_RW_L_4326_2080432400\n",
      "Flood map path: N:\\Projects\\11209000\\11209175\\B. Measurements and calculations\\Data\\basin_flood_hazard_maps\\flood_DERP_RW_L_4326_2080432400.geojson\n",
      "2024-09-21 08:30:57 - Coarse overlay of hazard map with assets...\n"
     ]
    },
    {
     "name": "stderr",
     "output_type": "stream",
     "text": [
      "100%|██████████| 4/4 [00:02<00:00,  1.45it/s]\n"
     ]
    },
    {
     "name": "stdout",
     "output_type": "stream",
     "text": [
      "2024-09-21 08:31:17 - Reading hazard map 93 of 183: flood_DERP_RW_L_4326_2080432510\n",
      "Flood map path: N:\\Projects\\11209000\\11209175\\B. Measurements and calculations\\Data\\basin_flood_hazard_maps\\flood_DERP_RW_L_4326_2080432510.geojson\n",
      "2024-09-21 08:31:45 - Coarse overlay of hazard map with assets...\n"
     ]
    },
    {
     "name": "stderr",
     "output_type": "stream",
     "text": [
      "100%|██████████| 55/55 [12:43<00:00, 13.89s/it]   \n"
     ]
    },
    {
     "name": "stdout",
     "output_type": "stream",
     "text": [
      "2024-09-21 09:07:23 - Reading hazard map 94 of 183: flood_DERP_RW_L_4326_2080433520\n",
      "Flood map path: N:\\Projects\\11209000\\11209175\\B. Measurements and calculations\\Data\\basin_flood_hazard_maps\\flood_DERP_RW_L_4326_2080433520.geojson\n",
      "2024-09-21 09:07:26 - Coarse overlay of hazard map with assets...\n"
     ]
    },
    {
     "name": "stderr",
     "output_type": "stream",
     "text": [
      "0it [00:00, ?it/s]\n"
     ]
    },
    {
     "name": "stdout",
     "output_type": "stream",
     "text": [
      "2024-09-21 09:07:30 - Reading hazard map 95 of 183: flood_DERP_RW_L_4326_2080433740\n",
      "Flood map path: N:\\Projects\\11209000\\11209175\\B. Measurements and calculations\\Data\\basin_flood_hazard_maps\\flood_DERP_RW_L_4326_2080433740.geojson\n",
      "2024-09-21 09:07:49 - Coarse overlay of hazard map with assets...\n"
     ]
    },
    {
     "name": "stderr",
     "output_type": "stream",
     "text": [
      "0it [00:00, ?it/s]\n"
     ]
    },
    {
     "name": "stdout",
     "output_type": "stream",
     "text": [
      "2024-09-21 09:11:49 - Reading hazard map 96 of 183: flood_DERP_RW_L_4326_2080433960\n",
      "Flood map path: N:\\Projects\\11209000\\11209175\\B. Measurements and calculations\\Data\\basin_flood_hazard_maps\\flood_DERP_RW_L_4326_2080433960.geojson\n",
      "2024-09-21 09:12:36 - Coarse overlay of hazard map with assets...\n"
     ]
    },
    {
     "name": "stderr",
     "output_type": "stream",
     "text": [
      "0it [00:00, ?it/s]\n"
     ]
    },
    {
     "name": "stdout",
     "output_type": "stream",
     "text": [
      "2024-09-21 09:17:34 - Reading hazard map 97 of 183: flood_DERP_RW_L_4326_2080434150\n",
      "Flood map path: N:\\Projects\\11209000\\11209175\\B. Measurements and calculations\\Data\\basin_flood_hazard_maps\\flood_DERP_RW_L_4326_2080434150.geojson\n",
      "2024-09-21 09:17:37 - Coarse overlay of hazard map with assets...\n"
     ]
    },
    {
     "name": "stderr",
     "output_type": "stream",
     "text": [
      "0it [00:00, ?it/s]\n"
     ]
    },
    {
     "name": "stdout",
     "output_type": "stream",
     "text": [
      "2024-09-21 09:17:41 - Reading hazard map 98 of 183: flood_DERP_RW_L_4326_2080434280\n",
      "Flood map path: N:\\Projects\\11209000\\11209175\\B. Measurements and calculations\\Data\\basin_flood_hazard_maps\\flood_DERP_RW_L_4326_2080434280.geojson\n",
      "2024-09-21 09:17:47 - Coarse overlay of hazard map with assets...\n"
     ]
    },
    {
     "name": "stderr",
     "output_type": "stream",
     "text": [
      "100%|██████████| 10/10 [00:57<00:00,  5.74s/it]\n"
     ]
    },
    {
     "name": "stdout",
     "output_type": "stream",
     "text": [
      "2024-09-21 09:19:28 - Reading hazard map 99 of 183: flood_DERP_RW_L_4326_2080434470\n",
      "Flood map path: N:\\Projects\\11209000\\11209175\\B. Measurements and calculations\\Data\\basin_flood_hazard_maps\\flood_DERP_RW_L_4326_2080434470.geojson\n",
      "2024-09-21 09:20:04 - Coarse overlay of hazard map with assets...\n"
     ]
    },
    {
     "name": "stderr",
     "output_type": "stream",
     "text": [
      "100%|██████████| 172/172 [56:40<00:00, 19.77s/it] \n"
     ]
    },
    {
     "name": "stdout",
     "output_type": "stream",
     "text": [
      "2024-09-21 10:37:12 - Reading hazard map 100 of 183: flood_DERP_RW_L_4326_2080434490\n",
      "Flood map path: N:\\Projects\\11209000\\11209175\\B. Measurements and calculations\\Data\\basin_flood_hazard_maps\\flood_DERP_RW_L_4326_2080434490.geojson\n",
      "2024-09-21 10:37:23 - Coarse overlay of hazard map with assets...\n"
     ]
    },
    {
     "name": "stderr",
     "output_type": "stream",
     "text": [
      "100%|██████████| 45/45 [05:53<00:00,  7.85s/it]\n"
     ]
    },
    {
     "name": "stdout",
     "output_type": "stream",
     "text": [
      "2024-09-21 10:48:13 - Reading hazard map 101 of 183: flood_DERP_RW_L_4326_2080434630\n",
      "Flood map path: N:\\Projects\\11209000\\11209175\\B. Measurements and calculations\\Data\\basin_flood_hazard_maps\\flood_DERP_RW_L_4326_2080434630.geojson\n",
      "2024-09-21 10:49:07 - Coarse overlay of hazard map with assets...\n"
     ]
    },
    {
     "name": "stderr",
     "output_type": "stream",
     "text": [
      "100%|██████████| 149/149 [2:37:56<00:00, 63.60s/it]  \n"
     ]
    },
    {
     "name": "stdout",
     "output_type": "stream",
     "text": [
      "2024-09-21 16:03:19 - Reading hazard map 102 of 183: flood_DERP_RW_L_4326_2080435040\n",
      "Flood map path: N:\\Projects\\11209000\\11209175\\B. Measurements and calculations\\Data\\basin_flood_hazard_maps\\flood_DERP_RW_L_4326_2080435040.geojson\n",
      "2024-09-21 16:04:02 - Coarse overlay of hazard map with assets...\n"
     ]
    },
    {
     "name": "stderr",
     "output_type": "stream",
     "text": [
      "100%|██████████| 102/102 [33:08<00:00, 19.50s/it]  \n"
     ]
    },
    {
     "name": "stdout",
     "output_type": "stream",
     "text": [
      "2024-09-21 17:18:06 - Reading hazard map 103 of 183: flood_DERP_RW_L_4326_2080435320\n",
      "Flood map path: N:\\Projects\\11209000\\11209175\\B. Measurements and calculations\\Data\\basin_flood_hazard_maps\\flood_DERP_RW_L_4326_2080435320.geojson\n",
      "2024-09-21 17:18:17 - Coarse overlay of hazard map with assets...\n"
     ]
    },
    {
     "name": "stderr",
     "output_type": "stream",
     "text": [
      "100%|██████████| 12/12 [02:07<00:00, 10.64s/it]\n"
     ]
    },
    {
     "name": "stdout",
     "output_type": "stream",
     "text": [
      "2024-09-21 17:21:41 - Reading hazard map 104 of 183: flood_DERP_RW_L_4326_2080436660\n",
      "Flood map path: N:\\Projects\\11209000\\11209175\\B. Measurements and calculations\\Data\\basin_flood_hazard_maps\\flood_DERP_RW_L_4326_2080436660.geojson\n",
      "2024-09-21 17:21:45 - Coarse overlay of hazard map with assets...\n"
     ]
    },
    {
     "name": "stderr",
     "output_type": "stream",
     "text": [
      "0it [00:00, ?it/s]\n"
     ]
    },
    {
     "name": "stdout",
     "output_type": "stream",
     "text": [
      "2024-09-21 17:21:52 - Reading hazard map 105 of 183: flood_DERP_RW_L_4326_2080436860\n",
      "Flood map path: N:\\Projects\\11209000\\11209175\\B. Measurements and calculations\\Data\\basin_flood_hazard_maps\\flood_DERP_RW_L_4326_2080436860.geojson\n",
      "2024-09-21 17:21:53 - Coarse overlay of hazard map with assets...\n"
     ]
    },
    {
     "name": "stderr",
     "output_type": "stream",
     "text": [
      "100%|██████████| 4/4 [00:00<00:00,  5.67it/s]\n"
     ]
    },
    {
     "name": "stdout",
     "output_type": "stream",
     "text": [
      "2024-09-21 17:21:54 - Reading hazard map 106 of 183: flood_DERP_RW_L_4326_2080436870\n",
      "Flood map path: N:\\Projects\\11209000\\11209175\\B. Measurements and calculations\\Data\\basin_flood_hazard_maps\\flood_DERP_RW_L_4326_2080436870.geojson\n",
      "2024-09-21 17:21:57 - Coarse overlay of hazard map with assets...\n"
     ]
    },
    {
     "name": "stderr",
     "output_type": "stream",
     "text": [
      "100%|██████████| 34/34 [00:27<00:00,  1.25it/s]\n"
     ]
    },
    {
     "name": "stdout",
     "output_type": "stream",
     "text": [
      "2024-09-21 17:22:40 - Reading hazard map 107 of 183: flood_DERP_RW_L_4326_2080437100\n",
      "Flood map path: N:\\Projects\\11209000\\11209175\\B. Measurements and calculations\\Data\\basin_flood_hazard_maps\\flood_DERP_RW_L_4326_2080437100.geojson\n",
      "2024-09-21 17:22:49 - Coarse overlay of hazard map with assets...\n"
     ]
    },
    {
     "name": "stderr",
     "output_type": "stream",
     "text": [
      "100%|██████████| 31/31 [06:57<00:00, 13.47s/it]\n"
     ]
    },
    {
     "name": "stdout",
     "output_type": "stream",
     "text": [
      "2024-09-21 17:33:22 - Reading hazard map 108 of 183: flood_DERP_RW_L_4326_2080437230\n",
      "Flood map path: N:\\Projects\\11209000\\11209175\\B. Measurements and calculations\\Data\\basin_flood_hazard_maps\\flood_DERP_RW_L_4326_2080437230.geojson\n",
      "2024-09-21 17:33:27 - Coarse overlay of hazard map with assets...\n"
     ]
    },
    {
     "name": "stderr",
     "output_type": "stream",
     "text": [
      "100%|██████████| 2/2 [00:01<00:00,  1.30it/s]\n"
     ]
    },
    {
     "name": "stdout",
     "output_type": "stream",
     "text": [
      "2024-09-21 17:34:06 - Reading hazard map 109 of 183: flood_DERP_RW_L_4326_2080437370\n",
      "Flood map path: N:\\Projects\\11209000\\11209175\\B. Measurements and calculations\\Data\\basin_flood_hazard_maps\\flood_DERP_RW_L_4326_2080437370.geojson\n",
      "2024-09-21 17:34:11 - Coarse overlay of hazard map with assets...\n"
     ]
    },
    {
     "name": "stderr",
     "output_type": "stream",
     "text": [
      "100%|██████████| 68/68 [04:39<00:00,  4.10s/it]\n"
     ]
    },
    {
     "name": "stdout",
     "output_type": "stream",
     "text": [
      "2024-09-21 17:39:49 - Reading hazard map 110 of 183: flood_DERP_RW_L_4326_2080438230\n",
      "Flood map path: N:\\Projects\\11209000\\11209175\\B. Measurements and calculations\\Data\\basin_flood_hazard_maps\\flood_DERP_RW_L_4326_2080438230.geojson\n",
      "2024-09-21 17:40:02 - Coarse overlay of hazard map with assets...\n"
     ]
    },
    {
     "name": "stderr",
     "output_type": "stream",
     "text": [
      "100%|██████████| 25/25 [00:19<00:00,  1.30it/s]\n"
     ]
    },
    {
     "name": "stdout",
     "output_type": "stream",
     "text": [
      "2024-09-21 17:49:01 - Reading hazard map 111 of 183: flood_DERP_RW_L_4326_2080438240\n",
      "Flood map path: N:\\Projects\\11209000\\11209175\\B. Measurements and calculations\\Data\\basin_flood_hazard_maps\\flood_DERP_RW_L_4326_2080438240.geojson\n",
      "2024-09-21 17:49:08 - Coarse overlay of hazard map with assets...\n"
     ]
    },
    {
     "name": "stderr",
     "output_type": "stream",
     "text": [
      "100%|██████████| 81/81 [00:49<00:00,  1.64it/s]\n"
     ]
    },
    {
     "name": "stdout",
     "output_type": "stream",
     "text": [
      "2024-09-21 17:51:16 - Reading hazard map 112 of 183: flood_DERP_RW_L_4326_2080438400\n",
      "Flood map path: N:\\Projects\\11209000\\11209175\\B. Measurements and calculations\\Data\\basin_flood_hazard_maps\\flood_DERP_RW_L_4326_2080438400.geojson\n",
      "2024-09-21 17:51:40 - Coarse overlay of hazard map with assets...\n"
     ]
    },
    {
     "name": "stderr",
     "output_type": "stream",
     "text": [
      "100%|██████████| 48/48 [21:55<00:00, 27.41s/it]  \n"
     ]
    },
    {
     "name": "stdout",
     "output_type": "stream",
     "text": [
      "2024-09-21 18:27:09 - Reading hazard map 113 of 183: flood_DERP_RW_L_4326_2080438410\n",
      "Flood map path: N:\\Projects\\11209000\\11209175\\B. Measurements and calculations\\Data\\basin_flood_hazard_maps\\flood_DERP_RW_L_4326_2080438410.geojson\n",
      "2024-09-21 18:27:19 - Coarse overlay of hazard map with assets...\n"
     ]
    },
    {
     "name": "stderr",
     "output_type": "stream",
     "text": [
      "100%|██████████| 14/14 [06:32<00:00, 28.01s/it]\n"
     ]
    },
    {
     "name": "stdout",
     "output_type": "stream",
     "text": [
      "2024-09-21 18:36:50 - Reading hazard map 114 of 183: flood_DERP_RW_L_4326_2080439400\n",
      "Flood map path: N:\\Projects\\11209000\\11209175\\B. Measurements and calculations\\Data\\basin_flood_hazard_maps\\flood_DERP_RW_L_4326_2080439400.geojson\n",
      "2024-09-21 18:37:18 - Coarse overlay of hazard map with assets...\n"
     ]
    },
    {
     "name": "stderr",
     "output_type": "stream",
     "text": [
      "100%|██████████| 11/11 [01:07<00:00,  6.12s/it]\n"
     ]
    },
    {
     "name": "stdout",
     "output_type": "stream",
     "text": [
      "2024-09-21 18:59:08 - Reading hazard map 115 of 183: flood_DERP_RW_L_4326_2080439410\n",
      "Flood map path: N:\\Projects\\11209000\\11209175\\B. Measurements and calculations\\Data\\basin_flood_hazard_maps\\flood_DERP_RW_L_4326_2080439410.geojson\n",
      "2024-09-21 18:59:33 - Coarse overlay of hazard map with assets...\n"
     ]
    },
    {
     "name": "stderr",
     "output_type": "stream",
     "text": [
      "100%|██████████| 579/579 [12:01<00:00,  1.25s/it]\n"
     ]
    },
    {
     "name": "stdout",
     "output_type": "stream",
     "text": [
      "2024-09-21 19:21:52 - Reading hazard map 116 of 183: flood_DERP_RW_L_4326_2080441280\n",
      "Flood map path: N:\\Projects\\11209000\\11209175\\B. Measurements and calculations\\Data\\basin_flood_hazard_maps\\flood_DERP_RW_L_4326_2080441280.geojson\n",
      "2024-09-21 19:22:19 - Coarse overlay of hazard map with assets...\n"
     ]
    },
    {
     "name": "stderr",
     "output_type": "stream",
     "text": [
      "100%|██████████| 584/584 [20:32<00:00,  2.11s/it] \n"
     ]
    },
    {
     "name": "stdout",
     "output_type": "stream",
     "text": [
      "2024-09-21 20:12:35 - Reading hazard map 117 of 183: flood_DERP_RW_L_4326_2080446220\n",
      "Flood map path: N:\\Projects\\11209000\\11209175\\B. Measurements and calculations\\Data\\basin_flood_hazard_maps\\flood_DERP_RW_L_4326_2080446220.geojson\n",
      "2024-09-21 20:12:51 - Coarse overlay of hazard map with assets...\n"
     ]
    },
    {
     "name": "stderr",
     "output_type": "stream",
     "text": [
      "100%|██████████| 41/41 [07:41<00:00, 11.26s/it]\n"
     ]
    },
    {
     "name": "stdout",
     "output_type": "stream",
     "text": [
      "2024-09-21 20:28:44 - Reading hazard map 118 of 183: flood_DERP_RW_L_4326_2080446320\n",
      "Flood map path: N:\\Projects\\11209000\\11209175\\B. Measurements and calculations\\Data\\basin_flood_hazard_maps\\flood_DERP_RW_L_4326_2080446320.geojson\n",
      "2024-09-21 20:28:50 - Coarse overlay of hazard map with assets...\n"
     ]
    },
    {
     "name": "stderr",
     "output_type": "stream",
     "text": [
      "100%|██████████| 41/41 [00:26<00:00,  1.57it/s]\n"
     ]
    },
    {
     "name": "stdout",
     "output_type": "stream",
     "text": [
      "2024-09-21 20:29:22 - Reading hazard map 119 of 183: flood_DERP_RW_L_4326_2080447840\n",
      "Flood map path: N:\\Projects\\11209000\\11209175\\B. Measurements and calculations\\Data\\basin_flood_hazard_maps\\flood_DERP_RW_L_4326_2080447840.geojson\n",
      "2024-09-21 20:30:59 - Coarse overlay of hazard map with assets...\n"
     ]
    },
    {
     "name": "stderr",
     "output_type": "stream",
     "text": [
      "100%|██████████| 308/308 [1:20:39<00:00, 15.71s/it]  \n"
     ]
    },
    {
     "name": "stdout",
     "output_type": "stream",
     "text": [
      "2024-09-21 22:51:56 - Reading hazard map 120 of 183: flood_DERP_RW_L_4326_2080447970\n",
      "Flood map path: N:\\Projects\\11209000\\11209175\\B. Measurements and calculations\\Data\\basin_flood_hazard_maps\\flood_DERP_RW_L_4326_2080447970.geojson\n",
      "2024-09-21 22:52:10 - Coarse overlay of hazard map with assets...\n"
     ]
    },
    {
     "name": "stderr",
     "output_type": "stream",
     "text": [
      "100%|██████████| 15/15 [05:37<00:00, 22.52s/it]\n"
     ]
    },
    {
     "name": "stdout",
     "output_type": "stream",
     "text": [
      "2024-09-21 23:07:27 - Reading hazard map 121 of 183: flood_DERP_RW_L_4326_2080448120\n",
      "Flood map path: N:\\Projects\\11209000\\11209175\\B. Measurements and calculations\\Data\\basin_flood_hazard_maps\\flood_DERP_RW_L_4326_2080448120.geojson\n",
      "2024-09-21 23:07:37 - Coarse overlay of hazard map with assets...\n"
     ]
    },
    {
     "name": "stderr",
     "output_type": "stream",
     "text": [
      "100%|██████████| 6/6 [00:16<00:00,  2.74s/it]\n"
     ]
    },
    {
     "name": "stdout",
     "output_type": "stream",
     "text": [
      "2024-09-21 23:08:31 - Reading hazard map 122 of 183: flood_DERP_RW_L_4326_2080451930\n",
      "Flood map path: N:\\Projects\\11209000\\11209175\\B. Measurements and calculations\\Data\\basin_flood_hazard_maps\\flood_DERP_RW_L_4326_2080451930.geojson\n",
      "2024-09-21 23:08:33 - Coarse overlay of hazard map with assets...\n"
     ]
    },
    {
     "name": "stderr",
     "output_type": "stream",
     "text": [
      "100%|██████████| 15/15 [00:25<00:00,  1.72s/it]\n"
     ]
    },
    {
     "name": "stdout",
     "output_type": "stream",
     "text": [
      "2024-09-21 23:09:06 - Reading hazard map 123 of 183: flood_DERP_RW_M_4326_2080410170\n",
      "Flood map path: N:\\Projects\\11209000\\11209175\\B. Measurements and calculations\\Data\\basin_flood_hazard_maps\\flood_DERP_RW_M_4326_2080410170.geojson\n",
      "2024-09-21 23:09:12 - Coarse overlay of hazard map with assets...\n"
     ]
    },
    {
     "name": "stderr",
     "output_type": "stream",
     "text": [
      "100%|██████████| 30/30 [00:00<00:00, 30.77it/s]\n"
     ]
    },
    {
     "name": "stdout",
     "output_type": "stream",
     "text": [
      "2024-09-21 23:15:31 - Reading hazard map 124 of 183: flood_DERP_RW_M_4326_2080410430\n",
      "Flood map path: N:\\Projects\\11209000\\11209175\\B. Measurements and calculations\\Data\\basin_flood_hazard_maps\\flood_DERP_RW_M_4326_2080410430.geojson\n",
      "2024-09-21 23:15:35 - Coarse overlay of hazard map with assets...\n"
     ]
    },
    {
     "name": "stderr",
     "output_type": "stream",
     "text": [
      "100%|██████████| 14/14 [00:01<00:00,  8.48it/s]\n"
     ]
    },
    {
     "name": "stdout",
     "output_type": "stream",
     "text": [
      "2024-09-21 23:16:38 - Reading hazard map 125 of 183: flood_DERP_RW_M_4326_2080410540\n",
      "Flood map path: N:\\Projects\\11209000\\11209175\\B. Measurements and calculations\\Data\\basin_flood_hazard_maps\\flood_DERP_RW_M_4326_2080410540.geojson\n",
      "2024-09-21 23:16:45 - Coarse overlay of hazard map with assets...\n"
     ]
    },
    {
     "name": "stderr",
     "output_type": "stream",
     "text": [
      "100%|██████████| 33/33 [00:05<00:00,  5.96it/s]\n"
     ]
    },
    {
     "name": "stdout",
     "output_type": "stream",
     "text": [
      "2024-09-21 23:18:58 - Reading hazard map 126 of 183: flood_DERP_RW_M_4326_2080410660\n",
      "Flood map path: N:\\Projects\\11209000\\11209175\\B. Measurements and calculations\\Data\\basin_flood_hazard_maps\\flood_DERP_RW_M_4326_2080410660.geojson\n",
      "2024-09-21 23:19:00 - Coarse overlay of hazard map with assets...\n"
     ]
    },
    {
     "name": "stderr",
     "output_type": "stream",
     "text": [
      "100%|██████████| 10/10 [00:00<00:00, 5012.31it/s]\n"
     ]
    },
    {
     "name": "stdout",
     "output_type": "stream",
     "text": [
      "2024-09-21 23:19:14 - Reading hazard map 127 of 183: flood_DERP_RW_M_4326_2080410760\n",
      "Flood map path: N:\\Projects\\11209000\\11209175\\B. Measurements and calculations\\Data\\basin_flood_hazard_maps\\flood_DERP_RW_M_4326_2080410760.geojson\n",
      "2024-09-21 23:19:26 - Coarse overlay of hazard map with assets...\n"
     ]
    },
    {
     "name": "stderr",
     "output_type": "stream",
     "text": [
      "100%|██████████| 3/3 [00:00<00:00, 2899.29it/s]\n"
     ]
    },
    {
     "name": "stdout",
     "output_type": "stream",
     "text": [
      "2024-09-21 23:24:16 - Reading hazard map 128 of 183: flood_DERP_RW_M_4326_2080411370\n",
      "Flood map path: N:\\Projects\\11209000\\11209175\\B. Measurements and calculations\\Data\\basin_flood_hazard_maps\\flood_DERP_RW_M_4326_2080411370.geojson\n",
      "2024-09-21 23:24:21 - Coarse overlay of hazard map with assets...\n"
     ]
    },
    {
     "name": "stderr",
     "output_type": "stream",
     "text": [
      "100%|██████████| 43/43 [00:56<00:00,  1.32s/it]\n"
     ]
    },
    {
     "name": "stdout",
     "output_type": "stream",
     "text": [
      "2024-09-21 23:27:06 - Reading hazard map 129 of 183: flood_DERP_RW_M_4326_2080416200\n",
      "Flood map path: N:\\Projects\\11209000\\11209175\\B. Measurements and calculations\\Data\\basin_flood_hazard_maps\\flood_DERP_RW_M_4326_2080416200.geojson\n",
      "2024-09-21 23:27:26 - Coarse overlay of hazard map with assets...\n"
     ]
    },
    {
     "name": "stderr",
     "output_type": "stream",
     "text": [
      "100%|██████████| 4/4 [00:00<00:00, 1317.62it/s]\n"
     ]
    },
    {
     "name": "stdout",
     "output_type": "stream",
     "text": [
      "2024-09-21 23:32:43 - Reading hazard map 130 of 183: flood_DERP_RW_M_4326_2080416210\n",
      "Flood map path: N:\\Projects\\11209000\\11209175\\B. Measurements and calculations\\Data\\basin_flood_hazard_maps\\flood_DERP_RW_M_4326_2080416210.geojson\n",
      "2024-09-21 23:32:56 - Coarse overlay of hazard map with assets...\n"
     ]
    },
    {
     "name": "stderr",
     "output_type": "stream",
     "text": [
      "100%|██████████| 94/94 [04:27<00:00,  2.85s/it]\n"
     ]
    },
    {
     "name": "stdout",
     "output_type": "stream",
     "text": [
      "2024-09-21 23:48:53 - Reading hazard map 131 of 183: flood_DERP_RW_M_4326_2080418600\n",
      "Flood map path: N:\\Projects\\11209000\\11209175\\B. Measurements and calculations\\Data\\basin_flood_hazard_maps\\flood_DERP_RW_M_4326_2080418600.geojson\n",
      "2024-09-21 23:49:21 - Coarse overlay of hazard map with assets...\n"
     ]
    },
    {
     "name": "stderr",
     "output_type": "stream",
     "text": [
      "100%|██████████| 50/50 [02:08<00:00,  2.56s/it]\n"
     ]
    },
    {
     "name": "stdout",
     "output_type": "stream",
     "text": [
      "2024-09-22 00:11:42 - Reading hazard map 132 of 183: flood_DERP_RW_M_4326_2080418720\n",
      "Flood map path: N:\\Projects\\11209000\\11209175\\B. Measurements and calculations\\Data\\basin_flood_hazard_maps\\flood_DERP_RW_M_4326_2080418720.geojson\n",
      "2024-09-22 00:11:42 - Coarse overlay of hazard map with assets...\n"
     ]
    },
    {
     "name": "stderr",
     "output_type": "stream",
     "text": [
      "100%|██████████| 2/2 [00:00<00:00, 1993.96it/s]\n"
     ]
    },
    {
     "name": "stdout",
     "output_type": "stream",
     "text": [
      "2024-09-22 00:11:43 - Reading hazard map 133 of 183: flood_DERP_RW_M_4326_2080418880\n",
      "Flood map path: N:\\Projects\\11209000\\11209175\\B. Measurements and calculations\\Data\\basin_flood_hazard_maps\\flood_DERP_RW_M_4326_2080418880.geojson\n",
      "2024-09-22 00:11:52 - Coarse overlay of hazard map with assets...\n"
     ]
    },
    {
     "name": "stderr",
     "output_type": "stream",
     "text": [
      "100%|██████████| 10/10 [00:00<00:00, 28.17it/s]\n"
     ]
    },
    {
     "name": "stdout",
     "output_type": "stream",
     "text": [
      "2024-09-22 00:17:54 - Reading hazard map 134 of 183: flood_DERP_RW_M_4326_2080418890\n",
      "Flood map path: N:\\Projects\\11209000\\11209175\\B. Measurements and calculations\\Data\\basin_flood_hazard_maps\\flood_DERP_RW_M_4326_2080418890.geojson\n",
      "2024-09-22 00:18:02 - Coarse overlay of hazard map with assets...\n"
     ]
    },
    {
     "name": "stderr",
     "output_type": "stream",
     "text": [
      "100%|██████████| 14/14 [00:08<00:00,  1.60it/s]\n"
     ]
    },
    {
     "name": "stdout",
     "output_type": "stream",
     "text": [
      "2024-09-22 00:20:05 - Reading hazard map 135 of 183: flood_DERP_RW_M_4326_2080419070\n",
      "Flood map path: N:\\Projects\\11209000\\11209175\\B. Measurements and calculations\\Data\\basin_flood_hazard_maps\\flood_DERP_RW_M_4326_2080419070.geojson\n",
      "2024-09-22 00:20:06 - Coarse overlay of hazard map with assets...\n"
     ]
    },
    {
     "name": "stderr",
     "output_type": "stream",
     "text": [
      "100%|██████████| 3/3 [00:00<00:00, 1499.75it/s]\n"
     ]
    },
    {
     "name": "stdout",
     "output_type": "stream",
     "text": [
      "2024-09-22 00:20:08 - Reading hazard map 136 of 183: flood_DERP_RW_M_4326_2080419180\n",
      "Flood map path: N:\\Projects\\11209000\\11209175\\B. Measurements and calculations\\Data\\basin_flood_hazard_maps\\flood_DERP_RW_M_4326_2080419180.geojson\n",
      "2024-09-22 00:20:13 - Coarse overlay of hazard map with assets...\n"
     ]
    },
    {
     "name": "stderr",
     "output_type": "stream",
     "text": [
      "100%|██████████| 48/48 [01:14<00:00,  1.54s/it]\n"
     ]
    },
    {
     "name": "stdout",
     "output_type": "stream",
     "text": [
      "2024-09-22 00:22:30 - Reading hazard map 137 of 183: flood_DERP_RW_M_4326_2080420240\n",
      "Flood map path: N:\\Projects\\11209000\\11209175\\B. Measurements and calculations\\Data\\basin_flood_hazard_maps\\flood_DERP_RW_M_4326_2080420240.geojson\n",
      "2024-09-22 00:22:41 - Coarse overlay of hazard map with assets...\n"
     ]
    },
    {
     "name": "stderr",
     "output_type": "stream",
     "text": [
      "100%|██████████| 36/36 [00:05<00:00,  6.25it/s]\n"
     ]
    },
    {
     "name": "stdout",
     "output_type": "stream",
     "text": [
      "2024-09-22 00:29:00 - Reading hazard map 138 of 183: flood_DERP_RW_M_4326_2080420340\n",
      "Flood map path: N:\\Projects\\11209000\\11209175\\B. Measurements and calculations\\Data\\basin_flood_hazard_maps\\flood_DERP_RW_M_4326_2080420340.geojson\n",
      "2024-09-22 00:29:03 - Coarse overlay of hazard map with assets...\n"
     ]
    },
    {
     "name": "stderr",
     "output_type": "stream",
     "text": [
      "100%|██████████| 13/13 [00:04<00:00,  2.96it/s]\n"
     ]
    },
    {
     "name": "stdout",
     "output_type": "stream",
     "text": [
      "2024-09-22 00:30:34 - Reading hazard map 139 of 183: flood_DERP_RW_M_4326_2080421680\n",
      "Flood map path: N:\\Projects\\11209000\\11209175\\B. Measurements and calculations\\Data\\basin_flood_hazard_maps\\flood_DERP_RW_M_4326_2080421680.geojson\n",
      "2024-09-22 00:30:56 - Coarse overlay of hazard map with assets...\n"
     ]
    },
    {
     "name": "stderr",
     "output_type": "stream",
     "text": [
      "100%|██████████| 65/65 [35:50<00:00, 33.09s/it]   \n"
     ]
    },
    {
     "name": "stdout",
     "output_type": "stream",
     "text": [
      "2024-09-22 01:52:30 - Reading hazard map 140 of 183: flood_DERP_RW_M_4326_2080421770\n",
      "Flood map path: N:\\Projects\\11209000\\11209175\\B. Measurements and calculations\\Data\\basin_flood_hazard_maps\\flood_DERP_RW_M_4326_2080421770.geojson\n",
      "2024-09-22 01:52:42 - Coarse overlay of hazard map with assets...\n"
     ]
    },
    {
     "name": "stderr",
     "output_type": "stream",
     "text": [
      "100%|██████████| 65/65 [09:48<00:00,  9.05s/it]\n"
     ]
    },
    {
     "name": "stdout",
     "output_type": "stream",
     "text": [
      "2024-09-22 02:19:38 - Reading hazard map 141 of 183: flood_DERP_RW_M_4326_2080428080\n",
      "Flood map path: N:\\Projects\\11209000\\11209175\\B. Measurements and calculations\\Data\\basin_flood_hazard_maps\\flood_DERP_RW_M_4326_2080428080.geojson\n",
      "2024-09-22 02:19:50 - Coarse overlay of hazard map with assets...\n"
     ]
    },
    {
     "name": "stderr",
     "output_type": "stream",
     "text": [
      "0it [00:00, ?it/s]\n"
     ]
    },
    {
     "name": "stdout",
     "output_type": "stream",
     "text": [
      "2024-09-22 02:21:01 - Reading hazard map 142 of 183: flood_DERP_RW_M_4326_2080428160\n",
      "Flood map path: N:\\Projects\\11209000\\11209175\\B. Measurements and calculations\\Data\\basin_flood_hazard_maps\\flood_DERP_RW_M_4326_2080428160.geojson\n",
      "2024-09-22 02:21:17 - Coarse overlay of hazard map with assets...\n"
     ]
    },
    {
     "name": "stderr",
     "output_type": "stream",
     "text": [
      "100%|██████████| 9/9 [02:10<00:00, 14.45s/it]\n"
     ]
    },
    {
     "name": "stdout",
     "output_type": "stream",
     "text": [
      "2024-09-22 02:28:41 - Reading hazard map 143 of 183: flood_DERP_RW_M_4326_2080428500\n",
      "Flood map path: N:\\Projects\\11209000\\11209175\\B. Measurements and calculations\\Data\\basin_flood_hazard_maps\\flood_DERP_RW_M_4326_2080428500.geojson\n",
      "2024-09-22 02:28:43 - Coarse overlay of hazard map with assets...\n"
     ]
    },
    {
     "name": "stderr",
     "output_type": "stream",
     "text": [
      "0it [00:00, ?it/s]\n"
     ]
    },
    {
     "name": "stdout",
     "output_type": "stream",
     "text": [
      "2024-09-22 02:28:52 - Reading hazard map 144 of 183: flood_DERP_RW_M_4326_2080429430\n",
      "Flood map path: N:\\Projects\\11209000\\11209175\\B. Measurements and calculations\\Data\\basin_flood_hazard_maps\\flood_DERP_RW_M_4326_2080429430.geojson\n",
      "2024-09-22 02:28:56 - Coarse overlay of hazard map with assets...\n"
     ]
    },
    {
     "name": "stderr",
     "output_type": "stream",
     "text": [
      "100%|██████████| 46/46 [00:51<00:00,  1.13s/it]\n"
     ]
    },
    {
     "name": "stdout",
     "output_type": "stream",
     "text": [
      "2024-09-22 02:32:24 - Reading hazard map 145 of 183: flood_DERP_RW_M_4326_2080429540\n",
      "Flood map path: N:\\Projects\\11209000\\11209175\\B. Measurements and calculations\\Data\\basin_flood_hazard_maps\\flood_DERP_RW_M_4326_2080429540.geojson\n",
      "2024-09-22 02:32:39 - Coarse overlay of hazard map with assets...\n"
     ]
    },
    {
     "name": "stderr",
     "output_type": "stream",
     "text": [
      "100%|██████████| 6/6 [00:01<00:00,  5.93it/s]\n"
     ]
    },
    {
     "name": "stdout",
     "output_type": "stream",
     "text": [
      "2024-09-22 02:38:35 - Reading hazard map 146 of 183: flood_DERP_RW_M_4326_2080429670\n",
      "Flood map path: N:\\Projects\\11209000\\11209175\\B. Measurements and calculations\\Data\\basin_flood_hazard_maps\\flood_DERP_RW_M_4326_2080429670.geojson\n",
      "2024-09-22 02:38:35 - Coarse overlay of hazard map with assets...\n"
     ]
    },
    {
     "name": "stderr",
     "output_type": "stream",
     "text": [
      "0it [00:00, ?it/s]\n"
     ]
    },
    {
     "name": "stdout",
     "output_type": "stream",
     "text": [
      "2024-09-22 02:38:35 - Reading hazard map 147 of 183: flood_DERP_RW_M_4326_2080429770\n",
      "Flood map path: N:\\Projects\\11209000\\11209175\\B. Measurements and calculations\\Data\\basin_flood_hazard_maps\\flood_DERP_RW_M_4326_2080429770.geojson\n",
      "2024-09-22 02:38:36 - Coarse overlay of hazard map with assets...\n"
     ]
    },
    {
     "name": "stderr",
     "output_type": "stream",
     "text": [
      "100%|██████████| 54/54 [00:05<00:00,  9.61it/s]\n"
     ]
    },
    {
     "name": "stdout",
     "output_type": "stream",
     "text": [
      "2024-09-22 02:38:43 - Reading hazard map 148 of 183: flood_DERP_RW_M_4326_2080430240\n",
      "Flood map path: N:\\Projects\\11209000\\11209175\\B. Measurements and calculations\\Data\\basin_flood_hazard_maps\\flood_DERP_RW_M_4326_2080430240.geojson\n",
      "2024-09-22 02:38:47 - Coarse overlay of hazard map with assets...\n"
     ]
    },
    {
     "name": "stderr",
     "output_type": "stream",
     "text": [
      "100%|██████████| 27/27 [00:42<00:00,  1.56s/it]\n"
     ]
    },
    {
     "name": "stdout",
     "output_type": "stream",
     "text": [
      "2024-09-22 02:40:12 - Reading hazard map 149 of 183: flood_DERP_RW_M_4326_2080430320\n",
      "Flood map path: N:\\Projects\\11209000\\11209175\\B. Measurements and calculations\\Data\\basin_flood_hazard_maps\\flood_DERP_RW_M_4326_2080430320.geojson\n",
      "2024-09-22 02:40:16 - Coarse overlay of hazard map with assets...\n"
     ]
    },
    {
     "name": "stderr",
     "output_type": "stream",
     "text": [
      "100%|██████████| 33/33 [00:37<00:00,  1.15s/it]\n"
     ]
    },
    {
     "name": "stdout",
     "output_type": "stream",
     "text": [
      "2024-09-22 02:41:08 - Reading hazard map 150 of 183: flood_DERP_RW_M_4326_2080431110\n",
      "Flood map path: N:\\Projects\\11209000\\11209175\\B. Measurements and calculations\\Data\\basin_flood_hazard_maps\\flood_DERP_RW_M_4326_2080431110.geojson\n",
      "2024-09-22 02:41:13 - Coarse overlay of hazard map with assets...\n"
     ]
    },
    {
     "name": "stderr",
     "output_type": "stream",
     "text": [
      "100%|██████████| 75/75 [01:10<00:00,  1.07it/s]\n"
     ]
    },
    {
     "name": "stdout",
     "output_type": "stream",
     "text": [
      "2024-09-22 02:43:21 - Reading hazard map 151 of 183: flood_DERP_RW_M_4326_2080431660\n",
      "Flood map path: N:\\Projects\\11209000\\11209175\\B. Measurements and calculations\\Data\\basin_flood_hazard_maps\\flood_DERP_RW_M_4326_2080431660.geojson\n",
      "2024-09-22 02:43:35 - Coarse overlay of hazard map with assets...\n"
     ]
    },
    {
     "name": "stderr",
     "output_type": "stream",
     "text": [
      "100%|██████████| 2/2 [00:00<00:00, 2013.10it/s]\n"
     ]
    },
    {
     "name": "stdout",
     "output_type": "stream",
     "text": [
      "2024-09-22 02:45:18 - Reading hazard map 152 of 183: flood_DERP_RW_M_4326_2080431750\n",
      "Flood map path: N:\\Projects\\11209000\\11209175\\B. Measurements and calculations\\Data\\basin_flood_hazard_maps\\flood_DERP_RW_M_4326_2080431750.geojson\n",
      "2024-09-22 02:45:32 - Coarse overlay of hazard map with assets...\n"
     ]
    },
    {
     "name": "stderr",
     "output_type": "stream",
     "text": [
      "0it [00:00, ?it/s]\n"
     ]
    },
    {
     "name": "stdout",
     "output_type": "stream",
     "text": [
      "2024-09-22 02:46:29 - Reading hazard map 153 of 183: flood_DERP_RW_M_4326_2080432400\n",
      "Flood map path: N:\\Projects\\11209000\\11209175\\B. Measurements and calculations\\Data\\basin_flood_hazard_maps\\flood_DERP_RW_M_4326_2080432400.geojson\n",
      "2024-09-22 02:46:36 - Coarse overlay of hazard map with assets...\n"
     ]
    },
    {
     "name": "stderr",
     "output_type": "stream",
     "text": [
      "100%|██████████| 7/7 [00:28<00:00,  4.10s/it]\n"
     ]
    },
    {
     "name": "stdout",
     "output_type": "stream",
     "text": [
      "2024-09-22 02:48:12 - Reading hazard map 154 of 183: flood_DERP_RW_M_4326_2080432510\n",
      "Flood map path: N:\\Projects\\11209000\\11209175\\B. Measurements and calculations\\Data\\basin_flood_hazard_maps\\flood_DERP_RW_M_4326_2080432510.geojson\n",
      "2024-09-22 02:48:36 - Coarse overlay of hazard map with assets...\n"
     ]
    },
    {
     "name": "stderr",
     "output_type": "stream",
     "text": [
      "100%|██████████| 28/28 [00:05<00:00,  5.16it/s]\n"
     ]
    },
    {
     "name": "stdout",
     "output_type": "stream",
     "text": [
      "2024-09-22 03:09:25 - Reading hazard map 155 of 183: flood_DERP_RW_M_4326_2080433520\n",
      "Flood map path: N:\\Projects\\11209000\\11209175\\B. Measurements and calculations\\Data\\basin_flood_hazard_maps\\flood_DERP_RW_M_4326_2080433520.geojson\n",
      "2024-09-22 03:09:28 - Coarse overlay of hazard map with assets...\n"
     ]
    },
    {
     "name": "stderr",
     "output_type": "stream",
     "text": [
      "0it [00:00, ?it/s]\n"
     ]
    },
    {
     "name": "stdout",
     "output_type": "stream",
     "text": [
      "2024-09-22 03:09:33 - Reading hazard map 156 of 183: flood_DERP_RW_M_4326_2080433740\n",
      "Flood map path: N:\\Projects\\11209000\\11209175\\B. Measurements and calculations\\Data\\basin_flood_hazard_maps\\flood_DERP_RW_M_4326_2080433740.geojson\n",
      "2024-09-22 03:09:54 - Coarse overlay of hazard map with assets...\n"
     ]
    },
    {
     "name": "stderr",
     "output_type": "stream",
     "text": [
      "0it [00:00, ?it/s]\n"
     ]
    },
    {
     "name": "stdout",
     "output_type": "stream",
     "text": [
      "2024-09-22 03:14:26 - Reading hazard map 157 of 183: flood_DERP_RW_M_4326_2080433960\n",
      "Flood map path: N:\\Projects\\11209000\\11209175\\B. Measurements and calculations\\Data\\basin_flood_hazard_maps\\flood_DERP_RW_M_4326_2080433960.geojson\n",
      "2024-09-22 03:15:06 - Coarse overlay of hazard map with assets...\n"
     ]
    },
    {
     "name": "stderr",
     "output_type": "stream",
     "text": [
      "0it [00:00, ?it/s]\n"
     ]
    },
    {
     "name": "stdout",
     "output_type": "stream",
     "text": [
      "2024-09-22 03:19:30 - Reading hazard map 158 of 183: flood_DERP_RW_M_4326_2080434150\n",
      "Flood map path: N:\\Projects\\11209000\\11209175\\B. Measurements and calculations\\Data\\basin_flood_hazard_maps\\flood_DERP_RW_M_4326_2080434150.geojson\n",
      "2024-09-22 03:19:34 - Coarse overlay of hazard map with assets...\n"
     ]
    },
    {
     "name": "stderr",
     "output_type": "stream",
     "text": [
      "0it [00:00, ?it/s]\n"
     ]
    },
    {
     "name": "stdout",
     "output_type": "stream",
     "text": [
      "2024-09-22 03:19:39 - Reading hazard map 159 of 183: flood_DERP_RW_M_4326_2080434280\n",
      "Flood map path: N:\\Projects\\11209000\\11209175\\B. Measurements and calculations\\Data\\basin_flood_hazard_maps\\flood_DERP_RW_M_4326_2080434280.geojson\n",
      "2024-09-22 03:19:44 - Coarse overlay of hazard map with assets...\n"
     ]
    },
    {
     "name": "stderr",
     "output_type": "stream",
     "text": [
      "100%|██████████| 4/4 [01:19<00:00, 19.88s/it]\n"
     ]
    },
    {
     "name": "stdout",
     "output_type": "stream",
     "text": [
      "2024-09-22 03:21:34 - Reading hazard map 160 of 183: flood_DERP_RW_M_4326_2080434470\n",
      "Flood map path: N:\\Projects\\11209000\\11209175\\B. Measurements and calculations\\Data\\basin_flood_hazard_maps\\flood_DERP_RW_M_4326_2080434470.geojson\n",
      "2024-09-22 03:22:06 - Coarse overlay of hazard map with assets...\n"
     ]
    },
    {
     "name": "stderr",
     "output_type": "stream",
     "text": [
      "100%|██████████| 51/51 [03:10<00:00,  3.73s/it]\n"
     ]
    },
    {
     "name": "stdout",
     "output_type": "stream",
     "text": [
      "2024-09-22 03:41:30 - Reading hazard map 161 of 183: flood_DERP_RW_M_4326_2080434490\n",
      "Flood map path: N:\\Projects\\11209000\\11209175\\B. Measurements and calculations\\Data\\basin_flood_hazard_maps\\flood_DERP_RW_M_4326_2080434490.geojson\n",
      "2024-09-22 03:41:41 - Coarse overlay of hazard map with assets...\n"
     ]
    },
    {
     "name": "stderr",
     "output_type": "stream",
     "text": [
      "100%|██████████| 40/40 [00:05<00:00,  6.84it/s]\n"
     ]
    },
    {
     "name": "stdout",
     "output_type": "stream",
     "text": [
      "2024-09-22 03:45:16 - Reading hazard map 162 of 183: flood_DERP_RW_M_4326_2080434630\n",
      "Flood map path: N:\\Projects\\11209000\\11209175\\B. Measurements and calculations\\Data\\basin_flood_hazard_maps\\flood_DERP_RW_M_4326_2080434630.geojson\n",
      "2024-09-22 03:45:55 - Coarse overlay of hazard map with assets...\n"
     ]
    },
    {
     "name": "stderr",
     "output_type": "stream",
     "text": [
      "100%|██████████| 67/67 [1:31:02<00:00, 81.53s/it] \n"
     ]
    },
    {
     "name": "stdout",
     "output_type": "stream",
     "text": [
      "2024-09-22 06:28:35 - Reading hazard map 163 of 183: flood_DERP_RW_M_4326_2080435040\n",
      "Flood map path: N:\\Projects\\11209000\\11209175\\B. Measurements and calculations\\Data\\basin_flood_hazard_maps\\flood_DERP_RW_M_4326_2080435040.geojson\n",
      "2024-09-22 06:29:16 - Coarse overlay of hazard map with assets...\n"
     ]
    },
    {
     "name": "stderr",
     "output_type": "stream",
     "text": [
      "100%|██████████| 69/69 [05:35<00:00,  4.87s/it] \n"
     ]
    },
    {
     "name": "stdout",
     "output_type": "stream",
     "text": [
      "2024-09-22 07:17:55 - Reading hazard map 164 of 183: flood_DERP_RW_M_4326_2080435320\n",
      "Flood map path: N:\\Projects\\11209000\\11209175\\B. Measurements and calculations\\Data\\basin_flood_hazard_maps\\flood_DERP_RW_M_4326_2080435320.geojson\n",
      "2024-09-22 07:18:06 - Coarse overlay of hazard map with assets...\n"
     ]
    },
    {
     "name": "stderr",
     "output_type": "stream",
     "text": [
      "100%|██████████| 7/7 [01:12<00:00, 10.33s/it]\n"
     ]
    },
    {
     "name": "stdout",
     "output_type": "stream",
     "text": [
      "2024-09-22 07:21:13 - Reading hazard map 165 of 183: flood_DERP_RW_M_4326_2080436660\n",
      "Flood map path: N:\\Projects\\11209000\\11209175\\B. Measurements and calculations\\Data\\basin_flood_hazard_maps\\flood_DERP_RW_M_4326_2080436660.geojson\n",
      "2024-09-22 07:21:17 - Coarse overlay of hazard map with assets...\n"
     ]
    },
    {
     "name": "stderr",
     "output_type": "stream",
     "text": [
      "0it [00:00, ?it/s]\n"
     ]
    },
    {
     "name": "stdout",
     "output_type": "stream",
     "text": [
      "2024-09-22 07:21:24 - Reading hazard map 166 of 183: flood_DERP_RW_M_4326_2080436860\n",
      "Flood map path: N:\\Projects\\11209000\\11209175\\B. Measurements and calculations\\Data\\basin_flood_hazard_maps\\flood_DERP_RW_M_4326_2080436860.geojson\n",
      "2024-09-22 07:21:24 - Coarse overlay of hazard map with assets...\n"
     ]
    },
    {
     "name": "stderr",
     "output_type": "stream",
     "text": [
      "100%|██████████| 2/2 [00:00<00:00, 1993.02it/s]\n"
     ]
    },
    {
     "name": "stdout",
     "output_type": "stream",
     "text": [
      "2024-09-22 07:21:25 - Reading hazard map 167 of 183: flood_DERP_RW_M_4326_2080436870\n",
      "Flood map path: N:\\Projects\\11209000\\11209175\\B. Measurements and calculations\\Data\\basin_flood_hazard_maps\\flood_DERP_RW_M_4326_2080436870.geojson\n",
      "2024-09-22 07:21:27 - Coarse overlay of hazard map with assets...\n"
     ]
    },
    {
     "name": "stderr",
     "output_type": "stream",
     "text": [
      "100%|██████████| 22/22 [00:13<00:00,  1.69it/s]\n"
     ]
    },
    {
     "name": "stdout",
     "output_type": "stream",
     "text": [
      "2024-09-22 07:21:49 - Reading hazard map 168 of 183: flood_DERP_RW_M_4326_2080437100\n",
      "Flood map path: N:\\Projects\\11209000\\11209175\\B. Measurements and calculations\\Data\\basin_flood_hazard_maps\\flood_DERP_RW_M_4326_2080437100.geojson\n",
      "2024-09-22 07:21:55 - Coarse overlay of hazard map with assets...\n"
     ]
    },
    {
     "name": "stderr",
     "output_type": "stream",
     "text": [
      "100%|██████████| 15/15 [00:43<00:00,  2.92s/it]\n"
     ]
    },
    {
     "name": "stdout",
     "output_type": "stream",
     "text": [
      "2024-09-22 07:25:06 - Reading hazard map 169 of 183: flood_DERP_RW_M_4326_2080437230\n",
      "Flood map path: N:\\Projects\\11209000\\11209175\\B. Measurements and calculations\\Data\\basin_flood_hazard_maps\\flood_DERP_RW_M_4326_2080437230.geojson\n",
      "2024-09-22 07:25:17 - Coarse overlay of hazard map with assets...\n"
     ]
    },
    {
     "name": "stderr",
     "output_type": "stream",
     "text": [
      "100%|██████████| 4/4 [00:07<00:00,  1.89s/it]\n"
     ]
    },
    {
     "name": "stdout",
     "output_type": "stream",
     "text": [
      "2024-09-22 07:29:18 - Reading hazard map 170 of 183: flood_DERP_RW_M_4326_2080437370\n",
      "Flood map path: N:\\Projects\\11209000\\11209175\\B. Measurements and calculations\\Data\\basin_flood_hazard_maps\\flood_DERP_RW_M_4326_2080437370.geojson\n",
      "2024-09-22 07:29:23 - Coarse overlay of hazard map with assets...\n"
     ]
    },
    {
     "name": "stderr",
     "output_type": "stream",
     "text": [
      "100%|██████████| 35/35 [03:33<00:00,  6.11s/it]\n"
     ]
    },
    {
     "name": "stdout",
     "output_type": "stream",
     "text": [
      "2024-09-22 07:33:53 - Reading hazard map 171 of 183: flood_DERP_RW_M_4326_2080438230\n",
      "Flood map path: N:\\Projects\\11209000\\11209175\\B. Measurements and calculations\\Data\\basin_flood_hazard_maps\\flood_DERP_RW_M_4326_2080438230.geojson\n",
      "2024-09-22 07:34:04 - Coarse overlay of hazard map with assets...\n"
     ]
    },
    {
     "name": "stderr",
     "output_type": "stream",
     "text": [
      "100%|██████████| 13/13 [00:04<00:00,  3.12it/s]\n"
     ]
    },
    {
     "name": "stdout",
     "output_type": "stream",
     "text": [
      "2024-09-22 07:44:13 - Reading hazard map 172 of 183: flood_DERP_RW_M_4326_2080438240\n",
      "Flood map path: N:\\Projects\\11209000\\11209175\\B. Measurements and calculations\\Data\\basin_flood_hazard_maps\\flood_DERP_RW_M_4326_2080438240.geojson\n",
      "2024-09-22 07:44:21 - Coarse overlay of hazard map with assets...\n"
     ]
    },
    {
     "name": "stderr",
     "output_type": "stream",
     "text": [
      "100%|██████████| 38/38 [00:12<00:00,  3.07it/s]\n"
     ]
    },
    {
     "name": "stdout",
     "output_type": "stream",
     "text": [
      "2024-09-22 07:45:59 - Reading hazard map 173 of 183: flood_DERP_RW_M_4326_2080438400\n",
      "Flood map path: N:\\Projects\\11209000\\11209175\\B. Measurements and calculations\\Data\\basin_flood_hazard_maps\\flood_DERP_RW_M_4326_2080438400.geojson\n",
      "2024-09-22 07:46:22 - Coarse overlay of hazard map with assets...\n"
     ]
    },
    {
     "name": "stderr",
     "output_type": "stream",
     "text": [
      "100%|██████████| 30/30 [07:24<00:00, 14.82s/it]\n"
     ]
    },
    {
     "name": "stdout",
     "output_type": "stream",
     "text": [
      "2024-09-22 08:06:23 - Reading hazard map 174 of 183: flood_DERP_RW_M_4326_2080438410\n",
      "Flood map path: N:\\Projects\\11209000\\11209175\\B. Measurements and calculations\\Data\\basin_flood_hazard_maps\\flood_DERP_RW_M_4326_2080438410.geojson\n",
      "2024-09-22 08:06:33 - Coarse overlay of hazard map with assets...\n"
     ]
    },
    {
     "name": "stderr",
     "output_type": "stream",
     "text": [
      "100%|██████████| 13/13 [07:04<00:00, 32.68s/it]\n"
     ]
    },
    {
     "name": "stdout",
     "output_type": "stream",
     "text": [
      "2024-09-22 08:16:32 - Reading hazard map 175 of 183: flood_DERP_RW_M_4326_2080439400\n",
      "Flood map path: N:\\Projects\\11209000\\11209175\\B. Measurements and calculations\\Data\\basin_flood_hazard_maps\\flood_DERP_RW_M_4326_2080439400.geojson\n",
      "2024-09-22 08:16:51 - Coarse overlay of hazard map with assets...\n"
     ]
    },
    {
     "name": "stderr",
     "output_type": "stream",
     "text": [
      "100%|██████████| 9/9 [00:04<00:00,  2.24it/s]\n"
     ]
    },
    {
     "name": "stdout",
     "output_type": "stream",
     "text": [
      "2024-09-22 08:33:51 - Reading hazard map 176 of 183: flood_DERP_RW_M_4326_2080439410\n",
      "Flood map path: N:\\Projects\\11209000\\11209175\\B. Measurements and calculations\\Data\\basin_flood_hazard_maps\\flood_DERP_RW_M_4326_2080439410.geojson\n",
      "2024-09-22 08:34:11 - Coarse overlay of hazard map with assets...\n"
     ]
    },
    {
     "name": "stderr",
     "output_type": "stream",
     "text": [
      "100%|██████████| 86/86 [01:47<00:00,  1.25s/it]\n"
     ]
    },
    {
     "name": "stdout",
     "output_type": "stream",
     "text": [
      "2024-09-22 08:41:26 - Reading hazard map 177 of 183: flood_DERP_RW_M_4326_2080441280\n",
      "Flood map path: N:\\Projects\\11209000\\11209175\\B. Measurements and calculations\\Data\\basin_flood_hazard_maps\\flood_DERP_RW_M_4326_2080441280.geojson\n",
      "2024-09-22 08:41:53 - Coarse overlay of hazard map with assets...\n"
     ]
    },
    {
     "name": "stderr",
     "output_type": "stream",
     "text": [
      "100%|██████████| 382/382 [08:46<00:00,  1.38s/it]\n"
     ]
    },
    {
     "name": "stdout",
     "output_type": "stream",
     "text": [
      "2024-09-22 09:32:50 - Reading hazard map 178 of 183: flood_DERP_RW_M_4326_2080446220\n",
      "Flood map path: N:\\Projects\\11209000\\11209175\\B. Measurements and calculations\\Data\\basin_flood_hazard_maps\\flood_DERP_RW_M_4326_2080446220.geojson\n",
      "2024-09-22 09:33:04 - Coarse overlay of hazard map with assets...\n"
     ]
    },
    {
     "name": "stderr",
     "output_type": "stream",
     "text": [
      "100%|██████████| 36/36 [02:41<00:00,  4.49s/it]\n"
     ]
    },
    {
     "name": "stdout",
     "output_type": "stream",
     "text": [
      "2024-09-22 09:41:50 - Reading hazard map 179 of 183: flood_DERP_RW_M_4326_2080446320\n",
      "Flood map path: N:\\Projects\\11209000\\11209175\\B. Measurements and calculations\\Data\\basin_flood_hazard_maps\\flood_DERP_RW_M_4326_2080446320.geojson\n",
      "2024-09-22 09:41:55 - Coarse overlay of hazard map with assets...\n"
     ]
    },
    {
     "name": "stderr",
     "output_type": "stream",
     "text": [
      "100%|██████████| 41/41 [00:07<00:00,  5.55it/s]\n"
     ]
    },
    {
     "name": "stdout",
     "output_type": "stream",
     "text": [
      "2024-09-22 09:42:09 - Reading hazard map 180 of 183: flood_DERP_RW_M_4326_2080447840\n",
      "Flood map path: N:\\Projects\\11209000\\11209175\\B. Measurements and calculations\\Data\\basin_flood_hazard_maps\\flood_DERP_RW_M_4326_2080447840.geojson\n",
      "2024-09-22 09:43:34 - Coarse overlay of hazard map with assets...\n"
     ]
    },
    {
     "name": "stderr",
     "output_type": "stream",
     "text": [
      "100%|██████████| 276/276 [19:56<00:00,  4.34s/it]\n"
     ]
    },
    {
     "name": "stdout",
     "output_type": "stream",
     "text": [
      "2024-09-22 11:29:35 - Reading hazard map 181 of 183: flood_DERP_RW_M_4326_2080447970\n",
      "Flood map path: N:\\Projects\\11209000\\11209175\\B. Measurements and calculations\\Data\\basin_flood_hazard_maps\\flood_DERP_RW_M_4326_2080447970.geojson\n",
      "2024-09-22 11:29:48 - Coarse overlay of hazard map with assets...\n"
     ]
    },
    {
     "name": "stderr",
     "output_type": "stream",
     "text": [
      "100%|██████████| 11/11 [04:39<00:00, 25.44s/it]\n"
     ]
    },
    {
     "name": "stdout",
     "output_type": "stream",
     "text": [
      "2024-09-22 11:40:52 - Reading hazard map 182 of 183: flood_DERP_RW_M_4326_2080448120\n",
      "Flood map path: N:\\Projects\\11209000\\11209175\\B. Measurements and calculations\\Data\\basin_flood_hazard_maps\\flood_DERP_RW_M_4326_2080448120.geojson\n",
      "2024-09-22 11:41:02 - Coarse overlay of hazard map with assets...\n"
     ]
    },
    {
     "name": "stderr",
     "output_type": "stream",
     "text": [
      "100%|██████████| 6/6 [00:05<00:00,  1.18it/s]\n"
     ]
    },
    {
     "name": "stdout",
     "output_type": "stream",
     "text": [
      "2024-09-22 11:41:59 - Reading hazard map 183 of 183: flood_DERP_RW_M_4326_2080451930\n",
      "Flood map path: N:\\Projects\\11209000\\11209175\\B. Measurements and calculations\\Data\\basin_flood_hazard_maps\\flood_DERP_RW_M_4326_2080451930.geojson\n",
      "2024-09-22 11:42:01 - Coarse overlay of hazard map with assets...\n"
     ]
    },
    {
     "name": "stderr",
     "output_type": "stream",
     "text": [
      "100%|██████████| 7/7 [00:00<00:00, 18.47it/s]\n"
     ]
    }
   ],
   "source": [
    "# Calculate direct damage by asset (Koks. E.E. (2022). DamageScanner: Python tool for natural hazard damage assessments. Zenodo. http://doi.org/10.5281/zenodo.2551015)\n",
    "collect_output={}\n",
    "for i, single_footprint in enumerate(hazard_data_list):\n",
    "    hazard_name = single_footprint.parts[-1].split('.')[0]\n",
    "    timestamp = datetime.datetime.now().strftime(\"%Y-%m-%d %H:%M:%S\")\n",
    "    print(f'{timestamp} - Reading hazard map {i+1} of {len(hazard_data_list)}: {hazard_name}')\n",
    "\n",
    "    try:\n",
    "        collect_output[hazard_name] = process_hazard_data(single_footprint, hazard_type, assets, interim_data_path, infra_curves, max_damage_tables, curve_types, infra_type, type_dict, geom_dict, asset_options=asset_options, rp_spec_priority=rp_spec_priority)\n",
    "    except Exception as e:\n",
    "        print(f'Error occurred in {hazard_name}: {str(e)}')\n",
    "        continue\n",
    "\n",
    "# save the data to pickle files\n",
    "collect_output_path = f'{interim_data_path}/sample_collected_run.pkl'\n",
    "if len(collect_output)>0:\n",
    "    with open(collect_output_path, 'wb') as f:\n",
    "        pickle.dump(collect_output, f)\n",
    "else: print('No output collected')"
   ]
  },
  {
   "cell_type": "markdown",
   "metadata": {},
   "source": [
    "Save data to files for reuse in later stages"
   ]
  },
  {
   "cell_type": "code",
   "execution_count": 8,
   "metadata": {},
   "outputs": [],
   "source": [
    "# Save the data to csv files\n",
    "sample_output_name=f'sample_collected_run_{datetime.datetime.now().strftime(\"%Y%m%d_%H%M%S\")}.csv'\n",
    "pd.DataFrame.from_dict(collect_output).to_csv(interim_data_path / sample_output_name)"
   ]
  },
  {
   "cell_type": "code",
   "execution_count": 9,
   "metadata": {},
   "outputs": [],
   "source": [
    "# if collected_output variable doesnt exist, load from pickle file\n",
    "if 'collect_output' not in locals():\n",
    "    collect_output_path = f'{interim_data_path}/sample_collected_run.pkl'\n",
    "    with open(collect_output_path, 'rb') as f:\n",
    "        collect_output = pickle.load(f)"
   ]
  },
  {
   "cell_type": "code",
   "execution_count": 10,
   "metadata": {},
   "outputs": [
    {
     "data": {
      "text/html": [
       "<div>\n",
       "<style scoped>\n",
       "    .dataframe tbody tr th:only-of-type {\n",
       "        vertical-align: middle;\n",
       "    }\n",
       "\n",
       "    .dataframe tbody tr th {\n",
       "        vertical-align: top;\n",
       "    }\n",
       "\n",
       "    .dataframe thead th {\n",
       "        text-align: right;\n",
       "    }\n",
       "</style>\n",
       "<table border=\"1\" class=\"dataframe\">\n",
       "  <thead>\n",
       "    <tr style=\"text-align: right;\">\n",
       "      <th></th>\n",
       "      <th>Total Damage Lower Bound</th>\n",
       "      <th>Total Damage Upper Bound</th>\n",
       "    </tr>\n",
       "  </thead>\n",
       "  <tbody>\n",
       "    <tr>\n",
       "      <th>_H_</th>\n",
       "      <td>3.493460e+07</td>\n",
       "      <td>7.830212e+07</td>\n",
       "    </tr>\n",
       "    <tr>\n",
       "      <th>_M_</th>\n",
       "      <td>8.006156e+08</td>\n",
       "      <td>1.631664e+09</td>\n",
       "    </tr>\n",
       "    <tr>\n",
       "      <th>_L_</th>\n",
       "      <td>2.367330e+09</td>\n",
       "      <td>4.902882e+09</td>\n",
       "    </tr>\n",
       "  </tbody>\n",
       "</table>\n",
       "</div>"
      ],
      "text/plain": [
       "     Total Damage Lower Bound  Total Damage Upper Bound\n",
       "_H_              3.493460e+07              7.830212e+07\n",
       "_M_              8.006156e+08              1.631664e+09\n",
       "_L_              2.367330e+09              4.902882e+09"
      ]
     },
     "execution_count": 10,
     "metadata": {},
     "output_type": "execute_result"
    }
   ],
   "source": [
    "# Calculate the expected annual damages (EAD)\n",
    "summed_output = {}\n",
    "\n",
    "# Iterate over the items in the collect_output dictionary\n",
    "for hazard_map, asset_dict in collect_output.items():\n",
    "    # If the hazard_map and hazard_curve combination is not already in the summed_output dictionary, add it with the sum of the current lower and upper bounds\n",
    "    if hazard_map not in summed_output:\n",
    "        summed_output[hazard_map] = (sum(value[0] for value in asset_dict.values()), sum(value[1] for value in asset_dict.values()))\n",
    "    # If the hazard_map and hazard_curve combination is already in the summed_output dictionary, add the sum of the current lower and upper bounds to the existing ones\n",
    "    else:\n",
    "        summed_output[hazard_map][0] += sum(value[0] for value in asset_dict.values())\n",
    "        summed_output[hazard_map][1] += sum(value[1] for value in asset_dict.values())\n",
    "\n",
    "# Initialize a new dictionary to hold the aggregated values\n",
    "aggregated_output = {'_H_': [0, 0], '_M_': [0, 0], '_L_': [0, 0]}\n",
    "\n",
    "# Iterate over the items in the summed_output dictionary and group into return periods\n",
    "for hazard_map, (lower_bound, upper_bound) in summed_output.items():\n",
    "    # determine the category of the hazard map\n",
    "    if '_H_' in hazard_map: \n",
    "        category = '_H_'\n",
    "    elif '_M_' in hazard_map: \n",
    "        category = '_M_'\n",
    "    else: # '_L_' in hazard_map\n",
    "        category = '_L_' \n",
    "        \n",
    "    # Add the lower and upper bounds to the appropriate category\n",
    "    aggregated_output[category][0] += lower_bound\n",
    "    aggregated_output[category][1] += upper_bound\n",
    "\n",
    "# Create the DataFrame from the new dictionary\n",
    "aggregated_df = pd.DataFrame.from_dict(aggregated_output, orient='index', columns=['Total Damage Lower Bound', 'Total Damage Upper Bound'])\n",
    "aggregated_df\n"
   ]
  },
  {
   "cell_type": "code",
   "execution_count": 11,
   "metadata": {},
   "outputs": [
    {
     "name": "stdout",
     "output_type": "stream",
     "text": [
      "Baseline expected annual damages: 59,976,366.77 to 123,671,915.85 EUR\n",
      "Expected annual damages without adaptation by year 100: 197,040,184.55 to 406,585,516.17 EUR\n"
     ]
    },
    {
     "data": {
      "image/png": "[encoded data removed]",
      "text/plain": [
       "<Figure size 640x480 with 1 Axes>"
      ]
     },
     "metadata": {},
     "output_type": "display_data"
    }
   ],
   "source": [
    "# Define the baseline return periods \n",
    "\"\"\"\n",
    "Return period definitions for Rhineland Palatinate (DERP) based on the report by Rauthe M, et al. (2020):\n",
    "_H_=10-25y \n",
    "_M_=100y\n",
    "_L_=200y\n",
    "\"\"\"\n",
    "return_period_dict = {'_H_': 10,'_M_': 100,'_L_': 200}\n",
    "\n",
    "# Add climate change: calculate the dynamic return periods based on flat increase factors. \n",
    "# This value has been catchment-specific with frequency increasing in some regions and decreasing in others. \n",
    "# It is reasonable that in the future, the frequency will continue to change differently by catchment.\n",
    "\n",
    "increase_factor = {\n",
    "    '_H_': 2,\n",
    "    '_M_': 6.6,\n",
    "    '_L_': 9.1\n",
    "} # https://hess.copernicus.org/preprints/hess-2016-65/hess-2016-65-manuscript-version2.pdf \n",
    "\n",
    "num_years = 100\n",
    "return_periods = calculate_dynamic_return_periods(return_period_dict, num_years, increase_factor)\n",
    "\n",
    "# Define dictionary to relate return periods to regions, in this case Rheinland Palatinate is used\n",
    "return_period_dict = {}\n",
    "return_period_dict['DERP'] = return_periods #TODO: make generic for other regions\n",
    "\n",
    "# Add the return period column to aggregated_df and sort by return period\n",
    "aggregated_df['Return Period'] = [return_period_dict['DERP'][index] for index in aggregated_df.index]\n",
    "aggregated_df = aggregated_df.sort_values('Return Period', ascending=True)\n",
    "\n",
    "# Calculate the probability of each return period \n",
    "aggregated_df['Probability'] = [[1 / x for x in i] for i in aggregated_df['Return Period']]\n",
    "probabilities = aggregated_df['Probability']\n",
    "dmgs = []\n",
    "\n",
    "# Calculate the expected annual damages for each time step using trapezoidal rule for integration\n",
    "for ts in range(len(probabilities.iloc[0])):    \n",
    "    dmgs_l = []\n",
    "    dmgs_u = []\n",
    "\n",
    "    for rp in range(len(probabilities)-1):\n",
    "        d_rp= probabilities.iloc[rp][ts] - probabilities.iloc[rp + 1][ts]\n",
    "        trap_damage_l = 0.5 * (aggregated_df['Total Damage Lower Bound'].iloc[rp] + aggregated_df['Total Damage Lower Bound'].iloc[rp + 1])\n",
    "        trap_damage_u = 0.5 * (aggregated_df['Total Damage Upper Bound'].iloc[rp] + aggregated_df['Total Damage Upper Bound'].iloc[rp + 1])\n",
    "        dmgs_l.append(d_rp * trap_damage_l)\n",
    "        dmgs_u.append(d_rp * trap_damage_u)\n",
    "    \n",
    "    # Add the portion of damages corresponding to the tails of the distribution\n",
    "    # Assumption - considers the damage for return periods higher than the highest return period the same as that of the highest return period\n",
    "    d0_rp = probabilities.iloc[-1][ts]\n",
    "    damage_l0 = max(aggregated_df['Total Damage Lower Bound'])\n",
    "    damage_u0 = max(aggregated_df['Total Damage Upper Bound'])\n",
    "    dmgs_l.append(d0_rp * damage_l0)\n",
    "    dmgs_u.append(d0_rp * damage_u0)\n",
    "\n",
    "    # Assumption - considers that no assets are damaged at a return period of 4 years or lower\n",
    "    d_end_rp = (1/4)-probabilities.iloc[0][ts]\n",
    "    damage_l_end = 0.5 * min(aggregated_df['Total Damage Lower Bound'])\n",
    "    damage_u_end = 0.5 * min(aggregated_df['Total Damage Upper Bound'])\n",
    "    dmgs_l.append(d_end_rp * damage_l_end)\n",
    "    dmgs_u.append(d_end_rp * damage_u_end)\n",
    "\n",
    "    dmgs.append((sum(dmgs_l), sum(dmgs_u)))\n",
    "\n",
    "ead_by_ts = pd.DataFrame(dmgs, columns=['Total Damage Lower Bound', 'Total Damage Upper Bound'])\n",
    "\n",
    "print(f'Baseline expected annual damages: {dmgs[0][0]:,.2f} to {dmgs[0][1]:,.2f} EUR')\n",
    "print(f'Expected annual damages without adaptation by year {num_years}: {dmgs[-1][0]:,.2f} to {dmgs[-1][1]:,.2f} EUR')\n",
    "\n",
    "ead_by_ts_plot(ead_by_ts)"
   ]
  },
  {
   "cell_type": "code",
   "execution_count": 12,
   "metadata": {},
   "outputs": [
    {
     "data": {
      "text/plain": [
       "{'flood_DERP_RW_H_4326_2080410170': (8660.346345429718, 13620.796027616947),\n",
       " 'flood_DERP_RW_H_4326_2080410430': (37011.78449206103, 158149.38078075842),\n",
       " 'flood_DERP_RW_H_4326_2080410540': (62528.33745818449, 62528.33745818449),\n",
       " 'flood_DERP_RW_H_4326_2080410660': (0, 0),\n",
       " 'flood_DERP_RW_H_4326_2080410760': (0, 0),\n",
       " 'flood_DERP_RW_H_4326_2080411370': (119700.03477632943, 550561.56526837),\n",
       " 'flood_DERP_RW_H_4326_2080416200': (0, 0),\n",
       " 'flood_DERP_RW_H_4326_2080416210': (1481742.4683239164, 4403885.552981349),\n",
       " 'flood_DERP_RW_H_4326_2080418600': (2929760.3940743627, 13970138.7681109),\n",
       " 'flood_DERP_RW_H_4326_2080418720': (0, 0),\n",
       " 'flood_DERP_RW_H_4326_2080418880': (111629.76363490838, 112759.18055462776),\n",
       " 'flood_DERP_RW_H_4326_2080418890': (6545.432268332452, 17179.03757395942),\n",
       " 'flood_DERP_RW_H_4326_2080419070': (0, 0),\n",
       " 'flood_DERP_RW_H_4326_2080419180': (1444607.1537085557, 4803874.848097931),\n",
       " 'flood_DERP_RW_H_4326_2080420240': (124273.27445898595, 341572.49978430034),\n",
       " 'flood_DERP_RW_H_4326_2080420340': (0, 0),\n",
       " 'flood_DERP_RW_H_4326_2080421680': (332003.72536723566, 658825.9246353797),\n",
       " 'flood_DERP_RW_H_4326_2080421770': (1493017.5476507186, 1554945.0432806984),\n",
       " 'flood_DERP_RW_H_4326_2080428080': (0, 0),\n",
       " 'flood_DERP_RW_H_4326_2080428160': (154908.1786233577, 4271282.238273773),\n",
       " 'flood_DERP_RW_H_4326_2080428500': (0, 0),\n",
       " 'flood_DERP_RW_H_4326_2080429430': (21345.198813132083, 371380.2128082647),\n",
       " 'flood_DERP_RW_H_4326_2080429540': (12423.308531725565, 74712.34700596481),\n",
       " 'flood_DERP_RW_H_4326_2080429670': (0, 0),\n",
       " 'flood_DERP_RW_H_4326_2080429770': (580361.1815057329, 908579.7608757002),\n",
       " 'flood_DERP_RW_H_4326_2080430240': (430282.21834312886, 5979642.095923916),\n",
       " 'flood_DERP_RW_H_4326_2080430320': (223292.12147988414, 274375.7418432404),\n",
       " 'flood_DERP_RW_H_4326_2080431110': (0, 0),\n",
       " 'flood_DERP_RW_H_4326_2080431660': (0, 0),\n",
       " 'flood_DERP_RW_H_4326_2080431750': (0, 0),\n",
       " 'flood_DERP_RW_H_4326_2080432400': (21903.937844244367, 97888.30921302224),\n",
       " 'flood_DERP_RW_H_4326_2080432510': (0.0, 215386.77362528368),\n",
       " 'flood_DERP_RW_H_4326_2080433520': (0, 0),\n",
       " 'flood_DERP_RW_H_4326_2080433740': (0, 0),\n",
       " 'flood_DERP_RW_H_4326_2080433960': (0, 0),\n",
       " 'flood_DERP_RW_H_4326_2080434150': (0, 0),\n",
       " 'flood_DERP_RW_H_4326_2080434280': (6875.978474421102, 11583.223409890188),\n",
       " 'flood_DERP_RW_H_4326_2080434470': (375314.76894648257, 728484.4235573113),\n",
       " 'flood_DERP_RW_H_4326_2080434490': (0.0, 309.3545164631592),\n",
       " 'flood_DERP_RW_H_4326_2080434630': (8573.42998140633, 30623.858160766074),\n",
       " 'flood_DERP_RW_H_4326_2080435040': (19245.0578306106, 84247.63155094832),\n",
       " 'flood_DERP_RW_H_4326_2080435320': (25246.417289309506, 262232.2905778576),\n",
       " 'flood_DERP_RW_H_4326_2080436660': (0, 0),\n",
       " 'flood_DERP_RW_H_4326_2080436860': (0, 0),\n",
       " 'flood_DERP_RW_H_4326_2080436870': (0, 0),\n",
       " 'flood_DERP_RW_H_4326_2080437100': (8982.695471443421, 48595.316985023346),\n",
       " 'flood_DERP_RW_H_4326_2080437230': (9893.367217251478, 10950.238015954143),\n",
       " 'flood_DERP_RW_H_4326_2080437370': (0, 0),\n",
       " 'flood_DERP_RW_H_4326_2080438230': (0, 0),\n",
       " 'flood_DERP_RW_H_4326_2080438240': (301451.87707100314, 4097057.3955954537),\n",
       " 'flood_DERP_RW_H_4326_2080438400': (17174.86866677248, 82279.82688003674),\n",
       " 'flood_DERP_RW_H_4326_2080438410': (18489.166217472564, 121033.31982255766),\n",
       " 'flood_DERP_RW_H_4326_2080439400': (0, 0),\n",
       " 'flood_DERP_RW_H_4326_2080439410': (9874439.788209463, 13128656.324256964),\n",
       " 'flood_DERP_RW_H_4326_2080441280': (5869813.846391022, 7190766.739328735),\n",
       " 'flood_DERP_RW_H_4326_2080446220': (390160.85246114625, 1441762.756924004),\n",
       " 'flood_DERP_RW_H_4326_2080446320': (0, 0),\n",
       " 'flood_DERP_RW_H_4326_2080447840': (8337018.1796416165, 12048260.423957404),\n",
       " 'flood_DERP_RW_H_4326_2080447970': (72116.31267704148, 161218.4785384824),\n",
       " 'flood_DERP_RW_H_4326_2080448120': (0, 0),\n",
       " 'flood_DERP_RW_H_4326_2080451930': (3809.164008513535, 12765.68853295232),\n",
       " 'flood_DERP_RW_L_4326_2080410170': (4991059.43979833, 5873500.533757765),\n",
       " 'flood_DERP_RW_L_4326_2080410430': (1383579.1769540845, 2008877.065243581),\n",
       " 'flood_DERP_RW_L_4326_2080410540': (6168142.805562244, 14187701.245679663),\n",
       " 'flood_DERP_RW_L_4326_2080410660': (3574693.086429492, 3674347.0415819013),\n",
       " 'flood_DERP_RW_L_4326_2080410760': (226556.30918522232, 472769.4194533181),\n",
       " 'flood_DERP_RW_L_4326_2080411370': (47412677.515378386, 152200469.25072193),\n",
       " 'flood_DERP_RW_L_4326_2080416200': (644550.3998541324, 850350.3827677553),\n",
       " 'flood_DERP_RW_L_4326_2080416210': (140451198.12863007, 321131004.51846594),\n",
       " 'flood_DERP_RW_L_4326_2080418600': (31632760.875498433, 55942069.0591782),\n",
       " 'flood_DERP_RW_L_4326_2080418720': (457540.21825678885, 2735673.600368415),\n",
       " 'flood_DERP_RW_L_4326_2080418880': (1631242.8936388218, 4201223.70487757),\n",
       " 'flood_DERP_RW_L_4326_2080418890': (14388418.014810238, 54977607.45764429),\n",
       " 'flood_DERP_RW_L_4326_2080419070': (208652.24882993812, 216586.70913517958),\n",
       " 'flood_DERP_RW_L_4326_2080419180': (115465842.65737318, 171917031.27131656),\n",
       " 'flood_DERP_RW_L_4326_2080420240': (78088036.49588457, 199474514.20219284),\n",
       " 'flood_DERP_RW_L_4326_2080420340': (49375107.537569255, 64754826.47913119),\n",
       " 'flood_DERP_RW_L_4326_2080421680': (60950945.078386895, 137188025.4569459),\n",
       " 'flood_DERP_RW_L_4326_2080421770': (50819168.68688373, 135944072.18107554),\n",
       " 'flood_DERP_RW_L_4326_2080428080': (0, 0),\n",
       " 'flood_DERP_RW_L_4326_2080428160': (43364693.75311021, 48808801.528831564),\n",
       " 'flood_DERP_RW_L_4326_2080428500': (313784.93234124687, 11686856.948618822),\n",
       " 'flood_DERP_RW_L_4326_2080429430': (26774480.02986456, 93320353.38088351),\n",
       " 'flood_DERP_RW_L_4326_2080429540': (798613.6764476334, 991053.8576469768),\n",
       " 'flood_DERP_RW_L_4326_2080429670': (0, 0),\n",
       " 'flood_DERP_RW_L_4326_2080429770': (92277921.72074437, 168144479.30562684),\n",
       " 'flood_DERP_RW_L_4326_2080430240': (54831908.19010821, 96383128.37764649),\n",
       " 'flood_DERP_RW_L_4326_2080430320': (9355306.384249477, 20914827.97101291),\n",
       " 'flood_DERP_RW_L_4326_2080431110': (60671757.99671986, 156095992.75543627),\n",
       " 'flood_DERP_RW_L_4326_2080431660': (185782.21481935983, 226496.60704033868),\n",
       " 'flood_DERP_RW_L_4326_2080431750': (0, 0),\n",
       " 'flood_DERP_RW_L_4326_2080432400': (28032.940165508062, 163747.5787850439),\n",
       " 'flood_DERP_RW_L_4326_2080432510': (7516945.605807383, 10543093.651733112),\n",
       " 'flood_DERP_RW_L_4326_2080433520': (0, 0),\n",
       " 'flood_DERP_RW_L_4326_2080433740': (0, 0),\n",
       " 'flood_DERP_RW_L_4326_2080433960': (0, 0),\n",
       " 'flood_DERP_RW_L_4326_2080434150': (0, 0),\n",
       " 'flood_DERP_RW_L_4326_2080434280': (5239045.470501031, 15660690.741469285),\n",
       " 'flood_DERP_RW_L_4326_2080434470': (39564972.58068559, 137975477.18600845),\n",
       " 'flood_DERP_RW_L_4326_2080434490': (2209064.5574230165, 3258161.1365896626),\n",
       " 'flood_DERP_RW_L_4326_2080434630': (143806680.44657367, 251295418.4961344),\n",
       " 'flood_DERP_RW_L_4326_2080435040': (15389808.136397595, 27612159.054232135),\n",
       " 'flood_DERP_RW_L_4326_2080435320': (8043204.395392576, 29288250.360782295),\n",
       " 'flood_DERP_RW_L_4326_2080436660': (0, 0),\n",
       " 'flood_DERP_RW_L_4326_2080436860': (67495.6716834682, 100393.35381339816),\n",
       " 'flood_DERP_RW_L_4326_2080436870': (22723655.94402809, 31396914.507496025),\n",
       " 'flood_DERP_RW_L_4326_2080437100': (2591933.237957693, 4924640.361665941),\n",
       " 'flood_DERP_RW_L_4326_2080437230': (1523867.804338427, 1585241.8311886182),\n",
       " 'flood_DERP_RW_L_4326_2080437370': (55971973.197625704, 133958531.11891799),\n",
       " 'flood_DERP_RW_L_4326_2080438230': (1854695.498542582, 4388594.378287562),\n",
       " 'flood_DERP_RW_L_4326_2080438240': (44618371.481864445, 73880082.49176273),\n",
       " 'flood_DERP_RW_L_4326_2080438400': (10286463.71808685, 36671816.755542204),\n",
       " 'flood_DERP_RW_L_4326_2080438410': (814097.2207722409, 3650450.778454502),\n",
       " 'flood_DERP_RW_L_4326_2080439400': (899812.7943948574, 7604507.429687698),\n",
       " 'flood_DERP_RW_L_4326_2080439410': (382105076.7793302, 688911918.2184721),\n",
       " 'flood_DERP_RW_L_4326_2080441280': (345956741.1586058, 855741273.0646212),\n",
       " 'flood_DERP_RW_L_4326_2080446220': (8893887.172445355, 25739145.6195659),\n",
       " 'flood_DERP_RW_L_4326_2080446320': (185345937.3334828, 185517217.76527023),\n",
       " 'flood_DERP_RW_L_4326_2080447840': (183540784.75235644, 440132238.14432716),\n",
       " 'flood_DERP_RW_L_4326_2080447970': (586525.8134774934, 3545464.665430337),\n",
       " 'flood_DERP_RW_L_4326_2080448120': (649397.2790631091, 1336049.1122195553),\n",
       " 'flood_DERP_RW_L_4326_2080451930': (657130.7705348851, 3677759.9168601227),\n",
       " 'flood_DERP_RW_M_4326_2080410170': (14411.832343326902, 17924.92575478299),\n",
       " 'flood_DERP_RW_M_4326_2080410430': (141295.83599124235, 165250.52392091148),\n",
       " 'flood_DERP_RW_M_4326_2080410540': (141782.45939420722, 197145.97415040463),\n",
       " 'flood_DERP_RW_M_4326_2080410660': (0, 0),\n",
       " 'flood_DERP_RW_M_4326_2080410760': (0, 0),\n",
       " 'flood_DERP_RW_M_4326_2080411370': (3556916.3260939717, 8002748.816441756),\n",
       " 'flood_DERP_RW_M_4326_2080416200': (0, 0),\n",
       " 'flood_DERP_RW_M_4326_2080416210': (14059763.457924435, 38534307.70638836),\n",
       " 'flood_DERP_RW_M_4326_2080418600': (15527250.728117172, 21591049.94235203),\n",
       " 'flood_DERP_RW_M_4326_2080418720': (0, 0),\n",
       " 'flood_DERP_RW_M_4326_2080418880': (163793.44030854607, 173157.56960029443),\n",
       " 'flood_DERP_RW_M_4326_2080418890': (83096.63668400016, 587055.4624911571),\n",
       " 'flood_DERP_RW_M_4326_2080419070': (0, 0),\n",
       " 'flood_DERP_RW_M_4326_2080419180': (18831908.968629837, 34974671.99759703),\n",
       " 'flood_DERP_RW_M_4326_2080420240': (94500.23426145823, 518886.67614988895),\n",
       " 'flood_DERP_RW_M_4326_2080420340': (2319204.4812235977, 8178321.018423906),\n",
       " 'flood_DERP_RW_M_4326_2080421680': (3401904.139354779, 7644804.630902197),\n",
       " 'flood_DERP_RW_M_4326_2080421770': (2632966.119776475, 4420627.15821093),\n",
       " 'flood_DERP_RW_M_4326_2080428080': (0, 0),\n",
       " 'flood_DERP_RW_M_4326_2080428160': (24383447.724228412, 35872058.799206465),\n",
       " 'flood_DERP_RW_M_4326_2080428500': (0, 0),\n",
       " 'flood_DERP_RW_M_4326_2080429430': (1857959.514390889, 10727297.419697456),\n",
       " 'flood_DERP_RW_M_4326_2080429540': (20707.85676755042, 87522.12998362497),\n",
       " 'flood_DERP_RW_M_4326_2080429670': (0, 0),\n",
       " 'flood_DERP_RW_M_4326_2080429770': (21952868.852406792, 80191147.61756217),\n",
       " 'flood_DERP_RW_M_4326_2080430240': (7597230.728010535, 33278847.14574737),\n",
       " 'flood_DERP_RW_M_4326_2080430320': (278408.4957824896, 1047373.8201867895),\n",
       " 'flood_DERP_RW_M_4326_2080431110': (17345430.857141536, 37424993.20984634),\n",
       " 'flood_DERP_RW_M_4326_2080431660': (0, 0),\n",
       " 'flood_DERP_RW_M_4326_2080431750': (0, 0),\n",
       " 'flood_DERP_RW_M_4326_2080432400': (128933.93989712231, 184149.98296179157),\n",
       " 'flood_DERP_RW_M_4326_2080432510': (1587984.9064672785, 2563042.2771920795),\n",
       " 'flood_DERP_RW_M_4326_2080433520': (0, 0),\n",
       " 'flood_DERP_RW_M_4326_2080433740': (0, 0),\n",
       " 'flood_DERP_RW_M_4326_2080433960': (0, 0),\n",
       " 'flood_DERP_RW_M_4326_2080434150': (0, 0),\n",
       " 'flood_DERP_RW_M_4326_2080434280': (795786.5430687926, 1647057.4064324505),\n",
       " 'flood_DERP_RW_M_4326_2080434470': (1090521.9676525474, 4273185.464243472),\n",
       " 'flood_DERP_RW_M_4326_2080434490': (13844.177462928541, 72268.49700716896),\n",
       " 'flood_DERP_RW_M_4326_2080434630': (14663207.93245824, 33668827.63513702),\n",
       " 'flood_DERP_RW_M_4326_2080435040': (87165.67450061662, 208216.470682584),\n",
       " 'flood_DERP_RW_M_4326_2080435320': (426800.93281561916, 2527641.509826293),\n",
       " 'flood_DERP_RW_M_4326_2080436660': (0, 0),\n",
       " 'flood_DERP_RW_M_4326_2080436860': (0, 0),\n",
       " 'flood_DERP_RW_M_4326_2080436870': (6233454.147464673, 21482191.93966408),\n",
       " 'flood_DERP_RW_M_4326_2080437100': (117269.40274008909, 230409.18682466692),\n",
       " 'flood_DERP_RW_M_4326_2080437230': (10590.09386636956, 51948.13661434605),\n",
       " 'flood_DERP_RW_M_4326_2080437370': (3118712.782700226, 16390186.624228252),\n",
       " 'flood_DERP_RW_M_4326_2080438230': (7142.479104132359, 414229.5520951242),\n",
       " 'flood_DERP_RW_M_4326_2080438240': (7598776.046424233, 28175051.216419086),\n",
       " 'flood_DERP_RW_M_4326_2080438400': (115557.68483559428, 3960353.311455207),\n",
       " 'flood_DERP_RW_M_4326_2080438410': (274634.2437803545, 1637274.7023211068),\n",
       " 'flood_DERP_RW_M_4326_2080439400': (2200.460089642548, 1100248.1284528477),\n",
       " 'flood_DERP_RW_M_4326_2080439410': (140171903.509454, 272946765.46230865),\n",
       " 'flood_DERP_RW_M_4326_2080441280': (139406761.15697166, 336981684.0296003),\n",
       " 'flood_DERP_RW_M_4326_2080446220': (3848062.720745899, 10292850.34578625),\n",
       " 'flood_DERP_RW_M_4326_2080446320': (183399301.93614203, 183960496.09139198),\n",
       " 'flood_DERP_RW_M_4326_2080447840': (162972036.9961922, 383439389.27402717),\n",
       " 'flood_DERP_RW_M_4326_2080447970': (91959.80017124546, 680734.5755848794),\n",
       " 'flood_DERP_RW_M_4326_2080448120': (41930.665518240465, 1069896.35920603),\n",
       " 'flood_DERP_RW_M_4326_2080451930': (6176.287577270925, 70875.25802006258)}"
      ]
     },
     "execution_count": 12,
     "metadata": {},
     "output_type": "execute_result"
    }
   ],
   "source": [
    "# Calculate the expected annual damages (EAD)\n",
    "summed_output = {}\n",
    "# Iterate over the items in the collect_output dictionary\n",
    "for hazard_map, asset_dict in collect_output.items():\n",
    "    # If the hazard_map and hazard_curve combination is not already in the summed_output dictionary, add it with the sum of the current lower and upper bounds\n",
    "    if hazard_map not in summed_output:\n",
    "        summed_output[hazard_map] = (sum(value[0] for value in asset_dict.values()), sum(value[1] for value in asset_dict.values()))\n",
    "    # If the hazard_map and hazard_curve combination is already in the summed_output dictionary, add the sum of the current lower and upper bounds to the existing ones\n",
    "    else:\n",
    "        summed_output[hazard_map][0] += sum(value[0] for value in asset_dict.values())\n",
    "        summed_output[hazard_map][1] += sum(value[1] for value in asset_dict.values())\n",
    "\n",
    "summed_output"
   ]
  },
  {
   "cell_type": "code",
   "execution_count": 13,
   "metadata": {},
   "outputs": [],
   "source": [
    "files = [file for file in os.listdir(interim_data_path) if file.endswith('.pkl') and file.startswith('overlay')]\n",
    "basins_list=list(set([int(file.split('.')[0].split('_')[-1]) for file in files]))\n",
    "# summed_output  is a dicitonary of with keys as the hazard map names and values as a tuple of the lower and upper bounds of the total damage\n",
    "# example: {'flood_DERP_RW_H_4326_2080411370': (3706407.631635442, 13355041.119988918),\n",
    "\n",
    "# for a list of all the basins in the region, retrieve the upper and lower damage bounds for each basin and skip if the basin is not a key in the summed_output dictionary\n",
    "\n",
    "# create a dictionary of dictionaries with the basin number as the level 1 key, the category (ie \"H\") as the level 2 key and the upper and lower bounds as the values\n",
    "basin_dict = {}\n",
    "for basin in basins_list:\n",
    "    basin_dict[basin] = {}\n",
    "    for key in summed_output.keys():\n",
    "        if str(basin) in key:\n",
    "            basin_dict[basin][key.split('_RW')[-1][0:3]] = summed_output[key]\n",
    "\n",
    "\n",
    "aggregated_df_by_basin = {}\n",
    "ead_by_ts_by_basin = {}\n",
    "\n",
    "for basin, damage_dict in basin_dict.items():\n",
    "    if len(damage_dict) == 0:\n",
    "        continue\n",
    "    aggregated_df_by_basin[basin] = pd.DataFrame.from_dict(damage_dict, orient='index', columns=['Total Damage Lower Bound', 'Total Damage Upper Bound'])\n",
    "    aggregated_df_by_basin[basin]['Return Period'] = [return_period_dict['DERP'][index] for index in aggregated_df_by_basin[basin].index]\n",
    "    aggregated_df_by_basin[basin] = aggregated_df_by_basin[basin].sort_values('Return Period', ascending=True)\n",
    "    aggregated_df_by_basin[basin]['Probability'] = [[1 / x for x in i] for i in aggregated_df_by_basin[basin]['Return Period']]\n",
    "    probabilities = aggregated_df_by_basin[basin]['Probability']\n",
    "    dmgs = []\n",
    "\n",
    "    for ts in range(len(probabilities.iloc[0])):    \n",
    "        dmgs_l = []\n",
    "        dmgs_u = []\n",
    "\n",
    "        for rp in range(len(probabilities)-1):\n",
    "            d_rp= probabilities.iloc[rp][ts] - probabilities.iloc[rp + 1][ts]\n",
    "            trap_damage_l = 0.5 * (aggregated_df_by_basin[basin]['Total Damage Lower Bound'].iloc[rp] + aggregated_df_by_basin[basin]['Total Damage Lower Bound'].iloc[rp + 1])\n",
    "            trap_damage_u = 0.5 * (aggregated_df_by_basin[basin]['Total Damage Upper Bound'].iloc[rp] + aggregated_df_by_basin[basin]['Total Damage Upper Bound'].iloc[rp + 1])\n",
    "            dmgs_l.append(d_rp * trap_damage_l)\n",
    "            dmgs_u.append(d_rp * trap_damage_u)\n",
    "        \n",
    "        # Add the portion of damages corresponding to the tails of the distribution\n",
    "        d0_rp = probabilities.iloc[-1][ts]\n",
    "        damage_l0 = max(aggregated_df_by_basin[basin]['Total Damage Lower Bound'])\n",
    "        damage_u0 = max(aggregated_df_by_basin[basin]['Total Damage Upper Bound'])\n",
    "        dmgs_l.append(d0_rp * damage_l0)\n",
    "        dmgs_u.append(d0_rp * damage_u0)\n",
    "\n",
    "        d_end_rp = (1/4)-probabilities.iloc[0][ts]\n",
    "        damage_l_end = 0.5 * min(aggregated_df_by_basin[basin]['Total Damage Lower Bound'])\n",
    "        damage_u_end = 0.5 * min(aggregated_df_by_basin[basin]['Total Damage Upper Bound'])\n",
    "        dmgs_l.append(d_end_rp * damage_l_end)\n",
    "        dmgs_u.append(d_end_rp * damage_u_end)\n",
    "\n",
    "        dmgs.append((sum(dmgs_l), sum(dmgs_u)))\n",
    "    \n",
    "    ead_by_ts_by_basin[basin] = pd.DataFrame(dmgs, columns=['Total Damage Lower Bound', 'Total Damage Upper Bound'])\n",
    "    \n",
    " \n"
   ]
  },
  {
   "cell_type": "code",
   "execution_count": 14,
   "metadata": {},
   "outputs": [
    {
     "name": "stdout",
     "output_type": "stream",
     "text": [
      "Baseline expected annual damages for basin 2080428160:293,783,372.13 EUR\n",
      "Baseline expected annual damages for basin 2080428160:427,619,247.25 EUR\n"
     ]
    }
   ],
   "source": [
    "total_damage_lower_bound = ead_by_ts_by_basin[basins_list[0]]['Total Damage Lower Bound']\n",
    "print(f'Baseline expected annual damages for basin {basins_list[0]}:{sum(total_damage_lower_bound):,.2f} EUR')\n",
    "total_damage_upper_bound = ead_by_ts_by_basin[basins_list[0]]['Total Damage Upper Bound']\n",
    "print(f'Baseline expected annual damages for basin {basins_list[0]}:{sum(total_damage_upper_bound):,.2f} EUR')\n"
   ]
  },
  {
   "cell_type": "code",
   "execution_count": 15,
   "metadata": {},
   "outputs": [
    {
     "data": {
      "image/png": "[encoded data removed]",
      "text/plain": [
       "<Figure size 2000x4000 with 64 Axes>"
      ]
     },
     "metadata": {},
     "output_type": "display_data"
    }
   ],
   "source": [
    "# Calculate the number of rows and columns based on the number of basins\n",
    "num_basins = len(ead_by_ts_by_basin)\n",
    "num_cols = int(np.ceil(np.sqrt(num_basins)))\n",
    "num_rows = int(np.ceil(num_basins / num_cols))\n",
    "\n",
    "# Create subplots with shared x-axis, the calculated number of rows and columns\n",
    "fig, axs = plt.subplots(num_rows, num_cols, figsize=(20, 5*num_rows), sharex=True, sharey=True)\n",
    "\n",
    "# Flatten axs array for easy iteration\n",
    "axs = axs.flatten()\n",
    "\n",
    "max_value = max([ead_by_ts_by_basin[basin]['Total Damage Upper Bound'].max() for basin in ead_by_ts_by_basin.keys()])\n",
    "\n",
    "for i, basin in enumerate(ead_by_ts_by_basin.keys()):\n",
    "    axs[i].fill_between(ead_by_ts_by_basin[basin].index, ead_by_ts_by_basin[basin]['Total Damage Lower Bound'], ead_by_ts_by_basin[basin]['Total Damage Upper Bound'], alpha=0.3, color='red')\n",
    "    axs[i].set_title(f'Basin {basin}')\n",
    "    axs[i].set_ylim(0, max_value)  # Set y-axis lower limit to 0 and upper limit to max_value\n",
    "\n",
    "# Hide any unused axes\n",
    "for j in range(num_basins, num_rows * num_cols):\n",
    "    axs[j].axis('off')\n",
    "\n",
    "plt.tight_layout()\n",
    "plt.suptitle('Expected Annual Damages (EAD) over time for each basin', y=1.02)\n",
    "plt.show()\n"
   ]
  },
  {
   "cell_type": "code",
   "execution_count": 17,
   "metadata": {},
   "outputs": [],
   "source": [
    "with open(f'{interim_data_path}/ead_by_ts_by_basin_direct.pkl', 'wb') as f:\n",
    "    pickle.dump(ead_by_ts_by_basin, f)"
   ]
  },
  {
   "cell_type": "code",
   "execution_count": 18,
   "metadata": {},
   "outputs": [
    {
     "data": {
      "text/plain": [
       "{2080428160:      Total Damage Lower Bound  Total Damage Upper Bound\n",
       " 0                1.502038e+06              2.582543e+06\n",
       " 1                1.530172e+06              2.615569e+06\n",
       " 2                1.558306e+06              2.648595e+06\n",
       " 3                1.586440e+06              2.681621e+06\n",
       " 4                1.614575e+06              2.714648e+06\n",
       " ..                        ...                       ...\n",
       " 96               4.202918e+06              5.753060e+06\n",
       " 97               4.231052e+06              5.786087e+06\n",
       " 98               4.259186e+06              5.819113e+06\n",
       " 99               4.287320e+06              5.852139e+06\n",
       " 100              4.315455e+06              5.885165e+06\n",
       " \n",
       " [101 rows x 2 columns],\n",
       " 2080438400:      Total Damage Lower Bound  Total Damage Upper Bound\n",
       " 0                84698.452155              4.730290e+05\n",
       " 1                89691.240347              4.918783e+05\n",
       " 2                94684.028539              5.107276e+05\n",
       " 3                99676.816731              5.295769e+05\n",
       " 4               104669.604923              5.484263e+05\n",
       " ..                        ...                       ...\n",
       " 96              564006.118586              2.282564e+06\n",
       " 97              568998.906778              2.301413e+06\n",
       " 98              573991.694970              2.320262e+06\n",
       " 99              578984.483162              2.339112e+06\n",
       " 100             583977.271354              2.357961e+06\n",
       " \n",
       " [101 rows x 2 columns],\n",
       " 2080432510:      Total Damage Lower Bound  Total Damage Upper Bound\n",
       " 0               131806.375101             226664.123390\n",
       " 1               135905.726865             232453.362857\n",
       " 2               140005.078630             238242.602325\n",
       " 3               144104.430394             244031.841793\n",
       " 4               148203.782159             249821.081261\n",
       " ..                        ...                       ...\n",
       " 96              525344.144490             782431.112299\n",
       " 97              529443.496255             788220.351767\n",
       " 98              533542.848019             794009.591235\n",
       " 99              537642.199784             799798.830703\n",
       " 100             541741.551548             805588.070171\n",
       " \n",
       " [101 rows x 2 columns],\n",
       " 2080431110:      Total Damage Lower Bound  Total Damage Upper Bound\n",
       " 0                1.278946e+06              2.948407e+06\n",
       " 1                1.313381e+06              3.034857e+06\n",
       " 2                1.347815e+06              3.121308e+06\n",
       " 3                1.382249e+06              3.207758e+06\n",
       " 4                1.416684e+06              3.294208e+06\n",
       " ..                        ...                       ...\n",
       " 96               4.584647e+06              1.124763e+07\n",
       " 97               4.619082e+06              1.133408e+07\n",
       " 98               4.653516e+06              1.142053e+07\n",
       " 99               4.687951e+06              1.150698e+07\n",
       " 100              4.722385e+06              1.159343e+07\n",
       " \n",
       " [101 rows x 2 columns],\n",
       " 2080431750:      Total Damage Lower Bound  Total Damage Upper Bound\n",
       " 0                         0.0                       0.0\n",
       " 1                         0.0                       0.0\n",
       " 2                         0.0                       0.0\n",
       " 3                         0.0                       0.0\n",
       " 4                         0.0                       0.0\n",
       " ..                        ...                       ...\n",
       " 96                        0.0                       0.0\n",
       " 97                        0.0                       0.0\n",
       " 98                        0.0                       0.0\n",
       " 99                        0.0                       0.0\n",
       " 100                       0.0                       0.0\n",
       " \n",
       " [101 rows x 2 columns],\n",
       " 2080410760:      Total Damage Lower Bound  Total Damage Upper Bound\n",
       " 0                 1699.172319               3545.770646\n",
       " 1                 1808.485738               3773.881891\n",
       " 2                 1917.799157               4001.993136\n",
       " 3                 2027.112576               4230.104381\n",
       " 4                 2136.425996               4458.215625\n",
       " ..                        ...                       ...\n",
       " 96               12193.260560              25444.450155\n",
       " 97               12302.573980              25672.561400\n",
       " 98               12411.887399              25900.672645\n",
       " 99               12521.200818              26128.783890\n",
       " 100              12630.514237              26356.895135\n",
       " \n",
       " [101 rows x 2 columns],\n",
       " 2080436870:      Total Damage Lower Bound  Total Damage Upper Bound\n",
       " 0                4.665165e+05              1.255881e+06\n",
       " 1                4.793351e+05              1.277421e+06\n",
       " 2                4.921537e+05              1.298961e+06\n",
       " 3                5.049723e+05              1.320501e+06\n",
       " 4                5.177910e+05              1.342041e+06\n",
       " ..                        ...                       ...\n",
       " 96               1.697104e+06              3.323717e+06\n",
       " 97               1.709922e+06              3.345257e+06\n",
       " 98               1.722741e+06              3.366797e+06\n",
       " 99               1.735560e+06              3.388337e+06\n",
       " 100              1.748378e+06              3.409877e+06\n",
       " \n",
       " [101 rows x 2 columns],\n",
       " 2080421770:      Total Damage Lower Bound  Total Damage Upper Bound\n",
       " 0                6.853718e+05              1.416154e+06\n",
       " 1                7.102573e+05              1.482627e+06\n",
       " 2                7.351428e+05              1.549099e+06\n",
       " 3                7.600283e+05              1.615572e+06\n",
       " 4                7.849138e+05              1.682045e+06\n",
       " ..                        ...                       ...\n",
       " 96               3.074381e+06              7.797539e+06\n",
       " 97               3.099266e+06              7.864012e+06\n",
       " 98               3.124152e+06              7.930485e+06\n",
       " 99               3.149037e+06              7.996958e+06\n",
       " 100              3.173923e+06              8.063430e+06\n",
       " \n",
       " [101 rows x 2 columns],\n",
       " 2080438410:      Total Damage Lower Bound  Total Damage Upper Bound\n",
       " 0                21369.555681             119672.927577\n",
       " 1                21838.884311             121887.469972\n",
       " 2                22308.212941             124102.012367\n",
       " 3                22777.541571             126316.554762\n",
       " 4                23246.870201             128531.097157\n",
       " ..                        ...                       ...\n",
       " 96               66425.104162             332268.997497\n",
       " 97               66894.432792             334483.539892\n",
       " 98               67363.761422             336698.082287\n",
       " 99               67833.090052             338912.624682\n",
       " 100              68302.418682             341127.167077\n",
       " \n",
       " [101 rows x 2 columns],\n",
       " 2080446220:      Total Damage Lower Bound  Total Damage Upper Bound\n",
       " 0               296306.435324              8.549655e+05\n",
       " 1               301633.289506              8.700431e+05\n",
       " 2               306960.143687              8.851206e+05\n",
       " 3               312286.997868              9.001982e+05\n",
       " 4               317613.852050              9.152758e+05\n",
       " ..                        ...                       ...\n",
       " 96              807684.436742              2.302412e+06\n",
       " 97              813011.290924              2.317490e+06\n",
       " 98              818338.145105              2.332567e+06\n",
       " 99              823664.999286              2.347645e+06\n",
       " 100             828991.853468              2.362722e+06\n",
       " \n",
       " [101 rows x 2 columns],\n",
       " 2080420240:      Total Damage Lower Bound  Total Damage Upper Bound\n",
       " 0                6.028288e+05              1.561695e+06\n",
       " 1                6.405145e+05              1.658000e+06\n",
       " 2                6.782002e+05              1.754305e+06\n",
       " 3                7.158859e+05              1.850610e+06\n",
       " 4                7.535716e+05              1.946915e+06\n",
       " ..                        ...                       ...\n",
       " 96               4.220654e+06              1.080699e+07\n",
       " 97               4.258340e+06              1.090330e+07\n",
       " 98               4.296026e+06              1.099960e+07\n",
       " 99               4.333711e+06              1.109591e+07\n",
       " 100              4.371397e+06              1.119221e+07\n",
       " \n",
       " [101 rows x 2 columns],\n",
       " 2080432400:      Total Damage Lower Bound  Total Damage Upper Bound\n",
       " 0                 9467.586736              21823.840158\n",
       " 1                 9554.202279              21938.487232\n",
       " 2                 9640.817822              22053.134306\n",
       " 3                 9727.433365              22167.781379\n",
       " 4                 9814.048908              22282.428453\n",
       " ..                        ...                       ...\n",
       " 96               17782.678869              32829.959243\n",
       " 97               17869.294412              32944.606317\n",
       " 98               17955.909955              33059.253391\n",
       " 99               18042.525498              33173.900465\n",
       " 100              18129.141041              33288.547539\n",
       " \n",
       " [101 rows x 2 columns],\n",
       " 2080418720:      Total Damage Lower Bound  Total Damage Upper Bound\n",
       " 0                 3431.551637              20517.552003\n",
       " 1                 3652.314792              21837.514515\n",
       " 2                 3873.077948              23157.477027\n",
       " 3                 4093.841103              24477.439539\n",
       " 4                 4314.604258              25797.402051\n",
       " ..                        ...                       ...\n",
       " 96               24624.814547             147233.953172\n",
       " 97               24845.577702             148553.915684\n",
       " 98               25066.340857             149873.878196\n",
       " 99               25287.104013             151193.840708\n",
       " 100              25507.867168             152513.803221\n",
       " \n",
       " [101 rows x 2 columns],\n",
       " 2080430240:      Total Damage Lower Bound  Total Damage Upper Bound\n",
       " 0                8.237416e+05              3.021176e+06\n",
       " 1                8.523377e+05              3.075907e+06\n",
       " 2                8.809338e+05              3.130638e+06\n",
       " 3                9.095299e+05              3.185369e+06\n",
       " 4                9.381260e+05              3.240100e+06\n",
       " ..                        ...                       ...\n",
       " 96               3.568967e+06              8.275353e+06\n",
       " 97               3.597563e+06              8.330084e+06\n",
       " 98               3.626159e+06              8.384815e+06\n",
       " 99               3.654755e+06              8.439546e+06\n",
       " 100              3.683351e+06              8.494277e+06\n",
       " \n",
       " [101 rows x 2 columns],\n",
       " 2080410660:      Total Damage Lower Bound  Total Damage Upper Bound\n",
       " 0                26810.198148              27557.602812\n",
       " 1                28534.987562              29330.475259\n",
       " 2                30259.776977              31103.347707\n",
       " 3                31984.566391              32876.220155\n",
       " 4                33709.355805              34649.092602\n",
       " ..                        ...                       ...\n",
       " 96              192389.981912             197753.357778\n",
       " 97              194114.771326             199526.230226\n",
       " 98              195839.560740             201299.102673\n",
       " 99              197564.350154             203071.975121\n",
       " 100             199289.139568             204844.847568\n",
       " \n",
       " [101 rows x 2 columns],\n",
       " 2080434470:      Total Damage Lower Bound  Total Damage Upper Bound\n",
       " 0                3.935749e+05              1.325211e+06\n",
       " 1                4.128843e+05              1.392851e+06\n",
       " 2                4.321937e+05              1.460491e+06\n",
       " 3                4.515032e+05              1.528132e+06\n",
       " 4                4.708126e+05              1.595772e+06\n",
       " ..                        ...                       ...\n",
       " 96               2.247281e+06              7.818695e+06\n",
       " 97               2.266591e+06              7.886336e+06\n",
       " 98               2.285900e+06              7.953976e+06\n",
       " 99               2.305210e+06              8.021617e+06\n",
       " 100              2.324519e+06              8.089257e+06\n",
       " \n",
       " [101 rows x 2 columns],\n",
       " 2080418600:      Total Damage Lower Bound  Total Damage Upper Bound\n",
       " 0                1.326361e+06              3.121557e+06\n",
       " 1                1.345423e+06              3.151061e+06\n",
       " 2                1.364485e+06              3.180565e+06\n",
       " 3                1.383547e+06              3.210068e+06\n",
       " 4                1.402609e+06              3.239572e+06\n",
       " ..                        ...                       ...\n",
       " 96               3.156297e+06              5.953917e+06\n",
       " 97               3.175359e+06              5.983420e+06\n",
       " 98               3.194421e+06              6.012924e+06\n",
       " 99               3.213483e+06              6.042428e+06\n",
       " 100              3.232544e+06              6.071932e+06\n",
       " \n",
       " [101 rows x 2 columns],\n",
       " 2080433960:      Total Damage Lower Bound  Total Damage Upper Bound\n",
       " 0                         0.0                       0.0\n",
       " 1                         0.0                       0.0\n",
       " 2                         0.0                       0.0\n",
       " 3                         0.0                       0.0\n",
       " 4                         0.0                       0.0\n",
       " ..                        ...                       ...\n",
       " 96                        0.0                       0.0\n",
       " 97                        0.0                       0.0\n",
       " 98                        0.0                       0.0\n",
       " 99                        0.0                       0.0\n",
       " 100                       0.0                       0.0\n",
       " \n",
       " [101 rows x 2 columns],\n",
       " 2080410540:      Total Damage Lower Bound  Total Damage Upper Bound\n",
       " 0                60499.138358             123275.593610\n",
       " 1                63499.939609             130162.302454\n",
       " 2                66500.740860             137049.011297\n",
       " 3                69501.542111             143935.720141\n",
       " 4                72502.343361             150822.428985\n",
       " ..                        ...                       ...\n",
       " 96              348576.058441             784399.642620\n",
       " 97              351576.859692             791286.351464\n",
       " 98              354577.660943             798173.060308\n",
       " 99              357578.462194             805059.769152\n",
       " 100             360579.263444             811946.477996\n",
       " \n",
       " [101 rows x 2 columns],\n",
       " 2080431660:      Total Damage Lower Bound  Total Damage Upper Bound\n",
       " 0                 1393.366611               1698.724553\n",
       " 1                 1483.006530               1808.009166\n",
       " 2                 1572.646448               1917.293779\n",
       " 3                 1662.286367               2026.578391\n",
       " 4                 1751.926286               2135.863004\n",
       " ..                        ...                       ...\n",
       " 96                9998.798802              12190.047391\n",
       " 97               10088.438720              12299.332004\n",
       " 98               10178.078639              12408.616617\n",
       " 99               10267.718558              12517.901230\n",
       " 100              10357.358476              12627.185842\n",
       " \n",
       " [101 rows x 2 columns],\n",
       " 2080421680:      Total Damage Lower Bound  Total Damage Upper Bound\n",
       " 0                6.585630e+05              1.471098e+06\n",
       " 1                6.888909e+05              1.539381e+06\n",
       " 2                7.192189e+05              1.607664e+06\n",
       " 3                7.495468e+05              1.675947e+06\n",
       " 4                7.798747e+05              1.744230e+06\n",
       " ..                        ...                       ...\n",
       " 96               3.570045e+06              8.026273e+06\n",
       " 97               3.600373e+06              8.094556e+06\n",
       " 98               3.630701e+06              8.162839e+06\n",
       " 99               3.661029e+06              8.231122e+06\n",
       " 100              3.691357e+06              8.299406e+06\n",
       " \n",
       " [101 rows x 2 columns],\n",
       " 2080428080:      Total Damage Lower Bound  Total Damage Upper Bound\n",
       " 0                         0.0                       0.0\n",
       " 1                         0.0                       0.0\n",
       " 2                         0.0                       0.0\n",
       " 3                         0.0                       0.0\n",
       " 4                         0.0                       0.0\n",
       " ..                        ...                       ...\n",
       " 96                        0.0                       0.0\n",
       " 97                        0.0                       0.0\n",
       " 98                        0.0                       0.0\n",
       " 99                        0.0                       0.0\n",
       " 100                       0.0                       0.0\n",
       " \n",
       " [101 rows x 2 columns],\n",
       " 2080436660:      Total Damage Lower Bound  Total Damage Upper Bound\n",
       " 0                         0.0                       0.0\n",
       " 1                         0.0                       0.0\n",
       " 2                         0.0                       0.0\n",
       " 3                         0.0                       0.0\n",
       " 4                         0.0                       0.0\n",
       " ..                        ...                       ...\n",
       " 96                        0.0                       0.0\n",
       " 97                        0.0                       0.0\n",
       " 98                        0.0                       0.0\n",
       " 99                        0.0                       0.0\n",
       " 100                       0.0                       0.0\n",
       " \n",
       " [101 rows x 2 columns],\n",
       " 2080410170:      Total Damage Lower Bound  Total Damage Upper Bound\n",
       " 0                39156.749396              46537.183500\n",
       " 1                41566.798199              49372.666350\n",
       " 2                43976.847002              52208.149200\n",
       " 3                46386.895805              55043.632050\n",
       " 4                48796.944608              57879.114900\n",
       " ..                        ...                       ...\n",
       " 96              270521.434470             318743.537106\n",
       " 97              272931.483273             321579.019956\n",
       " 98              275341.532075             324414.502806\n",
       " 99              277751.580878             327249.985656\n",
       " 100             280161.629681             330085.468506\n",
       " \n",
       " [101 rows x 2 columns],\n",
       " 2080434490:      Total Damage Lower Bound  Total Damage Upper Bound\n",
       " 0                17225.582610              27906.084674\n",
       " 1                18295.574902              29499.560681\n",
       " 2                19365.567194              31093.036688\n",
       " 3                20435.559485              32686.512695\n",
       " 4                21505.551777              34279.988702\n",
       " ..                        ...                       ...\n",
       " 96              119944.842618             180879.781346\n",
       " 97              121014.834910             182473.257353\n",
       " 98              122084.827202             184066.733360\n",
       " 99              123154.819494             185660.209367\n",
       " 100             124224.811785             187253.685374\n",
       " \n",
       " [101 rows x 2 columns],\n",
       " 2080410430:      Total Damage Lower Bound  Total Damage Upper Bound\n",
       " 0                21529.810176              41893.903569\n",
       " 1                22229.059340              42868.066957\n",
       " 2                22928.308505              43842.230346\n",
       " 3                23627.557669              44816.393734\n",
       " 4                24326.806834              45790.557122\n",
       " ..                        ...                       ...\n",
       " 96               88657.729961             135413.588839\n",
       " 97               89356.979125             136387.752227\n",
       " 98               90056.228290             137361.915616\n",
       " 99               90755.477454             138336.079004\n",
       " 100              91454.726619             139310.242392\n",
       " \n",
       " [101 rows x 2 columns],\n",
       " 2080418880:      Total Damage Lower Bound  Total Damage Upper Bound\n",
       " 0                33410.081753              53265.264009\n",
       " 1                34214.628664              55312.296253\n",
       " 2                35019.175575              57359.328497\n",
       " 3                35823.722486              59406.360741\n",
       " 4                36628.269397              61453.392985\n",
       " ..                        ...                       ...\n",
       " 96              110646.585195             249780.359434\n",
       " 97              111451.132106             251827.391678\n",
       " 98              112255.679017             253874.423922\n",
       " 99              113060.225928             255921.456166\n",
       " 100             113864.772839             257968.488410\n",
       " \n",
       " [101 rows x 2 columns],\n",
       " 2080441280:      Total Damage Lower Bound  Total Damage Upper Bound\n",
       " 0                9.920874e+06              2.328758e+07\n",
       " 1                1.012763e+07              2.379872e+07\n",
       " 2                1.033438e+07              2.430985e+07\n",
       " 3                1.054114e+07              2.482098e+07\n",
       " 4                1.074789e+07              2.533212e+07\n",
       " ..                        ...                       ...\n",
       " 96               2.976927e+07              7.235643e+07\n",
       " 97               2.997602e+07              7.286756e+07\n",
       " 98               3.018278e+07              7.337869e+07\n",
       " 99               3.038953e+07              7.388983e+07\n",
       " 100              3.059628e+07              7.440096e+07\n",
       " \n",
       " [101 rows x 2 columns],\n",
       " 2080434630:      Total Damage Lower Bound  Total Damage Upper Bound\n",
       " 0                1.776081e+06              3.487660e+06\n",
       " 1                1.849828e+06              3.618918e+06\n",
       " 2                1.923575e+06              3.750176e+06\n",
       " 3                1.997321e+06              3.881434e+06\n",
       " 4                2.071068e+06              4.012692e+06\n",
       " ..                        ...                       ...\n",
       " 96               8.855757e+06              1.608842e+07\n",
       " 97               8.929504e+06              1.621968e+07\n",
       " 98               9.003251e+06              1.635094e+07\n",
       " 99               9.076997e+06              1.648220e+07\n",
       " 100              9.150744e+06              1.661345e+07\n",
       " \n",
       " [101 rows x 2 columns],\n",
       " 2080416200:      Total Damage Lower Bound  Total Damage Upper Bound\n",
       " 0                 4834.127999               6377.627871\n",
       " 1                 5145.123567               6787.921930\n",
       " 2                 5456.119135               7198.215990\n",
       " 3                 5767.114703               7608.510050\n",
       " 4                 6078.110271               8018.804109\n",
       " ..                        ...                       ...\n",
       " 96               34689.702520              45765.857601\n",
       " 97               35000.698088              46176.151660\n",
       " 98               35311.693656              46586.445720\n",
       " 99               35622.689224              46996.739780\n",
       " 100              35933.684792              47407.033839\n",
       " \n",
       " [101 rows x 2 columns],\n",
       " 2080418890:      Total Damage Lower Bound  Total Damage Upper Bound\n",
       " 0               112645.677226              4.422787e+05\n",
       " 1               119610.977446              4.689752e+05\n",
       " 2               126576.277667              4.956717e+05\n",
       " 3               133541.577887              5.223683e+05\n",
       " 4               140506.878108              5.490648e+05\n",
       " ..                        ...                       ...\n",
       " 96              781314.498396              3.005146e+06\n",
       " 97              788279.798617              3.031843e+06\n",
       " 98              795245.098837              3.058539e+06\n",
       " 99              802210.399058              3.085236e+06\n",
       " 100             809175.699278              3.111932e+06\n",
       " \n",
       " [101 rows x 2 columns],\n",
       " 2080429770:      Total Damage Lower Bound  Total Damage Upper Bound\n",
       " 0                1.804489e+06              5.179193e+06\n",
       " 1                1.855382e+06              5.283925e+06\n",
       " 2                1.906274e+06              5.388657e+06\n",
       " 3                1.957167e+06              5.493389e+06\n",
       " 4                2.008059e+06              5.598121e+06\n",
       " ..                        ...                       ...\n",
       " 96               6.690176e+06              1.523348e+07\n",
       " 97               6.741069e+06              1.533821e+07\n",
       " 98               6.791961e+06              1.544295e+07\n",
       " 99               6.842854e+06              1.554768e+07\n",
       " 100              6.893746e+06              1.565241e+07\n",
       " \n",
       " [101 rows x 2 columns],\n",
       " 2080433740:      Total Damage Lower Bound  Total Damage Upper Bound\n",
       " 0                         0.0                       0.0\n",
       " 1                         0.0                       0.0\n",
       " 2                         0.0                       0.0\n",
       " 3                         0.0                       0.0\n",
       " 4                         0.0                       0.0\n",
       " ..                        ...                       ...\n",
       " 96                        0.0                       0.0\n",
       " 97                        0.0                       0.0\n",
       " 98                        0.0                       0.0\n",
       " 99                        0.0                       0.0\n",
       " 100                       0.0                       0.0\n",
       " \n",
       " [101 rows x 2 columns],\n",
       " 2080448120:      Total Damage Lower Bound  Total Damage Upper Bound\n",
       " 0                 6862.186205              60840.445404\n",
       " 1                 7187.994765              61803.383267\n",
       " 2                 7513.803325              62766.321131\n",
       " 3                 7839.611886              63729.258994\n",
       " 4                 8165.420446              64692.196858\n",
       " ..                        ...                       ...\n",
       " 96               38139.807978             153282.480301\n",
       " 97               38465.616539             154245.418164\n",
       " 98               38791.425099             155208.356028\n",
       " 99               39117.233659             156171.293891\n",
       " 100              39443.042219             157134.231755\n",
       " \n",
       " [101 rows x 2 columns],\n",
       " 2080416210:      Total Damage Lower Bound  Total Damage Upper Bound\n",
       " 0                1.899032e+06              4.767328e+06\n",
       " 1                1.970567e+06              4.932505e+06\n",
       " 2                2.042103e+06              5.097682e+06\n",
       " 3                2.113639e+06              5.262858e+06\n",
       " 4                2.185174e+06              5.428035e+06\n",
       " ..                        ...                       ...\n",
       " 96               8.766449e+06              2.062428e+07\n",
       " 97               8.837985e+06              2.078946e+07\n",
       " 98               8.909520e+06              2.095463e+07\n",
       " 99               8.981056e+06              2.111981e+07\n",
       " 100              9.052591e+06              2.128499e+07\n",
       " \n",
       " [101 rows x 2 columns],\n",
       " 2080428500:      Total Damage Lower Bound  Total Damage Upper Bound\n",
       " 0                 2353.386993              87651.427115\n",
       " 1                 2504.788222              93290.335592\n",
       " 2                 2656.189452              98929.244070\n",
       " 3                 2807.590682             104568.152548\n",
       " 4                 2958.991912             110207.061025\n",
       " ..                        ...                       ...\n",
       " 96               16887.905059             628986.640975\n",
       " 97               17039.306288             634625.549452\n",
       " 98               17190.707518             640264.457930\n",
       " 99               17342.108748             645903.366408\n",
       " 100              17493.509978             651542.274885\n",
       " \n",
       " [101 rows x 2 columns],\n",
       " 2080438230:      Total Damage Lower Bound  Total Damage Upper Bound\n",
       " 0                14249.483997              52590.361562\n",
       " 1                15146.499462              54831.091641\n",
       " 2                16043.514928              57071.821720\n",
       " 3                16940.530393              59312.551799\n",
       " 4                17837.545859              61553.281879\n",
       " ..                        ...                       ...\n",
       " 96              100362.968692             267700.449172\n",
       " 97              101259.984158             269941.179251\n",
       " 98              102156.999623             272181.909330\n",
       " 99              103054.015089             274422.639410\n",
       " 100             103951.030555             276663.369489\n",
       " \n",
       " [101 rows x 2 columns],\n",
       " 2080451930:      Total Damage Lower Bound  Total Damage Upper Bound\n",
       " 0                 5678.954120              32481.656756\n",
       " 1                 5996.790596              34273.686913\n",
       " 2                 6314.627073              36065.717069\n",
       " 3                 6632.463549              37857.747225\n",
       " 4                 6950.300026              39649.777382\n",
       " ..                        ...                       ...\n",
       " 96               36191.255856             204516.551767\n",
       " 97               36509.092332             206308.581923\n",
       " 98               36826.928809             208100.612079\n",
       " 99               37144.765285             209892.642236\n",
       " 100              37462.601761             211684.672392\n",
       " \n",
       " [101 rows x 2 columns],\n",
       " 2080435040:      Total Damage Lower Bound  Total Damage Upper Bound\n",
       " 0               121873.337501              2.270912e+05\n",
       " 1               129319.463099              2.404524e+05\n",
       " 2               136765.588697              2.538136e+05\n",
       " 3               144211.714295              2.671749e+05\n",
       " 4               151657.839893              2.805361e+05\n",
       " ..                        ...                       ...\n",
       " 96              836701.394889              1.509768e+06\n",
       " 97              844147.520486              1.523130e+06\n",
       " 98              851593.646084              1.536491e+06\n",
       " 99              859039.771682              1.549852e+06\n",
       " 100             866485.897280              1.563213e+06\n",
       " \n",
       " [101 rows x 2 columns],\n",
       " 2080438240:      Total Damage Lower Bound  Total Damage Upper Bound\n",
       " 0                7.317539e+05              2.384062e+06\n",
       " 1                7.554585e+05              2.426944e+06\n",
       " 2                7.791631e+05              2.469827e+06\n",
       " 3                8.028677e+05              2.512709e+06\n",
       " 4                8.265722e+05              2.555591e+06\n",
       " ..                        ...                       ...\n",
       " 96               3.007395e+06              6.500738e+06\n",
       " 97               3.031099e+06              6.543620e+06\n",
       " 98               3.054804e+06              6.586503e+06\n",
       " 99               3.078509e+06              6.629385e+06\n",
       " 100              3.102213e+06              6.672267e+06\n",
       " \n",
       " [101 rows x 2 columns],\n",
       " 2080447840:      Total Damage Lower Bound  Total Damage Upper Bound\n",
       " 0                1.011817e+07              2.296015e+07\n",
       " 1                1.025288e+07              2.328322e+07\n",
       " 2                1.038759e+07              2.360628e+07\n",
       " 3                1.052229e+07              2.392934e+07\n",
       " 4                1.065700e+07              2.425241e+07\n",
       " ..                        ...                       ...\n",
       " 96               2.305016e+07              5.397425e+07\n",
       " 97               2.318487e+07              5.429731e+07\n",
       " 98               2.331958e+07              5.462038e+07\n",
       " 99               2.345429e+07              5.494344e+07\n",
       " 100              2.358899e+07              5.526651e+07\n",
       " \n",
       " [101 rows x 2 columns],\n",
       " 2080447970:      Total Damage Lower Bound  Total Damage Upper Bound\n",
       " 0                17420.991630              78272.094756\n",
       " 1                17711.155808              80140.158819\n",
       " 2                18001.319986              82008.222882\n",
       " 3                18291.484164              83876.286946\n",
       " 4                18581.648342              85744.351009\n",
       " ..                        ...                       ...\n",
       " 96               45276.752719             257606.244834\n",
       " 97               45566.916897             259474.308897\n",
       " 98               45857.081075             261342.372961\n",
       " 99               46147.245253             263210.437024\n",
       " 100              46437.409431             265078.501087\n",
       " \n",
       " [101 rows x 2 columns],\n",
       " 2080429540:      Total Damage Lower Bound  Total Damage Upper Bound\n",
       " 0                 8464.022794              20555.686747\n",
       " 1                 8852.035954              21038.988610\n",
       " 2                 9240.049113              21522.290473\n",
       " 3                 9628.062273              22005.592336\n",
       " 4                10016.075433              22488.894199\n",
       " ..                        ...                       ...\n",
       " 96               45713.286143              66952.665578\n",
       " 97               46101.299303              67435.967441\n",
       " 98               46489.312462              67919.269304\n",
       " 99               46877.325622              68402.571167\n",
       " 100              47265.338782              68885.873030\n",
       " \n",
       " [101 rows x 2 columns],\n",
       " 2080429670:      Total Damage Lower Bound  Total Damage Upper Bound\n",
       " 0                         0.0                       0.0\n",
       " 1                         0.0                       0.0\n",
       " 2                         0.0                       0.0\n",
       " 3                         0.0                       0.0\n",
       " 4                         0.0                       0.0\n",
       " ..                        ...                       ...\n",
       " 96                        0.0                       0.0\n",
       " 97                        0.0                       0.0\n",
       " 98                        0.0                       0.0\n",
       " 99                        0.0                       0.0\n",
       " 100                       0.0                       0.0\n",
       " \n",
       " [101 rows x 2 columns],\n",
       " 2080434150:      Total Damage Lower Bound  Total Damage Upper Bound\n",
       " 0                         0.0                       0.0\n",
       " 1                         0.0                       0.0\n",
       " 2                         0.0                       0.0\n",
       " 3                         0.0                       0.0\n",
       " 4                         0.0                       0.0\n",
       " ..                        ...                       ...\n",
       " 96                        0.0                       0.0\n",
       " 97                        0.0                       0.0\n",
       " 98                        0.0                       0.0\n",
       " 99                        0.0                       0.0\n",
       " 100                       0.0                       0.0\n",
       " \n",
       " [101 rows x 2 columns],\n",
       " 2080434280:      Total Damage Lower Bound  Total Damage Upper Bound\n",
       " 0                77917.819241              1.970804e+05\n",
       " 1                80680.479904              2.051234e+05\n",
       " 2                83443.140566              2.131665e+05\n",
       " 3                86205.801228              2.212095e+05\n",
       " 4                88968.461890              2.292526e+05\n",
       " ..                        ...                       ...\n",
       " 96              343133.242804              9.692122e+05\n",
       " 97              345895.903466              9.772552e+05\n",
       " 98              348658.564128              9.852983e+05\n",
       " 99              351421.224790              9.933413e+05\n",
       " 100             354183.885452              1.001384e+06\n",
       " \n",
       " [101 rows x 2 columns],\n",
       " 2080439400:      Total Damage Lower Bound  Total Damage Upper Bound\n",
       " 0                 6853.117812             109295.591824\n",
       " 1                 7287.932122             113292.090477\n",
       " 2                 7722.746433             117288.589130\n",
       " 3                 8157.560743             121285.087783\n",
       " 4                 8592.375053             125281.586436\n",
       " ..                        ...                       ...\n",
       " 96               48595.291589             492959.462516\n",
       " 97               49030.105899             496955.961169\n",
       " 98               49464.920209             500952.459822\n",
       " 99               49899.734519             504948.958475\n",
       " 100              50334.548829             508945.457128\n",
       " \n",
       " [101 rows x 2 columns],\n",
       " 2080411370:      Total Damage Lower Bound  Total Damage Upper Bound\n",
       " 0                5.389126e+05              1.587701e+06\n",
       " 1                5.628139e+05              1.663365e+06\n",
       " 2                5.867152e+05              1.739028e+06\n",
       " 3                6.106165e+05              1.814692e+06\n",
       " 4                6.345177e+05              1.890355e+06\n",
       " ..                        ...                       ...\n",
       " 96               2.833436e+06              8.851387e+06\n",
       " 97               2.857337e+06              8.927050e+06\n",
       " 98               2.881238e+06              9.002713e+06\n",
       " 99               2.905140e+06              9.078377e+06\n",
       " 100              2.929041e+06              9.154040e+06\n",
       " \n",
       " [101 rows x 2 columns],\n",
       " 2080419180:      Total Damage Lower Bound  Total Damage Upper Bound\n",
       " 0                1.933862e+06              3.527140e+06\n",
       " 1                1.994773e+06              3.619149e+06\n",
       " 2                2.055683e+06              3.711159e+06\n",
       " 3                2.116593e+06              3.803169e+06\n",
       " 4                2.177503e+06              3.895179e+06\n",
       " ..                        ...                       ...\n",
       " 96               7.781248e+06              1.236009e+07\n",
       " 97               7.842159e+06              1.245209e+07\n",
       " 98               7.903069e+06              1.254410e+07\n",
       " 99               7.963979e+06              1.263611e+07\n",
       " 100              8.024890e+06              1.272812e+07\n",
       " \n",
       " [101 rows x 2 columns],\n",
       " 2080437100:      Total Damage Lower Bound  Total Damage Upper Bound\n",
       " 0                26087.719371              53710.677125\n",
       " 1                27370.699651              56141.756144\n",
       " 2                28653.679931              58572.835163\n",
       " 3                29936.660211              61003.914181\n",
       " 4                31219.640491              63434.993200\n",
       " ..                        ...                       ...\n",
       " 96              149253.826242             287094.262932\n",
       " 97              150536.806521             289525.341951\n",
       " 98              151819.786801             291956.420970\n",
       " 99              153102.767081             294387.499989\n",
       " 100             154385.747361             296818.579008\n",
       " \n",
       " [101 rows x 2 columns],\n",
       " 2080437230:      Total Damage Lower Bound  Total Damage Upper Bound\n",
       " 0                13119.242057              15670.878785\n",
       " 1                13854.888683              16448.146473\n",
       " 2                14590.535309              17225.414160\n",
       " 3                15326.181934              18002.681848\n",
       " 4                16061.828560              18779.949535\n",
       " ..                        ...                       ...\n",
       " 96               83741.318124              90288.576790\n",
       " 97               84476.964750              91065.844477\n",
       " 98               85212.611376              91843.112165\n",
       " 99               85948.258001              92620.379852\n",
       " 100              86683.904627              93397.647540\n",
       " \n",
       " [101 rows x 2 columns],\n",
       " 2080430320:      Total Damage Lower Bound  Total Damage Upper Bound\n",
       " 0               110184.256009              2.395366e+05\n",
       " 1               114718.496073              2.498627e+05\n",
       " 2               119252.736137              2.601889e+05\n",
       " 3               123786.976201              2.705151e+05\n",
       " 4               128321.216265              2.808412e+05\n",
       " ..                        ...                       ...\n",
       " 96              545471.302142              1.230849e+06\n",
       " 97              550005.542206              1.241175e+06\n",
       " 98              554539.782269              1.251502e+06\n",
       " 99              559074.022333              1.261828e+06\n",
       " 100             563608.262397              1.272154e+06\n",
       " \n",
       " [101 rows x 2 columns],\n",
       " 2080433520:      Total Damage Lower Bound  Total Damage Upper Bound\n",
       " 0                         0.0                       0.0\n",
       " 1                         0.0                       0.0\n",
       " 2                         0.0                       0.0\n",
       " 3                         0.0                       0.0\n",
       " 4                         0.0                       0.0\n",
       " ..                        ...                       ...\n",
       " 96                        0.0                       0.0\n",
       " 97                        0.0                       0.0\n",
       " 98                        0.0                       0.0\n",
       " 99                        0.0                       0.0\n",
       " 100                       0.0                       0.0\n",
       " \n",
       " [101 rows x 2 columns],\n",
       " 2080439410:      Total Damage Lower Bound  Total Damage Upper Bound\n",
       " 0                1.070889e+07              1.970725e+07\n",
       " 1                1.093219e+07              2.011718e+07\n",
       " 2                1.115549e+07              2.052710e+07\n",
       " 3                1.137879e+07              2.093703e+07\n",
       " 4                1.160209e+07              2.134695e+07\n",
       " ..                        ...                       ...\n",
       " 96               3.214588e+07              5.906011e+07\n",
       " 97               3.236918e+07              5.947004e+07\n",
       " 98               3.259248e+07              5.987996e+07\n",
       " 99               3.281578e+07              6.028989e+07\n",
       " 100              3.303909e+07              6.069981e+07\n",
       " \n",
       " [101 rows x 2 columns],\n",
       " 2080446320:      Total Damage Lower Bound  Total Damage Upper Bound\n",
       " 0                1.010156e+07              1.012950e+07\n",
       " 1                1.024555e+07              1.027374e+07\n",
       " 2                1.038954e+07              1.041798e+07\n",
       " 3                1.053353e+07              1.056222e+07\n",
       " 4                1.067752e+07              1.070646e+07\n",
       " ..                        ...                       ...\n",
       " 96               2.392467e+07              2.397657e+07\n",
       " 97               2.406866e+07              2.412081e+07\n",
       " 98               2.421265e+07              2.426505e+07\n",
       " 99               2.435664e+07              2.440929e+07\n",
       " 100              2.450063e+07              2.455353e+07\n",
       " \n",
       " [101 rows x 2 columns],\n",
       " 2080420340:      Total Damage Lower Bound  Total Damage Upper Bound\n",
       " 0                4.804755e+05              8.741314e+05\n",
       " 1                5.049890e+05              9.078087e+05\n",
       " 2                5.295024e+05              9.414860e+05\n",
       " 3                5.540159e+05              9.751632e+05\n",
       " 4                5.785293e+05              1.008840e+06\n",
       " ..                        ...                       ...\n",
       " 96               2.833767e+06              4.107148e+06\n",
       " 97               2.858280e+06              4.140825e+06\n",
       " 98               2.882794e+06              4.174502e+06\n",
       " 99               2.907307e+06              4.208180e+06\n",
       " 100              2.931821e+06              4.241857e+06\n",
       " \n",
       " [101 rows x 2 columns],\n",
       " 2080429430:      Total Damage Lower Bound  Total Damage Upper Bound\n",
       " 0                2.916231e+05              1.254015e+06\n",
       " 1                3.050886e+05              1.302129e+06\n",
       " 2                3.185540e+05              1.350244e+06\n",
       " 3                3.320195e+05              1.398358e+06\n",
       " 4                3.454849e+05              1.446473e+06\n",
       " ..                        ...                       ...\n",
       " 96               1.584307e+06              5.873003e+06\n",
       " 97               1.597772e+06              5.921117e+06\n",
       " 98               1.611237e+06              5.969231e+06\n",
       " 99               1.624703e+06              6.017346e+06\n",
       " 100              1.638168e+06              6.065460e+06\n",
       " \n",
       " [101 rows x 2 columns],\n",
       " 2080435320:      Total Damage Lower Bound  Total Damage Upper Bound\n",
       " 0                83626.647349              3.711927e+05\n",
       " 1                87627.397750              3.860029e+05\n",
       " 2                91628.148152              4.008130e+05\n",
       " 3                95628.898553              4.156231e+05\n",
       " 4                99629.648955              4.304332e+05\n",
       " ..                        ...                       ...\n",
       " 96              467698.685888              1.792965e+06\n",
       " 97              471699.436289              1.807775e+06\n",
       " 98              475700.186691              1.822585e+06\n",
       " 99              479700.937092              1.837396e+06\n",
       " 100             483701.687494              1.852206e+06\n",
       " \n",
       " [101 rows x 2 columns],\n",
       " 2080437370:      Total Damage Lower Bound  Total Damage Upper Bound\n",
       " 0                5.679287e+05              1.783223e+06\n",
       " 1                5.958630e+05              1.852734e+06\n",
       " 2                6.237972e+05              1.922245e+06\n",
       " 3                6.517315e+05              1.991756e+06\n",
       " 4                6.796658e+05              2.061267e+06\n",
       " ..                        ...                       ...\n",
       " 96               3.249621e+06              8.456286e+06\n",
       " 97               3.277555e+06              8.525797e+06\n",
       " 98               3.305489e+06              8.595308e+06\n",
       " 99               3.333424e+06              8.664819e+06\n",
       " 100              3.361358e+06              8.734330e+06\n",
       " \n",
       " [101 rows x 2 columns],\n",
       " 2080436860:      Total Damage Lower Bound  Total Damage Upper Bound\n",
       " 0                  506.217538                752.950154\n",
       " 1                  538.784199                801.389947\n",
       " 2                  571.350861                849.829740\n",
       " 3                  603.917522                898.269533\n",
       " 4                  636.484184                946.709326\n",
       " ..                        ...                       ...\n",
       " 96                3632.617050               5403.170302\n",
       " 97                3665.183712               5451.610095\n",
       " 98                3697.750373               5500.049889\n",
       " 99                3730.317035               5548.489682\n",
       " 100               3762.883696               5596.929475\n",
       " \n",
       " [101 rows x 2 columns],\n",
       " 2080419070:      Total Damage Lower Bound  Total Damage Upper Bound\n",
       " 0                 1564.891866               1624.400319\n",
       " 1                 1665.566576               1728.903406\n",
       " 2                 1766.241286               1833.406493\n",
       " 3                 1866.915996               1937.909580\n",
       " 4                 1967.590706               2042.412667\n",
       " ..                        ...                       ...\n",
       " 96               11229.664032              11656.696686\n",
       " 97               11330.338742              11761.199773\n",
       " 98               11431.013452              11865.702860\n",
       " 99               11531.688162              11970.205947\n",
       " 100              11632.362872              12074.709034\n",
       " \n",
       " [101 rows x 2 columns]}"
      ]
     },
     "execution_count": 18,
     "metadata": {},
     "output_type": "execute_result"
    }
   ],
   "source": [
    "ead_by_ts_by_basin"
   ]
  },
  {
   "cell_type": "code",
   "execution_count": null,
   "metadata": {},
   "outputs": [],
   "source": []
  }
 ],
 "metadata": {
  "kernelspec": {
   "display_name": "ci_adapt_env",
   "language": "python",
   "name": "python3"
  },
  "language_info": {
   "codemirror_mode": {
    "name": "ipython",
    "version": 3
   },
   "file_extension": ".py",
   "mimetype": "text/x-python",
   "name": "python",
   "nbconvert_exporter": "python",
   "pygments_lexer": "ipython3",
   "version": "3.12.2"
  }
 },
 "nbformat": 4,
 "nbformat_minor": 2
}
