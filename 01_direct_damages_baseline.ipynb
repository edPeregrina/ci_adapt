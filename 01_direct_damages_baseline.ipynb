{
 "cells": [
  {
   "cell_type": "markdown",
   "metadata": {},
   "source": [
    "This notebook calculates the direct damages to rail assets including climate change"
   ]
  },
  {
   "cell_type": "code",
   "execution_count": 1,
   "metadata": {},
   "outputs": [],
   "source": [
    "# Imports\n",
    "import configparser\n",
    "from pathlib import Path\n",
    "import pathlib\n",
    "from direct_damages import damagescanner_rail_track as ds\n",
    "import pandas as pd\n",
    "import geopandas as gpd\n",
    "import datetime\n",
    "from ci_adapt_utilities import *\n",
    "import pickle"
   ]
  },
  {
   "cell_type": "code",
   "execution_count": 2,
   "metadata": {},
   "outputs": [],
   "source": [
    "# Load configuration with ini file (created running config.py)\n",
    "config_file=r'C:\\repos\\ci_adapt\\config_ci_adapt.ini'\n",
    "config = configparser.ConfigParser()\n",
    "config.read(config_file)\n",
    "\n",
    "p = Path('..')\n",
    "hazard_type = config.get('DEFAULT', 'hazard_type')\n",
    "infra_type = config.get('DEFAULT', 'infra_type')\n",
    "country_code = config.get('DEFAULT', 'country_code')\n",
    "country_name = config.get('DEFAULT', 'country_name')\n",
    "hazard_data_subfolders = config.get('DEFAULT', 'hazard_data_subfolders')\n",
    "asset_data = config.get('DEFAULT', 'asset_data')\n",
    "vulnerability_data = config.get('DEFAULT', 'vulnerability_data')\n",
    "data_path = Path(pathlib.Path.home().parts[0]) / 'Data'\n",
    "interim_data_path = data_path / 'interim' / 'collected_flood_runs'"
   ]
  },
  {
   "cell_type": "code",
   "execution_count": 3,
   "metadata": {},
   "outputs": [
    {
     "name": "stdout",
     "output_type": "stream",
     "text": [
      "Found matching infrastructure curves for: rail\n"
     ]
    }
   ],
   "source": [
    "# Read vulnerability and maximum damage data from Nirandjan, S., et al. (2024)\n",
    "curve_types = {'rail': ['F8.1']}\n",
    "infra_curves, maxdams = ds.read_vul_maxdam(data_path, hazard_type, infra_type)\n",
    "max_damage_tables = pd.read_excel(data_path / vulnerability_data / 'Table_D3_Costs_V1.0.0.xlsx',sheet_name='Cost_Database',index_col=[0])\n",
    "print(f'Found matching infrastructure curves for: {infra_type}')"
   ]
  },
  {
   "cell_type": "code",
   "execution_count": 4,
   "metadata": {},
   "outputs": [
    {
     "name": "stdout",
     "output_type": "stream",
     "text": [
      "Found 12 hazard maps.\n"
     ]
    }
   ],
   "source": [
    "# Read hazard data (Rauthe M, et al. (2020): Climate impact analysis of the federal transport system in the context of floods: Final report of the key topic flood risks (SP-103) in topic area 1 of the BMVI expert network. 136 pages. DOI: 10.5675/ExpNRM2020.2020.04)\n",
    "hazard_data_list = ds.read_hazard_data(data_path, hazard_type, country=country_name, subfolders=hazard_data_subfolders)\n",
    "print(f'Found {len(hazard_data_list)} hazard maps.')"
   ]
  },
  {
   "cell_type": "code",
   "execution_count": 5,
   "metadata": {},
   "outputs": [
    {
     "name": "stdout",
     "output_type": "stream",
     "text": [
      "3530 assets loaded.\n"
     ]
    }
   ],
   "source": [
    "# Read exposure data (OSM, OpenStreetMap contributors (2024) / osm-flex)\n",
    "assets_path = data_path / asset_data\n",
    "assets = gpd.read_file(assets_path)\n",
    "assets = gpd.GeoDataFrame(assets).set_crs(4326).to_crs(3857)\n",
    "assets = assets.loc[assets.geometry.geom_type == 'LineString']\n",
    "assets = assets.rename(columns={'railway' : 'asset'})\n",
    "\n",
    "# #TODO: add reset index and test \n",
    "# # Drop passenger lines and light rails\n",
    "# assets = assets.loc[~(assets['railway:traffic_mode'] == 'passenger')]\n",
    "# assets = assets.loc[~(assets['asset'] == 'light_rail')]\n",
    "\n",
    "# # Drop bridges and tunnels\n",
    "# assets = assets.loc[~(assets['bridge'].isin(['yes']))]\n",
    "# assets = assets.loc[~(assets['tunnel'].isin(['yes']))]\n",
    "\n",
    "# Add buffer to assets to do area intersect and create dictionaries for quicker lookup\n",
    "buffered_assets = ds.buffer_assets(assets)\n",
    "geom_dict = assets['geometry'].to_dict()\n",
    "type_dict = assets['asset'].to_dict()\n",
    "\n",
    "print(f\"{len(assets)} assets loaded.\")"
   ]
  },
  {
   "cell_type": "code",
   "execution_count": 6,
   "metadata": {},
   "outputs": [
    {
     "name": "stdout",
     "output_type": "stream",
     "text": [
      "2024-05-02 09:10:35 - Reading hazard map 1 of 12: flood_DERP_RW_H_4326_2080411370\n",
      "Flood map path: C:\\Data\\Floods\\Germany\\fluvial_undefended\\raw_subsample\\validated_geometries\\flood_DERP_RW_H_4326_2080411370.geojson\n",
      "2024-05-02 09:10:38 - Coarse overlay of hazard map with assets...\n"
     ]
    },
    {
     "name": "stderr",
     "output_type": "stream",
     "text": [
      "100%|██████████| 19/19 [00:14<00:00,  1.30it/s]\n"
     ]
    },
    {
     "name": "stdout",
     "output_type": "stream",
     "text": [
      "2024-05-02 09:11:45 - Reading hazard map 2 of 12: flood_DERP_RW_H_4326_2080416200\n",
      "Flood map path: C:\\Data\\Floods\\Germany\\fluvial_undefended\\raw_subsample\\validated_geometries\\flood_DERP_RW_H_4326_2080416200.geojson\n",
      "2024-05-02 09:11:55 - Coarse overlay of hazard map with assets...\n"
     ]
    },
    {
     "name": "stderr",
     "output_type": "stream",
     "text": [
      "100%|██████████| 2/2 [00:00<00:00,  2.09it/s]\n"
     ]
    },
    {
     "name": "stdout",
     "output_type": "stream",
     "text": [
      "2024-05-02 09:13:34 - Reading hazard map 3 of 12: flood_DERP_RW_H_4326_2080416210\n",
      "Flood map path: C:\\Data\\Floods\\Germany\\fluvial_undefended\\raw_subsample\\validated_geometries\\flood_DERP_RW_H_4326_2080416210.geojson\n",
      "2024-05-02 09:13:42 - Coarse overlay of hazard map with assets...\n"
     ]
    },
    {
     "name": "stderr",
     "output_type": "stream",
     "text": [
      "100%|██████████| 24/24 [00:57<00:00,  2.41s/it]\n"
     ]
    },
    {
     "name": "stdout",
     "output_type": "stream",
     "text": [
      "2024-05-02 09:17:18 - Reading hazard map 4 of 12: flood_DERP_RW_H_4326_2080418880\n",
      "Flood map path: C:\\Data\\Floods\\Germany\\fluvial_undefended\\raw_subsample\\validated_geometries\\flood_DERP_RW_H_4326_2080418880.geojson\n",
      "2024-05-02 09:17:23 - Coarse overlay of hazard map with assets...\n"
     ]
    },
    {
     "name": "stderr",
     "output_type": "stream",
     "text": [
      "100%|██████████| 4/4 [00:00<00:00, 10.06it/s]\n"
     ]
    },
    {
     "name": "stdout",
     "output_type": "stream",
     "text": [
      "2024-05-02 09:17:40 - Reading hazard map 5 of 12: flood_DERP_RW_L_4326_2080411370\n",
      "Flood map path: C:\\Data\\Floods\\Germany\\fluvial_undefended\\raw_subsample\\validated_geometries\\flood_DERP_RW_L_4326_2080411370.geojson\n",
      "2024-05-02 09:17:43 - Coarse overlay of hazard map with assets...\n"
     ]
    },
    {
     "name": "stderr",
     "output_type": "stream",
     "text": [
      "100%|██████████| 100/100 [02:04<00:00,  1.24s/it]\n"
     ]
    },
    {
     "name": "stdout",
     "output_type": "stream",
     "text": [
      "2024-05-02 09:20:16 - Reading hazard map 6 of 12: flood_DERP_RW_L_4326_2080416200\n",
      "Flood map path: C:\\Data\\Floods\\Germany\\fluvial_undefended\\raw_subsample\\validated_geometries\\flood_DERP_RW_L_4326_2080416200.geojson\n",
      "2024-05-02 09:20:30 - Coarse overlay of hazard map with assets...\n"
     ]
    },
    {
     "name": "stderr",
     "output_type": "stream",
     "text": [
      "100%|██████████| 5/5 [00:04<00:00,  1.08it/s]\n"
     ]
    },
    {
     "name": "stdout",
     "output_type": "stream",
     "text": [
      "2024-05-02 09:23:11 - Reading hazard map 7 of 12: flood_DERP_RW_L_4326_2080416210\n",
      "Flood map path: C:\\Data\\Floods\\Germany\\fluvial_undefended\\raw_subsample\\validated_geometries\\flood_DERP_RW_L_4326_2080416210.geojson\n",
      "2024-05-02 09:23:19 - Coarse overlay of hazard map with assets...\n"
     ]
    },
    {
     "name": "stderr",
     "output_type": "stream",
     "text": [
      "100%|██████████| 155/155 [05:35<00:00,  2.16s/it]\n"
     ]
    },
    {
     "name": "stdout",
     "output_type": "stream",
     "text": [
      "2024-05-02 09:30:35 - Reading hazard map 8 of 12: flood_DERP_RW_L_4326_2080418880\n",
      "Flood map path: C:\\Data\\Floods\\Germany\\fluvial_undefended\\raw_subsample\\validated_geometries\\flood_DERP_RW_L_4326_2080418880.geojson\n",
      "2024-05-02 09:30:42 - Coarse overlay of hazard map with assets...\n"
     ]
    },
    {
     "name": "stderr",
     "output_type": "stream",
     "text": [
      "100%|██████████| 10/10 [00:03<00:00,  2.64it/s]\n"
     ]
    },
    {
     "name": "stdout",
     "output_type": "stream",
     "text": [
      "2024-05-02 09:31:44 - Reading hazard map 9 of 12: flood_DERP_RW_M_4326_2080411370\n",
      "Flood map path: C:\\Data\\Floods\\Germany\\fluvial_undefended\\raw_subsample\\validated_geometries\\flood_DERP_RW_M_4326_2080411370.geojson\n",
      "2024-05-02 09:31:48 - Coarse overlay of hazard map with assets...\n"
     ]
    },
    {
     "name": "stderr",
     "output_type": "stream",
     "text": [
      "100%|██████████| 43/43 [01:00<00:00,  1.40s/it]\n"
     ]
    },
    {
     "name": "stdout",
     "output_type": "stream",
     "text": [
      "2024-05-02 09:33:49 - Reading hazard map 10 of 12: flood_DERP_RW_M_4326_2080416200\n",
      "Flood map path: C:\\Data\\Floods\\Germany\\fluvial_undefended\\raw_subsample\\validated_geometries\\flood_DERP_RW_M_4326_2080416200.geojson\n",
      "2024-05-02 09:34:01 - Coarse overlay of hazard map with assets...\n"
     ]
    },
    {
     "name": "stderr",
     "output_type": "stream",
     "text": [
      "100%|██████████| 4/4 [00:01<00:00,  2.52it/s]\n"
     ]
    },
    {
     "name": "stdout",
     "output_type": "stream",
     "text": [
      "2024-05-02 09:35:56 - Reading hazard map 11 of 12: flood_DERP_RW_M_4326_2080416210\n",
      "Flood map path: C:\\Data\\Floods\\Germany\\fluvial_undefended\\raw_subsample\\validated_geometries\\flood_DERP_RW_M_4326_2080416210.geojson\n",
      "2024-05-02 09:36:04 - Coarse overlay of hazard map with assets...\n"
     ]
    },
    {
     "name": "stderr",
     "output_type": "stream",
     "text": [
      "100%|██████████| 94/94 [03:09<00:00,  2.02s/it]\n"
     ]
    },
    {
     "name": "stdout",
     "output_type": "stream",
     "text": [
      "2024-05-02 09:45:25 - Reading hazard map 12 of 12: flood_DERP_RW_M_4326_2080418880\n",
      "Flood map path: C:\\Data\\Floods\\Germany\\fluvial_undefended\\raw_subsample\\validated_geometries\\flood_DERP_RW_M_4326_2080418880.geojson\n",
      "2024-05-02 09:45:31 - Coarse overlay of hazard map with assets...\n"
     ]
    },
    {
     "name": "stderr",
     "output_type": "stream",
     "text": [
      "100%|██████████| 9/9 [00:00<00:00, 12.63it/s]\n"
     ]
    }
   ],
   "source": [
    "# Calculate direct damage by asset (Koks. E.E. (2022). DamageScanner: Python tool for natural hazard damage assessments. Zenodo. http://doi.org/10.5281/zenodo.2551015)\n",
    "# currently data with 3 baseline return periods: H=RP10, M=RP100, L=RP200\n",
    "# TODO: for DEXX_RP, return period should be input or taken from dictionary/file names\n",
    "# TODO: verify cost of damage and adaptation regarding double rail or single rail, divide /2 if double rail? \n",
    "collect_output={}\n",
    "for i, single_footprint in enumerate(hazard_data_list):\n",
    "    hazard_name = single_footprint.parts[-1].split('.')[0]\n",
    "    timestamp = datetime.datetime.now().strftime(\"%Y-%m-%d %H:%M:%S\")\n",
    "    print(f'{timestamp} - Reading hazard map {i+1} of {len(hazard_data_list)}: {hazard_name}')\n",
    "\n",
    "    try:\n",
    "        collect_output[hazard_name] = process_hazard_data(single_footprint, hazard_type, assets, interim_data_path, infra_curves, max_damage_tables, curve_types, infra_type, type_dict, geom_dict)\n",
    "    except Exception as e:\n",
    "        print(f'Error occurred in {hazard_name}: {str(e)}')\n",
    "        continue\n",
    "\n",
    "# save the data to pickle files\n",
    "collect_output_path = f'{interim_data_path}/sample_collected_run.pkl'\n",
    "if len(collect_output)>0:\n",
    "    with open(collect_output_path, 'wb') as f:\n",
    "        pickle.dump(collect_output, f)\n",
    "else: print('No output collected')"
   ]
  },
  {
   "cell_type": "code",
   "execution_count": 7,
   "metadata": {},
   "outputs": [],
   "source": [
    "# Save the data to csv files\n",
    "pd.DataFrame.from_dict(collect_output).to_csv(interim_data_path / 'sample_collected_run.csv')"
   ]
  },
  {
   "cell_type": "code",
   "execution_count": 8,
   "metadata": {},
   "outputs": [
    {
     "name": "stdout",
     "output_type": "stream",
     "text": [
      "Baseline expected annual damages: 5,080,960.58 to 12,431,021.26 EUR\n",
      "Expected annual damages without adaptation by year 100: 22,568,969.47 to 53,224,947.94 EUR\n"
     ]
    },
    {
     "data": {
      "image/png": "[encoded data removed]",
      "text/plain": [
       "<Figure size 640x480 with 1 Axes>"
      ]
     },
     "metadata": {},
     "output_type": "display_data"
    }
   ],
   "source": [
    "# Calculate the expected annual damages (EAD)\n",
    "summed_output = {}\n",
    "# Iterate over the items in the collect_output dictionary\n",
    "for hazard_map, asset_dict in collect_output.items():\n",
    "    # If the hazard_map and hazard_curve combination is not already in the summed_output dictionary, add it with the sum of the current lower and upper bounds\n",
    "    if hazard_map not in summed_output:\n",
    "        summed_output[hazard_map] = (sum(value[0] for value in asset_dict.values()), sum(value[1] for value in asset_dict.values()))\n",
    "    # If the hazard_map and hazard_curve combination is already in the summed_output dictionary, add the sum of the current lower and upper bounds to the existing ones\n",
    "    else:\n",
    "        summed_output[hazard_map][0] += sum(value[0] for value in asset_dict.values())\n",
    "        summed_output[hazard_map][1] += sum(value[1] for value in asset_dict.values())\n",
    "\n",
    "# Initialize a new dictionary to hold the aggregated values\n",
    "aggregated_output = {'_H_': [0, 0], '_M_': [0, 0], '_L_': [0, 0]}\n",
    "\n",
    "# Iterate over the items in the summed_output dictionary and group into return periods\n",
    "for hazard_map, (lower_bound, upper_bound) in summed_output.items():\n",
    "    # determine the category of the hazard map\n",
    "    if '_H_' in hazard_map: \n",
    "        category = '_H_'\n",
    "    elif '_M_' in hazard_map: \n",
    "        category = '_M_'\n",
    "    else: # '_L_' in hazard_map\n",
    "        category = '_L_' \n",
    "        \n",
    "    # Add the lower and upper bounds to the appropriate category\n",
    "    aggregated_output[category][0] += lower_bound\n",
    "    aggregated_output[category][1] += upper_bound\n",
    "\n",
    "# Create the DataFrame from the new dictionary\n",
    "aggregated_df = pd.DataFrame.from_dict(aggregated_output, orient='index', columns=['Total Damage Lower Bound', 'Total Damage Upper Bound'])\n",
    "\n",
    "\"\"\"\n",
    "Return period definitions:\n",
    "_H_=10-25y \n",
    "_M_=100y\n",
    "_L_=200y (or more, check report)\n",
    "\"\"\"\n",
    "return_period_dict = {'_H_': 10,'_M_': 100,'_L_': 200}\n",
    "increase_factor = {\n",
    "    '_H_': (1.2+9.0)/2,\n",
    "    '_M_': (1.2+9.0)/2,\n",
    "    '_L_': (1.2+9.0)/2 #average of the range (1.2 to 9.0) based on change since 1900\n",
    "}\n",
    "\n",
    "num_years = 100\n",
    "return_periods = calculate_dynamic_return_periods(return_period_dict, num_years, increase_factor)\n",
    "\n",
    "# Define dictionary to relate return periods to regions, in this case Rheinland Palatinate is used\n",
    "return_period_dict = {}\n",
    "return_period_dict['DERP'] = return_periods #TODO: make generic for other regions\n",
    "\n",
    "# Add the return period column to aggregated_df and sort by return period\n",
    "aggregated_df['Return Period'] = [return_period_dict['DERP'][index] for index in aggregated_df.index]\n",
    "aggregated_df = aggregated_df.sort_values('Return Period', ascending=True)\n",
    "\n",
    "# Calculate the probability of each return period \n",
    "aggregated_df['Probability'] = [[1 / x for x in i] for i in aggregated_df['Return Period']]\n",
    "probabilities = aggregated_df['Probability']\n",
    "dmgs = []\n",
    "\n",
    "# Calculate the expected annual damages for each time step using trapezoidal rule for integration\n",
    "for ts in range(len(probabilities.iloc[0])):    \n",
    "    dmgs_l = []\n",
    "    dmgs_u = []\n",
    "\n",
    "    for rp in range(len(probabilities)-1):\n",
    "        d_rp= probabilities.iloc[rp][ts] - probabilities.iloc[rp + 1][ts]\n",
    "        trap_damage_l = 0.5 * (aggregated_df['Total Damage Lower Bound'].iloc[rp] + aggregated_df['Total Damage Lower Bound'].iloc[rp + 1])\n",
    "        trap_damage_u = 0.5 * (aggregated_df['Total Damage Upper Bound'].iloc[rp] + aggregated_df['Total Damage Upper Bound'].iloc[rp + 1])\n",
    "        dmgs_l.append(d_rp * trap_damage_l)\n",
    "        dmgs_u.append(d_rp * trap_damage_u)\n",
    "    \n",
    "    # Add the portion of damages corresponding to the tails of the distribution\n",
    "    # Assumption - considers the damage for return periods higher than the highest return period the same as that of the highest return period\n",
    "    d0_rp = probabilities.iloc[-1][ts]\n",
    "    damage_l0 = max(aggregated_df['Total Damage Lower Bound'])\n",
    "    damage_u0 = max(aggregated_df['Total Damage Upper Bound'])\n",
    "    dmgs_l.append(d0_rp * damage_l0)\n",
    "    dmgs_u.append(d0_rp * damage_u0)\n",
    "\n",
    "    # Assumption - considers that no assets are damaged at a return period of 4 years or lower\n",
    "    d_end_rp = (1/4)-probabilities.iloc[0][ts]\n",
    "    damage_l_end = 0.5 * min(aggregated_df['Total Damage Lower Bound'])\n",
    "    damage_u_end = 0.5 * min(aggregated_df['Total Damage Upper Bound'])\n",
    "    dmgs_l.append(d_end_rp * damage_l_end)\n",
    "    dmgs_u.append(d_end_rp * damage_u_end)\n",
    "\n",
    "    dmgs.append((sum(dmgs_l), sum(dmgs_u)))\n",
    "\n",
    "ead_by_ts = pd.DataFrame(dmgs, columns=['Total Damage Lower Bound', 'Total Damage Upper Bound'])\n",
    "\n",
    "print(f'Baseline expected annual damages: {dmgs[0][0]:,.2f} to {dmgs[0][1]:,.2f} EUR')\n",
    "print(f'Expected annual damages without adaptation by year {num_years}: {dmgs[-1][0]:,.2f} to {dmgs[-1][1]:,.2f} EUR')\n",
    "\n",
    "ead_by_ts_plot(ead_by_ts)"
   ]
  },
  {
   "cell_type": "code",
   "execution_count": null,
   "metadata": {},
   "outputs": [],
   "source": []
  }
 ],
 "metadata": {
  "kernelspec": {
   "display_name": "ci_adapt_env",
   "language": "python",
   "name": "python3"
  },
  "language_info": {
   "codemirror_mode": {
    "name": "ipython",
    "version": 3
   },
   "file_extension": ".py",
   "mimetype": "text/x-python",
   "name": "python",
   "nbconvert_exporter": "python",
   "pygments_lexer": "ipython3",
   "version": "3.12.2"
  }
 },
 "nbformat": 4,
 "nbformat_minor": 2
}
