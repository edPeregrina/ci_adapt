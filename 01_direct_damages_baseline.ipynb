{
 "cells": [
  {
   "cell_type": "markdown",
   "metadata": {},
   "source": [
    "Direct damages calculation for CI Adapt"
   ]
  },
  {
   "cell_type": "code",
   "execution_count": null,
   "metadata": {},
   "outputs": [],
   "source": [
    "# Imports\n",
    "from direct_damages import damagescanner_rail_track as ds\n",
    "from ci_adapt_utilities import *"
   ]
  },
  {
   "cell_type": "markdown",
   "metadata": {},
   "source": [
    "Load default configuration and model parameters"
   ]
  },
  {
   "cell_type": "code",
   "execution_count": null,
   "metadata": {},
   "outputs": [],
   "source": [
    "# Load configuration with ini file (created running config.py)\n",
    "config_file=r'C:\\repos\\ci_adapt\\config_ci_adapt_test.ini'\n",
    "hazard_type, infra_type, _, country_name, _, _, vulnerability_data = load_config(config_file)"
   ]
  },
  {
   "cell_type": "code",
   "execution_count": null,
   "metadata": {},
   "outputs": [],
   "source": [
    "# Define paths\n",
    "data_path = Path(pathlib.Path(r'C:\\Users\\peregrin\\OneDrive - Stichting Deltares\\Documents\\PhD Daniel Shared\\Papers\\Paper 1 - Adaptation Framework\\Data\\test'))\n",
    "interim_data_path = data_path / 'interim' / 'collected_flood_runs'"
   ]
  },
  {
   "cell_type": "code",
   "execution_count": 30,
   "metadata": {},
   "outputs": [
    {
     "name": "stdout",
     "output_type": "stream",
     "text": [
      "675 assets loaded.\n"
     ]
    }
   ],
   "source": [
    "# Load asset data (OSM, 2024)\n",
    "assets, geom_dict, _, _, _, rp_spec_priority, _, _, _ = startup_ci_adapt(data_path, config_file)\n",
    "asset_options={'bridge_design_rp':'M',\n",
    "               'tunnel_design_rp':'M'}"
   ]
  },
  {
   "cell_type": "code",
   "execution_count": 31,
   "metadata": {},
   "outputs": [],
   "source": [
    "# Add buffer to assets to do area intersect and create dictionaries for quicker lookup\n",
    "buffered_assets = ds.buffer_assets(assets)\n",
    "type_dict = assets['asset'].to_dict()"
   ]
  },
  {
   "cell_type": "code",
   "execution_count": 32,
   "metadata": {},
   "outputs": [
    {
     "name": "stdout",
     "output_type": "stream",
     "text": [
      "Found matching infrastructure curves for: rail\n"
     ]
    }
   ],
   "source": [
    "# Read vulnerability and maximum damage data from Nirandjan, S., et al. (2024)\n",
    "curve_types = {'rail': ['F8.1']}\n",
    "infra_curves, maxdams = ds.read_vul_maxdam(data_path, hazard_type, infra_type)\n",
    "max_damage_tables = pd.read_excel(data_path / vulnerability_data / 'Table_D3_Costs_V1.1.0.xlsx',sheet_name='Cost_Database',index_col=[0])\n",
    "print(f'Found matching infrastructure curves for: {infra_type}')"
   ]
  },
  {
   "cell_type": "code",
   "execution_count": 33,
   "metadata": {},
   "outputs": [
    {
     "name": "stdout",
     "output_type": "stream",
     "text": [
      "Found 3 hazard maps.\n"
     ]
    }
   ],
   "source": [
    "# Read hazard data (Rauthe M, et al. (2020): Climate impact analysis of the federal transport system in the context of floods: Final report of the key topic flood risks (SP-103) in topic area 1 of the BMVI expert network. 136 pages. DOI: 10.5675/ExpNRM2020.2020.04)\n",
    "# n_drive_dpath=Path(r'N:\\Projects\\11209000\\11209175\\B. Measurements and calculations\\Data\\basin_flood_hazard_maps')\n",
    "test_haz_path = data_path / r'Floods\\Germany\\basin_intersections'\n",
    "hazard_data_list = ds.read_hazard_data(test_haz_path, hazard_type, country=country_name, subfolders=None)\n",
    "print(f'Found {len(hazard_data_list)} hazard maps.')"
   ]
  },
  {
   "cell_type": "markdown",
   "metadata": {},
   "source": [
    "Overlay hazard and asset data"
   ]
  },
  {
   "cell_type": "code",
   "execution_count": 34,
   "metadata": {},
   "outputs": [
    {
     "name": "stdout",
     "output_type": "stream",
     "text": [
      "2024-12-02 16:55:48 - Reading hazard map 1 of 3: flood_DERP_RW_H_4326_2080430320\n",
      "2024-12-02 16:55:50 - Coarse overlay of hazard map with assets...\n"
     ]
    },
    {
     "data": {
      "application/vnd.jupyter.widget-view+json": {
       "model_id": "c68ec71d4c4e4f6c8b0de821f6964e91",
       "version_major": 2,
       "version_minor": 0
      },
      "text/plain": [
       "  0%|          | 0/20 [00:00<?, ?it/s]"
      ]
     },
     "metadata": {},
     "output_type": "display_data"
    },
    {
     "name": "stdout",
     "output_type": "stream",
     "text": [
      "2024-12-02 16:56:28 - Reading hazard map 2 of 3: flood_DERP_RW_L_4326_2080430320\n",
      "2024-12-02 16:56:32 - Coarse overlay of hazard map with assets...\n"
     ]
    },
    {
     "data": {
      "application/vnd.jupyter.widget-view+json": {
       "model_id": "dd5ee6b3a07b45fa97271ee83748fdc1",
       "version_major": 2,
       "version_minor": 0
      },
      "text/plain": [
       "  0%|          | 0/42 [00:00<?, ?it/s]"
      ]
     },
     "metadata": {},
     "output_type": "display_data"
    },
    {
     "name": "stdout",
     "output_type": "stream",
     "text": [
      "2024-12-02 16:58:34 - Reading hazard map 3 of 3: flood_DERP_RW_M_4326_2080430320\n",
      "2024-12-02 16:58:37 - Coarse overlay of hazard map with assets...\n"
     ]
    },
    {
     "data": {
      "application/vnd.jupyter.widget-view+json": {
       "model_id": "de7519a586004f01b91972cb9465bc7a",
       "version_major": 2,
       "version_minor": 0
      },
      "text/plain": [
       "  0%|          | 0/33 [00:00<?, ?it/s]"
      ]
     },
     "metadata": {},
     "output_type": "display_data"
    }
   ],
   "source": [
    "# Calculate direct damage by asset (Koks. E.E. (2022). DamageScanner: Python tool for natural hazard damage assessments. Zenodo. http://doi.org/10.5281/zenodo.2551015)\n",
    "collect_output={}\n",
    "for i, single_footprint in enumerate(hazard_data_list):\n",
    "    hazard_name = single_footprint.parts[-1].split('.')[0]\n",
    "    timestamp = datetime.datetime.now().strftime(\"%Y-%m-%d %H:%M:%S\")\n",
    "    print(f'{timestamp} - Reading hazard map {i+1} of {len(hazard_data_list)}: {hazard_name}')\n",
    "\n",
    "    try:\n",
    "        collect_output[hazard_name] = process_hazard_data(single_footprint, hazard_type, assets, interim_data_path, infra_curves, max_damage_tables, curve_types, infra_type, type_dict, geom_dict, asset_options=asset_options, rp_spec_priority=rp_spec_priority)\n",
    "    except Exception as e:\n",
    "        print(f'Error occurred in {hazard_name}: {str(e)}')\n",
    "        continue\n",
    "\n",
    "# save the data to pickle files\n",
    "collect_output_path = f'{interim_data_path}/sample_collected_run.pkl'\n",
    "if len(collect_output)>0:\n",
    "    with open(collect_output_path, 'wb') as f:\n",
    "        pickle.dump(collect_output, f)\n",
    "else: print('No output collected')"
   ]
  },
  {
   "cell_type": "markdown",
   "metadata": {},
   "source": [
    "Save overlay data to files for reuse in later stages"
   ]
  },
  {
   "cell_type": "code",
   "execution_count": 35,
   "metadata": {},
   "outputs": [],
   "source": [
    "# Save the data to csv files\n",
    "csv_output_path=f'collected_run_{datetime.datetime.now().strftime(\"%Y%m%d_%H%M%S\")}.csv'\n",
    "pd.DataFrame.from_dict(collect_output).to_csv(interim_data_path / csv_output_path)"
   ]
  },
  {
   "cell_type": "code",
   "execution_count": 36,
   "metadata": {},
   "outputs": [],
   "source": [
    "# if collected_output variable doesnt exist, load from pickle file\n",
    "if 'collect_output' not in locals():\n",
    "    collect_output_path = f'{interim_data_path}/sample_collected_run.pkl'\n",
    "    with open(collect_output_path, 'rb') as f:\n",
    "        collect_output = pickle.load(f)"
   ]
  },
  {
   "cell_type": "markdown",
   "metadata": {},
   "source": [
    "Visualise direct damages and calculate risk"
   ]
  },
  {
   "cell_type": "code",
   "execution_count": 37,
   "metadata": {},
   "outputs": [
    {
     "data": {
      "text/html": [
       "<div>\n",
       "<style scoped>\n",
       "    .dataframe tbody tr th:only-of-type {\n",
       "        vertical-align: middle;\n",
       "    }\n",
       "\n",
       "    .dataframe tbody tr th {\n",
       "        vertical-align: top;\n",
       "    }\n",
       "\n",
       "    .dataframe thead th {\n",
       "        text-align: right;\n",
       "    }\n",
       "</style>\n",
       "<table border=\"1\" class=\"dataframe\">\n",
       "  <thead>\n",
       "    <tr style=\"text-align: right;\">\n",
       "      <th></th>\n",
       "      <th>Total Damage Lower Bound</th>\n",
       "      <th>Total Damage Upper Bound</th>\n",
       "    </tr>\n",
       "  </thead>\n",
       "  <tbody>\n",
       "    <tr>\n",
       "      <th>_H_</th>\n",
       "      <td>223,292.121</td>\n",
       "      <td>274,375.742</td>\n",
       "    </tr>\n",
       "    <tr>\n",
       "      <th>_M_</th>\n",
       "      <td>278,408.496</td>\n",
       "      <td>1,047,373.820</td>\n",
       "    </tr>\n",
       "    <tr>\n",
       "      <th>_L_</th>\n",
       "      <td>9,355,306.384</td>\n",
       "      <td>20,914,827.971</td>\n",
       "    </tr>\n",
       "  </tbody>\n",
       "</table>\n",
       "</div>"
      ],
      "text/plain": [
       "     Total Damage Lower Bound  Total Damage Upper Bound\n",
       "_H_               223,292.121               274,375.742\n",
       "_M_               278,408.496             1,047,373.820\n",
       "_L_             9,355,306.384            20,914,827.971"
      ]
     },
     "execution_count": 37,
     "metadata": {},
     "output_type": "execute_result"
    }
   ],
   "source": [
    "# Calculate the expected annual damages (EAD)\n",
    "summed_output = {}\n",
    "# Iterate over the items in the collect_output dictionary\n",
    "for hazard_map, asset_dict in collect_output.items():\n",
    "    # If the hazard_map and hazard_curve combination is not already in the summed_output dictionary, add it with the sum of the current lower and upper bounds\n",
    "    if hazard_map not in summed_output:\n",
    "        summed_output[hazard_map] = (sum(value[0] for value in asset_dict.values()), sum(value[1] for value in asset_dict.values()))\n",
    "    # If the hazard_map and hazard_curve combination is already in the summed_output dictionary, add the sum of the current lower and upper bounds to the existing ones\n",
    "    else:\n",
    "        summed_output[hazard_map][0] += sum(value[0] for value in asset_dict.values())\n",
    "        summed_output[hazard_map][1] += sum(value[1] for value in asset_dict.values())\n",
    "\n",
    "# Initialize a new dictionary to hold the aggregated values\n",
    "aggregated_output = {'_H_': [0, 0], '_M_': [0, 0], '_L_': [0, 0]}\n",
    "\n",
    "# Iterate over the items in the summed_output dictionary and group into return periods\n",
    "for hazard_map, (lower_bound, upper_bound) in summed_output.items():\n",
    "    # determine the category of the hazard map\n",
    "    if '_H_' in hazard_map: \n",
    "        category = '_H_'\n",
    "    elif '_M_' in hazard_map: \n",
    "        category = '_M_'\n",
    "    else: # '_L_' in hazard_map\n",
    "        category = '_L_' \n",
    "        \n",
    "    # Add the lower and upper bounds to the appropriate category\n",
    "    aggregated_output[category][0] += lower_bound\n",
    "    aggregated_output[category][1] += upper_bound\n",
    "\n",
    "# Create the DataFrame from the new dictionary\n",
    "aggregated_df = pd.DataFrame.from_dict(aggregated_output, orient='index', columns=['Total Damage Lower Bound', 'Total Damage Upper Bound'])\n",
    "aggregated_df\n"
   ]
  },
  {
   "cell_type": "code",
   "execution_count": null,
   "metadata": {},
   "outputs": [
    {
     "name": "stdout",
     "output_type": "stream",
     "text": [
      "Baseline expected annual damages: 110,184.26 to 239,536.56 EUR\n",
      "Expected annual damages without adaptation by year 100: 380,957.82 to 864,574.07 EUR\n"
     ]
    },
    {
     "data": {
      "image/png": "[encoded data removed]",
      "text/plain": [
       "<Figure size 640x480 with 1 Axes>"
      ]
     },
     "metadata": {},
     "output_type": "display_data"
    }
   ],
   "source": [
    "# Calculating risk for a single basin\n",
    "# Define the baseline return periods \n",
    "\"\"\"\n",
    "Return period definitions for Rhineland Palatinate (DERP) based on the report by Rauthe M, et al. (2020):\n",
    "_H_=10-25y \n",
    "_M_=100y\n",
    "_L_=200y\n",
    "\"\"\"\n",
    "return_period_dict = {'_H_': 10,'_M_': 100,'_L_': 200}\n",
    "\n",
    "# Add climate change: calculate the dynamic return periods based on flat increase factors. This value is catchment-specific. \n",
    "increase_factor = {\n",
    "    '_H_': 2,\n",
    "    '_M_': 4.21,\n",
    "    '_L_': 5.86\n",
    "} # Mentaschi et al. (2016)\n",
    "\n",
    "num_years = 100\n",
    "return_periods = calculate_dynamic_return_periods(return_period_dict, num_years, increase_factor)\n",
    "\n",
    "# Define dictionary to relate return periods to regions, in this case Rheinland Palatinate is used\n",
    "return_period_dict = {}\n",
    "return_period_dict['DERP'] = return_periods #TODO: make generic for other regions\n",
    "\n",
    "# Add the return period column to aggregated_df and sort by return period\n",
    "aggregated_df['Return Period'] = [return_period_dict['DERP'][index] for index in aggregated_df.index]\n",
    "aggregated_df = aggregated_df.sort_values('Return Period', ascending=True)\n",
    "\n",
    "# Calculate the probability of each return period \n",
    "aggregated_df['Probability'] = [[1 / x for x in i] for i in aggregated_df['Return Period']]\n",
    "probabilities = aggregated_df['Probability']\n",
    "dmgs = []\n",
    "\n",
    "# Calculate the expected annual damages for each time step using trapezoidal rule for integration\n",
    "for ts in range(len(probabilities.iloc[0])):    \n",
    "    dmgs_l = []\n",
    "    dmgs_u = []\n",
    "\n",
    "    for rp in range(len(probabilities)-1):\n",
    "        d_rp= probabilities.iloc[rp][ts] - probabilities.iloc[rp + 1][ts]\n",
    "        trap_damage_l = 0.5 * (aggregated_df['Total Damage Lower Bound'].iloc[rp] + aggregated_df['Total Damage Lower Bound'].iloc[rp + 1])\n",
    "        trap_damage_u = 0.5 * (aggregated_df['Total Damage Upper Bound'].iloc[rp] + aggregated_df['Total Damage Upper Bound'].iloc[rp + 1])\n",
    "        dmgs_l.append(d_rp * trap_damage_l)\n",
    "        dmgs_u.append(d_rp * trap_damage_u)\n",
    "    \n",
    "    # Add the portion of damages corresponding to the tails of the distribution\n",
    "    # Assumption - considers the damage for return periods higher than the highest return period the same as that of the highest return period\n",
    "    d0_rp = probabilities.iloc[-1][ts]\n",
    "    damage_l0 = max(aggregated_df['Total Damage Lower Bound'])\n",
    "    damage_u0 = max(aggregated_df['Total Damage Upper Bound'])\n",
    "    dmgs_l.append(d0_rp * damage_l0)\n",
    "    dmgs_u.append(d0_rp * damage_u0)\n",
    "\n",
    "    # Assumption - considers that no assets are damaged at a return period of 4 years or lower\n",
    "    d_end_rp = (1/4)-probabilities.iloc[0][ts]\n",
    "    damage_l_end = 0.5 * min(aggregated_df['Total Damage Lower Bound'])\n",
    "    damage_u_end = 0.5 * min(aggregated_df['Total Damage Upper Bound'])\n",
    "    dmgs_l.append(d_end_rp * damage_l_end)\n",
    "    dmgs_u.append(d_end_rp * damage_u_end)\n",
    "\n",
    "    dmgs.append((sum(dmgs_l), sum(dmgs_u)))\n",
    "\n",
    "ead_by_ts = pd.DataFrame(dmgs, columns=['Total Damage Lower Bound', 'Total Damage Upper Bound'])\n",
    "\n",
    "print(f'Baseline expected annual damages: {dmgs[0][0]:,.2f} to {dmgs[0][1]:,.2f} EUR')\n",
    "print(f'Expected annual damages without adaptation by year {num_years}: {dmgs[-1][0]:,.2f} to {dmgs[-1][1]:,.2f} EUR')\n",
    "\n",
    "ead_by_ts_plot(ead_by_ts)"
   ]
  },
  {
   "cell_type": "code",
   "execution_count": 39,
   "metadata": {},
   "outputs": [
    {
     "data": {
      "text/plain": [
       "{'flood_DERP_RW_H_4326_2080430320': (223292.12147988414, 274375.7418432404),\n",
       " 'flood_DERP_RW_L_4326_2080430320': (9355306.384249477, 20914827.97101291),\n",
       " 'flood_DERP_RW_M_4326_2080430320': (278408.4957824896, 1047373.8201867895)}"
      ]
     },
     "execution_count": 39,
     "metadata": {},
     "output_type": "execute_result"
    }
   ],
   "source": [
    "# Sum the direct damages for each hazard map\n",
    "summed_output = {}\n",
    "# Iterate over the items in the collect_output dictionary\n",
    "for hazard_map, asset_dict in collect_output.items():\n",
    "    # If the hazard_map and hazard_curve combination is not already in the summed_output dictionary, add it with the sum of the current lower and upper bounds\n",
    "    if hazard_map not in summed_output:\n",
    "        summed_output[hazard_map] = (sum(value[0] for value in asset_dict.values()), sum(value[1] for value in asset_dict.values()))\n",
    "    # If the hazard_map and hazard_curve combination is already in the summed_output dictionary, add the sum of the current lower and upper bounds to the existing ones\n",
    "    else:\n",
    "        summed_output[hazard_map][0] += sum(value[0] for value in asset_dict.values())\n",
    "        summed_output[hazard_map][1] += sum(value[1] for value in asset_dict.values())\n",
    "\n",
    "summed_output"
   ]
  },
  {
   "cell_type": "code",
   "execution_count": null,
   "metadata": {},
   "outputs": [],
   "source": [
    "# Calculate the expected annual damages (EAD) by basin for multiple basins\n",
    "files = [file for file in os.listdir(interim_data_path) if file.endswith('.pkl') and file.startswith('overlay')]\n",
    "basins_list=list(set([int(file.split('.')[0].split('_')[-1]) for file in files]))\n",
    "# summed_output  is a dicitonary of with keys as the hazard map names and values as a tuple of the lower and upper bounds of the total damage\n",
    "# example: {'flood_DERP_RW_H_4326_2080411370': (3706407.631635442, 13355041.119988918),\n",
    "\n",
    "# create a dictionary of dictionaries with the basin number as the level 1 key, the category (ie \"H\") as the level 2 key and the upper and lower bounds as the values\n",
    "basin_dict = {}\n",
    "for basin in basins_list:\n",
    "    basin_dict[basin] = {}\n",
    "    for key in summed_output.keys():\n",
    "        if str(basin) in key:\n",
    "            basin_dict[basin][key.split('_RW')[-1][0:3]] = summed_output[key]\n",
    "\n",
    "aggregated_df_by_basin = {}\n",
    "ead_by_ts_by_basin = {}\n",
    "\n",
    "for basin, damage_dict in basin_dict.items():\n",
    "    if len(damage_dict) == 0:\n",
    "        continue\n",
    "    aggregated_df_by_basin[basin] = pd.DataFrame.from_dict(damage_dict, orient='index', columns=['Total Damage Lower Bound', 'Total Damage Upper Bound'])\n",
    "    aggregated_df_by_basin[basin]['Return Period'] = [return_period_dict['DERP'][index] for index in aggregated_df_by_basin[basin].index]\n",
    "    aggregated_df_by_basin[basin] = aggregated_df_by_basin[basin].sort_values('Return Period', ascending=True)\n",
    "    aggregated_df_by_basin[basin]['Probability'] = [[1 / x for x in i] for i in aggregated_df_by_basin[basin]['Return Period']]\n",
    "    probabilities = aggregated_df_by_basin[basin]['Probability']\n",
    "    dmgs = []\n",
    "\n",
    "    for ts in range(len(probabilities.iloc[0])):    \n",
    "        dmgs_l = []\n",
    "        dmgs_u = []\n",
    "\n",
    "        for rp in range(len(probabilities)-1):\n",
    "            d_rp= probabilities.iloc[rp][ts] - probabilities.iloc[rp + 1][ts]\n",
    "            trap_damage_l = 0.5 * (aggregated_df_by_basin[basin]['Total Damage Lower Bound'].iloc[rp] + aggregated_df_by_basin[basin]['Total Damage Lower Bound'].iloc[rp + 1])\n",
    "            trap_damage_u = 0.5 * (aggregated_df_by_basin[basin]['Total Damage Upper Bound'].iloc[rp] + aggregated_df_by_basin[basin]['Total Damage Upper Bound'].iloc[rp + 1])\n",
    "            dmgs_l.append(d_rp * trap_damage_l)\n",
    "            dmgs_u.append(d_rp * trap_damage_u)\n",
    "        \n",
    "        # Add the portion of damages corresponding to the tails of the distribution\n",
    "        d0_rp = probabilities.iloc[-1][ts]\n",
    "        damage_l0 = max(aggregated_df_by_basin[basin]['Total Damage Lower Bound'])\n",
    "        damage_u0 = max(aggregated_df_by_basin[basin]['Total Damage Upper Bound'])\n",
    "        dmgs_l.append(d0_rp * damage_l0)\n",
    "        dmgs_u.append(d0_rp * damage_u0)\n",
    "\n",
    "        d_end_rp = (1/4)-probabilities.iloc[0][ts]\n",
    "        damage_l_end = 0.5 * min(aggregated_df_by_basin[basin]['Total Damage Lower Bound'])\n",
    "        damage_u_end = 0.5 * min(aggregated_df_by_basin[basin]['Total Damage Upper Bound'])\n",
    "        dmgs_l.append(d_end_rp * damage_l_end)\n",
    "        dmgs_u.append(d_end_rp * damage_u_end)\n",
    "\n",
    "        dmgs.append((sum(dmgs_l), sum(dmgs_u)))\n",
    "    \n",
    "    ead_by_ts_by_basin[basin] = pd.DataFrame(dmgs, columns=['Total Damage Lower Bound', 'Total Damage Upper Bound'])"
   ]
  },
  {
   "cell_type": "code",
   "execution_count": 41,
   "metadata": {},
   "outputs": [
    {
     "name": "stdout",
     "output_type": "stream",
     "text": [
      "Baseline expected annual damages for basin 2080430320:24,802,674.79 to 55,757,586.70 EUR over 100 years\n"
     ]
    }
   ],
   "source": [
    "total_damage_lower_bound = ead_by_ts_by_basin[basins_list[0]]['Total Damage Lower Bound']\n",
    "total_damage_upper_bound = ead_by_ts_by_basin[basins_list[0]]['Total Damage Upper Bound']\n",
    "print(f'Baseline expected annual damages for basin {basins_list[0]}:{sum(total_damage_lower_bound):,.2f} to {sum(total_damage_upper_bound):,.2f} EUR over {num_years} years')"
   ]
  },
  {
   "cell_type": "code",
   "execution_count": 42,
   "metadata": {},
   "outputs": [
    {
     "data": {
      "image/png": "[encoded data removed]",
      "text/plain": [
       "<Figure size 2000x500 with 1 Axes>"
      ]
     },
     "metadata": {},
     "output_type": "display_data"
    }
   ],
   "source": [
    "# Calculate the number of rows and columns based on the number of basins\n",
    "num_basins = len(ead_by_ts_by_basin)\n",
    "num_cols = int(np.ceil(np.sqrt(num_basins)))\n",
    "num_rows = int(np.ceil(num_basins / num_cols))\n",
    "\n",
    "# Create subplots with shared x-axis, the calculated number of rows and columns\n",
    "fig, axs = plt.subplots(num_rows, num_cols, figsize=(20, 5*num_rows), sharex=True, sharey=True)\n",
    "\n",
    "# Flatten axs array for easy iteration\n",
    "try:\n",
    "    axs = axs.flatten()\n",
    "except:\n",
    "    axs = [axs]\n",
    "\n",
    "max_value = max([ead_by_ts_by_basin[basin]['Total Damage Upper Bound'].max() for basin in ead_by_ts_by_basin.keys()])\n",
    "\n",
    "for i, basin in enumerate(ead_by_ts_by_basin.keys()):\n",
    "    axs[i].fill_between(ead_by_ts_by_basin[basin].index, ead_by_ts_by_basin[basin]['Total Damage Lower Bound'], ead_by_ts_by_basin[basin]['Total Damage Upper Bound'], alpha=0.3, color='red')\n",
    "    axs[i].set_title(f'Basin {basin}')\n",
    "    axs[i].set_ylim(0, max_value)  # Set y-axis lower limit to 0 and upper limit to max_value\n",
    "\n",
    "# Hide any unused axes\n",
    "for j in range(num_basins, num_rows * num_cols):\n",
    "    axs[j].axis('off')\n",
    "\n",
    "plt.tight_layout()\n",
    "plt.suptitle('Expected Annual Damages (EAD) over time for each basin', y=1.02)\n",
    "plt.show()\n"
   ]
  },
  {
   "cell_type": "code",
   "execution_count": 43,
   "metadata": {},
   "outputs": [],
   "source": [
    "with open(f'{interim_data_path}/ead_by_ts_by_basin_direct.pkl', 'wb') as f:\n",
    "    pickle.dump(ead_by_ts_by_basin, f)"
   ]
  },
  {
   "cell_type": "code",
   "execution_count": 44,
   "metadata": {},
   "outputs": [
    {
     "data": {
      "text/plain": [
       "{2080430320:      Total Damage Lower Bound  Total Damage Upper Bound\n",
       " 0                 110,184.256               239,536.555\n",
       " 1                 112,891.992               245,786.930\n",
       " 2                 115,599.727               252,037.306\n",
       " 3                 118,307.463               258,287.681\n",
       " 4                 121,015.199               264,538.056\n",
       " ..                        ...                       ...\n",
       " 96                370,126.877               839,572.572\n",
       " 97                372,834.612               845,822.947\n",
       " 98                375,542.348               852,073.322\n",
       " 99                378,250.083               858,323.697\n",
       " 100               380,957.819               864,574.072\n",
       " \n",
       " [101 rows x 2 columns]}"
      ]
     },
     "execution_count": 44,
     "metadata": {},
     "output_type": "execute_result"
    }
   ],
   "source": [
    "ead_by_ts_by_basin"
   ]
  }
 ],
 "metadata": {
  "kernelspec": {
   "display_name": "ci_adapt_env",
   "language": "python",
   "name": "python3"
  },
  "language_info": {
   "codemirror_mode": {
    "name": "ipython",
    "version": 3
   },
   "file_extension": ".py",
   "mimetype": "text/x-python",
   "name": "python",
   "nbconvert_exporter": "python",
   "pygments_lexer": "ipython3",
   "version": "3.12.2"
  }
 },
 "nbformat": 4,
 "nbformat_minor": 2
}
