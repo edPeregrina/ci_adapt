{
 "cells": [
  {
   "cell_type": "markdown",
   "metadata": {},
   "source": [
    "Direct damages calculation for CI Adapt"
   ]
  },
  {
   "cell_type": "code",
   "execution_count": 1,
   "metadata": {},
   "outputs": [],
   "source": [
    "import configparser\n",
    "from pathlib import Path\n",
    "import pathlib\n",
    "from direct_damages import damagescanner_rail_track as ds\n",
    "import pandas as pd\n",
    "import datetime\n",
    "from ci_adapt_utilities import *\n",
    "import pickle\n",
    "import os\n",
    "from matplotlib import pyplot as plt"
   ]
  },
  {
   "cell_type": "markdown",
   "metadata": {},
   "source": [
    "Load default configuration and parameters"
   ]
  },
  {
   "cell_type": "code",
   "execution_count": 2,
   "metadata": {},
   "outputs": [],
   "source": [
    "# Load configuration with ini file (created running config.py)\n",
    "config_file=r'C:\\repos\\ci_adapt\\config_ci_adapt.ini'\n",
    "config = configparser.ConfigParser()\n",
    "config.read(config_file)\n",
    "\n",
    "p = Path('..')\n",
    "hazard_type = config.get('DEFAULT', 'hazard_type')\n",
    "infra_type = config.get('DEFAULT', 'infra_type')\n",
    "country_code = config.get('DEFAULT', 'country_code')\n",
    "country_name = config.get('DEFAULT', 'country_name')\n",
    "hazard_data_subfolders = config.get('DEFAULT', 'hazard_data_subfolders')\n",
    "asset_data = config.get('DEFAULT', 'asset_data')\n",
    "vulnerability_data = config.get('DEFAULT', 'vulnerability_data')\n",
    "data_path = Path(pathlib.Path.home().parts[0]) / 'Data'\n",
    "interim_data_path = data_path / 'interim' / 'collected_flood_runs'"
   ]
  },
  {
   "cell_type": "markdown",
   "metadata": {},
   "source": [
    "Read risk data (asset exposure, vulnerability, hazard)"
   ]
  },
  {
   "cell_type": "code",
   "execution_count": 3,
   "metadata": {},
   "outputs": [
    {
     "name": "stdout",
     "output_type": "stream",
     "text": [
      "47210 assets loaded.\n"
     ]
    }
   ],
   "source": [
    "# Read exposure data (OSM, OpenStreetMap contributors (2024) / osm-flex)\n",
    "assets_path = data_path / asset_data\n",
    "assets = preprocess_assets(assets_path)\n",
    "asset_options={'bridge_design_rp':'M',\n",
    "               'tunnel_design_rp':'M'}\n",
    "\n",
    "# Add buffer to assets to do area intersect and create dictionaries for quicker lookup\n",
    "buffered_assets = ds.buffer_assets(assets)\n",
    "geom_dict = assets['geometry'].to_dict()\n",
    "type_dict = assets['asset'].to_dict()\n",
    "\n",
    "print(f\"{len(assets)} assets loaded.\")"
   ]
  },
  {
   "cell_type": "code",
   "execution_count": 4,
   "metadata": {},
   "outputs": [
    {
     "name": "stdout",
     "output_type": "stream",
     "text": [
      "Found matching infrastructure curves for: rail\n"
     ]
    }
   ],
   "source": [
    "# Read vulnerability and maximum damage data from Nirandjan, S., et al. (2024)\n",
    "curve_types = {'rail': ['F8.1']}\n",
    "infra_curves, maxdams = ds.read_vul_maxdam(data_path, hazard_type, infra_type)\n",
    "max_damage_tables = pd.read_excel(data_path / vulnerability_data / 'Table_D3_Costs_V1.0.0.xlsx',sheet_name='Cost_Database',index_col=[0])\n",
    "print(f'Found matching infrastructure curves for: {infra_type}')"
   ]
  },
  {
   "cell_type": "code",
   "execution_count": 5,
   "metadata": {},
   "outputs": [
    {
     "name": "stdout",
     "output_type": "stream",
     "text": [
      "Found 183 hazard maps.\n"
     ]
    }
   ],
   "source": [
    "# Read hazard data (Rauthe M, et al. (2020): Climate impact analysis of the federal transport system in the context of floods: Final report of the key topic flood risks (SP-103) in topic area 1 of the BMVI expert network. 136 pages. DOI: 10.5675/ExpNRM2020.2020.04)\n",
    "n_drive_dpath=Path(r'N:\\Projects\\11209000\\11209175\\B. Measurements and calculations\\Data\\basin_flood_hazard_maps')\n",
    "# local_haz_path=data_path/r'Floods\\Germany\\fluvial_undefended\\raw_subsample\\validated_geometries'\n",
    "hazard_data_list = ds.read_hazard_data(n_drive_dpath, hazard_type, country=country_name, subfolders=None)\n",
    "print(f'Found {len(hazard_data_list)} hazard maps.')"
   ]
  },
  {
   "cell_type": "code",
   "execution_count": 6,
   "metadata": {},
   "outputs": [],
   "source": [
    "return_period_dict = {'_H_': 10,'_M_': 100,'_L_': 200}\n",
    "rp_spec_priority = set_rp_priorities(return_period_dict)"
   ]
  },
  {
   "cell_type": "markdown",
   "metadata": {},
   "source": [
    "Overlay hazard and asset data"
   ]
  },
  {
   "cell_type": "code",
   "execution_count": 7,
   "metadata": {},
   "outputs": [
    {
     "name": "stdout",
     "output_type": "stream",
     "text": [
      "2024-10-08 17:03:37 - Reading hazard map 1 of 183: flood_DERP_RW_H_4326_2080410170\n",
      "Flood map path: N:\\Projects\\11209000\\11209175\\B. Measurements and calculations\\Data\\basin_flood_hazard_maps\\flood_DERP_RW_H_4326_2080410170.geojson\n",
      "2024-10-08 17:03:43 - Coarse overlay of hazard map with assets...\n"
     ]
    },
    {
     "name": "stderr",
     "output_type": "stream",
     "text": [
      "100%|██████████| 30/30 [00:01<00:00, 24.06it/s]\n"
     ]
    },
    {
     "name": "stdout",
     "output_type": "stream",
     "text": [
      "2024-10-08 17:05:18 - Reading hazard map 2 of 183: flood_DERP_RW_H_4326_2080410430\n",
      "Flood map path: N:\\Projects\\11209000\\11209175\\B. Measurements and calculations\\Data\\basin_flood_hazard_maps\\flood_DERP_RW_H_4326_2080410430.geojson\n",
      "2024-10-08 17:05:21 - Coarse overlay of hazard map with assets...\n"
     ]
    },
    {
     "name": "stderr",
     "output_type": "stream",
     "text": [
      "100%|██████████| 13/13 [00:02<00:00,  5.17it/s]\n"
     ]
    },
    {
     "name": "stdout",
     "output_type": "stream",
     "text": [
      "2024-10-08 17:06:16 - Reading hazard map 3 of 183: flood_DERP_RW_H_4326_2080410540\n",
      "Flood map path: N:\\Projects\\11209000\\11209175\\B. Measurements and calculations\\Data\\basin_flood_hazard_maps\\flood_DERP_RW_H_4326_2080410540.geojson\n",
      "2024-10-08 17:06:22 - Coarse overlay of hazard map with assets...\n"
     ]
    },
    {
     "name": "stderr",
     "output_type": "stream",
     "text": [
      "100%|██████████| 20/20 [00:00<00:00, 20.43it/s]\n"
     ]
    },
    {
     "name": "stdout",
     "output_type": "stream",
     "text": [
      "2024-10-08 17:08:33 - Reading hazard map 4 of 183: flood_DERP_RW_H_4326_2080410660\n",
      "Flood map path: N:\\Projects\\11209000\\11209175\\B. Measurements and calculations\\Data\\basin_flood_hazard_maps\\flood_DERP_RW_H_4326_2080410660.geojson\n",
      "2024-10-08 17:08:35 - Coarse overlay of hazard map with assets...\n"
     ]
    },
    {
     "name": "stderr",
     "output_type": "stream",
     "text": [
      "100%|██████████| 10/10 [00:00<00:00, 3329.87it/s]\n"
     ]
    },
    {
     "name": "stdout",
     "output_type": "stream",
     "text": [
      "2024-10-08 17:08:40 - Reading hazard map 5 of 183: flood_DERP_RW_H_4326_2080410760\n",
      "Flood map path: N:\\Projects\\11209000\\11209175\\B. Measurements and calculations\\Data\\basin_flood_hazard_maps\\flood_DERP_RW_H_4326_2080410760.geojson\n",
      "2024-10-08 17:08:50 - Coarse overlay of hazard map with assets...\n"
     ]
    },
    {
     "name": "stderr",
     "output_type": "stream",
     "text": [
      "100%|██████████| 3/3 [00:00<00:00, 2995.93it/s]\n"
     ]
    },
    {
     "name": "stdout",
     "output_type": "stream",
     "text": [
      "2024-10-08 17:10:04 - Reading hazard map 6 of 183: flood_DERP_RW_H_4326_2080411370\n",
      "Flood map path: N:\\Projects\\11209000\\11209175\\B. Measurements and calculations\\Data\\basin_flood_hazard_maps\\flood_DERP_RW_H_4326_2080411370.geojson\n",
      "2024-10-08 17:10:08 - Coarse overlay of hazard map with assets...\n"
     ]
    },
    {
     "name": "stderr",
     "output_type": "stream",
     "text": [
      "100%|██████████| 19/19 [00:05<00:00,  3.29it/s]\n"
     ]
    },
    {
     "name": "stdout",
     "output_type": "stream",
     "text": [
      "2024-10-08 17:11:41 - Reading hazard map 7 of 183: flood_DERP_RW_H_4326_2080416200\n",
      "Flood map path: N:\\Projects\\11209000\\11209175\\B. Measurements and calculations\\Data\\basin_flood_hazard_maps\\flood_DERP_RW_H_4326_2080416200.geojson\n",
      "2024-10-08 17:11:58 - Coarse overlay of hazard map with assets...\n"
     ]
    },
    {
     "name": "stderr",
     "output_type": "stream",
     "text": [
      "100%|██████████| 2/2 [00:00<00:00, 1995.86it/s]\n"
     ]
    },
    {
     "name": "stdout",
     "output_type": "stream",
     "text": [
      "2024-10-08 17:16:23 - Reading hazard map 8 of 183: flood_DERP_RW_H_4326_2080416210\n",
      "Flood map path: N:\\Projects\\11209000\\11209175\\B. Measurements and calculations\\Data\\basin_flood_hazard_maps\\flood_DERP_RW_H_4326_2080416210.geojson\n",
      "2024-10-08 17:16:32 - Coarse overlay of hazard map with assets...\n"
     ]
    },
    {
     "name": "stderr",
     "output_type": "stream",
     "text": [
      "100%|██████████| 20/20 [01:18<00:00,  3.91s/it]\n"
     ]
    },
    {
     "name": "stdout",
     "output_type": "stream",
     "text": [
      "2024-10-08 17:22:14 - Reading hazard map 9 of 183: flood_DERP_RW_H_4326_2080418600\n",
      "Flood map path: N:\\Projects\\11209000\\11209175\\B. Measurements and calculations\\Data\\basin_flood_hazard_maps\\flood_DERP_RW_H_4326_2080418600.geojson\n",
      "2024-10-08 17:22:40 - Coarse overlay of hazard map with assets...\n"
     ]
    },
    {
     "name": "stderr",
     "output_type": "stream",
     "text": [
      "100%|██████████| 29/29 [01:44<00:00,  3.61s/it]\n"
     ]
    },
    {
     "name": "stdout",
     "output_type": "stream",
     "text": [
      "2024-10-08 17:40:36 - Reading hazard map 10 of 183: flood_DERP_RW_H_4326_2080418720\n",
      "Flood map path: N:\\Projects\\11209000\\11209175\\B. Measurements and calculations\\Data\\basin_flood_hazard_maps\\flood_DERP_RW_H_4326_2080418720.geojson\n",
      "2024-10-08 17:40:37 - Coarse overlay of hazard map with assets...\n"
     ]
    },
    {
     "name": "stderr",
     "output_type": "stream",
     "text": [
      "0it [00:00, ?it/s]"
     ]
    },
    {
     "name": "stdout",
     "output_type": "stream",
     "text": [
      "2024-10-08 17:40:37 - Reading hazard map 11 of 183: flood_DERP_RW_H_4326_2080418880\n",
      "Flood map path: N:\\Projects\\11209000\\11209175\\B. Measurements and calculations\\Data\\basin_flood_hazard_maps\\flood_DERP_RW_H_4326_2080418880.geojson\n"
     ]
    },
    {
     "name": "stderr",
     "output_type": "stream",
     "text": [
      "\n"
     ]
    },
    {
     "name": "stdout",
     "output_type": "stream",
     "text": [
      "2024-10-08 17:40:44 - Coarse overlay of hazard map with assets...\n"
     ]
    },
    {
     "name": "stderr",
     "output_type": "stream",
     "text": [
      "100%|██████████| 5/5 [00:00<00:00,  7.19it/s]\n"
     ]
    },
    {
     "name": "stdout",
     "output_type": "stream",
     "text": [
      "2024-10-08 17:41:50 - Reading hazard map 12 of 183: flood_DERP_RW_H_4326_2080418890\n",
      "Flood map path: N:\\Projects\\11209000\\11209175\\B. Measurements and calculations\\Data\\basin_flood_hazard_maps\\flood_DERP_RW_H_4326_2080418890.geojson\n",
      "2024-10-08 17:42:00 - Coarse overlay of hazard map with assets...\n"
     ]
    },
    {
     "name": "stderr",
     "output_type": "stream",
     "text": [
      "100%|██████████| 4/4 [00:00<00:00, 2004.69it/s]\n"
     ]
    },
    {
     "name": "stdout",
     "output_type": "stream",
     "text": [
      "2024-10-08 17:42:10 - Reading hazard map 13 of 183: flood_DERP_RW_H_4326_2080419070\n",
      "Flood map path: N:\\Projects\\11209000\\11209175\\B. Measurements and calculations\\Data\\basin_flood_hazard_maps\\flood_DERP_RW_H_4326_2080419070.geojson\n",
      "2024-10-08 17:42:11 - Coarse overlay of hazard map with assets...\n"
     ]
    },
    {
     "name": "stderr",
     "output_type": "stream",
     "text": [
      "100%|██████████| 1/1 [00:00<00:00, 499.56it/s]\n"
     ]
    },
    {
     "name": "stdout",
     "output_type": "stream",
     "text": [
      "2024-10-08 17:42:11 - Reading hazard map 14 of 183: flood_DERP_RW_H_4326_2080419180\n",
      "Flood map path: N:\\Projects\\11209000\\11209175\\B. Measurements and calculations\\Data\\basin_flood_hazard_maps\\flood_DERP_RW_H_4326_2080419180.geojson\n",
      "2024-10-08 17:42:18 - Coarse overlay of hazard map with assets...\n"
     ]
    },
    {
     "name": "stderr",
     "output_type": "stream",
     "text": [
      "100%|██████████| 19/19 [00:23<00:00,  1.25s/it]\n"
     ]
    },
    {
     "name": "stdout",
     "output_type": "stream",
     "text": [
      "2024-10-08 17:43:41 - Reading hazard map 15 of 183: flood_DERP_RW_H_4326_2080420240\n",
      "Flood map path: N:\\Projects\\11209000\\11209175\\B. Measurements and calculations\\Data\\basin_flood_hazard_maps\\flood_DERP_RW_H_4326_2080420240.geojson\n",
      "2024-10-08 17:44:10 - Coarse overlay of hazard map with assets...\n"
     ]
    },
    {
     "name": "stderr",
     "output_type": "stream",
     "text": [
      "100%|██████████| 56/56 [09:30<00:00, 10.20s/it]\n"
     ]
    },
    {
     "name": "stdout",
     "output_type": "stream",
     "text": [
      "2024-10-08 18:25:29 - Reading hazard map 16 of 183: flood_DERP_RW_H_4326_2080420340\n",
      "Flood map path: N:\\Projects\\11209000\\11209175\\B. Measurements and calculations\\Data\\basin_flood_hazard_maps\\flood_DERP_RW_H_4326_2080420340.geojson\n",
      "2024-10-08 18:25:32 - Coarse overlay of hazard map with assets...\n"
     ]
    },
    {
     "name": "stderr",
     "output_type": "stream",
     "text": [
      "100%|██████████| 5/5 [00:00<00:00, 2500.48it/s]\n"
     ]
    },
    {
     "name": "stdout",
     "output_type": "stream",
     "text": [
      "2024-10-08 18:25:56 - Reading hazard map 17 of 183: flood_DERP_RW_H_4326_2080421680\n",
      "Flood map path: N:\\Projects\\11209000\\11209175\\B. Measurements and calculations\\Data\\basin_flood_hazard_maps\\flood_DERP_RW_H_4326_2080421680.geojson\n",
      "2024-10-08 18:26:16 - Coarse overlay of hazard map with assets...\n"
     ]
    },
    {
     "name": "stderr",
     "output_type": "stream",
     "text": [
      "100%|██████████| 40/40 [00:12<00:00,  3.11it/s]\n"
     ]
    },
    {
     "name": "stdout",
     "output_type": "stream",
     "text": [
      "2024-10-08 18:51:22 - Reading hazard map 18 of 183: flood_DERP_RW_H_4326_2080421770\n",
      "Flood map path: N:\\Projects\\11209000\\11209175\\B. Measurements and calculations\\Data\\basin_flood_hazard_maps\\flood_DERP_RW_H_4326_2080421770.geojson\n",
      "2024-10-08 18:51:34 - Coarse overlay of hazard map with assets...\n"
     ]
    },
    {
     "name": "stderr",
     "output_type": "stream",
     "text": [
      "100%|██████████| 18/18 [00:03<00:00,  4.92it/s]\n"
     ]
    },
    {
     "name": "stdout",
     "output_type": "stream",
     "text": [
      "2024-10-08 19:13:42 - Reading hazard map 19 of 183: flood_DERP_RW_H_4326_2080428080\n",
      "Flood map path: N:\\Projects\\11209000\\11209175\\B. Measurements and calculations\\Data\\basin_flood_hazard_maps\\flood_DERP_RW_H_4326_2080428080.geojson\n",
      "2024-10-08 19:13:52 - Coarse overlay of hazard map with assets...\n"
     ]
    },
    {
     "name": "stderr",
     "output_type": "stream",
     "text": [
      "0it [00:00, ?it/s]\n"
     ]
    },
    {
     "name": "stdout",
     "output_type": "stream",
     "text": [
      "2024-10-08 19:14:54 - Reading hazard map 20 of 183: flood_DERP_RW_H_4326_2080428160\n",
      "Flood map path: N:\\Projects\\11209000\\11209175\\B. Measurements and calculations\\Data\\basin_flood_hazard_maps\\flood_DERP_RW_H_4326_2080428160.geojson\n",
      "2024-10-08 19:15:10 - Coarse overlay of hazard map with assets...\n"
     ]
    },
    {
     "name": "stderr",
     "output_type": "stream",
     "text": [
      "100%|██████████| 8/8 [02:30<00:00, 18.79s/it]\n"
     ]
    },
    {
     "name": "stdout",
     "output_type": "stream",
     "text": [
      "2024-10-08 19:22:27 - Reading hazard map 21 of 183: flood_DERP_RW_H_4326_2080428500\n",
      "Flood map path: N:\\Projects\\11209000\\11209175\\B. Measurements and calculations\\Data\\basin_flood_hazard_maps\\flood_DERP_RW_H_4326_2080428500.geojson\n",
      "2024-10-08 19:22:29 - Coarse overlay of hazard map with assets...\n"
     ]
    },
    {
     "name": "stderr",
     "output_type": "stream",
     "text": [
      "0it [00:00, ?it/s]\n"
     ]
    },
    {
     "name": "stdout",
     "output_type": "stream",
     "text": [
      "2024-10-08 19:22:34 - Reading hazard map 22 of 183: flood_DERP_RW_H_4326_2080429430\n",
      "Flood map path: N:\\Projects\\11209000\\11209175\\B. Measurements and calculations\\Data\\basin_flood_hazard_maps\\flood_DERP_RW_H_4326_2080429430.geojson\n",
      "2024-10-08 19:22:36 - Coarse overlay of hazard map with assets...\n"
     ]
    },
    {
     "name": "stderr",
     "output_type": "stream",
     "text": [
      "100%|██████████| 11/11 [00:00<00:00, 21.91it/s]\n"
     ]
    },
    {
     "name": "stdout",
     "output_type": "stream",
     "text": [
      "2024-10-08 19:23:21 - Reading hazard map 23 of 183: flood_DERP_RW_H_4326_2080429540\n",
      "Flood map path: N:\\Projects\\11209000\\11209175\\B. Measurements and calculations\\Data\\basin_flood_hazard_maps\\flood_DERP_RW_H_4326_2080429540.geojson\n",
      "2024-10-08 19:23:32 - Coarse overlay of hazard map with assets...\n"
     ]
    },
    {
     "name": "stderr",
     "output_type": "stream",
     "text": [
      "100%|██████████| 6/6 [00:00<00:00,  6.74it/s]\n"
     ]
    },
    {
     "name": "stdout",
     "output_type": "stream",
     "text": [
      "2024-10-08 19:31:54 - Reading hazard map 24 of 183: flood_DERP_RW_H_4326_2080429670\n",
      "Flood map path: N:\\Projects\\11209000\\11209175\\B. Measurements and calculations\\Data\\basin_flood_hazard_maps\\flood_DERP_RW_H_4326_2080429670.geojson\n",
      "2024-10-08 19:31:54 - Coarse overlay of hazard map with assets...\n"
     ]
    },
    {
     "name": "stderr",
     "output_type": "stream",
     "text": [
      "0it [00:00, ?it/s]"
     ]
    },
    {
     "name": "stdout",
     "output_type": "stream",
     "text": [
      "2024-10-08 19:31:54 - Reading hazard map 25 of 183: flood_DERP_RW_H_4326_2080429770\n",
      "Flood map path: N:\\Projects\\11209000\\11209175\\B. Measurements and calculations\\Data\\basin_flood_hazard_maps\\flood_DERP_RW_H_4326_2080429770.geojson\n"
     ]
    },
    {
     "name": "stderr",
     "output_type": "stream",
     "text": [
      "\n"
     ]
    },
    {
     "name": "stdout",
     "output_type": "stream",
     "text": [
      "2024-10-08 19:31:54 - Coarse overlay of hazard map with assets...\n"
     ]
    },
    {
     "name": "stderr",
     "output_type": "stream",
     "text": [
      "100%|██████████| 9/9 [00:00<00:00, 74.38it/s]\n"
     ]
    },
    {
     "name": "stdout",
     "output_type": "stream",
     "text": [
      "2024-10-08 19:31:54 - Reading hazard map 26 of 183: flood_DERP_RW_H_4326_2080430240\n",
      "Flood map path: N:\\Projects\\11209000\\11209175\\B. Measurements and calculations\\Data\\basin_flood_hazard_maps\\flood_DERP_RW_H_4326_2080430240.geojson\n",
      "2024-10-08 19:31:57 - Coarse overlay of hazard map with assets...\n"
     ]
    },
    {
     "name": "stderr",
     "output_type": "stream",
     "text": [
      "100%|██████████| 7/7 [00:02<00:00,  2.79it/s]\n"
     ]
    },
    {
     "name": "stdout",
     "output_type": "stream",
     "text": [
      "2024-10-08 19:33:01 - Reading hazard map 27 of 183: flood_DERP_RW_H_4326_2080430320\n",
      "Flood map path: N:\\Projects\\11209000\\11209175\\B. Measurements and calculations\\Data\\basin_flood_hazard_maps\\flood_DERP_RW_H_4326_2080430320.geojson\n",
      "2024-10-08 19:33:04 - Coarse overlay of hazard map with assets...\n"
     ]
    },
    {
     "name": "stderr",
     "output_type": "stream",
     "text": [
      "100%|██████████| 20/20 [00:24<00:00,  1.24s/it]\n"
     ]
    },
    {
     "name": "stdout",
     "output_type": "stream",
     "text": [
      "2024-10-08 19:34:03 - Reading hazard map 28 of 183: flood_DERP_RW_H_4326_2080431110\n",
      "Flood map path: N:\\Projects\\11209000\\11209175\\B. Measurements and calculations\\Data\\basin_flood_hazard_maps\\flood_DERP_RW_H_4326_2080431110.geojson\n",
      "2024-10-08 19:34:05 - Coarse overlay of hazard map with assets...\n"
     ]
    },
    {
     "name": "stderr",
     "output_type": "stream",
     "text": [
      "0it [00:00, ?it/s]\n"
     ]
    },
    {
     "name": "stdout",
     "output_type": "stream",
     "text": [
      "2024-10-08 19:34:16 - Reading hazard map 29 of 183: flood_DERP_RW_H_4326_2080431660\n",
      "Flood map path: N:\\Projects\\11209000\\11209175\\B. Measurements and calculations\\Data\\basin_flood_hazard_maps\\flood_DERP_RW_H_4326_2080431660.geojson\n",
      "2024-10-08 19:34:27 - Coarse overlay of hazard map with assets...\n"
     ]
    },
    {
     "name": "stderr",
     "output_type": "stream",
     "text": [
      "100%|██████████| 2/2 [00:00<00:00, 2003.97it/s]\n"
     ]
    },
    {
     "name": "stdout",
     "output_type": "stream",
     "text": [
      "2024-10-08 19:37:44 - Reading hazard map 30 of 183: flood_DERP_RW_H_4326_2080431750\n",
      "Flood map path: N:\\Projects\\11209000\\11209175\\B. Measurements and calculations\\Data\\basin_flood_hazard_maps\\flood_DERP_RW_H_4326_2080431750.geojson\n",
      "2024-10-08 19:37:56 - Coarse overlay of hazard map with assets...\n"
     ]
    },
    {
     "name": "stderr",
     "output_type": "stream",
     "text": [
      "0it [00:00, ?it/s]\n"
     ]
    },
    {
     "name": "stdout",
     "output_type": "stream",
     "text": [
      "2024-10-08 19:38:54 - Reading hazard map 31 of 183: flood_DERP_RW_H_4326_2080432400\n",
      "Flood map path: N:\\Projects\\11209000\\11209175\\B. Measurements and calculations\\Data\\basin_flood_hazard_maps\\flood_DERP_RW_H_4326_2080432400.geojson\n",
      "2024-10-08 19:38:57 - Coarse overlay of hazard map with assets...\n"
     ]
    },
    {
     "name": "stderr",
     "output_type": "stream",
     "text": [
      "100%|██████████| 3/3 [00:00<00:00,  4.04it/s]\n"
     ]
    },
    {
     "name": "stdout",
     "output_type": "stream",
     "text": [
      "2024-10-08 19:39:17 - Reading hazard map 32 of 183: flood_DERP_RW_H_4326_2080432510\n",
      "Flood map path: N:\\Projects\\11209000\\11209175\\B. Measurements and calculations\\Data\\basin_flood_hazard_maps\\flood_DERP_RW_H_4326_2080432510.geojson\n",
      "2024-10-08 19:39:33 - Coarse overlay of hazard map with assets...\n"
     ]
    },
    {
     "name": "stderr",
     "output_type": "stream",
     "text": [
      "100%|██████████| 14/14 [00:00<00:00, 18.47it/s]\n"
     ]
    },
    {
     "name": "stdout",
     "output_type": "stream",
     "text": [
      "2024-10-08 19:47:23 - Reading hazard map 33 of 183: flood_DERP_RW_H_4326_2080433520\n",
      "Flood map path: N:\\Projects\\11209000\\11209175\\B. Measurements and calculations\\Data\\basin_flood_hazard_maps\\flood_DERP_RW_H_4326_2080433520.geojson\n",
      "2024-10-08 19:47:26 - Coarse overlay of hazard map with assets...\n"
     ]
    },
    {
     "name": "stderr",
     "output_type": "stream",
     "text": [
      "0it [00:00, ?it/s]\n"
     ]
    },
    {
     "name": "stdout",
     "output_type": "stream",
     "text": [
      "2024-10-08 19:47:30 - Reading hazard map 34 of 183: flood_DERP_RW_H_4326_2080433740\n",
      "Flood map path: N:\\Projects\\11209000\\11209175\\B. Measurements and calculations\\Data\\basin_flood_hazard_maps\\flood_DERP_RW_H_4326_2080433740.geojson\n",
      "2024-10-08 19:47:54 - Coarse overlay of hazard map with assets...\n"
     ]
    },
    {
     "name": "stderr",
     "output_type": "stream",
     "text": [
      "0it [00:00, ?it/s]\n"
     ]
    },
    {
     "name": "stdout",
     "output_type": "stream",
     "text": [
      "2024-10-08 19:55:12 - Reading hazard map 35 of 183: flood_DERP_RW_H_4326_2080433960\n",
      "Flood map path: N:\\Projects\\11209000\\11209175\\B. Measurements and calculations\\Data\\basin_flood_hazard_maps\\flood_DERP_RW_H_4326_2080433960.geojson\n",
      "2024-10-08 19:55:44 - Coarse overlay of hazard map with assets...\n"
     ]
    },
    {
     "name": "stderr",
     "output_type": "stream",
     "text": [
      "0it [00:00, ?it/s]\n"
     ]
    },
    {
     "name": "stdout",
     "output_type": "stream",
     "text": [
      "2024-10-08 20:00:15 - Reading hazard map 36 of 183: flood_DERP_RW_H_4326_2080434150\n",
      "Flood map path: N:\\Projects\\11209000\\11209175\\B. Measurements and calculations\\Data\\basin_flood_hazard_maps\\flood_DERP_RW_H_4326_2080434150.geojson\n",
      "2024-10-08 20:00:19 - Coarse overlay of hazard map with assets...\n"
     ]
    },
    {
     "name": "stderr",
     "output_type": "stream",
     "text": [
      "0it [00:00, ?it/s]\n"
     ]
    },
    {
     "name": "stdout",
     "output_type": "stream",
     "text": [
      "2024-10-08 20:00:24 - Reading hazard map 37 of 183: flood_DERP_RW_H_4326_2080434280\n",
      "Flood map path: N:\\Projects\\11209000\\11209175\\B. Measurements and calculations\\Data\\basin_flood_hazard_maps\\flood_DERP_RW_H_4326_2080434280.geojson\n",
      "2024-10-08 20:00:28 - Coarse overlay of hazard map with assets...\n"
     ]
    },
    {
     "name": "stderr",
     "output_type": "stream",
     "text": [
      "100%|██████████| 2/2 [00:01<00:00,  1.84it/s]\n"
     ]
    },
    {
     "name": "stdout",
     "output_type": "stream",
     "text": [
      "2024-10-08 20:00:53 - Reading hazard map 38 of 183: flood_DERP_RW_H_4326_2080434470\n",
      "Flood map path: N:\\Projects\\11209000\\11209175\\B. Measurements and calculations\\Data\\basin_flood_hazard_maps\\flood_DERP_RW_H_4326_2080434470.geojson\n",
      "2024-10-08 20:01:17 - Coarse overlay of hazard map with assets...\n"
     ]
    },
    {
     "name": "stderr",
     "output_type": "stream",
     "text": [
      "100%|██████████| 34/34 [02:16<00:00,  4.03s/it] \n"
     ]
    },
    {
     "name": "stdout",
     "output_type": "stream",
     "text": [
      "2024-10-08 20:13:19 - Reading hazard map 39 of 183: flood_DERP_RW_H_4326_2080434490\n",
      "Flood map path: N:\\Projects\\11209000\\11209175\\B. Measurements and calculations\\Data\\basin_flood_hazard_maps\\flood_DERP_RW_H_4326_2080434490.geojson\n",
      "2024-10-08 20:13:26 - Coarse overlay of hazard map with assets...\n"
     ]
    },
    {
     "name": "stderr",
     "output_type": "stream",
     "text": [
      "100%|██████████| 33/33 [00:00<00:00, 57.09it/s]\n"
     ]
    },
    {
     "name": "stdout",
     "output_type": "stream",
     "text": [
      "2024-10-08 20:15:24 - Reading hazard map 40 of 183: flood_DERP_RW_H_4326_2080434630\n",
      "Flood map path: N:\\Projects\\11209000\\11209175\\B. Measurements and calculations\\Data\\basin_flood_hazard_maps\\flood_DERP_RW_H_4326_2080434630.geojson\n",
      "2024-10-08 20:15:40 - Coarse overlay of hazard map with assets...\n"
     ]
    },
    {
     "name": "stderr",
     "output_type": "stream",
     "text": [
      "100%|██████████| 3/3 [00:00<00:00, 1490.69it/s]\n"
     ]
    },
    {
     "name": "stdout",
     "output_type": "stream",
     "text": [
      "2024-10-08 21:20:32 - Reading hazard map 41 of 183: flood_DERP_RW_H_4326_2080435040\n",
      "Flood map path: N:\\Projects\\11209000\\11209175\\B. Measurements and calculations\\Data\\basin_flood_hazard_maps\\flood_DERP_RW_H_4326_2080435040.geojson\n",
      "2024-10-08 21:21:07 - Coarse overlay of hazard map with assets...\n"
     ]
    },
    {
     "name": "stderr",
     "output_type": "stream",
     "text": [
      "100%|██████████| 58/58 [00:09<00:00,  6.12it/s]\n"
     ]
    },
    {
     "name": "stdout",
     "output_type": "stream",
     "text": [
      "2024-10-08 21:55:50 - Reading hazard map 42 of 183: flood_DERP_RW_H_4326_2080435320\n",
      "Flood map path: N:\\Projects\\11209000\\11209175\\B. Measurements and calculations\\Data\\basin_flood_hazard_maps\\flood_DERP_RW_H_4326_2080435320.geojson\n",
      "2024-10-08 21:56:00 - Coarse overlay of hazard map with assets...\n"
     ]
    },
    {
     "name": "stderr",
     "output_type": "stream",
     "text": [
      "100%|██████████| 4/4 [00:07<00:00,  1.97s/it]\n"
     ]
    },
    {
     "name": "stdout",
     "output_type": "stream",
     "text": [
      "2024-10-08 21:58:13 - Reading hazard map 43 of 183: flood_DERP_RW_H_4326_2080436660\n",
      "Flood map path: N:\\Projects\\11209000\\11209175\\B. Measurements and calculations\\Data\\basin_flood_hazard_maps\\flood_DERP_RW_H_4326_2080436660.geojson\n",
      "2024-10-08 21:58:17 - Coarse overlay of hazard map with assets...\n"
     ]
    },
    {
     "name": "stderr",
     "output_type": "stream",
     "text": [
      "0it [00:00, ?it/s]\n"
     ]
    },
    {
     "name": "stdout",
     "output_type": "stream",
     "text": [
      "2024-10-08 21:58:24 - Reading hazard map 44 of 183: flood_DERP_RW_H_4326_2080436860\n",
      "Flood map path: N:\\Projects\\11209000\\11209175\\B. Measurements and calculations\\Data\\basin_flood_hazard_maps\\flood_DERP_RW_H_4326_2080436860.geojson\n",
      "2024-10-08 21:58:24 - Coarse overlay of hazard map with assets...\n"
     ]
    },
    {
     "name": "stderr",
     "output_type": "stream",
     "text": [
      "0it [00:00, ?it/s]\n"
     ]
    },
    {
     "name": "stdout",
     "output_type": "stream",
     "text": [
      "2024-10-08 21:58:25 - Reading hazard map 45 of 183: flood_DERP_RW_H_4326_2080436870\n",
      "Flood map path: N:\\Projects\\11209000\\11209175\\B. Measurements and calculations\\Data\\basin_flood_hazard_maps\\flood_DERP_RW_H_4326_2080436870.geojson\n",
      "2024-10-08 21:58:25 - Coarse overlay of hazard map with assets...\n"
     ]
    },
    {
     "name": "stderr",
     "output_type": "stream",
     "text": [
      "0it [00:00, ?it/s]\n"
     ]
    },
    {
     "name": "stdout",
     "output_type": "stream",
     "text": [
      "2024-10-08 21:58:26 - Reading hazard map 46 of 183: flood_DERP_RW_H_4326_2080437100\n",
      "Flood map path: N:\\Projects\\11209000\\11209175\\B. Measurements and calculations\\Data\\basin_flood_hazard_maps\\flood_DERP_RW_H_4326_2080437100.geojson\n",
      "2024-10-08 21:58:31 - Coarse overlay of hazard map with assets...\n"
     ]
    },
    {
     "name": "stderr",
     "output_type": "stream",
     "text": [
      "100%|██████████| 3/3 [00:23<00:00,  7.87s/it]\n"
     ]
    },
    {
     "name": "stdout",
     "output_type": "stream",
     "text": [
      "2024-10-08 22:00:09 - Reading hazard map 47 of 183: flood_DERP_RW_H_4326_2080437230\n",
      "Flood map path: N:\\Projects\\11209000\\11209175\\B. Measurements and calculations\\Data\\basin_flood_hazard_maps\\flood_DERP_RW_H_4326_2080437230.geojson\n",
      "2024-10-08 22:00:19 - Coarse overlay of hazard map with assets...\n"
     ]
    },
    {
     "name": "stderr",
     "output_type": "stream",
     "text": [
      "100%|██████████| 3/3 [00:01<00:00,  2.89it/s]\n"
     ]
    },
    {
     "name": "stdout",
     "output_type": "stream",
     "text": [
      "2024-10-08 22:03:56 - Reading hazard map 48 of 183: flood_DERP_RW_H_4326_2080437370\n",
      "Flood map path: N:\\Projects\\11209000\\11209175\\B. Measurements and calculations\\Data\\basin_flood_hazard_maps\\flood_DERP_RW_H_4326_2080437370.geojson\n",
      "2024-10-08 22:04:00 - Coarse overlay of hazard map with assets...\n"
     ]
    },
    {
     "name": "stderr",
     "output_type": "stream",
     "text": [
      "100%|██████████| 3/3 [00:00<00:00, 1499.93it/s]\n"
     ]
    },
    {
     "name": "stdout",
     "output_type": "stream",
     "text": [
      "2024-10-08 22:04:44 - Reading hazard map 49 of 183: flood_DERP_RW_H_4326_2080438230\n",
      "Flood map path: N:\\Projects\\11209000\\11209175\\B. Measurements and calculations\\Data\\basin_flood_hazard_maps\\flood_DERP_RW_H_4326_2080438230.geojson\n",
      "2024-10-08 22:04:51 - Coarse overlay of hazard map with assets...\n"
     ]
    },
    {
     "name": "stderr",
     "output_type": "stream",
     "text": [
      "100%|██████████| 5/5 [00:00<00:00, 2502.27it/s]\n"
     ]
    },
    {
     "name": "stdout",
     "output_type": "stream",
     "text": [
      "2024-10-08 22:07:56 - Reading hazard map 50 of 183: flood_DERP_RW_H_4326_2080438240\n",
      "Flood map path: N:\\Projects\\11209000\\11209175\\B. Measurements and calculations\\Data\\basin_flood_hazard_maps\\flood_DERP_RW_H_4326_2080438240.geojson\n",
      "2024-10-08 22:08:01 - Coarse overlay of hazard map with assets...\n"
     ]
    },
    {
     "name": "stderr",
     "output_type": "stream",
     "text": [
      "100%|██████████| 14/14 [00:05<00:00,  2.66it/s]\n"
     ]
    },
    {
     "name": "stdout",
     "output_type": "stream",
     "text": [
      "2024-10-08 22:08:49 - Reading hazard map 51 of 183: flood_DERP_RW_H_4326_2080438400\n",
      "Flood map path: N:\\Projects\\11209000\\11209175\\B. Measurements and calculations\\Data\\basin_flood_hazard_maps\\flood_DERP_RW_H_4326_2080438400.geojson\n",
      "2024-10-08 22:09:10 - Coarse overlay of hazard map with assets...\n"
     ]
    },
    {
     "name": "stderr",
     "output_type": "stream",
     "text": [
      "100%|██████████| 21/21 [06:18<00:00, 18.04s/it]\n"
     ]
    },
    {
     "name": "stdout",
     "output_type": "stream",
     "text": [
      "2024-10-08 22:27:17 - Reading hazard map 52 of 183: flood_DERP_RW_H_4326_2080438410\n",
      "Flood map path: N:\\Projects\\11209000\\11209175\\B. Measurements and calculations\\Data\\basin_flood_hazard_maps\\flood_DERP_RW_H_4326_2080438410.geojson\n",
      "2024-10-08 22:27:25 - Coarse overlay of hazard map with assets...\n"
     ]
    },
    {
     "name": "stderr",
     "output_type": "stream",
     "text": [
      "100%|██████████| 6/6 [00:03<00:00,  1.94it/s]\n"
     ]
    },
    {
     "name": "stdout",
     "output_type": "stream",
     "text": [
      "2024-10-08 22:30:49 - Reading hazard map 53 of 183: flood_DERP_RW_H_4326_2080439400\n",
      "Flood map path: N:\\Projects\\11209000\\11209175\\B. Measurements and calculations\\Data\\basin_flood_hazard_maps\\flood_DERP_RW_H_4326_2080439400.geojson\n",
      "2024-10-08 22:30:58 - Coarse overlay of hazard map with assets...\n"
     ]
    },
    {
     "name": "stderr",
     "output_type": "stream",
     "text": [
      "0it [00:00, ?it/s]\n"
     ]
    },
    {
     "name": "stdout",
     "output_type": "stream",
     "text": [
      "2024-10-08 22:37:01 - Reading hazard map 54 of 183: flood_DERP_RW_H_4326_2080439410\n",
      "Flood map path: N:\\Projects\\11209000\\11209175\\B. Measurements and calculations\\Data\\basin_flood_hazard_maps\\flood_DERP_RW_H_4326_2080439410.geojson\n",
      "2024-10-08 22:37:06 - Coarse overlay of hazard map with assets...\n"
     ]
    },
    {
     "name": "stderr",
     "output_type": "stream",
     "text": [
      "100%|██████████| 20/20 [00:03<00:00,  6.60it/s]\n"
     ]
    },
    {
     "name": "stdout",
     "output_type": "stream",
     "text": [
      "2024-10-08 22:39:37 - Reading hazard map 55 of 183: flood_DERP_RW_H_4326_2080441280\n",
      "Flood map path: N:\\Projects\\11209000\\11209175\\B. Measurements and calculations\\Data\\basin_flood_hazard_maps\\flood_DERP_RW_H_4326_2080441280.geojson\n",
      "2024-10-08 22:39:46 - Coarse overlay of hazard map with assets...\n"
     ]
    },
    {
     "name": "stderr",
     "output_type": "stream",
     "text": [
      "100%|██████████| 14/14 [00:03<00:00,  3.66it/s]\n"
     ]
    },
    {
     "name": "stdout",
     "output_type": "stream",
     "text": [
      "2024-10-08 22:46:50 - Reading hazard map 56 of 183: flood_DERP_RW_H_4326_2080446220\n",
      "Flood map path: N:\\Projects\\11209000\\11209175\\B. Measurements and calculations\\Data\\basin_flood_hazard_maps\\flood_DERP_RW_H_4326_2080446220.geojson\n",
      "2024-10-08 22:46:59 - Coarse overlay of hazard map with assets...\n"
     ]
    },
    {
     "name": "stderr",
     "output_type": "stream",
     "text": [
      "100%|██████████| 30/30 [01:17<00:00,  2.59s/it]\n"
     ]
    },
    {
     "name": "stdout",
     "output_type": "stream",
     "text": [
      "2024-10-08 22:51:08 - Reading hazard map 57 of 183: flood_DERP_RW_H_4326_2080446320\n",
      "Flood map path: N:\\Projects\\11209000\\11209175\\B. Measurements and calculations\\Data\\basin_flood_hazard_maps\\flood_DERP_RW_H_4326_2080446320.geojson\n",
      "2024-10-08 22:51:11 - Coarse overlay of hazard map with assets...\n"
     ]
    },
    {
     "name": "stderr",
     "output_type": "stream",
     "text": [
      "0it [00:00, ?it/s]\n"
     ]
    },
    {
     "name": "stdout",
     "output_type": "stream",
     "text": [
      "2024-10-08 22:51:13 - Reading hazard map 58 of 183: flood_DERP_RW_H_4326_2080447840\n",
      "Flood map path: N:\\Projects\\11209000\\11209175\\B. Measurements and calculations\\Data\\basin_flood_hazard_maps\\flood_DERP_RW_H_4326_2080447840.geojson\n",
      "2024-10-08 22:52:01 - Coarse overlay of hazard map with assets...\n"
     ]
    },
    {
     "name": "stderr",
     "output_type": "stream",
     "text": [
      "100%|██████████| 54/54 [05:01<00:00,  5.57s/it]\n"
     ]
    },
    {
     "name": "stdout",
     "output_type": "stream",
     "text": [
      "2024-10-09 00:54:15 - Reading hazard map 59 of 183: flood_DERP_RW_H_4326_2080447970\n",
      "Flood map path: N:\\Projects\\11209000\\11209175\\B. Measurements and calculations\\Data\\basin_flood_hazard_maps\\flood_DERP_RW_H_4326_2080447970.geojson\n",
      "2024-10-09 00:54:24 - Coarse overlay of hazard map with assets...\n"
     ]
    },
    {
     "name": "stderr",
     "output_type": "stream",
     "text": [
      "100%|██████████| 6/6 [02:25<00:00, 24.20s/it]\n"
     ]
    },
    {
     "name": "stdout",
     "output_type": "stream",
     "text": [
      "2024-10-09 00:59:40 - Reading hazard map 60 of 183: flood_DERP_RW_H_4326_2080448120\n",
      "Flood map path: N:\\Projects\\11209000\\11209175\\B. Measurements and calculations\\Data\\basin_flood_hazard_maps\\flood_DERP_RW_H_4326_2080448120.geojson\n",
      "2024-10-09 00:59:49 - Coarse overlay of hazard map with assets...\n"
     ]
    },
    {
     "name": "stderr",
     "output_type": "stream",
     "text": [
      "0it [00:00, ?it/s]\n"
     ]
    },
    {
     "name": "stdout",
     "output_type": "stream",
     "text": [
      "2024-10-09 01:01:25 - Reading hazard map 61 of 183: flood_DERP_RW_H_4326_2080451930\n",
      "Flood map path: N:\\Projects\\11209000\\11209175\\B. Measurements and calculations\\Data\\basin_flood_hazard_maps\\flood_DERP_RW_H_4326_2080451930.geojson\n",
      "2024-10-09 01:01:27 - Coarse overlay of hazard map with assets...\n"
     ]
    },
    {
     "name": "stderr",
     "output_type": "stream",
     "text": [
      "100%|██████████| 2/2 [00:00<00:00,  7.87it/s]\n"
     ]
    },
    {
     "name": "stdout",
     "output_type": "stream",
     "text": [
      "2024-10-09 01:01:29 - Reading hazard map 62 of 183: flood_DERP_RW_L_4326_2080410170\n",
      "Flood map path: N:\\Projects\\11209000\\11209175\\B. Measurements and calculations\\Data\\basin_flood_hazard_maps\\flood_DERP_RW_L_4326_2080410170.geojson\n",
      "2024-10-09 01:01:37 - Coarse overlay of hazard map with assets...\n"
     ]
    },
    {
     "name": "stderr",
     "output_type": "stream",
     "text": [
      "100%|██████████| 34/34 [01:51<00:00,  3.27s/it]\n"
     ]
    },
    {
     "name": "stdout",
     "output_type": "stream",
     "text": [
      "2024-10-09 01:09:36 - Reading hazard map 63 of 183: flood_DERP_RW_L_4326_2080410430\n",
      "Flood map path: N:\\Projects\\11209000\\11209175\\B. Measurements and calculations\\Data\\basin_flood_hazard_maps\\flood_DERP_RW_L_4326_2080410430.geojson\n",
      "2024-10-09 01:09:41 - Coarse overlay of hazard map with assets...\n"
     ]
    },
    {
     "name": "stderr",
     "output_type": "stream",
     "text": [
      "100%|██████████| 20/20 [01:23<00:00,  4.17s/it]\n"
     ]
    },
    {
     "name": "stdout",
     "output_type": "stream",
     "text": [
      "2024-10-09 01:12:04 - Reading hazard map 64 of 183: flood_DERP_RW_L_4326_2080410540\n",
      "Flood map path: N:\\Projects\\11209000\\11209175\\B. Measurements and calculations\\Data\\basin_flood_hazard_maps\\flood_DERP_RW_L_4326_2080410540.geojson\n",
      "2024-10-09 01:12:12 - Coarse overlay of hazard map with assets...\n"
     ]
    },
    {
     "name": "stderr",
     "output_type": "stream",
     "text": [
      "100%|██████████| 48/48 [08:22<00:00, 10.47s/it]\n"
     ]
    },
    {
     "name": "stdout",
     "output_type": "stream",
     "text": [
      "2024-10-09 01:24:00 - Reading hazard map 65 of 183: flood_DERP_RW_L_4326_2080410660\n",
      "Flood map path: N:\\Projects\\11209000\\11209175\\B. Measurements and calculations\\Data\\basin_flood_hazard_maps\\flood_DERP_RW_L_4326_2080410660.geojson\n",
      "2024-10-09 01:24:03 - Coarse overlay of hazard map with assets...\n"
     ]
    },
    {
     "name": "stderr",
     "output_type": "stream",
     "text": [
      "100%|██████████| 11/11 [00:07<00:00,  1.45it/s]\n"
     ]
    },
    {
     "name": "stdout",
     "output_type": "stream",
     "text": [
      "2024-10-09 01:24:19 - Reading hazard map 66 of 183: flood_DERP_RW_L_4326_2080410760\n",
      "Flood map path: N:\\Projects\\11209000\\11209175\\B. Measurements and calculations\\Data\\basin_flood_hazard_maps\\flood_DERP_RW_L_4326_2080410760.geojson\n",
      "2024-10-09 01:24:33 - Coarse overlay of hazard map with assets...\n"
     ]
    },
    {
     "name": "stderr",
     "output_type": "stream",
     "text": [
      "100%|██████████| 3/3 [03:23<00:00, 67.85s/it]\n"
     ]
    },
    {
     "name": "stdout",
     "output_type": "stream",
     "text": [
      "2024-10-09 01:32:21 - Reading hazard map 67 of 183: flood_DERP_RW_L_4326_2080411370\n",
      "Flood map path: N:\\Projects\\11209000\\11209175\\B. Measurements and calculations\\Data\\basin_flood_hazard_maps\\flood_DERP_RW_L_4326_2080411370.geojson\n",
      "2024-10-09 01:32:25 - Coarse overlay of hazard map with assets...\n"
     ]
    },
    {
     "name": "stderr",
     "output_type": "stream",
     "text": [
      "100%|██████████| 100/100 [03:06<00:00,  1.87s/it]\n"
     ]
    },
    {
     "name": "stdout",
     "output_type": "stream",
     "text": [
      "2024-10-09 01:36:22 - Reading hazard map 68 of 183: flood_DERP_RW_L_4326_2080416200\n",
      "Flood map path: N:\\Projects\\11209000\\11209175\\B. Measurements and calculations\\Data\\basin_flood_hazard_maps\\flood_DERP_RW_L_4326_2080416200.geojson\n",
      "2024-10-09 01:36:44 - Coarse overlay of hazard map with assets...\n"
     ]
    },
    {
     "name": "stderr",
     "output_type": "stream",
     "text": [
      "100%|██████████| 4/4 [00:07<00:00,  1.82s/it]\n"
     ]
    },
    {
     "name": "stdout",
     "output_type": "stream",
     "text": [
      "2024-10-09 01:43:03 - Reading hazard map 69 of 183: flood_DERP_RW_L_4326_2080416210\n",
      "Flood map path: N:\\Projects\\11209000\\11209175\\B. Measurements and calculations\\Data\\basin_flood_hazard_maps\\flood_DERP_RW_L_4326_2080416210.geojson\n",
      "2024-10-09 01:43:15 - Coarse overlay of hazard map with assets...\n"
     ]
    },
    {
     "name": "stderr",
     "output_type": "stream",
     "text": [
      "100%|██████████| 152/152 [08:54<00:00,  3.52s/it]\n"
     ]
    },
    {
     "name": "stdout",
     "output_type": "stream",
     "text": [
      "2024-10-09 01:55:24 - Reading hazard map 70 of 183: flood_DERP_RW_L_4326_2080418600\n",
      "Flood map path: N:\\Projects\\11209000\\11209175\\B. Measurements and calculations\\Data\\basin_flood_hazard_maps\\flood_DERP_RW_L_4326_2080418600.geojson\n",
      "2024-10-09 01:55:54 - Coarse overlay of hazard map with assets...\n"
     ]
    },
    {
     "name": "stderr",
     "output_type": "stream",
     "text": [
      "100%|██████████| 67/67 [26:13<00:00, 23.48s/it]   \n"
     ]
    },
    {
     "name": "stdout",
     "output_type": "stream",
     "text": [
      "2024-10-09 02:45:53 - Reading hazard map 71 of 183: flood_DERP_RW_L_4326_2080418720\n",
      "Flood map path: N:\\Projects\\11209000\\11209175\\B. Measurements and calculations\\Data\\basin_flood_hazard_maps\\flood_DERP_RW_L_4326_2080418720.geojson\n",
      "2024-10-09 02:45:53 - Coarse overlay of hazard map with assets...\n"
     ]
    },
    {
     "name": "stderr",
     "output_type": "stream",
     "text": [
      "100%|██████████| 7/7 [00:00<00:00, 17.46it/s]\n"
     ]
    },
    {
     "name": "stdout",
     "output_type": "stream",
     "text": [
      "2024-10-09 02:45:54 - Reading hazard map 72 of 183: flood_DERP_RW_L_4326_2080418880\n",
      "Flood map path: N:\\Projects\\11209000\\11209175\\B. Measurements and calculations\\Data\\basin_flood_hazard_maps\\flood_DERP_RW_L_4326_2080418880.geojson\n",
      "2024-10-09 02:46:05 - Coarse overlay of hazard map with assets...\n"
     ]
    },
    {
     "name": "stderr",
     "output_type": "stream",
     "text": [
      "100%|██████████| 11/11 [00:07<00:00,  1.46it/s]\n"
     ]
    },
    {
     "name": "stdout",
     "output_type": "stream",
     "text": [
      "2024-10-09 02:48:32 - Reading hazard map 73 of 183: flood_DERP_RW_L_4326_2080418890\n",
      "Flood map path: N:\\Projects\\11209000\\11209175\\B. Measurements and calculations\\Data\\basin_flood_hazard_maps\\flood_DERP_RW_L_4326_2080418890.geojson\n",
      "2024-10-09 02:48:44 - Coarse overlay of hazard map with assets...\n"
     ]
    },
    {
     "name": "stderr",
     "output_type": "stream",
     "text": [
      "100%|██████████| 78/78 [03:43<00:00,  2.87s/it]\n"
     ]
    },
    {
     "name": "stdout",
     "output_type": "stream",
     "text": [
      "2024-10-09 02:55:13 - Reading hazard map 74 of 183: flood_DERP_RW_L_4326_2080419070\n",
      "Flood map path: N:\\Projects\\11209000\\11209175\\B. Measurements and calculations\\Data\\basin_flood_hazard_maps\\flood_DERP_RW_L_4326_2080419070.geojson\n",
      "2024-10-09 02:55:14 - Coarse overlay of hazard map with assets...\n"
     ]
    },
    {
     "name": "stderr",
     "output_type": "stream",
     "text": [
      "100%|██████████| 3/3 [00:00<00:00,  4.39it/s]\n"
     ]
    },
    {
     "name": "stdout",
     "output_type": "stream",
     "text": [
      "2024-10-09 02:55:17 - Reading hazard map 75 of 183: flood_DERP_RW_L_4326_2080419180\n",
      "Flood map path: N:\\Projects\\11209000\\11209175\\B. Measurements and calculations\\Data\\basin_flood_hazard_maps\\flood_DERP_RW_L_4326_2080419180.geojson\n",
      "2024-10-09 02:55:22 - Coarse overlay of hazard map with assets...\n"
     ]
    },
    {
     "name": "stderr",
     "output_type": "stream",
     "text": [
      "100%|██████████| 62/62 [01:21<00:00,  1.31s/it]\n"
     ]
    },
    {
     "name": "stdout",
     "output_type": "stream",
     "text": [
      "2024-10-09 02:58:15 - Reading hazard map 76 of 183: flood_DERP_RW_L_4326_2080420240\n",
      "Flood map path: N:\\Projects\\11209000\\11209175\\B. Measurements and calculations\\Data\\basin_flood_hazard_maps\\flood_DERP_RW_L_4326_2080420240.geojson\n",
      "2024-10-09 02:58:43 - Coarse overlay of hazard map with assets...\n"
     ]
    },
    {
     "name": "stderr",
     "output_type": "stream",
     "text": [
      "100%|██████████| 202/202 [1:22:33<00:00, 24.52s/it]  \n"
     ]
    },
    {
     "name": "stdout",
     "output_type": "stream",
     "text": [
      "2024-10-09 05:06:48 - Reading hazard map 77 of 183: flood_DERP_RW_L_4326_2080420340\n",
      "Flood map path: N:\\Projects\\11209000\\11209175\\B. Measurements and calculations\\Data\\basin_flood_hazard_maps\\flood_DERP_RW_L_4326_2080420340.geojson\n",
      "2024-10-09 05:06:51 - Coarse overlay of hazard map with assets...\n"
     ]
    },
    {
     "name": "stderr",
     "output_type": "stream",
     "text": [
      "100%|██████████| 32/32 [00:23<00:00,  1.37it/s]\n"
     ]
    },
    {
     "name": "stdout",
     "output_type": "stream",
     "text": [
      "2024-10-09 05:07:47 - Reading hazard map 78 of 183: flood_DERP_RW_L_4326_2080421680\n",
      "Flood map path: N:\\Projects\\11209000\\11209175\\B. Measurements and calculations\\Data\\basin_flood_hazard_maps\\flood_DERP_RW_L_4326_2080421680.geojson\n",
      "2024-10-09 05:08:11 - Coarse overlay of hazard map with assets...\n"
     ]
    },
    {
     "name": "stderr",
     "output_type": "stream",
     "text": [
      "100%|██████████| 119/119 [58:59<00:00, 29.74s/it] \n"
     ]
    },
    {
     "name": "stdout",
     "output_type": "stream",
     "text": [
      "2024-10-09 06:57:17 - Reading hazard map 79 of 183: flood_DERP_RW_L_4326_2080421770\n",
      "Flood map path: N:\\Projects\\11209000\\11209175\\B. Measurements and calculations\\Data\\basin_flood_hazard_maps\\flood_DERP_RW_L_4326_2080421770.geojson\n",
      "2024-10-09 06:57:29 - Coarse overlay of hazard map with assets...\n"
     ]
    },
    {
     "name": "stderr",
     "output_type": "stream",
     "text": [
      "100%|██████████| 190/190 [1:10:59<00:00, 22.42s/it] \n"
     ]
    },
    {
     "name": "stdout",
     "output_type": "stream",
     "text": [
      "2024-10-09 08:22:02 - Reading hazard map 80 of 183: flood_DERP_RW_L_4326_2080428080\n",
      "Flood map path: N:\\Projects\\11209000\\11209175\\B. Measurements and calculations\\Data\\basin_flood_hazard_maps\\flood_DERP_RW_L_4326_2080428080.geojson\n",
      "2024-10-09 08:22:16 - Coarse overlay of hazard map with assets...\n"
     ]
    },
    {
     "name": "stderr",
     "output_type": "stream",
     "text": [
      "0it [00:00, ?it/s]\n"
     ]
    },
    {
     "name": "stdout",
     "output_type": "stream",
     "text": [
      "2024-10-09 08:23:41 - Reading hazard map 81 of 183: flood_DERP_RW_L_4326_2080428160\n",
      "Flood map path: N:\\Projects\\11209000\\11209175\\B. Measurements and calculations\\Data\\basin_flood_hazard_maps\\flood_DERP_RW_L_4326_2080428160.geojson\n",
      "2024-10-09 08:23:55 - Coarse overlay of hazard map with assets...\n"
     ]
    },
    {
     "name": "stderr",
     "output_type": "stream",
     "text": [
      "100%|██████████| 11/11 [00:51<00:00,  4.65s/it]\n"
     ]
    },
    {
     "name": "stdout",
     "output_type": "stream",
     "text": [
      "2024-10-09 08:30:40 - Reading hazard map 82 of 183: flood_DERP_RW_L_4326_2080428500\n",
      "Flood map path: N:\\Projects\\11209000\\11209175\\B. Measurements and calculations\\Data\\basin_flood_hazard_maps\\flood_DERP_RW_L_4326_2080428500.geojson\n",
      "2024-10-09 08:30:42 - Coarse overlay of hazard map with assets...\n"
     ]
    },
    {
     "name": "stderr",
     "output_type": "stream",
     "text": [
      "100%|██████████| 28/28 [00:09<00:00,  2.92it/s]\n"
     ]
    },
    {
     "name": "stdout",
     "output_type": "stream",
     "text": [
      "2024-10-09 08:31:03 - Reading hazard map 83 of 183: flood_DERP_RW_L_4326_2080429430\n",
      "Flood map path: N:\\Projects\\11209000\\11209175\\B. Measurements and calculations\\Data\\basin_flood_hazard_maps\\flood_DERP_RW_L_4326_2080429430.geojson\n",
      "2024-10-09 08:31:08 - Coarse overlay of hazard map with assets...\n"
     ]
    },
    {
     "name": "stderr",
     "output_type": "stream",
     "text": [
      "100%|██████████| 112/112 [08:05<00:00,  4.33s/it]\n"
     ]
    },
    {
     "name": "stdout",
     "output_type": "stream",
     "text": [
      "2024-10-09 08:43:32 - Reading hazard map 84 of 183: flood_DERP_RW_L_4326_2080429540\n",
      "Flood map path: N:\\Projects\\11209000\\11209175\\B. Measurements and calculations\\Data\\basin_flood_hazard_maps\\flood_DERP_RW_L_4326_2080429540.geojson\n",
      "2024-10-09 08:43:50 - Coarse overlay of hazard map with assets...\n"
     ]
    },
    {
     "name": "stderr",
     "output_type": "stream",
     "text": [
      "100%|██████████| 6/6 [00:04<00:00,  1.32it/s]\n"
     ]
    },
    {
     "name": "stdout",
     "output_type": "stream",
     "text": [
      "2024-10-09 08:48:39 - Reading hazard map 85 of 183: flood_DERP_RW_L_4326_2080429670\n",
      "Flood map path: N:\\Projects\\11209000\\11209175\\B. Measurements and calculations\\Data\\basin_flood_hazard_maps\\flood_DERP_RW_L_4326_2080429670.geojson\n",
      "2024-10-09 08:48:40 - Coarse overlay of hazard map with assets...\n"
     ]
    },
    {
     "name": "stderr",
     "output_type": "stream",
     "text": [
      "0it [00:00, ?it/s]\n"
     ]
    },
    {
     "name": "stdout",
     "output_type": "stream",
     "text": [
      "2024-10-09 08:48:40 - Reading hazard map 86 of 183: flood_DERP_RW_L_4326_2080429770\n",
      "Flood map path: N:\\Projects\\11209000\\11209175\\B. Measurements and calculations\\Data\\basin_flood_hazard_maps\\flood_DERP_RW_L_4326_2080429770.geojson\n",
      "2024-10-09 08:48:40 - Coarse overlay of hazard map with assets...\n"
     ]
    },
    {
     "name": "stderr",
     "output_type": "stream",
     "text": [
      "100%|██████████| 56/56 [00:08<00:00,  6.73it/s]\n"
     ]
    },
    {
     "name": "stdout",
     "output_type": "stream",
     "text": [
      "2024-10-09 08:48:50 - Reading hazard map 87 of 183: flood_DERP_RW_L_4326_2080430240\n",
      "Flood map path: N:\\Projects\\11209000\\11209175\\B. Measurements and calculations\\Data\\basin_flood_hazard_maps\\flood_DERP_RW_L_4326_2080430240.geojson\n",
      "2024-10-09 08:48:54 - Coarse overlay of hazard map with assets...\n"
     ]
    },
    {
     "name": "stderr",
     "output_type": "stream",
     "text": [
      "100%|██████████| 25/25 [00:42<00:00,  1.71s/it]\n"
     ]
    },
    {
     "name": "stdout",
     "output_type": "stream",
     "text": [
      "2024-10-09 08:50:33 - Reading hazard map 88 of 183: flood_DERP_RW_L_4326_2080430320\n",
      "Flood map path: N:\\Projects\\11209000\\11209175\\B. Measurements and calculations\\Data\\basin_flood_hazard_maps\\flood_DERP_RW_L_4326_2080430320.geojson\n",
      "2024-10-09 08:50:40 - Coarse overlay of hazard map with assets...\n"
     ]
    },
    {
     "name": "stderr",
     "output_type": "stream",
     "text": [
      "100%|██████████| 42/42 [02:25<00:00,  3.46s/it]\n"
     ]
    },
    {
     "name": "stdout",
     "output_type": "stream",
     "text": [
      "2024-10-09 08:53:46 - Reading hazard map 89 of 183: flood_DERP_RW_L_4326_2080431110\n",
      "Flood map path: N:\\Projects\\11209000\\11209175\\B. Measurements and calculations\\Data\\basin_flood_hazard_maps\\flood_DERP_RW_L_4326_2080431110.geojson\n",
      "2024-10-09 08:53:50 - Coarse overlay of hazard map with assets...\n"
     ]
    },
    {
     "name": "stderr",
     "output_type": "stream",
     "text": [
      "100%|██████████| 88/88 [02:19<00:00,  1.58s/it]\n"
     ]
    },
    {
     "name": "stdout",
     "output_type": "stream",
     "text": [
      "2024-10-09 08:57:54 - Reading hazard map 90 of 183: flood_DERP_RW_L_4326_2080431660\n",
      "Flood map path: N:\\Projects\\11209000\\11209175\\B. Measurements and calculations\\Data\\basin_flood_hazard_maps\\flood_DERP_RW_L_4326_2080431660.geojson\n",
      "2024-10-09 08:58:08 - Coarse overlay of hazard map with assets...\n"
     ]
    },
    {
     "name": "stderr",
     "output_type": "stream",
     "text": [
      "100%|██████████| 2/2 [00:05<00:00,  2.66s/it]\n"
     ]
    },
    {
     "name": "stdout",
     "output_type": "stream",
     "text": [
      "2024-10-09 09:05:26 - Reading hazard map 91 of 183: flood_DERP_RW_L_4326_2080431750\n",
      "Flood map path: N:\\Projects\\11209000\\11209175\\B. Measurements and calculations\\Data\\basin_flood_hazard_maps\\flood_DERP_RW_L_4326_2080431750.geojson\n",
      "2024-10-09 09:05:40 - Coarse overlay of hazard map with assets...\n"
     ]
    },
    {
     "name": "stderr",
     "output_type": "stream",
     "text": [
      "0it [00:00, ?it/s]\n"
     ]
    },
    {
     "name": "stdout",
     "output_type": "stream",
     "text": [
      "2024-10-09 09:07:05 - Reading hazard map 92 of 183: flood_DERP_RW_L_4326_2080432400\n",
      "Flood map path: N:\\Projects\\11209000\\11209175\\B. Measurements and calculations\\Data\\basin_flood_hazard_maps\\flood_DERP_RW_L_4326_2080432400.geojson\n",
      "2024-10-09 09:07:10 - Coarse overlay of hazard map with assets...\n"
     ]
    },
    {
     "name": "stderr",
     "output_type": "stream",
     "text": [
      "100%|██████████| 4/4 [00:03<00:00,  1.22it/s]\n"
     ]
    },
    {
     "name": "stdout",
     "output_type": "stream",
     "text": [
      "2024-10-09 09:07:33 - Reading hazard map 93 of 183: flood_DERP_RW_L_4326_2080432510\n",
      "Flood map path: N:\\Projects\\11209000\\11209175\\B. Measurements and calculations\\Data\\basin_flood_hazard_maps\\flood_DERP_RW_L_4326_2080432510.geojson\n",
      "2024-10-09 09:08:05 - Coarse overlay of hazard map with assets...\n"
     ]
    },
    {
     "name": "stderr",
     "output_type": "stream",
     "text": [
      "100%|██████████| 54/54 [15:33<00:00, 17.28s/it]   \n"
     ]
    },
    {
     "name": "stdout",
     "output_type": "stream",
     "text": [
      "2024-10-09 09:46:37 - Reading hazard map 94 of 183: flood_DERP_RW_L_4326_2080433520\n",
      "Flood map path: N:\\Projects\\11209000\\11209175\\B. Measurements and calculations\\Data\\basin_flood_hazard_maps\\flood_DERP_RW_L_4326_2080433520.geojson\n",
      "2024-10-09 09:46:40 - Coarse overlay of hazard map with assets...\n"
     ]
    },
    {
     "name": "stderr",
     "output_type": "stream",
     "text": [
      "0it [00:00, ?it/s]\n"
     ]
    },
    {
     "name": "stdout",
     "output_type": "stream",
     "text": [
      "2024-10-09 09:46:44 - Reading hazard map 95 of 183: flood_DERP_RW_L_4326_2080433740\n",
      "Flood map path: N:\\Projects\\11209000\\11209175\\B. Measurements and calculations\\Data\\basin_flood_hazard_maps\\flood_DERP_RW_L_4326_2080433740.geojson\n",
      "2024-10-09 09:47:05 - Coarse overlay of hazard map with assets...\n"
     ]
    },
    {
     "name": "stderr",
     "output_type": "stream",
     "text": [
      "0it [00:00, ?it/s]\n"
     ]
    },
    {
     "name": "stdout",
     "output_type": "stream",
     "text": [
      "2024-10-09 09:51:39 - Reading hazard map 96 of 183: flood_DERP_RW_L_4326_2080433960\n",
      "Flood map path: N:\\Projects\\11209000\\11209175\\B. Measurements and calculations\\Data\\basin_flood_hazard_maps\\flood_DERP_RW_L_4326_2080433960.geojson\n",
      "2024-10-09 09:52:30 - Coarse overlay of hazard map with assets...\n"
     ]
    },
    {
     "name": "stderr",
     "output_type": "stream",
     "text": [
      "0it [00:00, ?it/s]\n"
     ]
    },
    {
     "name": "stdout",
     "output_type": "stream",
     "text": [
      "2024-10-09 09:58:22 - Reading hazard map 97 of 183: flood_DERP_RW_L_4326_2080434150\n",
      "Flood map path: N:\\Projects\\11209000\\11209175\\B. Measurements and calculations\\Data\\basin_flood_hazard_maps\\flood_DERP_RW_L_4326_2080434150.geojson\n",
      "2024-10-09 09:58:26 - Coarse overlay of hazard map with assets...\n"
     ]
    },
    {
     "name": "stderr",
     "output_type": "stream",
     "text": [
      "0it [00:00, ?it/s]\n"
     ]
    },
    {
     "name": "stdout",
     "output_type": "stream",
     "text": [
      "2024-10-09 09:58:30 - Reading hazard map 98 of 183: flood_DERP_RW_L_4326_2080434280\n",
      "Flood map path: N:\\Projects\\11209000\\11209175\\B. Measurements and calculations\\Data\\basin_flood_hazard_maps\\flood_DERP_RW_L_4326_2080434280.geojson\n",
      "2024-10-09 09:58:36 - Coarse overlay of hazard map with assets...\n"
     ]
    },
    {
     "name": "stderr",
     "output_type": "stream",
     "text": [
      "100%|██████████| 10/10 [01:04<00:00,  6.50s/it]\n"
     ]
    },
    {
     "name": "stdout",
     "output_type": "stream",
     "text": [
      "2024-10-09 10:00:25 - Reading hazard map 99 of 183: flood_DERP_RW_L_4326_2080434470\n",
      "Flood map path: N:\\Projects\\11209000\\11209175\\B. Measurements and calculations\\Data\\basin_flood_hazard_maps\\flood_DERP_RW_L_4326_2080434470.geojson\n",
      "2024-10-09 10:01:06 - Coarse overlay of hazard map with assets...\n"
     ]
    },
    {
     "name": "stderr",
     "output_type": "stream",
     "text": [
      "100%|██████████| 170/170 [1:09:28<00:00, 24.52s/it]\n"
     ]
    },
    {
     "name": "stdout",
     "output_type": "stream",
     "text": [
      "2024-10-09 11:30:50 - Reading hazard map 100 of 183: flood_DERP_RW_L_4326_2080434490\n",
      "Flood map path: N:\\Projects\\11209000\\11209175\\B. Measurements and calculations\\Data\\basin_flood_hazard_maps\\flood_DERP_RW_L_4326_2080434490.geojson\n",
      "2024-10-09 11:31:02 - Coarse overlay of hazard map with assets...\n"
     ]
    },
    {
     "name": "stderr",
     "output_type": "stream",
     "text": [
      "100%|██████████| 44/44 [07:16<00:00,  9.93s/it]\n"
     ]
    },
    {
     "name": "stdout",
     "output_type": "stream",
     "text": [
      "2024-10-09 11:43:43 - Reading hazard map 101 of 183: flood_DERP_RW_L_4326_2080434630\n",
      "Flood map path: N:\\Projects\\11209000\\11209175\\B. Measurements and calculations\\Data\\basin_flood_hazard_maps\\flood_DERP_RW_L_4326_2080434630.geojson\n",
      "2024-10-09 11:44:39 - Coarse overlay of hazard map with assets...\n"
     ]
    },
    {
     "name": "stderr",
     "output_type": "stream",
     "text": [
      "100%|██████████| 140/140 [3:20:36<00:00, 85.97s/it]   \n"
     ]
    },
    {
     "name": "stdout",
     "output_type": "stream",
     "text": [
      "2024-10-09 17:31:50 - Reading hazard map 102 of 183: flood_DERP_RW_L_4326_2080435040\n",
      "Flood map path: N:\\Projects\\11209000\\11209175\\B. Measurements and calculations\\Data\\basin_flood_hazard_maps\\flood_DERP_RW_L_4326_2080435040.geojson\n",
      "2024-10-09 17:32:35 - Coarse overlay of hazard map with assets...\n"
     ]
    },
    {
     "name": "stderr",
     "output_type": "stream",
     "text": [
      "100%|██████████| 100/100 [39:19<00:00, 23.59s/it]  \n"
     ]
    },
    {
     "name": "stdout",
     "output_type": "stream",
     "text": [
      "2024-10-09 18:53:03 - Reading hazard map 103 of 183: flood_DERP_RW_L_4326_2080435320\n",
      "Flood map path: N:\\Projects\\11209000\\11209175\\B. Measurements and calculations\\Data\\basin_flood_hazard_maps\\flood_DERP_RW_L_4326_2080435320.geojson\n",
      "2024-10-09 18:53:14 - Coarse overlay of hazard map with assets...\n"
     ]
    },
    {
     "name": "stderr",
     "output_type": "stream",
     "text": [
      "100%|██████████| 12/12 [02:19<00:00, 11.60s/it]\n"
     ]
    },
    {
     "name": "stdout",
     "output_type": "stream",
     "text": [
      "2024-10-09 18:56:51 - Reading hazard map 104 of 183: flood_DERP_RW_L_4326_2080436660\n",
      "Flood map path: N:\\Projects\\11209000\\11209175\\B. Measurements and calculations\\Data\\basin_flood_hazard_maps\\flood_DERP_RW_L_4326_2080436660.geojson\n",
      "2024-10-09 18:56:55 - Coarse overlay of hazard map with assets...\n"
     ]
    },
    {
     "name": "stderr",
     "output_type": "stream",
     "text": [
      "0it [00:00, ?it/s]\n"
     ]
    },
    {
     "name": "stdout",
     "output_type": "stream",
     "text": [
      "2024-10-09 18:57:03 - Reading hazard map 105 of 183: flood_DERP_RW_L_4326_2080436860\n",
      "Flood map path: N:\\Projects\\11209000\\11209175\\B. Measurements and calculations\\Data\\basin_flood_hazard_maps\\flood_DERP_RW_L_4326_2080436860.geojson\n",
      "2024-10-09 18:57:03 - Coarse overlay of hazard map with assets...\n"
     ]
    },
    {
     "name": "stderr",
     "output_type": "stream",
     "text": [
      "100%|██████████| 4/4 [00:00<00:00,  5.38it/s]\n"
     ]
    },
    {
     "name": "stdout",
     "output_type": "stream",
     "text": [
      "2024-10-09 18:57:05 - Reading hazard map 106 of 183: flood_DERP_RW_L_4326_2080436870\n",
      "Flood map path: N:\\Projects\\11209000\\11209175\\B. Measurements and calculations\\Data\\basin_flood_hazard_maps\\flood_DERP_RW_L_4326_2080436870.geojson\n",
      "2024-10-09 18:57:08 - Coarse overlay of hazard map with assets...\n"
     ]
    },
    {
     "name": "stderr",
     "output_type": "stream",
     "text": [
      "100%|██████████| 34/34 [00:28<00:00,  1.21it/s]\n"
     ]
    },
    {
     "name": "stdout",
     "output_type": "stream",
     "text": [
      "2024-10-09 18:57:51 - Reading hazard map 107 of 183: flood_DERP_RW_L_4326_2080437100\n",
      "Flood map path: N:\\Projects\\11209000\\11209175\\B. Measurements and calculations\\Data\\basin_flood_hazard_maps\\flood_DERP_RW_L_4326_2080437100.geojson\n",
      "2024-10-09 18:58:00 - Coarse overlay of hazard map with assets...\n"
     ]
    },
    {
     "name": "stderr",
     "output_type": "stream",
     "text": [
      "100%|██████████| 31/31 [07:19<00:00, 14.17s/it]\n"
     ]
    },
    {
     "name": "stdout",
     "output_type": "stream",
     "text": [
      "2024-10-09 19:08:51 - Reading hazard map 108 of 183: flood_DERP_RW_L_4326_2080437230\n",
      "Flood map path: N:\\Projects\\11209000\\11209175\\B. Measurements and calculations\\Data\\basin_flood_hazard_maps\\flood_DERP_RW_L_4326_2080437230.geojson\n",
      "2024-10-09 19:08:56 - Coarse overlay of hazard map with assets...\n"
     ]
    },
    {
     "name": "stderr",
     "output_type": "stream",
     "text": [
      "100%|██████████| 2/2 [00:01<00:00,  1.23it/s]\n"
     ]
    },
    {
     "name": "stdout",
     "output_type": "stream",
     "text": [
      "2024-10-09 19:09:35 - Reading hazard map 109 of 183: flood_DERP_RW_L_4326_2080437370\n",
      "Flood map path: N:\\Projects\\11209000\\11209175\\B. Measurements and calculations\\Data\\basin_flood_hazard_maps\\flood_DERP_RW_L_4326_2080437370.geojson\n",
      "2024-10-09 19:09:40 - Coarse overlay of hazard map with assets...\n"
     ]
    },
    {
     "name": "stderr",
     "output_type": "stream",
     "text": [
      "100%|██████████| 67/67 [04:44<00:00,  4.25s/it]\n"
     ]
    },
    {
     "name": "stdout",
     "output_type": "stream",
     "text": [
      "2024-10-09 19:15:22 - Reading hazard map 110 of 183: flood_DERP_RW_L_4326_2080438230\n",
      "Flood map path: N:\\Projects\\11209000\\11209175\\B. Measurements and calculations\\Data\\basin_flood_hazard_maps\\flood_DERP_RW_L_4326_2080438230.geojson\n",
      "2024-10-09 19:15:35 - Coarse overlay of hazard map with assets...\n"
     ]
    },
    {
     "name": "stderr",
     "output_type": "stream",
     "text": [
      "100%|██████████| 25/25 [00:19<00:00,  1.29it/s]\n"
     ]
    },
    {
     "name": "stdout",
     "output_type": "stream",
     "text": [
      "2024-10-09 19:24:08 - Reading hazard map 111 of 183: flood_DERP_RW_L_4326_2080438240\n",
      "Flood map path: N:\\Projects\\11209000\\11209175\\B. Measurements and calculations\\Data\\basin_flood_hazard_maps\\flood_DERP_RW_L_4326_2080438240.geojson\n",
      "2024-10-09 19:24:15 - Coarse overlay of hazard map with assets...\n"
     ]
    },
    {
     "name": "stderr",
     "output_type": "stream",
     "text": [
      "100%|██████████| 81/81 [00:50<00:00,  1.61it/s]\n"
     ]
    },
    {
     "name": "stdout",
     "output_type": "stream",
     "text": [
      "2024-10-09 19:26:20 - Reading hazard map 112 of 183: flood_DERP_RW_L_4326_2080438400\n",
      "Flood map path: N:\\Projects\\11209000\\11209175\\B. Measurements and calculations\\Data\\basin_flood_hazard_maps\\flood_DERP_RW_L_4326_2080438400.geojson\n",
      "2024-10-09 19:26:43 - Coarse overlay of hazard map with assets...\n"
     ]
    },
    {
     "name": "stderr",
     "output_type": "stream",
     "text": [
      "100%|██████████| 47/47 [23:06<00:00, 29.51s/it]  \n"
     ]
    },
    {
     "name": "stdout",
     "output_type": "stream",
     "text": [
      "2024-10-09 20:02:27 - Reading hazard map 113 of 183: flood_DERP_RW_L_4326_2080438410\n",
      "Flood map path: N:\\Projects\\11209000\\11209175\\B. Measurements and calculations\\Data\\basin_flood_hazard_maps\\flood_DERP_RW_L_4326_2080438410.geojson\n",
      "2024-10-09 20:02:38 - Coarse overlay of hazard map with assets...\n"
     ]
    },
    {
     "name": "stderr",
     "output_type": "stream",
     "text": [
      "100%|██████████| 14/14 [06:45<00:00, 28.94s/it]\n"
     ]
    },
    {
     "name": "stdout",
     "output_type": "stream",
     "text": [
      "2024-10-09 20:12:15 - Reading hazard map 114 of 183: flood_DERP_RW_L_4326_2080439400\n",
      "Flood map path: N:\\Projects\\11209000\\11209175\\B. Measurements and calculations\\Data\\basin_flood_hazard_maps\\flood_DERP_RW_L_4326_2080439400.geojson\n",
      "2024-10-09 20:12:44 - Coarse overlay of hazard map with assets...\n"
     ]
    },
    {
     "name": "stderr",
     "output_type": "stream",
     "text": [
      "100%|██████████| 11/11 [01:10<00:00,  6.45s/it]\n"
     ]
    },
    {
     "name": "stdout",
     "output_type": "stream",
     "text": [
      "2024-10-09 20:33:48 - Reading hazard map 115 of 183: flood_DERP_RW_L_4326_2080439410\n",
      "Flood map path: N:\\Projects\\11209000\\11209175\\B. Measurements and calculations\\Data\\basin_flood_hazard_maps\\flood_DERP_RW_L_4326_2080439410.geojson\n",
      "2024-10-09 20:34:12 - Coarse overlay of hazard map with assets...\n"
     ]
    },
    {
     "name": "stderr",
     "output_type": "stream",
     "text": [
      "100%|██████████| 579/579 [12:30<00:00,  1.30s/it]\n"
     ]
    },
    {
     "name": "stdout",
     "output_type": "stream",
     "text": [
      "2024-10-09 20:57:11 - Reading hazard map 116 of 183: flood_DERP_RW_L_4326_2080441280\n",
      "Flood map path: N:\\Projects\\11209000\\11209175\\B. Measurements and calculations\\Data\\basin_flood_hazard_maps\\flood_DERP_RW_L_4326_2080441280.geojson\n",
      "2024-10-09 20:57:38 - Coarse overlay of hazard map with assets...\n"
     ]
    },
    {
     "name": "stderr",
     "output_type": "stream",
     "text": [
      "100%|██████████| 584/584 [20:46<00:00,  2.14s/it] \n"
     ]
    },
    {
     "name": "stdout",
     "output_type": "stream",
     "text": [
      "2024-10-09 21:45:36 - Reading hazard map 117 of 183: flood_DERP_RW_L_4326_2080446220\n",
      "Flood map path: N:\\Projects\\11209000\\11209175\\B. Measurements and calculations\\Data\\basin_flood_hazard_maps\\flood_DERP_RW_L_4326_2080446220.geojson\n",
      "2024-10-09 21:45:53 - Coarse overlay of hazard map with assets...\n"
     ]
    },
    {
     "name": "stderr",
     "output_type": "stream",
     "text": [
      "100%|██████████| 41/41 [07:48<00:00, 11.43s/it]\n"
     ]
    },
    {
     "name": "stdout",
     "output_type": "stream",
     "text": [
      "2024-10-09 22:01:53 - Reading hazard map 118 of 183: flood_DERP_RW_L_4326_2080446320\n",
      "Flood map path: N:\\Projects\\11209000\\11209175\\B. Measurements and calculations\\Data\\basin_flood_hazard_maps\\flood_DERP_RW_L_4326_2080446320.geojson\n",
      "2024-10-09 22:01:59 - Coarse overlay of hazard map with assets...\n"
     ]
    },
    {
     "name": "stderr",
     "output_type": "stream",
     "text": [
      "100%|██████████| 41/41 [00:26<00:00,  1.54it/s]\n"
     ]
    },
    {
     "name": "stdout",
     "output_type": "stream",
     "text": [
      "2024-10-09 22:02:33 - Reading hazard map 119 of 183: flood_DERP_RW_L_4326_2080447840\n",
      "Flood map path: N:\\Projects\\11209000\\11209175\\B. Measurements and calculations\\Data\\basin_flood_hazard_maps\\flood_DERP_RW_L_4326_2080447840.geojson\n",
      "2024-10-09 22:04:11 - Coarse overlay of hazard map with assets...\n"
     ]
    },
    {
     "name": "stderr",
     "output_type": "stream",
     "text": [
      "100%|██████████| 307/307 [1:28:12<00:00, 17.24s/it]   \n"
     ]
    },
    {
     "name": "stdout",
     "output_type": "stream",
     "text": [
      "2024-10-10 00:29:22 - Reading hazard map 120 of 183: flood_DERP_RW_L_4326_2080447970\n",
      "Flood map path: N:\\Projects\\11209000\\11209175\\B. Measurements and calculations\\Data\\basin_flood_hazard_maps\\flood_DERP_RW_L_4326_2080447970.geojson\n",
      "2024-10-10 00:29:37 - Coarse overlay of hazard map with assets...\n"
     ]
    },
    {
     "name": "stderr",
     "output_type": "stream",
     "text": [
      "100%|██████████| 14/14 [06:34<00:00, 28.21s/it]\n"
     ]
    },
    {
     "name": "stdout",
     "output_type": "stream",
     "text": [
      "2024-10-10 00:45:02 - Reading hazard map 121 of 183: flood_DERP_RW_L_4326_2080448120\n",
      "Flood map path: N:\\Projects\\11209000\\11209175\\B. Measurements and calculations\\Data\\basin_flood_hazard_maps\\flood_DERP_RW_L_4326_2080448120.geojson\n",
      "2024-10-10 00:45:12 - Coarse overlay of hazard map with assets...\n"
     ]
    },
    {
     "name": "stderr",
     "output_type": "stream",
     "text": [
      "100%|██████████| 6/6 [00:16<00:00,  2.79s/it]\n"
     ]
    },
    {
     "name": "stdout",
     "output_type": "stream",
     "text": [
      "2024-10-10 00:46:06 - Reading hazard map 122 of 183: flood_DERP_RW_L_4326_2080451930\n",
      "Flood map path: N:\\Projects\\11209000\\11209175\\B. Measurements and calculations\\Data\\basin_flood_hazard_maps\\flood_DERP_RW_L_4326_2080451930.geojson\n",
      "2024-10-10 00:46:09 - Coarse overlay of hazard map with assets...\n"
     ]
    },
    {
     "name": "stderr",
     "output_type": "stream",
     "text": [
      "100%|██████████| 15/15 [00:26<00:00,  1.78s/it]\n"
     ]
    },
    {
     "name": "stdout",
     "output_type": "stream",
     "text": [
      "2024-10-10 00:46:42 - Reading hazard map 123 of 183: flood_DERP_RW_M_4326_2080410170\n",
      "Flood map path: N:\\Projects\\11209000\\11209175\\B. Measurements and calculations\\Data\\basin_flood_hazard_maps\\flood_DERP_RW_M_4326_2080410170.geojson\n",
      "2024-10-10 00:46:49 - Coarse overlay of hazard map with assets...\n"
     ]
    },
    {
     "name": "stderr",
     "output_type": "stream",
     "text": [
      "100%|██████████| 30/30 [00:01<00:00, 29.50it/s]\n"
     ]
    },
    {
     "name": "stdout",
     "output_type": "stream",
     "text": [
      "2024-10-10 00:52:59 - Reading hazard map 124 of 183: flood_DERP_RW_M_4326_2080410430\n",
      "Flood map path: N:\\Projects\\11209000\\11209175\\B. Measurements and calculations\\Data\\basin_flood_hazard_maps\\flood_DERP_RW_M_4326_2080410430.geojson\n",
      "2024-10-10 00:53:03 - Coarse overlay of hazard map with assets...\n"
     ]
    },
    {
     "name": "stderr",
     "output_type": "stream",
     "text": [
      "100%|██████████| 14/14 [00:01<00:00,  8.25it/s]\n"
     ]
    },
    {
     "name": "stdout",
     "output_type": "stream",
     "text": [
      "2024-10-10 00:54:05 - Reading hazard map 125 of 183: flood_DERP_RW_M_4326_2080410540\n",
      "Flood map path: N:\\Projects\\11209000\\11209175\\B. Measurements and calculations\\Data\\basin_flood_hazard_maps\\flood_DERP_RW_M_4326_2080410540.geojson\n",
      "2024-10-10 00:54:12 - Coarse overlay of hazard map with assets...\n"
     ]
    },
    {
     "name": "stderr",
     "output_type": "stream",
     "text": [
      "100%|██████████| 31/31 [00:05<00:00,  5.52it/s]\n"
     ]
    },
    {
     "name": "stdout",
     "output_type": "stream",
     "text": [
      "2024-10-10 00:56:20 - Reading hazard map 126 of 183: flood_DERP_RW_M_4326_2080410660\n",
      "Flood map path: N:\\Projects\\11209000\\11209175\\B. Measurements and calculations\\Data\\basin_flood_hazard_maps\\flood_DERP_RW_M_4326_2080410660.geojson\n",
      "2024-10-10 00:56:22 - Coarse overlay of hazard map with assets...\n"
     ]
    },
    {
     "name": "stderr",
     "output_type": "stream",
     "text": [
      "100%|██████████| 10/10 [00:00<00:00, 3324.59it/s]\n"
     ]
    },
    {
     "name": "stdout",
     "output_type": "stream",
     "text": [
      "2024-10-10 00:56:36 - Reading hazard map 127 of 183: flood_DERP_RW_M_4326_2080410760\n",
      "Flood map path: N:\\Projects\\11209000\\11209175\\B. Measurements and calculations\\Data\\basin_flood_hazard_maps\\flood_DERP_RW_M_4326_2080410760.geojson\n",
      "2024-10-10 00:56:48 - Coarse overlay of hazard map with assets...\n"
     ]
    },
    {
     "name": "stderr",
     "output_type": "stream",
     "text": [
      "100%|██████████| 3/3 [00:00<00:00, 1481.21it/s]\n"
     ]
    },
    {
     "name": "stdout",
     "output_type": "stream",
     "text": [
      "2024-10-10 01:01:25 - Reading hazard map 128 of 183: flood_DERP_RW_M_4326_2080411370\n",
      "Flood map path: N:\\Projects\\11209000\\11209175\\B. Measurements and calculations\\Data\\basin_flood_hazard_maps\\flood_DERP_RW_M_4326_2080411370.geojson\n",
      "2024-10-10 01:01:30 - Coarse overlay of hazard map with assets...\n"
     ]
    },
    {
     "name": "stderr",
     "output_type": "stream",
     "text": [
      "100%|██████████| 33/33 [00:57<00:00,  1.74s/it]\n"
     ]
    },
    {
     "name": "stdout",
     "output_type": "stream",
     "text": [
      "2024-10-10 01:04:12 - Reading hazard map 129 of 183: flood_DERP_RW_M_4326_2080416200\n",
      "Flood map path: N:\\Projects\\11209000\\11209175\\B. Measurements and calculations\\Data\\basin_flood_hazard_maps\\flood_DERP_RW_M_4326_2080416200.geojson\n",
      "2024-10-10 01:04:32 - Coarse overlay of hazard map with assets...\n"
     ]
    },
    {
     "name": "stderr",
     "output_type": "stream",
     "text": [
      "100%|██████████| 4/4 [00:00<00:00, 1999.43it/s]\n"
     ]
    },
    {
     "name": "stdout",
     "output_type": "stream",
     "text": [
      "2024-10-10 01:09:35 - Reading hazard map 130 of 183: flood_DERP_RW_M_4326_2080416210\n",
      "Flood map path: N:\\Projects\\11209000\\11209175\\B. Measurements and calculations\\Data\\basin_flood_hazard_maps\\flood_DERP_RW_M_4326_2080416210.geojson\n",
      "2024-10-10 01:09:48 - Coarse overlay of hazard map with assets...\n"
     ]
    },
    {
     "name": "stderr",
     "output_type": "stream",
     "text": [
      "100%|██████████| 86/86 [04:15<00:00,  2.97s/it]\n"
     ]
    },
    {
     "name": "stdout",
     "output_type": "stream",
     "text": [
      "2024-10-10 01:24:32 - Reading hazard map 131 of 183: flood_DERP_RW_M_4326_2080418600\n",
      "Flood map path: N:\\Projects\\11209000\\11209175\\B. Measurements and calculations\\Data\\basin_flood_hazard_maps\\flood_DERP_RW_M_4326_2080418600.geojson\n",
      "2024-10-10 01:25:01 - Coarse overlay of hazard map with assets...\n"
     ]
    },
    {
     "name": "stderr",
     "output_type": "stream",
     "text": [
      "100%|██████████| 36/36 [01:59<00:00,  3.33s/it]\n"
     ]
    },
    {
     "name": "stdout",
     "output_type": "stream",
     "text": [
      "2024-10-10 01:45:34 - Reading hazard map 132 of 183: flood_DERP_RW_M_4326_2080418720\n",
      "Flood map path: N:\\Projects\\11209000\\11209175\\B. Measurements and calculations\\Data\\basin_flood_hazard_maps\\flood_DERP_RW_M_4326_2080418720.geojson\n",
      "2024-10-10 01:45:35 - Coarse overlay of hazard map with assets...\n"
     ]
    },
    {
     "name": "stderr",
     "output_type": "stream",
     "text": [
      "0it [00:00, ?it/s]"
     ]
    },
    {
     "name": "stdout",
     "output_type": "stream",
     "text": [
      "2024-10-10 01:45:35 - Reading hazard map 133 of 183: flood_DERP_RW_M_4326_2080418880\n",
      "Flood map path: N:\\Projects\\11209000\\11209175\\B. Measurements and calculations\\Data\\basin_flood_hazard_maps\\flood_DERP_RW_M_4326_2080418880.geojson\n"
     ]
    },
    {
     "name": "stderr",
     "output_type": "stream",
     "text": [
      "\n"
     ]
    },
    {
     "name": "stdout",
     "output_type": "stream",
     "text": [
      "2024-10-10 01:45:44 - Coarse overlay of hazard map with assets...\n"
     ]
    },
    {
     "name": "stderr",
     "output_type": "stream",
     "text": [
      "100%|██████████| 10/10 [00:00<00:00, 39.52it/s]\n"
     ]
    },
    {
     "name": "stdout",
     "output_type": "stream",
     "text": [
      "2024-10-10 01:51:25 - Reading hazard map 134 of 183: flood_DERP_RW_M_4326_2080418890\n",
      "Flood map path: N:\\Projects\\11209000\\11209175\\B. Measurements and calculations\\Data\\basin_flood_hazard_maps\\flood_DERP_RW_M_4326_2080418890.geojson\n",
      "2024-10-10 01:51:34 - Coarse overlay of hazard map with assets...\n"
     ]
    },
    {
     "name": "stderr",
     "output_type": "stream",
     "text": [
      "100%|██████████| 6/6 [00:00<00:00,  6.05it/s]\n"
     ]
    },
    {
     "name": "stdout",
     "output_type": "stream",
     "text": [
      "2024-10-10 01:51:50 - Reading hazard map 135 of 183: flood_DERP_RW_M_4326_2080419070\n",
      "Flood map path: N:\\Projects\\11209000\\11209175\\B. Measurements and calculations\\Data\\basin_flood_hazard_maps\\flood_DERP_RW_M_4326_2080419070.geojson\n",
      "2024-10-10 01:51:51 - Coarse overlay of hazard map with assets...\n"
     ]
    },
    {
     "name": "stderr",
     "output_type": "stream",
     "text": [
      "100%|██████████| 3/3 [00:00<00:00, 2992.37it/s]\n"
     ]
    },
    {
     "name": "stdout",
     "output_type": "stream",
     "text": [
      "2024-10-10 01:51:52 - Reading hazard map 136 of 183: flood_DERP_RW_M_4326_2080419180\n",
      "Flood map path: N:\\Projects\\11209000\\11209175\\B. Measurements and calculations\\Data\\basin_flood_hazard_maps\\flood_DERP_RW_M_4326_2080419180.geojson\n",
      "2024-10-10 01:51:57 - Coarse overlay of hazard map with assets...\n"
     ]
    },
    {
     "name": "stderr",
     "output_type": "stream",
     "text": [
      "100%|██████████| 47/47 [01:15<00:00,  1.61s/it]\n"
     ]
    },
    {
     "name": "stdout",
     "output_type": "stream",
     "text": [
      "2024-10-10 01:54:14 - Reading hazard map 137 of 183: flood_DERP_RW_M_4326_2080420240\n",
      "Flood map path: N:\\Projects\\11209000\\11209175\\B. Measurements and calculations\\Data\\basin_flood_hazard_maps\\flood_DERP_RW_M_4326_2080420240.geojson\n",
      "2024-10-10 01:54:26 - Coarse overlay of hazard map with assets...\n"
     ]
    },
    {
     "name": "stderr",
     "output_type": "stream",
     "text": [
      "100%|██████████| 29/29 [00:05<00:00,  4.95it/s]\n"
     ]
    },
    {
     "name": "stdout",
     "output_type": "stream",
     "text": [
      "2024-10-10 02:00:40 - Reading hazard map 138 of 183: flood_DERP_RW_M_4326_2080420340\n",
      "Flood map path: N:\\Projects\\11209000\\11209175\\B. Measurements and calculations\\Data\\basin_flood_hazard_maps\\flood_DERP_RW_M_4326_2080420340.geojson\n",
      "2024-10-10 02:00:44 - Coarse overlay of hazard map with assets...\n"
     ]
    },
    {
     "name": "stderr",
     "output_type": "stream",
     "text": [
      "100%|██████████| 12/12 [00:04<00:00,  2.68it/s]\n"
     ]
    },
    {
     "name": "stdout",
     "output_type": "stream",
     "text": [
      "2024-10-10 02:02:05 - Reading hazard map 139 of 183: flood_DERP_RW_M_4326_2080421680\n",
      "Flood map path: N:\\Projects\\11209000\\11209175\\B. Measurements and calculations\\Data\\basin_flood_hazard_maps\\flood_DERP_RW_M_4326_2080421680.geojson\n",
      "2024-10-10 02:02:27 - Coarse overlay of hazard map with assets...\n"
     ]
    },
    {
     "name": "stderr",
     "output_type": "stream",
     "text": [
      "100%|██████████| 63/63 [39:03<00:00, 37.21s/it]   \n"
     ]
    },
    {
     "name": "stdout",
     "output_type": "stream",
     "text": [
      "2024-10-10 03:23:16 - Reading hazard map 140 of 183: flood_DERP_RW_M_4326_2080421770\n",
      "Flood map path: N:\\Projects\\11209000\\11209175\\B. Measurements and calculations\\Data\\basin_flood_hazard_maps\\flood_DERP_RW_M_4326_2080421770.geojson\n",
      "2024-10-10 03:23:29 - Coarse overlay of hazard map with assets...\n"
     ]
    },
    {
     "name": "stderr",
     "output_type": "stream",
     "text": [
      "100%|██████████| 63/63 [10:26<00:00,  9.95s/it]\n"
     ]
    },
    {
     "name": "stdout",
     "output_type": "stream",
     "text": [
      "2024-10-10 03:50:15 - Reading hazard map 141 of 183: flood_DERP_RW_M_4326_2080428080\n",
      "Flood map path: N:\\Projects\\11209000\\11209175\\B. Measurements and calculations\\Data\\basin_flood_hazard_maps\\flood_DERP_RW_M_4326_2080428080.geojson\n",
      "2024-10-10 03:50:26 - Coarse overlay of hazard map with assets...\n"
     ]
    },
    {
     "name": "stderr",
     "output_type": "stream",
     "text": [
      "0it [00:00, ?it/s]\n"
     ]
    },
    {
     "name": "stdout",
     "output_type": "stream",
     "text": [
      "2024-10-10 03:51:38 - Reading hazard map 142 of 183: flood_DERP_RW_M_4326_2080428160\n",
      "Flood map path: N:\\Projects\\11209000\\11209175\\B. Measurements and calculations\\Data\\basin_flood_hazard_maps\\flood_DERP_RW_M_4326_2080428160.geojson\n",
      "2024-10-10 03:51:53 - Coarse overlay of hazard map with assets...\n"
     ]
    },
    {
     "name": "stderr",
     "output_type": "stream",
     "text": [
      "100%|██████████| 9/9 [02:13<00:00, 14.89s/it]\n"
     ]
    },
    {
     "name": "stdout",
     "output_type": "stream",
     "text": [
      "2024-10-10 03:58:56 - Reading hazard map 143 of 183: flood_DERP_RW_M_4326_2080428500\n",
      "Flood map path: N:\\Projects\\11209000\\11209175\\B. Measurements and calculations\\Data\\basin_flood_hazard_maps\\flood_DERP_RW_M_4326_2080428500.geojson\n",
      "2024-10-10 03:58:58 - Coarse overlay of hazard map with assets...\n"
     ]
    },
    {
     "name": "stderr",
     "output_type": "stream",
     "text": [
      "0it [00:00, ?it/s]\n"
     ]
    },
    {
     "name": "stdout",
     "output_type": "stream",
     "text": [
      "2024-10-10 03:59:07 - Reading hazard map 144 of 183: flood_DERP_RW_M_4326_2080429430\n",
      "Flood map path: N:\\Projects\\11209000\\11209175\\B. Measurements and calculations\\Data\\basin_flood_hazard_maps\\flood_DERP_RW_M_4326_2080429430.geojson\n",
      "2024-10-10 03:59:10 - Coarse overlay of hazard map with assets...\n"
     ]
    },
    {
     "name": "stderr",
     "output_type": "stream",
     "text": [
      "100%|██████████| 40/40 [00:50<00:00,  1.26s/it]\n"
     ]
    },
    {
     "name": "stdout",
     "output_type": "stream",
     "text": [
      "2024-10-10 04:02:28 - Reading hazard map 145 of 183: flood_DERP_RW_M_4326_2080429540\n",
      "Flood map path: N:\\Projects\\11209000\\11209175\\B. Measurements and calculations\\Data\\basin_flood_hazard_maps\\flood_DERP_RW_M_4326_2080429540.geojson\n",
      "2024-10-10 04:02:43 - Coarse overlay of hazard map with assets...\n"
     ]
    },
    {
     "name": "stderr",
     "output_type": "stream",
     "text": [
      "100%|██████████| 6/6 [00:01<00:00,  5.31it/s]\n"
     ]
    },
    {
     "name": "stdout",
     "output_type": "stream",
     "text": [
      "2024-10-10 04:08:17 - Reading hazard map 146 of 183: flood_DERP_RW_M_4326_2080429670\n",
      "Flood map path: N:\\Projects\\11209000\\11209175\\B. Measurements and calculations\\Data\\basin_flood_hazard_maps\\flood_DERP_RW_M_4326_2080429670.geojson\n",
      "2024-10-10 04:08:18 - Coarse overlay of hazard map with assets...\n"
     ]
    },
    {
     "name": "stderr",
     "output_type": "stream",
     "text": [
      "0it [00:00, ?it/s]\n"
     ]
    },
    {
     "name": "stdout",
     "output_type": "stream",
     "text": [
      "2024-10-10 04:08:18 - Reading hazard map 147 of 183: flood_DERP_RW_M_4326_2080429770\n",
      "Flood map path: N:\\Projects\\11209000\\11209175\\B. Measurements and calculations\\Data\\basin_flood_hazard_maps\\flood_DERP_RW_M_4326_2080429770.geojson\n",
      "2024-10-10 04:08:19 - Coarse overlay of hazard map with assets...\n"
     ]
    },
    {
     "name": "stderr",
     "output_type": "stream",
     "text": [
      "100%|██████████| 25/25 [00:00<00:00, 69.83it/s] \n"
     ]
    },
    {
     "name": "stdout",
     "output_type": "stream",
     "text": [
      "2024-10-10 04:08:19 - Reading hazard map 148 of 183: flood_DERP_RW_M_4326_2080430240\n",
      "Flood map path: N:\\Projects\\11209000\\11209175\\B. Measurements and calculations\\Data\\basin_flood_hazard_maps\\flood_DERP_RW_M_4326_2080430240.geojson\n",
      "2024-10-10 04:08:23 - Coarse overlay of hazard map with assets...\n"
     ]
    },
    {
     "name": "stderr",
     "output_type": "stream",
     "text": [
      "100%|██████████| 18/18 [00:41<00:00,  2.29s/it]\n"
     ]
    },
    {
     "name": "stdout",
     "output_type": "stream",
     "text": [
      "2024-10-10 04:09:44 - Reading hazard map 149 of 183: flood_DERP_RW_M_4326_2080430320\n",
      "Flood map path: N:\\Projects\\11209000\\11209175\\B. Measurements and calculations\\Data\\basin_flood_hazard_maps\\flood_DERP_RW_M_4326_2080430320.geojson\n",
      "2024-10-10 04:09:48 - Coarse overlay of hazard map with assets...\n"
     ]
    },
    {
     "name": "stderr",
     "output_type": "stream",
     "text": [
      "100%|██████████| 33/33 [00:38<00:00,  1.17s/it]\n"
     ]
    },
    {
     "name": "stdout",
     "output_type": "stream",
     "text": [
      "2024-10-10 04:10:41 - Reading hazard map 150 of 183: flood_DERP_RW_M_4326_2080431110\n",
      "Flood map path: N:\\Projects\\11209000\\11209175\\B. Measurements and calculations\\Data\\basin_flood_hazard_maps\\flood_DERP_RW_M_4326_2080431110.geojson\n",
      "2024-10-10 04:10:46 - Coarse overlay of hazard map with assets...\n"
     ]
    },
    {
     "name": "stderr",
     "output_type": "stream",
     "text": [
      "100%|██████████| 1/1 [00:00<00:00, 45.39it/s]\n"
     ]
    },
    {
     "name": "stdout",
     "output_type": "stream",
     "text": [
      "2024-10-10 04:11:04 - Reading hazard map 151 of 183: flood_DERP_RW_M_4326_2080431660\n",
      "Flood map path: N:\\Projects\\11209000\\11209175\\B. Measurements and calculations\\Data\\basin_flood_hazard_maps\\flood_DERP_RW_M_4326_2080431660.geojson\n",
      "2024-10-10 04:11:17 - Coarse overlay of hazard map with assets...\n"
     ]
    },
    {
     "name": "stderr",
     "output_type": "stream",
     "text": [
      "100%|██████████| 2/2 [00:00<00:00, 2003.01it/s]\n"
     ]
    },
    {
     "name": "stdout",
     "output_type": "stream",
     "text": [
      "2024-10-10 04:13:01 - Reading hazard map 152 of 183: flood_DERP_RW_M_4326_2080431750\n",
      "Flood map path: N:\\Projects\\11209000\\11209175\\B. Measurements and calculations\\Data\\basin_flood_hazard_maps\\flood_DERP_RW_M_4326_2080431750.geojson\n",
      "2024-10-10 04:13:15 - Coarse overlay of hazard map with assets...\n"
     ]
    },
    {
     "name": "stderr",
     "output_type": "stream",
     "text": [
      "0it [00:00, ?it/s]\n"
     ]
    },
    {
     "name": "stdout",
     "output_type": "stream",
     "text": [
      "2024-10-10 04:14:16 - Reading hazard map 153 of 183: flood_DERP_RW_M_4326_2080432400\n",
      "Flood map path: N:\\Projects\\11209000\\11209175\\B. Measurements and calculations\\Data\\basin_flood_hazard_maps\\flood_DERP_RW_M_4326_2080432400.geojson\n",
      "2024-10-10 04:14:23 - Coarse overlay of hazard map with assets...\n"
     ]
    },
    {
     "name": "stderr",
     "output_type": "stream",
     "text": [
      "100%|██████████| 6/6 [00:29<00:00,  4.87s/it]\n"
     ]
    },
    {
     "name": "stdout",
     "output_type": "stream",
     "text": [
      "2024-10-10 04:16:02 - Reading hazard map 154 of 183: flood_DERP_RW_M_4326_2080432510\n",
      "Flood map path: N:\\Projects\\11209000\\11209175\\B. Measurements and calculations\\Data\\basin_flood_hazard_maps\\flood_DERP_RW_M_4326_2080432510.geojson\n",
      "2024-10-10 04:16:27 - Coarse overlay of hazard map with assets...\n"
     ]
    },
    {
     "name": "stderr",
     "output_type": "stream",
     "text": [
      "100%|██████████| 16/16 [00:04<00:00,  3.52it/s]\n"
     ]
    },
    {
     "name": "stdout",
     "output_type": "stream",
     "text": [
      "2024-10-10 04:36:04 - Reading hazard map 155 of 183: flood_DERP_RW_M_4326_2080433520\n",
      "Flood map path: N:\\Projects\\11209000\\11209175\\B. Measurements and calculations\\Data\\basin_flood_hazard_maps\\flood_DERP_RW_M_4326_2080433520.geojson\n",
      "2024-10-10 04:36:07 - Coarse overlay of hazard map with assets...\n"
     ]
    },
    {
     "name": "stderr",
     "output_type": "stream",
     "text": [
      "0it [00:00, ?it/s]\n"
     ]
    },
    {
     "name": "stdout",
     "output_type": "stream",
     "text": [
      "2024-10-10 04:36:13 - Reading hazard map 156 of 183: flood_DERP_RW_M_4326_2080433740\n",
      "Flood map path: N:\\Projects\\11209000\\11209175\\B. Measurements and calculations\\Data\\basin_flood_hazard_maps\\flood_DERP_RW_M_4326_2080433740.geojson\n",
      "2024-10-10 04:36:35 - Coarse overlay of hazard map with assets...\n"
     ]
    },
    {
     "name": "stderr",
     "output_type": "stream",
     "text": [
      "0it [00:00, ?it/s]\n"
     ]
    },
    {
     "name": "stdout",
     "output_type": "stream",
     "text": [
      "2024-10-10 04:41:08 - Reading hazard map 157 of 183: flood_DERP_RW_M_4326_2080433960\n",
      "Flood map path: N:\\Projects\\11209000\\11209175\\B. Measurements and calculations\\Data\\basin_flood_hazard_maps\\flood_DERP_RW_M_4326_2080433960.geojson\n",
      "2024-10-10 04:41:48 - Coarse overlay of hazard map with assets...\n"
     ]
    },
    {
     "name": "stderr",
     "output_type": "stream",
     "text": [
      "0it [00:00, ?it/s]\n"
     ]
    },
    {
     "name": "stdout",
     "output_type": "stream",
     "text": [
      "2024-10-10 04:46:23 - Reading hazard map 158 of 183: flood_DERP_RW_M_4326_2080434150\n",
      "Flood map path: N:\\Projects\\11209000\\11209175\\B. Measurements and calculations\\Data\\basin_flood_hazard_maps\\flood_DERP_RW_M_4326_2080434150.geojson\n",
      "2024-10-10 04:46:27 - Coarse overlay of hazard map with assets...\n"
     ]
    },
    {
     "name": "stderr",
     "output_type": "stream",
     "text": [
      "0it [00:00, ?it/s]\n"
     ]
    },
    {
     "name": "stdout",
     "output_type": "stream",
     "text": [
      "2024-10-10 04:46:32 - Reading hazard map 159 of 183: flood_DERP_RW_M_4326_2080434280\n",
      "Flood map path: N:\\Projects\\11209000\\11209175\\B. Measurements and calculations\\Data\\basin_flood_hazard_maps\\flood_DERP_RW_M_4326_2080434280.geojson\n",
      "2024-10-10 04:46:38 - Coarse overlay of hazard map with assets...\n"
     ]
    },
    {
     "name": "stderr",
     "output_type": "stream",
     "text": [
      "100%|██████████| 4/4 [01:20<00:00, 20.14s/it]\n"
     ]
    },
    {
     "name": "stdout",
     "output_type": "stream",
     "text": [
      "2024-10-10 04:48:29 - Reading hazard map 160 of 183: flood_DERP_RW_M_4326_2080434470\n",
      "Flood map path: N:\\Projects\\11209000\\11209175\\B. Measurements and calculations\\Data\\basin_flood_hazard_maps\\flood_DERP_RW_M_4326_2080434470.geojson\n",
      "2024-10-10 04:49:01 - Coarse overlay of hazard map with assets...\n"
     ]
    },
    {
     "name": "stderr",
     "output_type": "stream",
     "text": [
      "100%|██████████| 42/42 [03:13<00:00,  4.61s/it]\n"
     ]
    },
    {
     "name": "stdout",
     "output_type": "stream",
     "text": [
      "2024-10-10 05:07:17 - Reading hazard map 161 of 183: flood_DERP_RW_M_4326_2080434490\n",
      "Flood map path: N:\\Projects\\11209000\\11209175\\B. Measurements and calculations\\Data\\basin_flood_hazard_maps\\flood_DERP_RW_M_4326_2080434490.geojson\n",
      "2024-10-10 05:07:28 - Coarse overlay of hazard map with assets...\n"
     ]
    },
    {
     "name": "stderr",
     "output_type": "stream",
     "text": [
      "100%|██████████| 39/39 [00:05<00:00,  6.94it/s]\n"
     ]
    },
    {
     "name": "stdout",
     "output_type": "stream",
     "text": [
      "2024-10-10 05:10:55 - Reading hazard map 162 of 183: flood_DERP_RW_M_4326_2080434630\n",
      "Flood map path: N:\\Projects\\11209000\\11209175\\B. Measurements and calculations\\Data\\basin_flood_hazard_maps\\flood_DERP_RW_M_4326_2080434630.geojson\n",
      "2024-10-10 05:11:35 - Coarse overlay of hazard map with assets...\n"
     ]
    },
    {
     "name": "stderr",
     "output_type": "stream",
     "text": [
      "100%|██████████| 61/61 [1:36:06<00:00, 94.53s/it] \n"
     ]
    },
    {
     "name": "stdout",
     "output_type": "stream",
     "text": [
      "2024-10-10 07:50:34 - Reading hazard map 163 of 183: flood_DERP_RW_M_4326_2080435040\n",
      "Flood map path: N:\\Projects\\11209000\\11209175\\B. Measurements and calculations\\Data\\basin_flood_hazard_maps\\flood_DERP_RW_M_4326_2080435040.geojson\n",
      "2024-10-10 07:51:16 - Coarse overlay of hazard map with assets...\n"
     ]
    },
    {
     "name": "stderr",
     "output_type": "stream",
     "text": [
      "100%|██████████| 65/65 [05:37<00:00,  5.19s/it] \n"
     ]
    },
    {
     "name": "stdout",
     "output_type": "stream",
     "text": [
      "2024-10-10 08:36:51 - Reading hazard map 164 of 183: flood_DERP_RW_M_4326_2080435320\n",
      "Flood map path: N:\\Projects\\11209000\\11209175\\B. Measurements and calculations\\Data\\basin_flood_hazard_maps\\flood_DERP_RW_M_4326_2080435320.geojson\n",
      "2024-10-10 08:37:02 - Coarse overlay of hazard map with assets...\n"
     ]
    },
    {
     "name": "stderr",
     "output_type": "stream",
     "text": [
      "100%|██████████| 7/7 [01:13<00:00, 10.51s/it]\n"
     ]
    },
    {
     "name": "stdout",
     "output_type": "stream",
     "text": [
      "2024-10-10 08:40:05 - Reading hazard map 165 of 183: flood_DERP_RW_M_4326_2080436660\n",
      "Flood map path: N:\\Projects\\11209000\\11209175\\B. Measurements and calculations\\Data\\basin_flood_hazard_maps\\flood_DERP_RW_M_4326_2080436660.geojson\n",
      "2024-10-10 08:40:08 - Coarse overlay of hazard map with assets...\n"
     ]
    },
    {
     "name": "stderr",
     "output_type": "stream",
     "text": [
      "0it [00:00, ?it/s]\n"
     ]
    },
    {
     "name": "stdout",
     "output_type": "stream",
     "text": [
      "2024-10-10 08:40:15 - Reading hazard map 166 of 183: flood_DERP_RW_M_4326_2080436860\n",
      "Flood map path: N:\\Projects\\11209000\\11209175\\B. Measurements and calculations\\Data\\basin_flood_hazard_maps\\flood_DERP_RW_M_4326_2080436860.geojson\n",
      "2024-10-10 08:40:16 - Coarse overlay of hazard map with assets...\n"
     ]
    },
    {
     "name": "stderr",
     "output_type": "stream",
     "text": [
      "100%|██████████| 2/2 [00:00<00:00, 1996.34it/s]\n"
     ]
    },
    {
     "name": "stdout",
     "output_type": "stream",
     "text": [
      "2024-10-10 08:40:17 - Reading hazard map 167 of 183: flood_DERP_RW_M_4326_2080436870\n",
      "Flood map path: N:\\Projects\\11209000\\11209175\\B. Measurements and calculations\\Data\\basin_flood_hazard_maps\\flood_DERP_RW_M_4326_2080436870.geojson\n",
      "2024-10-10 08:40:19 - Coarse overlay of hazard map with assets...\n"
     ]
    },
    {
     "name": "stderr",
     "output_type": "stream",
     "text": [
      "100%|██████████| 9/9 [00:01<00:00,  6.40it/s]\n"
     ]
    },
    {
     "name": "stdout",
     "output_type": "stream",
     "text": [
      "2024-10-10 08:40:22 - Reading hazard map 168 of 183: flood_DERP_RW_M_4326_2080437100\n",
      "Flood map path: N:\\Projects\\11209000\\11209175\\B. Measurements and calculations\\Data\\basin_flood_hazard_maps\\flood_DERP_RW_M_4326_2080437100.geojson\n",
      "2024-10-10 08:40:29 - Coarse overlay of hazard map with assets...\n"
     ]
    },
    {
     "name": "stderr",
     "output_type": "stream",
     "text": [
      "100%|██████████| 15/15 [00:43<00:00,  2.91s/it]\n"
     ]
    },
    {
     "name": "stdout",
     "output_type": "stream",
     "text": [
      "2024-10-10 08:43:29 - Reading hazard map 169 of 183: flood_DERP_RW_M_4326_2080437230\n",
      "Flood map path: N:\\Projects\\11209000\\11209175\\B. Measurements and calculations\\Data\\basin_flood_hazard_maps\\flood_DERP_RW_M_4326_2080437230.geojson\n",
      "2024-10-10 08:43:41 - Coarse overlay of hazard map with assets...\n"
     ]
    },
    {
     "name": "stderr",
     "output_type": "stream",
     "text": [
      "100%|██████████| 3/3 [00:07<00:00,  2.52s/it]\n"
     ]
    },
    {
     "name": "stdout",
     "output_type": "stream",
     "text": [
      "2024-10-10 08:47:29 - Reading hazard map 170 of 183: flood_DERP_RW_M_4326_2080437370\n",
      "Flood map path: N:\\Projects\\11209000\\11209175\\B. Measurements and calculations\\Data\\basin_flood_hazard_maps\\flood_DERP_RW_M_4326_2080437370.geojson\n",
      "2024-10-10 08:47:33 - Coarse overlay of hazard map with assets...\n"
     ]
    },
    {
     "name": "stderr",
     "output_type": "stream",
     "text": [
      "100%|██████████| 33/33 [03:36<00:00,  6.57s/it]\n"
     ]
    },
    {
     "name": "stdout",
     "output_type": "stream",
     "text": [
      "2024-10-10 08:51:59 - Reading hazard map 171 of 183: flood_DERP_RW_M_4326_2080438230\n",
      "Flood map path: N:\\Projects\\11209000\\11209175\\B. Measurements and calculations\\Data\\basin_flood_hazard_maps\\flood_DERP_RW_M_4326_2080438230.geojson\n",
      "2024-10-10 08:52:11 - Coarse overlay of hazard map with assets...\n"
     ]
    },
    {
     "name": "stderr",
     "output_type": "stream",
     "text": [
      "100%|██████████| 13/13 [00:04<00:00,  3.07it/s]\n"
     ]
    },
    {
     "name": "stdout",
     "output_type": "stream",
     "text": [
      "2024-10-10 09:01:33 - Reading hazard map 172 of 183: flood_DERP_RW_M_4326_2080438240\n",
      "Flood map path: N:\\Projects\\11209000\\11209175\\B. Measurements and calculations\\Data\\basin_flood_hazard_maps\\flood_DERP_RW_M_4326_2080438240.geojson\n",
      "2024-10-10 09:01:42 - Coarse overlay of hazard map with assets...\n"
     ]
    },
    {
     "name": "stderr",
     "output_type": "stream",
     "text": [
      "100%|██████████| 23/23 [00:02<00:00, 10.10it/s]\n"
     ]
    },
    {
     "name": "stdout",
     "output_type": "stream",
     "text": [
      "2024-10-10 09:02:14 - Reading hazard map 173 of 183: flood_DERP_RW_M_4326_2080438400\n",
      "Flood map path: N:\\Projects\\11209000\\11209175\\B. Measurements and calculations\\Data\\basin_flood_hazard_maps\\flood_DERP_RW_M_4326_2080438400.geojson\n",
      "2024-10-10 09:02:38 - Coarse overlay of hazard map with assets...\n"
     ]
    },
    {
     "name": "stderr",
     "output_type": "stream",
     "text": [
      "100%|██████████| 29/29 [08:01<00:00, 16.60s/it]\n"
     ]
    },
    {
     "name": "stdout",
     "output_type": "stream",
     "text": [
      "2024-10-10 09:22:16 - Reading hazard map 174 of 183: flood_DERP_RW_M_4326_2080438410\n",
      "Flood map path: N:\\Projects\\11209000\\11209175\\B. Measurements and calculations\\Data\\basin_flood_hazard_maps\\flood_DERP_RW_M_4326_2080438410.geojson\n",
      "2024-10-10 09:22:27 - Coarse overlay of hazard map with assets...\n"
     ]
    },
    {
     "name": "stderr",
     "output_type": "stream",
     "text": [
      "100%|██████████| 13/13 [07:40<00:00, 35.42s/it]\n"
     ]
    },
    {
     "name": "stdout",
     "output_type": "stream",
     "text": [
      "2024-10-10 09:32:59 - Reading hazard map 175 of 183: flood_DERP_RW_M_4326_2080439400\n",
      "Flood map path: N:\\Projects\\11209000\\11209175\\B. Measurements and calculations\\Data\\basin_flood_hazard_maps\\flood_DERP_RW_M_4326_2080439400.geojson\n",
      "2024-10-10 09:33:18 - Coarse overlay of hazard map with assets...\n"
     ]
    },
    {
     "name": "stderr",
     "output_type": "stream",
     "text": [
      "100%|██████████| 3/3 [00:01<00:00,  1.67it/s]\n"
     ]
    },
    {
     "name": "stdout",
     "output_type": "stream",
     "text": [
      "2024-10-10 09:49:24 - Reading hazard map 176 of 183: flood_DERP_RW_M_4326_2080439410\n",
      "Flood map path: N:\\Projects\\11209000\\11209175\\B. Measurements and calculations\\Data\\basin_flood_hazard_maps\\flood_DERP_RW_M_4326_2080439410.geojson\n",
      "2024-10-10 09:49:46 - Coarse overlay of hazard map with assets...\n"
     ]
    },
    {
     "name": "stderr",
     "output_type": "stream",
     "text": [
      "100%|██████████| 24/24 [00:04<00:00,  5.96it/s]\n"
     ]
    },
    {
     "name": "stdout",
     "output_type": "stream",
     "text": [
      "2024-10-10 09:54:13 - Reading hazard map 177 of 183: flood_DERP_RW_M_4326_2080441280\n",
      "Flood map path: N:\\Projects\\11209000\\11209175\\B. Measurements and calculations\\Data\\basin_flood_hazard_maps\\flood_DERP_RW_M_4326_2080441280.geojson\n",
      "2024-10-10 09:54:42 - Coarse overlay of hazard map with assets...\n"
     ]
    },
    {
     "name": "stderr",
     "output_type": "stream",
     "text": [
      "100%|██████████| 44/44 [00:47<00:00,  1.07s/it]\n"
     ]
    },
    {
     "name": "stdout",
     "output_type": "stream",
     "text": [
      "2024-10-10 10:02:26 - Reading hazard map 178 of 183: flood_DERP_RW_M_4326_2080446220\n",
      "Flood map path: N:\\Projects\\11209000\\11209175\\B. Measurements and calculations\\Data\\basin_flood_hazard_maps\\flood_DERP_RW_M_4326_2080446220.geojson\n",
      "2024-10-10 10:02:41 - Coarse overlay of hazard map with assets...\n"
     ]
    },
    {
     "name": "stderr",
     "output_type": "stream",
     "text": [
      "100%|██████████| 34/34 [02:44<00:00,  4.83s/it]\n"
     ]
    },
    {
     "name": "stdout",
     "output_type": "stream",
     "text": [
      "2024-10-10 10:11:21 - Reading hazard map 179 of 183: flood_DERP_RW_M_4326_2080446320\n",
      "Flood map path: N:\\Projects\\11209000\\11209175\\B. Measurements and calculations\\Data\\basin_flood_hazard_maps\\flood_DERP_RW_M_4326_2080446320.geojson\n",
      "2024-10-10 10:11:27 - Coarse overlay of hazard map with assets...\n"
     ]
    },
    {
     "name": "stderr",
     "output_type": "stream",
     "text": [
      "0it [00:00, ?it/s]\n"
     ]
    },
    {
     "name": "stdout",
     "output_type": "stream",
     "text": [
      "2024-10-10 10:11:32 - Reading hazard map 180 of 183: flood_DERP_RW_M_4326_2080447840\n",
      "Flood map path: N:\\Projects\\11209000\\11209175\\B. Measurements and calculations\\Data\\basin_flood_hazard_maps\\flood_DERP_RW_M_4326_2080447840.geojson\n",
      "2024-10-10 10:12:57 - Coarse overlay of hazard map with assets...\n"
     ]
    },
    {
     "name": "stderr",
     "output_type": "stream",
     "text": [
      "100%|██████████| 68/68 [08:43<00:00,  7.70s/it]\n"
     ]
    },
    {
     "name": "stdout",
     "output_type": "stream",
     "text": [
      "2024-10-10 11:45:00 - Reading hazard map 181 of 183: flood_DERP_RW_M_4326_2080447970\n",
      "Flood map path: N:\\Projects\\11209000\\11209175\\B. Measurements and calculations\\Data\\basin_flood_hazard_maps\\flood_DERP_RW_M_4326_2080447970.geojson\n",
      "2024-10-10 11:45:14 - Coarse overlay of hazard map with assets...\n"
     ]
    },
    {
     "name": "stderr",
     "output_type": "stream",
     "text": [
      "100%|██████████| 10/10 [06:04<00:00, 36.47s/it]\n"
     ]
    },
    {
     "name": "stdout",
     "output_type": "stream",
     "text": [
      "2024-10-10 11:57:38 - Reading hazard map 182 of 183: flood_DERP_RW_M_4326_2080448120\n",
      "Flood map path: N:\\Projects\\11209000\\11209175\\B. Measurements and calculations\\Data\\basin_flood_hazard_maps\\flood_DERP_RW_M_4326_2080448120.geojson\n",
      "2024-10-10 11:57:47 - Coarse overlay of hazard map with assets...\n"
     ]
    },
    {
     "name": "stderr",
     "output_type": "stream",
     "text": [
      "100%|██████████| 6/6 [00:05<00:00,  1.14it/s]\n"
     ]
    },
    {
     "name": "stdout",
     "output_type": "stream",
     "text": [
      "2024-10-10 11:58:48 - Reading hazard map 183 of 183: flood_DERP_RW_M_4326_2080451930\n",
      "Flood map path: N:\\Projects\\11209000\\11209175\\B. Measurements and calculations\\Data\\basin_flood_hazard_maps\\flood_DERP_RW_M_4326_2080451930.geojson\n",
      "2024-10-10 11:58:50 - Coarse overlay of hazard map with assets...\n"
     ]
    },
    {
     "name": "stderr",
     "output_type": "stream",
     "text": [
      "100%|██████████| 6/6 [00:00<00:00, 15.83it/s]\n"
     ]
    }
   ],
   "source": [
    "# Calculate direct damage by asset (Koks. E.E. (2022). DamageScanner: Python tool for natural hazard damage assessments. Zenodo. http://doi.org/10.5281/zenodo.2551015)\n",
    "collect_output={}\n",
    "for i, single_footprint in enumerate(hazard_data_list):\n",
    "    hazard_name = single_footprint.parts[-1].split('.')[0]\n",
    "    timestamp = datetime.datetime.now().strftime(\"%Y-%m-%d %H:%M:%S\")\n",
    "    print(f'{timestamp} - Reading hazard map {i+1} of {len(hazard_data_list)}: {hazard_name}')\n",
    "\n",
    "    try:\n",
    "        collect_output[hazard_name] = process_hazard_data(single_footprint, hazard_type, assets, interim_data_path, infra_curves, max_damage_tables, curve_types, infra_type, type_dict, geom_dict, asset_options=asset_options, rp_spec_priority=rp_spec_priority)\n",
    "    except Exception as e:\n",
    "        print(f'Error occurred in {hazard_name}: {str(e)}')\n",
    "        continue\n",
    "\n",
    "# save the data to pickle files\n",
    "collect_output_path = f'{interim_data_path}/sample_collected_run.pkl'\n",
    "if len(collect_output)>0:\n",
    "    with open(collect_output_path, 'wb') as f:\n",
    "        pickle.dump(collect_output, f)\n",
    "else: print('No output collected')"
   ]
  },
  {
   "cell_type": "markdown",
   "metadata": {},
   "source": [
    "Save data to files for reuse in later stages"
   ]
  },
  {
   "cell_type": "code",
   "execution_count": 8,
   "metadata": {},
   "outputs": [],
   "source": [
    "# Save the data to csv files\n",
    "sample_output_name=f'sample_collected_run_{datetime.datetime.now().strftime(\"%Y%m%d_%H%M%S\")}.csv'\n",
    "pd.DataFrame.from_dict(collect_output).to_csv(interim_data_path / sample_output_name)"
   ]
  },
  {
   "cell_type": "code",
   "execution_count": 9,
   "metadata": {},
   "outputs": [],
   "source": [
    "# if collected_output variable doesnt exist, load from pickle file\n",
    "if 'collect_output' not in locals():\n",
    "    collect_output_path = f'{interim_data_path}/sample_collected_run.pkl'\n",
    "    with open(collect_output_path, 'rb') as f:\n",
    "        collect_output = pickle.load(f)"
   ]
  },
  {
   "cell_type": "code",
   "execution_count": 9,
   "metadata": {},
   "outputs": [
    {
     "data": {
      "text/html": [
       "<div>\n",
       "<style scoped>\n",
       "    .dataframe tbody tr th:only-of-type {\n",
       "        vertical-align: middle;\n",
       "    }\n",
       "\n",
       "    .dataframe tbody tr th {\n",
       "        vertical-align: top;\n",
       "    }\n",
       "\n",
       "    .dataframe thead th {\n",
       "        text-align: right;\n",
       "    }\n",
       "</style>\n",
       "<table border=\"1\" class=\"dataframe\">\n",
       "  <thead>\n",
       "    <tr style=\"text-align: right;\">\n",
       "      <th></th>\n",
       "      <th>Total Damage Lower Bound</th>\n",
       "      <th>Total Damage Upper Bound</th>\n",
       "    </tr>\n",
       "  </thead>\n",
       "  <tbody>\n",
       "    <tr>\n",
       "      <th>_H_</th>\n",
       "      <td>3.445734e+07</td>\n",
       "      <td>7.106197e+07</td>\n",
       "    </tr>\n",
       "    <tr>\n",
       "      <th>_M_</th>\n",
       "      <td>1.690191e+08</td>\n",
       "      <td>4.302363e+08</td>\n",
       "    </tr>\n",
       "    <tr>\n",
       "      <th>_L_</th>\n",
       "      <td>2.365896e+09</td>\n",
       "      <td>4.887617e+09</td>\n",
       "    </tr>\n",
       "  </tbody>\n",
       "</table>\n",
       "</div>"
      ],
      "text/plain": [
       "     Total Damage Lower Bound  Total Damage Upper Bound\n",
       "_H_              3.445734e+07              7.106197e+07\n",
       "_M_              1.690191e+08              4.302363e+08\n",
       "_L_              2.365896e+09              4.887617e+09"
      ]
     },
     "execution_count": 9,
     "metadata": {},
     "output_type": "execute_result"
    }
   ],
   "source": [
    "# Calculate the expected annual damages (EAD)\n",
    "summed_output = {}\n",
    "\n",
    "# Iterate over the items in the collect_output dictionary\n",
    "for hazard_map, asset_dict in collect_output.items():\n",
    "    # If the hazard_map and hazard_curve combination is not already in the summed_output dictionary, add it with the sum of the current lower and upper bounds\n",
    "    if hazard_map not in summed_output:\n",
    "        summed_output[hazard_map] = (sum(value[0] for value in asset_dict.values()), sum(value[1] for value in asset_dict.values()))\n",
    "    # If the hazard_map and hazard_curve combination is already in the summed_output dictionary, add the sum of the current lower and upper bounds to the existing ones\n",
    "    else:\n",
    "        summed_output[hazard_map][0] += sum(value[0] for value in asset_dict.values())\n",
    "        summed_output[hazard_map][1] += sum(value[1] for value in asset_dict.values())\n",
    "\n",
    "# Initialize a new dictionary to hold the aggregated values\n",
    "aggregated_output = {'_H_': [0, 0], '_M_': [0, 0], '_L_': [0, 0]}\n",
    "\n",
    "# Iterate over the items in the summed_output dictionary and group into return periods\n",
    "for hazard_map, (lower_bound, upper_bound) in summed_output.items():\n",
    "    # determine the category of the hazard map\n",
    "    if '_H_' in hazard_map: \n",
    "        category = '_H_'\n",
    "    elif '_M_' in hazard_map: \n",
    "        category = '_M_'\n",
    "    else: # '_L_' in hazard_map\n",
    "        category = '_L_' \n",
    "        \n",
    "    # Add the lower and upper bounds to the appropriate category\n",
    "    aggregated_output[category][0] += lower_bound\n",
    "    aggregated_output[category][1] += upper_bound\n",
    "\n",
    "# Create the DataFrame from the new dictionary\n",
    "aggregated_df = pd.DataFrame.from_dict(aggregated_output, orient='index', columns=['Total Damage Lower Bound', 'Total Damage Upper Bound'])\n",
    "aggregated_df\n"
   ]
  },
  {
   "cell_type": "code",
   "execution_count": 10,
   "metadata": {},
   "outputs": [
    {
     "name": "stdout",
     "output_type": "stream",
     "text": [
      "Baseline expected annual damages: 29,907,509.78 to 65,620,787.59 EUR\n",
      "Expected annual damages without adaptation by year 100: 148,125,503.15 to 312,258,090.01 EUR\n"
     ]
    },
    {
     "data": {
      "image/png": "[encoded data removed]",
      "text/plain": [
       "<Figure size 640x480 with 1 Axes>"
      ]
     },
     "metadata": {},
     "output_type": "display_data"
    }
   ],
   "source": [
    "# Define the baseline return periods \n",
    "\"\"\"\n",
    "Return period definitions for Rhineland Palatinate (DERP) based on the report by Rauthe M, et al. (2020):\n",
    "_H_=10-25y \n",
    "_M_=100y\n",
    "_L_=200y\n",
    "\"\"\"\n",
    "return_period_dict = {'_H_': 10,'_M_': 100,'_L_': 200}\n",
    "\n",
    "# Add climate change: calculate the dynamic return periods based on flat increase factors. \n",
    "# This value has been catchment-specific with frequency increasing in some regions and decreasing in others. \n",
    "# It is reasonable that in the future, the frequency will continue to change differently by catchment.\n",
    "\n",
    "increase_factor = {\n",
    "    '_H_': 2,\n",
    "    '_M_': 6.6,\n",
    "    '_L_': 9.1\n",
    "} # https://hess.copernicus.org/preprints/hess-2016-65/hess-2016-65-manuscript-version2.pdf \n",
    "\n",
    "num_years = 100\n",
    "return_periods = calculate_dynamic_return_periods(return_period_dict, num_years, increase_factor)\n",
    "\n",
    "# Define dictionary to relate return periods to regions, in this case Rheinland Palatinate is used\n",
    "return_period_dict = {}\n",
    "return_period_dict['DERP'] = return_periods #TODO: make generic for other regions\n",
    "\n",
    "# Add the return period column to aggregated_df and sort by return period\n",
    "aggregated_df['Return Period'] = [return_period_dict['DERP'][index] for index in aggregated_df.index]\n",
    "aggregated_df = aggregated_df.sort_values('Return Period', ascending=True)\n",
    "\n",
    "# Calculate the probability of each return period \n",
    "aggregated_df['Probability'] = [[1 / x for x in i] for i in aggregated_df['Return Period']]\n",
    "probabilities = aggregated_df['Probability']\n",
    "dmgs = []\n",
    "\n",
    "# Calculate the expected annual damages for each time step using trapezoidal rule for integration\n",
    "for ts in range(len(probabilities.iloc[0])):    \n",
    "    dmgs_l = []\n",
    "    dmgs_u = []\n",
    "\n",
    "    for rp in range(len(probabilities)-1):\n",
    "        d_rp= probabilities.iloc[rp][ts] - probabilities.iloc[rp + 1][ts]\n",
    "        trap_damage_l = 0.5 * (aggregated_df['Total Damage Lower Bound'].iloc[rp] + aggregated_df['Total Damage Lower Bound'].iloc[rp + 1])\n",
    "        trap_damage_u = 0.5 * (aggregated_df['Total Damage Upper Bound'].iloc[rp] + aggregated_df['Total Damage Upper Bound'].iloc[rp + 1])\n",
    "        dmgs_l.append(d_rp * trap_damage_l)\n",
    "        dmgs_u.append(d_rp * trap_damage_u)\n",
    "    \n",
    "    # Add the portion of damages corresponding to the tails of the distribution\n",
    "    # Assumption - considers the damage for return periods higher than the highest return period the same as that of the highest return period\n",
    "    d0_rp = probabilities.iloc[-1][ts]\n",
    "    damage_l0 = max(aggregated_df['Total Damage Lower Bound'])\n",
    "    damage_u0 = max(aggregated_df['Total Damage Upper Bound'])\n",
    "    dmgs_l.append(d0_rp * damage_l0)\n",
    "    dmgs_u.append(d0_rp * damage_u0)\n",
    "\n",
    "    # Assumption - considers that no assets are damaged at a return period of 4 years or lower\n",
    "    d_end_rp = (1/4)-probabilities.iloc[0][ts]\n",
    "    damage_l_end = 0.5 * min(aggregated_df['Total Damage Lower Bound'])\n",
    "    damage_u_end = 0.5 * min(aggregated_df['Total Damage Upper Bound'])\n",
    "    dmgs_l.append(d_end_rp * damage_l_end)\n",
    "    dmgs_u.append(d_end_rp * damage_u_end)\n",
    "\n",
    "    dmgs.append((sum(dmgs_l), sum(dmgs_u)))\n",
    "\n",
    "ead_by_ts = pd.DataFrame(dmgs, columns=['Total Damage Lower Bound', 'Total Damage Upper Bound'])\n",
    "\n",
    "print(f'Baseline expected annual damages: {dmgs[0][0]:,.2f} to {dmgs[0][1]:,.2f} EUR')\n",
    "print(f'Expected annual damages without adaptation by year {num_years}: {dmgs[-1][0]:,.2f} to {dmgs[-1][1]:,.2f} EUR')\n",
    "\n",
    "ead_by_ts_plot(ead_by_ts)"
   ]
  },
  {
   "cell_type": "code",
   "execution_count": 11,
   "metadata": {},
   "outputs": [
    {
     "data": {
      "text/plain": [
       "{'flood_DERP_RW_H_4326_2080410170': (8660.346345429718, 13620.796027616947),\n",
       " 'flood_DERP_RW_H_4326_2080410430': (37011.78449206103, 158149.38078075842),\n",
       " 'flood_DERP_RW_H_4326_2080410540': (62528.33745818449, 62528.33745818449),\n",
       " 'flood_DERP_RW_H_4326_2080410660': (0, 0),\n",
       " 'flood_DERP_RW_H_4326_2080410760': (0, 0),\n",
       " 'flood_DERP_RW_H_4326_2080411370': (119700.03477632943, 550561.56526837),\n",
       " 'flood_DERP_RW_H_4326_2080416200': (0, 0),\n",
       " 'flood_DERP_RW_H_4326_2080416210': (1469359.531904706, 4351446.776092717),\n",
       " 'flood_DERP_RW_H_4326_2080418600': (2533662.347499635, 12729388.639742948),\n",
       " 'flood_DERP_RW_H_4326_2080418720': (0, 0),\n",
       " 'flood_DERP_RW_H_4326_2080418880': (111629.76363490838, 112759.18055462776),\n",
       " 'flood_DERP_RW_H_4326_2080418890': (0, 0),\n",
       " 'flood_DERP_RW_H_4326_2080419070': (0, 0),\n",
       " 'flood_DERP_RW_H_4326_2080419180': (1444607.1537085557, 4762138.50663099),\n",
       " 'flood_DERP_RW_H_4326_2080420240': (123217.36975193478, 339459.01950973005),\n",
       " 'flood_DERP_RW_H_4326_2080420340': (0, 0),\n",
       " 'flood_DERP_RW_H_4326_2080421680': (332003.72536723566, 644388.0892373396),\n",
       " 'flood_DERP_RW_H_4326_2080421770': (1493010.1117535485, 1546170.0174669055),\n",
       " 'flood_DERP_RW_H_4326_2080428080': (0, 0),\n",
       " 'flood_DERP_RW_H_4326_2080428160': (154908.1786233577, 4271282.238273773),\n",
       " 'flood_DERP_RW_H_4326_2080428500': (0, 0),\n",
       " 'flood_DERP_RW_H_4326_2080429430': (19672.335832773002, 210860.18530340842),\n",
       " 'flood_DERP_RW_H_4326_2080429540': (12423.308531725565, 74712.34700596481),\n",
       " 'flood_DERP_RW_H_4326_2080429670': (0, 0),\n",
       " 'flood_DERP_RW_H_4326_2080429770': (580361.1815057329, 908579.7608757002),\n",
       " 'flood_DERP_RW_H_4326_2080430240': (379357.2944434098, 612725.4084388571),\n",
       " 'flood_DERP_RW_H_4326_2080430320': (223292.12147988414, 274375.7418432404),\n",
       " 'flood_DERP_RW_H_4326_2080431110': (0, 0),\n",
       " 'flood_DERP_RW_H_4326_2080431660': (0, 0),\n",
       " 'flood_DERP_RW_H_4326_2080431750': (0, 0),\n",
       " 'flood_DERP_RW_H_4326_2080432400': (21903.937844244367, 97888.30921302224),\n",
       " 'flood_DERP_RW_H_4326_2080432510': (0.0, 42.380571450175275),\n",
       " 'flood_DERP_RW_H_4326_2080433520': (0, 0),\n",
       " 'flood_DERP_RW_H_4326_2080433740': (0, 0),\n",
       " 'flood_DERP_RW_H_4326_2080433960': (0, 0),\n",
       " 'flood_DERP_RW_H_4326_2080434150': (0, 0),\n",
       " 'flood_DERP_RW_H_4326_2080434280': (6875.978474421102, 11583.223409890188),\n",
       " 'flood_DERP_RW_H_4326_2080434470': (375314.76894648257, 728484.4235573113),\n",
       " 'flood_DERP_RW_H_4326_2080434490': (0.0, 309.3545164631592),\n",
       " 'flood_DERP_RW_H_4326_2080434630': (0, 0),\n",
       " 'flood_DERP_RW_H_4326_2080435040': (19245.0578306106, 84247.63155094832),\n",
       " 'flood_DERP_RW_H_4326_2080435320': (25246.417289309506, 262232.2905778576),\n",
       " 'flood_DERP_RW_H_4326_2080436660': (0, 0),\n",
       " 'flood_DERP_RW_H_4326_2080436860': (0, 0),\n",
       " 'flood_DERP_RW_H_4326_2080436870': (0, 0),\n",
       " 'flood_DERP_RW_H_4326_2080437100': (8982.695471443421, 44271.224359953514),\n",
       " 'flood_DERP_RW_H_4326_2080437230': (9893.367217251478, 10950.238015954143),\n",
       " 'flood_DERP_RW_H_4326_2080437370': (0, 0),\n",
       " 'flood_DERP_RW_H_4326_2080438230': (0, 0),\n",
       " 'flood_DERP_RW_H_4326_2080438240': (301451.87707100314, 4097057.3955954537),\n",
       " 'flood_DERP_RW_H_4326_2080438400': (17174.86866677248, 82279.82688003674),\n",
       " 'flood_DERP_RW_H_4326_2080438410': (18489.166217472564, 61430.96927536868),\n",
       " 'flood_DERP_RW_H_4326_2080439400': (0, 0),\n",
       " 'flood_DERP_RW_H_4326_2080439410': (9874439.788209463, 13128656.324256964),\n",
       " 'flood_DERP_RW_H_4326_2080441280': (5869813.846391022, 7190766.739328735),\n",
       " 'flood_DERP_RW_H_4326_2080446220': (390160.85246114625, 1438862.7213742267),\n",
       " 'flood_DERP_RW_H_4326_2080446320': (0, 0),\n",
       " 'flood_DERP_RW_H_4326_2080447840': (8337018.1796416165, 12025773.206142807),\n",
       " 'flood_DERP_RW_H_4326_2080447970': (72116.31267704148, 161218.4785384824),\n",
       " 'flood_DERP_RW_H_4326_2080448120': (0, 0),\n",
       " 'flood_DERP_RW_H_4326_2080451930': (3809.164008513535, 12765.68853295232),\n",
       " 'flood_DERP_RW_L_4326_2080410170': (4991059.43979833, 5873500.533757765),\n",
       " 'flood_DERP_RW_L_4326_2080410430': (1383579.1769540845, 2008877.065243581),\n",
       " 'flood_DERP_RW_L_4326_2080410540': (6168142.805562244, 14187701.245679663),\n",
       " 'flood_DERP_RW_L_4326_2080410660': (3574693.086429492, 3674347.0415819013),\n",
       " 'flood_DERP_RW_L_4326_2080410760': (226556.30918522232, 472769.4194533181),\n",
       " 'flood_DERP_RW_L_4326_2080411370': (47412677.515378386, 152195573.95578855),\n",
       " 'flood_DERP_RW_L_4326_2080416200': (644550.3998541324, 828249.9915435407),\n",
       " 'flood_DERP_RW_L_4326_2080416210': (140323042.91098905, 320972975.80458707),\n",
       " 'flood_DERP_RW_L_4326_2080418600': (31632760.875498433, 55942069.0591782),\n",
       " 'flood_DERP_RW_L_4326_2080418720': (457540.21825678885, 2735673.600368415),\n",
       " 'flood_DERP_RW_L_4326_2080418880': (1631242.8936388218, 4201223.70487757),\n",
       " 'flood_DERP_RW_L_4326_2080418890': (14310611.206679199, 54788769.29250866),\n",
       " 'flood_DERP_RW_L_4326_2080419070': (208652.24882993812, 216586.70913517958),\n",
       " 'flood_DERP_RW_L_4326_2080419180': (115465842.65737318, 171917031.27131656),\n",
       " 'flood_DERP_RW_L_4326_2080420240': (77895472.03071363, 198086951.82729638),\n",
       " 'flood_DERP_RW_L_4326_2080420340': (49375107.537569255, 64754826.47913119),\n",
       " 'flood_DERP_RW_L_4326_2080421680': (60797292.22543136, 136946005.70960903),\n",
       " 'flood_DERP_RW_L_4326_2080421770': (50812538.001900315, 135508393.6256668),\n",
       " 'flood_DERP_RW_L_4326_2080428080': (0, 0),\n",
       " 'flood_DERP_RW_L_4326_2080428160': (43364693.75311021, 48808801.528831564),\n",
       " 'flood_DERP_RW_L_4326_2080428500': (313784.93234124687, 9265881.7587872),\n",
       " 'flood_DERP_RW_L_4326_2080429430': (26562767.462320533, 92726199.07914418),\n",
       " 'flood_DERP_RW_L_4326_2080429540': (798613.6764476334, 991053.8576469768),\n",
       " 'flood_DERP_RW_L_4326_2080429670': (0, 0),\n",
       " 'flood_DERP_RW_L_4326_2080429770': (92277921.72074437, 168144479.30562684),\n",
       " 'flood_DERP_RW_L_4326_2080430240': (54391762.61127101, 90508201.15771644),\n",
       " 'flood_DERP_RW_L_4326_2080430320': (9355306.384249477, 20914827.97101291),\n",
       " 'flood_DERP_RW_L_4326_2080431110': (60671757.99671986, 156095992.75543627),\n",
       " 'flood_DERP_RW_L_4326_2080431660': (185782.21481935983, 226496.60704033868),\n",
       " 'flood_DERP_RW_L_4326_2080431750': (0, 0),\n",
       " 'flood_DERP_RW_L_4326_2080432400': (28032.940165508062, 163747.5787850439),\n",
       " 'flood_DERP_RW_L_4326_2080432510': (7516945.605807383, 10013995.20687408),\n",
       " 'flood_DERP_RW_L_4326_2080433520': (0, 0),\n",
       " 'flood_DERP_RW_L_4326_2080433740': (0, 0),\n",
       " 'flood_DERP_RW_L_4326_2080433960': (0, 0),\n",
       " 'flood_DERP_RW_L_4326_2080434150': (0, 0),\n",
       " 'flood_DERP_RW_L_4326_2080434280': (5239045.470501031, 15660690.741469285),\n",
       " 'flood_DERP_RW_L_4326_2080434470': (39563085.72070899, 137676894.2033746),\n",
       " 'flood_DERP_RW_L_4326_2080434490': (2203264.746050033, 3236405.2100605504),\n",
       " 'flood_DERP_RW_L_4326_2080434630': (143801672.61164907, 249315376.7390659),\n",
       " 'flood_DERP_RW_L_4326_2080435040': (15368089.786490884, 27515909.14652487),\n",
       " 'flood_DERP_RW_L_4326_2080435320': (8043204.395392576, 29288250.360782295),\n",
       " 'flood_DERP_RW_L_4326_2080436660': (0, 0),\n",
       " 'flood_DERP_RW_L_4326_2080436860': (67495.6716834682, 100393.35381339816),\n",
       " 'flood_DERP_RW_L_4326_2080436870': (22723655.94402809, 31396914.507496025),\n",
       " 'flood_DERP_RW_L_4326_2080437100': (2591933.237957693, 4923421.123711506),\n",
       " 'flood_DERP_RW_L_4326_2080437230': (1523867.804338427, 1585241.8311886182),\n",
       " 'flood_DERP_RW_L_4326_2080437370': (55826402.2300928, 133182356.674087),\n",
       " 'flood_DERP_RW_L_4326_2080438230': (1854695.498542582, 4388594.378287562),\n",
       " 'flood_DERP_RW_L_4326_2080438240': (44618371.481864445, 73880082.49176273),\n",
       " 'flood_DERP_RW_L_4326_2080438400': (10285570.526687864, 36668792.91870804),\n",
       " 'flood_DERP_RW_L_4326_2080438410': (814097.2207722409, 3650450.778454502),\n",
       " 'flood_DERP_RW_L_4326_2080439400': (899812.7943948574, 7604507.429687698),\n",
       " 'flood_DERP_RW_L_4326_2080439410': (382105076.7793302, 688911918.2184721),\n",
       " 'flood_DERP_RW_L_4326_2080441280': (345956741.1586058, 855741273.0646212),\n",
       " 'flood_DERP_RW_L_4326_2080446220': (8893887.172445355, 25739145.6195659),\n",
       " 'flood_DERP_RW_L_4326_2080446320': (185345937.3334828, 185517217.76527023),\n",
       " 'flood_DERP_RW_L_4326_2080447840': (183528899.56991318, 440070973.4506434),\n",
       " 'flood_DERP_RW_L_4326_2080447970': (555881.516365374, 3376888.200956928),\n",
       " 'flood_DERP_RW_L_4326_2080448120': (649397.2790631091, 1336049.1122195553),\n",
       " 'flood_DERP_RW_L_4326_2080451930': (657130.7705348851, 3677759.9168601227),\n",
       " 'flood_DERP_RW_M_4326_2080410170': (14411.832343326902, 17924.92575478299),\n",
       " 'flood_DERP_RW_M_4326_2080410430': (141295.83599124235, 165250.52392091148),\n",
       " 'flood_DERP_RW_M_4326_2080410540': (65830.91922500606, 66043.03257772153),\n",
       " 'flood_DERP_RW_M_4326_2080410660': (0, 0),\n",
       " 'flood_DERP_RW_M_4326_2080410760': (0, 0),\n",
       " 'flood_DERP_RW_M_4326_2080411370': (3556916.3260939717, 7307672.19039917),\n",
       " 'flood_DERP_RW_M_4326_2080416200': (0, 0),\n",
       " 'flood_DERP_RW_M_4326_2080416210': (13961667.451270562, 38168354.18992252),\n",
       " 'flood_DERP_RW_M_4326_2080418600': (12561423.132731225, 13373873.21303552),\n",
       " 'flood_DERP_RW_M_4326_2080418720': (0, 0),\n",
       " 'flood_DERP_RW_M_4326_2080418880': (158044.94158412213, 158749.55981165508),\n",
       " 'flood_DERP_RW_M_4326_2080418890': (8636.765631156395, 32953.845368724316),\n",
       " 'flood_DERP_RW_M_4326_2080419070': (0, 0),\n",
       " 'flood_DERP_RW_M_4326_2080419180': (18831908.968629837, 34750299.02239686),\n",
       " 'flood_DERP_RW_M_4326_2080420240': (94500.23426145823, 518886.67614988895),\n",
       " 'flood_DERP_RW_M_4326_2080420340': (2319204.4812235977, 8152106.263883766),\n",
       " 'flood_DERP_RW_M_4326_2080421680': (3401904.139354779, 7635665.1044588),\n",
       " 'flood_DERP_RW_M_4326_2080421770': (2632966.119776475, 4411609.250906018),\n",
       " 'flood_DERP_RW_M_4326_2080428080': (0, 0),\n",
       " 'flood_DERP_RW_M_4326_2080428160': (24383447.724228412, 35872058.799206465),\n",
       " 'flood_DERP_RW_M_4326_2080428500': (0, 0),\n",
       " 'flood_DERP_RW_M_4326_2080429430': (1680848.9628020807, 10231995.19600334),\n",
       " 'flood_DERP_RW_M_4326_2080429540': (20707.85676755042, 87522.12998362497),\n",
       " 'flood_DERP_RW_M_4326_2080429670': (0, 0),\n",
       " 'flood_DERP_RW_M_4326_2080429770': (2333759.579797091, 10886965.64311869),\n",
       " 'flood_DERP_RW_M_4326_2080430240': (7247549.751099873, 29226949.205766104),\n",
       " 'flood_DERP_RW_M_4326_2080430320': (278408.4957824896, 1047373.8201867895),\n",
       " 'flood_DERP_RW_M_4326_2080431110': (0.0, 1615.9402292128211),\n",
       " 'flood_DERP_RW_M_4326_2080431660': (0, 0),\n",
       " 'flood_DERP_RW_M_4326_2080431750': (0, 0),\n",
       " 'flood_DERP_RW_M_4326_2080432400': (128933.93989712231, 184149.98296179157),\n",
       " 'flood_DERP_RW_M_4326_2080432510': (1587942.5259357262, 2561003.116305305),\n",
       " 'flood_DERP_RW_M_4326_2080433520': (0, 0),\n",
       " 'flood_DERP_RW_M_4326_2080433740': (0, 0),\n",
       " 'flood_DERP_RW_M_4326_2080433960': (0, 0),\n",
       " 'flood_DERP_RW_M_4326_2080434150': (0, 0),\n",
       " 'flood_DERP_RW_M_4326_2080434280': (795786.5430687926, 1647057.4064324505),\n",
       " 'flood_DERP_RW_M_4326_2080434470': (1090521.9676525474, 3982379.204536605),\n",
       " 'flood_DERP_RW_M_4326_2080434490': (13844.177462928541, 72249.77112474051),\n",
       " 'flood_DERP_RW_M_4326_2080434630': (14653798.643776754, 33628345.31498349),\n",
       " 'flood_DERP_RW_M_4326_2080435040': (87165.67450061662, 148461.3182298135),\n",
       " 'flood_DERP_RW_M_4326_2080435320': (426800.93281561916, 2527641.509826293),\n",
       " 'flood_DERP_RW_M_4326_2080436660': (0, 0),\n",
       " 'flood_DERP_RW_M_4326_2080436860': (0, 0),\n",
       " 'flood_DERP_RW_M_4326_2080436870': (0.0, 1161653.1644702004),\n",
       " 'flood_DERP_RW_M_4326_2080437100': (117269.40274008909, 230409.18682466692),\n",
       " 'flood_DERP_RW_M_4326_2080437230': (9893.367163712865, 51251.40991168935),\n",
       " 'flood_DERP_RW_M_4326_2080437370': (3118712.782700226, 16390186.624228252),\n",
       " 'flood_DERP_RW_M_4326_2080438230': (7142.479104132359, 414229.5520951242),\n",
       " 'flood_DERP_RW_M_4326_2080438240': (6915693.289274403, 21556052.534894016),\n",
       " 'flood_DERP_RW_M_4326_2080438400': (69111.815965635, 3757693.558725274),\n",
       " 'flood_DERP_RW_M_4326_2080438410': (274634.2437803545, 1637274.7023211068),\n",
       " 'flood_DERP_RW_M_4326_2080439400': (2200.460089642548, 15576.222922560513),\n",
       " 'flood_DERP_RW_M_4326_2080439410': (13823230.939687682, 67241475.78495061),\n",
       " 'flood_DERP_RW_M_4326_2080441280': (18335656.51743974, 44368286.305847794),\n",
       " 'flood_DERP_RW_M_4326_2080446220': (1162547.370035499, 5015688.22408267),\n",
       " 'flood_DERP_RW_M_4326_2080446320': (0, 0),\n",
       " 'flood_DERP_RW_M_4326_2080447840': (12564754.207782377, 19861578.1446668),\n",
       " 'flood_DERP_RW_M_4326_2080447970': (91959.80017124546, 560188.0625181358),\n",
       " 'flood_DERP_RW_M_4326_2080448120': (41930.665518240465, 1069896.35920603),\n",
       " 'flood_DERP_RW_M_4326_2080451930': (6176.287577270925, 39747.0555462009)}"
      ]
     },
     "execution_count": 11,
     "metadata": {},
     "output_type": "execute_result"
    }
   ],
   "source": [
    "# Calculate the expected annual damages (EAD)\n",
    "summed_output = {}\n",
    "# Iterate over the items in the collect_output dictionary\n",
    "for hazard_map, asset_dict in collect_output.items():\n",
    "    # If the hazard_map and hazard_curve combination is not already in the summed_output dictionary, add it with the sum of the current lower and upper bounds\n",
    "    if hazard_map not in summed_output:\n",
    "        summed_output[hazard_map] = (sum(value[0] for value in asset_dict.values()), sum(value[1] for value in asset_dict.values()))\n",
    "    # If the hazard_map and hazard_curve combination is already in the summed_output dictionary, add the sum of the current lower and upper bounds to the existing ones\n",
    "    else:\n",
    "        summed_output[hazard_map][0] += sum(value[0] for value in asset_dict.values())\n",
    "        summed_output[hazard_map][1] += sum(value[1] for value in asset_dict.values())\n",
    "\n",
    "summed_output"
   ]
  },
  {
   "cell_type": "code",
   "execution_count": 12,
   "metadata": {},
   "outputs": [],
   "source": [
    "files = [file for file in os.listdir(interim_data_path) if file.endswith('.pkl') and file.startswith('overlay')]\n",
    "basins_list=list(set([int(file.split('.')[0].split('_')[-1]) for file in files]))\n",
    "# summed_output  is a dicitonary of with keys as the hazard map names and values as a tuple of the lower and upper bounds of the total damage\n",
    "# example: {'flood_DERP_RW_H_4326_2080411370': (3706407.631635442, 13355041.119988918),\n",
    "\n",
    "# for a list of all the basins in the region, retrieve the upper and lower damage bounds for each basin and skip if the basin is not a key in the summed_output dictionary\n",
    "\n",
    "# create a dictionary of dictionaries with the basin number as the level 1 key, the category (ie \"H\") as the level 2 key and the upper and lower bounds as the values\n",
    "basin_dict = {}\n",
    "for basin in basins_list:\n",
    "    basin_dict[basin] = {}\n",
    "    for key in summed_output.keys():\n",
    "        if str(basin) in key:\n",
    "            basin_dict[basin][key.split('_RW')[-1][0:3]] = summed_output[key]\n",
    "\n",
    "\n",
    "aggregated_df_by_basin = {}\n",
    "ead_by_ts_by_basin = {}\n",
    "\n",
    "for basin, damage_dict in basin_dict.items():\n",
    "    if len(damage_dict) == 0:\n",
    "        continue\n",
    "    aggregated_df_by_basin[basin] = pd.DataFrame.from_dict(damage_dict, orient='index', columns=['Total Damage Lower Bound', 'Total Damage Upper Bound'])\n",
    "    aggregated_df_by_basin[basin]['Return Period'] = [return_period_dict['DERP'][index] for index in aggregated_df_by_basin[basin].index]\n",
    "    aggregated_df_by_basin[basin] = aggregated_df_by_basin[basin].sort_values('Return Period', ascending=True)\n",
    "    aggregated_df_by_basin[basin]['Probability'] = [[1 / x for x in i] for i in aggregated_df_by_basin[basin]['Return Period']]\n",
    "    probabilities = aggregated_df_by_basin[basin]['Probability']\n",
    "    dmgs = []\n",
    "\n",
    "    for ts in range(len(probabilities.iloc[0])):    \n",
    "        dmgs_l = []\n",
    "        dmgs_u = []\n",
    "\n",
    "        for rp in range(len(probabilities)-1):\n",
    "            d_rp= probabilities.iloc[rp][ts] - probabilities.iloc[rp + 1][ts]\n",
    "            trap_damage_l = 0.5 * (aggregated_df_by_basin[basin]['Total Damage Lower Bound'].iloc[rp] + aggregated_df_by_basin[basin]['Total Damage Lower Bound'].iloc[rp + 1])\n",
    "            trap_damage_u = 0.5 * (aggregated_df_by_basin[basin]['Total Damage Upper Bound'].iloc[rp] + aggregated_df_by_basin[basin]['Total Damage Upper Bound'].iloc[rp + 1])\n",
    "            dmgs_l.append(d_rp * trap_damage_l)\n",
    "            dmgs_u.append(d_rp * trap_damage_u)\n",
    "        \n",
    "        # Add the portion of damages corresponding to the tails of the distribution\n",
    "        d0_rp = probabilities.iloc[-1][ts]\n",
    "        damage_l0 = max(aggregated_df_by_basin[basin]['Total Damage Lower Bound'])\n",
    "        damage_u0 = max(aggregated_df_by_basin[basin]['Total Damage Upper Bound'])\n",
    "        dmgs_l.append(d0_rp * damage_l0)\n",
    "        dmgs_u.append(d0_rp * damage_u0)\n",
    "\n",
    "        d_end_rp = (1/4)-probabilities.iloc[0][ts]\n",
    "        damage_l_end = 0.5 * min(aggregated_df_by_basin[basin]['Total Damage Lower Bound'])\n",
    "        damage_u_end = 0.5 * min(aggregated_df_by_basin[basin]['Total Damage Upper Bound'])\n",
    "        dmgs_l.append(d_end_rp * damage_l_end)\n",
    "        dmgs_u.append(d_end_rp * damage_u_end)\n",
    "\n",
    "        dmgs.append((sum(dmgs_l), sum(dmgs_u)))\n",
    "    \n",
    "    ead_by_ts_by_basin[basin] = pd.DataFrame(dmgs, columns=['Total Damage Lower Bound', 'Total Damage Upper Bound'])\n",
    "    \n",
    " \n"
   ]
  },
  {
   "cell_type": "code",
   "execution_count": 13,
   "metadata": {},
   "outputs": [
    {
     "name": "stdout",
     "output_type": "stream",
     "text": [
      "Baseline expected annual damages for basin 2080428160:293,783,372.13 EUR\n",
      "Baseline expected annual damages for basin 2080428160:427,619,247.25 EUR\n"
     ]
    }
   ],
   "source": [
    "total_damage_lower_bound = ead_by_ts_by_basin[basins_list[0]]['Total Damage Lower Bound']\n",
    "print(f'Baseline expected annual damages for basin {basins_list[0]}:{sum(total_damage_lower_bound):,.2f} EUR')\n",
    "total_damage_upper_bound = ead_by_ts_by_basin[basins_list[0]]['Total Damage Upper Bound']\n",
    "print(f'Baseline expected annual damages for basin {basins_list[0]}:{sum(total_damage_upper_bound):,.2f} EUR')\n"
   ]
  },
  {
   "cell_type": "code",
   "execution_count": 14,
   "metadata": {},
   "outputs": [
    {
     "data": {
      "image/png": "[encoded data removed]",
      "text/plain": [
       "<Figure size 2000x4000 with 64 Axes>"
      ]
     },
     "metadata": {},
     "output_type": "display_data"
    }
   ],
   "source": [
    "# Calculate the number of rows and columns based on the number of basins\n",
    "num_basins = len(ead_by_ts_by_basin)\n",
    "num_cols = int(np.ceil(np.sqrt(num_basins)))\n",
    "num_rows = int(np.ceil(num_basins / num_cols))\n",
    "\n",
    "# Create subplots with shared x-axis, the calculated number of rows and columns\n",
    "fig, axs = plt.subplots(num_rows, num_cols, figsize=(20, 5*num_rows), sharex=True, sharey=True)\n",
    "\n",
    "# Flatten axs array for easy iteration\n",
    "axs = axs.flatten()\n",
    "\n",
    "max_value = max([ead_by_ts_by_basin[basin]['Total Damage Upper Bound'].max() for basin in ead_by_ts_by_basin.keys()])\n",
    "\n",
    "for i, basin in enumerate(ead_by_ts_by_basin.keys()):\n",
    "    axs[i].fill_between(ead_by_ts_by_basin[basin].index, ead_by_ts_by_basin[basin]['Total Damage Lower Bound'], ead_by_ts_by_basin[basin]['Total Damage Upper Bound'], alpha=0.3, color='red')\n",
    "    axs[i].set_title(f'Basin {basin}')\n",
    "    axs[i].set_ylim(0, max_value)  # Set y-axis lower limit to 0 and upper limit to max_value\n",
    "\n",
    "# Hide any unused axes\n",
    "for j in range(num_basins, num_rows * num_cols):\n",
    "    axs[j].axis('off')\n",
    "\n",
    "plt.tight_layout()\n",
    "plt.suptitle('Expected Annual Damages (EAD) over time for each basin', y=1.02)\n",
    "plt.show()\n"
   ]
  },
  {
   "cell_type": "code",
   "execution_count": 15,
   "metadata": {},
   "outputs": [],
   "source": [
    "with open(f'{interim_data_path}/ead_by_ts_by_basin_direct.pkl', 'wb') as f:\n",
    "    pickle.dump(ead_by_ts_by_basin, f)"
   ]
  },
  {
   "cell_type": "code",
   "execution_count": 16,
   "metadata": {},
   "outputs": [
    {
     "data": {
      "text/plain": [
       "{2080428160:      Total Damage Lower Bound  Total Damage Upper Bound\n",
       " 0                1.502038e+06              2.582543e+06\n",
       " 1                1.530172e+06              2.615569e+06\n",
       " 2                1.558306e+06              2.648595e+06\n",
       " 3                1.586440e+06              2.681621e+06\n",
       " 4                1.614575e+06              2.714648e+06\n",
       " ..                        ...                       ...\n",
       " 96               4.202918e+06              5.753060e+06\n",
       " 97               4.231052e+06              5.786087e+06\n",
       " 98               4.259186e+06              5.819113e+06\n",
       " 99               4.287320e+06              5.852139e+06\n",
       " 100              4.315455e+06              5.885165e+06\n",
       " \n",
       " [101 rows x 2 columns],\n",
       " 2080438400:      Total Damage Lower Bound  Total Damage Upper Bound\n",
       " 0                82485.574449              4.633800e+05\n",
       " 1                87464.114030              4.821675e+05\n",
       " 2                92442.653611              5.009551e+05\n",
       " 3                97421.193192              5.197427e+05\n",
       " 4               102399.732773              5.385302e+05\n",
       " ..                        ...                       ...\n",
       " 96              560425.374239              2.266987e+06\n",
       " 97              565403.913820              2.285774e+06\n",
       " 98              570382.453401              2.304562e+06\n",
       " 99              575360.992982              2.323349e+06\n",
       " 100             580339.532564              2.342137e+06\n",
       " \n",
       " [101 rows x 2 columns],\n",
       " 2080432510:      Total Damage Lower Bound  Total Damage Upper Bound\n",
       " 0               131804.362026             196757.697745\n",
       " 1               135903.701182             202351.336992\n",
       " 2               140003.040338             207944.976240\n",
       " 3               144102.379494             213538.615488\n",
       " 4               148201.718651             219132.254736\n",
       " ..                        ...                       ...\n",
       " 96              525340.921027             733747.065539\n",
       " 97              529440.260183             739340.704787\n",
       " 98              533539.599340             744934.344035\n",
       " 99              537638.938496             750527.983283\n",
       " 100             541738.277652             756121.622530\n",
       " \n",
       " [101 rows x 2 columns],\n",
       " 2080431110:      Total Damage Lower Bound  Total Damage Upper Bound\n",
       " 0                4.550382e+05              1.170797e+06\n",
       " 1                4.843123e+05              1.246114e+06\n",
       " 2                5.135864e+05              1.321430e+06\n",
       " 3                5.428606e+05              1.396747e+06\n",
       " 4                5.721347e+05              1.472064e+06\n",
       " ..                        ...                       ...\n",
       " 96               3.265354e+06              8.401209e+06\n",
       " 97               3.294628e+06              8.476526e+06\n",
       " 98               3.323902e+06              8.551843e+06\n",
       " 99               3.353176e+06              8.627160e+06\n",
       " 100              3.382451e+06              8.702476e+06\n",
       " \n",
       " [101 rows x 2 columns],\n",
       " 2080431750:      Total Damage Lower Bound  Total Damage Upper Bound\n",
       " 0                         0.0                       0.0\n",
       " 1                         0.0                       0.0\n",
       " 2                         0.0                       0.0\n",
       " 3                         0.0                       0.0\n",
       " 4                         0.0                       0.0\n",
       " ..                        ...                       ...\n",
       " 96                        0.0                       0.0\n",
       " 97                        0.0                       0.0\n",
       " 98                        0.0                       0.0\n",
       " 99                        0.0                       0.0\n",
       " 100                       0.0                       0.0\n",
       " \n",
       " [101 rows x 2 columns],\n",
       " 2080410760:      Total Damage Lower Bound  Total Damage Upper Bound\n",
       " 0                 1699.172319               3545.770646\n",
       " 1                 1808.485738               3773.881891\n",
       " 2                 1917.799157               4001.993136\n",
       " 3                 2027.112576               4230.104381\n",
       " 4                 2136.425996               4458.215625\n",
       " ..                        ...                       ...\n",
       " 96               12193.260560              25444.450155\n",
       " 97               12302.573980              25672.561400\n",
       " 98               12411.887399              25900.672645\n",
       " 99               12521.200818              26128.783890\n",
       " 100              12630.514237              26356.895135\n",
       " \n",
       " [101 rows x 2 columns],\n",
       " 2080436870:      Total Damage Lower Bound  Total Damage Upper Bound\n",
       " 0                1.704274e+05              2.906554e+05\n",
       " 1                1.813916e+05              3.061500e+05\n",
       " 2                1.923557e+05              3.216446e+05\n",
       " 3                2.033199e+05              3.371392e+05\n",
       " 4                2.142841e+05              3.526338e+05\n",
       " ..                        ...                       ...\n",
       " 96               1.222987e+06              1.778137e+06\n",
       " 97               1.233951e+06              1.793632e+06\n",
       " 98               1.244915e+06              1.809126e+06\n",
       " 99               1.255880e+06              1.824621e+06\n",
       " 100              1.266844e+06              1.840116e+06\n",
       " \n",
       " [101 rows x 2 columns],\n",
       " 2080421770:      Total Damage Lower Bound  Total Damage Upper Bound\n",
       " 0                6.853211e+05              1.411405e+06\n",
       " 1                7.102035e+05              1.477667e+06\n",
       " 2                7.350858e+05              1.543929e+06\n",
       " 3                7.599681e+05              1.610192e+06\n",
       " 4                7.848504e+05              1.676454e+06\n",
       " ..                        ...                       ...\n",
       " 96               3.074023e+06              7.772588e+06\n",
       " 97               3.098906e+06              7.838850e+06\n",
       " 98               3.123788e+06              7.905113e+06\n",
       " 99               3.148670e+06              7.971375e+06\n",
       " 100              3.173553e+06              8.037637e+06\n",
       " \n",
       " [101 rows x 2 columns],\n",
       " 2080438410:      Total Damage Lower Bound  Total Damage Upper Bound\n",
       " 0                21369.555681             112520.645512\n",
       " 1                21838.884311             114751.876565\n",
       " 2                22308.212941             116983.107618\n",
       " 3                22777.541571             119214.338671\n",
       " 4                23246.870201             121445.569724\n",
       " ..                        ...                       ...\n",
       " 96               66425.104162             326718.826614\n",
       " 97               66894.432792             328950.057667\n",
       " 98               67363.761422             331181.288720\n",
       " 99               67833.090052             333412.519773\n",
       " 100              68302.418682             335643.750826\n",
       " \n",
       " [101 rows x 2 columns],\n",
       " 2080446220:      Total Damage Lower Bound  Total Damage Upper Bound\n",
       " 0               168744.456165              6.039523e+05\n",
       " 1               173272.369530              6.174607e+05\n",
       " 2               177800.282895              6.309692e+05\n",
       " 3               182328.196259              6.444776e+05\n",
       " 4               186856.109624              6.579860e+05\n",
       " ..                        ...                       ...\n",
       " 96              603424.139167              1.900761e+06\n",
       " 97              607952.052532              1.914269e+06\n",
       " 98              612479.965896              1.927778e+06\n",
       " 99              617007.879261              1.941286e+06\n",
       " 100             621535.792625              1.954795e+06\n",
       " \n",
       " [101 rows x 2 columns],\n",
       " 2080420240:      Total Damage Lower Bound  Total Damage Upper Bound\n",
       " 0                6.013371e+05              1.551034e+06\n",
       " 1                6.389296e+05              1.646671e+06\n",
       " 2                6.765222e+05              1.742307e+06\n",
       " 3                7.141147e+05              1.837943e+06\n",
       " 4                7.517072e+05              1.933579e+06\n",
       " ..                        ...                       ...\n",
       " 96               4.210221e+06              1.073212e+07\n",
       " 97               4.247813e+06              1.082775e+07\n",
       " 98               4.285406e+06              1.092339e+07\n",
       " 99               4.322998e+06              1.101903e+07\n",
       " 100              4.360591e+06              1.111466e+07\n",
       " \n",
       " [101 rows x 2 columns],\n",
       " 2080432400:      Total Damage Lower Bound  Total Damage Upper Bound\n",
       " 0                 9467.586736              21823.840158\n",
       " 1                 9554.202279              21938.487232\n",
       " 2                 9640.817822              22053.134306\n",
       " 3                 9727.433365              22167.781379\n",
       " 4                 9814.048908              22282.428453\n",
       " ..                        ...                       ...\n",
       " 96               17782.678869              32829.959243\n",
       " 97               17869.294412              32944.606317\n",
       " 98               17955.909955              33059.253391\n",
       " 99               18042.525498              33173.900465\n",
       " 100              18129.141041              33288.547539\n",
       " \n",
       " [101 rows x 2 columns],\n",
       " 2080418720:      Total Damage Lower Bound  Total Damage Upper Bound\n",
       " 0                 3431.551637              20517.552003\n",
       " 1                 3652.314792              21837.514515\n",
       " 2                 3873.077948              23157.477027\n",
       " 3                 4093.841103              24477.439539\n",
       " 4                 4314.604258              25797.402051\n",
       " ..                        ...                       ...\n",
       " 96               24624.814547             147233.953172\n",
       " 97               24845.577702             148553.915684\n",
       " 98               25066.340857             149873.878196\n",
       " 99               25287.104013             151193.840708\n",
       " 100              25507.867168             152513.803221\n",
       " \n",
       " [101 rows x 2 columns],\n",
       " 2080430240:      Total Damage Lower Bound  Total Damage Upper Bound\n",
       " 0                7.977197e+05              2.140619e+06\n",
       " 1                8.260137e+05              2.192812e+06\n",
       " 2                8.543076e+05              2.245006e+06\n",
       " 3                8.826016e+05              2.297200e+06\n",
       " 4                9.108955e+05              2.349393e+06\n",
       " ..                        ...                       ...\n",
       " 96               3.513939e+06              7.151210e+06\n",
       " 97               3.542233e+06              7.203404e+06\n",
       " 98               3.570527e+06              7.255597e+06\n",
       " 99               3.598821e+06              7.307791e+06\n",
       " 100              3.627115e+06              7.359985e+06\n",
       " \n",
       " [101 rows x 2 columns],\n",
       " 2080410660:      Total Damage Lower Bound  Total Damage Upper Bound\n",
       " 0                26810.198148              27557.602812\n",
       " 1                28534.987562              29330.475259\n",
       " 2                30259.776977              31103.347707\n",
       " 3                31984.566391              32876.220155\n",
       " 4                33709.355805              34649.092602\n",
       " ..                        ...                       ...\n",
       " 96              192389.981912             197753.357778\n",
       " 97              194114.771326             199526.230226\n",
       " 98              195839.560740             201299.102673\n",
       " 99              197564.350154             203071.975121\n",
       " 100             199289.139568             204844.847568\n",
       " \n",
       " [101 rows x 2 columns],\n",
       " 2080434470:      Total Damage Lower Bound  Total Damage Upper Bound\n",
       " 0                3.935607e+05              1.309158e+06\n",
       " 1                4.128692e+05              1.376568e+06\n",
       " 2                4.321778e+05              1.443978e+06\n",
       " 3                4.514863e+05              1.511388e+06\n",
       " 4                4.707948e+05              1.578797e+06\n",
       " ..                        ...                       ...\n",
       " 96               2.247180e+06              7.780507e+06\n",
       " 97               2.266488e+06              7.847917e+06\n",
       " 98               2.285797e+06              7.915326e+06\n",
       " 99               2.305105e+06              7.982736e+06\n",
       " 100              2.324414e+06              8.050146e+06\n",
       " \n",
       " [101 rows x 2 columns],\n",
       " 2080418600:      Total Damage Lower Bound  Total Damage Upper Bound\n",
       " 0                1.137953e+06              2.582351e+06\n",
       " 1                1.156243e+06              2.609758e+06\n",
       " 2                1.174534e+06              2.637164e+06\n",
       " 3                1.192824e+06              2.664571e+06\n",
       " 4                1.211114e+06              2.691977e+06\n",
       " ..                        ...                       ...\n",
       " 96               2.893832e+06              5.213380e+06\n",
       " 97               2.912122e+06              5.240786e+06\n",
       " 98               2.930412e+06              5.268193e+06\n",
       " 99               2.948703e+06              5.295599e+06\n",
       " 100              2.966993e+06              5.323006e+06\n",
       " \n",
       " [101 rows x 2 columns],\n",
       " 2080433960:      Total Damage Lower Bound  Total Damage Upper Bound\n",
       " 0                         0.0                       0.0\n",
       " 1                         0.0                       0.0\n",
       " 2                         0.0                       0.0\n",
       " 3                         0.0                       0.0\n",
       " 4                         0.0                       0.0\n",
       " ..                        ...                       ...\n",
       " 96                        0.0                       0.0\n",
       " 97                        0.0                       0.0\n",
       " 98                        0.0                       0.0\n",
       " 99                        0.0                       0.0\n",
       " 100                       0.0                       0.0\n",
       " \n",
       " [101 rows x 2 columns],\n",
       " 2080410540:      Total Damage Lower Bound  Total Damage Upper Bound\n",
       " 0                56891.440200             117048.203885\n",
       " 1                59869.645868             123895.909604\n",
       " 2                62847.851535             130743.615323\n",
       " 3                65826.057203             137591.321041\n",
       " 4                68804.262871             144439.026760\n",
       " ..                        ...                       ...\n",
       " 96              342799.184296             774427.952884\n",
       " 97              345777.389963             781275.658603\n",
       " 98              348755.595631             788123.364322\n",
       " 99              351733.801299             794971.070041\n",
       " 100             354712.006966             801818.775759\n",
       " \n",
       " [101 rows x 2 columns],\n",
       " 2080431660:      Total Damage Lower Bound  Total Damage Upper Bound\n",
       " 0                 1393.366611               1698.724553\n",
       " 1                 1483.006530               1808.009166\n",
       " 2                 1572.646448               1917.293779\n",
       " 3                 1662.286367               2026.578391\n",
       " 4                 1751.926286               2135.863004\n",
       " ..                        ...                       ...\n",
       " 96                9998.798802              12190.047391\n",
       " 97               10088.438720              12299.332004\n",
       " 98               10178.078639              12408.616617\n",
       " 99               10267.718558              12517.901230\n",
       " 100              10357.358476              12627.185842\n",
       " \n",
       " [101 rows x 2 columns],\n",
       " 2080421680:      Total Damage Lower Bound  Total Damage Upper Bound\n",
       " 0                6.574106e+05              1.467116e+06\n",
       " 1                6.876644e+05              1.535283e+06\n",
       " 2                7.179182e+05              1.603451e+06\n",
       " 3                7.481720e+05              1.671619e+06\n",
       " 4                7.784258e+05              1.739786e+06\n",
       " ..                        ...                       ...\n",
       " 96               3.561775e+06              8.011208e+06\n",
       " 97               3.592029e+06              8.079376e+06\n",
       " 98               3.622283e+06              8.147543e+06\n",
       " 99               3.652537e+06              8.215711e+06\n",
       " 100              3.682790e+06              8.283879e+06\n",
       " \n",
       " [101 rows x 2 columns],\n",
       " 2080428080:      Total Damage Lower Bound  Total Damage Upper Bound\n",
       " 0                         0.0                       0.0\n",
       " 1                         0.0                       0.0\n",
       " 2                         0.0                       0.0\n",
       " 3                         0.0                       0.0\n",
       " 4                         0.0                       0.0\n",
       " ..                        ...                       ...\n",
       " 96                        0.0                       0.0\n",
       " 97                        0.0                       0.0\n",
       " 98                        0.0                       0.0\n",
       " 99                        0.0                       0.0\n",
       " 100                       0.0                       0.0\n",
       " \n",
       " [101 rows x 2 columns],\n",
       " 2080436660:      Total Damage Lower Bound  Total Damage Upper Bound\n",
       " 0                         0.0                       0.0\n",
       " 1                         0.0                       0.0\n",
       " 2                         0.0                       0.0\n",
       " 3                         0.0                       0.0\n",
       " 4                         0.0                       0.0\n",
       " ..                        ...                       ...\n",
       " 96                        0.0                       0.0\n",
       " 97                        0.0                       0.0\n",
       " 98                        0.0                       0.0\n",
       " 99                        0.0                       0.0\n",
       " 100                       0.0                       0.0\n",
       " \n",
       " [101 rows x 2 columns],\n",
       " 2080410170:      Total Damage Lower Bound  Total Damage Upper Bound\n",
       " 0                39156.749396              46537.183500\n",
       " 1                41566.798199              49372.666350\n",
       " 2                43976.847002              52208.149200\n",
       " 3                46386.895805              55043.632050\n",
       " 4                48796.944608              57879.114900\n",
       " ..                        ...                       ...\n",
       " 96              270521.434470             318743.537106\n",
       " 97              272931.483273             321579.019956\n",
       " 98              275341.532075             324414.502806\n",
       " 99              277751.580878             327249.985656\n",
       " 100             280161.629681             330085.468506\n",
       " \n",
       " [101 rows x 2 columns],\n",
       " 2080434490:      Total Damage Lower Bound  Total Damage Upper Bound\n",
       " 0                17182.084025              27742.025746\n",
       " 1                18249.277908              29324.998947\n",
       " 2                19316.471790              30907.972149\n",
       " 3                20383.665673              32490.945350\n",
       " 4                21450.859556              34073.918552\n",
       " ..                        ...                       ...\n",
       " 96              119632.696770             179707.453090\n",
       " 97              120699.890653             181290.426291\n",
       " 98              121767.084536             182873.399493\n",
       " 99              122834.278419             184456.372694\n",
       " 100             123901.472301             186039.345896\n",
       " \n",
       " [101 rows x 2 columns],\n",
       " 2080410430:      Total Damage Lower Bound  Total Damage Upper Bound\n",
       " 0                21529.810176              41893.903569\n",
       " 1                22229.059340              42868.066957\n",
       " 2                22928.308505              43842.230346\n",
       " 3                23627.557669              44816.393734\n",
       " 4                24326.806834              45790.557122\n",
       " ..                        ...                       ...\n",
       " 96               88657.729961             135413.588839\n",
       " 97               89356.979125             136387.752227\n",
       " 98               90056.228290             137361.915616\n",
       " 99               90755.477454             138336.079004\n",
       " 100              91454.726619             139310.242392\n",
       " \n",
       " [101 rows x 2 columns],\n",
       " 2080418880:      Total Damage Lower Bound  Total Damage Upper Bound\n",
       " 0                33137.028064              52580.883544\n",
       " 1                33939.864796              54623.629405\n",
       " 2                34742.701529              56666.375266\n",
       " 3                35545.538261              58709.121127\n",
       " 4                36348.374994              60751.866989\n",
       " ..                        ...                       ...\n",
       " 96              110209.354382             248684.486209\n",
       " 97              111012.191115             250727.232070\n",
       " 98              111815.027847             252769.977931\n",
       " 99              112617.864580             254812.723792\n",
       " 100             113420.701312             256855.469653\n",
       " \n",
       " [101 rows x 2 columns],\n",
       " 2080441280:      Total Damage Lower Bound  Total Damage Upper Bound\n",
       " 0                4.169997e+06              9.388445e+06\n",
       " 1                4.340732e+06              9.812526e+06\n",
       " 2                4.511468e+06              1.023661e+07\n",
       " 3                4.682203e+06              1.066069e+07\n",
       " 4                4.852939e+06              1.108477e+07\n",
       " ..                        ...                       ...\n",
       " 96               2.056060e+07              5.010025e+07\n",
       " 97               2.073133e+07              5.052433e+07\n",
       " 98               2.090207e+07              5.094841e+07\n",
       " 99               2.107281e+07              5.137250e+07\n",
       " 100              2.124354e+07              5.179658e+07\n",
       " \n",
       " [101 rows x 2 columns],\n",
       " 2080434630:      Total Damage Lower Bound  Total Damage Upper Bound\n",
       " 0                1.774568e+06              3.467212e+06\n",
       " 1                1.848312e+06              3.597511e+06\n",
       " 2                1.922056e+06              3.727810e+06\n",
       " 3                1.995799e+06              3.858109e+06\n",
       " 4                2.069543e+06              3.988408e+06\n",
       " ..                        ...                       ...\n",
       " 96               8.853974e+06              1.597593e+07\n",
       " 97               8.927718e+06              1.610622e+07\n",
       " 98               9.001462e+06              1.623652e+07\n",
       " 99               9.075205e+06              1.636682e+07\n",
       " 100              9.148949e+06              1.649712e+07\n",
       " \n",
       " [101 rows x 2 columns],\n",
       " 2080416200:      Total Damage Lower Bound  Total Damage Upper Bound\n",
       " 0                 4834.127999               6211.874937\n",
       " 1                 5145.123567               6611.505557\n",
       " 2                 5456.119135               7011.136178\n",
       " 3                 5767.114703               7410.766799\n",
       " 4                 6078.110271               7810.397420\n",
       " ..                        ...                       ...\n",
       " 96               34689.702520              44576.414545\n",
       " 97               35000.698088              44976.045166\n",
       " 98               35311.693656              45375.675787\n",
       " 99               35622.689224              45775.306408\n",
       " 100              35933.684792              46174.937029\n",
       " \n",
       " [101 rows x 2 columns],\n",
       " 2080418890:      Total Damage Lower Bound  Total Damage Upper Bound\n",
       " 0               107739.830418              4.124811e+05\n",
       " 1               114647.269763              4.389265e+05\n",
       " 2               121554.709108              4.653718e+05\n",
       " 3               128462.148453              4.918172e+05\n",
       " 4               135369.587798              5.182626e+05\n",
       " ..                        ...                       ...\n",
       " 96              770854.007537              2.951238e+06\n",
       " 97              777761.446882              2.977683e+06\n",
       " 98              784668.886227              3.004129e+06\n",
       " 99              791576.325572              3.030574e+06\n",
       " 100             798483.764917              3.057020e+06\n",
       " \n",
       " [101 rows x 2 columns],\n",
       " 2080429770:      Total Damage Lower Bound  Total Damage Upper Bound\n",
       " 0                8.725813e+05              1.887244e+06\n",
       " 1                9.176372e+05              1.971358e+06\n",
       " 2                9.626931e+05              2.055472e+06\n",
       " 3                1.007749e+06              2.139587e+06\n",
       " 4                1.052805e+06              2.223701e+06\n",
       " ..                        ...                       ...\n",
       " 96               5.197947e+06              9.962205e+06\n",
       " 97               5.243003e+06              1.004632e+07\n",
       " 98               5.288059e+06              1.013043e+07\n",
       " 99               5.333114e+06              1.021455e+07\n",
       " 100              5.378170e+06              1.029866e+07\n",
       " \n",
       " [101 rows x 2 columns],\n",
       " 2080433740:      Total Damage Lower Bound  Total Damage Upper Bound\n",
       " 0                         0.0                       0.0\n",
       " 1                         0.0                       0.0\n",
       " 2                         0.0                       0.0\n",
       " 3                         0.0                       0.0\n",
       " 4                         0.0                       0.0\n",
       " ..                        ...                       ...\n",
       " 96                        0.0                       0.0\n",
       " 97                        0.0                       0.0\n",
       " 98                        0.0                       0.0\n",
       " 99                        0.0                       0.0\n",
       " 100                       0.0                       0.0\n",
       " \n",
       " [101 rows x 2 columns],\n",
       " 2080448120:      Total Damage Lower Bound  Total Damage Upper Bound\n",
       " 0                 6862.186205              60840.445404\n",
       " 1                 7187.994765              61803.383267\n",
       " 2                 7513.803325              62766.321131\n",
       " 3                 7839.611886              63729.258994\n",
       " 4                 8165.420446              64692.196858\n",
       " ..                        ...                       ...\n",
       " 96               38139.807978             153282.480301\n",
       " 97               38465.616539             154245.418164\n",
       " 98               38791.425099             155208.356028\n",
       " 99               39117.233659             156171.293891\n",
       " 100              39443.042219             157134.231755\n",
       " \n",
       " [101 rows x 2 columns],\n",
       " 2080416210:      Total Damage Lower Bound  Total Damage Upper Bound\n",
       " 0                1.891925e+06              4.742468e+06\n",
       " 1                1.963373e+06              4.907474e+06\n",
       " 2                2.034821e+06              5.072480e+06\n",
       " 3                2.106269e+06              5.237486e+06\n",
       " 4                2.177717e+06              5.402492e+06\n",
       " ..                        ...                       ...\n",
       " 96               8.750937e+06              2.058306e+07\n",
       " 97               8.822385e+06              2.074806e+07\n",
       " 98               8.893833e+06              2.091307e+07\n",
       " 99               8.965281e+06              2.107808e+07\n",
       " 100              9.036730e+06              2.124308e+07\n",
       " \n",
       " [101 rows x 2 columns],\n",
       " 2080428500:      Total Damage Lower Bound  Total Damage Upper Bound\n",
       " 0                 2353.386993              69494.113191\n",
       " 1                 2504.788222              73964.901140\n",
       " 2                 2656.189452              78435.689088\n",
       " 3                 2807.590682              82906.477037\n",
       " 4                 2958.991912              87377.264985\n",
       " ..                        ...                       ...\n",
       " 96               16887.905059             498689.756258\n",
       " 97               17039.306288             503160.544207\n",
       " 98               17190.707518             507631.332155\n",
       " 99               17342.108748             512102.120104\n",
       " 100              17493.509978             516572.908052\n",
       " \n",
       " [101 rows x 2 columns],\n",
       " 2080438230:      Total Damage Lower Bound  Total Damage Upper Bound\n",
       " 0                14249.483997              52590.361562\n",
       " 1                15146.499462              54831.091641\n",
       " 2                16043.514928              57071.821720\n",
       " 3                16940.530393              59312.551799\n",
       " 4                17837.545859              61553.281879\n",
       " ..                        ...                       ...\n",
       " 96              100362.968692             267700.449172\n",
       " 97              101259.984158             269941.179251\n",
       " 98              102156.999623             272181.909330\n",
       " 99              103054.015089             274422.639410\n",
       " 100             103951.030555             276663.369489\n",
       " \n",
       " [101 rows x 2 columns],\n",
       " 2080451930:      Total Damage Lower Bound  Total Damage Upper Bound\n",
       " 0                 5678.954120              31003.067139\n",
       " 1                 5996.790596              32785.836655\n",
       " 2                 6314.627073              34568.606171\n",
       " 3                 6632.463549              36351.375687\n",
       " 4                 6950.300026              38134.145203\n",
       " ..                        ...                       ...\n",
       " 96               36191.255856             202148.940686\n",
       " 97               36509.092332             203931.710203\n",
       " 98               36826.928809             205714.479719\n",
       " 99               37144.765285             207497.249235\n",
       " 100              37462.601761             209280.018751\n",
       " \n",
       " [101 rows x 2 columns],\n",
       " 2080435040:      Total Damage Lower Bound  Total Damage Upper Bound\n",
       " 0               121710.449877              2.235309e+05\n",
       " 1               129146.096371              2.368280e+05\n",
       " 2               136581.742865              2.501250e+05\n",
       " 3               144017.389359              2.634220e+05\n",
       " 4               151453.035853              2.767190e+05\n",
       " ..                        ...                       ...\n",
       " 96              835532.513297              1.500043e+06\n",
       " 97              842968.159791              1.513340e+06\n",
       " 98              850403.806285              1.526637e+06\n",
       " 99              857839.452779              1.539934e+06\n",
       " 100             865275.099272              1.553231e+06\n",
       " \n",
       " [101 rows x 2 columns],\n",
       " 2080438240:      Total Damage Lower Bound  Total Damage Upper Bound\n",
       " 0                6.993074e+05              2.069660e+06\n",
       " 1                7.228088e+05              2.110573e+06\n",
       " 2                7.463102e+05              2.151486e+06\n",
       " 3                7.698116e+05              2.192399e+06\n",
       " 4                7.933129e+05              2.233312e+06\n",
       " ..                        ...                       ...\n",
       " 96               2.955440e+06              5.997297e+06\n",
       " 97               2.978941e+06              6.038210e+06\n",
       " 98               3.002442e+06              6.079123e+06\n",
       " 99               3.025944e+06              6.120036e+06\n",
       " 100              3.049445e+06              6.160949e+06\n",
       " \n",
       " [101 rows x 2 columns],\n",
       " 2080447840:      Total Damage Lower Bound  Total Damage Upper Bound\n",
       " 0                2.973735e+06              5.687050e+06\n",
       " 1                3.063691e+06              5.901926e+06\n",
       " 2                3.153647e+06              6.116802e+06\n",
       " 3                3.243604e+06              6.331678e+06\n",
       " 4                3.333560e+06              6.546553e+06\n",
       " ..                        ...                       ...\n",
       " 96               1.160954e+07              2.631513e+07\n",
       " 97               1.169950e+07              2.653001e+07\n",
       " 98               1.178946e+07              2.674488e+07\n",
       " 99               1.187941e+07              2.695976e+07\n",
       " 100              1.196937e+07              2.717463e+07\n",
       " \n",
       " [101 rows x 2 columns],\n",
       " 2080447970:      Total Damage Lower Bound  Total Damage Upper Bound\n",
       " 0                17191.159402              71281.811901\n",
       " 1                17466.537707              73032.675233\n",
       " 2                17741.916011              74783.538565\n",
       " 3                18017.294316              76534.401896\n",
       " 4                18292.672621              78285.265228\n",
       " ..                        ...                       ...\n",
       " 96               43627.476648             239364.691732\n",
       " 97               43902.854953             241115.555064\n",
       " 98               44178.233258             242866.418395\n",
       " 99               44453.611562             244617.281727\n",
       " 100              44728.989867             246368.145058\n",
       " \n",
       " [101 rows x 2 columns],\n",
       " 2080429540:      Total Damage Lower Bound  Total Damage Upper Bound\n",
       " 0                 8464.022794              20555.686747\n",
       " 1                 8852.035954              21038.988610\n",
       " 2                 9240.049113              21522.290473\n",
       " 3                 9628.062273              22005.592336\n",
       " 4                10016.075433              22488.894199\n",
       " ..                        ...                       ...\n",
       " 96               45713.286143              66952.665578\n",
       " 97               46101.299303              67435.967441\n",
       " 98               46489.312462              67919.269304\n",
       " 99               46877.325622              68402.571167\n",
       " 100              47265.338782              68885.873030\n",
       " \n",
       " [101 rows x 2 columns],\n",
       " 2080429670:      Total Damage Lower Bound  Total Damage Upper Bound\n",
       " 0                         0.0                       0.0\n",
       " 1                         0.0                       0.0\n",
       " 2                         0.0                       0.0\n",
       " 3                         0.0                       0.0\n",
       " 4                         0.0                       0.0\n",
       " ..                        ...                       ...\n",
       " 96                        0.0                       0.0\n",
       " 97                        0.0                       0.0\n",
       " 98                        0.0                       0.0\n",
       " 99                        0.0                       0.0\n",
       " 100                       0.0                       0.0\n",
       " \n",
       " [101 rows x 2 columns],\n",
       " 2080434150:      Total Damage Lower Bound  Total Damage Upper Bound\n",
       " 0                         0.0                       0.0\n",
       " 1                         0.0                       0.0\n",
       " 2                         0.0                       0.0\n",
       " 3                         0.0                       0.0\n",
       " 4                         0.0                       0.0\n",
       " ..                        ...                       ...\n",
       " 96                        0.0                       0.0\n",
       " 97                        0.0                       0.0\n",
       " 98                        0.0                       0.0\n",
       " 99                        0.0                       0.0\n",
       " 100                       0.0                       0.0\n",
       " \n",
       " [101 rows x 2 columns],\n",
       " 2080434280:      Total Damage Lower Bound  Total Damage Upper Bound\n",
       " 0                77917.819241              1.970804e+05\n",
       " 1                80680.479904              2.051234e+05\n",
       " 2                83443.140566              2.131665e+05\n",
       " 3                86205.801228              2.212095e+05\n",
       " 4                88968.461890              2.292526e+05\n",
       " ..                        ...                       ...\n",
       " 96              343133.242804              9.692122e+05\n",
       " 97              345895.903466              9.772552e+05\n",
       " 98              348658.564128              9.852983e+05\n",
       " 99              351421.224790              9.933413e+05\n",
       " 100             354183.885452              1.001384e+06\n",
       " \n",
       " [101 rows x 2 columns],\n",
       " 2080439400:      Total Damage Lower Bound  Total Damage Upper Bound\n",
       " 0                 6853.117812              57773.676311\n",
       " 1                 7287.932122              61447.485073\n",
       " 2                 7722.746433              65121.293834\n",
       " 3                 8157.560743              68795.102595\n",
       " 4                 8592.375053              72468.911356\n",
       " ..                        ...                       ...\n",
       " 96               48595.291589             410459.317381\n",
       " 97               49030.105899             414133.126142\n",
       " 98               49464.920209             417806.934904\n",
       " 99               49899.734519             421480.743665\n",
       " 100              50334.548829             425154.552426\n",
       " \n",
       " [101 rows x 2 columns],\n",
       " 2080411370:      Total Damage Lower Bound  Total Damage Upper Bound\n",
       " 0                5.389126e+05              1.554649e+06\n",
       " 1                5.628139e+05              1.630103e+06\n",
       " 2                5.867152e+05              1.705557e+06\n",
       " 3                6.106165e+05              1.781011e+06\n",
       " 4                6.345177e+05              1.856466e+06\n",
       " ..                        ...                       ...\n",
       " 96               2.833436e+06              8.798256e+06\n",
       " 97               2.857337e+06              8.873710e+06\n",
       " 98               2.881238e+06              8.949164e+06\n",
       " 99               2.905140e+06              9.024618e+06\n",
       " 100              2.929041e+06              9.100073e+06\n",
       " \n",
       " [101 rows x 2 columns],\n",
       " 2080419180:      Total Damage Lower Bound  Total Damage Upper Bound\n",
       " 0                1.933862e+06              3.511474e+06\n",
       " 1                1.994773e+06              3.603428e+06\n",
       " 2                2.055683e+06              3.695383e+06\n",
       " 3                2.116593e+06              3.787338e+06\n",
       " 4                2.177503e+06              3.879293e+06\n",
       " ..                        ...                       ...\n",
       " 96               7.781248e+06              1.233913e+07\n",
       " 97               7.842159e+06              1.243109e+07\n",
       " 98               7.903069e+06              1.252304e+07\n",
       " 99               7.963979e+06              1.261500e+07\n",
       " 100              8.024890e+06              1.270695e+07\n",
       " \n",
       " [101 rows x 2 columns],\n",
       " 2080437100:      Total Damage Lower Bound  Total Damage Upper Bound\n",
       " 0                26087.719371              53182.641725\n",
       " 1                27370.699651              55614.343208\n",
       " 2                28653.679931              58046.044690\n",
       " 3                29936.660211              60477.746173\n",
       " 4                31219.640491              62909.447655\n",
       " ..                        ...                       ...\n",
       " 96              149253.826242             286625.984040\n",
       " 97              150536.806521             289057.685523\n",
       " 98              151819.786801             291489.387005\n",
       " 99              153102.767081             293921.088488\n",
       " 100             154385.747361             296352.789970\n",
       " \n",
       " [101 rows x 2 columns],\n",
       " 2080437230:      Total Damage Lower Bound  Total Damage Upper Bound\n",
       " 0                13086.147535              15637.784267\n",
       " 1                13821.586884              16414.844678\n",
       " 2                14557.026234              17191.905089\n",
       " 3                15292.465583              17968.965501\n",
       " 4                16027.904933              18746.025912\n",
       " ..                        ...                       ...\n",
       " 96               83688.325090              90235.583757\n",
       " 97               84423.764439              91012.644168\n",
       " 98               85159.203789              91789.704579\n",
       " 99               85894.643138              92566.764991\n",
       " 100              86630.082488              93343.825402\n",
       " \n",
       " [101 rows x 2 columns],\n",
       " 2080430320:      Total Damage Lower Bound  Total Damage Upper Bound\n",
       " 0               110184.256009              2.395366e+05\n",
       " 1               114718.496073              2.498627e+05\n",
       " 2               119252.736137              2.601889e+05\n",
       " 3               123786.976201              2.705151e+05\n",
       " 4               128321.216265              2.808412e+05\n",
       " ..                        ...                       ...\n",
       " 96              545471.302142              1.230849e+06\n",
       " 97              550005.542206              1.241175e+06\n",
       " 98              554539.782269              1.251502e+06\n",
       " 99              559074.022333              1.261828e+06\n",
       " 100             563608.262397              1.272154e+06\n",
       " \n",
       " [101 rows x 2 columns],\n",
       " 2080433520:      Total Damage Lower Bound  Total Damage Upper Bound\n",
       " 0                         0.0                       0.0\n",
       " 1                         0.0                       0.0\n",
       " 2                         0.0                       0.0\n",
       " 3                         0.0                       0.0\n",
       " 4                         0.0                       0.0\n",
       " ..                        ...                       ...\n",
       " 96                        0.0                       0.0\n",
       " 97                        0.0                       0.0\n",
       " 98                        0.0                       0.0\n",
       " 99                        0.0                       0.0\n",
       " 100                       0.0                       0.0\n",
       " \n",
       " [101 rows x 2 columns],\n",
       " 2080439410:      Total Damage Lower Bound  Total Damage Upper Bound\n",
       " 0                4.707324e+06              9.936248e+06\n",
       " 1                4.893038e+06              1.028498e+07\n",
       " 2                5.078751e+06              1.063370e+07\n",
       " 3                5.264464e+06              1.098243e+07\n",
       " 4                5.450177e+06              1.133116e+07\n",
       " ..                        ...                       ...\n",
       " 96               2.253580e+07              4.341417e+07\n",
       " 97               2.272151e+07              4.376289e+07\n",
       " 98               2.290722e+07              4.411162e+07\n",
       " 99               2.309294e+07              4.446035e+07\n",
       " 100              2.327865e+07              4.480908e+07\n",
       " \n",
       " [101 rows x 2 columns],\n",
       " 2080446320:      Total Damage Lower Bound  Total Damage Upper Bound\n",
       " 0                1.390095e+06              1.391379e+06\n",
       " 1                1.479524e+06              1.480891e+06\n",
       " 2                1.568953e+06              1.570403e+06\n",
       " 3                1.658383e+06              1.659915e+06\n",
       " 4                1.747812e+06              1.749427e+06\n",
       " ..                        ...                       ...\n",
       " 96               9.975318e+06              9.984537e+06\n",
       " 97               1.006475e+07              1.007405e+07\n",
       " 98               1.015418e+07              1.016356e+07\n",
       " 99               1.024361e+07              1.025307e+07\n",
       " 100              1.033304e+07              1.034258e+07\n",
       " \n",
       " [101 rows x 2 columns],\n",
       " 2080420340:      Total Damage Lower Bound  Total Damage Upper Bound\n",
       " 0                4.804755e+05              8.728862e+05\n",
       " 1                5.049890e+05              9.065557e+05\n",
       " 2                5.295024e+05              9.402252e+05\n",
       " 3                5.540159e+05              9.738946e+05\n",
       " 4                5.785293e+05              1.007564e+06\n",
       " ..                        ...                       ...\n",
       " 96               2.833767e+06              4.105154e+06\n",
       " 97               2.858280e+06              4.138823e+06\n",
       " 98               2.882794e+06              4.172493e+06\n",
       " 99               2.907307e+06              4.206162e+06\n",
       " 100              2.931821e+06              4.239832e+06\n",
       " \n",
       " [101 rows x 2 columns],\n",
       " 2080429430:      Total Damage Lower Bound  Total Damage Upper Bound\n",
       " 0                2.814218e+05              1.206769e+06\n",
       " 1                2.947328e+05              1.254495e+06\n",
       " 2                3.080439e+05              1.302220e+06\n",
       " 3                3.213550e+05              1.349946e+06\n",
       " 4                3.346661e+05              1.397671e+06\n",
       " ..                        ...                       ...\n",
       " 96               1.559285e+06              5.788405e+06\n",
       " 97               1.572596e+06              5.836130e+06\n",
       " 98               1.585908e+06              5.883856e+06\n",
       " 99               1.599219e+06              5.931581e+06\n",
       " 100              1.612530e+06              5.979306e+06\n",
       " \n",
       " [101 rows x 2 columns],\n",
       " 2080435320:      Total Damage Lower Bound  Total Damage Upper Bound\n",
       " 0                83626.647349              3.711927e+05\n",
       " 1                87627.397750              3.860029e+05\n",
       " 2                91628.148152              4.008130e+05\n",
       " 3                95628.898553              4.156231e+05\n",
       " 4                99629.648955              4.304332e+05\n",
       " ..                        ...                       ...\n",
       " 96              467698.685888              1.792965e+06\n",
       " 97              471699.436289              1.807775e+06\n",
       " 98              475700.186691              1.822585e+06\n",
       " 99              479700.937092              1.837396e+06\n",
       " 100             483701.687494              1.852206e+06\n",
       " \n",
       " [101 rows x 2 columns],\n",
       " 2080437370:      Total Damage Lower Bound  Total Damage Upper Bound\n",
       " 0                5.668369e+05              1.777402e+06\n",
       " 1                5.947009e+05              1.846538e+06\n",
       " 2                6.225650e+05              1.915675e+06\n",
       " 3                6.504290e+05              1.984811e+06\n",
       " 4                6.782931e+05              2.053948e+06\n",
       " ..                        ...                       ...\n",
       " 96               3.241786e+06              8.414512e+06\n",
       " 97               3.269650e+06              8.483649e+06\n",
       " 98               3.297514e+06              8.552785e+06\n",
       " 99               3.325378e+06              8.621922e+06\n",
       " 100              3.353242e+06              8.691058e+06\n",
       " \n",
       " [101 rows x 2 columns],\n",
       " 2080436860:      Total Damage Lower Bound  Total Damage Upper Bound\n",
       " 0                  506.217538                752.950154\n",
       " 1                  538.784199                801.389947\n",
       " 2                  571.350861                849.829740\n",
       " 3                  603.917522                898.269533\n",
       " 4                  636.484184                946.709326\n",
       " ..                        ...                       ...\n",
       " 96                3632.617050               5403.170302\n",
       " 97                3665.183712               5451.610095\n",
       " 98                3697.750373               5500.049889\n",
       " 99                3730.317035               5548.489682\n",
       " 100               3762.883696               5596.929475\n",
       " \n",
       " [101 rows x 2 columns],\n",
       " 2080419070:      Total Damage Lower Bound  Total Damage Upper Bound\n",
       " 0                 1564.891866               1624.400319\n",
       " 1                 1665.566576               1728.903406\n",
       " 2                 1766.241286               1833.406493\n",
       " 3                 1866.915996               1937.909580\n",
       " 4                 1967.590706               2042.412667\n",
       " ..                        ...                       ...\n",
       " 96               11229.664032              11656.696686\n",
       " 97               11330.338742              11761.199773\n",
       " 98               11431.013452              11865.702860\n",
       " 99               11531.688162              11970.205947\n",
       " 100              11632.362872              12074.709034\n",
       " \n",
       " [101 rows x 2 columns]}"
      ]
     },
     "execution_count": 16,
     "metadata": {},
     "output_type": "execute_result"
    }
   ],
   "source": [
    "ead_by_ts_by_basin"
   ]
  },
  {
   "cell_type": "code",
   "execution_count": null,
   "metadata": {},
   "outputs": [],
   "source": []
  }
 ],
 "metadata": {
  "kernelspec": {
   "display_name": "ci_adapt_env",
   "language": "python",
   "name": "python3"
  },
  "language_info": {
   "codemirror_mode": {
    "name": "ipython",
    "version": 3
   },
   "file_extension": ".py",
   "mimetype": "text/x-python",
   "name": "python",
   "nbconvert_exporter": "python",
   "pygments_lexer": "ipython3",
   "version": "3.12.2"
  }
 },
 "nbformat": 4,
 "nbformat_minor": 2
}
