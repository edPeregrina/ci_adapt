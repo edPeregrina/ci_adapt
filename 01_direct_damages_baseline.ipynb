{
 "cells": [
  {
   "cell_type": "markdown",
   "metadata": {},
   "source": [
    "This notebook calculates the direct damages to rail assets including climate change"
   ]
  },
  {
   "cell_type": "code",
   "execution_count": 16,
   "metadata": {},
   "outputs": [],
   "source": [
    "# Imports\n",
    "import configparser\n",
    "from pathlib import Path\n",
    "import pathlib\n",
    "from direct_damages import damagescanner_rail_track as ds\n",
    "import pandas as pd\n",
    "import geopandas as gpd\n",
    "import datetime\n",
    "from ci_adapt_utilities import *\n",
    "import pickle\n",
    "import os"
   ]
  },
  {
   "cell_type": "code",
   "execution_count": 3,
   "metadata": {},
   "outputs": [],
   "source": [
    "# Load configuration with ini file (created running config.py)\n",
    "config_file=r'C:\\repos\\ci_adapt\\config_ci_adapt.ini'\n",
    "config = configparser.ConfigParser()\n",
    "config.read(config_file)\n",
    "\n",
    "p = Path('..')\n",
    "hazard_type = config.get('DEFAULT', 'hazard_type')\n",
    "infra_type = config.get('DEFAULT', 'infra_type')\n",
    "country_code = config.get('DEFAULT', 'country_code')\n",
    "country_name = config.get('DEFAULT', 'country_name')\n",
    "hazard_data_subfolders = config.get('DEFAULT', 'hazard_data_subfolders')\n",
    "asset_data = config.get('DEFAULT', 'asset_data')\n",
    "vulnerability_data = config.get('DEFAULT', 'vulnerability_data')\n",
    "data_path = Path(pathlib.Path.home().parts[0]) / 'Data'\n",
    "interim_data_path = data_path / 'interim' / 'collected_flood_runs'"
   ]
  },
  {
   "cell_type": "code",
   "execution_count": 4,
   "metadata": {},
   "outputs": [
    {
     "name": "stdout",
     "output_type": "stream",
     "text": [
      "Found matching infrastructure curves for: rail\n"
     ]
    }
   ],
   "source": [
    "# Read vulnerability and maximum damage data from Nirandjan, S., et al. (2024)\n",
    "curve_types = {'rail': ['F8.1']}\n",
    "infra_curves, maxdams = ds.read_vul_maxdam(data_path, hazard_type, infra_type)\n",
    "max_damage_tables = pd.read_excel(data_path / vulnerability_data / 'Table_D3_Costs_V1.0.0.xlsx',sheet_name='Cost_Database',index_col=[0])\n",
    "print(f'Found matching infrastructure curves for: {infra_type}')"
   ]
  },
  {
   "cell_type": "code",
   "execution_count": 5,
   "metadata": {},
   "outputs": [
    {
     "name": "stdout",
     "output_type": "stream",
     "text": [
      "Found 183 hazard maps.\n"
     ]
    }
   ],
   "source": [
    "# Read hazard data (Rauthe M, et al. (2020): Climate impact analysis of the federal transport system in the context of floods: Final report of the key topic flood risks (SP-103) in topic area 1 of the BMVI expert network. 136 pages. DOI: 10.5675/ExpNRM2020.2020.04)\n",
    "n_drive_dpath=Path(r'N:\\Projects\\11209000\\11209175\\B. Measurements and calculations\\Data\\basin_flood_hazard_maps')\n",
    "hazard_data_list = ds.read_hazard_data(n_drive_dpath, hazard_type, country=country_name, subfolders=None)#hazard_data_subfolders)\n",
    "print(f'Found {len(hazard_data_list)} hazard maps.')"
   ]
  },
  {
   "cell_type": "code",
   "execution_count": 6,
   "metadata": {},
   "outputs": [
    {
     "name": "stdout",
     "output_type": "stream",
     "text": [
      "117917 assets loaded.\n"
     ]
    }
   ],
   "source": [
    "# Read exposure data (OSM, OpenStreetMap contributors (2024) / osm-flex)\n",
    "assets_path = data_path / asset_data\n",
    "assets = gpd.read_file(assets_path)\n",
    "assets = gpd.GeoDataFrame(assets).set_crs(4326).to_crs(3857)\n",
    "assets = assets.loc[assets.geometry.geom_type == 'LineString']\n",
    "assets = assets.rename(columns={'railway' : 'asset'})\n",
    "\n",
    "# # Drop bridges and tunnels\n",
    "# assets = assets.loc[~(assets['bridge'].isin(['yes']))]\n",
    "# assets = assets.loc[~(assets['tunnel'].isin(['yes']))]\n",
    "\n",
    "assets = assets[assets['railway:traffic_mode']!='\"passenger\"']\n",
    "assets = assets.reset_index(drop=True)\n",
    "\n",
    "# Add buffer to assets to do area intersect and create dictionaries for quicker lookup\n",
    "buffered_assets = ds.buffer_assets(assets)\n",
    "geom_dict = assets['geometry'].to_dict()\n",
    "type_dict = assets['asset'].to_dict()\n",
    "\n",
    "print(f\"{len(assets)} assets loaded.\")\n",
    "\n",
    "##TODO: move all data preprocessing to different notebook (ie pre-prepared network)"
   ]
  },
  {
   "cell_type": "code",
   "execution_count": 7,
   "metadata": {},
   "outputs": [
    {
     "name": "stdout",
     "output_type": "stream",
     "text": [
      "2024-06-26 16:08:46 - Reading hazard map 1 of 183: flood_DERP_RW_H_4326_2080410170\n",
      "Flood map path: N:\\Projects\\11209000\\11209175\\B. Measurements and calculations\\Data\\basin_flood_hazard_maps\\flood_DERP_RW_H_4326_2080410170.geojson\n",
      "2024-06-26 16:08:53 - Coarse overlay of hazard map with assets...\n"
     ]
    },
    {
     "name": "stderr",
     "output_type": "stream",
     "text": [
      "100%|██████████| 30/30 [00:25<00:00,  1.19it/s]\n"
     ]
    },
    {
     "name": "stdout",
     "output_type": "stream",
     "text": [
      "2024-06-26 16:10:53 - Reading hazard map 2 of 183: flood_DERP_RW_H_4326_2080410430\n",
      "Flood map path: N:\\Projects\\11209000\\11209175\\B. Measurements and calculations\\Data\\basin_flood_hazard_maps\\flood_DERP_RW_H_4326_2080410430.geojson\n",
      "2024-06-26 16:10:57 - Coarse overlay of hazard map with assets...\n"
     ]
    },
    {
     "name": "stderr",
     "output_type": "stream",
     "text": [
      "100%|██████████| 13/13 [01:23<00:00,  6.42s/it]\n"
     ]
    },
    {
     "name": "stdout",
     "output_type": "stream",
     "text": [
      "2024-06-26 16:13:14 - Reading hazard map 3 of 183: flood_DERP_RW_H_4326_2080410540\n",
      "Flood map path: N:\\Projects\\11209000\\11209175\\B. Measurements and calculations\\Data\\basin_flood_hazard_maps\\flood_DERP_RW_H_4326_2080410540.geojson\n",
      "2024-06-26 16:13:20 - Coarse overlay of hazard map with assets...\n"
     ]
    },
    {
     "name": "stderr",
     "output_type": "stream",
     "text": [
      "100%|██████████| 20/20 [00:19<00:00,  1.04it/s]\n"
     ]
    },
    {
     "name": "stdout",
     "output_type": "stream",
     "text": [
      "2024-06-26 16:15:51 - Reading hazard map 4 of 183: flood_DERP_RW_H_4326_2080410660\n",
      "Flood map path: N:\\Projects\\11209000\\11209175\\B. Measurements and calculations\\Data\\basin_flood_hazard_maps\\flood_DERP_RW_H_4326_2080410660.geojson\n",
      "2024-06-26 16:15:53 - Coarse overlay of hazard map with assets...\n"
     ]
    },
    {
     "name": "stderr",
     "output_type": "stream",
     "text": [
      "100%|██████████| 10/10 [00:04<00:00,  2.23it/s]\n"
     ]
    },
    {
     "name": "stdout",
     "output_type": "stream",
     "text": [
      "2024-06-26 16:16:03 - Reading hazard map 5 of 183: flood_DERP_RW_H_4326_2080410760\n",
      "Flood map path: N:\\Projects\\11209000\\11209175\\B. Measurements and calculations\\Data\\basin_flood_hazard_maps\\flood_DERP_RW_H_4326_2080410760.geojson\n",
      "2024-06-26 16:16:14 - Coarse overlay of hazard map with assets...\n"
     ]
    },
    {
     "name": "stderr",
     "output_type": "stream",
     "text": [
      "100%|██████████| 3/3 [00:40<00:00, 13.59s/it]\n"
     ]
    },
    {
     "name": "stdout",
     "output_type": "stream",
     "text": [
      "2024-06-26 16:18:11 - Reading hazard map 6 of 183: flood_DERP_RW_H_4326_2080411370\n",
      "Flood map path: N:\\Projects\\11209000\\11209175\\B. Measurements and calculations\\Data\\basin_flood_hazard_maps\\flood_DERP_RW_H_4326_2080411370.geojson\n",
      "2024-06-26 16:18:16 - Coarse overlay of hazard map with assets...\n"
     ]
    },
    {
     "name": "stderr",
     "output_type": "stream",
     "text": [
      "100%|██████████| 19/19 [00:23<00:00,  1.22s/it]\n"
     ]
    },
    {
     "name": "stdout",
     "output_type": "stream",
     "text": [
      "2024-06-26 16:20:08 - Reading hazard map 7 of 183: flood_DERP_RW_H_4326_2080416200\n",
      "Flood map path: N:\\Projects\\11209000\\11209175\\B. Measurements and calculations\\Data\\basin_flood_hazard_maps\\flood_DERP_RW_H_4326_2080416200.geojson\n",
      "2024-06-26 16:20:26 - Coarse overlay of hazard map with assets...\n"
     ]
    },
    {
     "name": "stderr",
     "output_type": "stream",
     "text": [
      "100%|██████████| 2/2 [00:01<00:00,  1.32it/s]\n"
     ]
    },
    {
     "name": "stdout",
     "output_type": "stream",
     "text": [
      "2024-06-26 16:24:47 - Reading hazard map 8 of 183: flood_DERP_RW_H_4326_2080416210\n",
      "Flood map path: N:\\Projects\\11209000\\11209175\\B. Measurements and calculations\\Data\\basin_flood_hazard_maps\\flood_DERP_RW_H_4326_2080416210.geojson\n",
      "2024-06-26 16:24:56 - Coarse overlay of hazard map with assets...\n"
     ]
    },
    {
     "name": "stderr",
     "output_type": "stream",
     "text": [
      "100%|██████████| 24/24 [01:29<00:00,  3.73s/it]\n"
     ]
    },
    {
     "name": "stdout",
     "output_type": "stream",
     "text": [
      "2024-06-26 16:31:47 - Reading hazard map 9 of 183: flood_DERP_RW_H_4326_2080418600\n",
      "Flood map path: N:\\Projects\\11209000\\11209175\\B. Measurements and calculations\\Data\\basin_flood_hazard_maps\\flood_DERP_RW_H_4326_2080418600.geojson\n",
      "2024-06-26 16:32:15 - Coarse overlay of hazard map with assets...\n"
     ]
    },
    {
     "name": "stderr",
     "output_type": "stream",
     "text": [
      "100%|██████████| 39/39 [02:49<00:00,  4.34s/it]\n"
     ]
    },
    {
     "name": "stdout",
     "output_type": "stream",
     "text": [
      "2024-06-26 16:47:10 - Reading hazard map 10 of 183: flood_DERP_RW_H_4326_2080418720\n",
      "Flood map path: N:\\Projects\\11209000\\11209175\\B. Measurements and calculations\\Data\\basin_flood_hazard_maps\\flood_DERP_RW_H_4326_2080418720.geojson\n",
      "2024-06-26 16:47:11 - Coarse overlay of hazard map with assets...\n"
     ]
    },
    {
     "name": "stderr",
     "output_type": "stream",
     "text": [
      "100%|██████████| 2/2 [00:00<00:00,  7.75it/s]\n"
     ]
    },
    {
     "name": "stdout",
     "output_type": "stream",
     "text": [
      "2024-06-26 16:47:12 - Reading hazard map 11 of 183: flood_DERP_RW_H_4326_2080418880\n",
      "Flood map path: N:\\Projects\\11209000\\11209175\\B. Measurements and calculations\\Data\\basin_flood_hazard_maps\\flood_DERP_RW_H_4326_2080418880.geojson\n",
      "2024-06-26 16:47:19 - Coarse overlay of hazard map with assets...\n"
     ]
    },
    {
     "name": "stderr",
     "output_type": "stream",
     "text": [
      "100%|██████████| 5/5 [00:01<00:00,  4.22it/s]\n"
     ]
    },
    {
     "name": "stdout",
     "output_type": "stream",
     "text": [
      "2024-06-26 16:48:31 - Reading hazard map 12 of 183: flood_DERP_RW_H_4326_2080418890\n",
      "Flood map path: N:\\Projects\\11209000\\11209175\\B. Measurements and calculations\\Data\\basin_flood_hazard_maps\\flood_DERP_RW_H_4326_2080418890.geojson\n",
      "2024-06-26 16:48:40 - Coarse overlay of hazard map with assets...\n"
     ]
    },
    {
     "name": "stderr",
     "output_type": "stream",
     "text": [
      "100%|██████████| 7/7 [03:02<00:00, 26.05s/it]\n"
     ]
    },
    {
     "name": "stdout",
     "output_type": "stream",
     "text": [
      "2024-06-26 16:55:11 - Reading hazard map 13 of 183: flood_DERP_RW_H_4326_2080419070\n",
      "Flood map path: N:\\Projects\\11209000\\11209175\\B. Measurements and calculations\\Data\\basin_flood_hazard_maps\\flood_DERP_RW_H_4326_2080419070.geojson\n",
      "2024-06-26 16:55:12 - Coarse overlay of hazard map with assets...\n"
     ]
    },
    {
     "name": "stderr",
     "output_type": "stream",
     "text": [
      "100%|██████████| 1/1 [00:00<00:00, 37.04it/s]\n"
     ]
    },
    {
     "name": "stdout",
     "output_type": "stream",
     "text": [
      "2024-06-26 16:55:12 - Reading hazard map 14 of 183: flood_DERP_RW_H_4326_2080419180\n",
      "Flood map path: N:\\Projects\\11209000\\11209175\\B. Measurements and calculations\\Data\\basin_flood_hazard_maps\\flood_DERP_RW_H_4326_2080419180.geojson\n",
      "2024-06-26 16:55:18 - Coarse overlay of hazard map with assets...\n"
     ]
    },
    {
     "name": "stderr",
     "output_type": "stream",
     "text": [
      "100%|██████████| 19/19 [00:42<00:00,  2.23s/it]\n"
     ]
    },
    {
     "name": "stdout",
     "output_type": "stream",
     "text": [
      "2024-06-26 16:57:11 - Reading hazard map 15 of 183: flood_DERP_RW_H_4326_2080420240\n",
      "Flood map path: N:\\Projects\\11209000\\11209175\\B. Measurements and calculations\\Data\\basin_flood_hazard_maps\\flood_DERP_RW_H_4326_2080420240.geojson\n",
      "2024-06-26 16:57:44 - Coarse overlay of hazard map with assets...\n"
     ]
    },
    {
     "name": "stderr",
     "output_type": "stream",
     "text": [
      "100%|██████████| 62/62 [18:39<00:00, 18.05s/it]\n"
     ]
    },
    {
     "name": "stdout",
     "output_type": "stream",
     "text": [
      "2024-06-26 17:47:57 - Reading hazard map 16 of 183: flood_DERP_RW_H_4326_2080420340\n",
      "Flood map path: N:\\Projects\\11209000\\11209175\\B. Measurements and calculations\\Data\\basin_flood_hazard_maps\\flood_DERP_RW_H_4326_2080420340.geojson\n",
      "2024-06-26 17:47:59 - Coarse overlay of hazard map with assets...\n"
     ]
    },
    {
     "name": "stderr",
     "output_type": "stream",
     "text": [
      "100%|██████████| 5/5 [00:01<00:00,  2.55it/s]\n"
     ]
    },
    {
     "name": "stdout",
     "output_type": "stream",
     "text": [
      "2024-06-26 17:48:36 - Reading hazard map 17 of 183: flood_DERP_RW_H_4326_2080421680\n",
      "Flood map path: N:\\Projects\\11209000\\11209175\\B. Measurements and calculations\\Data\\basin_flood_hazard_maps\\flood_DERP_RW_H_4326_2080421680.geojson\n",
      "2024-06-26 17:48:59 - Coarse overlay of hazard map with assets...\n"
     ]
    },
    {
     "name": "stderr",
     "output_type": "stream",
     "text": [
      "100%|██████████| 41/41 [02:41<00:00,  3.93s/it]\n"
     ]
    },
    {
     "name": "stdout",
     "output_type": "stream",
     "text": [
      "2024-06-26 18:18:21 - Reading hazard map 18 of 183: flood_DERP_RW_H_4326_2080421770\n",
      "Flood map path: N:\\Projects\\11209000\\11209175\\B. Measurements and calculations\\Data\\basin_flood_hazard_maps\\flood_DERP_RW_H_4326_2080421770.geojson\n",
      "2024-06-26 18:18:35 - Coarse overlay of hazard map with assets...\n"
     ]
    },
    {
     "name": "stderr",
     "output_type": "stream",
     "text": [
      "100%|██████████| 22/22 [00:20<00:00,  1.06it/s]\n"
     ]
    },
    {
     "name": "stdout",
     "output_type": "stream",
     "text": [
      "2024-06-26 18:43:19 - Reading hazard map 19 of 183: flood_DERP_RW_H_4326_2080428080\n",
      "Flood map path: N:\\Projects\\11209000\\11209175\\B. Measurements and calculations\\Data\\basin_flood_hazard_maps\\flood_DERP_RW_H_4326_2080428080.geojson\n",
      "2024-06-26 18:43:30 - Coarse overlay of hazard map with assets...\n"
     ]
    },
    {
     "name": "stderr",
     "output_type": "stream",
     "text": [
      "0it [00:00, ?it/s]\n"
     ]
    },
    {
     "name": "stdout",
     "output_type": "stream",
     "text": [
      "2024-06-26 18:44:34 - Reading hazard map 20 of 183: flood_DERP_RW_H_4326_2080428160\n",
      "Flood map path: N:\\Projects\\11209000\\11209175\\B. Measurements and calculations\\Data\\basin_flood_hazard_maps\\flood_DERP_RW_H_4326_2080428160.geojson\n",
      "2024-06-26 18:44:52 - Coarse overlay of hazard map with assets...\n"
     ]
    },
    {
     "name": "stderr",
     "output_type": "stream",
     "text": [
      "100%|██████████| 3/3 [00:10<00:00,  3.48s/it]\n"
     ]
    },
    {
     "name": "stdout",
     "output_type": "stream",
     "text": [
      "2024-06-26 18:48:46 - Reading hazard map 21 of 183: flood_DERP_RW_H_4326_2080428500\n",
      "Flood map path: N:\\Projects\\11209000\\11209175\\B. Measurements and calculations\\Data\\basin_flood_hazard_maps\\flood_DERP_RW_H_4326_2080428500.geojson\n",
      "2024-06-26 18:48:48 - Coarse overlay of hazard map with assets...\n"
     ]
    },
    {
     "name": "stderr",
     "output_type": "stream",
     "text": [
      "0it [00:00, ?it/s]\n"
     ]
    },
    {
     "name": "stdout",
     "output_type": "stream",
     "text": [
      "2024-06-26 18:48:54 - Reading hazard map 22 of 183: flood_DERP_RW_H_4326_2080429430\n",
      "Flood map path: N:\\Projects\\11209000\\11209175\\B. Measurements and calculations\\Data\\basin_flood_hazard_maps\\flood_DERP_RW_H_4326_2080429430.geojson\n",
      "2024-06-26 18:48:55 - Coarse overlay of hazard map with assets...\n"
     ]
    },
    {
     "name": "stderr",
     "output_type": "stream",
     "text": [
      "100%|██████████| 12/12 [00:01<00:00,  9.10it/s]\n"
     ]
    },
    {
     "name": "stdout",
     "output_type": "stream",
     "text": [
      "2024-06-26 18:49:48 - Reading hazard map 23 of 183: flood_DERP_RW_H_4326_2080429540\n",
      "Flood map path: N:\\Projects\\11209000\\11209175\\B. Measurements and calculations\\Data\\basin_flood_hazard_maps\\flood_DERP_RW_H_4326_2080429540.geojson\n",
      "2024-06-26 18:50:01 - Coarse overlay of hazard map with assets...\n"
     ]
    },
    {
     "name": "stderr",
     "output_type": "stream",
     "text": [
      "100%|██████████| 6/6 [00:05<00:00,  1.18it/s]\n"
     ]
    },
    {
     "name": "stdout",
     "output_type": "stream",
     "text": [
      "2024-06-26 18:58:37 - Reading hazard map 24 of 183: flood_DERP_RW_H_4326_2080429670\n",
      "Flood map path: N:\\Projects\\11209000\\11209175\\B. Measurements and calculations\\Data\\basin_flood_hazard_maps\\flood_DERP_RW_H_4326_2080429670.geojson\n",
      "2024-06-26 18:58:37 - Coarse overlay of hazard map with assets...\n"
     ]
    },
    {
     "name": "stderr",
     "output_type": "stream",
     "text": [
      "0it [00:00, ?it/s]"
     ]
    },
    {
     "name": "stdout",
     "output_type": "stream",
     "text": [
      "2024-06-26 18:58:38 - Reading hazard map 25 of 183: flood_DERP_RW_H_4326_2080429770\n",
      "Flood map path: N:\\Projects\\11209000\\11209175\\B. Measurements and calculations\\Data\\basin_flood_hazard_maps\\flood_DERP_RW_H_4326_2080429770.geojson\n"
     ]
    },
    {
     "name": "stderr",
     "output_type": "stream",
     "text": [
      "\n"
     ]
    },
    {
     "name": "stdout",
     "output_type": "stream",
     "text": [
      "2024-06-26 18:58:38 - Coarse overlay of hazard map with assets...\n"
     ]
    },
    {
     "name": "stderr",
     "output_type": "stream",
     "text": [
      "100%|██████████| 9/9 [00:00<00:00, 53.25it/s]\n"
     ]
    },
    {
     "name": "stdout",
     "output_type": "stream",
     "text": [
      "2024-06-26 18:58:38 - Reading hazard map 26 of 183: flood_DERP_RW_H_4326_2080430240\n",
      "Flood map path: N:\\Projects\\11209000\\11209175\\B. Measurements and calculations\\Data\\basin_flood_hazard_maps\\flood_DERP_RW_H_4326_2080430240.geojson\n",
      "2024-06-26 18:58:41 - Coarse overlay of hazard map with assets...\n"
     ]
    },
    {
     "name": "stderr",
     "output_type": "stream",
     "text": [
      "100%|██████████| 17/17 [00:03<00:00,  4.92it/s]\n"
     ]
    },
    {
     "name": "stdout",
     "output_type": "stream",
     "text": [
      "2024-06-26 18:59:56 - Reading hazard map 27 of 183: flood_DERP_RW_H_4326_2080430320\n",
      "Flood map path: N:\\Projects\\11209000\\11209175\\B. Measurements and calculations\\Data\\basin_flood_hazard_maps\\flood_DERP_RW_H_4326_2080430320.geojson\n",
      "2024-06-26 19:00:00 - Coarse overlay of hazard map with assets...\n"
     ]
    },
    {
     "name": "stderr",
     "output_type": "stream",
     "text": [
      "100%|██████████| 20/20 [00:47<00:00,  2.37s/it]\n"
     ]
    },
    {
     "name": "stdout",
     "output_type": "stream",
     "text": [
      "2024-06-26 19:01:24 - Reading hazard map 28 of 183: flood_DERP_RW_H_4326_2080431110\n",
      "Flood map path: N:\\Projects\\11209000\\11209175\\B. Measurements and calculations\\Data\\basin_flood_hazard_maps\\flood_DERP_RW_H_4326_2080431110.geojson\n",
      "2024-06-26 19:01:26 - Coarse overlay of hazard map with assets...\n"
     ]
    },
    {
     "name": "stderr",
     "output_type": "stream",
     "text": [
      "0it [00:00, ?it/s]\n"
     ]
    },
    {
     "name": "stdout",
     "output_type": "stream",
     "text": [
      "2024-06-26 19:01:40 - Reading hazard map 29 of 183: flood_DERP_RW_H_4326_2080431660\n",
      "Flood map path: N:\\Projects\\11209000\\11209175\\B. Measurements and calculations\\Data\\basin_flood_hazard_maps\\flood_DERP_RW_H_4326_2080431660.geojson\n",
      "2024-06-26 19:01:54 - Coarse overlay of hazard map with assets...\n"
     ]
    },
    {
     "name": "stderr",
     "output_type": "stream",
     "text": [
      "100%|██████████| 2/2 [00:02<00:00,  1.16s/it]\n"
     ]
    },
    {
     "name": "stdout",
     "output_type": "stream",
     "text": [
      "2024-06-26 19:05:20 - Reading hazard map 30 of 183: flood_DERP_RW_H_4326_2080431750\n",
      "Flood map path: N:\\Projects\\11209000\\11209175\\B. Measurements and calculations\\Data\\basin_flood_hazard_maps\\flood_DERP_RW_H_4326_2080431750.geojson\n",
      "2024-06-26 19:05:33 - Coarse overlay of hazard map with assets...\n"
     ]
    },
    {
     "name": "stderr",
     "output_type": "stream",
     "text": [
      "0it [00:00, ?it/s]\n"
     ]
    },
    {
     "name": "stdout",
     "output_type": "stream",
     "text": [
      "2024-06-26 19:06:30 - Reading hazard map 31 of 183: flood_DERP_RW_H_4326_2080432400\n",
      "Flood map path: N:\\Projects\\11209000\\11209175\\B. Measurements and calculations\\Data\\basin_flood_hazard_maps\\flood_DERP_RW_H_4326_2080432400.geojson\n",
      "2024-06-26 19:06:33 - Coarse overlay of hazard map with assets...\n"
     ]
    },
    {
     "name": "stderr",
     "output_type": "stream",
     "text": [
      "100%|██████████| 3/3 [00:01<00:00,  2.91it/s]\n"
     ]
    },
    {
     "name": "stdout",
     "output_type": "stream",
     "text": [
      "2024-06-26 19:06:54 - Reading hazard map 32 of 183: flood_DERP_RW_H_4326_2080432510\n",
      "Flood map path: N:\\Projects\\11209000\\11209175\\B. Measurements and calculations\\Data\\basin_flood_hazard_maps\\flood_DERP_RW_H_4326_2080432510.geojson\n",
      "2024-06-26 19:07:12 - Coarse overlay of hazard map with assets...\n"
     ]
    },
    {
     "name": "stderr",
     "output_type": "stream",
     "text": [
      "100%|██████████| 16/16 [08:56<00:00, 33.52s/it]\n"
     ]
    },
    {
     "name": "stdout",
     "output_type": "stream",
     "text": [
      "2024-06-26 19:25:01 - Reading hazard map 33 of 183: flood_DERP_RW_H_4326_2080433520\n",
      "Flood map path: N:\\Projects\\11209000\\11209175\\B. Measurements and calculations\\Data\\basin_flood_hazard_maps\\flood_DERP_RW_H_4326_2080433520.geojson\n",
      "2024-06-26 19:25:04 - Coarse overlay of hazard map with assets...\n"
     ]
    },
    {
     "name": "stderr",
     "output_type": "stream",
     "text": [
      "0it [00:00, ?it/s]\n"
     ]
    },
    {
     "name": "stdout",
     "output_type": "stream",
     "text": [
      "2024-06-26 19:25:08 - Reading hazard map 34 of 183: flood_DERP_RW_H_4326_2080433740\n",
      "Flood map path: N:\\Projects\\11209000\\11209175\\B. Measurements and calculations\\Data\\basin_flood_hazard_maps\\flood_DERP_RW_H_4326_2080433740.geojson\n",
      "2024-06-26 19:25:34 - Coarse overlay of hazard map with assets...\n"
     ]
    },
    {
     "name": "stderr",
     "output_type": "stream",
     "text": [
      "0it [00:00, ?it/s]\n"
     ]
    },
    {
     "name": "stdout",
     "output_type": "stream",
     "text": [
      "2024-06-26 19:33:26 - Reading hazard map 35 of 183: flood_DERP_RW_H_4326_2080433960\n",
      "Flood map path: N:\\Projects\\11209000\\11209175\\B. Measurements and calculations\\Data\\basin_flood_hazard_maps\\flood_DERP_RW_H_4326_2080433960.geojson\n",
      "2024-06-26 19:34:01 - Coarse overlay of hazard map with assets...\n"
     ]
    },
    {
     "name": "stderr",
     "output_type": "stream",
     "text": [
      "0it [00:00, ?it/s]\n"
     ]
    },
    {
     "name": "stdout",
     "output_type": "stream",
     "text": [
      "2024-06-26 19:38:27 - Reading hazard map 36 of 183: flood_DERP_RW_H_4326_2080434150\n",
      "Flood map path: N:\\Projects\\11209000\\11209175\\B. Measurements and calculations\\Data\\basin_flood_hazard_maps\\flood_DERP_RW_H_4326_2080434150.geojson\n",
      "2024-06-26 19:38:32 - Coarse overlay of hazard map with assets...\n"
     ]
    },
    {
     "name": "stderr",
     "output_type": "stream",
     "text": [
      "0it [00:00, ?it/s]\n"
     ]
    },
    {
     "name": "stdout",
     "output_type": "stream",
     "text": [
      "2024-06-26 19:38:36 - Reading hazard map 37 of 183: flood_DERP_RW_H_4326_2080434280\n",
      "Flood map path: N:\\Projects\\11209000\\11209175\\B. Measurements and calculations\\Data\\basin_flood_hazard_maps\\flood_DERP_RW_H_4326_2080434280.geojson\n",
      "2024-06-26 19:38:41 - Coarse overlay of hazard map with assets...\n"
     ]
    },
    {
     "name": "stderr",
     "output_type": "stream",
     "text": [
      "100%|██████████| 2/2 [00:01<00:00,  1.82it/s]\n"
     ]
    },
    {
     "name": "stdout",
     "output_type": "stream",
     "text": [
      "2024-06-26 19:39:08 - Reading hazard map 38 of 183: flood_DERP_RW_H_4326_2080434470\n",
      "Flood map path: N:\\Projects\\11209000\\11209175\\B. Measurements and calculations\\Data\\basin_flood_hazard_maps\\flood_DERP_RW_H_4326_2080434470.geojson\n",
      "2024-06-26 19:39:35 - Coarse overlay of hazard map with assets...\n"
     ]
    },
    {
     "name": "stderr",
     "output_type": "stream",
     "text": [
      "100%|██████████| 34/34 [07:23<00:00, 13.05s/it]\n"
     ]
    },
    {
     "name": "stdout",
     "output_type": "stream",
     "text": [
      "2024-06-26 19:56:56 - Reading hazard map 39 of 183: flood_DERP_RW_H_4326_2080434490\n",
      "Flood map path: N:\\Projects\\11209000\\11209175\\B. Measurements and calculations\\Data\\basin_flood_hazard_maps\\flood_DERP_RW_H_4326_2080434490.geojson\n",
      "2024-06-26 19:57:04 - Coarse overlay of hazard map with assets...\n"
     ]
    },
    {
     "name": "stderr",
     "output_type": "stream",
     "text": [
      "100%|██████████| 35/35 [03:18<00:00,  5.67s/it]\n"
     ]
    },
    {
     "name": "stdout",
     "output_type": "stream",
     "text": [
      "2024-06-26 20:02:31 - Reading hazard map 40 of 183: flood_DERP_RW_H_4326_2080434630\n",
      "Flood map path: N:\\Projects\\11209000\\11209175\\B. Measurements and calculations\\Data\\basin_flood_hazard_maps\\flood_DERP_RW_H_4326_2080434630.geojson\n",
      "2024-06-26 20:02:49 - Coarse overlay of hazard map with assets...\n"
     ]
    },
    {
     "name": "stderr",
     "output_type": "stream",
     "text": [
      "100%|██████████| 5/5 [00:07<00:00,  1.44s/it]\n"
     ]
    },
    {
     "name": "stdout",
     "output_type": "stream",
     "text": [
      "2024-06-26 21:09:53 - Reading hazard map 41 of 183: flood_DERP_RW_H_4326_2080435040\n",
      "Flood map path: N:\\Projects\\11209000\\11209175\\B. Measurements and calculations\\Data\\basin_flood_hazard_maps\\flood_DERP_RW_H_4326_2080435040.geojson\n",
      "2024-06-26 21:10:31 - Coarse overlay of hazard map with assets...\n"
     ]
    },
    {
     "name": "stderr",
     "output_type": "stream",
     "text": [
      "100%|██████████| 58/58 [37:53<00:00, 39.20s/it]   \n"
     ]
    },
    {
     "name": "stdout",
     "output_type": "stream",
     "text": [
      "2024-06-26 22:26:05 - Reading hazard map 42 of 183: flood_DERP_RW_H_4326_2080435320\n",
      "Flood map path: N:\\Projects\\11209000\\11209175\\B. Measurements and calculations\\Data\\basin_flood_hazard_maps\\flood_DERP_RW_H_4326_2080435320.geojson\n",
      "2024-06-26 22:26:16 - Coarse overlay of hazard map with assets...\n"
     ]
    },
    {
     "name": "stderr",
     "output_type": "stream",
     "text": [
      "100%|██████████| 4/4 [00:11<00:00,  3.00s/it]\n"
     ]
    },
    {
     "name": "stdout",
     "output_type": "stream",
     "text": [
      "2024-06-26 22:28:41 - Reading hazard map 43 of 183: flood_DERP_RW_H_4326_2080436660\n",
      "Flood map path: N:\\Projects\\11209000\\11209175\\B. Measurements and calculations\\Data\\basin_flood_hazard_maps\\flood_DERP_RW_H_4326_2080436660.geojson\n",
      "2024-06-26 22:28:45 - Coarse overlay of hazard map with assets...\n"
     ]
    },
    {
     "name": "stderr",
     "output_type": "stream",
     "text": [
      "0it [00:00, ?it/s]\n"
     ]
    },
    {
     "name": "stdout",
     "output_type": "stream",
     "text": [
      "2024-06-26 22:28:52 - Reading hazard map 44 of 183: flood_DERP_RW_H_4326_2080436860\n",
      "Flood map path: N:\\Projects\\11209000\\11209175\\B. Measurements and calculations\\Data\\basin_flood_hazard_maps\\flood_DERP_RW_H_4326_2080436860.geojson\n",
      "2024-06-26 22:28:53 - Coarse overlay of hazard map with assets...\n"
     ]
    },
    {
     "name": "stderr",
     "output_type": "stream",
     "text": [
      "0it [00:00, ?it/s]\n"
     ]
    },
    {
     "name": "stdout",
     "output_type": "stream",
     "text": [
      "2024-06-26 22:28:54 - Reading hazard map 45 of 183: flood_DERP_RW_H_4326_2080436870\n",
      "Flood map path: N:\\Projects\\11209000\\11209175\\B. Measurements and calculations\\Data\\basin_flood_hazard_maps\\flood_DERP_RW_H_4326_2080436870.geojson\n",
      "2024-06-26 22:28:54 - Coarse overlay of hazard map with assets...\n"
     ]
    },
    {
     "name": "stderr",
     "output_type": "stream",
     "text": [
      "0it [00:00, ?it/s]\n"
     ]
    },
    {
     "name": "stdout",
     "output_type": "stream",
     "text": [
      "2024-06-26 22:28:55 - Reading hazard map 46 of 183: flood_DERP_RW_H_4326_2080437100\n",
      "Flood map path: N:\\Projects\\11209000\\11209175\\B. Measurements and calculations\\Data\\basin_flood_hazard_maps\\flood_DERP_RW_H_4326_2080437100.geojson\n",
      "2024-06-26 22:29:00 - Coarse overlay of hazard map with assets...\n"
     ]
    },
    {
     "name": "stderr",
     "output_type": "stream",
     "text": [
      "100%|██████████| 4/4 [00:23<00:00,  5.89s/it]\n"
     ]
    },
    {
     "name": "stdout",
     "output_type": "stream",
     "text": [
      "2024-06-26 22:30:53 - Reading hazard map 47 of 183: flood_DERP_RW_H_4326_2080437230\n",
      "Flood map path: N:\\Projects\\11209000\\11209175\\B. Measurements and calculations\\Data\\basin_flood_hazard_maps\\flood_DERP_RW_H_4326_2080437230.geojson\n",
      "2024-06-26 22:31:05 - Coarse overlay of hazard map with assets...\n"
     ]
    },
    {
     "name": "stderr",
     "output_type": "stream",
     "text": [
      "100%|██████████| 3/3 [00:02<00:00,  1.44it/s]\n"
     ]
    },
    {
     "name": "stdout",
     "output_type": "stream",
     "text": [
      "2024-06-26 22:35:03 - Reading hazard map 48 of 183: flood_DERP_RW_H_4326_2080437370\n",
      "Flood map path: N:\\Projects\\11209000\\11209175\\B. Measurements and calculations\\Data\\basin_flood_hazard_maps\\flood_DERP_RW_H_4326_2080437370.geojson\n",
      "2024-06-26 22:35:08 - Coarse overlay of hazard map with assets...\n"
     ]
    },
    {
     "name": "stderr",
     "output_type": "stream",
     "text": [
      "100%|██████████| 3/3 [00:01<00:00,  1.74it/s]\n"
     ]
    },
    {
     "name": "stdout",
     "output_type": "stream",
     "text": [
      "2024-06-26 22:35:59 - Reading hazard map 49 of 183: flood_DERP_RW_H_4326_2080438230\n",
      "Flood map path: N:\\Projects\\11209000\\11209175\\B. Measurements and calculations\\Data\\basin_flood_hazard_maps\\flood_DERP_RW_H_4326_2080438230.geojson\n",
      "2024-06-26 22:36:07 - Coarse overlay of hazard map with assets...\n"
     ]
    },
    {
     "name": "stderr",
     "output_type": "stream",
     "text": [
      "100%|██████████| 5/5 [00:01<00:00,  2.57it/s]\n"
     ]
    },
    {
     "name": "stdout",
     "output_type": "stream",
     "text": [
      "2024-06-26 22:39:43 - Reading hazard map 50 of 183: flood_DERP_RW_H_4326_2080438240\n",
      "Flood map path: N:\\Projects\\11209000\\11209175\\B. Measurements and calculations\\Data\\basin_flood_hazard_maps\\flood_DERP_RW_H_4326_2080438240.geojson\n",
      "2024-06-26 22:39:49 - Coarse overlay of hazard map with assets...\n"
     ]
    },
    {
     "name": "stderr",
     "output_type": "stream",
     "text": [
      "100%|██████████| 14/14 [00:06<00:00,  2.27it/s]\n"
     ]
    },
    {
     "name": "stdout",
     "output_type": "stream",
     "text": [
      "2024-06-26 22:41:26 - Reading hazard map 51 of 183: flood_DERP_RW_H_4326_2080438400\n",
      "Flood map path: N:\\Projects\\11209000\\11209175\\B. Measurements and calculations\\Data\\basin_flood_hazard_maps\\flood_DERP_RW_H_4326_2080438400.geojson\n",
      "2024-06-26 22:41:49 - Coarse overlay of hazard map with assets...\n"
     ]
    },
    {
     "name": "stderr",
     "output_type": "stream",
     "text": [
      "100%|██████████| 23/23 [11:52<00:00, 30.99s/it]\n"
     ]
    },
    {
     "name": "stdout",
     "output_type": "stream",
     "text": [
      "2024-06-26 23:07:17 - Reading hazard map 52 of 183: flood_DERP_RW_H_4326_2080438410\n",
      "Flood map path: N:\\Projects\\11209000\\11209175\\B. Measurements and calculations\\Data\\basin_flood_hazard_maps\\flood_DERP_RW_H_4326_2080438410.geojson\n",
      "2024-06-26 23:07:26 - Coarse overlay of hazard map with assets...\n"
     ]
    },
    {
     "name": "stderr",
     "output_type": "stream",
     "text": [
      "100%|██████████| 7/7 [00:11<00:00,  1.69s/it]\n"
     ]
    },
    {
     "name": "stdout",
     "output_type": "stream",
     "text": [
      "2024-06-26 23:11:08 - Reading hazard map 53 of 183: flood_DERP_RW_H_4326_2080439400\n",
      "Flood map path: N:\\Projects\\11209000\\11209175\\B. Measurements and calculations\\Data\\basin_flood_hazard_maps\\flood_DERP_RW_H_4326_2080439400.geojson\n",
      "2024-06-26 23:11:17 - Coarse overlay of hazard map with assets...\n"
     ]
    },
    {
     "name": "stderr",
     "output_type": "stream",
     "text": [
      "0it [00:00, ?it/s]\n"
     ]
    },
    {
     "name": "stdout",
     "output_type": "stream",
     "text": [
      "2024-06-26 23:19:33 - Reading hazard map 54 of 183: flood_DERP_RW_H_4326_2080439410\n",
      "Flood map path: N:\\Projects\\11209000\\11209175\\B. Measurements and calculations\\Data\\basin_flood_hazard_maps\\flood_DERP_RW_H_4326_2080439410.geojson\n",
      "2024-06-26 23:19:38 - Coarse overlay of hazard map with assets...\n"
     ]
    },
    {
     "name": "stderr",
     "output_type": "stream",
     "text": [
      "100%|██████████| 20/20 [00:03<00:00,  6.61it/s]\n"
     ]
    },
    {
     "name": "stdout",
     "output_type": "stream",
     "text": [
      "2024-06-26 23:22:27 - Reading hazard map 55 of 183: flood_DERP_RW_H_4326_2080441280\n",
      "Flood map path: N:\\Projects\\11209000\\11209175\\B. Measurements and calculations\\Data\\basin_flood_hazard_maps\\flood_DERP_RW_H_4326_2080441280.geojson\n",
      "2024-06-26 23:22:36 - Coarse overlay of hazard map with assets...\n"
     ]
    },
    {
     "name": "stderr",
     "output_type": "stream",
     "text": [
      "100%|██████████| 14/14 [00:11<00:00,  1.19it/s]\n"
     ]
    },
    {
     "name": "stdout",
     "output_type": "stream",
     "text": [
      "2024-06-26 23:30:38 - Reading hazard map 56 of 183: flood_DERP_RW_H_4326_2080446220\n",
      "Flood map path: N:\\Projects\\11209000\\11209175\\B. Measurements and calculations\\Data\\basin_flood_hazard_maps\\flood_DERP_RW_H_4326_2080446220.geojson\n",
      "2024-06-26 23:30:47 - Coarse overlay of hazard map with assets...\n"
     ]
    },
    {
     "name": "stderr",
     "output_type": "stream",
     "text": [
      "100%|██████████| 18/18 [01:06<00:00,  3.67s/it]\n"
     ]
    },
    {
     "name": "stdout",
     "output_type": "stream",
     "text": [
      "2024-06-26 23:34:54 - Reading hazard map 57 of 183: flood_DERP_RW_H_4326_2080446320\n",
      "Flood map path: N:\\Projects\\11209000\\11209175\\B. Measurements and calculations\\Data\\basin_flood_hazard_maps\\flood_DERP_RW_H_4326_2080446320.geojson\n",
      "2024-06-26 23:34:56 - Coarse overlay of hazard map with assets...\n"
     ]
    },
    {
     "name": "stderr",
     "output_type": "stream",
     "text": [
      "0it [00:00, ?it/s]\n"
     ]
    },
    {
     "name": "stdout",
     "output_type": "stream",
     "text": [
      "2024-06-26 23:34:59 - Reading hazard map 58 of 183: flood_DERP_RW_H_4326_2080447840\n",
      "Flood map path: N:\\Projects\\11209000\\11209175\\B. Measurements and calculations\\Data\\basin_flood_hazard_maps\\flood_DERP_RW_H_4326_2080447840.geojson\n",
      "2024-06-26 23:35:53 - Coarse overlay of hazard map with assets...\n"
     ]
    },
    {
     "name": "stderr",
     "output_type": "stream",
     "text": [
      "100%|██████████| 40/40 [14:00<00:00, 21.02s/it]\n"
     ]
    },
    {
     "name": "stdout",
     "output_type": "stream",
     "text": [
      "2024-06-27 01:54:45 - Reading hazard map 59 of 183: flood_DERP_RW_H_4326_2080447970\n",
      "Flood map path: N:\\Projects\\11209000\\11209175\\B. Measurements and calculations\\Data\\basin_flood_hazard_maps\\flood_DERP_RW_H_4326_2080447970.geojson\n",
      "2024-06-27 01:54:56 - Coarse overlay of hazard map with assets...\n"
     ]
    },
    {
     "name": "stderr",
     "output_type": "stream",
     "text": [
      "100%|██████████| 7/7 [02:27<00:00, 21.08s/it]\n"
     ]
    },
    {
     "name": "stdout",
     "output_type": "stream",
     "text": [
      "2024-06-27 02:00:27 - Reading hazard map 60 of 183: flood_DERP_RW_H_4326_2080448120\n",
      "Flood map path: N:\\Projects\\11209000\\11209175\\B. Measurements and calculations\\Data\\basin_flood_hazard_maps\\flood_DERP_RW_H_4326_2080448120.geojson\n",
      "2024-06-27 02:00:38 - Coarse overlay of hazard map with assets...\n"
     ]
    },
    {
     "name": "stderr",
     "output_type": "stream",
     "text": [
      "0it [00:00, ?it/s]\n"
     ]
    },
    {
     "name": "stdout",
     "output_type": "stream",
     "text": [
      "2024-06-27 02:02:15 - Reading hazard map 61 of 183: flood_DERP_RW_H_4326_2080451930\n",
      "Flood map path: N:\\Projects\\11209000\\11209175\\B. Measurements and calculations\\Data\\basin_flood_hazard_maps\\flood_DERP_RW_H_4326_2080451930.geojson\n",
      "2024-06-27 02:02:16 - Coarse overlay of hazard map with assets...\n"
     ]
    },
    {
     "name": "stderr",
     "output_type": "stream",
     "text": [
      "100%|██████████| 5/5 [00:00<00:00,  8.21it/s]\n"
     ]
    },
    {
     "name": "stdout",
     "output_type": "stream",
     "text": [
      "2024-06-27 02:02:19 - Reading hazard map 62 of 183: flood_DERP_RW_L_4326_2080410170\n",
      "Flood map path: N:\\Projects\\11209000\\11209175\\B. Measurements and calculations\\Data\\basin_flood_hazard_maps\\flood_DERP_RW_L_4326_2080410170.geojson\n",
      "2024-06-27 02:02:28 - Coarse overlay of hazard map with assets...\n"
     ]
    },
    {
     "name": "stderr",
     "output_type": "stream",
     "text": [
      "100%|██████████| 34/34 [01:53<00:00,  3.35s/it]\n"
     ]
    },
    {
     "name": "stdout",
     "output_type": "stream",
     "text": [
      "2024-06-27 02:11:00 - Reading hazard map 63 of 183: flood_DERP_RW_L_4326_2080410430\n",
      "Flood map path: N:\\Projects\\11209000\\11209175\\B. Measurements and calculations\\Data\\basin_flood_hazard_maps\\flood_DERP_RW_L_4326_2080410430.geojson\n",
      "2024-06-27 02:11:06 - Coarse overlay of hazard map with assets...\n"
     ]
    },
    {
     "name": "stderr",
     "output_type": "stream",
     "text": [
      "100%|██████████| 20/20 [01:26<00:00,  4.31s/it]\n"
     ]
    },
    {
     "name": "stdout",
     "output_type": "stream",
     "text": [
      "2024-06-27 02:13:39 - Reading hazard map 64 of 183: flood_DERP_RW_L_4326_2080410540\n",
      "Flood map path: N:\\Projects\\11209000\\11209175\\B. Measurements and calculations\\Data\\basin_flood_hazard_maps\\flood_DERP_RW_L_4326_2080410540.geojson\n",
      "2024-06-27 02:13:48 - Coarse overlay of hazard map with assets...\n"
     ]
    },
    {
     "name": "stderr",
     "output_type": "stream",
     "text": [
      "100%|██████████| 48/48 [08:40<00:00, 10.84s/it]\n"
     ]
    },
    {
     "name": "stdout",
     "output_type": "stream",
     "text": [
      "2024-06-27 02:26:21 - Reading hazard map 65 of 183: flood_DERP_RW_L_4326_2080410660\n",
      "Flood map path: N:\\Projects\\11209000\\11209175\\B. Measurements and calculations\\Data\\basin_flood_hazard_maps\\flood_DERP_RW_L_4326_2080410660.geojson\n",
      "2024-06-27 02:26:24 - Coarse overlay of hazard map with assets...\n"
     ]
    },
    {
     "name": "stderr",
     "output_type": "stream",
     "text": [
      "100%|██████████| 11/11 [00:07<00:00,  1.48it/s]\n"
     ]
    },
    {
     "name": "stdout",
     "output_type": "stream",
     "text": [
      "2024-06-27 02:26:41 - Reading hazard map 66 of 183: flood_DERP_RW_L_4326_2080410760\n",
      "Flood map path: N:\\Projects\\11209000\\11209175\\B. Measurements and calculations\\Data\\basin_flood_hazard_maps\\flood_DERP_RW_L_4326_2080410760.geojson\n",
      "2024-06-27 02:26:56 - Coarse overlay of hazard map with assets...\n"
     ]
    },
    {
     "name": "stderr",
     "output_type": "stream",
     "text": [
      "100%|██████████| 3/3 [03:29<00:00, 69.69s/it]\n"
     ]
    },
    {
     "name": "stdout",
     "output_type": "stream",
     "text": [
      "2024-06-27 02:34:58 - Reading hazard map 67 of 183: flood_DERP_RW_L_4326_2080411370\n",
      "Flood map path: N:\\Projects\\11209000\\11209175\\B. Measurements and calculations\\Data\\basin_flood_hazard_maps\\flood_DERP_RW_L_4326_2080411370.geojson\n",
      "2024-06-27 02:35:03 - Coarse overlay of hazard map with assets...\n"
     ]
    },
    {
     "name": "stderr",
     "output_type": "stream",
     "text": [
      "100%|██████████| 98/98 [03:05<00:00,  1.89s/it]\n"
     ]
    },
    {
     "name": "stdout",
     "output_type": "stream",
     "text": [
      "2024-06-27 02:38:56 - Reading hazard map 68 of 183: flood_DERP_RW_L_4326_2080416200\n",
      "Flood map path: N:\\Projects\\11209000\\11209175\\B. Measurements and calculations\\Data\\basin_flood_hazard_maps\\flood_DERP_RW_L_4326_2080416200.geojson\n",
      "2024-06-27 02:39:21 - Coarse overlay of hazard map with assets...\n"
     ]
    },
    {
     "name": "stderr",
     "output_type": "stream",
     "text": [
      "100%|██████████| 4/4 [00:07<00:00,  1.86s/it]\n"
     ]
    },
    {
     "name": "stdout",
     "output_type": "stream",
     "text": [
      "2024-06-27 02:45:44 - Reading hazard map 69 of 183: flood_DERP_RW_L_4326_2080416210\n",
      "Flood map path: N:\\Projects\\11209000\\11209175\\B. Measurements and calculations\\Data\\basin_flood_hazard_maps\\flood_DERP_RW_L_4326_2080416210.geojson\n",
      "2024-06-27 02:45:58 - Coarse overlay of hazard map with assets...\n"
     ]
    },
    {
     "name": "stderr",
     "output_type": "stream",
     "text": [
      "100%|██████████| 155/155 [09:09<00:00,  3.54s/it]\n"
     ]
    },
    {
     "name": "stdout",
     "output_type": "stream",
     "text": [
      "2024-06-27 02:58:35 - Reading hazard map 70 of 183: flood_DERP_RW_L_4326_2080418600\n",
      "Flood map path: N:\\Projects\\11209000\\11209175\\B. Measurements and calculations\\Data\\basin_flood_hazard_maps\\flood_DERP_RW_L_4326_2080418600.geojson\n",
      "2024-06-27 02:59:07 - Coarse overlay of hazard map with assets...\n"
     ]
    },
    {
     "name": "stderr",
     "output_type": "stream",
     "text": [
      "100%|██████████| 65/65 [27:12<00:00, 25.12s/it]   \n"
     ]
    },
    {
     "name": "stdout",
     "output_type": "stream",
     "text": [
      "2024-06-27 03:46:43 - Reading hazard map 71 of 183: flood_DERP_RW_L_4326_2080418720\n",
      "Flood map path: N:\\Projects\\11209000\\11209175\\B. Measurements and calculations\\Data\\basin_flood_hazard_maps\\flood_DERP_RW_L_4326_2080418720.geojson\n",
      "2024-06-27 03:46:43 - Coarse overlay of hazard map with assets...\n"
     ]
    },
    {
     "name": "stderr",
     "output_type": "stream",
     "text": [
      "100%|██████████| 7/7 [00:00<00:00, 16.79it/s]\n"
     ]
    },
    {
     "name": "stdout",
     "output_type": "stream",
     "text": [
      "2024-06-27 03:46:44 - Reading hazard map 72 of 183: flood_DERP_RW_L_4326_2080418880\n",
      "Flood map path: N:\\Projects\\11209000\\11209175\\B. Measurements and calculations\\Data\\basin_flood_hazard_maps\\flood_DERP_RW_L_4326_2080418880.geojson\n",
      "2024-06-27 03:46:55 - Coarse overlay of hazard map with assets...\n"
     ]
    },
    {
     "name": "stderr",
     "output_type": "stream",
     "text": [
      "100%|██████████| 11/11 [00:07<00:00,  1.46it/s]\n"
     ]
    },
    {
     "name": "stdout",
     "output_type": "stream",
     "text": [
      "2024-06-27 03:49:33 - Reading hazard map 73 of 183: flood_DERP_RW_L_4326_2080418890\n",
      "Flood map path: N:\\Projects\\11209000\\11209175\\B. Measurements and calculations\\Data\\basin_flood_hazard_maps\\flood_DERP_RW_L_4326_2080418890.geojson\n",
      "2024-06-27 03:49:46 - Coarse overlay of hazard map with assets...\n"
     ]
    },
    {
     "name": "stderr",
     "output_type": "stream",
     "text": [
      "100%|██████████| 85/85 [03:59<00:00,  2.81s/it]\n"
     ]
    },
    {
     "name": "stdout",
     "output_type": "stream",
     "text": [
      "2024-06-27 03:57:14 - Reading hazard map 74 of 183: flood_DERP_RW_L_4326_2080419070\n",
      "Flood map path: N:\\Projects\\11209000\\11209175\\B. Measurements and calculations\\Data\\basin_flood_hazard_maps\\flood_DERP_RW_L_4326_2080419070.geojson\n",
      "2024-06-27 03:57:15 - Coarse overlay of hazard map with assets...\n"
     ]
    },
    {
     "name": "stderr",
     "output_type": "stream",
     "text": [
      "100%|██████████| 3/3 [00:00<00:00,  4.25it/s]\n"
     ]
    },
    {
     "name": "stdout",
     "output_type": "stream",
     "text": [
      "2024-06-27 03:57:18 - Reading hazard map 75 of 183: flood_DERP_RW_L_4326_2080419180\n",
      "Flood map path: N:\\Projects\\11209000\\11209175\\B. Measurements and calculations\\Data\\basin_flood_hazard_maps\\flood_DERP_RW_L_4326_2080419180.geojson\n",
      "2024-06-27 03:57:24 - Coarse overlay of hazard map with assets...\n"
     ]
    },
    {
     "name": "stderr",
     "output_type": "stream",
     "text": [
      "100%|██████████| 62/62 [01:23<00:00,  1.34s/it]\n"
     ]
    },
    {
     "name": "stdout",
     "output_type": "stream",
     "text": [
      "2024-06-27 04:00:30 - Reading hazard map 76 of 183: flood_DERP_RW_L_4326_2080420240\n",
      "Flood map path: N:\\Projects\\11209000\\11209175\\B. Measurements and calculations\\Data\\basin_flood_hazard_maps\\flood_DERP_RW_L_4326_2080420240.geojson\n",
      "2024-06-27 04:01:01 - Coarse overlay of hazard map with assets...\n"
     ]
    },
    {
     "name": "stderr",
     "output_type": "stream",
     "text": [
      "100%|██████████| 214/214 [1:26:52<00:00, 24.36s/it]  \n"
     ]
    },
    {
     "name": "stdout",
     "output_type": "stream",
     "text": [
      "2024-06-27 06:14:20 - Reading hazard map 77 of 183: flood_DERP_RW_L_4326_2080420340\n",
      "Flood map path: N:\\Projects\\11209000\\11209175\\B. Measurements and calculations\\Data\\basin_flood_hazard_maps\\flood_DERP_RW_L_4326_2080420340.geojson\n",
      "2024-06-27 06:14:23 - Coarse overlay of hazard map with assets...\n"
     ]
    },
    {
     "name": "stderr",
     "output_type": "stream",
     "text": [
      "100%|██████████| 32/32 [00:23<00:00,  1.37it/s]\n"
     ]
    },
    {
     "name": "stdout",
     "output_type": "stream",
     "text": [
      "2024-06-27 06:15:23 - Reading hazard map 78 of 183: flood_DERP_RW_L_4326_2080421680\n",
      "Flood map path: N:\\Projects\\11209000\\11209175\\B. Measurements and calculations\\Data\\basin_flood_hazard_maps\\flood_DERP_RW_L_4326_2080421680.geojson\n",
      "2024-06-27 06:15:50 - Coarse overlay of hazard map with assets...\n"
     ]
    },
    {
     "name": "stderr",
     "output_type": "stream",
     "text": [
      "100%|██████████| 123/123 [1:02:14<00:00, 30.36s/it] \n"
     ]
    },
    {
     "name": "stdout",
     "output_type": "stream",
     "text": [
      "2024-06-27 08:12:21 - Reading hazard map 79 of 183: flood_DERP_RW_L_4326_2080421770\n",
      "Flood map path: N:\\Projects\\11209000\\11209175\\B. Measurements and calculations\\Data\\basin_flood_hazard_maps\\flood_DERP_RW_L_4326_2080421770.geojson\n",
      "2024-06-27 08:12:34 - Coarse overlay of hazard map with assets...\n"
     ]
    },
    {
     "name": "stderr",
     "output_type": "stream",
     "text": [
      "100%|██████████| 196/196 [1:14:27<00:00, 22.79s/it] \n"
     ]
    },
    {
     "name": "stdout",
     "output_type": "stream",
     "text": [
      "2024-06-27 09:42:19 - Reading hazard map 80 of 183: flood_DERP_RW_L_4326_2080428080\n",
      "Flood map path: N:\\Projects\\11209000\\11209175\\B. Measurements and calculations\\Data\\basin_flood_hazard_maps\\flood_DERP_RW_L_4326_2080428080.geojson\n",
      "2024-06-27 09:42:34 - Coarse overlay of hazard map with assets...\n"
     ]
    },
    {
     "name": "stderr",
     "output_type": "stream",
     "text": [
      "0it [00:00, ?it/s]\n"
     ]
    },
    {
     "name": "stdout",
     "output_type": "stream",
     "text": [
      "2024-06-27 09:43:59 - Reading hazard map 81 of 183: flood_DERP_RW_L_4326_2080428160\n",
      "Flood map path: N:\\Projects\\11209000\\11209175\\B. Measurements and calculations\\Data\\basin_flood_hazard_maps\\flood_DERP_RW_L_4326_2080428160.geojson\n",
      "2024-06-27 09:44:14 - Coarse overlay of hazard map with assets...\n"
     ]
    },
    {
     "name": "stderr",
     "output_type": "stream",
     "text": [
      "100%|██████████| 3/3 [00:04<00:00,  1.53s/it]\n"
     ]
    },
    {
     "name": "stdout",
     "output_type": "stream",
     "text": [
      "2024-06-27 09:48:44 - Reading hazard map 82 of 183: flood_DERP_RW_L_4326_2080428500\n",
      "Flood map path: N:\\Projects\\11209000\\11209175\\B. Measurements and calculations\\Data\\basin_flood_hazard_maps\\flood_DERP_RW_L_4326_2080428500.geojson\n",
      "2024-06-27 09:48:46 - Coarse overlay of hazard map with assets...\n"
     ]
    },
    {
     "name": "stderr",
     "output_type": "stream",
     "text": [
      "100%|██████████| 34/34 [00:09<00:00,  3.59it/s]\n"
     ]
    },
    {
     "name": "stdout",
     "output_type": "stream",
     "text": [
      "2024-06-27 09:49:09 - Reading hazard map 83 of 183: flood_DERP_RW_L_4326_2080429430\n",
      "Flood map path: N:\\Projects\\11209000\\11209175\\B. Measurements and calculations\\Data\\basin_flood_hazard_maps\\flood_DERP_RW_L_4326_2080429430.geojson\n",
      "2024-06-27 09:49:14 - Coarse overlay of hazard map with assets...\n"
     ]
    },
    {
     "name": "stderr",
     "output_type": "stream",
     "text": [
      "100%|██████████| 113/113 [07:43<00:00,  4.11s/it]\n"
     ]
    },
    {
     "name": "stdout",
     "output_type": "stream",
     "text": [
      "2024-06-27 10:01:26 - Reading hazard map 84 of 183: flood_DERP_RW_L_4326_2080429540\n",
      "Flood map path: N:\\Projects\\11209000\\11209175\\B. Measurements and calculations\\Data\\basin_flood_hazard_maps\\flood_DERP_RW_L_4326_2080429540.geojson\n",
      "2024-06-27 10:01:45 - Coarse overlay of hazard map with assets...\n"
     ]
    },
    {
     "name": "stderr",
     "output_type": "stream",
     "text": [
      "100%|██████████| 6/6 [00:04<00:00,  1.31it/s]\n"
     ]
    },
    {
     "name": "stdout",
     "output_type": "stream",
     "text": [
      "2024-06-27 10:06:37 - Reading hazard map 85 of 183: flood_DERP_RW_L_4326_2080429670\n",
      "Flood map path: N:\\Projects\\11209000\\11209175\\B. Measurements and calculations\\Data\\basin_flood_hazard_maps\\flood_DERP_RW_L_4326_2080429670.geojson\n",
      "2024-06-27 10:06:37 - Coarse overlay of hazard map with assets...\n"
     ]
    },
    {
     "name": "stderr",
     "output_type": "stream",
     "text": [
      "0it [00:00, ?it/s]\n"
     ]
    },
    {
     "name": "stdout",
     "output_type": "stream",
     "text": [
      "2024-06-27 10:06:37 - Reading hazard map 86 of 183: flood_DERP_RW_L_4326_2080429770\n",
      "Flood map path: N:\\Projects\\11209000\\11209175\\B. Measurements and calculations\\Data\\basin_flood_hazard_maps\\flood_DERP_RW_L_4326_2080429770.geojson\n",
      "2024-06-27 10:06:38 - Coarse overlay of hazard map with assets...\n"
     ]
    },
    {
     "name": "stderr",
     "output_type": "stream",
     "text": [
      "100%|██████████| 56/56 [00:07<00:00,  7.00it/s]\n"
     ]
    },
    {
     "name": "stdout",
     "output_type": "stream",
     "text": [
      "2024-06-27 10:06:48 - Reading hazard map 87 of 183: flood_DERP_RW_L_4326_2080430240\n",
      "Flood map path: N:\\Projects\\11209000\\11209175\\B. Measurements and calculations\\Data\\basin_flood_hazard_maps\\flood_DERP_RW_L_4326_2080430240.geojson\n",
      "2024-06-27 10:06:52 - Coarse overlay of hazard map with assets...\n"
     ]
    },
    {
     "name": "stderr",
     "output_type": "stream",
     "text": [
      "100%|██████████| 34/34 [00:44<00:00,  1.30s/it]\n"
     ]
    },
    {
     "name": "stdout",
     "output_type": "stream",
     "text": [
      "2024-06-27 10:08:36 - Reading hazard map 88 of 183: flood_DERP_RW_L_4326_2080430320\n",
      "Flood map path: N:\\Projects\\11209000\\11209175\\B. Measurements and calculations\\Data\\basin_flood_hazard_maps\\flood_DERP_RW_L_4326_2080430320.geojson\n",
      "2024-06-27 10:08:44 - Coarse overlay of hazard map with assets...\n"
     ]
    },
    {
     "name": "stderr",
     "output_type": "stream",
     "text": [
      "100%|██████████| 42/42 [02:23<00:00,  3.42s/it]\n"
     ]
    },
    {
     "name": "stdout",
     "output_type": "stream",
     "text": [
      "2024-06-27 10:11:51 - Reading hazard map 89 of 183: flood_DERP_RW_L_4326_2080431110\n",
      "Flood map path: N:\\Projects\\11209000\\11209175\\B. Measurements and calculations\\Data\\basin_flood_hazard_maps\\flood_DERP_RW_L_4326_2080431110.geojson\n",
      "2024-06-27 10:11:55 - Coarse overlay of hazard map with assets...\n"
     ]
    },
    {
     "name": "stderr",
     "output_type": "stream",
     "text": [
      "100%|██████████| 88/88 [02:22<00:00,  1.62s/it]\n"
     ]
    },
    {
     "name": "stdout",
     "output_type": "stream",
     "text": [
      "2024-06-27 10:16:08 - Reading hazard map 90 of 183: flood_DERP_RW_L_4326_2080431660\n",
      "Flood map path: N:\\Projects\\11209000\\11209175\\B. Measurements and calculations\\Data\\basin_flood_hazard_maps\\flood_DERP_RW_L_4326_2080431660.geojson\n",
      "2024-06-27 10:16:24 - Coarse overlay of hazard map with assets...\n"
     ]
    },
    {
     "name": "stderr",
     "output_type": "stream",
     "text": [
      "100%|██████████| 2/2 [00:05<00:00,  2.54s/it]\n"
     ]
    },
    {
     "name": "stdout",
     "output_type": "stream",
     "text": [
      "2024-06-27 10:23:29 - Reading hazard map 91 of 183: flood_DERP_RW_L_4326_2080431750\n",
      "Flood map path: N:\\Projects\\11209000\\11209175\\B. Measurements and calculations\\Data\\basin_flood_hazard_maps\\flood_DERP_RW_L_4326_2080431750.geojson\n",
      "2024-06-27 10:23:42 - Coarse overlay of hazard map with assets...\n"
     ]
    },
    {
     "name": "stderr",
     "output_type": "stream",
     "text": [
      "0it [00:00, ?it/s]\n"
     ]
    },
    {
     "name": "stdout",
     "output_type": "stream",
     "text": [
      "2024-06-27 10:25:04 - Reading hazard map 92 of 183: flood_DERP_RW_L_4326_2080432400\n",
      "Flood map path: N:\\Projects\\11209000\\11209175\\B. Measurements and calculations\\Data\\basin_flood_hazard_maps\\flood_DERP_RW_L_4326_2080432400.geojson\n",
      "2024-06-27 10:25:08 - Coarse overlay of hazard map with assets...\n"
     ]
    },
    {
     "name": "stderr",
     "output_type": "stream",
     "text": [
      "100%|██████████| 4/4 [00:02<00:00,  1.35it/s]\n"
     ]
    },
    {
     "name": "stdout",
     "output_type": "stream",
     "text": [
      "2024-06-27 10:25:29 - Reading hazard map 93 of 183: flood_DERP_RW_L_4326_2080432510\n",
      "Flood map path: N:\\Projects\\11209000\\11209175\\B. Measurements and calculations\\Data\\basin_flood_hazard_maps\\flood_DERP_RW_L_4326_2080432510.geojson\n",
      "2024-06-27 10:26:01 - Coarse overlay of hazard map with assets...\n"
     ]
    },
    {
     "name": "stderr",
     "output_type": "stream",
     "text": [
      "100%|██████████| 55/55 [16:16<00:00, 17.75s/it]   \n"
     ]
    },
    {
     "name": "stdout",
     "output_type": "stream",
     "text": [
      "2024-06-27 11:04:37 - Reading hazard map 94 of 183: flood_DERP_RW_L_4326_2080433520\n",
      "Flood map path: N:\\Projects\\11209000\\11209175\\B. Measurements and calculations\\Data\\basin_flood_hazard_maps\\flood_DERP_RW_L_4326_2080433520.geojson\n",
      "2024-06-27 11:04:40 - Coarse overlay of hazard map with assets...\n"
     ]
    },
    {
     "name": "stderr",
     "output_type": "stream",
     "text": [
      "0it [00:00, ?it/s]\n"
     ]
    },
    {
     "name": "stdout",
     "output_type": "stream",
     "text": [
      "2024-06-27 11:04:44 - Reading hazard map 95 of 183: flood_DERP_RW_L_4326_2080433740\n",
      "Flood map path: N:\\Projects\\11209000\\11209175\\B. Measurements and calculations\\Data\\basin_flood_hazard_maps\\flood_DERP_RW_L_4326_2080433740.geojson\n",
      "2024-06-27 11:05:07 - Coarse overlay of hazard map with assets...\n"
     ]
    },
    {
     "name": "stderr",
     "output_type": "stream",
     "text": [
      "0it [00:00, ?it/s]\n"
     ]
    },
    {
     "name": "stdout",
     "output_type": "stream",
     "text": [
      "2024-06-27 11:09:52 - Reading hazard map 96 of 183: flood_DERP_RW_L_4326_2080433960\n",
      "Flood map path: N:\\Projects\\11209000\\11209175\\B. Measurements and calculations\\Data\\basin_flood_hazard_maps\\flood_DERP_RW_L_4326_2080433960.geojson\n",
      "2024-06-27 11:10:45 - Coarse overlay of hazard map with assets...\n"
     ]
    },
    {
     "name": "stderr",
     "output_type": "stream",
     "text": [
      "0it [00:00, ?it/s]\n"
     ]
    },
    {
     "name": "stdout",
     "output_type": "stream",
     "text": [
      "2024-06-27 11:16:19 - Reading hazard map 97 of 183: flood_DERP_RW_L_4326_2080434150\n",
      "Flood map path: N:\\Projects\\11209000\\11209175\\B. Measurements and calculations\\Data\\basin_flood_hazard_maps\\flood_DERP_RW_L_4326_2080434150.geojson\n",
      "2024-06-27 11:16:23 - Coarse overlay of hazard map with assets...\n"
     ]
    },
    {
     "name": "stderr",
     "output_type": "stream",
     "text": [
      "0it [00:00, ?it/s]\n"
     ]
    },
    {
     "name": "stdout",
     "output_type": "stream",
     "text": [
      "2024-06-27 11:16:27 - Reading hazard map 98 of 183: flood_DERP_RW_L_4326_2080434280\n",
      "Flood map path: N:\\Projects\\11209000\\11209175\\B. Measurements and calculations\\Data\\basin_flood_hazard_maps\\flood_DERP_RW_L_4326_2080434280.geojson\n",
      "2024-06-27 11:16:33 - Coarse overlay of hazard map with assets...\n"
     ]
    },
    {
     "name": "stderr",
     "output_type": "stream",
     "text": [
      "100%|██████████| 10/10 [01:00<00:00,  6.01s/it]\n"
     ]
    },
    {
     "name": "stdout",
     "output_type": "stream",
     "text": [
      "2024-06-27 11:18:19 - Reading hazard map 99 of 183: flood_DERP_RW_L_4326_2080434470\n",
      "Flood map path: N:\\Projects\\11209000\\11209175\\B. Measurements and calculations\\Data\\basin_flood_hazard_maps\\flood_DERP_RW_L_4326_2080434470.geojson\n",
      "2024-06-27 11:19:00 - Coarse overlay of hazard map with assets...\n"
     ]
    },
    {
     "name": "stderr",
     "output_type": "stream",
     "text": [
      "100%|██████████| 171/171 [1:00:54<00:00, 21.37s/it]\n"
     ]
    },
    {
     "name": "stdout",
     "output_type": "stream",
     "text": [
      "2024-06-27 12:41:09 - Reading hazard map 100 of 183: flood_DERP_RW_L_4326_2080434490\n",
      "Flood map path: N:\\Projects\\11209000\\11209175\\B. Measurements and calculations\\Data\\basin_flood_hazard_maps\\flood_DERP_RW_L_4326_2080434490.geojson\n",
      "2024-06-27 12:41:22 - Coarse overlay of hazard map with assets...\n"
     ]
    },
    {
     "name": "stderr",
     "output_type": "stream",
     "text": [
      "100%|██████████| 45/45 [06:44<00:00,  8.99s/it]\n"
     ]
    },
    {
     "name": "stdout",
     "output_type": "stream",
     "text": [
      "2024-06-27 12:53:18 - Reading hazard map 101 of 183: flood_DERP_RW_L_4326_2080434630\n",
      "Flood map path: N:\\Projects\\11209000\\11209175\\B. Measurements and calculations\\Data\\basin_flood_hazard_maps\\flood_DERP_RW_L_4326_2080434630.geojson\n",
      "2024-06-27 12:54:19 - Coarse overlay of hazard map with assets...\n"
     ]
    },
    {
     "name": "stderr",
     "output_type": "stream",
     "text": [
      "100%|██████████| 149/149 [3:00:28<00:00, 72.68s/it]   \n"
     ]
    },
    {
     "name": "stdout",
     "output_type": "stream",
     "text": [
      "2024-06-27 18:16:54 - Reading hazard map 102 of 183: flood_DERP_RW_L_4326_2080435040\n",
      "Flood map path: N:\\Projects\\11209000\\11209175\\B. Measurements and calculations\\Data\\basin_flood_hazard_maps\\flood_DERP_RW_L_4326_2080435040.geojson\n",
      "2024-06-27 18:17:45 - Coarse overlay of hazard map with assets...\n"
     ]
    },
    {
     "name": "stderr",
     "output_type": "stream",
     "text": [
      "100%|██████████| 102/102 [36:15<00:00, 21.33s/it]  \n"
     ]
    },
    {
     "name": "stdout",
     "output_type": "stream",
     "text": [
      "2024-06-27 19:37:19 - Reading hazard map 103 of 183: flood_DERP_RW_L_4326_2080435320\n",
      "Flood map path: N:\\Projects\\11209000\\11209175\\B. Measurements and calculations\\Data\\basin_flood_hazard_maps\\flood_DERP_RW_L_4326_2080435320.geojson\n",
      "2024-06-27 19:37:31 - Coarse overlay of hazard map with assets...\n"
     ]
    },
    {
     "name": "stderr",
     "output_type": "stream",
     "text": [
      "100%|██████████| 12/12 [02:16<00:00, 11.39s/it]\n"
     ]
    },
    {
     "name": "stdout",
     "output_type": "stream",
     "text": [
      "2024-06-27 19:41:08 - Reading hazard map 104 of 183: flood_DERP_RW_L_4326_2080436660\n",
      "Flood map path: N:\\Projects\\11209000\\11209175\\B. Measurements and calculations\\Data\\basin_flood_hazard_maps\\flood_DERP_RW_L_4326_2080436660.geojson\n",
      "2024-06-27 19:41:12 - Coarse overlay of hazard map with assets...\n"
     ]
    },
    {
     "name": "stderr",
     "output_type": "stream",
     "text": [
      "0it [00:00, ?it/s]\n"
     ]
    },
    {
     "name": "stdout",
     "output_type": "stream",
     "text": [
      "2024-06-27 19:41:19 - Reading hazard map 105 of 183: flood_DERP_RW_L_4326_2080436860\n",
      "Flood map path: N:\\Projects\\11209000\\11209175\\B. Measurements and calculations\\Data\\basin_flood_hazard_maps\\flood_DERP_RW_L_4326_2080436860.geojson\n",
      "2024-06-27 19:41:20 - Coarse overlay of hazard map with assets...\n"
     ]
    },
    {
     "name": "stderr",
     "output_type": "stream",
     "text": [
      "100%|██████████| 4/4 [00:00<00:00,  5.67it/s]\n"
     ]
    },
    {
     "name": "stdout",
     "output_type": "stream",
     "text": [
      "2024-06-27 19:41:21 - Reading hazard map 106 of 183: flood_DERP_RW_L_4326_2080436870\n",
      "Flood map path: N:\\Projects\\11209000\\11209175\\B. Measurements and calculations\\Data\\basin_flood_hazard_maps\\flood_DERP_RW_L_4326_2080436870.geojson\n",
      "2024-06-27 19:41:25 - Coarse overlay of hazard map with assets...\n"
     ]
    },
    {
     "name": "stderr",
     "output_type": "stream",
     "text": [
      "100%|██████████| 34/34 [00:28<00:00,  1.21it/s]\n"
     ]
    },
    {
     "name": "stdout",
     "output_type": "stream",
     "text": [
      "2024-06-27 19:42:09 - Reading hazard map 107 of 183: flood_DERP_RW_L_4326_2080437100\n",
      "Flood map path: N:\\Projects\\11209000\\11209175\\B. Measurements and calculations\\Data\\basin_flood_hazard_maps\\flood_DERP_RW_L_4326_2080437100.geojson\n",
      "2024-06-27 19:42:19 - Coarse overlay of hazard map with assets...\n"
     ]
    },
    {
     "name": "stderr",
     "output_type": "stream",
     "text": [
      "100%|██████████| 31/31 [07:16<00:00, 14.09s/it]\n"
     ]
    },
    {
     "name": "stdout",
     "output_type": "stream",
     "text": [
      "2024-06-27 19:53:20 - Reading hazard map 108 of 183: flood_DERP_RW_L_4326_2080437230\n",
      "Flood map path: N:\\Projects\\11209000\\11209175\\B. Measurements and calculations\\Data\\basin_flood_hazard_maps\\flood_DERP_RW_L_4326_2080437230.geojson\n",
      "2024-06-27 19:53:26 - Coarse overlay of hazard map with assets...\n"
     ]
    },
    {
     "name": "stderr",
     "output_type": "stream",
     "text": [
      "100%|██████████| 2/2 [00:01<00:00,  1.34it/s]\n"
     ]
    },
    {
     "name": "stdout",
     "output_type": "stream",
     "text": [
      "2024-06-27 19:54:06 - Reading hazard map 109 of 183: flood_DERP_RW_L_4326_2080437370\n",
      "Flood map path: N:\\Projects\\11209000\\11209175\\B. Measurements and calculations\\Data\\basin_flood_hazard_maps\\flood_DERP_RW_L_4326_2080437370.geojson\n",
      "2024-06-27 19:54:11 - Coarse overlay of hazard map with assets...\n"
     ]
    },
    {
     "name": "stderr",
     "output_type": "stream",
     "text": [
      "100%|██████████| 68/68 [04:48<00:00,  4.24s/it]\n"
     ]
    },
    {
     "name": "stdout",
     "output_type": "stream",
     "text": [
      "2024-06-27 20:00:01 - Reading hazard map 110 of 183: flood_DERP_RW_L_4326_2080438230\n",
      "Flood map path: N:\\Projects\\11209000\\11209175\\B. Measurements and calculations\\Data\\basin_flood_hazard_maps\\flood_DERP_RW_L_4326_2080438230.geojson\n",
      "2024-06-27 20:00:16 - Coarse overlay of hazard map with assets...\n"
     ]
    },
    {
     "name": "stderr",
     "output_type": "stream",
     "text": [
      "100%|██████████| 25/25 [00:19<00:00,  1.26it/s]\n"
     ]
    },
    {
     "name": "stdout",
     "output_type": "stream",
     "text": [
      "2024-06-27 20:09:32 - Reading hazard map 111 of 183: flood_DERP_RW_L_4326_2080438240\n",
      "Flood map path: N:\\Projects\\11209000\\11209175\\B. Measurements and calculations\\Data\\basin_flood_hazard_maps\\flood_DERP_RW_L_4326_2080438240.geojson\n",
      "2024-06-27 20:09:40 - Coarse overlay of hazard map with assets...\n"
     ]
    },
    {
     "name": "stderr",
     "output_type": "stream",
     "text": [
      "100%|██████████| 81/81 [00:50<00:00,  1.61it/s]\n"
     ]
    },
    {
     "name": "stdout",
     "output_type": "stream",
     "text": [
      "2024-06-27 20:11:53 - Reading hazard map 112 of 183: flood_DERP_RW_L_4326_2080438400\n",
      "Flood map path: N:\\Projects\\11209000\\11209175\\B. Measurements and calculations\\Data\\basin_flood_hazard_maps\\flood_DERP_RW_L_4326_2080438400.geojson\n",
      "2024-06-27 20:12:19 - Coarse overlay of hazard map with assets...\n"
     ]
    },
    {
     "name": "stderr",
     "output_type": "stream",
     "text": [
      "100%|██████████| 48/48 [23:55<00:00, 29.90s/it]  \n"
     ]
    },
    {
     "name": "stdout",
     "output_type": "stream",
     "text": [
      "2024-06-27 20:48:45 - Reading hazard map 113 of 183: flood_DERP_RW_L_4326_2080438410\n",
      "Flood map path: N:\\Projects\\11209000\\11209175\\B. Measurements and calculations\\Data\\basin_flood_hazard_maps\\flood_DERP_RW_L_4326_2080438410.geojson\n",
      "2024-06-27 20:48:57 - Coarse overlay of hazard map with assets...\n"
     ]
    },
    {
     "name": "stderr",
     "output_type": "stream",
     "text": [
      "100%|██████████| 14/14 [07:00<00:00, 30.01s/it]\n"
     ]
    },
    {
     "name": "stdout",
     "output_type": "stream",
     "text": [
      "2024-06-27 20:58:54 - Reading hazard map 114 of 183: flood_DERP_RW_L_4326_2080439400\n",
      "Flood map path: N:\\Projects\\11209000\\11209175\\B. Measurements and calculations\\Data\\basin_flood_hazard_maps\\flood_DERP_RW_L_4326_2080439400.geojson\n",
      "2024-06-27 20:59:25 - Coarse overlay of hazard map with assets...\n"
     ]
    },
    {
     "name": "stderr",
     "output_type": "stream",
     "text": [
      "100%|██████████| 11/11 [01:12<00:00,  6.58s/it]\n"
     ]
    },
    {
     "name": "stdout",
     "output_type": "stream",
     "text": [
      "2024-06-27 21:22:11 - Reading hazard map 115 of 183: flood_DERP_RW_L_4326_2080439410\n",
      "Flood map path: N:\\Projects\\11209000\\11209175\\B. Measurements and calculations\\Data\\basin_flood_hazard_maps\\flood_DERP_RW_L_4326_2080439410.geojson\n",
      "2024-06-27 21:22:37 - Coarse overlay of hazard map with assets...\n"
     ]
    },
    {
     "name": "stderr",
     "output_type": "stream",
     "text": [
      "100%|██████████| 579/579 [12:48<00:00,  1.33s/it]\n"
     ]
    },
    {
     "name": "stdout",
     "output_type": "stream",
     "text": [
      "2024-06-27 21:46:40 - Reading hazard map 116 of 183: flood_DERP_RW_L_4326_2080441280\n",
      "Flood map path: N:\\Projects\\11209000\\11209175\\B. Measurements and calculations\\Data\\basin_flood_hazard_maps\\flood_DERP_RW_L_4326_2080441280.geojson\n",
      "2024-06-27 21:47:10 - Coarse overlay of hazard map with assets...\n"
     ]
    },
    {
     "name": "stderr",
     "output_type": "stream",
     "text": [
      "100%|██████████| 584/584 [21:41<00:00,  2.23s/it] \n"
     ]
    },
    {
     "name": "stdout",
     "output_type": "stream",
     "text": [
      "2024-06-27 22:38:31 - Reading hazard map 117 of 183: flood_DERP_RW_L_4326_2080446220\n",
      "Flood map path: N:\\Projects\\11209000\\11209175\\B. Measurements and calculations\\Data\\basin_flood_hazard_maps\\flood_DERP_RW_L_4326_2080446220.geojson\n",
      "2024-06-27 22:38:49 - Coarse overlay of hazard map with assets...\n"
     ]
    },
    {
     "name": "stderr",
     "output_type": "stream",
     "text": [
      "100%|██████████| 22/22 [05:13<00:00, 14.24s/it]\n"
     ]
    },
    {
     "name": "stdout",
     "output_type": "stream",
     "text": [
      "2024-06-27 22:52:11 - Reading hazard map 118 of 183: flood_DERP_RW_L_4326_2080446320\n",
      "Flood map path: N:\\Projects\\11209000\\11209175\\B. Measurements and calculations\\Data\\basin_flood_hazard_maps\\flood_DERP_RW_L_4326_2080446320.geojson\n",
      "2024-06-27 22:52:17 - Coarse overlay of hazard map with assets...\n"
     ]
    },
    {
     "name": "stderr",
     "output_type": "stream",
     "text": [
      "100%|██████████| 41/41 [00:26<00:00,  1.54it/s]\n"
     ]
    },
    {
     "name": "stdout",
     "output_type": "stream",
     "text": [
      "2024-06-27 22:52:51 - Reading hazard map 119 of 183: flood_DERP_RW_L_4326_2080447840\n",
      "Flood map path: N:\\Projects\\11209000\\11209175\\B. Measurements and calculations\\Data\\basin_flood_hazard_maps\\flood_DERP_RW_L_4326_2080447840.geojson\n",
      "2024-06-27 22:54:40 - Coarse overlay of hazard map with assets...\n"
     ]
    },
    {
     "name": "stderr",
     "output_type": "stream",
     "text": [
      "100%|██████████| 259/259 [1:23:29<00:00, 19.34s/it]  \n"
     ]
    },
    {
     "name": "stdout",
     "output_type": "stream",
     "text": [
      "2024-06-28 01:08:22 - Reading hazard map 120 of 183: flood_DERP_RW_L_4326_2080447970\n",
      "Flood map path: N:\\Projects\\11209000\\11209175\\B. Measurements and calculations\\Data\\basin_flood_hazard_maps\\flood_DERP_RW_L_4326_2080447970.geojson\n",
      "2024-06-28 01:08:38 - Coarse overlay of hazard map with assets...\n"
     ]
    },
    {
     "name": "stderr",
     "output_type": "stream",
     "text": [
      "100%|██████████| 15/15 [06:11<00:00, 24.78s/it]\n"
     ]
    },
    {
     "name": "stdout",
     "output_type": "stream",
     "text": [
      "2024-06-28 01:23:50 - Reading hazard map 121 of 183: flood_DERP_RW_L_4326_2080448120\n",
      "Flood map path: N:\\Projects\\11209000\\11209175\\B. Measurements and calculations\\Data\\basin_flood_hazard_maps\\flood_DERP_RW_L_4326_2080448120.geojson\n",
      "2024-06-28 01:24:00 - Coarse overlay of hazard map with assets...\n"
     ]
    },
    {
     "name": "stderr",
     "output_type": "stream",
     "text": [
      "100%|██████████| 6/6 [00:16<00:00,  2.82s/it]\n"
     ]
    },
    {
     "name": "stdout",
     "output_type": "stream",
     "text": [
      "2024-06-28 01:24:56 - Reading hazard map 122 of 183: flood_DERP_RW_L_4326_2080451930\n",
      "Flood map path: N:\\Projects\\11209000\\11209175\\B. Measurements and calculations\\Data\\basin_flood_hazard_maps\\flood_DERP_RW_L_4326_2080451930.geojson\n",
      "2024-06-28 01:24:59 - Coarse overlay of hazard map with assets...\n"
     ]
    },
    {
     "name": "stderr",
     "output_type": "stream",
     "text": [
      "100%|██████████| 15/15 [00:26<00:00,  1.76s/it]\n"
     ]
    },
    {
     "name": "stdout",
     "output_type": "stream",
     "text": [
      "2024-06-28 01:25:32 - Reading hazard map 123 of 183: flood_DERP_RW_M_4326_2080410170\n",
      "Flood map path: N:\\Projects\\11209000\\11209175\\B. Measurements and calculations\\Data\\basin_flood_hazard_maps\\flood_DERP_RW_M_4326_2080410170.geojson\n",
      "2024-06-28 01:25:40 - Coarse overlay of hazard map with assets...\n"
     ]
    },
    {
     "name": "stderr",
     "output_type": "stream",
     "text": [
      "100%|██████████| 30/30 [03:44<00:00,  7.47s/it]\n"
     ]
    },
    {
     "name": "stdout",
     "output_type": "stream",
     "text": [
      "2024-06-28 01:35:51 - Reading hazard map 124 of 183: flood_DERP_RW_M_4326_2080410430\n",
      "Flood map path: N:\\Projects\\11209000\\11209175\\B. Measurements and calculations\\Data\\basin_flood_hazard_maps\\flood_DERP_RW_M_4326_2080410430.geojson\n",
      "2024-06-28 01:35:55 - Coarse overlay of hazard map with assets...\n"
     ]
    },
    {
     "name": "stderr",
     "output_type": "stream",
     "text": [
      "100%|██████████| 14/14 [00:07<00:00,  1.97it/s]\n"
     ]
    },
    {
     "name": "stdout",
     "output_type": "stream",
     "text": [
      "2024-06-28 01:37:05 - Reading hazard map 125 of 183: flood_DERP_RW_M_4326_2080410540\n",
      "Flood map path: N:\\Projects\\11209000\\11209175\\B. Measurements and calculations\\Data\\basin_flood_hazard_maps\\flood_DERP_RW_M_4326_2080410540.geojson\n",
      "2024-06-28 01:37:13 - Coarse overlay of hazard map with assets...\n"
     ]
    },
    {
     "name": "stderr",
     "output_type": "stream",
     "text": [
      "100%|██████████| 33/33 [00:52<00:00,  1.60s/it]\n"
     ]
    },
    {
     "name": "stdout",
     "output_type": "stream",
     "text": [
      "2024-06-28 01:40:16 - Reading hazard map 126 of 183: flood_DERP_RW_M_4326_2080410660\n",
      "Flood map path: N:\\Projects\\11209000\\11209175\\B. Measurements and calculations\\Data\\basin_flood_hazard_maps\\flood_DERP_RW_M_4326_2080410660.geojson\n",
      "2024-06-28 01:40:19 - Coarse overlay of hazard map with assets...\n"
     ]
    },
    {
     "name": "stderr",
     "output_type": "stream",
     "text": [
      "100%|██████████| 10/10 [00:10<00:00,  1.08s/it]\n"
     ]
    },
    {
     "name": "stdout",
     "output_type": "stream",
     "text": [
      "2024-06-28 01:40:44 - Reading hazard map 127 of 183: flood_DERP_RW_M_4326_2080410760\n",
      "Flood map path: N:\\Projects\\11209000\\11209175\\B. Measurements and calculations\\Data\\basin_flood_hazard_maps\\flood_DERP_RW_M_4326_2080410760.geojson\n",
      "2024-06-28 01:40:57 - Coarse overlay of hazard map with assets...\n"
     ]
    },
    {
     "name": "stderr",
     "output_type": "stream",
     "text": [
      "100%|██████████| 3/3 [00:05<00:00,  1.97s/it]\n"
     ]
    },
    {
     "name": "stdout",
     "output_type": "stream",
     "text": [
      "2024-06-28 01:45:34 - Reading hazard map 128 of 183: flood_DERP_RW_M_4326_2080411370\n",
      "Flood map path: N:\\Projects\\11209000\\11209175\\B. Measurements and calculations\\Data\\basin_flood_hazard_maps\\flood_DERP_RW_M_4326_2080411370.geojson\n",
      "2024-06-28 01:45:40 - Coarse overlay of hazard map with assets...\n"
     ]
    },
    {
     "name": "stderr",
     "output_type": "stream",
     "text": [
      "100%|██████████| 43/43 [01:38<00:00,  2.28s/it]\n"
     ]
    },
    {
     "name": "stdout",
     "output_type": "stream",
     "text": [
      "2024-06-28 01:49:01 - Reading hazard map 129 of 183: flood_DERP_RW_M_4326_2080416200\n",
      "Flood map path: N:\\Projects\\11209000\\11209175\\B. Measurements and calculations\\Data\\basin_flood_hazard_maps\\flood_DERP_RW_M_4326_2080416200.geojson\n",
      "2024-06-28 01:49:22 - Coarse overlay of hazard map with assets...\n"
     ]
    },
    {
     "name": "stderr",
     "output_type": "stream",
     "text": [
      "100%|██████████| 4/4 [00:02<00:00,  1.50it/s]\n"
     ]
    },
    {
     "name": "stdout",
     "output_type": "stream",
     "text": [
      "2024-06-28 01:54:18 - Reading hazard map 130 of 183: flood_DERP_RW_M_4326_2080416210\n",
      "Flood map path: N:\\Projects\\11209000\\11209175\\B. Measurements and calculations\\Data\\basin_flood_hazard_maps\\flood_DERP_RW_M_4326_2080416210.geojson\n",
      "2024-06-28 01:54:32 - Coarse overlay of hazard map with assets...\n"
     ]
    },
    {
     "name": "stderr",
     "output_type": "stream",
     "text": [
      "100%|██████████| 94/94 [05:02<00:00,  3.21s/it]\n"
     ]
    },
    {
     "name": "stdout",
     "output_type": "stream",
     "text": [
      "2024-06-28 02:10:50 - Reading hazard map 131 of 183: flood_DERP_RW_M_4326_2080418600\n",
      "Flood map path: N:\\Projects\\11209000\\11209175\\B. Measurements and calculations\\Data\\basin_flood_hazard_maps\\flood_DERP_RW_M_4326_2080418600.geojson\n",
      "2024-06-28 02:11:22 - Coarse overlay of hazard map with assets...\n"
     ]
    },
    {
     "name": "stderr",
     "output_type": "stream",
     "text": [
      "100%|██████████| 48/48 [08:02<00:00, 10.06s/it]\n"
     ]
    },
    {
     "name": "stdout",
     "output_type": "stream",
     "text": [
      "2024-06-28 02:33:19 - Reading hazard map 132 of 183: flood_DERP_RW_M_4326_2080418720\n",
      "Flood map path: N:\\Projects\\11209000\\11209175\\B. Measurements and calculations\\Data\\basin_flood_hazard_maps\\flood_DERP_RW_M_4326_2080418720.geojson\n",
      "2024-06-28 02:33:20 - Coarse overlay of hazard map with assets...\n"
     ]
    },
    {
     "name": "stderr",
     "output_type": "stream",
     "text": [
      "100%|██████████| 2/2 [00:00<00:00, 10.15it/s]\n"
     ]
    },
    {
     "name": "stdout",
     "output_type": "stream",
     "text": [
      "2024-06-28 02:33:21 - Reading hazard map 133 of 183: flood_DERP_RW_M_4326_2080418880\n",
      "Flood map path: N:\\Projects\\11209000\\11209175\\B. Measurements and calculations\\Data\\basin_flood_hazard_maps\\flood_DERP_RW_M_4326_2080418880.geojson\n",
      "2024-06-28 02:33:31 - Coarse overlay of hazard map with assets...\n"
     ]
    },
    {
     "name": "stderr",
     "output_type": "stream",
     "text": [
      "100%|██████████| 10/10 [00:01<00:00,  5.82it/s]\n"
     ]
    },
    {
     "name": "stdout",
     "output_type": "stream",
     "text": [
      "2024-06-28 02:39:24 - Reading hazard map 134 of 183: flood_DERP_RW_M_4326_2080418890\n",
      "Flood map path: N:\\Projects\\11209000\\11209175\\B. Measurements and calculations\\Data\\basin_flood_hazard_maps\\flood_DERP_RW_M_4326_2080418890.geojson\n",
      "2024-06-28 02:39:33 - Coarse overlay of hazard map with assets...\n"
     ]
    },
    {
     "name": "stderr",
     "output_type": "stream",
     "text": [
      "100%|██████████| 14/14 [00:18<00:00,  1.30s/it]\n"
     ]
    },
    {
     "name": "stdout",
     "output_type": "stream",
     "text": [
      "2024-06-28 02:41:49 - Reading hazard map 135 of 183: flood_DERP_RW_M_4326_2080419070\n",
      "Flood map path: N:\\Projects\\11209000\\11209175\\B. Measurements and calculations\\Data\\basin_flood_hazard_maps\\flood_DERP_RW_M_4326_2080419070.geojson\n",
      "2024-06-28 02:41:50 - Coarse overlay of hazard map with assets...\n"
     ]
    },
    {
     "name": "stderr",
     "output_type": "stream",
     "text": [
      "100%|██████████| 3/3 [00:00<00:00, 15.79it/s]\n"
     ]
    },
    {
     "name": "stdout",
     "output_type": "stream",
     "text": [
      "2024-06-28 02:41:52 - Reading hazard map 136 of 183: flood_DERP_RW_M_4326_2080419180\n",
      "Flood map path: N:\\Projects\\11209000\\11209175\\B. Measurements and calculations\\Data\\basin_flood_hazard_maps\\flood_DERP_RW_M_4326_2080419180.geojson\n",
      "2024-06-28 02:41:57 - Coarse overlay of hazard map with assets...\n"
     ]
    },
    {
     "name": "stderr",
     "output_type": "stream",
     "text": [
      "100%|██████████| 48/48 [01:34<00:00,  1.97s/it]\n"
     ]
    },
    {
     "name": "stdout",
     "output_type": "stream",
     "text": [
      "2024-06-28 02:44:38 - Reading hazard map 137 of 183: flood_DERP_RW_M_4326_2080420240\n",
      "Flood map path: N:\\Projects\\11209000\\11209175\\B. Measurements and calculations\\Data\\basin_flood_hazard_maps\\flood_DERP_RW_M_4326_2080420240.geojson\n",
      "2024-06-28 02:44:51 - Coarse overlay of hazard map with assets...\n"
     ]
    },
    {
     "name": "stderr",
     "output_type": "stream",
     "text": [
      "100%|██████████| 36/36 [01:03<00:00,  1.77s/it]\n"
     ]
    },
    {
     "name": "stdout",
     "output_type": "stream",
     "text": [
      "2024-06-28 02:52:26 - Reading hazard map 138 of 183: flood_DERP_RW_M_4326_2080420340\n",
      "Flood map path: N:\\Projects\\11209000\\11209175\\B. Measurements and calculations\\Data\\basin_flood_hazard_maps\\flood_DERP_RW_M_4326_2080420340.geojson\n",
      "2024-06-28 02:52:29 - Coarse overlay of hazard map with assets...\n"
     ]
    },
    {
     "name": "stderr",
     "output_type": "stream",
     "text": [
      "100%|██████████| 13/13 [00:07<00:00,  1.65it/s]\n"
     ]
    },
    {
     "name": "stdout",
     "output_type": "stream",
     "text": [
      "2024-06-28 02:54:08 - Reading hazard map 139 of 183: flood_DERP_RW_M_4326_2080421680\n",
      "Flood map path: N:\\Projects\\11209000\\11209175\\B. Measurements and calculations\\Data\\basin_flood_hazard_maps\\flood_DERP_RW_M_4326_2080421680.geojson\n",
      "2024-06-28 02:54:32 - Coarse overlay of hazard map with assets...\n"
     ]
    },
    {
     "name": "stderr",
     "output_type": "stream",
     "text": [
      "100%|██████████| 65/65 [54:06<00:00, 49.94s/it]   \n"
     ]
    },
    {
     "name": "stdout",
     "output_type": "stream",
     "text": [
      "2024-06-28 04:32:28 - Reading hazard map 140 of 183: flood_DERP_RW_M_4326_2080421770\n",
      "Flood map path: N:\\Projects\\11209000\\11209175\\B. Measurements and calculations\\Data\\basin_flood_hazard_maps\\flood_DERP_RW_M_4326_2080421770.geojson\n",
      "2024-06-28 04:32:42 - Coarse overlay of hazard map with assets...\n"
     ]
    },
    {
     "name": "stderr",
     "output_type": "stream",
     "text": [
      "100%|██████████| 65/65 [24:18<00:00, 22.44s/it] \n"
     ]
    },
    {
     "name": "stdout",
     "output_type": "stream",
     "text": [
      "2024-06-28 05:13:52 - Reading hazard map 141 of 183: flood_DERP_RW_M_4326_2080428080\n",
      "Flood map path: N:\\Projects\\11209000\\11209175\\B. Measurements and calculations\\Data\\basin_flood_hazard_maps\\flood_DERP_RW_M_4326_2080428080.geojson\n",
      "2024-06-28 05:14:06 - Coarse overlay of hazard map with assets...\n"
     ]
    },
    {
     "name": "stderr",
     "output_type": "stream",
     "text": [
      "0it [00:00, ?it/s]\n"
     ]
    },
    {
     "name": "stdout",
     "output_type": "stream",
     "text": [
      "2024-06-28 05:15:18 - Reading hazard map 142 of 183: flood_DERP_RW_M_4326_2080428160\n",
      "Flood map path: N:\\Projects\\11209000\\11209175\\B. Measurements and calculations\\Data\\basin_flood_hazard_maps\\flood_DERP_RW_M_4326_2080428160.geojson\n",
      "2024-06-28 05:15:35 - Coarse overlay of hazard map with assets...\n"
     ]
    },
    {
     "name": "stderr",
     "output_type": "stream",
     "text": [
      "100%|██████████| 3/3 [00:11<00:00,  3.72s/it]\n"
     ]
    },
    {
     "name": "stdout",
     "output_type": "stream",
     "text": [
      "2024-06-28 05:19:38 - Reading hazard map 143 of 183: flood_DERP_RW_M_4326_2080428500\n",
      "Flood map path: N:\\Projects\\11209000\\11209175\\B. Measurements and calculations\\Data\\basin_flood_hazard_maps\\flood_DERP_RW_M_4326_2080428500.geojson\n",
      "2024-06-28 05:19:39 - Coarse overlay of hazard map with assets...\n"
     ]
    },
    {
     "name": "stderr",
     "output_type": "stream",
     "text": [
      "0it [00:00, ?it/s]\n"
     ]
    },
    {
     "name": "stdout",
     "output_type": "stream",
     "text": [
      "2024-06-28 05:19:49 - Reading hazard map 144 of 183: flood_DERP_RW_M_4326_2080429430\n",
      "Flood map path: N:\\Projects\\11209000\\11209175\\B. Measurements and calculations\\Data\\basin_flood_hazard_maps\\flood_DERP_RW_M_4326_2080429430.geojson\n",
      "2024-06-28 05:19:53 - Coarse overlay of hazard map with assets...\n"
     ]
    },
    {
     "name": "stderr",
     "output_type": "stream",
     "text": [
      "100%|██████████| 46/46 [00:54<00:00,  1.18s/it]\n"
     ]
    },
    {
     "name": "stdout",
     "output_type": "stream",
     "text": [
      "2024-06-28 05:23:28 - Reading hazard map 145 of 183: flood_DERP_RW_M_4326_2080429540\n",
      "Flood map path: N:\\Projects\\11209000\\11209175\\B. Measurements and calculations\\Data\\basin_flood_hazard_maps\\flood_DERP_RW_M_4326_2080429540.geojson\n",
      "2024-06-28 05:23:44 - Coarse overlay of hazard map with assets...\n"
     ]
    },
    {
     "name": "stderr",
     "output_type": "stream",
     "text": [
      "100%|██████████| 6/6 [00:05<00:00,  1.05it/s]\n"
     ]
    },
    {
     "name": "stdout",
     "output_type": "stream",
     "text": [
      "2024-06-28 05:29:34 - Reading hazard map 146 of 183: flood_DERP_RW_M_4326_2080429670\n",
      "Flood map path: N:\\Projects\\11209000\\11209175\\B. Measurements and calculations\\Data\\basin_flood_hazard_maps\\flood_DERP_RW_M_4326_2080429670.geojson\n",
      "2024-06-28 05:29:34 - Coarse overlay of hazard map with assets...\n"
     ]
    },
    {
     "name": "stderr",
     "output_type": "stream",
     "text": [
      "0it [00:00, ?it/s]\n"
     ]
    },
    {
     "name": "stdout",
     "output_type": "stream",
     "text": [
      "2024-06-28 05:29:34 - Reading hazard map 147 of 183: flood_DERP_RW_M_4326_2080429770\n",
      "Flood map path: N:\\Projects\\11209000\\11209175\\B. Measurements and calculations\\Data\\basin_flood_hazard_maps\\flood_DERP_RW_M_4326_2080429770.geojson\n",
      "2024-06-28 05:29:36 - Coarse overlay of hazard map with assets...\n"
     ]
    },
    {
     "name": "stderr",
     "output_type": "stream",
     "text": [
      "100%|██████████| 54/54 [00:06<00:00,  8.25it/s]\n"
     ]
    },
    {
     "name": "stdout",
     "output_type": "stream",
     "text": [
      "2024-06-28 05:29:44 - Reading hazard map 148 of 183: flood_DERP_RW_M_4326_2080430240\n",
      "Flood map path: N:\\Projects\\11209000\\11209175\\B. Measurements and calculations\\Data\\basin_flood_hazard_maps\\flood_DERP_RW_M_4326_2080430240.geojson\n",
      "2024-06-28 05:29:49 - Coarse overlay of hazard map with assets...\n"
     ]
    },
    {
     "name": "stderr",
     "output_type": "stream",
     "text": [
      "100%|██████████| 27/27 [00:42<00:00,  1.59s/it]\n"
     ]
    },
    {
     "name": "stdout",
     "output_type": "stream",
     "text": [
      "2024-06-28 05:31:17 - Reading hazard map 149 of 183: flood_DERP_RW_M_4326_2080430320\n",
      "Flood map path: N:\\Projects\\11209000\\11209175\\B. Measurements and calculations\\Data\\basin_flood_hazard_maps\\flood_DERP_RW_M_4326_2080430320.geojson\n",
      "2024-06-28 05:31:21 - Coarse overlay of hazard map with assets...\n"
     ]
    },
    {
     "name": "stderr",
     "output_type": "stream",
     "text": [
      "100%|██████████| 33/33 [00:43<00:00,  1.33s/it]\n"
     ]
    },
    {
     "name": "stdout",
     "output_type": "stream",
     "text": [
      "2024-06-28 05:32:20 - Reading hazard map 150 of 183: flood_DERP_RW_M_4326_2080431110\n",
      "Flood map path: N:\\Projects\\11209000\\11209175\\B. Measurements and calculations\\Data\\basin_flood_hazard_maps\\flood_DERP_RW_M_4326_2080431110.geojson\n",
      "2024-06-28 05:32:26 - Coarse overlay of hazard map with assets...\n"
     ]
    },
    {
     "name": "stderr",
     "output_type": "stream",
     "text": [
      "100%|██████████| 75/75 [01:27<00:00,  1.16s/it]\n"
     ]
    },
    {
     "name": "stdout",
     "output_type": "stream",
     "text": [
      "2024-06-28 05:34:54 - Reading hazard map 151 of 183: flood_DERP_RW_M_4326_2080431660\n",
      "Flood map path: N:\\Projects\\11209000\\11209175\\B. Measurements and calculations\\Data\\basin_flood_hazard_maps\\flood_DERP_RW_M_4326_2080431660.geojson\n",
      "2024-06-28 05:35:08 - Coarse overlay of hazard map with assets...\n"
     ]
    },
    {
     "name": "stderr",
     "output_type": "stream",
     "text": [
      "100%|██████████| 2/2 [00:02<00:00,  1.03s/it]\n"
     ]
    },
    {
     "name": "stdout",
     "output_type": "stream",
     "text": [
      "2024-06-28 05:36:58 - Reading hazard map 152 of 183: flood_DERP_RW_M_4326_2080431750\n",
      "Flood map path: N:\\Projects\\11209000\\11209175\\B. Measurements and calculations\\Data\\basin_flood_hazard_maps\\flood_DERP_RW_M_4326_2080431750.geojson\n",
      "2024-06-28 05:37:13 - Coarse overlay of hazard map with assets...\n"
     ]
    },
    {
     "name": "stderr",
     "output_type": "stream",
     "text": [
      "0it [00:00, ?it/s]\n"
     ]
    },
    {
     "name": "stdout",
     "output_type": "stream",
     "text": [
      "2024-06-28 05:38:12 - Reading hazard map 153 of 183: flood_DERP_RW_M_4326_2080432400\n",
      "Flood map path: N:\\Projects\\11209000\\11209175\\B. Measurements and calculations\\Data\\basin_flood_hazard_maps\\flood_DERP_RW_M_4326_2080432400.geojson\n",
      "2024-06-28 05:38:20 - Coarse overlay of hazard map with assets...\n"
     ]
    },
    {
     "name": "stderr",
     "output_type": "stream",
     "text": [
      "100%|██████████| 7/7 [00:29<00:00,  4.27s/it]\n"
     ]
    },
    {
     "name": "stdout",
     "output_type": "stream",
     "text": [
      "2024-06-28 05:40:03 - Reading hazard map 154 of 183: flood_DERP_RW_M_4326_2080432510\n",
      "Flood map path: N:\\Projects\\11209000\\11209175\\B. Measurements and calculations\\Data\\basin_flood_hazard_maps\\flood_DERP_RW_M_4326_2080432510.geojson\n",
      "2024-06-28 05:40:29 - Coarse overlay of hazard map with assets...\n"
     ]
    },
    {
     "name": "stderr",
     "output_type": "stream",
     "text": [
      "100%|██████████| 28/28 [00:37<00:00,  1.36s/it]\n"
     ]
    },
    {
     "name": "stdout",
     "output_type": "stream",
     "text": [
      "2024-06-28 06:00:47 - Reading hazard map 155 of 183: flood_DERP_RW_M_4326_2080433520\n",
      "Flood map path: N:\\Projects\\11209000\\11209175\\B. Measurements and calculations\\Data\\basin_flood_hazard_maps\\flood_DERP_RW_M_4326_2080433520.geojson\n",
      "2024-06-28 06:00:51 - Coarse overlay of hazard map with assets...\n"
     ]
    },
    {
     "name": "stderr",
     "output_type": "stream",
     "text": [
      "0it [00:00, ?it/s]\n"
     ]
    },
    {
     "name": "stdout",
     "output_type": "stream",
     "text": [
      "2024-06-28 06:00:56 - Reading hazard map 156 of 183: flood_DERP_RW_M_4326_2080433740\n",
      "Flood map path: N:\\Projects\\11209000\\11209175\\B. Measurements and calculations\\Data\\basin_flood_hazard_maps\\flood_DERP_RW_M_4326_2080433740.geojson\n",
      "2024-06-28 06:01:20 - Coarse overlay of hazard map with assets...\n"
     ]
    },
    {
     "name": "stderr",
     "output_type": "stream",
     "text": [
      "0it [00:00, ?it/s]\n"
     ]
    },
    {
     "name": "stdout",
     "output_type": "stream",
     "text": [
      "2024-06-28 06:06:07 - Reading hazard map 157 of 183: flood_DERP_RW_M_4326_2080433960\n",
      "Flood map path: N:\\Projects\\11209000\\11209175\\B. Measurements and calculations\\Data\\basin_flood_hazard_maps\\flood_DERP_RW_M_4326_2080433960.geojson\n",
      "2024-06-28 06:06:51 - Coarse overlay of hazard map with assets...\n"
     ]
    },
    {
     "name": "stderr",
     "output_type": "stream",
     "text": [
      "0it [00:00, ?it/s]\n"
     ]
    },
    {
     "name": "stdout",
     "output_type": "stream",
     "text": [
      "2024-06-28 06:11:29 - Reading hazard map 158 of 183: flood_DERP_RW_M_4326_2080434150\n",
      "Flood map path: N:\\Projects\\11209000\\11209175\\B. Measurements and calculations\\Data\\basin_flood_hazard_maps\\flood_DERP_RW_M_4326_2080434150.geojson\n",
      "2024-06-28 06:11:33 - Coarse overlay of hazard map with assets...\n"
     ]
    },
    {
     "name": "stderr",
     "output_type": "stream",
     "text": [
      "0it [00:00, ?it/s]\n"
     ]
    },
    {
     "name": "stdout",
     "output_type": "stream",
     "text": [
      "2024-06-28 06:11:38 - Reading hazard map 159 of 183: flood_DERP_RW_M_4326_2080434280\n",
      "Flood map path: N:\\Projects\\11209000\\11209175\\B. Measurements and calculations\\Data\\basin_flood_hazard_maps\\flood_DERP_RW_M_4326_2080434280.geojson\n",
      "2024-06-28 06:11:44 - Coarse overlay of hazard map with assets...\n"
     ]
    },
    {
     "name": "stderr",
     "output_type": "stream",
     "text": [
      "100%|██████████| 4/4 [01:21<00:00, 20.33s/it]\n"
     ]
    },
    {
     "name": "stdout",
     "output_type": "stream",
     "text": [
      "2024-06-28 06:13:38 - Reading hazard map 160 of 183: flood_DERP_RW_M_4326_2080434470\n",
      "Flood map path: N:\\Projects\\11209000\\11209175\\B. Measurements and calculations\\Data\\basin_flood_hazard_maps\\flood_DERP_RW_M_4326_2080434470.geojson\n",
      "2024-06-28 06:14:12 - Coarse overlay of hazard map with assets...\n"
     ]
    },
    {
     "name": "stderr",
     "output_type": "stream",
     "text": [
      "100%|██████████| 51/51 [04:35<00:00,  5.39s/it]\n"
     ]
    },
    {
     "name": "stdout",
     "output_type": "stream",
     "text": [
      "2024-06-28 06:34:21 - Reading hazard map 161 of 183: flood_DERP_RW_M_4326_2080434490\n",
      "Flood map path: N:\\Projects\\11209000\\11209175\\B. Measurements and calculations\\Data\\basin_flood_hazard_maps\\flood_DERP_RW_M_4326_2080434490.geojson\n",
      "2024-06-28 06:34:33 - Coarse overlay of hazard map with assets...\n"
     ]
    },
    {
     "name": "stderr",
     "output_type": "stream",
     "text": [
      "100%|██████████| 40/40 [05:08<00:00,  7.71s/it]\n"
     ]
    },
    {
     "name": "stdout",
     "output_type": "stream",
     "text": [
      "2024-06-28 06:43:21 - Reading hazard map 162 of 183: flood_DERP_RW_M_4326_2080434630\n",
      "Flood map path: N:\\Projects\\11209000\\11209175\\B. Measurements and calculations\\Data\\basin_flood_hazard_maps\\flood_DERP_RW_M_4326_2080434630.geojson\n",
      "2024-06-28 06:44:05 - Coarse overlay of hazard map with assets...\n"
     ]
    },
    {
     "name": "stderr",
     "output_type": "stream",
     "text": [
      "100%|██████████| 67/67 [1:48:08<00:00, 96.85s/it]   \n"
     ]
    },
    {
     "name": "stdout",
     "output_type": "stream",
     "text": [
      "2024-06-28 09:40:24 - Reading hazard map 163 of 183: flood_DERP_RW_M_4326_2080435040\n",
      "Flood map path: N:\\Projects\\11209000\\11209175\\B. Measurements and calculations\\Data\\basin_flood_hazard_maps\\flood_DERP_RW_M_4326_2080435040.geojson\n",
      "2024-06-28 09:41:11 - Coarse overlay of hazard map with assets...\n"
     ]
    },
    {
     "name": "stderr",
     "output_type": "stream",
     "text": [
      "100%|██████████| 69/69 [17:23<00:00, 15.12s/it]\n"
     ]
    },
    {
     "name": "stdout",
     "output_type": "stream",
     "text": [
      "2024-06-28 10:43:06 - Reading hazard map 164 of 183: flood_DERP_RW_M_4326_2080435320\n",
      "Flood map path: N:\\Projects\\11209000\\11209175\\B. Measurements and calculations\\Data\\basin_flood_hazard_maps\\flood_DERP_RW_M_4326_2080435320.geojson\n",
      "2024-06-28 10:43:18 - Coarse overlay of hazard map with assets...\n"
     ]
    },
    {
     "name": "stderr",
     "output_type": "stream",
     "text": [
      "100%|██████████| 7/7 [01:24<00:00, 12.04s/it]\n"
     ]
    },
    {
     "name": "stdout",
     "output_type": "stream",
     "text": [
      "2024-06-28 10:46:40 - Reading hazard map 165 of 183: flood_DERP_RW_M_4326_2080436660\n",
      "Flood map path: N:\\Projects\\11209000\\11209175\\B. Measurements and calculations\\Data\\basin_flood_hazard_maps\\flood_DERP_RW_M_4326_2080436660.geojson\n",
      "2024-06-28 10:46:44 - Coarse overlay of hazard map with assets...\n"
     ]
    },
    {
     "name": "stderr",
     "output_type": "stream",
     "text": [
      "0it [00:00, ?it/s]\n"
     ]
    },
    {
     "name": "stdout",
     "output_type": "stream",
     "text": [
      "2024-06-28 10:46:51 - Reading hazard map 166 of 183: flood_DERP_RW_M_4326_2080436860\n",
      "Flood map path: N:\\Projects\\11209000\\11209175\\B. Measurements and calculations\\Data\\basin_flood_hazard_maps\\flood_DERP_RW_M_4326_2080436860.geojson\n",
      "2024-06-28 10:46:52 - Coarse overlay of hazard map with assets...\n"
     ]
    },
    {
     "name": "stderr",
     "output_type": "stream",
     "text": [
      "100%|██████████| 2/2 [00:00<00:00, 47.62it/s]\n"
     ]
    },
    {
     "name": "stdout",
     "output_type": "stream",
     "text": [
      "2024-06-28 10:46:53 - Reading hazard map 167 of 183: flood_DERP_RW_M_4326_2080436870\n",
      "Flood map path: N:\\Projects\\11209000\\11209175\\B. Measurements and calculations\\Data\\basin_flood_hazard_maps\\flood_DERP_RW_M_4326_2080436870.geojson\n",
      "2024-06-28 10:46:55 - Coarse overlay of hazard map with assets...\n"
     ]
    },
    {
     "name": "stderr",
     "output_type": "stream",
     "text": [
      "100%|██████████| 22/22 [00:18<00:00,  1.20it/s]\n"
     ]
    },
    {
     "name": "stdout",
     "output_type": "stream",
     "text": [
      "2024-06-28 10:47:23 - Reading hazard map 168 of 183: flood_DERP_RW_M_4326_2080437100\n",
      "Flood map path: N:\\Projects\\11209000\\11209175\\B. Measurements and calculations\\Data\\basin_flood_hazard_maps\\flood_DERP_RW_M_4326_2080437100.geojson\n",
      "2024-06-28 10:47:30 - Coarse overlay of hazard map with assets...\n"
     ]
    },
    {
     "name": "stderr",
     "output_type": "stream",
     "text": [
      "100%|██████████| 15/15 [00:49<00:00,  3.28s/it]\n"
     ]
    },
    {
     "name": "stdout",
     "output_type": "stream",
     "text": [
      "2024-06-28 10:50:52 - Reading hazard map 169 of 183: flood_DERP_RW_M_4326_2080437230\n",
      "Flood map path: N:\\Projects\\11209000\\11209175\\B. Measurements and calculations\\Data\\basin_flood_hazard_maps\\flood_DERP_RW_M_4326_2080437230.geojson\n",
      "2024-06-28 10:51:05 - Coarse overlay of hazard map with assets...\n"
     ]
    },
    {
     "name": "stderr",
     "output_type": "stream",
     "text": [
      "100%|██████████| 4/4 [00:08<00:00,  2.09s/it]\n"
     ]
    },
    {
     "name": "stdout",
     "output_type": "stream",
     "text": [
      "2024-06-28 10:55:24 - Reading hazard map 170 of 183: flood_DERP_RW_M_4326_2080437370\n",
      "Flood map path: N:\\Projects\\11209000\\11209175\\B. Measurements and calculations\\Data\\basin_flood_hazard_maps\\flood_DERP_RW_M_4326_2080437370.geojson\n",
      "2024-06-28 10:55:29 - Coarse overlay of hazard map with assets...\n"
     ]
    },
    {
     "name": "stderr",
     "output_type": "stream",
     "text": [
      "100%|██████████| 35/35 [05:05<00:00,  8.72s/it]\n"
     ]
    },
    {
     "name": "stdout",
     "output_type": "stream",
     "text": [
      "2024-06-28 11:01:33 - Reading hazard map 171 of 183: flood_DERP_RW_M_4326_2080438230\n",
      "Flood map path: N:\\Projects\\11209000\\11209175\\B. Measurements and calculations\\Data\\basin_flood_hazard_maps\\flood_DERP_RW_M_4326_2080438230.geojson\n",
      "2024-06-28 11:01:46 - Coarse overlay of hazard map with assets...\n"
     ]
    },
    {
     "name": "stderr",
     "output_type": "stream",
     "text": [
      "100%|██████████| 13/13 [00:41<00:00,  3.19s/it]\n"
     ]
    },
    {
     "name": "stdout",
     "output_type": "stream",
     "text": [
      "2024-06-28 11:12:56 - Reading hazard map 172 of 183: flood_DERP_RW_M_4326_2080438240\n",
      "Flood map path: N:\\Projects\\11209000\\11209175\\B. Measurements and calculations\\Data\\basin_flood_hazard_maps\\flood_DERP_RW_M_4326_2080438240.geojson\n",
      "2024-06-28 11:13:05 - Coarse overlay of hazard map with assets...\n"
     ]
    },
    {
     "name": "stderr",
     "output_type": "stream",
     "text": [
      "100%|██████████| 38/38 [00:20<00:00,  1.88it/s]\n"
     ]
    },
    {
     "name": "stdout",
     "output_type": "stream",
     "text": [
      "2024-06-28 11:14:55 - Reading hazard map 173 of 183: flood_DERP_RW_M_4326_2080438400\n",
      "Flood map path: N:\\Projects\\11209000\\11209175\\B. Measurements and calculations\\Data\\basin_flood_hazard_maps\\flood_DERP_RW_M_4326_2080438400.geojson\n",
      "2024-06-28 11:15:21 - Coarse overlay of hazard map with assets...\n"
     ]
    },
    {
     "name": "stderr",
     "output_type": "stream",
     "text": [
      "100%|██████████| 30/30 [08:57<00:00, 17.90s/it]\n"
     ]
    },
    {
     "name": "stdout",
     "output_type": "stream",
     "text": [
      "2024-06-28 11:37:30 - Reading hazard map 174 of 183: flood_DERP_RW_M_4326_2080438410\n",
      "Flood map path: N:\\Projects\\11209000\\11209175\\B. Measurements and calculations\\Data\\basin_flood_hazard_maps\\flood_DERP_RW_M_4326_2080438410.geojson\n",
      "2024-06-28 11:37:41 - Coarse overlay of hazard map with assets...\n"
     ]
    },
    {
     "name": "stderr",
     "output_type": "stream",
     "text": [
      "100%|██████████| 13/13 [07:59<00:00, 36.85s/it]\n"
     ]
    },
    {
     "name": "stdout",
     "output_type": "stream",
     "text": [
      "2024-06-28 11:48:43 - Reading hazard map 175 of 183: flood_DERP_RW_M_4326_2080439400\n",
      "Flood map path: N:\\Projects\\11209000\\11209175\\B. Measurements and calculations\\Data\\basin_flood_hazard_maps\\flood_DERP_RW_M_4326_2080439400.geojson\n",
      "2024-06-28 11:49:04 - Coarse overlay of hazard map with assets...\n"
     ]
    },
    {
     "name": "stderr",
     "output_type": "stream",
     "text": [
      "100%|██████████| 9/9 [00:05<00:00,  1.63it/s]\n"
     ]
    },
    {
     "name": "stdout",
     "output_type": "stream",
     "text": [
      "2024-06-28 12:06:37 - Reading hazard map 176 of 183: flood_DERP_RW_M_4326_2080439410\n",
      "Flood map path: N:\\Projects\\11209000\\11209175\\B. Measurements and calculations\\Data\\basin_flood_hazard_maps\\flood_DERP_RW_M_4326_2080439410.geojson\n",
      "2024-06-28 12:07:00 - Coarse overlay of hazard map with assets...\n"
     ]
    },
    {
     "name": "stderr",
     "output_type": "stream",
     "text": [
      "100%|██████████| 86/86 [02:06<00:00,  1.47s/it]\n"
     ]
    },
    {
     "name": "stdout",
     "output_type": "stream",
     "text": [
      "2024-06-28 12:15:19 - Reading hazard map 177 of 183: flood_DERP_RW_M_4326_2080441280\n",
      "Flood map path: N:\\Projects\\11209000\\11209175\\B. Measurements and calculations\\Data\\basin_flood_hazard_maps\\flood_DERP_RW_M_4326_2080441280.geojson\n",
      "2024-06-28 12:15:49 - Coarse overlay of hazard map with assets...\n"
     ]
    },
    {
     "name": "stderr",
     "output_type": "stream",
     "text": [
      "100%|██████████| 382/382 [11:53<00:00,  1.87s/it] \n"
     ]
    },
    {
     "name": "stdout",
     "output_type": "stream",
     "text": [
      "2024-06-28 13:10:53 - Reading hazard map 178 of 183: flood_DERP_RW_M_4326_2080446220\n",
      "Flood map path: N:\\Projects\\11209000\\11209175\\B. Measurements and calculations\\Data\\basin_flood_hazard_maps\\flood_DERP_RW_M_4326_2080446220.geojson\n",
      "2024-06-28 13:11:08 - Coarse overlay of hazard map with assets...\n"
     ]
    },
    {
     "name": "stderr",
     "output_type": "stream",
     "text": [
      "100%|██████████| 21/21 [01:16<00:00,  3.66s/it]\n"
     ]
    },
    {
     "name": "stdout",
     "output_type": "stream",
     "text": [
      "2024-06-28 13:18:26 - Reading hazard map 179 of 183: flood_DERP_RW_M_4326_2080446320\n",
      "Flood map path: N:\\Projects\\11209000\\11209175\\B. Measurements and calculations\\Data\\basin_flood_hazard_maps\\flood_DERP_RW_M_4326_2080446320.geojson\n",
      "2024-06-28 13:18:32 - Coarse overlay of hazard map with assets...\n"
     ]
    },
    {
     "name": "stderr",
     "output_type": "stream",
     "text": [
      "100%|██████████| 41/41 [00:07<00:00,  5.58it/s]\n"
     ]
    },
    {
     "name": "stdout",
     "output_type": "stream",
     "text": [
      "2024-06-28 13:18:47 - Reading hazard map 180 of 183: flood_DERP_RW_M_4326_2080447840\n",
      "Flood map path: N:\\Projects\\11209000\\11209175\\B. Measurements and calculations\\Data\\basin_flood_hazard_maps\\flood_DERP_RW_M_4326_2080447840.geojson\n",
      "2024-06-28 13:20:22 - Coarse overlay of hazard map with assets...\n"
     ]
    },
    {
     "name": "stderr",
     "output_type": "stream",
     "text": [
      "100%|██████████| 230/230 [25:27<00:00,  6.64s/it]  \n"
     ]
    },
    {
     "name": "stdout",
     "output_type": "stream",
     "text": [
      "2024-06-28 14:55:41 - Reading hazard map 181 of 183: flood_DERP_RW_M_4326_2080447970\n",
      "Flood map path: N:\\Projects\\11209000\\11209175\\B. Measurements and calculations\\Data\\basin_flood_hazard_maps\\flood_DERP_RW_M_4326_2080447970.geojson\n",
      "2024-06-28 14:55:56 - Coarse overlay of hazard map with assets...\n"
     ]
    },
    {
     "name": "stderr",
     "output_type": "stream",
     "text": [
      "100%|██████████| 11/11 [10:50<00:00, 59.14s/it]\n"
     ]
    },
    {
     "name": "stdout",
     "output_type": "stream",
     "text": [
      "2024-06-28 15:13:07 - Reading hazard map 182 of 183: flood_DERP_RW_M_4326_2080448120\n",
      "Flood map path: N:\\Projects\\11209000\\11209175\\B. Measurements and calculations\\Data\\basin_flood_hazard_maps\\flood_DERP_RW_M_4326_2080448120.geojson\n",
      "2024-06-28 15:13:17 - Coarse overlay of hazard map with assets...\n"
     ]
    },
    {
     "name": "stderr",
     "output_type": "stream",
     "text": [
      "100%|██████████| 6/6 [00:05<00:00,  1.15it/s]\n"
     ]
    },
    {
     "name": "stdout",
     "output_type": "stream",
     "text": [
      "2024-06-28 15:14:16 - Reading hazard map 183 of 183: flood_DERP_RW_M_4326_2080451930\n",
      "Flood map path: N:\\Projects\\11209000\\11209175\\B. Measurements and calculations\\Data\\basin_flood_hazard_maps\\flood_DERP_RW_M_4326_2080451930.geojson\n",
      "2024-06-28 15:14:19 - Coarse overlay of hazard map with assets...\n"
     ]
    },
    {
     "name": "stderr",
     "output_type": "stream",
     "text": [
      "100%|██████████| 7/7 [00:01<00:00,  3.80it/s]\n"
     ]
    }
   ],
   "source": [
    "# Calculate direct damage by asset (Koks. E.E. (2022). DamageScanner: Python tool for natural hazard damage assessments. Zenodo. http://doi.org/10.5281/zenodo.2551015)\n",
    "# currently data with 3 baseline return periods: H=RP10, M=RP100, L=RP200\n",
    "# TODO: for DEXX_RP, return period should be input or taken from dictionary/file names\n",
    "# TODO: verify cost of damage and adaptation regarding double rail or single rail, divide /2 if double rail? \n",
    "collect_output={}\n",
    "for i, single_footprint in enumerate(hazard_data_list):\n",
    "    hazard_name = single_footprint.parts[-1].split('.')[0]\n",
    "    timestamp = datetime.datetime.now().strftime(\"%Y-%m-%d %H:%M:%S\")\n",
    "    print(f'{timestamp} - Reading hazard map {i+1} of {len(hazard_data_list)}: {hazard_name}')\n",
    "\n",
    "    try:\n",
    "        collect_output[hazard_name] = process_hazard_data(single_footprint, hazard_type, assets, interim_data_path, infra_curves, max_damage_tables, curve_types, infra_type, type_dict, geom_dict)\n",
    "    except Exception as e:\n",
    "        print(f'Error occurred in {hazard_name}: {str(e)}')\n",
    "        continue\n",
    "\n",
    "# save the data to pickle files\n",
    "collect_output_path = f'{interim_data_path}/sample_collected_run.pkl'\n",
    "if len(collect_output)>0:\n",
    "    with open(collect_output_path, 'wb') as f:\n",
    "        pickle.dump(collect_output, f)\n",
    "else: print('No output collected')"
   ]
  },
  {
   "cell_type": "code",
   "execution_count": 7,
   "metadata": {},
   "outputs": [],
   "source": [
    "# Save the data to csv files\n",
    "sample_output_name=f'sample_collected_run_{datetime.datetime.now().strftime(\"%Y%m%d_%H%M%S\")}.csv'\n",
    "pd.DataFrame.from_dict(collect_output).to_csv(interim_data_path / sample_output_name)"
   ]
  },
  {
   "cell_type": "code",
   "execution_count": 13,
   "metadata": {},
   "outputs": [],
   "source": [
    "# if collected_output variable doesnt exist, load from pickle file\n",
    "if 'collect_output' not in locals():\n",
    "    collect_output_path = f'{interim_data_path}/sample_collected_run.pkl'\n",
    "    with open(collect_output_path, 'rb') as f:\n",
    "        collect_output = pickle.load(f)"
   ]
  },
  {
   "cell_type": "code",
   "execution_count": 10,
   "metadata": {},
   "outputs": [
    {
     "data": {
      "text/html": [
       "<div>\n",
       "<style scoped>\n",
       "    .dataframe tbody tr th:only-of-type {\n",
       "        vertical-align: middle;\n",
       "    }\n",
       "\n",
       "    .dataframe tbody tr th {\n",
       "        vertical-align: top;\n",
       "    }\n",
       "\n",
       "    .dataframe thead th {\n",
       "        text-align: right;\n",
       "    }\n",
       "</style>\n",
       "<table border=\"1\" class=\"dataframe\">\n",
       "  <thead>\n",
       "    <tr style=\"text-align: right;\">\n",
       "      <th></th>\n",
       "      <th>Total Damage Lower Bound</th>\n",
       "      <th>Total Damage Upper Bound</th>\n",
       "    </tr>\n",
       "  </thead>\n",
       "  <tbody>\n",
       "    <tr>\n",
       "      <th>_H_</th>\n",
       "      <td>1.882864e+08</td>\n",
       "      <td>2.672386e+08</td>\n",
       "    </tr>\n",
       "    <tr>\n",
       "      <th>_M_</th>\n",
       "      <td>1.056086e+09</td>\n",
       "      <td>2.040824e+09</td>\n",
       "    </tr>\n",
       "    <tr>\n",
       "      <th>_L_</th>\n",
       "      <td>3.026024e+09</td>\n",
       "      <td>6.302032e+09</td>\n",
       "    </tr>\n",
       "  </tbody>\n",
       "</table>\n",
       "</div>"
      ],
      "text/plain": [
       "     Total Damage Lower Bound  Total Damage Upper Bound\n",
       "_H_              1.882864e+08              2.672386e+08\n",
       "_M_              1.056086e+09              2.040824e+09\n",
       "_L_              3.026024e+09              6.302032e+09"
      ]
     },
     "execution_count": 10,
     "metadata": {},
     "output_type": "execute_result"
    }
   ],
   "source": [
    "# Calculate the expected annual damages (EAD)\n",
    "summed_output = {}\n",
    "# Iterate over the items in the collect_output dictionary\n",
    "for hazard_map, asset_dict in collect_output.items():\n",
    "    # If the hazard_map and hazard_curve combination is not already in the summed_output dictionary, add it with the sum of the current lower and upper bounds\n",
    "    if hazard_map not in summed_output:\n",
    "        summed_output[hazard_map] = (sum(value[0] for value in asset_dict.values()), sum(value[1] for value in asset_dict.values()))\n",
    "    # If the hazard_map and hazard_curve combination is already in the summed_output dictionary, add the sum of the current lower and upper bounds to the existing ones\n",
    "    else:\n",
    "        summed_output[hazard_map][0] += sum(value[0] for value in asset_dict.values())\n",
    "        summed_output[hazard_map][1] += sum(value[1] for value in asset_dict.values())\n",
    "\n",
    "# Initialize a new dictionary to hold the aggregated values\n",
    "aggregated_output = {'_H_': [0, 0], '_M_': [0, 0], '_L_': [0, 0]}\n",
    "\n",
    "# Iterate over the items in the summed_output dictionary and group into return periods\n",
    "for hazard_map, (lower_bound, upper_bound) in summed_output.items():\n",
    "    # determine the category of the hazard map\n",
    "    if '_H_' in hazard_map: \n",
    "        category = '_H_'\n",
    "    elif '_M_' in hazard_map: \n",
    "        category = '_M_'\n",
    "    else: # '_L_' in hazard_map\n",
    "        category = '_L_' \n",
    "        \n",
    "    # Add the lower and upper bounds to the appropriate category\n",
    "    aggregated_output[category][0] += lower_bound\n",
    "    aggregated_output[category][1] += upper_bound\n",
    "\n",
    "# Create the DataFrame from the new dictionary\n",
    "aggregated_df = pd.DataFrame.from_dict(aggregated_output, orient='index', columns=['Total Damage Lower Bound', 'Total Damage Upper Bound'])\n",
    "aggregated_df\n"
   ]
  },
  {
   "cell_type": "code",
   "execution_count": 11,
   "metadata": {},
   "outputs": [
    {
     "name": "stdout",
     "output_type": "stream",
     "text": [
      "Baseline expected annual damages: 95,453,645.19 to 176,273,009.45 EUR\n",
      "Expected annual damages without adaptation by year 100: 390,316,811.17 to 762,032,583.11 EUR\n"
     ]
    },
    {
     "data": {
      "image/png": "[encoded data removed]",
      "text/plain": [
       "<Figure size 640x480 with 1 Axes>"
      ]
     },
     "metadata": {},
     "output_type": "display_data"
    }
   ],
   "source": [
    "# Define the baseline return periods \n",
    "\"\"\"\n",
    "Return period definitions for Rhineland Palatinate (DERP) based on the report by Rauthe M, et al. (2020):\n",
    "_H_=10-25y \n",
    "_M_=100y\n",
    "_L_=200y\n",
    "\"\"\"\n",
    "return_period_dict = {'_H_': 10,'_M_': 100,'_L_': 200}\n",
    "\n",
    "# Add climate change: calculate the dynamic return periods based on flat increase factors. \n",
    "# This value has been catchment-specific with frequency increasing in some regions and decreasing in others. \n",
    "# It is reasonable that in the future, the frequency will continue to change differently by catchment.\n",
    "\n",
    "increase_factor = {\n",
    "    '_H_': (1.2+9.0)/2,\n",
    "    '_M_': (1.2+9.0)/2,\n",
    "    '_L_': (1.2+9.0)/2 #average of the range (1.2 to 9.0) based on change since 1900\n",
    "}\n",
    "\n",
    "num_years = 100\n",
    "return_periods = calculate_dynamic_return_periods(return_period_dict, num_years, increase_factor)\n",
    "\n",
    "# Define dictionary to relate return periods to regions, in this case Rheinland Palatinate is used\n",
    "return_period_dict = {}\n",
    "return_period_dict['DERP'] = return_periods #TODO: make generic for other regions\n",
    "\n",
    "# Add the return period column to aggregated_df and sort by return period\n",
    "aggregated_df['Return Period'] = [return_period_dict['DERP'][index] for index in aggregated_df.index]\n",
    "aggregated_df = aggregated_df.sort_values('Return Period', ascending=True)\n",
    "\n",
    "# Calculate the probability of each return period \n",
    "aggregated_df['Probability'] = [[1 / x for x in i] for i in aggregated_df['Return Period']]\n",
    "probabilities = aggregated_df['Probability']\n",
    "dmgs = []\n",
    "\n",
    "# Calculate the expected annual damages for each time step using trapezoidal rule for integration\n",
    "for ts in range(len(probabilities.iloc[0])):    \n",
    "    dmgs_l = []\n",
    "    dmgs_u = []\n",
    "\n",
    "    for rp in range(len(probabilities)-1):\n",
    "        d_rp= probabilities.iloc[rp][ts] - probabilities.iloc[rp + 1][ts]\n",
    "        trap_damage_l = 0.5 * (aggregated_df['Total Damage Lower Bound'].iloc[rp] + aggregated_df['Total Damage Lower Bound'].iloc[rp + 1])\n",
    "        trap_damage_u = 0.5 * (aggregated_df['Total Damage Upper Bound'].iloc[rp] + aggregated_df['Total Damage Upper Bound'].iloc[rp + 1])\n",
    "        dmgs_l.append(d_rp * trap_damage_l)\n",
    "        dmgs_u.append(d_rp * trap_damage_u)\n",
    "    \n",
    "    # Add the portion of damages corresponding to the tails of the distribution\n",
    "    # Assumption - considers the damage for return periods higher than the highest return period the same as that of the highest return period\n",
    "    d0_rp = probabilities.iloc[-1][ts]\n",
    "    damage_l0 = max(aggregated_df['Total Damage Lower Bound'])\n",
    "    damage_u0 = max(aggregated_df['Total Damage Upper Bound'])\n",
    "    dmgs_l.append(d0_rp * damage_l0)\n",
    "    dmgs_u.append(d0_rp * damage_u0)\n",
    "\n",
    "    # Assumption - considers that no assets are damaged at a return period of 4 years or lower\n",
    "    d_end_rp = (1/4)-probabilities.iloc[0][ts]\n",
    "    damage_l_end = 0.5 * min(aggregated_df['Total Damage Lower Bound'])\n",
    "    damage_u_end = 0.5 * min(aggregated_df['Total Damage Upper Bound'])\n",
    "    dmgs_l.append(d_end_rp * damage_l_end)\n",
    "    dmgs_u.append(d_end_rp * damage_u_end)\n",
    "\n",
    "    dmgs.append((sum(dmgs_l), sum(dmgs_u)))\n",
    "\n",
    "ead_by_ts = pd.DataFrame(dmgs, columns=['Total Damage Lower Bound', 'Total Damage Upper Bound'])\n",
    "\n",
    "print(f'Baseline expected annual damages: {dmgs[0][0]:,.2f} to {dmgs[0][1]:,.2f} EUR')\n",
    "print(f'Expected annual damages without adaptation by year {num_years}: {dmgs[-1][0]:,.2f} to {dmgs[-1][1]:,.2f} EUR')\n",
    "\n",
    "ead_by_ts_plot(ead_by_ts)"
   ]
  },
  {
   "cell_type": "code",
   "execution_count": 14,
   "metadata": {},
   "outputs": [
    {
     "data": {
      "text/plain": [
       "{'flood_DERP_RW_H_4326_2080410170': (7040397.55486664, 8389970.603221064),\n",
       " 'flood_DERP_RW_H_4326_2080410430': (892199.8753125762, 1550965.8918992947),\n",
       " 'flood_DERP_RW_H_4326_2080410540': (7375999.857053701, 7727634.585769907),\n",
       " 'flood_DERP_RW_H_4326_2080410660': (5504243.607141398, 6400424.699444689),\n",
       " 'flood_DERP_RW_H_4326_2080410760': (67939.77604095117, 295071.43115233904),\n",
       " 'flood_DERP_RW_H_4326_2080411370': (3706407.631635442, 13355041.119988918),\n",
       " 'flood_DERP_RW_H_4326_2080416200': (371968.07039315416, 588934.6375495153),\n",
       " 'flood_DERP_RW_H_4326_2080416210': (2223105.2839304516, 5680770.2349705845),\n",
       " 'flood_DERP_RW_H_4326_2080418600': (6207491.540684264, 18525138.92967371),\n",
       " 'flood_DERP_RW_H_4326_2080418720': (5020.465788654236, 15926.647411924989),\n",
       " 'flood_DERP_RW_H_4326_2080418880': (242426.27150063723, 312861.29264710436),\n",
       " 'flood_DERP_RW_H_4326_2080418890': (11053026.570217393, 12163563.215587078),\n",
       " 'flood_DERP_RW_H_4326_2080419070': (8523.82544898914, 8523.82544898914),\n",
       " 'flood_DERP_RW_H_4326_2080419180': (2880255.8935010675, 9692048.734889226),\n",
       " 'flood_DERP_RW_H_4326_2080420240': (24959922.63413646, 30848816.73779226),\n",
       " 'flood_DERP_RW_H_4326_2080420340': (7621551.562073344, 7772956.316594326),\n",
       " 'flood_DERP_RW_H_4326_2080421680': (6542425.379742696, 8548625.299272066),\n",
       " 'flood_DERP_RW_H_4326_2080421770': (3352819.588216489, 3804317.300854947),\n",
       " 'flood_DERP_RW_H_4326_2080428080': (0, 0),\n",
       " 'flood_DERP_RW_H_4326_2080428160': (4658193.612706736, 5189062.875725242),\n",
       " 'flood_DERP_RW_H_4326_2080428500': (0, 0),\n",
       " 'flood_DERP_RW_H_4326_2080429430': (4118373.4156914693, 4638007.8955345955),\n",
       " 'flood_DERP_RW_H_4326_2080429540': (52292.21053105526, 193744.64855707716),\n",
       " 'flood_DERP_RW_H_4326_2080429670': (0, 0),\n",
       " 'flood_DERP_RW_H_4326_2080429770': (4006048.652197741, 4378659.398834566),\n",
       " 'flood_DERP_RW_H_4326_2080430240': (657224.2866936433, 6309818.800290336),\n",
       " 'flood_DERP_RW_H_4326_2080430320': (4935542.724579345, 5057931.2126680035),\n",
       " 'flood_DERP_RW_H_4326_2080431110': (0, 0),\n",
       " 'flood_DERP_RW_H_4326_2080431660': (257162.32871946855, 363820.04469564126),\n",
       " 'flood_DERP_RW_H_4326_2080431750': (0, 0),\n",
       " 'flood_DERP_RW_H_4326_2080432400': (24626.29671743296, 109653.36717323522),\n",
       " 'flood_DERP_RW_H_4326_2080432510': (5527290.483681441, 7268480.235313788),\n",
       " 'flood_DERP_RW_H_4326_2080433520': (0, 0),\n",
       " 'flood_DERP_RW_H_4326_2080433740': (0, 0),\n",
       " 'flood_DERP_RW_H_4326_2080433960': (0, 0),\n",
       " 'flood_DERP_RW_H_4326_2080434150': (0, 0),\n",
       " 'flood_DERP_RW_H_4326_2080434280': (13751.956948842204, 23166.446819780376),\n",
       " 'flood_DERP_RW_H_4326_2080434470': (4646738.478401005, 6572844.553441079),\n",
       " 'flood_DERP_RW_H_4326_2080434490': (3155803.108893321, 4463934.898354573),\n",
       " 'flood_DERP_RW_H_4326_2080434630': (6132242.337757783, 6358705.243821111),\n",
       " 'flood_DERP_RW_H_4326_2080435040': (14843373.29128744, 18895470.02836103),\n",
       " 'flood_DERP_RW_H_4326_2080435320': (870590.2162292658, 1163060.1635434441),\n",
       " 'flood_DERP_RW_H_4326_2080436660': (0, 0),\n",
       " 'flood_DERP_RW_H_4326_2080436860': (0, 0),\n",
       " 'flood_DERP_RW_H_4326_2080436870': (0, 0),\n",
       " 'flood_DERP_RW_H_4326_2080437100': (12747.634604098825, 70160.66889209225),\n",
       " 'flood_DERP_RW_H_4326_2080437230': (1053445.8992571763, 1055559.6408545817),\n",
       " 'flood_DERP_RW_H_4326_2080437370': (10707.157832714292, 24989.409462270844),\n",
       " 'flood_DERP_RW_H_4326_2080438230': (498825.26733484503, 603243.7359155939),\n",
       " 'flood_DERP_RW_H_4326_2080438240': (3525756.4164186167, 7386903.9978804225),\n",
       " 'flood_DERP_RW_H_4326_2080438400': (2020772.349215177, 2858828.38562454),\n",
       " 'flood_DERP_RW_H_4326_2080438410': (163999.01372801868, 473145.7287773051),\n",
       " 'flood_DERP_RW_H_4326_2080439400': (0, 0),\n",
       " 'flood_DERP_RW_H_4326_2080439410': (9874439.788209463, 13128656.324256964),\n",
       " 'flood_DERP_RW_H_4326_2080441280': (11657270.26569508, 13111431.562142398),\n",
       " 'flood_DERP_RW_H_4326_2080446220': (349287.5120196777, 1521816.5344422532),\n",
       " 'flood_DERP_RW_H_4326_2080446320': (0, 0),\n",
       " 'flood_DERP_RW_H_4326_2080447840': (14373687.39400069, 19277426.551121574),\n",
       " 'flood_DERP_RW_H_4326_2080447970': (250773.15060023527, 455413.1379039397),\n",
       " 'flood_DERP_RW_H_4326_2080448120': (0, 0),\n",
       " 'flood_DERP_RW_H_4326_2080451930': (539707.9685242525, 603039.0796998076),\n",
       " 'flood_DERP_RW_L_4326_2080410170': (9435585.940512856, 11150470.884313915),\n",
       " 'flood_DERP_RW_L_4326_2080410430': (1900023.5502885466, 2612564.4233460473),\n",
       " 'flood_DERP_RW_L_4326_2080410540': (10638843.07104288, 20336313.54248233),\n",
       " 'flood_DERP_RW_L_4326_2080410660': (7149386.172858984, 7348694.0831638025),\n",
       " 'flood_DERP_RW_L_4326_2080410760': (226556.30918522232, 472769.4194533181),\n",
       " 'flood_DERP_RW_L_4326_2080411370': (74902682.93510352, 217676348.97581798),\n",
       " 'flood_DERP_RW_L_4326_2080416200': (1289100.7997082649, 1656499.9830870815),\n",
       " 'flood_DERP_RW_L_4326_2080416210': (224060936.75219318, 515944055.0506774),\n",
       " 'flood_DERP_RW_L_4326_2080418600': (33921257.5899567, 61380431.53004015),\n",
       " 'flood_DERP_RW_L_4326_2080418720': (612341.648922563, 3903044.979436064),\n",
       " 'flood_DERP_RW_L_4326_2080418880': (3169335.567377737, 8276907.260733957),\n",
       " 'flood_DERP_RW_L_4326_2080418890': (21113464.644255463, 62093814.86733225),\n",
       " 'flood_DERP_RW_L_4326_2080419070': (417304.49765987624, 433173.41827035917),\n",
       " 'flood_DERP_RW_L_4326_2080419180': (165190718.11374456, 249564799.23773983),\n",
       " 'flood_DERP_RW_L_4326_2080420240': (134999724.43115824, 360998254.59777504),\n",
       " 'flood_DERP_RW_L_4326_2080420340': (87687571.56351113, 113537660.26566604),\n",
       " 'flood_DERP_RW_L_4326_2080421680': (109312663.60118073, 256096164.45301148),\n",
       " 'flood_DERP_RW_L_4326_2080421770': (87694440.6181768, 238521938.84111157),\n",
       " 'flood_DERP_RW_L_4326_2080428080': (0, 0),\n",
       " 'flood_DERP_RW_L_4326_2080428160': (5628806.22449402, 5711408.586753831),\n",
       " 'flood_DERP_RW_L_4326_2080428500': (314526.82454131154, 12350361.599868998),\n",
       " 'flood_DERP_RW_L_4326_2080429430': (31524697.548371196, 107742698.87031956),\n",
       " 'flood_DERP_RW_L_4326_2080429540': (805753.3866439699, 1018264.1007777465),\n",
       " 'flood_DERP_RW_L_4326_2080429670': (0, 0),\n",
       " 'flood_DERP_RW_L_4326_2080429770': (161535020.22421464, 272579831.5924809),\n",
       " 'flood_DERP_RW_L_4326_2080430240': (80739402.89630353, 138539702.86342138),\n",
       " 'flood_DERP_RW_L_4326_2080430320': (16444463.670406036, 39402912.55773436),\n",
       " 'flood_DERP_RW_L_4326_2080431110': (116027005.39525007, 295570338.5918004),\n",
       " 'flood_DERP_RW_L_4326_2080431660': (371564.42963871965, 452993.21408067737),\n",
       " 'flood_DERP_RW_L_4326_2080431750': (0, 0),\n",
       " 'flood_DERP_RW_L_4326_2080432400': (28032.940165508062, 163747.5787850439),\n",
       " 'flood_DERP_RW_L_4326_2080432510': (14164508.728451105, 18680941.97048811),\n",
       " 'flood_DERP_RW_L_4326_2080433520': (0, 0),\n",
       " 'flood_DERP_RW_L_4326_2080433740': (0, 0),\n",
       " 'flood_DERP_RW_L_4326_2080433960': (0, 0),\n",
       " 'flood_DERP_RW_L_4326_2080434150': (0, 0),\n",
       " 'flood_DERP_RW_L_4326_2080434280': (10478090.941002062, 31321381.48293857),\n",
       " 'flood_DERP_RW_L_4326_2080434470': (47206093.56009303, 161635708.71683457),\n",
       " 'flood_DERP_RW_L_4326_2080434490': (4418129.114846033, 6516322.273179325),\n",
       " 'flood_DERP_RW_L_4326_2080434630': (178447148.295615, 315929359.69822246),\n",
       " 'flood_DERP_RW_L_4326_2080435040': (26645345.12026469, 45378463.667066544),\n",
       " 'flood_DERP_RW_L_4326_2080435320': (8043204.395392576, 29288250.360782295),\n",
       " 'flood_DERP_RW_L_4326_2080436660': (0, 0),\n",
       " 'flood_DERP_RW_L_4326_2080436860': (134991.3433669364, 200786.70762679633),\n",
       " 'flood_DERP_RW_L_4326_2080436870': (24689936.150340285, 38226036.78355177),\n",
       " 'flood_DERP_RW_L_4326_2080437100': (4820218.611506353, 9346662.245997204),\n",
       " 'flood_DERP_RW_L_4326_2080437230': (1523867.804338427, 1585241.8311886182),\n",
       " 'flood_DERP_RW_L_4326_2080437370': (109503551.69869798, 254859369.32526898),\n",
       " 'flood_DERP_RW_L_4326_2080438230': (1981181.0333922931, 4517405.112861683),\n",
       " 'flood_DERP_RW_L_4326_2080438240': (51688703.83940499, 86753644.5797249),\n",
       " 'flood_DERP_RW_L_4326_2080438400': (11249044.652900841, 38537273.01529181),\n",
       " 'flood_DERP_RW_L_4326_2080438410': (814097.2207722409, 3650450.778454502),\n",
       " 'flood_DERP_RW_L_4326_2080439400': (1577400.3745261505, 14329181.90006172),\n",
       " 'flood_DERP_RW_L_4326_2080439410': (397778796.3766384, 707412761.0851469),\n",
       " 'flood_DERP_RW_L_4326_2080441280': (345988148.0269337, 855917560.1330317),\n",
       " 'flood_DERP_RW_L_4326_2080446220': (8226665.420283427, 22468911.26871006),\n",
       " 'flood_DERP_RW_L_4326_2080446320': (185345937.3334828, 185517217.76527023),\n",
       " 'flood_DERP_RW_L_4326_2080447840': (202264798.76860866, 455863701.1350948),\n",
       " 'flood_DERP_RW_L_4326_2080447970': (586525.8134774934, 3545464.665430337),\n",
       " 'flood_DERP_RW_L_4326_2080448120': (649397.2790631091, 1336049.1122195553),\n",
       " 'flood_DERP_RW_L_4326_2080451930': (657130.7705348851, 3677759.9168601227),\n",
       " 'flood_DERP_RW_M_4326_2080410170': (7893536.069243077, 9597040.311225858),\n",
       " 'flood_DERP_RW_M_4326_2080410430': (1424950.6632752381, 1770455.9612898298),\n",
       " 'flood_DERP_RW_M_4326_2080410540': (7993356.817129455, 8565599.067890959),\n",
       " 'flood_DERP_RW_M_4326_2080410660': (6268519.297455836, 7001397.695600477),\n",
       " 'flood_DERP_RW_M_4326_2080410760': (109570.85745488209, 360629.2837511846),\n",
       " 'flood_DERP_RW_M_4326_2080411370': (21973749.266109113, 30350436.928871177),\n",
       " 'flood_DERP_RW_M_4326_2080416200': (515796.36355988134, 743828.7434325991),\n",
       " 'flood_DERP_RW_M_4326_2080416210': (19651387.27429098, 62271152.881619245),\n",
       " 'flood_DERP_RW_M_4326_2080418600': (19819543.91267718, 27045494.01059245),\n",
       " 'flood_DERP_RW_M_4326_2080418720': (82296.39027966835, 136697.71085445187),\n",
       " 'flood_DERP_RW_M_4326_2080418880': (499317.76516308554, 847233.2581500371),\n",
       " 'flood_DERP_RW_M_4326_2080418890': (12849115.288526092, 13626282.047415208),\n",
       " 'flood_DERP_RW_M_4326_2080419070': (108123.31578708932, 170885.14545222133),\n",
       " 'flood_DERP_RW_M_4326_2080419180': (31107208.934774682, 53010137.959861286),\n",
       " 'flood_DERP_RW_M_4326_2080420240': (20746950.848446846, 23775026.903409716),\n",
       " 'flood_DERP_RW_M_4326_2080420340': (12499230.461554714, 22640584.286526527),\n",
       " 'flood_DERP_RW_M_4326_2080421680': (13031832.567491816, 20970119.71318847),\n",
       " 'flood_DERP_RW_M_4326_2080421770': (7174626.995378051, 11503482.020439185),\n",
       " 'flood_DERP_RW_M_4326_2080428080': (0, 0),\n",
       " 'flood_DERP_RW_M_4326_2080428160': (5462708.620819624, 5551586.347245853),\n",
       " 'flood_DERP_RW_M_4326_2080428500': (0, 0),\n",
       " 'flood_DERP_RW_M_4326_2080429430': (6516101.019987118, 16271732.11258031),\n",
       " 'flood_DERP_RW_M_4326_2080429540': (111458.65870264712, 255932.91419320888),\n",
       " 'flood_DERP_RW_M_4326_2080429670': (0, 0),\n",
       " 'flood_DERP_RW_M_4326_2080429770': (41636520.835478224, 145792974.47485742),\n",
       " 'flood_DERP_RW_M_4326_2080430240': (10957817.673652438, 44934019.72393225),\n",
       " 'flood_DERP_RW_M_4326_2080430320': (5104070.734309353, 6639721.688060726),\n",
       " 'flood_DERP_RW_M_4326_2080431110': (34855942.763104215, 74730107.89660282),\n",
       " 'flood_DERP_RW_M_4326_2080431660': (315813.70998804196, 393485.0818204896),\n",
       " 'flood_DERP_RW_M_4326_2080431750': (0, 0),\n",
       " 'flood_DERP_RW_M_4326_2080432400': (186631.65623597702, 288588.6386580424),\n",
       " 'flood_DERP_RW_M_4326_2080432510': (10840610.852860304, 14236073.846328383),\n",
       " 'flood_DERP_RW_M_4326_2080433520': (0, 0),\n",
       " 'flood_DERP_RW_M_4326_2080433740': (0, 0),\n",
       " 'flood_DERP_RW_M_4326_2080433960': (0, 0),\n",
       " 'flood_DERP_RW_M_4326_2080434150': (0, 0),\n",
       " 'flood_DERP_RW_M_4326_2080434280': (1591573.086137585, 3294114.812864901),\n",
       " 'flood_DERP_RW_M_4326_2080434470': (6457205.293762752, 11774327.749849042),\n",
       " 'flood_DERP_RW_M_4326_2080434490': (4091161.5913483193, 5296625.18498582),\n",
       " 'flood_DERP_RW_M_4326_2080434630': (26517241.213465016, 49504299.797976136),\n",
       " 'flood_DERP_RW_M_4326_2080435040': (18526207.46043159, 20886447.379805896),\n",
       " 'flood_DERP_RW_M_4326_2080435320': (1346405.320583112, 3489424.631885061),\n",
       " 'flood_DERP_RW_M_4326_2080436660': (0, 0),\n",
       " 'flood_DERP_RW_M_4326_2080436860': (0.0, 34077.92763550699),\n",
       " 'flood_DERP_RW_M_4326_2080436870': (6406470.1951433765, 22079323.33327229),\n",
       " 'flood_DERP_RW_M_4326_2080437100': (214426.43639530448, 442848.4141073965),\n",
       " 'flood_DERP_RW_M_4326_2080437230': (1054839.3515917687, 1137555.4370877217),\n",
       " 'flood_DERP_RW_M_4326_2080437370': (6472793.623571397, 32903371.5985239),\n",
       " 'flood_DERP_RW_M_4326_2080438230': (705721.1983105474, 1366373.9341545447),\n",
       " 'flood_DERP_RW_M_4326_2080438240': (11833205.784489028, 37212364.25964671),\n",
       " 'flood_DERP_RW_M_4326_2080438400': (2604918.5055463645, 7719636.905701166),\n",
       " 'flood_DERP_RW_M_4326_2080438410': (480254.8730555059, 2027860.1809934073),\n",
       " 'flood_DERP_RW_M_4326_2080439400': (2200.460089642548, 1895679.3904036866),\n",
       " 'flood_DERP_RW_M_4326_2080439410': (144126461.6972962, 289292527.2337521),\n",
       " 'flood_DERP_RW_M_4326_2080441280': (146935047.33789083, 346923126.67142516),\n",
       " 'flood_DERP_RW_M_4326_2080446220': (3799605.980515936, 9156006.058939893),\n",
       " 'flood_DERP_RW_M_4326_2080446320': (183399301.93614203, 183960496.09139198),\n",
       " 'flood_DERP_RW_M_4326_2080447840': (188977756.33734277, 404314412.9428233),\n",
       " 'flood_DERP_RW_M_4326_2080447970': (310878.7929405937, 1011376.4374549341),\n",
       " 'flood_DERP_RW_M_4326_2080448120': (41930.665518240465, 1069896.35920603),\n",
       " 'flood_DERP_RW_M_4326_2080451930': (453843.76291508443, 551141.5423287449)}"
      ]
     },
     "execution_count": 14,
     "metadata": {},
     "output_type": "execute_result"
    }
   ],
   "source": [
    "# Calculate the expected annual damages (EAD)\n",
    "summed_output = {}\n",
    "# Iterate over the items in the collect_output dictionary\n",
    "for hazard_map, asset_dict in collect_output.items():\n",
    "    # If the hazard_map and hazard_curve combination is not already in the summed_output dictionary, add it with the sum of the current lower and upper bounds\n",
    "    if hazard_map not in summed_output:\n",
    "        summed_output[hazard_map] = (sum(value[0] for value in asset_dict.values()), sum(value[1] for value in asset_dict.values()))\n",
    "    # If the hazard_map and hazard_curve combination is already in the summed_output dictionary, add the sum of the current lower and upper bounds to the existing ones\n",
    "    else:\n",
    "        summed_output[hazard_map][0] += sum(value[0] for value in asset_dict.values())\n",
    "        summed_output[hazard_map][1] += sum(value[1] for value in asset_dict.values())\n",
    "\n",
    "summed_output"
   ]
  },
  {
   "cell_type": "code",
   "execution_count": 17,
   "metadata": {},
   "outputs": [],
   "source": [
    "files = [file for file in os.listdir(interim_data_path) if file.endswith('.pkl') and file.startswith('overlay')]\n",
    "basins_list=list(set([int(file.split('.')[0].split('_')[-1]) for file in files]))\n",
    "# summed_output  is a dicitonary of with keys as the hazard map names and values as a tuple of the lower and upper bounds of the total damage\n",
    "# example: {'flood_DERP_RW_H_4326_2080411370': (3706407.631635442, 13355041.119988918),\n",
    "\n",
    "# for a list of all the basins in the region, retrieve the upper and lower damage bounds for each basin and skip if the basin is not a key in the summed_output dictionary\n",
    "\n",
    "# create a dictionary of dictionaries with the basin number as the level 1 key, the category (ie \"H\") as the level 2 key and the upper and lower bounds as the values\n",
    "basin_dict = {}\n",
    "for basin in basins_list:\n",
    "    basin_dict[basin] = {}\n",
    "    for key in summed_output.keys():\n",
    "        if str(basin) in key:\n",
    "            basin_dict[basin][key.split('_RW')[-1][0:3]] = summed_output[key]\n",
    "\n",
    "\n",
    "aggregated_df_by_basin = {}\n",
    "ead_by_ts_by_basin = {}\n",
    "\n",
    "for basin, damage_dict in basin_dict.items():\n",
    "    if len(damage_dict) == 0:\n",
    "        continue\n",
    "    aggregated_df_by_basin[basin] = pd.DataFrame.from_dict(damage_dict, orient='index', columns=['Total Damage Lower Bound', 'Total Damage Upper Bound'])\n",
    "    aggregated_df_by_basin[basin]['Return Period'] = [return_period_dict['DERP'][index] for index in aggregated_df_by_basin[basin].index]\n",
    "    aggregated_df_by_basin[basin] = aggregated_df_by_basin[basin].sort_values('Return Period', ascending=True)\n",
    "    aggregated_df_by_basin[basin]['Probability'] = [[1 / x for x in i] for i in aggregated_df_by_basin[basin]['Return Period']]\n",
    "    probabilities = aggregated_df_by_basin[basin]['Probability']\n",
    "    dmgs = []\n",
    "\n",
    "    for ts in range(len(probabilities.iloc[0])):    \n",
    "        dmgs_l = []\n",
    "        dmgs_u = []\n",
    "\n",
    "        for rp in range(len(probabilities)-1):\n",
    "            d_rp= probabilities.iloc[rp][ts] - probabilities.iloc[rp + 1][ts]\n",
    "            trap_damage_l = 0.5 * (aggregated_df_by_basin[basin]['Total Damage Lower Bound'].iloc[rp] + aggregated_df_by_basin[basin]['Total Damage Lower Bound'].iloc[rp + 1])\n",
    "            trap_damage_u = 0.5 * (aggregated_df_by_basin[basin]['Total Damage Upper Bound'].iloc[rp] + aggregated_df_by_basin[basin]['Total Damage Upper Bound'].iloc[rp + 1])\n",
    "            dmgs_l.append(d_rp * trap_damage_l)\n",
    "            dmgs_u.append(d_rp * trap_damage_u)\n",
    "        \n",
    "        # Add the portion of damages corresponding to the tails of the distribution\n",
    "        d0_rp = probabilities.iloc[-1][ts]\n",
    "        damage_l0 = max(aggregated_df_by_basin[basin]['Total Damage Lower Bound'])\n",
    "        damage_u0 = max(aggregated_df_by_basin[basin]['Total Damage Upper Bound'])\n",
    "        dmgs_l.append(d0_rp * damage_l0)\n",
    "        dmgs_u.append(d0_rp * damage_u0)\n",
    "\n",
    "        d_end_rp = (1/4)-probabilities.iloc[0][ts]\n",
    "        damage_l_end = 0.5 * min(aggregated_df_by_basin[basin]['Total Damage Lower Bound'])\n",
    "        damage_u_end = 0.5 * min(aggregated_df_by_basin[basin]['Total Damage Upper Bound'])\n",
    "        dmgs_l.append(d_end_rp * damage_l_end)\n",
    "        dmgs_u.append(d_end_rp * damage_u_end)\n",
    "\n",
    "        dmgs.append((sum(dmgs_l), sum(dmgs_u)))\n",
    "    \n",
    "    ead_by_ts_by_basin[basin] = pd.DataFrame(dmgs, columns=['Total Damage Lower Bound', 'Total Damage Upper Bound'])\n",
    "    \n",
    " \n"
   ]
  },
  {
   "cell_type": "code",
   "execution_count": 22,
   "metadata": {},
   "outputs": [
    {
     "data": {
      "image/png": "[encoded data removed]",
      "text/plain": [
       "<Figure size 2000x4000 with 64 Axes>"
      ]
     },
     "metadata": {},
     "output_type": "display_data"
    }
   ],
   "source": [
    "# Calculate the number of rows and columns based on the number of basins\n",
    "num_basins = len(ead_by_ts_by_basin)\n",
    "num_cols = int(np.ceil(np.sqrt(num_basins)))\n",
    "num_rows = int(np.ceil(num_basins / num_cols))\n",
    "\n",
    "# Create subplots with shared x-axis, the calculated number of rows and columns\n",
    "fig, axs = plt.subplots(num_rows, num_cols, figsize=(20, 5*num_rows), sharex=True, sharey=True)\n",
    "\n",
    "# Flatten axs array for easy iteration\n",
    "axs = axs.flatten()\n",
    "\n",
    "max_value = max([ead_by_ts_by_basin[basin]['Total Damage Upper Bound'].max() for basin in ead_by_ts_by_basin.keys()])\n",
    "\n",
    "for i, basin in enumerate(ead_by_ts_by_basin.keys()):\n",
    "    axs[i].fill_between(ead_by_ts_by_basin[basin].index, ead_by_ts_by_basin[basin]['Total Damage Lower Bound'], ead_by_ts_by_basin[basin]['Total Damage Upper Bound'], alpha=0.3, color='red')\n",
    "    axs[i].set_title(f'Basin {basin}')\n",
    "    axs[i].set_ylim(0, max_value)  # Set y-axis lower limit to 0 and upper limit to max_value\n",
    "\n",
    "# Hide any unused axes\n",
    "for j in range(num_basins, num_rows * num_cols):\n",
    "    axs[j].axis('off')\n",
    "\n",
    "plt.tight_layout()\n",
    "plt.suptitle('Expected Annual Damages (EAD) over time for each basin', y=1.02)\n",
    "plt.show()\n"
   ]
  },
  {
   "cell_type": "code",
   "execution_count": null,
   "metadata": {},
   "outputs": [],
   "source": []
  }
 ],
 "metadata": {
  "kernelspec": {
   "display_name": "ci_adapt_env",
   "language": "python",
   "name": "python3"
  },
  "language_info": {
   "codemirror_mode": {
    "name": "ipython",
    "version": 3
   },
   "file_extension": ".py",
   "mimetype": "text/x-python",
   "name": "python",
   "nbconvert_exporter": "python",
   "pygments_lexer": "ipython3",
   "version": "3.12.2"
  }
 },
 "nbformat": 4,
 "nbformat_minor": 2
}
